{
 "cells": [
  {
   "cell_type": "markdown",
   "metadata": {},
   "source": [
    "<h1 align=\"center\">Coffee Shop Location</h1> \n",
    "<h5 align=\"center\">by Steven Asten</h5> \n",
    "\n"
   ]
  },
  {
   "cell_type": "markdown",
   "metadata": {},
   "source": [
    "# Contents:\n",
    "1. <a href=\"#part_1\">Three Capstone Project Ideas</a>\n",
    "2. <a href=\"#part_2\">New Coffee Shop Location Proposal</a>\n",
    "3. <a href=\"#part_3\">Exploratory Data Analysis (EDA)</a>\n",
    "    - <a href=\"#import_and_structure\">Import and structure data sets</a>\n",
    "    - <a href=\"#explore_data\">Explore data</a>\n",
    "    - <a href=\"#explore_data_old\">Explore data (Old Hypotheses)</a>\n",
    "4. <a href=\"#machine_learning\">Machine Learning</a>\n",
    "    - <a href=\"#hyp_1\">Hypothesis #1</a>\n",
    "    - <a href=\"#hyp_2\">Hypothesis #2</a>\n",
    "5. <a href=\"#conclusion\">Conclusion</a>\n",
    "    "
   ]
  },
  {
   "cell_type": "markdown",
   "metadata": {},
   "source": [
    "<a id=\"part_1\"></a>"
   ]
  },
  {
   "cell_type": "markdown",
   "metadata": {},
   "source": [
    "# Part 1 - Three Capstone Project Ideas:"
   ]
  },
  {
   "cell_type": "code",
   "execution_count": 649,
   "metadata": {
    "scrolled": false
   },
   "outputs": [
    {
     "data": {
      "text/html": [
       "\n",
       "        <iframe\n",
       "            width=\"800\"\n",
       "            height=\"500\"\n",
       "            src=\"../Part1_3Ideas/steveAstenThreeIdeas.pdf\"\n",
       "            frameborder=\"0\"\n",
       "            allowfullscreen\n",
       "        ></iframe>\n",
       "        "
      ],
      "text/plain": [
       "<IPython.lib.display.IFrame at 0x1ca7397ef98>"
      ]
     },
     "execution_count": 649,
     "metadata": {},
     "output_type": "execute_result"
    }
   ],
   "source": [
    "from IPython.display import IFrame\n",
    "IFrame(\"../Part1_3Ideas/steveAstenThreeIdeas.pdf\", width=800, height=500)"
   ]
  },
  {
   "cell_type": "markdown",
   "metadata": {},
   "source": [
    "<a id=\"part_2\"></a>"
   ]
  },
  {
   "cell_type": "markdown",
   "metadata": {},
   "source": [
    "# Part 2: New coffee shop location\n",
    "#### Problem Statement: What are you trying to solve?\n",
    "Find a rental property in a location which would be suitable for a new coffee shop. Only DC metro area considered.\n",
    "\n",
    "#### Data science Hypothesis(es)/solutions considering: One or multiple angles to consider solving this problem with data science  \n",
    "- Find the location w/ the least amount of competition (other coffee shops), using Yelp dataset\n",
    "- Find an area with features that may increase foot traffic, such as other nearby shops, public transportation stops, etc.\n",
    "\n",
    "#### Data sets to be used: Share the links and files, .csvs, .js, .xlsx, .txt, website URLs\n",
    "- [Yelp Dataset](https://www.yelp.com/dataset)\n",
    "- [2016 ACS 1-year estimates; Age and Sex](Part2_Proposal/DatasetsForProject/sex_and_age/)\n",
    "    - This dataset might change or be expanded to include more data; currently the intention is to use it for population data. The data came from [factfinder.census.gov](https://factfinder.census.gov/faces/nav/jsf/pages/download_center.xhtml).\n",
    "\n",
    "#### Data dictionaries to describe the data types youâ€™re using: write these out in markdown as tables \n",
    "- Yelp Dataset - business.json\n",
    "\n",
    "|Data ID      |Data Type|Data Description                                                           |\n",
    "|-------------|:-------:|---------------------------------------------------------------------------|\n",
    "|business_id  |String   |22 character unique string business id                                     |\n",
    "|name         |String   |the business's name                                                        |\n",
    "|neighborhood |String   |the neighborhood's name                                                    |\n",
    "|address      |String   |the full address of the business                                           |\n",
    "|city         |String   |the city                                                                   |\n",
    "|state        |String   |2 character state code, if applicable                                      |\n",
    "|postal code  |String   |the postal code                                                            |\n",
    "|latitude     |Float    |latitude                                                                   |\n",
    "|longitude    |Float    |longitude                                                                  |\n",
    "|stars        |Float    |star rating, rounded to half-stars                                         |\n",
    "|review_count |Integer  |number of reviews                                                          |\n",
    "|is_open      |Integer  |0 or 1 for closed or open, respectively                                    |\n",
    "|attributes   |Object(?)|business attributes to values. note: some attribute values might be objects|\n",
    "|categories   |Array(?) |an array of strings of business categories                                 |\n",
    "|hours        |Object(?)|key day to value hours, hours are using a 24hr clock                       |\n",
    "\n",
    "\n",
    "- 2016 ACS Age and Sex table (might not use this)\n",
    "\n",
    "|Data ID|Data Type|Data Description|\n",
    "|-----------------|:-----:|-------------------------------------|\n",
    "|GEO.id           |String |ID                                   |\n",
    "|GEO.id2          |String |ID                                   |\n",
    "|GEO.display-label|String |Display label in format County, State|\n",
    "|HC01_EST_VC01    |Integer|Estimated total population           |\n",
    "\n",
    "#### Potential business cases relative to project: how would this help businesses out to make money or save money or improve accuracy or make better products?\n",
    "This project will allow expanding coffee-shop franchises, as well as entrepreneurs breaking into the coffee shop industry, to find a suitable location for a new coffee shop. By using this analysis, coffee shop owners can avoid opening coffee shops in non-suitable areas, resulting in large savings in capital. Opening a coffee shop in a thriving and expanding area with less competition should also result in higher profits.\n",
    "\n",
    "#### Potential stakeholders who would find this interesting: who would be your ideal customer or client for this?\n",
    "Seeing as large franchises like Starbucks already have software which executes this analysis, the ideal customer for this project would be small business owners and prospective entrepreneurs.\n",
    "\n",
    "#### Potential places to share your results post project (client, world, website, blog)\n",
    "At this time, I believe the most beneficial method of sharing these results would be through a blog post that would allow the user to reproduce the analysis for different areas (since this will only cover the DC metro area)."
   ]
  },
  {
   "cell_type": "markdown",
   "metadata": {},
   "source": [
    "<a id=\"part_3\"></a>"
   ]
  },
  {
   "cell_type": "markdown",
   "metadata": {},
   "source": [
    "# Part 3: Exploratory Data Analysis"
   ]
  },
  {
   "cell_type": "markdown",
   "metadata": {},
   "source": [
    "<a id=\"import_and_structure\"></a>"
   ]
  },
  {
   "cell_type": "markdown",
   "metadata": {},
   "source": [
    "# Import data files and save as dataframes."
   ]
  },
  {
   "cell_type": "code",
   "execution_count": 1,
   "metadata": {
    "collapsed": true
   },
   "outputs": [],
   "source": [
    "import pandas as pd\n",
    "from matplotlib import pyplot as plt\n",
    "\n",
    "%matplotlib inline"
   ]
  },
  {
   "cell_type": "markdown",
   "metadata": {},
   "source": [
    "<a id=\"import_zip\"></a>\n",
    "### Import zip_codes file (which contains all zip codes in dc-metro) into a python list."
   ]
  },
  {
   "cell_type": "code",
   "execution_count": 2,
   "metadata": {
    "collapsed": true
   },
   "outputs": [],
   "source": [
    "import csv\n",
    "with open('./data/zip_codes.csv', 'r') as f:\n",
    "    reader = csv.reader(f)\n",
    "    zip_codes = list(reader)\n",
    "    \n",
    "# convert list of lists attained from csv.reader to single flat list\n",
    "zip_codes_flat = [item for sublist in zip_codes for item in sublist]"
   ]
  },
  {
   "cell_type": "markdown",
   "metadata": {},
   "source": [
    "<a id=\"import_acs\"></a>\n",
    "### Import ACS Datasets"
   ]
  },
  {
   "cell_type": "code",
   "execution_count": 591,
   "metadata": {},
   "outputs": [
    {
     "data": {
      "text/plain": [
       "zip_code          int64\n",
       "estimate_total    int64\n",
       "dtype: object"
      ]
     },
     "execution_count": 591,
     "metadata": {},
     "output_type": "execute_result"
    }
   ],
   "source": [
    "# create dataframe with 2015 & 2016 data to compare for change in population\n",
    "popul2016_df = pd.read_csv('./data/ACS_16_5YR_B01003_with_ann.csv', names=('zip_code', 'estimate_total'), skiprows=1)\n",
    "popul2016_df = popul2016_df[popul2016_df.zip_code.isin(zip_codes_flat)]\n",
    "popul2016_df.dtypes"
   ]
  },
  {
   "cell_type": "code",
   "execution_count": 592,
   "metadata": {
    "scrolled": true
   },
   "outputs": [],
   "source": [
    "popul2016_df['zip_code'] = popul2016_df['zip_code'].astype(str)"
   ]
  },
  {
   "cell_type": "code",
   "execution_count": 593,
   "metadata": {
    "collapsed": true
   },
   "outputs": [],
   "source": [
    "zipfeatures_df = pd.read_csv('./data/ACS_15_5YR_B01002_with_ann.csv', names=('zip_code', 'median_age', 'mean_income', 'percent_public_transport'), skiprows=2)\n",
    "zipfeatures_df['zip_code'] = zipfeatures_df['zip_code'].astype(str)"
   ]
  },
  {
   "cell_type": "code",
   "execution_count": 594,
   "metadata": {},
   "outputs": [],
   "source": [
    "zipfeatures_df = popul2016_df.merge(zipfeatures_df, on='zip_code')"
   ]
  },
  {
   "cell_type": "code",
   "execution_count": 595,
   "metadata": {},
   "outputs": [],
   "source": [
    "zipfeatures_df['median_age'] = pd.to_numeric(zipfeatures_df['median_age'], errors='coerce')\n",
    "zipfeatures_df['mean_income'] = pd.to_numeric(zipfeatures_df['mean_income'], errors='coerce')\n",
    "zipfeatures_df['percent_public_transport'] = pd.to_numeric(zipfeatures_df['percent_public_transport'], errors='coerce')"
   ]
  },
  {
   "cell_type": "code",
   "execution_count": 596,
   "metadata": {},
   "outputs": [
    {
     "data": {
      "text/plain": [
       "zip_code                     object\n",
       "estimate_total                int64\n",
       "median_age                  float64\n",
       "mean_income                 float64\n",
       "percent_public_transport    float64\n",
       "dtype: object"
      ]
     },
     "execution_count": 596,
     "metadata": {},
     "output_type": "execute_result"
    }
   ],
   "source": [
    "zipfeatures_df.dtypes"
   ]
  },
  {
   "cell_type": "markdown",
   "metadata": {},
   "source": [
    "<a id=\"yelp_api\"></a>\n",
    "### Import Yelp dataset/call Yelp API.\n",
    "    - After importing the dataset I found it to be missing all data from DC area (maybe corrupted file?), so I chose to use  Yelp API.\n",
    "#### Note: <font color=Red>Don't run this code. Outputted, cleaned dataframe saved to file below and re-imported in the next section. I've marked where to begin running in red below.</font>"
   ]
  },
  {
   "cell_type": "code",
   "execution_count": 7,
   "metadata": {
    "collapsed": true
   },
   "outputs": [],
   "source": [
    "# businesses = pd.read_json('./data/business.json', lines=True)\n",
    "# businesses.shape\n",
    "# businesses.dtypes\n",
    "# businesses.head()\n",
    "# businesses[businesses.city.isin(zip_codes_flat)]"
   ]
  },
  {
   "cell_type": "code",
   "execution_count": 8,
   "metadata": {
    "collapsed": true,
    "scrolled": false
   },
   "outputs": [],
   "source": [
    "# This takes a very long time to run (calls the API 1200ish times; 10 minutes on my PC)\n",
    "# Query the yelp api for each zip code in the DC metro area\n",
    "# Since Yelp limit is 50 for businesses returned, we need to loop through pages of 50 using offsets\n",
    "\n",
    "import requests\n",
    "\n",
    "url = \"https://api.yelp.com/v3/businesses/search\"\n",
    "\n",
    "dict_responses = {}\n",
    "# for each zip code, gather up to 1001 businesses (should be enough for all businesses in each zip)\n",
    "for i in zip_codes_flat:\n",
    "    j = 1\n",
    "    while j <= 1001:\n",
    "        querystring = {'location': i, 'limit':50, 'offset':j}\n",
    "\n",
    "        headers = {\n",
    "            'authorization': #insert api key,\n",
    "            'cache-control': \"no-cache\",\n",
    "            }\n",
    "\n",
    "        response = requests.request(\"GET\", url, headers=headers, params=querystring)\n",
    "\n",
    "        response_todict = response.json()\n",
    "        try:\n",
    "            response_todict[str(int(i)+int(j))] = response_todict.pop('businesses')\n",
    "        except:\n",
    "            j = 1002\n",
    "        else:    \n",
    "            dict_responses.update(response_todict)\n",
    "            j = j + 50"
   ]
  },
  {
   "cell_type": "code",
   "execution_count": 9,
   "metadata": {
    "collapsed": true
   },
   "outputs": [],
   "source": [
    "# Clean up the response from the api\n",
    "\n",
    "list_of_businesses = []\n",
    "\n",
    "for key, item in dict_responses.items():\n",
    "    list_of_businesses.append(item)\n",
    "\n",
    "del(list_of_businesses[0:2])\n",
    "\n",
    "# more cleanup; list is currently list of lists of dictionaries due to how api was called\n",
    "# convert to just list of dictionaries\n",
    "\n",
    "list_of_businesses_formatting = []\n",
    "\n",
    "for i in list_of_businesses:\n",
    "    for j in i:\n",
    "        list_of_businesses_formatting.append(j)"
   ]
  },
  {
   "cell_type": "markdown",
   "metadata": {},
   "source": [
    "#### I need to normalize the json data so that each data point is in its own column."
   ]
  },
  {
   "cell_type": "code",
   "execution_count": 10,
   "metadata": {
    "collapsed": true
   },
   "outputs": [],
   "source": [
    "# Change formatting of categories column to only include \"title\", not \"alias\" (makes normalization easier)\n",
    "for idx, val in enumerate(list_of_businesses_formatting):\n",
    "    list_categories = []\n",
    "    for idx2, val2 in enumerate(val['categories']):\n",
    "        list_categories.append(list_of_businesses_formatting[idx]['categories'][idx2]['title'])\n",
    "    val['categories'] = list_categories"
   ]
  },
  {
   "cell_type": "code",
   "execution_count": 11,
   "metadata": {
    "collapsed": true
   },
   "outputs": [],
   "source": [
    "# This isn't technically normalized all the way since categories still has multiple values.\n",
    "# Good enough for analysis I need\n",
    "from pandas.io.json import json_normalize\n",
    "businesses_df = json_normalize(list_of_businesses_formatting)"
   ]
  },
  {
   "cell_type": "code",
   "execution_count": 12,
   "metadata": {
    "scrolled": false
   },
   "outputs": [
    {
     "data": {
      "text/html": [
       "<div>\n",
       "<style>\n",
       "    .dataframe thead tr:only-child th {\n",
       "        text-align: right;\n",
       "    }\n",
       "\n",
       "    .dataframe thead th {\n",
       "        text-align: left;\n",
       "    }\n",
       "\n",
       "    .dataframe tbody tr th {\n",
       "        vertical-align: top;\n",
       "    }\n",
       "</style>\n",
       "<table border=\"1\" class=\"dataframe\">\n",
       "  <thead>\n",
       "    <tr style=\"text-align: right;\">\n",
       "      <th></th>\n",
       "      <th>alias</th>\n",
       "      <th>categories</th>\n",
       "      <th>coordinates.latitude</th>\n",
       "      <th>coordinates.longitude</th>\n",
       "      <th>display_phone</th>\n",
       "      <th>distance</th>\n",
       "      <th>id</th>\n",
       "      <th>image_url</th>\n",
       "      <th>is_closed</th>\n",
       "      <th>location.address1</th>\n",
       "      <th>...</th>\n",
       "      <th>location.display_address</th>\n",
       "      <th>location.state</th>\n",
       "      <th>location.zip_code</th>\n",
       "      <th>name</th>\n",
       "      <th>phone</th>\n",
       "      <th>price</th>\n",
       "      <th>rating</th>\n",
       "      <th>review_count</th>\n",
       "      <th>transactions</th>\n",
       "      <th>url</th>\n",
       "    </tr>\n",
       "  </thead>\n",
       "  <tbody>\n",
       "    <tr>\n",
       "      <th>0</th>\n",
       "      <td>old-ebbitt-grill-washington</td>\n",
       "      <td>[Bars, American (Traditional), Breakfast &amp; Bru...</td>\n",
       "      <td>38.898005</td>\n",
       "      <td>-77.033362</td>\n",
       "      <td>(202) 347-4800</td>\n",
       "      <td>1428.775801</td>\n",
       "      <td>iyBbcXtQSBfiwFQZwVBNaQ</td>\n",
       "      <td>https://s3-media2.fl.yelpcdn.com/bphoto/KBCezp...</td>\n",
       "      <td>False</td>\n",
       "      <td>675 15th St NW</td>\n",
       "      <td>...</td>\n",
       "      <td>[675 15th St NW, Washington, DC 20005]</td>\n",
       "      <td>DC</td>\n",
       "      <td>20005</td>\n",
       "      <td>Old Ebbitt Grill</td>\n",
       "      <td>+12023474800</td>\n",
       "      <td>$$</td>\n",
       "      <td>4.0</td>\n",
       "      <td>6544</td>\n",
       "      <td>[]</td>\n",
       "      <td>https://www.yelp.com/biz/old-ebbitt-grill-wash...</td>\n",
       "    </tr>\n",
       "    <tr>\n",
       "      <th>1</th>\n",
       "      <td>a-baked-joint-washington-9</td>\n",
       "      <td>[Coffee &amp; Tea, Breakfast &amp; Brunch, Sandwiches]</td>\n",
       "      <td>38.902411</td>\n",
       "      <td>-77.017139</td>\n",
       "      <td>(202) 408-6985</td>\n",
       "      <td>547.273915</td>\n",
       "      <td>SpCeYPhky4gsWa9-IBtw2A</td>\n",
       "      <td>https://s3-media1.fl.yelpcdn.com/bphoto/iTBw1K...</td>\n",
       "      <td>False</td>\n",
       "      <td>440 K St NW</td>\n",
       "      <td>...</td>\n",
       "      <td>[440 K St NW, Washington, DC 20001]</td>\n",
       "      <td>DC</td>\n",
       "      <td>20001</td>\n",
       "      <td>A Baked Joint</td>\n",
       "      <td>+12024086985</td>\n",
       "      <td>$</td>\n",
       "      <td>4.5</td>\n",
       "      <td>1218</td>\n",
       "      <td>[]</td>\n",
       "      <td>https://www.yelp.com/biz/a-baked-joint-washing...</td>\n",
       "    </tr>\n",
       "  </tbody>\n",
       "</table>\n",
       "<p>2 rows × 24 columns</p>\n",
       "</div>"
      ],
      "text/plain": [
       "                         alias  \\\n",
       "0  old-ebbitt-grill-washington   \n",
       "1   a-baked-joint-washington-9   \n",
       "\n",
       "                                          categories  coordinates.latitude  \\\n",
       "0  [Bars, American (Traditional), Breakfast & Bru...             38.898005   \n",
       "1     [Coffee & Tea, Breakfast & Brunch, Sandwiches]             38.902411   \n",
       "\n",
       "   coordinates.longitude   display_phone     distance                      id  \\\n",
       "0             -77.033362  (202) 347-4800  1428.775801  iyBbcXtQSBfiwFQZwVBNaQ   \n",
       "1             -77.017139  (202) 408-6985   547.273915  SpCeYPhky4gsWa9-IBtw2A   \n",
       "\n",
       "                                           image_url  is_closed  \\\n",
       "0  https://s3-media2.fl.yelpcdn.com/bphoto/KBCezp...      False   \n",
       "1  https://s3-media1.fl.yelpcdn.com/bphoto/iTBw1K...      False   \n",
       "\n",
       "  location.address1                        ...                          \\\n",
       "0    675 15th St NW                        ...                           \n",
       "1       440 K St NW                        ...                           \n",
       "\n",
       "                 location.display_address location.state location.zip_code  \\\n",
       "0  [675 15th St NW, Washington, DC 20005]             DC             20005   \n",
       "1     [440 K St NW, Washington, DC 20001]             DC             20001   \n",
       "\n",
       "               name         phone price rating review_count transactions  \\\n",
       "0  Old Ebbitt Grill  +12023474800    $$    4.0         6544           []   \n",
       "1     A Baked Joint  +12024086985     $    4.5         1218           []   \n",
       "\n",
       "                                                 url  \n",
       "0  https://www.yelp.com/biz/old-ebbitt-grill-wash...  \n",
       "1  https://www.yelp.com/biz/a-baked-joint-washing...  \n",
       "\n",
       "[2 rows x 24 columns]"
      ]
     },
     "execution_count": 12,
     "metadata": {},
     "output_type": "execute_result"
    }
   ],
   "source": [
    "businesses_df.head(2)"
   ]
  },
  {
   "cell_type": "markdown",
   "metadata": {},
   "source": [
    "#### My looping api call technique resulted in many duplicates, as we examine and fix below (id is unique)."
   ]
  },
  {
   "cell_type": "code",
   "execution_count": 13,
   "metadata": {},
   "outputs": [
    {
     "data": {
      "text/plain": [
       "SvjE3q-uYpyjqYKh714IPw    16\n",
       "ynuv5y74SB2gEXFPjMYb_Q    16\n",
       "F6jgtkBLdyjHYhDO79Z1lA    16\n",
       "hrWvnULW3ragGALYVEAybA    16\n",
       "S0WNMOKJ5c3NXuC_-7lE2Q    14\n",
       "Name: id, dtype: int64"
      ]
     },
     "execution_count": 13,
     "metadata": {},
     "output_type": "execute_result"
    }
   ],
   "source": [
    "businesses_df.id.value_counts().head()"
   ]
  },
  {
   "cell_type": "code",
   "execution_count": 14,
   "metadata": {
    "collapsed": true
   },
   "outputs": [],
   "source": [
    "businesses_df.drop_duplicates(subset='id', inplace=True)"
   ]
  },
  {
   "cell_type": "code",
   "execution_count": 15,
   "metadata": {},
   "outputs": [
    {
     "data": {
      "text/plain": [
       "(4222, 24)"
      ]
     },
     "execution_count": 15,
     "metadata": {},
     "output_type": "execute_result"
    }
   ],
   "source": [
    "businesses_df.shape"
   ]
  },
  {
   "cell_type": "markdown",
   "metadata": {},
   "source": [
    "#### Now I will drop columns that I won't need during this project."
   ]
  },
  {
   "cell_type": "code",
   "execution_count": 16,
   "metadata": {
    "collapsed": true
   },
   "outputs": [],
   "source": [
    "businesses_df.drop(['alias',\n",
    "         'id',\n",
    "         'display_phone',\n",
    "         'distance', \n",
    "         'image_url', \n",
    "         'is_closed', \n",
    "         'location.address2', \n",
    "         'location.address3', \n",
    "         'location.display_address',\n",
    "         'phone',\n",
    "         'transactions',\n",
    "         'url'], axis=1, inplace=True)"
   ]
  },
  {
   "cell_type": "markdown",
   "metadata": {},
   "source": [
    "#### Next I'll clean up the column names."
   ]
  },
  {
   "cell_type": "code",
   "execution_count": 17,
   "metadata": {
    "collapsed": true
   },
   "outputs": [],
   "source": [
    "businesses_df.columns = ['categories', 'latitude', \n",
    "                         'longitude', 'address', \n",
    "                         'city', 'country', 'state', \n",
    "                         'zip_code', 'name', 'price', \n",
    "                         'rating', 'review_count']"
   ]
  },
  {
   "cell_type": "code",
   "execution_count": 18,
   "metadata": {
    "collapsed": true
   },
   "outputs": [],
   "source": [
    "# move name column to first position\n",
    "cols = businesses_df.columns.tolist()\n",
    "cols[0] = 'name'\n",
    "cols[8] = 'categories'\n",
    "businesses_df = businesses_df[cols]"
   ]
  },
  {
   "cell_type": "code",
   "execution_count": 19,
   "metadata": {},
   "outputs": [
    {
     "data": {
      "text/html": [
       "<div>\n",
       "<style>\n",
       "    .dataframe thead tr:only-child th {\n",
       "        text-align: right;\n",
       "    }\n",
       "\n",
       "    .dataframe thead th {\n",
       "        text-align: left;\n",
       "    }\n",
       "\n",
       "    .dataframe tbody tr th {\n",
       "        vertical-align: top;\n",
       "    }\n",
       "</style>\n",
       "<table border=\"1\" class=\"dataframe\">\n",
       "  <thead>\n",
       "    <tr style=\"text-align: right;\">\n",
       "      <th></th>\n",
       "      <th>name</th>\n",
       "      <th>latitude</th>\n",
       "      <th>longitude</th>\n",
       "      <th>address</th>\n",
       "      <th>city</th>\n",
       "      <th>country</th>\n",
       "      <th>state</th>\n",
       "      <th>zip_code</th>\n",
       "      <th>categories</th>\n",
       "      <th>price</th>\n",
       "      <th>rating</th>\n",
       "      <th>review_count</th>\n",
       "    </tr>\n",
       "  </thead>\n",
       "  <tbody>\n",
       "    <tr>\n",
       "      <th>0</th>\n",
       "      <td>Old Ebbitt Grill</td>\n",
       "      <td>38.898005</td>\n",
       "      <td>-77.033362</td>\n",
       "      <td>675 15th St NW</td>\n",
       "      <td>Washington, DC</td>\n",
       "      <td>US</td>\n",
       "      <td>DC</td>\n",
       "      <td>20005</td>\n",
       "      <td>[Bars, American (Traditional), Breakfast &amp; Bru...</td>\n",
       "      <td>$$</td>\n",
       "      <td>4.0</td>\n",
       "      <td>6544</td>\n",
       "    </tr>\n",
       "    <tr>\n",
       "      <th>1</th>\n",
       "      <td>A Baked Joint</td>\n",
       "      <td>38.902411</td>\n",
       "      <td>-77.017139</td>\n",
       "      <td>440 K St NW</td>\n",
       "      <td>Washington, DC</td>\n",
       "      <td>US</td>\n",
       "      <td>DC</td>\n",
       "      <td>20001</td>\n",
       "      <td>[Coffee &amp; Tea, Breakfast &amp; Brunch, Sandwiches]</td>\n",
       "      <td>$</td>\n",
       "      <td>4.5</td>\n",
       "      <td>1218</td>\n",
       "    </tr>\n",
       "    <tr>\n",
       "      <th>2</th>\n",
       "      <td>Le Diplomate</td>\n",
       "      <td>38.911359</td>\n",
       "      <td>-77.031575</td>\n",
       "      <td>1601 14th St NW</td>\n",
       "      <td>Washington, DC</td>\n",
       "      <td>US</td>\n",
       "      <td>DC</td>\n",
       "      <td>20009</td>\n",
       "      <td>[Brasseries, French, Cafes]</td>\n",
       "      <td>$$$</td>\n",
       "      <td>4.0</td>\n",
       "      <td>2449</td>\n",
       "    </tr>\n",
       "    <tr>\n",
       "      <th>3</th>\n",
       "      <td>Rasika</td>\n",
       "      <td>38.895008</td>\n",
       "      <td>-77.021286</td>\n",
       "      <td>633 D St NW</td>\n",
       "      <td>Washington, DC</td>\n",
       "      <td>US</td>\n",
       "      <td>DC</td>\n",
       "      <td>20004</td>\n",
       "      <td>[Indian]</td>\n",
       "      <td>$$$</td>\n",
       "      <td>4.5</td>\n",
       "      <td>2633</td>\n",
       "    </tr>\n",
       "    <tr>\n",
       "      <th>4</th>\n",
       "      <td>Matchbox - Chinatown</td>\n",
       "      <td>38.900050</td>\n",
       "      <td>-77.022540</td>\n",
       "      <td>713 H St NW</td>\n",
       "      <td>Washington, DC</td>\n",
       "      <td>US</td>\n",
       "      <td>DC</td>\n",
       "      <td>20001</td>\n",
       "      <td>[Pizza, American (New)]</td>\n",
       "      <td>$$</td>\n",
       "      <td>4.0</td>\n",
       "      <td>2673</td>\n",
       "    </tr>\n",
       "  </tbody>\n",
       "</table>\n",
       "</div>"
      ],
      "text/plain": [
       "                   name   latitude  longitude          address  \\\n",
       "0      Old Ebbitt Grill  38.898005 -77.033362   675 15th St NW   \n",
       "1         A Baked Joint  38.902411 -77.017139      440 K St NW   \n",
       "2          Le Diplomate  38.911359 -77.031575  1601 14th St NW   \n",
       "3                Rasika  38.895008 -77.021286      633 D St NW   \n",
       "4  Matchbox - Chinatown  38.900050 -77.022540      713 H St NW   \n",
       "\n",
       "             city country state zip_code  \\\n",
       "0  Washington, DC      US    DC    20005   \n",
       "1  Washington, DC      US    DC    20001   \n",
       "2  Washington, DC      US    DC    20009   \n",
       "3  Washington, DC      US    DC    20004   \n",
       "4  Washington, DC      US    DC    20001   \n",
       "\n",
       "                                          categories price  rating  \\\n",
       "0  [Bars, American (Traditional), Breakfast & Bru...    $$     4.0   \n",
       "1     [Coffee & Tea, Breakfast & Brunch, Sandwiches]     $     4.5   \n",
       "2                        [Brasseries, French, Cafes]   $$$     4.0   \n",
       "3                                           [Indian]   $$$     4.5   \n",
       "4                            [Pizza, American (New)]    $$     4.0   \n",
       "\n",
       "   review_count  \n",
       "0          6544  \n",
       "1          1218  \n",
       "2          2449  \n",
       "3          2633  \n",
       "4          2673  "
      ]
     },
     "execution_count": 19,
     "metadata": {},
     "output_type": "execute_result"
    }
   ],
   "source": [
    "businesses_df.head()"
   ]
  },
  {
   "cell_type": "markdown",
   "metadata": {},
   "source": [
    "#### For whatever reason the API imported some businesses outside of the queried zip codes, so I removed those quick."
   ]
  },
  {
   "cell_type": "code",
   "execution_count": 20,
   "metadata": {},
   "outputs": [
    {
     "data": {
      "text/plain": [
       "(4222, 12)"
      ]
     },
     "execution_count": 20,
     "metadata": {},
     "output_type": "execute_result"
    }
   ],
   "source": [
    "businesses_df.shape"
   ]
  },
  {
   "cell_type": "code",
   "execution_count": 21,
   "metadata": {
    "collapsed": true
   },
   "outputs": [],
   "source": [
    "businesses_df = businesses_df[businesses_df['zip_code'].isin(zip_codes_flat)]"
   ]
  },
  {
   "cell_type": "code",
   "execution_count": 22,
   "metadata": {},
   "outputs": [
    {
     "data": {
      "text/plain": [
       "(3175, 12)"
      ]
     },
     "execution_count": 22,
     "metadata": {},
     "output_type": "execute_result"
    }
   ],
   "source": [
    "businesses_df.shape"
   ]
  },
  {
   "cell_type": "markdown",
   "metadata": {},
   "source": [
    "#### Check for relevent null values"
   ]
  },
  {
   "cell_type": "code",
   "execution_count": 23,
   "metadata": {
    "scrolled": false
   },
   "outputs": [
    {
     "data": {
      "text/plain": [
       "name              0\n",
       "latitude          1\n",
       "longitude         1\n",
       "address          13\n",
       "city              0\n",
       "country           0\n",
       "state             0\n",
       "zip_code          0\n",
       "categories        0\n",
       "price           498\n",
       "rating            0\n",
       "review_count      0\n",
       "dtype: int64"
      ]
     },
     "execution_count": 23,
     "metadata": {},
     "output_type": "execute_result"
    }
   ],
   "source": [
    "businesses_df.isnull().sum()"
   ]
  },
  {
   "cell_type": "markdown",
   "metadata": {},
   "source": [
    "#### Save businesses_df to csv file for quicker use later."
   ]
  },
  {
   "cell_type": "code",
   "execution_count": 24,
   "metadata": {
    "collapsed": true
   },
   "outputs": [],
   "source": [
    "businesses_df.to_csv('./data/businesses.csv', sep='\\t')"
   ]
  },
  {
   "cell_type": "markdown",
   "metadata": {},
   "source": [
    "<a id=\"import_foursquare\"></a>\n",
    "### Import Foursquare dataset\n",
    "- These datasets are several gigabytes and were not included in the project repository due to size restrictions of github. You can find the dataset [here](https://sites.google.com/site/yangdingqi/home/foursquare-dataset)."
   ]
  },
  {
   "cell_type": "code",
   "execution_count": 59,
   "metadata": {
    "collapsed": true
   },
   "outputs": [],
   "source": [
    "foursquare_checkins_df = pd.read_csv(\"../../../dataset_TIST2015/dataset_TIST2015_Checkins.txt\", header=None, delimiter=\"\\t\")\n",
    "\n",
    "foursquare_checkins_df.drop([3], axis=1, inplace=True)\n",
    "foursquare_checkins_df.columns = ['user_id', 'venue_id', 'utc_time']"
   ]
  },
  {
   "cell_type": "code",
   "execution_count": 60,
   "metadata": {
    "collapsed": true
   },
   "outputs": [],
   "source": [
    "foursquare_poi_df = pd.read_csv(\"../../../dataset_TIST2015/dataset_TIST2015_POIs.txt\", header=None, delimiter=\"\\t\")\n",
    "\n",
    "foursquare_poi_df.columns = ['venue_id', 'latitude', 'longitude', 'venue_category', 'country']\n",
    "foursquare_poi_df = foursquare_poi_df[foursquare_poi_df['country'].isin(['US'])]"
   ]
  },
  {
   "cell_type": "code",
   "execution_count": 61,
   "metadata": {
    "collapsed": true
   },
   "outputs": [],
   "source": [
    "foursquare_merge_df = foursquare_checkins_df.merge(foursquare_poi_df, on=\"venue_id\")"
   ]
  },
  {
   "cell_type": "code",
   "execution_count": 62,
   "metadata": {
    "scrolled": true
   },
   "outputs": [
    {
     "data": {
      "text/html": [
       "<div>\n",
       "<style>\n",
       "    .dataframe thead tr:only-child th {\n",
       "        text-align: right;\n",
       "    }\n",
       "\n",
       "    .dataframe thead th {\n",
       "        text-align: left;\n",
       "    }\n",
       "\n",
       "    .dataframe tbody tr th {\n",
       "        vertical-align: top;\n",
       "    }\n",
       "</style>\n",
       "<table border=\"1\" class=\"dataframe\">\n",
       "  <thead>\n",
       "    <tr style=\"text-align: right;\">\n",
       "      <th></th>\n",
       "      <th>user_id</th>\n",
       "      <th>venue_id</th>\n",
       "      <th>utc_time</th>\n",
       "      <th>latitude</th>\n",
       "      <th>longitude</th>\n",
       "      <th>venue_category</th>\n",
       "      <th>country</th>\n",
       "    </tr>\n",
       "  </thead>\n",
       "  <tbody>\n",
       "    <tr>\n",
       "      <th>0</th>\n",
       "      <td>221021</td>\n",
       "      <td>4a85b1b3f964a520eefe1fe3</td>\n",
       "      <td>Tue Apr 03 18:00:08 +0000 2012</td>\n",
       "      <td>40.748939</td>\n",
       "      <td>-73.99228</td>\n",
       "      <td>Coffee Shop</td>\n",
       "      <td>US</td>\n",
       "    </tr>\n",
       "    <tr>\n",
       "      <th>1</th>\n",
       "      <td>89453</td>\n",
       "      <td>4a85b1b3f964a520eefe1fe3</td>\n",
       "      <td>Tue Apr 24 22:53:57 +0000 2012</td>\n",
       "      <td>40.748939</td>\n",
       "      <td>-73.99228</td>\n",
       "      <td>Coffee Shop</td>\n",
       "      <td>US</td>\n",
       "    </tr>\n",
       "    <tr>\n",
       "      <th>2</th>\n",
       "      <td>206753</td>\n",
       "      <td>4a85b1b3f964a520eefe1fe3</td>\n",
       "      <td>Thu May 03 16:20:48 +0000 2012</td>\n",
       "      <td>40.748939</td>\n",
       "      <td>-73.99228</td>\n",
       "      <td>Coffee Shop</td>\n",
       "      <td>US</td>\n",
       "    </tr>\n",
       "    <tr>\n",
       "      <th>3</th>\n",
       "      <td>114526</td>\n",
       "      <td>4a85b1b3f964a520eefe1fe3</td>\n",
       "      <td>Wed May 09 23:09:45 +0000 2012</td>\n",
       "      <td>40.748939</td>\n",
       "      <td>-73.99228</td>\n",
       "      <td>Coffee Shop</td>\n",
       "      <td>US</td>\n",
       "    </tr>\n",
       "    <tr>\n",
       "      <th>4</th>\n",
       "      <td>86634</td>\n",
       "      <td>4a85b1b3f964a520eefe1fe3</td>\n",
       "      <td>Tue May 22 13:31:13 +0000 2012</td>\n",
       "      <td>40.748939</td>\n",
       "      <td>-73.99228</td>\n",
       "      <td>Coffee Shop</td>\n",
       "      <td>US</td>\n",
       "    </tr>\n",
       "  </tbody>\n",
       "</table>\n",
       "</div>"
      ],
      "text/plain": [
       "   user_id                  venue_id                        utc_time  \\\n",
       "0   221021  4a85b1b3f964a520eefe1fe3  Tue Apr 03 18:00:08 +0000 2012   \n",
       "1    89453  4a85b1b3f964a520eefe1fe3  Tue Apr 24 22:53:57 +0000 2012   \n",
       "2   206753  4a85b1b3f964a520eefe1fe3  Thu May 03 16:20:48 +0000 2012   \n",
       "3   114526  4a85b1b3f964a520eefe1fe3  Wed May 09 23:09:45 +0000 2012   \n",
       "4    86634  4a85b1b3f964a520eefe1fe3  Tue May 22 13:31:13 +0000 2012   \n",
       "\n",
       "    latitude  longitude venue_category country  \n",
       "0  40.748939  -73.99228    Coffee Shop      US  \n",
       "1  40.748939  -73.99228    Coffee Shop      US  \n",
       "2  40.748939  -73.99228    Coffee Shop      US  \n",
       "3  40.748939  -73.99228    Coffee Shop      US  \n",
       "4  40.748939  -73.99228    Coffee Shop      US  "
      ]
     },
     "execution_count": 62,
     "metadata": {},
     "output_type": "execute_result"
    }
   ],
   "source": [
    "foursquare_merge_df.head()"
   ]
  },
  {
   "cell_type": "code",
   "execution_count": 63,
   "metadata": {},
   "outputs": [
    {
     "data": {
      "text/plain": [
       "(3564144, 7)"
      ]
     },
     "execution_count": 63,
     "metadata": {},
     "output_type": "execute_result"
    }
   ],
   "source": [
    "foursquare_merge_df.shape"
   ]
  },
  {
   "cell_type": "markdown",
   "metadata": {},
   "source": [
    "#### Now I want to pull out the the users who visited a coffee shop at least once. I'll create a new column called \"coffee_shop_bin\". If the user visited a coffee shop on the selected day, all rows for that day will be set to 1. Else, 0. Later I'll use this in my models to predict where people are coming from when they go to a coffee shop.\n",
    "- I'll overwrite the same DF to cut down on memory usage..."
   ]
  },
  {
   "cell_type": "code",
   "execution_count": 64,
   "metadata": {
    "collapsed": true
   },
   "outputs": [],
   "source": [
    "# reduce the dataframe to include only users who have visited a coffee shop\n",
    "coffee_drinkers = foursquare_merge_df[foursquare_merge_df.venue_category.isin(['Coffee Shop'])].user_id.unique().tolist()\n",
    "foursquare_merge_df = foursquare_merge_df[foursquare_merge_df.user_id.isin(coffee_drinkers)]"
   ]
  },
  {
   "cell_type": "code",
   "execution_count": 65,
   "metadata": {},
   "outputs": [
    {
     "data": {
      "text/plain": [
       "(2439117, 7)"
      ]
     },
     "execution_count": 65,
     "metadata": {},
     "output_type": "execute_result"
    }
   ],
   "source": [
    "foursquare_merge_df.shape"
   ]
  },
  {
   "cell_type": "code",
   "execution_count": 66,
   "metadata": {},
   "outputs": [
    {
     "data": {
      "text/plain": [
       "user_id                    int64\n",
       "venue_id                  object\n",
       "utc_time          datetime64[ns]\n",
       "latitude                 float64\n",
       "longitude                float64\n",
       "venue_category            object\n",
       "country                   object\n",
       "dtype: object"
      ]
     },
     "execution_count": 66,
     "metadata": {},
     "output_type": "execute_result"
    }
   ],
   "source": [
    "# convert utc_time to datetime object, takes 5-10 minutes\n",
    "foursquare_merge_df['utc_time'] = pd.to_datetime(foursquare_merge_df['utc_time'], infer_datetime_format=True)\n",
    "foursquare_merge_df.dtypes"
   ]
  },
  {
   "cell_type": "code",
   "execution_count": 67,
   "metadata": {},
   "outputs": [
    {
     "name": "stderr",
     "output_type": "stream",
     "text": [
      "C:\\Users\\Steven\\Anaconda3\\lib\\site-packages\\ipykernel_launcher.py:8: SettingWithCopyWarning: \n",
      "A value is trying to be set on a copy of a slice from a DataFrame.\n",
      "Try using .loc[row_indexer,col_indexer] = value instead\n",
      "\n",
      "See the caveats in the documentation: http://pandas.pydata.org/pandas-docs/stable/indexing.html#indexing-view-versus-copy\n",
      "  \n",
      "C:\\Users\\Steven\\Anaconda3\\lib\\site-packages\\ipykernel_launcher.py:11: SettingWithCopyWarning: \n",
      "A value is trying to be set on a copy of a slice from a DataFrame.\n",
      "Try using .loc[row_indexer,col_indexer] = value instead\n",
      "\n",
      "See the caveats in the documentation: http://pandas.pydata.org/pandas-docs/stable/indexing.html#indexing-view-versus-copy\n",
      "  # This is added back by InteractiveShellApp.init_path()\n"
     ]
    }
   ],
   "source": [
    "# this is super inefficient, but shouldn't need to be run again. took approx. 20 minutes.\n",
    "# groups df by user id, month, day, then checks each group for coffee shop visits\n",
    "grouped_foursquare = foursquare_merge_df.groupby([foursquare_merge_df.user_id, \n",
    "                                                   foursquare_merge_df.utc_time.dt.month, \n",
    "                                                   foursquare_merge_df.utc_time.dt.day])\n",
    "# if group contains a coffee shop check-in, set all values of coffee_shop_bin in that group to yes\n",
    "grouped_foursquare_true = grouped_foursquare.filter(lambda x: x['venue_category'].str.contains('Coffee').any())\n",
    "grouped_foursquare_true['coffee_shop_bin'] = 1\n",
    "# if group does not contain a coffee shop check-in, set all values of coffee_shop_bin in that group to yes\n",
    "grouped_foursquare_false = grouped_foursquare.filter(lambda x: ~x['venue_category'].str.contains('Coffee').any())\n",
    "grouped_foursquare_false['coffee_shop_bin'] = 0\n",
    "\n",
    "# re-combine the true and false datasets\n",
    "grouped_foursquare = grouped_foursquare_true.append(grouped_foursquare_false, ignore_index=True)"
   ]
  },
  {
   "cell_type": "code",
   "execution_count": 68,
   "metadata": {
    "scrolled": true
   },
   "outputs": [
    {
     "name": "stdout",
     "output_type": "stream",
     "text": [
      "Full data: (2439117, 7)\n",
      "Checkins from days w/ coffee shop visits: (309677, 8)\n",
      "Checkins from days w/out coffee shop visits: (2129440, 8)\n",
      "Data after concat: (2439117, 8)\n"
     ]
    }
   ],
   "source": [
    "# make sure we didn't lose any data\n",
    "print(\"Full data: \" + str(foursquare_merge_df.shape))\n",
    "print(\"Checkins from days w/ coffee shop visits: \" + str(grouped_foursquare_true.shape))\n",
    "print(\"Checkins from days w/out coffee shop visits: \" + str(grouped_foursquare_false.shape))\n",
    "print(\"Data after concat: \" + str(grouped_foursquare.shape))"
   ]
  },
  {
   "cell_type": "markdown",
   "metadata": {},
   "source": [
    "#### Get address data from longitude and latitude.\n",
    "- I tried using geopy to get the city from the coordinates, which appears to work, but it would take 20 straight days to run all 3.5 million lines. Will explore this later. Most geolocaters also have a query limit which this would far exceed."
   ]
  },
  {
   "cell_type": "code",
   "execution_count": 18,
   "metadata": {},
   "outputs": [
    {
     "name": "stdout",
     "output_type": "stream",
     "text": [
      "10 lines: --- 10.996055603027344 seconds ---\n"
     ]
    }
   ],
   "source": [
    "from geopy.geocoders import Nominatim\n",
    "import time\n",
    "\n",
    "start_time = time.time()\n",
    "\n",
    "i=0\n",
    "for index, row in foursquare_merge_df.iterrows():\n",
    "    if i < 10:\n",
    "        coord = str(row['latitude']) + \",\" + str(row['longitude'])\n",
    "\n",
    "        geolocator = Nominatim()\n",
    "        location = geolocator.reverse(coord)\n",
    "        if \"District of Columbia\" in location.address: \n",
    "            print(location.address)\n",
    "        i+=1\n",
    "    else:\n",
    "        break\n",
    "        \n",
    "print(\"10 lines: --- %s seconds ---\" % (time.time() - start_time))\n",
    "\n",
    "# geolocator = Nominatim()\n",
    "# location = geolocator.reverse(\"38.898005, -77.033362\")\n",
    "# print(location.address)\n"
   ]
  },
  {
   "cell_type": "markdown",
   "metadata": {},
   "source": [
    "- Trying a package I found on github called reverse_geocoder to cut down on query time. This only took a few minutes to run, but unfortunately only returned high level geography (Washington, D.C)."
   ]
  },
  {
   "cell_type": "code",
   "execution_count": 69,
   "metadata": {
    "collapsed": true
   },
   "outputs": [],
   "source": [
    "import reverse_geocoder as rg\n",
    "\n",
    "coordinates = []\n",
    "for index, row in grouped_foursquare.iterrows():\n",
    "    coordinates.append((row.latitude, row.longitude))\n",
    "    \n",
    "results = rg.search(coordinates)"
   ]
  },
  {
   "cell_type": "code",
   "execution_count": 70,
   "metadata": {
    "collapsed": true
   },
   "outputs": [],
   "source": [
    "dc_bools = []\n",
    "\n",
    "for i in results:\n",
    "    result = \"D.C\" in str(i)\n",
    "    dc_bools.append(result)"
   ]
  },
  {
   "cell_type": "code",
   "execution_count": 71,
   "metadata": {},
   "outputs": [
    {
     "data": {
      "text/plain": [
       "[False, False, False, False, False]"
      ]
     },
     "execution_count": 71,
     "metadata": {},
     "output_type": "execute_result"
    }
   ],
   "source": [
    "dc_bools[0:5]"
   ]
  },
  {
   "cell_type": "code",
   "execution_count": 72,
   "metadata": {
    "collapsed": true
   },
   "outputs": [],
   "source": [
    "grouped_foursquare['check_in_dc'] = dc_bools"
   ]
  },
  {
   "cell_type": "code",
   "execution_count": 73,
   "metadata": {
    "scrolled": true
   },
   "outputs": [
    {
     "data": {
      "text/plain": [
       "False    2372042\n",
       "True       67075\n",
       "Name: check_in_dc, dtype: int64"
      ]
     },
     "execution_count": 73,
     "metadata": {},
     "output_type": "execute_result"
    }
   ],
   "source": [
    "grouped_foursquare.check_in_dc.value_counts()"
   ]
  },
  {
   "cell_type": "code",
   "execution_count": 74,
   "metadata": {
    "collapsed": true,
    "scrolled": false
   },
   "outputs": [],
   "source": [
    "grouped_foursquare = grouped_foursquare[grouped_foursquare.check_in_dc == True]\n",
    "grouped_foursquare.drop('check_in_dc', axis=1, inplace=True)"
   ]
  },
  {
   "cell_type": "markdown",
   "metadata": {},
   "source": [
    "#### I want to continue reverse geocoding to get zip codes. I'll pull in Zillow neighborhood shapefiles."
   ]
  },
  {
   "cell_type": "code",
   "execution_count": 75,
   "metadata": {
    "collapsed": true
   },
   "outputs": [],
   "source": [
    "import geopandas as gpd\n",
    "shape = gpd.read_file('data/ZillowNeighborhoods-DC.shp')"
   ]
  },
  {
   "cell_type": "code",
   "execution_count": 76,
   "metadata": {},
   "outputs": [
    {
     "data": {
      "text/html": [
       "<div>\n",
       "<style>\n",
       "    .dataframe thead tr:only-child th {\n",
       "        text-align: right;\n",
       "    }\n",
       "\n",
       "    .dataframe thead th {\n",
       "        text-align: left;\n",
       "    }\n",
       "\n",
       "    .dataframe tbody tr th {\n",
       "        vertical-align: top;\n",
       "    }\n",
       "</style>\n",
       "<table border=\"1\" class=\"dataframe\">\n",
       "  <thead>\n",
       "    <tr style=\"text-align: right;\">\n",
       "      <th></th>\n",
       "      <th>State</th>\n",
       "      <th>County</th>\n",
       "      <th>City</th>\n",
       "      <th>Name</th>\n",
       "      <th>RegionID</th>\n",
       "      <th>geometry</th>\n",
       "    </tr>\n",
       "  </thead>\n",
       "  <tbody>\n",
       "    <tr>\n",
       "      <th>0</th>\n",
       "      <td>DC</td>\n",
       "      <td>District of Columbia</td>\n",
       "      <td>Washington</td>\n",
       "      <td>Barnaby Woods</td>\n",
       "      <td>121672</td>\n",
       "      <td>POLYGON ((-77.04528160099994 38.97573291100008...</td>\n",
       "    </tr>\n",
       "    <tr>\n",
       "      <th>1</th>\n",
       "      <td>DC</td>\n",
       "      <td>District of Columbia</td>\n",
       "      <td>Washington</td>\n",
       "      <td>Bellevue</td>\n",
       "      <td>121674</td>\n",
       "      <td>POLYGON ((-77.01639139799994 38.80931882600004...</td>\n",
       "    </tr>\n",
       "    <tr>\n",
       "      <th>2</th>\n",
       "      <td>DC</td>\n",
       "      <td>District of Columbia</td>\n",
       "      <td>Washington</td>\n",
       "      <td>Benning</td>\n",
       "      <td>121675</td>\n",
       "      <td>POLYGON ((-76.95024865099992 38.88970558200003...</td>\n",
       "    </tr>\n",
       "    <tr>\n",
       "      <th>3</th>\n",
       "      <td>DC</td>\n",
       "      <td>District of Columbia</td>\n",
       "      <td>Washington</td>\n",
       "      <td>Chevy Chase</td>\n",
       "      <td>121689</td>\n",
       "      <td>POLYGON ((-77.05323999999973 38.97290000000029...</td>\n",
       "    </tr>\n",
       "    <tr>\n",
       "      <th>4</th>\n",
       "      <td>DC</td>\n",
       "      <td>District of Columbia</td>\n",
       "      <td>Washington</td>\n",
       "      <td>Dupont Park</td>\n",
       "      <td>121705</td>\n",
       "      <td>POLYGON ((-76.94706749892596 38.88285577097802...</td>\n",
       "    </tr>\n",
       "  </tbody>\n",
       "</table>\n",
       "</div>"
      ],
      "text/plain": [
       "  State                County        City           Name RegionID  \\\n",
       "0    DC  District of Columbia  Washington  Barnaby Woods   121672   \n",
       "1    DC  District of Columbia  Washington       Bellevue   121674   \n",
       "2    DC  District of Columbia  Washington        Benning   121675   \n",
       "3    DC  District of Columbia  Washington    Chevy Chase   121689   \n",
       "4    DC  District of Columbia  Washington    Dupont Park   121705   \n",
       "\n",
       "                                            geometry  \n",
       "0  POLYGON ((-77.04528160099994 38.97573291100008...  \n",
       "1  POLYGON ((-77.01639139799994 38.80931882600004...  \n",
       "2  POLYGON ((-76.95024865099992 38.88970558200003...  \n",
       "3  POLYGON ((-77.05323999999973 38.97290000000029...  \n",
       "4  POLYGON ((-76.94706749892596 38.88285577097802...  "
      ]
     },
     "execution_count": 76,
     "metadata": {},
     "output_type": "execute_result"
    }
   ],
   "source": [
    "shape.head()"
   ]
  },
  {
   "cell_type": "code",
   "execution_count": 77,
   "metadata": {},
   "outputs": [
    {
     "data": {
      "text/plain": [
       "<matplotlib.axes._subplots.AxesSubplot at 0x15752093f28>"
      ]
     },
     "execution_count": 77,
     "metadata": {},
     "output_type": "execute_result"
    },
    {
     "data": {
      "image/png": "[encoded data removed]",
      "text/plain": [
       "<matplotlib.figure.Figure at 0x157f0e639b0>"
      ]
     },
     "metadata": {},
     "output_type": "display_data"
    }
   ],
   "source": [
    "shape.plot()"
   ]
  },
  {
   "cell_type": "code",
   "execution_count": 78,
   "metadata": {
    "collapsed": true
   },
   "outputs": [],
   "source": [
    "# https://stackoverflow.com/questions/7861196/check-if-a-geopoint-with-latitude-and-longitude-is-within-a-shapefile?utm_medium=organic&utm_source=google_rich_qa&utm_campaign=google_rich_qa\n",
    "# credit to Richard\n",
    "\n",
    "import ogr\n",
    "from IPython import embed\n",
    "import sys\n",
    "\n",
    "drv = ogr.GetDriverByName('ESRI Shapefile') #We will load a shape file\n",
    "ds_in = drv.Open(\"data/ZillowNeighborhoods-DC.shp\")    #Get the contents of the shape file\n",
    "lyr_in = ds_in.GetLayer(0)    #Get the shape file's first layer\n",
    "\n",
    "#Put the title of the field you are interested in here\n",
    "idx_reg = lyr_in.GetLayerDefn().GetFieldIndex(\"name\")\n",
    "\n",
    "#If the latitude/longitude we're going to use is not in the projection\n",
    "#of the shapefile, then we will get erroneous results.\n",
    "#The following assumes that the latitude longitude is in WGS84\n",
    "#This is identified by the number \"4326\", as in \"EPSG:4326\"\n",
    "#We will create a transformation between this and the shapefile's\n",
    "#project, whatever it may be\n",
    "geo_ref = lyr_in.GetSpatialRef()\n",
    "point_ref=ogr.osr.SpatialReference()\n",
    "point_ref.ImportFromEPSG(4326)\n",
    "ctran=ogr.osr.CoordinateTransformation(point_ref,geo_ref)\n",
    "\n",
    "def check(lon,lat):\n",
    "    #Create a point\n",
    "    pt = ogr.Geometry(ogr.wkbPoint)\n",
    "    pt.SetPoint_2D(0, lon, lat)\n",
    "\n",
    "    #Set up a spatial filter such that the only features we see when we\n",
    "    #loop through \"lyr_in\" are those which overlap the point defined above\n",
    "    lyr_in.SetSpatialFilter(pt)\n",
    "\n",
    "    #Loop through the overlapped features and display the field of interest\n",
    "    for feat_in in lyr_in:\n",
    "        return feat_in.GetFieldAsString(idx_reg)"
   ]
  },
  {
   "cell_type": "code",
   "execution_count": 79,
   "metadata": {
    "collapsed": true
   },
   "outputs": [],
   "source": [
    "this_is_a_neighborhoods = []\n",
    "for index, row in grouped_foursquare.iterrows():\n",
    "    this_is_a_neighborhoods.append(check(row.longitude, row.latitude))"
   ]
  },
  {
   "cell_type": "code",
   "execution_count": 80,
   "metadata": {},
   "outputs": [
    {
     "data": {
      "text/plain": [
       "['Dupont Circle',\n",
       " 'Shaw',\n",
       " 'Shaw',\n",
       " 'Shaw',\n",
       " 'Shaw',\n",
       " 'Shaw',\n",
       " 'Capitol Hill',\n",
       " 'Downtown',\n",
       " 'Navy Yard',\n",
       " 'Navy Yard']"
      ]
     },
     "execution_count": 80,
     "metadata": {},
     "output_type": "execute_result"
    }
   ],
   "source": [
    "this_is_a_neighborhoods[0:10]"
   ]
  },
  {
   "cell_type": "code",
   "execution_count": 81,
   "metadata": {
    "collapsed": true
   },
   "outputs": [],
   "source": [
    "import csv\n",
    "with open('./data/neighborhoodsToZip.csv', 'r') as f:\n",
    "    reader = csv.reader(f)\n",
    "    conversion = dict(reader)\n",
    "del conversion['Neighborhood']"
   ]
  },
  {
   "cell_type": "code",
   "execution_count": 82,
   "metadata": {},
   "outputs": [
    {
     "data": {
      "text/plain": [
       "{'': '20001',\n",
       " 'Adams Morgan': '20009',\n",
       " 'American University Park': '20016',\n",
       " 'Arboretum': '20002',\n",
       " 'Barnaby Woods': '20015',\n",
       " 'Barry Farm': '20020',\n",
       " 'Bellevue': '20032',\n",
       " 'Benning': '20019',\n",
       " 'Benning Heights': '20019',\n",
       " 'Bloomingdale': '20017',\n",
       " 'Brentwood': '20722',\n",
       " 'Brightwood': '20011',\n",
       " 'Brightwood Park': '20011',\n",
       " 'Brookland': '20017',\n",
       " 'Buena Vista': '20020',\n",
       " 'Burleith': '20007',\n",
       " 'Burrville': '20019',\n",
       " 'Buzzard Point': '20024',\n",
       " 'Capitol Hill': '20003',\n",
       " 'Capitol View': '20020',\n",
       " 'Cardozo': '20001',\n",
       " 'Carver Langston': '20002',\n",
       " 'Cathedral Heights': '20016',\n",
       " 'Chevy Chase': '20015',\n",
       " 'Chinatown': '20001',\n",
       " 'Cleveland Park': '20008',\n",
       " 'Colonial Village': '20012',\n",
       " 'Columbia Heights': '20010',\n",
       " 'Congress Heights': '20032',\n",
       " 'Connecticut Avenue': '20036',\n",
       " 'Crestwood': '20011',\n",
       " 'Deanwood': '20019',\n",
       " 'Douglass': '20020',\n",
       " 'Downtown': '20001',\n",
       " 'Dupont Circle': '20036',\n",
       " 'Dupont Park': '20020',\n",
       " 'Eastland Gardens': '20019',\n",
       " 'Eckington': '20002',\n",
       " 'Edgewood': '20017',\n",
       " 'Fairfax Village': '20020',\n",
       " 'Fairlawn': '20020',\n",
       " 'Fairmont Heights': '20009',\n",
       " 'Foggy Bottom': '20037',\n",
       " 'Forest Hills': '20008',\n",
       " 'Fort Davis Park': '20020',\n",
       " 'Fort Dupont': '20019',\n",
       " 'Fort Lincoln': '20018',\n",
       " 'Fort McNair': '20319',\n",
       " 'Fort Stanton': '20020',\n",
       " 'Fort Totten': '20011',\n",
       " 'Foxhall Crescent': '20007',\n",
       " 'Foxhall Village': '20007',\n",
       " 'Friendship Heights': '20016',\n",
       " 'GWU': '20037',\n",
       " 'Garfield Heights': '20020',\n",
       " 'Gateway': '20018',\n",
       " 'Georgetown': '20007',\n",
       " 'Georgetown Reservoir': '20007',\n",
       " 'Glover Park': '20007',\n",
       " 'Grant Park': '20019',\n",
       " 'Greenway': '20019',\n",
       " 'Hawthorne': '20015',\n",
       " 'Hillandale': '20007',\n",
       " 'Hillbrook': '20016',\n",
       " 'Hillcrest': '20020',\n",
       " 'Historic Anacostia': '20020',\n",
       " 'Howard University': '20001',\n",
       " 'Ivy City': '20002',\n",
       " 'K Street': '20006',\n",
       " 'Kalorama Heights': '20009',\n",
       " 'Kenilworth': '20019',\n",
       " 'Kingman Park': '20002',\n",
       " 'Knox Hill': '20020',\n",
       " 'Lamond Riggs': '20011',\n",
       " 'Langdon': '20018',\n",
       " 'Lanier Heights': '20009',\n",
       " 'Le Droit Park': '20001',\n",
       " 'Lincoln Heights': '20019',\n",
       " 'Lincoln Park': '20002',\n",
       " 'Logan Circle': '20001',\n",
       " 'Mahaning Heights': '20016',\n",
       " 'Manor Park': '20011',\n",
       " 'Marshall Heights': '20019',\n",
       " 'Massachusetts Avenue Heights': '20007',\n",
       " 'Mayfair': '20019',\n",
       " 'McLean Gardens': '20016',\n",
       " 'Michigan Park': '20017',\n",
       " 'Mount Vernon Square': '20001',\n",
       " 'Mt. Pleasant': '20010',\n",
       " 'Navy Yard': '20003',\n",
       " 'Naylor Gardens': '20020',\n",
       " 'Near Southeast': '20003',\n",
       " 'NoMa': '20002',\n",
       " 'North Capitol Street': '20002',\n",
       " 'North Cleveland Park': '20008',\n",
       " 'North Michigan Park': '20017',\n",
       " 'North Portal Estates': '20012',\n",
       " 'Palisades': '20016',\n",
       " 'Park View': '20010',\n",
       " 'Penn Branch': '20019',\n",
       " 'Penn Quarter': '20004',\n",
       " 'Petworth': '20011',\n",
       " 'Pleasant Hill': '20020',\n",
       " 'Pleasant Plains': '20010',\n",
       " 'Queens Chapel': '20011',\n",
       " 'Randle Highlands': '20020',\n",
       " 'River Terrace': '20019',\n",
       " 'Shaw': '20001',\n",
       " 'Shepherd Park': '20012',\n",
       " 'Sheridan': '20011',\n",
       " 'Shipley Terrace': '20020',\n",
       " 'Southwest': '20024',\n",
       " 'Southwest Employment Area': '20024',\n",
       " 'Southwest Waterfront': '20024',\n",
       " 'Spring Valley': '20016',\n",
       " 'Stanton Park': '20002',\n",
       " 'Summit Park': '20009',\n",
       " 'Takoma': '20012',\n",
       " 'Tenleytown': '20016',\n",
       " 'Trinidad': '20002',\n",
       " 'Truxton Circle': '20017',\n",
       " 'Twining': '20020',\n",
       " 'Union Station': '20002',\n",
       " 'University Heights': '20017',\n",
       " 'Van Ness': '20008',\n",
       " 'Washington Highland': '20032',\n",
       " 'Wesley Heights': '20016',\n",
       " 'West End': '20037',\n",
       " 'Woodland': '20008',\n",
       " 'Woodland-Normanstone Terrace': '20008',\n",
       " 'Woodley Park': '20008',\n",
       " 'Woodridge': '20018'}"
      ]
     },
     "execution_count": 82,
     "metadata": {},
     "output_type": "execute_result"
    }
   ],
   "source": [
    "conversion"
   ]
  },
  {
   "cell_type": "code",
   "execution_count": 83,
   "metadata": {
    "collapsed": true
   },
   "outputs": [],
   "source": [
    "conversions = []\n",
    "for i in this_is_a_neighborhoods:\n",
    "    try:\n",
    "        conversions.append(conversion[i])\n",
    "    except KeyError:\n",
    "        conversions.append('99999')"
   ]
  },
  {
   "cell_type": "code",
   "execution_count": 84,
   "metadata": {
    "scrolled": true
   },
   "outputs": [
    {
     "name": "stdout",
     "output_type": "stream",
     "text": [
      "67075\n",
      "(67075, 8)\n"
     ]
    }
   ],
   "source": [
    "print(len(conversions))\n",
    "print(grouped_foursquare.shape)"
   ]
  },
  {
   "cell_type": "code",
   "execution_count": 85,
   "metadata": {
    "collapsed": true
   },
   "outputs": [],
   "source": [
    "grouped_foursquare['zip_code'] = conversions"
   ]
  },
  {
   "cell_type": "code",
   "execution_count": 86,
   "metadata": {
    "scrolled": true
   },
   "outputs": [
    {
     "data": {
      "text/plain": [
       "20001    19509\n",
       "99999    16804\n",
       "20036     6731\n",
       "20003     4237\n",
       "20007     3827\n",
       "20004     3296\n",
       "20002     3058\n",
       "20037     2834\n",
       "20009     2131\n",
       "20010     2120\n",
       "20008     1144\n",
       "20024      876\n",
       "20017      485\n",
       "20722       18\n",
       "20020        3\n",
       "20011        2\n",
       "Name: zip_code, dtype: int64"
      ]
     },
     "execution_count": 86,
     "metadata": {},
     "output_type": "execute_result"
    }
   ],
   "source": [
    "grouped_foursquare.zip_code.value_counts()"
   ]
  },
  {
   "cell_type": "code",
   "execution_count": 87,
   "metadata": {
    "collapsed": true
   },
   "outputs": [],
   "source": [
    "# some neighborhoods did not convert to zip code correctly. Due to time restrictions and \n",
    "# previous issues with geocoding, I'm simply going to drop them for now.\n",
    "grouped_foursquare = grouped_foursquare[grouped_foursquare.zip_code != '99999']"
   ]
  },
  {
   "cell_type": "code",
   "execution_count": 88,
   "metadata": {},
   "outputs": [
    {
     "data": {
      "text/plain": [
       "20001    19509\n",
       "20036     6731\n",
       "20003     4237\n",
       "20007     3827\n",
       "20004     3296\n",
       "20002     3058\n",
       "20037     2834\n",
       "20009     2131\n",
       "20010     2120\n",
       "20008     1144\n",
       "20024      876\n",
       "20017      485\n",
       "20722       18\n",
       "20020        3\n",
       "20011        2\n",
       "Name: zip_code, dtype: int64"
      ]
     },
     "execution_count": 88,
     "metadata": {},
     "output_type": "execute_result"
    }
   ],
   "source": [
    "grouped_foursquare.zip_code.value_counts()"
   ]
  },
  {
   "cell_type": "code",
   "execution_count": 92,
   "metadata": {},
   "outputs": [
    {
     "data": {
      "text/plain": [
       "Coffee Shop            2378\n",
       "Office                 2223\n",
       "Subway                 2043\n",
       "American Restaurant    1844\n",
       "Bar                    1804\n",
       "Name: venue_category, dtype: int64"
      ]
     },
     "execution_count": 92,
     "metadata": {},
     "output_type": "execute_result"
    }
   ],
   "source": [
    "grouped_foursquare.venue_category.value_counts().head()"
   ]
  },
  {
   "cell_type": "markdown",
   "metadata": {},
   "source": [
    "#### Export the altered dataframe into a file for later use"
   ]
  },
  {
   "cell_type": "code",
   "execution_count": 25,
   "metadata": {
    "collapsed": true
   },
   "outputs": [],
   "source": [
    "grouped_foursquare.to_csv('./data/foursquare.csv', sep='\\t')"
   ]
  },
  {
   "cell_type": "markdown",
   "metadata": {},
   "source": [
    "<a id=\"reimport_data\"></a>\n",
    "## Import cleaned datasets\n",
    "#### <font color=Red>Start running here to import cleaned dataframes; reading dataframes into memory and re-converting datatypes</font>"
   ]
  },
  {
   "cell_type": "code",
   "execution_count": 597,
   "metadata": {},
   "outputs": [
    {
     "data": {
      "text/plain": [
       "name             object\n",
       "latitude        float64\n",
       "longitude       float64\n",
       "address          object\n",
       "city             object\n",
       "country          object\n",
       "state            object\n",
       "zip_code          int64\n",
       "categories       object\n",
       "price            object\n",
       "rating          float64\n",
       "review_count      int64\n",
       "dtype: object"
      ]
     },
     "execution_count": 597,
     "metadata": {},
     "output_type": "execute_result"
    }
   ],
   "source": [
    "businesses_df = pd.read_csv('./data/businesses.csv', sep=\"\\t\", index_col=0, encoding='latin-1')\n",
    "businesses_df.dtypes"
   ]
  },
  {
   "cell_type": "code",
   "execution_count": 598,
   "metadata": {
    "collapsed": true
   },
   "outputs": [],
   "source": [
    "businesses_df['zip_code'] = businesses_df['zip_code'].astype(str)"
   ]
  },
  {
   "cell_type": "code",
   "execution_count": 599,
   "metadata": {},
   "outputs": [
    {
     "data": {
      "text/html": [
       "<div>\n",
       "<style>\n",
       "    .dataframe thead tr:only-child th {\n",
       "        text-align: right;\n",
       "    }\n",
       "\n",
       "    .dataframe thead th {\n",
       "        text-align: left;\n",
       "    }\n",
       "\n",
       "    .dataframe tbody tr th {\n",
       "        vertical-align: top;\n",
       "    }\n",
       "</style>\n",
       "<table border=\"1\" class=\"dataframe\">\n",
       "  <thead>\n",
       "    <tr style=\"text-align: right;\">\n",
       "      <th></th>\n",
       "      <th>name</th>\n",
       "      <th>latitude</th>\n",
       "      <th>longitude</th>\n",
       "      <th>address</th>\n",
       "      <th>city</th>\n",
       "      <th>country</th>\n",
       "      <th>state</th>\n",
       "      <th>zip_code</th>\n",
       "      <th>categories</th>\n",
       "      <th>price</th>\n",
       "      <th>rating</th>\n",
       "      <th>review_count</th>\n",
       "    </tr>\n",
       "  </thead>\n",
       "  <tbody>\n",
       "    <tr>\n",
       "      <th>0</th>\n",
       "      <td>Old Ebbitt Grill</td>\n",
       "      <td>38.898005</td>\n",
       "      <td>-77.033362</td>\n",
       "      <td>675 15th St NW</td>\n",
       "      <td>Washington, DC</td>\n",
       "      <td>US</td>\n",
       "      <td>DC</td>\n",
       "      <td>20005</td>\n",
       "      <td>['Bars', 'American (Traditional)', 'Breakfast ...</td>\n",
       "      <td>$$</td>\n",
       "      <td>4.0</td>\n",
       "      <td>6544</td>\n",
       "    </tr>\n",
       "    <tr>\n",
       "      <th>1</th>\n",
       "      <td>A Baked Joint</td>\n",
       "      <td>38.902411</td>\n",
       "      <td>-77.017139</td>\n",
       "      <td>440 K St NW</td>\n",
       "      <td>Washington, DC</td>\n",
       "      <td>US</td>\n",
       "      <td>DC</td>\n",
       "      <td>20001</td>\n",
       "      <td>['Coffee &amp; Tea', 'Breakfast &amp; Brunch', 'Sandwi...</td>\n",
       "      <td>$</td>\n",
       "      <td>4.5</td>\n",
       "      <td>1218</td>\n",
       "    </tr>\n",
       "    <tr>\n",
       "      <th>2</th>\n",
       "      <td>Le Diplomate</td>\n",
       "      <td>38.911359</td>\n",
       "      <td>-77.031575</td>\n",
       "      <td>1601 14th St NW</td>\n",
       "      <td>Washington, DC</td>\n",
       "      <td>US</td>\n",
       "      <td>DC</td>\n",
       "      <td>20009</td>\n",
       "      <td>['Brasseries', 'French', 'Cafes']</td>\n",
       "      <td>$$$</td>\n",
       "      <td>4.0</td>\n",
       "      <td>2449</td>\n",
       "    </tr>\n",
       "    <tr>\n",
       "      <th>3</th>\n",
       "      <td>Rasika</td>\n",
       "      <td>38.895008</td>\n",
       "      <td>-77.021286</td>\n",
       "      <td>633 D St NW</td>\n",
       "      <td>Washington, DC</td>\n",
       "      <td>US</td>\n",
       "      <td>DC</td>\n",
       "      <td>20004</td>\n",
       "      <td>['Indian']</td>\n",
       "      <td>$$$</td>\n",
       "      <td>4.5</td>\n",
       "      <td>2633</td>\n",
       "    </tr>\n",
       "    <tr>\n",
       "      <th>4</th>\n",
       "      <td>Matchbox - Chinatown</td>\n",
       "      <td>38.900050</td>\n",
       "      <td>-77.022540</td>\n",
       "      <td>713 H St NW</td>\n",
       "      <td>Washington, DC</td>\n",
       "      <td>US</td>\n",
       "      <td>DC</td>\n",
       "      <td>20001</td>\n",
       "      <td>['Pizza', 'American (New)']</td>\n",
       "      <td>$$</td>\n",
       "      <td>4.0</td>\n",
       "      <td>2673</td>\n",
       "    </tr>\n",
       "  </tbody>\n",
       "</table>\n",
       "</div>"
      ],
      "text/plain": [
       "                   name   latitude  longitude          address  \\\n",
       "0      Old Ebbitt Grill  38.898005 -77.033362   675 15th St NW   \n",
       "1         A Baked Joint  38.902411 -77.017139      440 K St NW   \n",
       "2          Le Diplomate  38.911359 -77.031575  1601 14th St NW   \n",
       "3                Rasika  38.895008 -77.021286      633 D St NW   \n",
       "4  Matchbox - Chinatown  38.900050 -77.022540      713 H St NW   \n",
       "\n",
       "             city country state zip_code  \\\n",
       "0  Washington, DC      US    DC    20005   \n",
       "1  Washington, DC      US    DC    20001   \n",
       "2  Washington, DC      US    DC    20009   \n",
       "3  Washington, DC      US    DC    20004   \n",
       "4  Washington, DC      US    DC    20001   \n",
       "\n",
       "                                          categories price  rating  \\\n",
       "0  ['Bars', 'American (Traditional)', 'Breakfast ...    $$     4.0   \n",
       "1  ['Coffee & Tea', 'Breakfast & Brunch', 'Sandwi...     $     4.5   \n",
       "2                  ['Brasseries', 'French', 'Cafes']   $$$     4.0   \n",
       "3                                         ['Indian']   $$$     4.5   \n",
       "4                        ['Pizza', 'American (New)']    $$     4.0   \n",
       "\n",
       "   review_count  \n",
       "0          6544  \n",
       "1          1218  \n",
       "2          2449  \n",
       "3          2633  \n",
       "4          2673  "
      ]
     },
     "execution_count": 599,
     "metadata": {},
     "output_type": "execute_result"
    }
   ],
   "source": [
    "businesses_df.head()"
   ]
  },
  {
   "cell_type": "code",
   "execution_count": 600,
   "metadata": {
    "scrolled": true
   },
   "outputs": [
    {
     "data": {
      "text/plain": [
       "user_id                     int64\n",
       "venue_id                   object\n",
       "utc_time           datetime64[ns]\n",
       "latitude                  float64\n",
       "longitude                 float64\n",
       "venue_category             object\n",
       "country                    object\n",
       "coffee_shop_bin             int64\n",
       "zip_code                   object\n",
       "dtype: object"
      ]
     },
     "execution_count": 600,
     "metadata": {},
     "output_type": "execute_result"
    }
   ],
   "source": [
    "foursquare_df = pd.read_csv('./data/foursquare.csv', sep=\"\\t\", index_col=0)\n",
    "foursquare_df['utc_time'] = pd.to_datetime(foursquare_df['utc_time'], infer_datetime_format=True)\n",
    "foursquare_df['zip_code'] = foursquare_df['zip_code'].astype(str)\n",
    "foursquare_df.dtypes\n",
    "# foursquare_df.shape"
   ]
  },
  {
   "cell_type": "markdown",
   "metadata": {},
   "source": [
    "<a id=\"explore_data\"></a>"
   ]
  },
  {
   "cell_type": "markdown",
   "metadata": {},
   "source": [
    "## Explore Data"
   ]
  },
  {
   "cell_type": "markdown",
   "metadata": {},
   "source": [
    "### Hypothesis 1: Find where people who go to coffee shops go on the same day, and then find a location with a lot of this type of establishment.\n",
    "\n",
    "- First, I'll need to pick which categories I'll include, and then transcribe them to individual columns. Each row will be one day for one user, and the values for each category column will be 1 if the person visited this type of category on that day, and 0 if not."
   ]
  },
  {
   "cell_type": "code",
   "execution_count": 601,
   "metadata": {
    "scrolled": false
   },
   "outputs": [
    {
     "data": {
      "text/plain": [
       "<matplotlib.axes._subplots.AxesSubplot at 0x1ca60ba0f28>"
      ]
     },
     "execution_count": 601,
     "metadata": {},
     "output_type": "execute_result"
    },
    {
     "data": {
      "image/png": "[encoded data removed]",
      "text/plain": [
       "<matplotlib.figure.Figure at 0x1ca706ec6a0>"
      ]
     },
     "metadata": {},
     "output_type": "display_data"
    }
   ],
   "source": [
    "foursquare_df.venue_category.value_counts().head(7).plot(kind='bar', figsize=(15, 8))"
   ]
  },
  {
   "cell_type": "code",
   "execution_count": 602,
   "metadata": {
    "scrolled": true
   },
   "outputs": [
    {
     "data": {
      "text/plain": [
       "array(['Shoe Store', 'Lounge', 'Bar', 'Sandwich Place', 'Baseball Stadium',\n",
       "       'Zoo', 'Greek Restaurant', 'Bank', 'Train Station', 'Neighborhood',\n",
       "       'American Restaurant', 'Coffee Shop', 'Tech Startup',\n",
       "       'Seafood Restaurant', 'Subway', 'Pizza Place', 'History Museum',\n",
       "       'Mall', 'Hotel', 'Government Building', 'Department Store',\n",
       "       'Gym / Fitness Center', 'Indian Restaurant', 'Light Rail',\n",
       "       'Sports Bar', 'Caf\\x1a\\x1a', 'Cocktail Bar', 'Yoga Studio',\n",
       "       'Clothing Store', 'Military Base', 'Bookstore', 'Gym', 'Park',\n",
       "       'Plaza', 'Whisky Bar', 'Office', 'Community College', 'Museum',\n",
       "       'Mediterranean Restaurant', 'Pub', 'Breakfast Spot', 'High School',\n",
       "       'Nightlife Spot', 'Grocery Store', 'Steakhouse', \"Men's Store\",\n",
       "       'Music Venue', 'Hotel Bar', 'Theater', 'Dive Bar',\n",
       "       'Italian Restaurant', 'Fast Food Restaurant', 'Liquor Store',\n",
       "       'Turkish Restaurant', 'Ice Cream Shop', 'Drugstore / Pharmacy',\n",
       "       'Cafeteria', 'Arts & Crafts Store', 'Moving Target', 'University',\n",
       "       'Performing Arts Venue', 'Speakeasy',\n",
       "       'Residential Building (Apartment / Condo)', 'Basketball Stadium',\n",
       "       'Convenience Store', 'Road', 'Train', 'Building',\n",
       "       'College Classroom', 'Home (private)', 'Bridge', 'Coworking Space',\n",
       "       'Food Truck', 'Library', 'Convention Center', 'Bus Line',\n",
       "       'Capitol Building', 'Auditorium', 'Latin American Restaurant',\n",
       "       'Burger Joint', 'Thai Restaurant', 'Fried Chicken Joint', 'Caf\\x1a',\n",
       "       'Bakery', 'Mexican Restaurant', 'Chinese Restaurant', 'Post Office',\n",
       "       'Miscellaneous Shop', 'City', 'Courthouse',\n",
       "       'General College & University', 'Salon / Barbershop', 'Multiplex',\n",
       "       'New American Restaurant', 'Tapas Restaurant',\n",
       "       'College Academic Building', \"Doctor's Office\", 'Electronics Store',\n",
       "       'Church', 'Sporting Goods Shop', 'Deli / Bodega', 'Brewery',\n",
       "       'Pool Hall', 'Dim Sum Restaurant', 'College Residence Hall',\n",
       "       'Dog Run', 'Diner', 'Farmers Market', 'French Restaurant',\n",
       "       'Salad Place', 'Harbor / Marina', 'Art Museum', 'Hardware Store',\n",
       "       'Beer Garden', 'Cosmetics Shop', 'Wine Shop', 'Police Station',\n",
       "       'Monument / Landmark', 'Cupcake Shop', 'Garden',\n",
       "       'Korean Restaurant', 'Bike Shop', 'Boutique', 'Gastropub',\n",
       "       'Asian Restaurant', 'Other Nightlife', 'Bowling Alley', 'Nightclub',\n",
       "       'Event Space', 'African Restaurant', 'Indie Movie Theater',\n",
       "       'Hookah Bar', 'Field', 'Wine Bar', 'Scenic Lookout',\n",
       "       'Southern / Soul Food Restaurant', 'Bus Station',\n",
       "       'Rental Car Location', 'Veterinarian', 'Laundry Service',\n",
       "       'Sushi Restaurant', 'Art Gallery', \"Women's Store\", 'Hot Dog Joint',\n",
       "       'Taxi', 'Accessories Store', 'Jazz Club', 'Falafel Restaurant',\n",
       "       'BBQ Joint', 'Bagel Shop', 'Student Center', 'German Restaurant',\n",
       "       'Frozen Yogurt', 'Dessert Shop', 'Tea Room', 'Wings Joint',\n",
       "       'College Library', 'Cemetery', 'Donut Shop',\n",
       "       'General Entertainment', 'College Engineering Building',\n",
       "       'Furniture / Home Store', 'Design Studio', 'Rock Club',\n",
       "       'Spa / Massage', 'Vegetarian / Vegan Restaurant', 'Hospital',\n",
       "       'Spiritual Center', 'Brazilian Restaurant', 'Karaoke Bar',\n",
       "       'Restaurant', 'Caribbean Restaurant', 'Other Great Outdoors',\n",
       "       'Nail Salon', 'Food & Drink Shop', 'Gas Station / Garage',\n",
       "       'Tanning Salon', 'General Travel', 'College Quad', 'Flea Market',\n",
       "       'Historic Site', 'Vietnamese Restaurant', 'Conference Room',\n",
       "       'Professional & Other Places', 'Food Court', 'Boat or Ferry',\n",
       "       'Parking', 'Law School', 'Dance Studio', \"Dentist's Office\",\n",
       "       'Juice Bar', 'Thrift / Vintage Store', 'Middle Eastern Restaurant',\n",
       "       'Bike Rental / Bike Share', 'Gift Shop', 'Strip Club',\n",
       "       'Automotive Shop', 'Gourmet Shop', 'Temple', 'Spanish Restaurant',\n",
       "       'Theme Park', 'Record Shop', 'Smoke Shop', 'Elementary School',\n",
       "       'Soup Place', 'Medical Center', 'Trade School',\n",
       "       'Japanese Restaurant', 'Embassy / Consulate', 'College Auditorium',\n",
       "       'Hiking Trail', 'Taco Place', 'Sculpture Garden',\n",
       "       'Paper / Office Supplies Store', 'College Basketball Court',\n",
       "       'Butcher', 'Ramen /  Noodle House', 'Pool', 'Fire Station', 'Fair',\n",
       "       'Snack Place', 'College Cafeteria', 'City Hall', 'School',\n",
       "       'Platform', 'Flower Shop', 'Housing Development',\n",
       "       'Ethiopian Restaurant', 'Optical Shop', 'Comedy Club',\n",
       "       'Eastern European Restaurant', 'College Administrative Building',\n",
       "       'Financial or Legal Service', 'Medical School', 'Climbing Gym',\n",
       "       'College Arts Building', 'Hockey Arena', 'Food', 'Kids Store',\n",
       "       'Winery', 'College Science Building', 'Playground',\n",
       "       'Baseball Field', 'Cajun / Creole Restaurant', 'Fish Market',\n",
       "       'Cuban Restaurant', 'Moroccan Restaurant', 'Swiss Restaurant',\n",
       "       'Concert Hall', 'Opera House', 'Burrito Place', 'Plane',\n",
       "       'Tattoo Parlor', 'Vineyard', 'Campground', 'Arcade',\n",
       "       'South American Restaurant', 'Fraternity House', 'Aquarium',\n",
       "       'Portuguese Restaurant', 'College Lab', 'Tennis Court', 'Stadium',\n",
       "       'Camera Store', 'Travel Lounge', 'Track Stadium', 'Farm',\n",
       "       'Pet Store', 'Track', 'Synagogue', 'Lingerie Store', 'Meeting Room',\n",
       "       'Ski Area', 'Jewelry Store', 'College Communications Building',\n",
       "       'Movie Theater', 'Trails', 'College Bookstore', 'Hobby Shop',\n",
       "       'Gaming Cafe', 'Hostel', 'College Rec Center', 'Cheese Shop',\n",
       "       'Antique Shop', 'Voting Booth', 'College Gym', 'Toy / Game Store',\n",
       "       'Shrine', 'Athletics & Sports', 'Hot Spring', 'Ski Trail',\n",
       "       'Gym Pool', 'Racetrack', 'Casino', 'Ski Chalet', 'Candy Store',\n",
       "       'College & University', 'Bed & Breakfast', 'River',\n",
       "       'Sorority House', 'Non-Profit', 'College Technology Building',\n",
       "       'Skate Park', 'Soccer Field', 'Basketball Court', 'Bridal Shop',\n",
       "       'Science Museum', 'Athletic & Sport', 'Rest Area',\n",
       "       'Arts & Entertainment', 'Factory', 'Garden Center', 'Skating Rink',\n",
       "       'Outdoors & Recreation', 'Public Art', 'Tailor Shop',\n",
       "       'Motorcycle Shop', 'Shop & Service', 'Ski Lodge', 'Photography Lab',\n",
       "       'Molecular Gastronomy Restaurant', 'Animal Shelter', 'Water Park',\n",
       "       'Paella Restaurant', 'College Theater', 'Argentinian Restaurant',\n",
       "       'Mobile Phone Shop', 'Yogurt', 'College Stadium',\n",
       "       'Tourist Information Center', 'Motel', 'Radio Station',\n",
       "       'Fish & Chips Shop', 'Hockey Field', 'Market', 'Assisted Living',\n",
       "       'Pier', 'Video Store', 'Volleyball Court'], dtype=object)"
      ]
     },
     "execution_count": 602,
     "metadata": {},
     "output_type": "execute_result"
    }
   ],
   "source": [
    "# first, list all of the columns\n",
    "foursquare_df.venue_category.unique()"
   ]
  },
  {
   "cell_type": "code",
   "execution_count": 603,
   "metadata": {},
   "outputs": [
    {
     "data": {
      "text/plain": [
       "array(['Coffee Shop', 'Office', 'Subway', 'American Restaurant', 'Bar',\n",
       "       'Government Building', 'Hotel', 'Train Station', 'Gym',\n",
       "       'Grocery Store', 'Home (private)',\n",
       "       'Residential Building (Apartment / Condo)', 'Park',\n",
       "       'Mexican Restaurant', 'Sandwich Place', 'Lounge', 'Building',\n",
       "       'Pizza Place', 'Pub', 'Neighborhood', 'Baseball Stadium', 'Road',\n",
       "       'Italian Restaurant'], dtype=object)"
      ]
     },
     "execution_count": 603,
     "metadata": {},
     "output_type": "execute_result"
    }
   ],
   "source": [
    "# for now, I'll just use the top 23 categories as my features\n",
    "columns=foursquare_df.venue_category.value_counts().head(23).index.values\n",
    "columns"
   ]
  },
  {
   "cell_type": "code",
   "execution_count": 604,
   "metadata": {},
   "outputs": [
    {
     "data": {
      "text/html": [
       "<div>\n",
       "<style>\n",
       "    .dataframe thead tr:only-child th {\n",
       "        text-align: right;\n",
       "    }\n",
       "\n",
       "    .dataframe thead th {\n",
       "        text-align: left;\n",
       "    }\n",
       "\n",
       "    .dataframe tbody tr th {\n",
       "        vertical-align: top;\n",
       "    }\n",
       "</style>\n",
       "<table border=\"1\" class=\"dataframe\">\n",
       "  <thead>\n",
       "    <tr style=\"text-align: right;\">\n",
       "      <th></th>\n",
       "      <th>user_id</th>\n",
       "      <th>utc_time_full</th>\n",
       "    </tr>\n",
       "  </thead>\n",
       "  <tbody>\n",
       "    <tr>\n",
       "      <th>0</th>\n",
       "      <td>6</td>\n",
       "      <td>2013-04-03 16:49:50</td>\n",
       "    </tr>\n",
       "    <tr>\n",
       "      <th>1</th>\n",
       "      <td>6</td>\n",
       "      <td>2012-10-18 16:01:06</td>\n",
       "    </tr>\n",
       "    <tr>\n",
       "      <th>2</th>\n",
       "      <td>6</td>\n",
       "      <td>2013-05-22 20:16:02</td>\n",
       "    </tr>\n",
       "    <tr>\n",
       "      <th>3</th>\n",
       "      <td>6</td>\n",
       "      <td>2013-02-27 18:10:19</td>\n",
       "    </tr>\n",
       "    <tr>\n",
       "      <th>4</th>\n",
       "      <td>6</td>\n",
       "      <td>2012-11-28 15:04:14</td>\n",
       "    </tr>\n",
       "  </tbody>\n",
       "</table>\n",
       "</div>"
      ],
      "text/plain": [
       "   user_id       utc_time_full\n",
       "0        6 2013-04-03 16:49:50\n",
       "1        6 2012-10-18 16:01:06\n",
       "2        6 2013-05-22 20:16:02\n",
       "3        6 2013-02-27 18:10:19\n",
       "4        6 2012-11-28 15:04:14"
      ]
     },
     "execution_count": 604,
     "metadata": {},
     "output_type": "execute_result"
    }
   ],
   "source": [
    "foursquare_days_df = foursquare_df.rename(columns={'utc_time':'utc_time_full'}).groupby([foursquare_df.user_id, foursquare_df.utc_time.dt.day]).nth(0).reset_index(drop=True)\n",
    "foursquare_days_df.drop(['venue_id', 'latitude', 'longitude', 'venue_category', 'country', 'coffee_shop_bin', 'zip_code'], axis=1, inplace=True)\n",
    "foursquare_days_df.head()"
   ]
  },
  {
   "cell_type": "code",
   "execution_count": 605,
   "metadata": {
    "collapsed": true
   },
   "outputs": [],
   "source": [
    "foursquare_df_temp = foursquare_df[foursquare_df.venue_category.isin(columns)]"
   ]
  },
  {
   "cell_type": "code",
   "execution_count": 611,
   "metadata": {
    "collapsed": true
   },
   "outputs": [],
   "source": [
    "foursquare_days_df = pd.read_csv('./data/foursquare_days_df.csv')"
   ]
  },
  {
   "cell_type": "code",
   "execution_count": 606,
   "metadata": {
    "scrolled": true
   },
   "outputs": [
    {
     "data": {
      "text/plain": [
       "964.9314014144293"
      ]
     },
     "execution_count": 606,
     "metadata": {},
     "output_type": "execute_result"
    }
   ],
   "source": [
    "# DON'T RUN THIS! :)\n",
    "# takes 15+ minutes. Running the cell block directly above this will import the same dataset\n",
    "# as this code block produces.\n",
    "\n",
    "# transposes check in data w/ user/date as primary key and 1/0 for whether \n",
    "# or not the user visited said category\n",
    "for column in columns:\n",
    "    foursquare_days_df[column] = foursquare_days_df.apply(lambda row: 1 if foursquare_df_temp[(foursquare_df_temp['user_id'] == row['user_id']) & (foursquare_df_temp.utc_time.dt.day == row['utc_time_full'].day) & (foursquare_df_temp.venue_category == column)].venue_category.count() > 0 else 0, axis=1)\n",
    "    foursquare_df_temp = foursquare_df_temp[foursquare_df_temp['venue_category'] != column]"
   ]
  },
  {
   "cell_type": "code",
   "execution_count": 612,
   "metadata": {},
   "outputs": [
    {
     "data": {
      "text/html": [
       "<div>\n",
       "<style>\n",
       "    .dataframe thead tr:only-child th {\n",
       "        text-align: right;\n",
       "    }\n",
       "\n",
       "    .dataframe thead th {\n",
       "        text-align: left;\n",
       "    }\n",
       "\n",
       "    .dataframe tbody tr th {\n",
       "        vertical-align: top;\n",
       "    }\n",
       "</style>\n",
       "<table border=\"1\" class=\"dataframe\">\n",
       "  <thead>\n",
       "    <tr style=\"text-align: right;\">\n",
       "      <th></th>\n",
       "      <th>Unnamed: 0</th>\n",
       "      <th>user_id</th>\n",
       "      <th>utc_time_full</th>\n",
       "      <th>Coffee Shop</th>\n",
       "      <th>Office</th>\n",
       "      <th>Subway</th>\n",
       "      <th>American Restaurant</th>\n",
       "      <th>Bar</th>\n",
       "      <th>Government Building</th>\n",
       "      <th>Hotel</th>\n",
       "      <th>...</th>\n",
       "      <th>Mexican Restaurant</th>\n",
       "      <th>Sandwich Place</th>\n",
       "      <th>Lounge</th>\n",
       "      <th>Building</th>\n",
       "      <th>Pizza Place</th>\n",
       "      <th>Pub</th>\n",
       "      <th>Neighborhood</th>\n",
       "      <th>Baseball Stadium</th>\n",
       "      <th>Road</th>\n",
       "      <th>Italian Restaurant</th>\n",
       "    </tr>\n",
       "  </thead>\n",
       "  <tbody>\n",
       "    <tr>\n",
       "      <th>0</th>\n",
       "      <td>0</td>\n",
       "      <td>6</td>\n",
       "      <td>2013-04-03 16:49:50</td>\n",
       "      <td>0</td>\n",
       "      <td>0</td>\n",
       "      <td>0</td>\n",
       "      <td>0</td>\n",
       "      <td>0</td>\n",
       "      <td>1</td>\n",
       "      <td>0</td>\n",
       "      <td>...</td>\n",
       "      <td>0</td>\n",
       "      <td>0</td>\n",
       "      <td>0</td>\n",
       "      <td>0</td>\n",
       "      <td>0</td>\n",
       "      <td>0</td>\n",
       "      <td>0</td>\n",
       "      <td>0</td>\n",
       "      <td>0</td>\n",
       "      <td>0</td>\n",
       "    </tr>\n",
       "    <tr>\n",
       "      <th>1</th>\n",
       "      <td>1</td>\n",
       "      <td>6</td>\n",
       "      <td>2012-10-18 16:01:06</td>\n",
       "      <td>0</td>\n",
       "      <td>0</td>\n",
       "      <td>0</td>\n",
       "      <td>0</td>\n",
       "      <td>0</td>\n",
       "      <td>1</td>\n",
       "      <td>0</td>\n",
       "      <td>...</td>\n",
       "      <td>0</td>\n",
       "      <td>0</td>\n",
       "      <td>0</td>\n",
       "      <td>0</td>\n",
       "      <td>0</td>\n",
       "      <td>0</td>\n",
       "      <td>0</td>\n",
       "      <td>0</td>\n",
       "      <td>0</td>\n",
       "      <td>0</td>\n",
       "    </tr>\n",
       "    <tr>\n",
       "      <th>2</th>\n",
       "      <td>2</td>\n",
       "      <td>6</td>\n",
       "      <td>2013-05-22 20:16:02</td>\n",
       "      <td>1</td>\n",
       "      <td>0</td>\n",
       "      <td>0</td>\n",
       "      <td>0</td>\n",
       "      <td>0</td>\n",
       "      <td>0</td>\n",
       "      <td>0</td>\n",
       "      <td>...</td>\n",
       "      <td>0</td>\n",
       "      <td>0</td>\n",
       "      <td>0</td>\n",
       "      <td>0</td>\n",
       "      <td>0</td>\n",
       "      <td>0</td>\n",
       "      <td>0</td>\n",
       "      <td>0</td>\n",
       "      <td>0</td>\n",
       "      <td>0</td>\n",
       "    </tr>\n",
       "    <tr>\n",
       "      <th>3</th>\n",
       "      <td>3</td>\n",
       "      <td>6</td>\n",
       "      <td>2013-02-27 18:10:19</td>\n",
       "      <td>0</td>\n",
       "      <td>0</td>\n",
       "      <td>0</td>\n",
       "      <td>0</td>\n",
       "      <td>1</td>\n",
       "      <td>0</td>\n",
       "      <td>1</td>\n",
       "      <td>...</td>\n",
       "      <td>0</td>\n",
       "      <td>0</td>\n",
       "      <td>0</td>\n",
       "      <td>0</td>\n",
       "      <td>0</td>\n",
       "      <td>0</td>\n",
       "      <td>0</td>\n",
       "      <td>0</td>\n",
       "      <td>0</td>\n",
       "      <td>0</td>\n",
       "    </tr>\n",
       "    <tr>\n",
       "      <th>4</th>\n",
       "      <td>4</td>\n",
       "      <td>6</td>\n",
       "      <td>2012-11-28 15:04:14</td>\n",
       "      <td>0</td>\n",
       "      <td>1</td>\n",
       "      <td>0</td>\n",
       "      <td>0</td>\n",
       "      <td>0</td>\n",
       "      <td>1</td>\n",
       "      <td>0</td>\n",
       "      <td>...</td>\n",
       "      <td>0</td>\n",
       "      <td>0</td>\n",
       "      <td>0</td>\n",
       "      <td>0</td>\n",
       "      <td>0</td>\n",
       "      <td>0</td>\n",
       "      <td>0</td>\n",
       "      <td>0</td>\n",
       "      <td>0</td>\n",
       "      <td>0</td>\n",
       "    </tr>\n",
       "  </tbody>\n",
       "</table>\n",
       "<p>5 rows × 26 columns</p>\n",
       "</div>"
      ],
      "text/plain": [
       "   Unnamed: 0  user_id        utc_time_full  Coffee Shop  Office  Subway  \\\n",
       "0           0        6  2013-04-03 16:49:50            0       0       0   \n",
       "1           1        6  2012-10-18 16:01:06            0       0       0   \n",
       "2           2        6  2013-05-22 20:16:02            1       0       0   \n",
       "3           3        6  2013-02-27 18:10:19            0       0       0   \n",
       "4           4        6  2012-11-28 15:04:14            0       1       0   \n",
       "\n",
       "   American Restaurant  Bar  Government Building  Hotel         ...          \\\n",
       "0                    0    0                    1      0         ...           \n",
       "1                    0    0                    1      0         ...           \n",
       "2                    0    0                    0      0         ...           \n",
       "3                    0    1                    0      1         ...           \n",
       "4                    0    0                    1      0         ...           \n",
       "\n",
       "   Mexican Restaurant  Sandwich Place  Lounge  Building  Pizza Place  Pub  \\\n",
       "0                   0               0       0         0            0    0   \n",
       "1                   0               0       0         0            0    0   \n",
       "2                   0               0       0         0            0    0   \n",
       "3                   0               0       0         0            0    0   \n",
       "4                   0               0       0         0            0    0   \n",
       "\n",
       "   Neighborhood  Baseball Stadium  Road  Italian Restaurant  \n",
       "0             0                 0     0                   0  \n",
       "1             0                 0     0                   0  \n",
       "2             0                 0     0                   0  \n",
       "3             0                 0     0                   0  \n",
       "4             0                 0     0                   0  \n",
       "\n",
       "[5 rows x 26 columns]"
      ]
     },
     "execution_count": 612,
     "metadata": {},
     "output_type": "execute_result"
    }
   ],
   "source": [
    "foursquare_days_df.head()"
   ]
  },
  {
   "cell_type": "code",
   "execution_count": 613,
   "metadata": {},
   "outputs": [
    {
     "data": {
      "text/plain": [
       "0    15507\n",
       "1     1930\n",
       "Name: Coffee Shop, dtype: int64"
      ]
     },
     "execution_count": 613,
     "metadata": {},
     "output_type": "execute_result"
    }
   ],
   "source": [
    "foursquare_days_df['Coffee Shop'].value_counts()"
   ]
  },
  {
   "cell_type": "code",
   "execution_count": 614,
   "metadata": {},
   "outputs": [
    {
     "data": {
      "text/plain": [
       "(17437, 26)"
      ]
     },
     "execution_count": 614,
     "metadata": {},
     "output_type": "execute_result"
    }
   ],
   "source": [
    "foursquare_days_df.shape "
   ]
  },
  {
   "cell_type": "markdown",
   "metadata": {},
   "source": [
    "#### foursquare_days_df is now formatted and ready for a decision tree (Machine Learning section)"
   ]
  },
  {
   "cell_type": "markdown",
   "metadata": {},
   "source": [
    "### Hypothesis 2: compare various factors of each zip code to the check in count to find a linear relationship. If we can find a linear relationship, we can use this to determine the best zip code for maximizing coffee shop check-ins."
   ]
  },
  {
   "cell_type": "code",
   "execution_count": 615,
   "metadata": {},
   "outputs": [
    {
     "data": {
      "text/plain": [
       "<matplotlib.axes._subplots.AxesSubplot at 0x1ca60ba3828>"
      ]
     },
     "execution_count": 615,
     "metadata": {},
     "output_type": "execute_result"
    },
    {
     "data": {
      "image/png": "[encoded data removed]",
      "text/plain": [
       "<matplotlib.figure.Figure at 0x1ca60bd2d68>"
      ]
     },
     "metadata": {},
     "output_type": "display_data"
    }
   ],
   "source": [
    "foursquare_df.zip_code.value_counts().plot(kind='bar')"
   ]
  },
  {
   "cell_type": "code",
   "execution_count": 616,
   "metadata": {},
   "outputs": [],
   "source": [
    "coffee_checkins_perzip = foursquare_df[foursquare_df.venue_category == \"Coffee Shop\"].groupby(['zip_code']).size().reset_index(name='coffeeshop_counts')"
   ]
  },
  {
   "cell_type": "code",
   "execution_count": 617,
   "metadata": {},
   "outputs": [],
   "source": [
    "checkins_and_zipdata_df = coffee_checkins_perzip.merge(zipfeatures_df, left_on='zip_code', right_on='zip_code')"
   ]
  },
  {
   "cell_type": "code",
   "execution_count": 618,
   "metadata": {},
   "outputs": [
    {
     "data": {
      "text/plain": [
       "coffeeshop_counts           1.000000\n",
       "estimate_total              0.244147\n",
       "median_age                 -0.362762\n",
       "mean_income                -0.108608\n",
       "percent_public_transport   -0.244719\n",
       "Name: coffeeshop_counts, dtype: float64"
      ]
     },
     "execution_count": 618,
     "metadata": {},
     "output_type": "execute_result"
    }
   ],
   "source": [
    "# import seaborn as sns\n",
    "checkins_and_zipdata_df.corr().coffeeshop_counts"
   ]
  },
  {
   "cell_type": "code",
   "execution_count": 619,
   "metadata": {
    "scrolled": true
   },
   "outputs": [
    {
     "data": {
      "text/plain": [
       "<seaborn.axisgrid.PairGrid at 0x1ca6116e208>"
      ]
     },
     "execution_count": 619,
     "metadata": {},
     "output_type": "execute_result"
    },
    {
     "data": {
      "image/png": "[encoded data removed]",
      "text/plain": [
       "<matplotlib.figure.Figure at 0x1ca610865f8>"
      ]
     },
     "metadata": {},
     "output_type": "display_data"
    }
   ],
   "source": [
    "sns.pairplot(checkins_and_zipdata_df.corr(), kind='reg')\n",
    "# sns.regplot(x=\"estimate_total\", y=\"coffeeshop_counts\", data=checkins_and_zipdata_df);\n",
    "# sns.regplot(x=\"mean_income\", y=\"coffeeshop_counts\", data=checkins_and_zipdata_df);\n",
    "# sns.regplot(x=\"median_age\", y=\"coffeeshop_counts\", data=checkins_and_zipdata_df);"
   ]
  },
  {
   "cell_type": "markdown",
   "metadata": {},
   "source": [
    "<a id=\"explore_data_old\"></a>"
   ]
  },
  {
   "cell_type": "markdown",
   "metadata": {},
   "source": [
    "## Explore Data (Old Hypotheses)"
   ]
  },
  {
   "cell_type": "markdown",
   "metadata": {},
   "source": [
    "#### See where people are generally coming from when they go to coffee shops"
   ]
  },
  {
   "cell_type": "code",
   "execution_count": 620,
   "metadata": {
    "scrolled": false
   },
   "outputs": [
    {
     "data": {
      "text/plain": [
       "<matplotlib.axes._subplots.AxesSubplot at 0x1ca711eacc0>"
      ]
     },
     "execution_count": 620,
     "metadata": {},
     "output_type": "execute_result"
    },
    {
     "data": {
      "image/png": "[encoded data removed]",
      "text/plain": [
       "<matplotlib.figure.Figure at 0x1ca60ba2be0>"
      ]
     },
     "metadata": {},
     "output_type": "display_data"
    }
   ],
   "source": [
    "# View top 10 categories of checkins on days that also contain a coffee shop checkin\n",
    "foursquare_df[(foursquare_df.coffee_shop_bin==1) & (foursquare_df.venue_category != 'Coffee Shop')].venue_category.value_counts().head(7).plot(kind='bar', figsize=(15, 8))"
   ]
  },
  {
   "cell_type": "markdown",
   "metadata": {
    "collapsed": true
   },
   "source": [
    "#### I too go to starbucks after every subway sub."
   ]
  },
  {
   "cell_type": "markdown",
   "metadata": {
    "collapsed": true
   },
   "source": [
    "#### Next I'd like to view coffee shops plotted on an interactive map."
   ]
  },
  {
   "cell_type": "code",
   "execution_count": 621,
   "metadata": {
    "collapsed": true
   },
   "outputs": [],
   "source": [
    "import folium\n",
    "\n",
    "map_coffee_df = businesses_df[businesses_df.categories.astype(str).str.contains('Coffee')]\n",
    "\n",
    "folium_map = folium.Map(location=[38.9031434, -77.0232301],\n",
    "                        zoom_start=13)\n",
    "\n",
    "for index, row in map_coffee_df.iterrows():\n",
    "    folium.Marker([row[\"latitude\"], row[\"longitude\"]], popup=folium.Popup(row['name'], parse_html=True)).add_to(folium_map)"
   ]
  },
  {
   "cell_type": "code",
   "execution_count": 622,
   "metadata": {
    "scrolled": false
   },
   "outputs": [
    {
     "data": {
      "text/html": [
       "<div style=\"width:100%;\"><div style=\"position:relative;width:100%;height:0;padding-bottom:60%;\"><iframe src=\"data:text/html;charset=utf-8;base64,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\" style=\"position:absolute;width:100%;height:100%;left:0;top:0;border:none !important;\" allowfullscreen webkitallowfullscreen mozallowfullscreen></iframe></div></div>"
      ],
      "text/plain": [
       "<folium.folium.Map at 0x1ca713d37f0>"
      ]
     },
     "execution_count": 622,
     "metadata": {},
     "output_type": "execute_result"
    }
   ],
   "source": [
    "folium_map"
   ]
  },
  {
   "cell_type": "markdown",
   "metadata": {},
   "source": [
    "#### Next I want to find a count of coffee shops by zip code and explore population data viability on determining coffee shop location"
   ]
  },
  {
   "cell_type": "code",
   "execution_count": 623,
   "metadata": {},
   "outputs": [
    {
     "data": {
      "text/plain": [
       "(390, 12)"
      ]
     },
     "execution_count": 623,
     "metadata": {},
     "output_type": "execute_result"
    }
   ],
   "source": [
    "# get all businesses w/ category containing \"Coffee\"\n",
    "coffeeshops_byzip_df = businesses_df[businesses_df.categories.astype(str).str.contains('Coffee')]\n",
    "coffeeshops_byzip_df.shape"
   ]
  },
  {
   "cell_type": "code",
   "execution_count": 625,
   "metadata": {},
   "outputs": [],
   "source": [
    "# new df containing each zip code and the count of coffee shops\n",
    "coffeeshop_percap_df = coffeeshops_byzip_df.groupby('zip_code').zip_code.agg(['count']).sort_values('count', ascending=False)\n",
    "\n",
    "# merge previous dataframe with population growth dataframe\n",
    "coffeeshop_percap_df = coffeeshop_percap_df.merge(popul2016_df, left_index=True, right_on=\"zip_code\")\n",
    "coffeeshop_percap_df = coffeeshop_percap_df.set_index('zip_code')\n",
    "\n",
    "# add calculated field for rate of population change\n",
    "coffeeshop_percap_df['pop_change_rate'] = (coffeeshop_percap_df['estimate_total_2016'] - \\\n",
    "                                            coffeeshop_percap_df['estimate_total_2015']) / \\\n",
    "                                            coffeeshop_percap_df['estimate_total_2015']\n",
    "\n",
    "# display some rows from newly constructed df, sorted by population rate of change\n",
    "coffeeshop_percap_df[coffeeshop_percap_df['count'] > 5].sort_values('pop_change_rate')"
   ]
  },
  {
   "cell_type": "markdown",
   "metadata": {
    "collapsed": true
   },
   "source": [
    "<a id=\"machine_learning\"></a>"
   ]
  },
  {
   "cell_type": "markdown",
   "metadata": {},
   "source": [
    "## Part 4: Machine Learning"
   ]
  },
  {
   "cell_type": "markdown",
   "metadata": {},
   "source": [
    "<a id=\"hyp_1\"></a>"
   ]
  },
  {
   "cell_type": "markdown",
   "metadata": {},
   "source": [
    "### Hypothesis 1: Find where people who go to coffee shops go on the same day, and then find a location with a lot of this type of establishment."
   ]
  },
  {
   "cell_type": "markdown",
   "metadata": {},
   "source": [
    "#### Model 1: Decision Tree"
   ]
  },
  {
   "cell_type": "code",
   "execution_count": 626,
   "metadata": {
    "collapsed": true
   },
   "outputs": [],
   "source": [
    "feature_cols = ['Office', 'Subway', 'American Restaurant', 'Bar',\n",
    "       'Government Building', 'Hotel', 'Train Station', 'Gym',\n",
    "       'Grocery Store', 'Home (private)',\n",
    "       'Residential Building (Apartment / Condo)', 'Park',\n",
    "       'Mexican Restaurant', 'Sandwich Place', 'Lounge', 'Building',\n",
    "       'Pizza Place', 'Pub', 'Neighborhood', 'Baseball Stadium', 'Road',\n",
    "       'Italian Restaurant']\n",
    "\n",
    "X = foursquare_days_df[feature_cols]\n",
    "y = foursquare_days_df[\"Coffee Shop\"]"
   ]
  },
  {
   "cell_type": "code",
   "execution_count": 627,
   "metadata": {},
   "outputs": [
    {
     "data": {
      "text/html": [
       "<div>\n",
       "<style>\n",
       "    .dataframe thead tr:only-child th {\n",
       "        text-align: right;\n",
       "    }\n",
       "\n",
       "    .dataframe thead th {\n",
       "        text-align: left;\n",
       "    }\n",
       "\n",
       "    .dataframe tbody tr th {\n",
       "        vertical-align: top;\n",
       "    }\n",
       "</style>\n",
       "<table border=\"1\" class=\"dataframe\">\n",
       "  <thead>\n",
       "    <tr style=\"text-align: right;\">\n",
       "      <th></th>\n",
       "      <th>feature</th>\n",
       "      <th>importance</th>\n",
       "    </tr>\n",
       "  </thead>\n",
       "  <tbody>\n",
       "    <tr>\n",
       "      <th>11</th>\n",
       "      <td>Park</td>\n",
       "      <td>0.290257</td>\n",
       "    </tr>\n",
       "    <tr>\n",
       "      <th>1</th>\n",
       "      <td>Subway</td>\n",
       "      <td>0.238393</td>\n",
       "    </tr>\n",
       "    <tr>\n",
       "      <th>13</th>\n",
       "      <td>Sandwich Place</td>\n",
       "      <td>0.233781</td>\n",
       "    </tr>\n",
       "    <tr>\n",
       "      <th>7</th>\n",
       "      <td>Gym</td>\n",
       "      <td>0.190744</td>\n",
       "    </tr>\n",
       "    <tr>\n",
       "      <th>6</th>\n",
       "      <td>Train Station</td>\n",
       "      <td>0.046825</td>\n",
       "    </tr>\n",
       "    <tr>\n",
       "      <th>20</th>\n",
       "      <td>Road</td>\n",
       "      <td>0.000000</td>\n",
       "    </tr>\n",
       "    <tr>\n",
       "      <th>19</th>\n",
       "      <td>Baseball Stadium</td>\n",
       "      <td>0.000000</td>\n",
       "    </tr>\n",
       "    <tr>\n",
       "      <th>18</th>\n",
       "      <td>Neighborhood</td>\n",
       "      <td>0.000000</td>\n",
       "    </tr>\n",
       "    <tr>\n",
       "      <th>17</th>\n",
       "      <td>Pub</td>\n",
       "      <td>0.000000</td>\n",
       "    </tr>\n",
       "    <tr>\n",
       "      <th>16</th>\n",
       "      <td>Pizza Place</td>\n",
       "      <td>0.000000</td>\n",
       "    </tr>\n",
       "  </tbody>\n",
       "</table>\n",
       "</div>"
      ],
      "text/plain": [
       "             feature  importance\n",
       "11              Park    0.290257\n",
       "1             Subway    0.238393\n",
       "13    Sandwich Place    0.233781\n",
       "7                Gym    0.190744\n",
       "6      Train Station    0.046825\n",
       "20              Road    0.000000\n",
       "19  Baseball Stadium    0.000000\n",
       "18      Neighborhood    0.000000\n",
       "17               Pub    0.000000\n",
       "16       Pizza Place    0.000000"
      ]
     },
     "execution_count": 627,
     "metadata": {},
     "output_type": "execute_result"
    }
   ],
   "source": [
    "from sklearn.tree import DecisionTreeClassifier\n",
    "\n",
    "treeclf = DecisionTreeClassifier(max_depth=3, random_state=1)\n",
    "treeclf.fit(X, y)\n",
    "\n",
    "pd.DataFrame({'feature':feature_cols, 'importance':treeclf.feature_importances_}).sort_values('importance', ascending=False).head(10)"
   ]
  },
  {
   "cell_type": "code",
   "execution_count": 628,
   "metadata": {},
   "outputs": [
    {
     "data": {
      "text/plain": [
       "0    1030\n",
       "1     207\n",
       "Name: Coffee Shop, dtype: int64"
      ]
     },
     "execution_count": 628,
     "metadata": {},
     "output_type": "execute_result"
    }
   ],
   "source": [
    "foursquare_days_df[foursquare_days_df['Subway'] == 1]['Coffee Shop'].value_counts()"
   ]
  },
  {
   "cell_type": "code",
   "execution_count": 629,
   "metadata": {},
   "outputs": [
    {
     "data": {
      "text/plain": [
       "True"
      ]
     },
     "execution_count": 629,
     "metadata": {},
     "output_type": "execute_result"
    }
   ],
   "source": [
    "from sklearn.tree import export_graphviz\n",
    "import pydotplus\n",
    "from io import StringIO\n",
    "\n",
    "dotfile = StringIO()\n",
    "export_graphviz(treeclf, out_file=dotfile, feature_names=feature_cols)\n",
    "graph = pydotplus.graph_from_dot_data(dotfile.getvalue())\n",
    "graph.write_png('./assets/categories_tree.png')"
   ]
  },
  {
   "cell_type": "markdown",
   "metadata": {},
   "source": [
    "![Tree for category data](assets/categories_tree.png)"
   ]
  },
  {
   "cell_type": "code",
   "execution_count": 630,
   "metadata": {
    "collapsed": true
   },
   "outputs": [],
   "source": [
    "feature_cols = ['Office', 'Subway', 'American Restaurant', 'Bar',\n",
    "       'Government Building', 'Hotel', 'Train Station', 'Gym',\n",
    "       'Grocery Store', 'Home (private)',\n",
    "       'Residential Building (Apartment / Condo)', 'Park',\n",
    "       'Mexican Restaurant', 'Sandwich Place', 'Lounge', 'Building',\n",
    "       'Pizza Place', 'Pub', 'Neighborhood', 'Baseball Stadium', 'Road',\n",
    "       'Italian Restaurant']\n",
    "\n",
    "X = foursquare_days_df[feature_cols]\n",
    "y = foursquare_days_df[\"Coffee Shop\"]"
   ]
  },
  {
   "cell_type": "code",
   "execution_count": 631,
   "metadata": {},
   "outputs": [
    {
     "data": {
      "text/plain": [
       "DecisionTreeClassifier(class_weight=None, criterion='gini', max_depth=3,\n",
       "            max_features=None, max_leaf_nodes=None,\n",
       "            min_impurity_decrease=0.0, min_impurity_split=None,\n",
       "            min_samples_leaf=1, min_samples_split=2,\n",
       "            min_weight_fraction_leaf=0.0, presort=False, random_state=None,\n",
       "            splitter='best')"
      ]
     },
     "execution_count": 631,
     "metadata": {},
     "output_type": "execute_result"
    }
   ],
   "source": [
    "from sklearn.model_selection import train_test_split\n",
    "\n",
    "X_train, X_test, y_train, y_test = train_test_split(X, y)\n",
    "treeclf = DecisionTreeClassifier(max_depth=3)\n",
    "treeclf.fit(X_train, y_train)"
   ]
  },
  {
   "cell_type": "code",
   "execution_count": 632,
   "metadata": {},
   "outputs": [
    {
     "data": {
      "text/plain": [
       "0.89082568807339446"
      ]
     },
     "execution_count": 632,
     "metadata": {},
     "output_type": "execute_result"
    }
   ],
   "source": [
    "from sklearn.metrics import accuracy_score\n",
    "\n",
    "y_predict = treeclf.predict(X_test)\n",
    "accuracy_score(y_test, y_predict)"
   ]
  },
  {
   "cell_type": "markdown",
   "metadata": {},
   "source": [
    "#### Model 2: Random Forest Classifier"
   ]
  },
  {
   "cell_type": "code",
   "execution_count": 633,
   "metadata": {
    "collapsed": true
   },
   "outputs": [],
   "source": [
    "feature_cols = ['Office', 'Subway', 'American Restaurant', 'Bar',\n",
    "       'Government Building', 'Hotel', 'Train Station', 'Gym',\n",
    "       'Grocery Store', 'Home (private)',\n",
    "       'Residential Building (Apartment / Condo)', 'Park',\n",
    "       'Mexican Restaurant', 'Sandwich Place', 'Lounge', 'Building',\n",
    "       'Pizza Place', 'Pub', 'Neighborhood', 'Baseball Stadium', 'Road',\n",
    "       'Italian Restaurant']\n",
    "\n",
    "X = foursquare_days_df[feature_cols]\n",
    "y = foursquare_days_df[\"Coffee Shop\"]"
   ]
  },
  {
   "cell_type": "code",
   "execution_count": 634,
   "metadata": {},
   "outputs": [
    {
     "data": {
      "text/html": [
       "<div>\n",
       "<style>\n",
       "    .dataframe thead tr:only-child th {\n",
       "        text-align: right;\n",
       "    }\n",
       "\n",
       "    .dataframe thead th {\n",
       "        text-align: left;\n",
       "    }\n",
       "\n",
       "    .dataframe tbody tr th {\n",
       "        vertical-align: top;\n",
       "    }\n",
       "</style>\n",
       "<table border=\"1\" class=\"dataframe\">\n",
       "  <thead>\n",
       "    <tr style=\"text-align: right;\">\n",
       "      <th></th>\n",
       "      <th>feature</th>\n",
       "      <th>importance</th>\n",
       "    </tr>\n",
       "  </thead>\n",
       "  <tbody>\n",
       "    <tr>\n",
       "      <th>1</th>\n",
       "      <td>Subway</td>\n",
       "      <td>0.073870</td>\n",
       "    </tr>\n",
       "    <tr>\n",
       "      <th>0</th>\n",
       "      <td>Office</td>\n",
       "      <td>0.067590</td>\n",
       "    </tr>\n",
       "    <tr>\n",
       "      <th>2</th>\n",
       "      <td>American Restaurant</td>\n",
       "      <td>0.062004</td>\n",
       "    </tr>\n",
       "    <tr>\n",
       "      <th>9</th>\n",
       "      <td>Home (private)</td>\n",
       "      <td>0.059526</td>\n",
       "    </tr>\n",
       "    <tr>\n",
       "      <th>8</th>\n",
       "      <td>Grocery Store</td>\n",
       "      <td>0.052775</td>\n",
       "    </tr>\n",
       "    <tr>\n",
       "      <th>4</th>\n",
       "      <td>Government Building</td>\n",
       "      <td>0.052584</td>\n",
       "    </tr>\n",
       "    <tr>\n",
       "      <th>6</th>\n",
       "      <td>Train Station</td>\n",
       "      <td>0.051476</td>\n",
       "    </tr>\n",
       "    <tr>\n",
       "      <th>12</th>\n",
       "      <td>Mexican Restaurant</td>\n",
       "      <td>0.048970</td>\n",
       "    </tr>\n",
       "    <tr>\n",
       "      <th>5</th>\n",
       "      <td>Hotel</td>\n",
       "      <td>0.048461</td>\n",
       "    </tr>\n",
       "    <tr>\n",
       "      <th>10</th>\n",
       "      <td>Residential Building (Apartment / Condo)</td>\n",
       "      <td>0.048319</td>\n",
       "    </tr>\n",
       "    <tr>\n",
       "      <th>11</th>\n",
       "      <td>Park</td>\n",
       "      <td>0.046951</td>\n",
       "    </tr>\n",
       "    <tr>\n",
       "      <th>7</th>\n",
       "      <td>Gym</td>\n",
       "      <td>0.045382</td>\n",
       "    </tr>\n",
       "    <tr>\n",
       "      <th>13</th>\n",
       "      <td>Sandwich Place</td>\n",
       "      <td>0.044461</td>\n",
       "    </tr>\n",
       "    <tr>\n",
       "      <th>3</th>\n",
       "      <td>Bar</td>\n",
       "      <td>0.043936</td>\n",
       "    </tr>\n",
       "    <tr>\n",
       "      <th>18</th>\n",
       "      <td>Neighborhood</td>\n",
       "      <td>0.042722</td>\n",
       "    </tr>\n",
       "    <tr>\n",
       "      <th>15</th>\n",
       "      <td>Building</td>\n",
       "      <td>0.040027</td>\n",
       "    </tr>\n",
       "    <tr>\n",
       "      <th>16</th>\n",
       "      <td>Pizza Place</td>\n",
       "      <td>0.037468</td>\n",
       "    </tr>\n",
       "    <tr>\n",
       "      <th>17</th>\n",
       "      <td>Pub</td>\n",
       "      <td>0.033834</td>\n",
       "    </tr>\n",
       "    <tr>\n",
       "      <th>21</th>\n",
       "      <td>Italian Restaurant</td>\n",
       "      <td>0.032145</td>\n",
       "    </tr>\n",
       "    <tr>\n",
       "      <th>14</th>\n",
       "      <td>Lounge</td>\n",
       "      <td>0.031301</td>\n",
       "    </tr>\n",
       "    <tr>\n",
       "      <th>19</th>\n",
       "      <td>Baseball Stadium</td>\n",
       "      <td>0.021210</td>\n",
       "    </tr>\n",
       "    <tr>\n",
       "      <th>20</th>\n",
       "      <td>Road</td>\n",
       "      <td>0.014988</td>\n",
       "    </tr>\n",
       "  </tbody>\n",
       "</table>\n",
       "</div>"
      ],
      "text/plain": [
       "                                     feature  importance\n",
       "1                                     Subway    0.073870\n",
       "0                                     Office    0.067590\n",
       "2                        American Restaurant    0.062004\n",
       "9                             Home (private)    0.059526\n",
       "8                              Grocery Store    0.052775\n",
       "4                        Government Building    0.052584\n",
       "6                              Train Station    0.051476\n",
       "12                        Mexican Restaurant    0.048970\n",
       "5                                      Hotel    0.048461\n",
       "10  Residential Building (Apartment / Condo)    0.048319\n",
       "11                                      Park    0.046951\n",
       "7                                        Gym    0.045382\n",
       "13                            Sandwich Place    0.044461\n",
       "3                                        Bar    0.043936\n",
       "18                              Neighborhood    0.042722\n",
       "15                                  Building    0.040027\n",
       "16                               Pizza Place    0.037468\n",
       "17                                       Pub    0.033834\n",
       "21                        Italian Restaurant    0.032145\n",
       "14                                    Lounge    0.031301\n",
       "19                          Baseball Stadium    0.021210\n",
       "20                                      Road    0.014988"
      ]
     },
     "execution_count": 634,
     "metadata": {},
     "output_type": "execute_result"
    }
   ],
   "source": [
    "from sklearn.ensemble import RandomForestClassifier\n",
    "from sklearn.datasets import make_classification\n",
    "\n",
    "rfclas = RandomForestClassifier(n_estimators=150, max_features=5, oob_score=True)\n",
    "rfclas.fit(X, y)\n",
    "\n",
    "pd.DataFrame({'feature':feature_cols, 'importance':rfclas.feature_importances_}).sort_values('importance', ascending=False)"
   ]
  },
  {
   "cell_type": "code",
   "execution_count": 635,
   "metadata": {},
   "outputs": [
    {
     "name": "stdout",
     "output_type": "stream",
     "text": [
      "accuracy: 0.893119266055\n"
     ]
    },
    {
     "data": {
      "text/html": [
       "<div>\n",
       "<style>\n",
       "    .dataframe thead tr:only-child th {\n",
       "        text-align: right;\n",
       "    }\n",
       "\n",
       "    .dataframe thead th {\n",
       "        text-align: left;\n",
       "    }\n",
       "\n",
       "    .dataframe tbody tr th {\n",
       "        vertical-align: top;\n",
       "    }\n",
       "</style>\n",
       "<table border=\"1\" class=\"dataframe\">\n",
       "  <thead>\n",
       "    <tr style=\"text-align: right;\">\n",
       "      <th></th>\n",
       "      <th>feature</th>\n",
       "      <th>importance</th>\n",
       "    </tr>\n",
       "  </thead>\n",
       "  <tbody>\n",
       "    <tr>\n",
       "      <th>1</th>\n",
       "      <td>Subway</td>\n",
       "      <td>0.067855</td>\n",
       "    </tr>\n",
       "    <tr>\n",
       "      <th>0</th>\n",
       "      <td>Office</td>\n",
       "      <td>0.066316</td>\n",
       "    </tr>\n",
       "    <tr>\n",
       "      <th>2</th>\n",
       "      <td>American Restaurant</td>\n",
       "      <td>0.060872</td>\n",
       "    </tr>\n",
       "    <tr>\n",
       "      <th>9</th>\n",
       "      <td>Home (private)</td>\n",
       "      <td>0.056277</td>\n",
       "    </tr>\n",
       "    <tr>\n",
       "      <th>4</th>\n",
       "      <td>Government Building</td>\n",
       "      <td>0.055324</td>\n",
       "    </tr>\n",
       "  </tbody>\n",
       "</table>\n",
       "</div>"
      ],
      "text/plain": [
       "               feature  importance\n",
       "1               Subway    0.067855\n",
       "0               Office    0.066316\n",
       "2  American Restaurant    0.060872\n",
       "9       Home (private)    0.056277\n",
       "4  Government Building    0.055324"
      ]
     },
     "execution_count": 635,
     "metadata": {},
     "output_type": "execute_result"
    }
   ],
   "source": [
    "rfclas = RandomForestClassifier(n_estimators=150, max_features=5, oob_score=True)\n",
    "\n",
    "X_train, X_test, y_train, y_test = train_test_split(X, y)\n",
    "rfclas.fit(X_train, y_train)\n",
    "y_predict = rfclas.predict(X_test)\n",
    "print('accuracy: ' + str(accuracy_score(y_test, y_predict)))\n",
    "\n",
    "pd.DataFrame({'feature':feature_cols, 'importance':rfclas.feature_importances_}).sort_values('importance', ascending=False).head()"
   ]
  },
  {
   "cell_type": "markdown",
   "metadata": {},
   "source": [
    "#### Hypothesis 1 conclusion\n",
    "- The first model I used was a decision tree, and then I tried implementing a random forest. What I found was that the decision tree was much easier to interpret due to its ability to pick out the most important features, rather than using all of the features. The accuracy was also almost exactly the same. From this I found that the most common places for a person to visit on the same day as a coffee shop are the park, Subway, a Sandwich Place (other than subway I presume), the Gym, and a Train Station."
   ]
  },
  {
   "cell_type": "markdown",
   "metadata": {},
   "source": [
    "<a id=\"hyp_2\"></a>"
   ]
  },
  {
   "cell_type": "markdown",
   "metadata": {},
   "source": [
    "### Hypothesis 2: compare various factors of each zip code to the check in count to find a linear relationship. If we can find a linear relationship, we can use this to determine the best zip code for maximizing coffee shop check-ins."
   ]
  },
  {
   "cell_type": "code",
   "execution_count": 636,
   "metadata": {},
   "outputs": [
    {
     "data": {
      "text/html": [
       "<div>\n",
       "<style>\n",
       "    .dataframe thead tr:only-child th {\n",
       "        text-align: right;\n",
       "    }\n",
       "\n",
       "    .dataframe thead th {\n",
       "        text-align: left;\n",
       "    }\n",
       "\n",
       "    .dataframe tbody tr th {\n",
       "        vertical-align: top;\n",
       "    }\n",
       "</style>\n",
       "<table border=\"1\" class=\"dataframe\">\n",
       "  <thead>\n",
       "    <tr style=\"text-align: right;\">\n",
       "      <th></th>\n",
       "      <th>zip_code</th>\n",
       "      <th>coffeeshop_counts</th>\n",
       "      <th>estimate_total</th>\n",
       "      <th>median_age</th>\n",
       "      <th>mean_income</th>\n",
       "      <th>percent_public_transport</th>\n",
       "    </tr>\n",
       "  </thead>\n",
       "  <tbody>\n",
       "    <tr>\n",
       "      <th>0</th>\n",
       "      <td>20001</td>\n",
       "      <td>942</td>\n",
       "      <td>44998</td>\n",
       "      <td>30.6</td>\n",
       "      <td>106670.0</td>\n",
       "      <td>0.353349</td>\n",
       "    </tr>\n",
       "    <tr>\n",
       "      <th>1</th>\n",
       "      <td>20002</td>\n",
       "      <td>172</td>\n",
       "      <td>59659</td>\n",
       "      <td>34.0</td>\n",
       "      <td>98792.0</td>\n",
       "      <td>0.361972</td>\n",
       "    </tr>\n",
       "    <tr>\n",
       "      <th>2</th>\n",
       "      <td>20003</td>\n",
       "      <td>225</td>\n",
       "      <td>29071</td>\n",
       "      <td>34.8</td>\n",
       "      <td>140336.0</td>\n",
       "      <td>0.401540</td>\n",
       "    </tr>\n",
       "    <tr>\n",
       "      <th>3</th>\n",
       "      <td>20004</td>\n",
       "      <td>148</td>\n",
       "      <td>1708</td>\n",
       "      <td>41.0</td>\n",
       "      <td>173373.0</td>\n",
       "      <td>0.312452</td>\n",
       "    </tr>\n",
       "    <tr>\n",
       "      <th>4</th>\n",
       "      <td>20007</td>\n",
       "      <td>175</td>\n",
       "      <td>26415</td>\n",
       "      <td>33.2</td>\n",
       "      <td>180698.0</td>\n",
       "      <td>0.233151</td>\n",
       "    </tr>\n",
       "    <tr>\n",
       "      <th>5</th>\n",
       "      <td>20008</td>\n",
       "      <td>14</td>\n",
       "      <td>28261</td>\n",
       "      <td>37.1</td>\n",
       "      <td>164615.0</td>\n",
       "      <td>0.477948</td>\n",
       "    </tr>\n",
       "    <tr>\n",
       "      <th>6</th>\n",
       "      <td>20009</td>\n",
       "      <td>97</td>\n",
       "      <td>51508</td>\n",
       "      <td>32.3</td>\n",
       "      <td>121153.0</td>\n",
       "      <td>0.433303</td>\n",
       "    </tr>\n",
       "    <tr>\n",
       "      <th>7</th>\n",
       "      <td>20010</td>\n",
       "      <td>101</td>\n",
       "      <td>32421</td>\n",
       "      <td>32.0</td>\n",
       "      <td>92937.0</td>\n",
       "      <td>0.504061</td>\n",
       "    </tr>\n",
       "    <tr>\n",
       "      <th>8</th>\n",
       "      <td>20017</td>\n",
       "      <td>41</td>\n",
       "      <td>20371</td>\n",
       "      <td>37.5</td>\n",
       "      <td>81027.0</td>\n",
       "      <td>0.388251</td>\n",
       "    </tr>\n",
       "    <tr>\n",
       "      <th>9</th>\n",
       "      <td>20024</td>\n",
       "      <td>1</td>\n",
       "      <td>12183</td>\n",
       "      <td>38.2</td>\n",
       "      <td>90712.0</td>\n",
       "      <td>0.441809</td>\n",
       "    </tr>\n",
       "    <tr>\n",
       "      <th>10</th>\n",
       "      <td>20036</td>\n",
       "      <td>364</td>\n",
       "      <td>5655</td>\n",
       "      <td>32.7</td>\n",
       "      <td>108420.0</td>\n",
       "      <td>0.363870</td>\n",
       "    </tr>\n",
       "    <tr>\n",
       "      <th>11</th>\n",
       "      <td>20037</td>\n",
       "      <td>98</td>\n",
       "      <td>15285</td>\n",
       "      <td>26.7</td>\n",
       "      <td>137690.0</td>\n",
       "      <td>0.284997</td>\n",
       "    </tr>\n",
       "  </tbody>\n",
       "</table>\n",
       "</div>"
      ],
      "text/plain": [
       "   zip_code  coffeeshop_counts  estimate_total  median_age  mean_income  \\\n",
       "0     20001                942           44998        30.6     106670.0   \n",
       "1     20002                172           59659        34.0      98792.0   \n",
       "2     20003                225           29071        34.8     140336.0   \n",
       "3     20004                148            1708        41.0     173373.0   \n",
       "4     20007                175           26415        33.2     180698.0   \n",
       "5     20008                 14           28261        37.1     164615.0   \n",
       "6     20009                 97           51508        32.3     121153.0   \n",
       "7     20010                101           32421        32.0      92937.0   \n",
       "8     20017                 41           20371        37.5      81027.0   \n",
       "9     20024                  1           12183        38.2      90712.0   \n",
       "10    20036                364            5655        32.7     108420.0   \n",
       "11    20037                 98           15285        26.7     137690.0   \n",
       "\n",
       "    percent_public_transport  \n",
       "0                   0.353349  \n",
       "1                   0.361972  \n",
       "2                   0.401540  \n",
       "3                   0.312452  \n",
       "4                   0.233151  \n",
       "5                   0.477948  \n",
       "6                   0.433303  \n",
       "7                   0.504061  \n",
       "8                   0.388251  \n",
       "9                   0.441809  \n",
       "10                  0.363870  \n",
       "11                  0.284997  "
      ]
     },
     "execution_count": 636,
     "metadata": {},
     "output_type": "execute_result"
    }
   ],
   "source": [
    "checkins_and_zipdata_df"
   ]
  },
  {
   "cell_type": "code",
   "execution_count": 637,
   "metadata": {},
   "outputs": [
    {
     "data": {
      "text/plain": [
       "coffeeshop_counts           1.000000\n",
       "estimate_total              0.244147\n",
       "median_age                 -0.362762\n",
       "mean_income                -0.108608\n",
       "percent_public_transport   -0.244719\n",
       "Name: coffeeshop_counts, dtype: float64"
      ]
     },
     "execution_count": 637,
     "metadata": {},
     "output_type": "execute_result"
    }
   ],
   "source": [
    "checkins_and_zipdata_df.corr().coffeeshop_counts"
   ]
  },
  {
   "cell_type": "code",
   "execution_count": 639,
   "metadata": {},
   "outputs": [
    {
     "data": {
      "text/plain": [
       "LinearRegression(copy_X=True, fit_intercept=True, n_jobs=1, normalize=False)"
      ]
     },
     "execution_count": 639,
     "metadata": {},
     "output_type": "execute_result"
    }
   ],
   "source": [
    "from sklearn.linear_model import LinearRegression\n",
    "feature_cols = ['estimate_total', 'median_age', 'mean_income', 'percent_public_transport']\n",
    "\n",
    "X = checkins_and_zipdata_df[feature_cols]\n",
    "y = checkins_and_zipdata_df.coffeeshop_counts\n",
    "\n",
    "lr = LinearRegression()\n",
    "lr.fit(X, y)"
   ]
  },
  {
   "cell_type": "code",
   "execution_count": 640,
   "metadata": {
    "scrolled": true
   },
   "outputs": [
    {
     "data": {
      "text/plain": [
       "[('estimate_total', 0.0029074153871758894),\n",
       " ('median_age', -12.929857508771683),\n",
       " ('mean_income', -0.0014136747322612395),\n",
       " ('percent_public_transport', -1080.950452416598)]"
      ]
     },
     "execution_count": 640,
     "metadata": {},
     "output_type": "execute_result"
    }
   ],
   "source": [
    "list(zip(feature_cols, lr.coef_))"
   ]
  },
  {
   "cell_type": "markdown",
   "metadata": {},
   "source": [
    "#### Hypothesis 2 conclusion\n",
    "- Based on the coefficients and correlations found from the above linear regression model, of the listed features age is the most significant factor in coffee shop checkins. For every additional year on the median age, coffee shop check-ins goes down by 20. Therefor, I should look for the zip code with the lowest median age."
   ]
  },
  {
   "cell_type": "markdown",
   "metadata": {},
   "source": [
    "## Machine Learning Conclusion\n",
    "- Based on the results of the models executed in this section, I am looking for the zip code with the greatest presense of parks and sandwich shops, with the lowest median age."
   ]
  },
  {
   "cell_type": "markdown",
   "metadata": {},
   "source": [
    "<a id=\"conclusion\"></a>"
   ]
  },
  {
   "cell_type": "markdown",
   "metadata": {},
   "source": [
    "## Conclusion"
   ]
  },
  {
   "cell_type": "code",
   "execution_count": 641,
   "metadata": {},
   "outputs": [],
   "source": [
    "find_best_zip = businesses_df[businesses_df.categories.str.contains('Sandwich')].groupby('zip_code').agg('count').name.reset_index(name=\"sandwich\")\n",
    "find_best_zip = find_best_zip.merge(businesses_df[businesses_df.categories.str.contains('Park')].groupby('zip_code').agg('count').name.reset_index(name=\"park\"))\n",
    "\n",
    "# since the model revealed that these two categories are weighted similarly,\n",
    "# I'll just add them.\n",
    "find_best_zip['total'] = find_best_zip['sandwich'] + find_best_zip['park']\n",
    "find_best_zip = find_best_zip.merge(businesses_df[businesses_df.categories.str.contains('Coffee')].groupby('zip_code').agg('count').name.reset_index(name=\"coffee\"))"
   ]
  },
  {
   "cell_type": "code",
   "execution_count": 642,
   "metadata": {},
   "outputs": [
    {
     "data": {
      "text/html": [
       "<div>\n",
       "<style>\n",
       "    .dataframe thead tr:only-child th {\n",
       "        text-align: right;\n",
       "    }\n",
       "\n",
       "    .dataframe thead th {\n",
       "        text-align: left;\n",
       "    }\n",
       "\n",
       "    .dataframe tbody tr th {\n",
       "        vertical-align: top;\n",
       "    }\n",
       "</style>\n",
       "<table border=\"1\" class=\"dataframe\">\n",
       "  <thead>\n",
       "    <tr style=\"text-align: right;\">\n",
       "      <th></th>\n",
       "      <th>zip_code</th>\n",
       "      <th>sandwich</th>\n",
       "      <th>park</th>\n",
       "      <th>total</th>\n",
       "      <th>coffee</th>\n",
       "    </tr>\n",
       "  </thead>\n",
       "  <tbody>\n",
       "    <tr>\n",
       "      <th>0</th>\n",
       "      <td>20001</td>\n",
       "      <td>54</td>\n",
       "      <td>8</td>\n",
       "      <td>62</td>\n",
       "      <td>43</td>\n",
       "    </tr>\n",
       "    <tr>\n",
       "      <th>5</th>\n",
       "      <td>20006</td>\n",
       "      <td>34</td>\n",
       "      <td>5</td>\n",
       "      <td>39</td>\n",
       "      <td>31</td>\n",
       "    </tr>\n",
       "    <tr>\n",
       "      <th>4</th>\n",
       "      <td>20005</td>\n",
       "      <td>36</td>\n",
       "      <td>2</td>\n",
       "      <td>38</td>\n",
       "      <td>33</td>\n",
       "    </tr>\n",
       "    <tr>\n",
       "      <th>8</th>\n",
       "      <td>20009</td>\n",
       "      <td>30</td>\n",
       "      <td>4</td>\n",
       "      <td>34</td>\n",
       "      <td>41</td>\n",
       "    </tr>\n",
       "    <tr>\n",
       "      <th>1</th>\n",
       "      <td>20002</td>\n",
       "      <td>28</td>\n",
       "      <td>5</td>\n",
       "      <td>33</td>\n",
       "      <td>33</td>\n",
       "    </tr>\n",
       "    <tr>\n",
       "      <th>2</th>\n",
       "      <td>20003</td>\n",
       "      <td>22</td>\n",
       "      <td>9</td>\n",
       "      <td>31</td>\n",
       "      <td>20</td>\n",
       "    </tr>\n",
       "    <tr>\n",
       "      <th>16</th>\n",
       "      <td>20024</td>\n",
       "      <td>21</td>\n",
       "      <td>7</td>\n",
       "      <td>28</td>\n",
       "      <td>15</td>\n",
       "    </tr>\n",
       "    <tr>\n",
       "      <th>3</th>\n",
       "      <td>20004</td>\n",
       "      <td>23</td>\n",
       "      <td>1</td>\n",
       "      <td>24</td>\n",
       "      <td>20</td>\n",
       "    </tr>\n",
       "    <tr>\n",
       "      <th>6</th>\n",
       "      <td>20007</td>\n",
       "      <td>18</td>\n",
       "      <td>6</td>\n",
       "      <td>24</td>\n",
       "      <td>20</td>\n",
       "    </tr>\n",
       "    <tr>\n",
       "      <th>18</th>\n",
       "      <td>20036</td>\n",
       "      <td>21</td>\n",
       "      <td>1</td>\n",
       "      <td>22</td>\n",
       "      <td>27</td>\n",
       "    </tr>\n",
       "  </tbody>\n",
       "</table>\n",
       "</div>"
      ],
      "text/plain": [
       "   zip_code  sandwich  park  total  coffee\n",
       "0     20001        54     8     62      43\n",
       "5     20006        34     5     39      31\n",
       "4     20005        36     2     38      33\n",
       "8     20009        30     4     34      41\n",
       "1     20002        28     5     33      33\n",
       "2     20003        22     9     31      20\n",
       "16    20024        21     7     28      15\n",
       "3     20004        23     1     24      20\n",
       "6     20007        18     6     24      20\n",
       "18    20036        21     1     22      27"
      ]
     },
     "execution_count": 642,
     "metadata": {},
     "output_type": "execute_result"
    }
   ],
   "source": [
    "find_best_zip.sort_values('total', ascending=False).head(10)"
   ]
  },
  {
   "cell_type": "code",
   "execution_count": 643,
   "metadata": {},
   "outputs": [],
   "source": [
    "# add the median age\n",
    "find_best_zip = find_best_zip.merge(zipfeatures_df[['zip_code', 'median_age']])"
   ]
  },
  {
   "cell_type": "code",
   "execution_count": 644,
   "metadata": {},
   "outputs": [
    {
     "data": {
      "text/html": [
       "<div>\n",
       "<style>\n",
       "    .dataframe thead tr:only-child th {\n",
       "        text-align: right;\n",
       "    }\n",
       "\n",
       "    .dataframe thead th {\n",
       "        text-align: left;\n",
       "    }\n",
       "\n",
       "    .dataframe tbody tr th {\n",
       "        vertical-align: top;\n",
       "    }\n",
       "</style>\n",
       "<table border=\"1\" class=\"dataframe\">\n",
       "  <thead>\n",
       "    <tr style=\"text-align: right;\">\n",
       "      <th></th>\n",
       "      <th>zip_code</th>\n",
       "      <th>sandwich</th>\n",
       "      <th>park</th>\n",
       "      <th>total</th>\n",
       "      <th>coffee</th>\n",
       "      <th>median_age</th>\n",
       "    </tr>\n",
       "  </thead>\n",
       "  <tbody>\n",
       "    <tr>\n",
       "      <th>0</th>\n",
       "      <td>20001</td>\n",
       "      <td>54</td>\n",
       "      <td>8</td>\n",
       "      <td>62</td>\n",
       "      <td>43</td>\n",
       "      <td>30.6</td>\n",
       "    </tr>\n",
       "    <tr>\n",
       "      <th>5</th>\n",
       "      <td>20006</td>\n",
       "      <td>34</td>\n",
       "      <td>5</td>\n",
       "      <td>39</td>\n",
       "      <td>31</td>\n",
       "      <td>20.6</td>\n",
       "    </tr>\n",
       "    <tr>\n",
       "      <th>4</th>\n",
       "      <td>20005</td>\n",
       "      <td>36</td>\n",
       "      <td>2</td>\n",
       "      <td>38</td>\n",
       "      <td>33</td>\n",
       "      <td>33.8</td>\n",
       "    </tr>\n",
       "    <tr>\n",
       "      <th>8</th>\n",
       "      <td>20009</td>\n",
       "      <td>30</td>\n",
       "      <td>4</td>\n",
       "      <td>34</td>\n",
       "      <td>41</td>\n",
       "      <td>32.3</td>\n",
       "    </tr>\n",
       "    <tr>\n",
       "      <th>1</th>\n",
       "      <td>20002</td>\n",
       "      <td>28</td>\n",
       "      <td>5</td>\n",
       "      <td>33</td>\n",
       "      <td>33</td>\n",
       "      <td>34.0</td>\n",
       "    </tr>\n",
       "    <tr>\n",
       "      <th>2</th>\n",
       "      <td>20003</td>\n",
       "      <td>22</td>\n",
       "      <td>9</td>\n",
       "      <td>31</td>\n",
       "      <td>20</td>\n",
       "      <td>34.8</td>\n",
       "    </tr>\n",
       "    <tr>\n",
       "      <th>16</th>\n",
       "      <td>20024</td>\n",
       "      <td>21</td>\n",
       "      <td>7</td>\n",
       "      <td>28</td>\n",
       "      <td>15</td>\n",
       "      <td>38.2</td>\n",
       "    </tr>\n",
       "    <tr>\n",
       "      <th>3</th>\n",
       "      <td>20004</td>\n",
       "      <td>23</td>\n",
       "      <td>1</td>\n",
       "      <td>24</td>\n",
       "      <td>20</td>\n",
       "      <td>41.0</td>\n",
       "    </tr>\n",
       "    <tr>\n",
       "      <th>6</th>\n",
       "      <td>20007</td>\n",
       "      <td>18</td>\n",
       "      <td>6</td>\n",
       "      <td>24</td>\n",
       "      <td>20</td>\n",
       "      <td>33.2</td>\n",
       "    </tr>\n",
       "    <tr>\n",
       "      <th>18</th>\n",
       "      <td>20036</td>\n",
       "      <td>21</td>\n",
       "      <td>1</td>\n",
       "      <td>22</td>\n",
       "      <td>27</td>\n",
       "      <td>32.7</td>\n",
       "    </tr>\n",
       "  </tbody>\n",
       "</table>\n",
       "</div>"
      ],
      "text/plain": [
       "   zip_code  sandwich  park  total  coffee  median_age\n",
       "0     20001        54     8     62      43        30.6\n",
       "5     20006        34     5     39      31        20.6\n",
       "4     20005        36     2     38      33        33.8\n",
       "8     20009        30     4     34      41        32.3\n",
       "1     20002        28     5     33      33        34.0\n",
       "2     20003        22     9     31      20        34.8\n",
       "16    20024        21     7     28      15        38.2\n",
       "3     20004        23     1     24      20        41.0\n",
       "6     20007        18     6     24      20        33.2\n",
       "18    20036        21     1     22      27        32.7"
      ]
     },
     "execution_count": 644,
     "metadata": {},
     "output_type": "execute_result"
    }
   ],
   "source": [
    "find_best_zip.sort_values('total', ascending=False).head(10)"
   ]
  },
  {
   "cell_type": "markdown",
   "metadata": {},
   "source": [
    "It is tempting to go with the 20001 zip code, but we can see that there are already 43 coffee shops in this area, and the median age is significantly higher than the next row down. 20006 has a significant number of parks and sandwich shops, and a relatively low number of coffee shops. It also has the lowest median age on the list. For these reasons, I have selected the 20006 zip code."
   ]
  },
  {
   "cell_type": "code",
   "execution_count": 645,
   "metadata": {},
   "outputs": [],
   "source": [
    "businesses_20006zip_df = businesses_df[(businesses_df.categories.str.contains('Coffee')) & \n",
    "              (businesses_df.zip_code.isin(['20006', '20036']))]"
   ]
  },
  {
   "cell_type": "markdown",
   "metadata": {},
   "source": [
    "At this point I ran into an issue that I did not anticipate. There were no suitable properties available in 20006, as far as I could find. That being said, just a few blocks north is 20036. The data above for 20036 is not as ideal, but the median age is still relatively low, and it's close enough to 20006. I found several properties in this location, and chose the one denoted with a red mark below."
   ]
  },
  {
   "cell_type": "code",
   "execution_count": 646,
   "metadata": {},
   "outputs": [
    {
     "data": {
      "text/html": [
       "<div style=\"width:100%;\"><div style=\"position:relative;width:100%;height:0;padding-bottom:60%;\"><iframe src=\"data:text/html;charset=utf-8;base64,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\" style=\"position:absolute;width:100%;height:100%;left:0;top:0;border:none !important;\" allowfullscreen webkitallowfullscreen mozallowfullscreen></iframe></div></div>"
      ],
      "text/plain": [
       "<folium.folium.Map at 0x1ca73963780>"
      ]
     },
     "execution_count": 646,
     "metadata": {},
     "output_type": "execute_result"
    }
   ],
   "source": [
    "import folium\n",
    "\n",
    "folium_map = folium.Map(location=[38.904265, -77.041656],\n",
    "                        zoom_start=15)\n",
    "\n",
    "for index, row in businesses_20006zip_df.iterrows():\n",
    "    folium.Marker([row[\"latitude\"], row[\"longitude\"]], popup=folium.Popup(row['name'], parse_html=True)).add_to(folium_map)\n",
    "    \n",
    "folium.Marker([38.9062766, -77.0418966], icon=folium.Icon(color=\"red\"), popup=folium.Popup('Selected Location', parse_html=True)).add_to(folium_map)\n",
    "\n",
    "folium_map"
   ]
  },
  {
   "cell_type": "code",
   "execution_count": 647,
   "metadata": {},
   "outputs": [
    {
     "data": {
      "text/html": [
       "\n",
       "        <iframe\n",
       "            width=\"800\"\n",
       "            height=\"600\"\n",
       "            src=\"./assets/document.pdf\"\n",
       "            frameborder=\"0\"\n",
       "            allowfullscreen\n",
       "        ></iframe>\n",
       "        "
      ],
      "text/plain": [
       "<IPython.lib.display.IFrame at 0x1ca7397eba8>"
      ]
     },
     "execution_count": 647,
     "metadata": {},
     "output_type": "execute_result"
    }
   ],
   "source": [
    "# here is a flier for the property from the property management company.\n",
    "from IPython.display import IFrame\n",
    "IFrame(\"./assets/document.pdf\", width=800, height=600)"
   ]
  },
  {
   "cell_type": "code",
   "execution_count": null,
   "metadata": {
    "collapsed": true
   },
   "outputs": [],
   "source": []
  }
 ],
 "metadata": {
  "kernelspec": {
   "display_name": "Python 3",
   "language": "python",
   "name": "python3"
  },
  "language_info": {
   "codemirror_mode": {
    "name": "ipython",
    "version": 3
   },
   "file_extension": ".py",
   "mimetype": "text/x-python",
   "name": "python",
   "nbconvert_exporter": "python",
   "pygments_lexer": "ipython3",
   "version": "3.6.4"
  }
 },
 "nbformat": 4,
 "nbformat_minor": 2
}
