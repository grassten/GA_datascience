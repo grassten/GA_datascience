{
 "cells": [
  {
   "cell_type": "markdown",
   "metadata": {},
   "source": [
    "1. ~~To create a Jupyter .ipynb notebook for data analysis~~\n",
    "2. ~~Import your data or data files and to save as dataframes~~\n",
    "3. ~~Examine your data, columns and rows and rename and adjust indexing and encoding as appropriate~~\n",
    "4. ~~Clean null and blank values, and consider to drop rows, as well as to manipulate data and adjust data types as appropriate, including dates and time, or setting appropriate indices. Adjusting specific values and replacing strings and characters for the data wrangling process.~~\n",
    "5. ~~Explore analysis with graphing and visualizations with matplotlib and seaborn and alternative visualization packages (Plotly, bokeh, altair, vincent)~~\n",
    "6. ~~Perform additional analysis by creating new columns for calculations, including aggregator functions, counts and groupbys.~~\n",
    "7. Encode categorical variables with a variety of techniques through logical conditions, where clauses, or one hot encoding\n",
    "8. Re-run calculations, including crosstabs or pivots, and new graphs to see results\n",
    "9. Create correlation matrices, pairplots and heatmaps to determine which attributes should be features for your models and which attributes should not\n",
    "10. Identify the response variables(s) that you would want to predict/classify/interpret with data science\n",
    "11. ~~Perform additional feature engineering as necessary, including Min/Max, Normalizaton, Scaling, and additional Pipeline changes that may be beneficial or helpful when you run machine learning~~\n",
    "12. ~~Merge or concatenate datasets if you have not already, based on common keys or unique items for more in-depth analysis~~\n",
    "13. ~~Add commenting and markdown throughout the jupyter notebook to explain the interpretation of your results or to comment on code that may not be human readable, and help you recall for you what you are referencing.~~ \n",
    "14. ~~To create a markdown .md milestone report that shows and explains the results of what you have accomplished to date in this part of your course project. Consider also creating a .pdf or .pptx to display initial results, aha moments, or findings that would be novel or fascinating for your final presentations.~~\n"
   ]
  },
  {
   "cell_type": "markdown",
   "metadata": {},
   "source": [
    "# Part 3: Exploratory Data Analysis\n",
    "Project: New Coffee Shop Location\n",
    "<br/>\n",
    "\n",
    "#### Contents:\n",
    "- <a href=\"#import_and_structure\"><font color=\"green\">Import and structure data sets</font></a>\n",
    "    - <a href=\"#import_zip\"><font color=\"green\">Import zip_codes file</font></a>\n",
    "    - <a href=\"#import_acs\"><font color=\"green\">Import and combine ACS population datasets</font></a>\n",
    "    - <a href=\"#yelp_api\"><font color=\"red\">Yelp API Calls & reformatting (don't run these, import in next section)</font></a>\n",
    "    - <a href=\"#import_foursquare\"><font color=\"red\">Import and reformat Foursquare dataset (don't run these, import in next section)</font></a>\n",
    "- <a href=\"#reimport_data\"><font color=\"green\">Import cleaned datasets</font></a>\n",
    "- <a href=\"#explore_data\"><font color=\"green\">Explore data</font></a>\n",
    "- <a href=\"#explore_data_old\"><font color=\"red\">Explore data (OLD HYPOTHESIS)</font></a>\n",
    "    \n",
    "    "
   ]
  },
  {
   "cell_type": "markdown",
   "metadata": {},
   "source": [
    "<a id=\"import_and_structure\"></a>\n",
    "# Import data files and save as dataframes."
   ]
  },
  {
   "cell_type": "code",
   "execution_count": 2,
   "metadata": {
    "collapsed": true
   },
   "outputs": [],
   "source": [
    "import pandas as pd\n",
    "from matplotlib import pyplot as plt\n",
    "\n",
    "%matplotlib inline"
   ]
  },
  {
   "cell_type": "markdown",
   "metadata": {},
   "source": [
    "<a id=\"import_zip\"></a>\n",
    "### Import zip_codes file (which contains all zip codes in dc-metro) into a python list."
   ]
  },
  {
   "cell_type": "code",
   "execution_count": 3,
   "metadata": {
    "collapsed": true
   },
   "outputs": [],
   "source": [
    "import csv\n",
    "with open('./data/zip_codes.csv', 'r') as f:\n",
    "    reader = csv.reader(f)\n",
    "    zip_codes = list(reader)\n",
    "    \n",
    "# convert list of lists attained from csv.reader to single flat list\n",
    "zip_codes_flat = [item for sublist in zip_codes for item in sublist]"
   ]
  },
  {
   "cell_type": "markdown",
   "metadata": {},
   "source": [
    "<a id=\"import_acs\"></a>\n",
    "### Import ACS Population Dataset"
   ]
  },
  {
   "cell_type": "code",
   "execution_count": 4,
   "metadata": {},
   "outputs": [
    {
     "data": {
      "text/html": [
       "<div>\n",
       "<style>\n",
       "    .dataframe thead tr:only-child th {\n",
       "        text-align: right;\n",
       "    }\n",
       "\n",
       "    .dataframe thead th {\n",
       "        text-align: left;\n",
       "    }\n",
       "\n",
       "    .dataframe tbody tr th {\n",
       "        vertical-align: top;\n",
       "    }\n",
       "</style>\n",
       "<table border=\"1\" class=\"dataframe\">\n",
       "  <thead>\n",
       "    <tr style=\"text-align: right;\">\n",
       "      <th></th>\n",
       "      <th>zip_code</th>\n",
       "      <th>estimate_total_2015</th>\n",
       "      <th>estimate_total_2016</th>\n",
       "    </tr>\n",
       "  </thead>\n",
       "  <tbody>\n",
       "    <tr>\n",
       "      <th>0</th>\n",
       "      <td>20001</td>\n",
       "      <td>43731</td>\n",
       "      <td>44998</td>\n",
       "    </tr>\n",
       "    <tr>\n",
       "      <th>1</th>\n",
       "      <td>20002</td>\n",
       "      <td>57412</td>\n",
       "      <td>59659</td>\n",
       "    </tr>\n",
       "    <tr>\n",
       "      <th>2</th>\n",
       "      <td>20003</td>\n",
       "      <td>28538</td>\n",
       "      <td>29071</td>\n",
       "    </tr>\n",
       "    <tr>\n",
       "      <th>3</th>\n",
       "      <td>20004</td>\n",
       "      <td>1667</td>\n",
       "      <td>1708</td>\n",
       "    </tr>\n",
       "    <tr>\n",
       "      <th>4</th>\n",
       "      <td>20005</td>\n",
       "      <td>12947</td>\n",
       "      <td>13063</td>\n",
       "    </tr>\n",
       "  </tbody>\n",
       "</table>\n",
       "</div>"
      ],
      "text/plain": [
       "   zip_code  estimate_total_2015  estimate_total_2016\n",
       "0     20001                43731                44998\n",
       "1     20002                57412                59659\n",
       "2     20003                28538                29071\n",
       "3     20004                 1667                 1708\n",
       "4     20005                12947                13063"
      ]
     },
     "execution_count": 4,
     "metadata": {},
     "output_type": "execute_result"
    }
   ],
   "source": [
    "# create dataframe with 2015 & 2016 data to compare for change in population\n",
    "popul2015_df = pd.read_csv('./data/ACS_15_5YR_B01003_with_ann.csv', names=('zip_code', 'estimate_total'), skiprows=1)\n",
    "popul2016_df = pd.read_csv('./data/ACS_16_5YR_B01003_with_ann.csv', names=('zip_code', 'estimate_total'), skiprows=1)\n",
    "populchange_df = popul2015_df.merge(popul2016_df, on=\"zip_code\", suffixes=('_2015', '_2016'))\n",
    "\n",
    "populchange_df.head()"
   ]
  },
  {
   "cell_type": "code",
   "execution_count": 5,
   "metadata": {
    "collapsed": true
   },
   "outputs": [],
   "source": [
    "populchange_df = populchange_df[populchange_df.zip_code.isin(zip_codes_flat)]"
   ]
  },
  {
   "cell_type": "code",
   "execution_count": 6,
   "metadata": {},
   "outputs": [
    {
     "data": {
      "text/plain": [
       "zip_code               int64\n",
       "estimate_total_2015    int64\n",
       "estimate_total_2016    int64\n",
       "dtype: object"
      ]
     },
     "execution_count": 6,
     "metadata": {},
     "output_type": "execute_result"
    }
   ],
   "source": [
    "populchange_df.dtypes"
   ]
  },
  {
   "cell_type": "code",
   "execution_count": 7,
   "metadata": {
    "collapsed": true
   },
   "outputs": [],
   "source": [
    "populchange_df['zip_code'] = populchange_df['zip_code'].astype(str)"
   ]
  },
  {
   "cell_type": "markdown",
   "metadata": {},
   "source": [
    "<a id=\"yelp_api\"></a>\n",
    "### Import Yelp dataset/call Yelp API.\n",
    "    - After importing the dataset I found it to be missing all data from DC area (maybe corrupted file?), so I chose to use  Yelp API.\n",
    "#### Note: <font color=Red>Don't run this code. Outputted, cleaned dataframe saved to file below and re-imported in the next section. I've marked where to begin running in red below.</font>"
   ]
  },
  {
   "cell_type": "code",
   "execution_count": 7,
   "metadata": {
    "collapsed": true
   },
   "outputs": [],
   "source": [
    "# businesses = pd.read_json('./data/business.json', lines=True)\n",
    "# businesses.shape\n",
    "# businesses.dtypes\n",
    "# businesses.head()\n",
    "# businesses[businesses.city.isin(zip_codes_flat)]"
   ]
  },
  {
   "cell_type": "code",
   "execution_count": 8,
   "metadata": {
    "collapsed": true,
    "scrolled": false
   },
   "outputs": [],
   "source": [
    "# This takes a very long time to run (calls the API 1200ish times; 10 minutes on my PC)\n",
    "# Query the yelp api for each zip code in the DC metro area\n",
    "# Since Yelp limit is 50 for businesses returned, we need to loop through pages of 50 using offsets\n",
    "\n",
    "import requests\n",
    "\n",
    "url = \"https://api.yelp.com/v3/businesses/search\"\n",
    "\n",
    "dict_responses = {}\n",
    "# for each zip code, gather up to 1001 businesses (should be enough for all businesses in each zip)\n",
    "for i in zip_codes_flat:\n",
    "    j = 1\n",
    "    while j <= 1001:\n",
    "        querystring = {'location': i, 'limit':50, 'offset':j}\n",
    "\n",
    "        headers = {\n",
    "            'authorization': #insert api key,\n",
    "            'cache-control': \"no-cache\",\n",
    "            }\n",
    "\n",
    "        response = requests.request(\"GET\", url, headers=headers, params=querystring)\n",
    "\n",
    "        response_todict = response.json()\n",
    "        try:\n",
    "            response_todict[str(int(i)+int(j))] = response_todict.pop('businesses')\n",
    "        except:\n",
    "            j = 1002\n",
    "        else:    \n",
    "            dict_responses.update(response_todict)\n",
    "            j = j + 50"
   ]
  },
  {
   "cell_type": "code",
   "execution_count": 9,
   "metadata": {
    "collapsed": true
   },
   "outputs": [],
   "source": [
    "# Clean up the response from the api\n",
    "\n",
    "list_of_businesses = []\n",
    "\n",
    "for key, item in dict_responses.items():\n",
    "    list_of_businesses.append(item)\n",
    "\n",
    "del(list_of_businesses[0:2])\n",
    "\n",
    "# more cleanup; list is currently list of lists of dictionaries due to how api was called\n",
    "# convert to just list of dictionaries\n",
    "\n",
    "list_of_businesses_formatting = []\n",
    "\n",
    "for i in list_of_businesses:\n",
    "    for j in i:\n",
    "        list_of_businesses_formatting.append(j)"
   ]
  },
  {
   "cell_type": "markdown",
   "metadata": {},
   "source": [
    "#### I need to normalize the json data so that each data point is in its own column."
   ]
  },
  {
   "cell_type": "code",
   "execution_count": 10,
   "metadata": {
    "collapsed": true
   },
   "outputs": [],
   "source": [
    "# Change formatting of categories column to only include \"title\", not \"alias\" (makes normalization easier)\n",
    "for idx, val in enumerate(list_of_businesses_formatting):\n",
    "    list_categories = []\n",
    "    for idx2, val2 in enumerate(val['categories']):\n",
    "        list_categories.append(list_of_businesses_formatting[idx]['categories'][idx2]['title'])\n",
    "    val['categories'] = list_categories"
   ]
  },
  {
   "cell_type": "code",
   "execution_count": 11,
   "metadata": {
    "collapsed": true
   },
   "outputs": [],
   "source": [
    "# This isn't technically normalized all the way since categories still has multiple values.\n",
    "# Good enough for analysis I need\n",
    "from pandas.io.json import json_normalize\n",
    "businesses_df = json_normalize(list_of_businesses_formatting)"
   ]
  },
  {
   "cell_type": "code",
   "execution_count": 12,
   "metadata": {
    "scrolled": false
   },
   "outputs": [
    {
     "data": {
      "text/html": [
       "<div>\n",
       "<style>\n",
       "    .dataframe thead tr:only-child th {\n",
       "        text-align: right;\n",
       "    }\n",
       "\n",
       "    .dataframe thead th {\n",
       "        text-align: left;\n",
       "    }\n",
       "\n",
       "    .dataframe tbody tr th {\n",
       "        vertical-align: top;\n",
       "    }\n",
       "</style>\n",
       "<table border=\"1\" class=\"dataframe\">\n",
       "  <thead>\n",
       "    <tr style=\"text-align: right;\">\n",
       "      <th></th>\n",
       "      <th>alias</th>\n",
       "      <th>categories</th>\n",
       "      <th>coordinates.latitude</th>\n",
       "      <th>coordinates.longitude</th>\n",
       "      <th>display_phone</th>\n",
       "      <th>distance</th>\n",
       "      <th>id</th>\n",
       "      <th>image_url</th>\n",
       "      <th>is_closed</th>\n",
       "      <th>location.address1</th>\n",
       "      <th>...</th>\n",
       "      <th>location.display_address</th>\n",
       "      <th>location.state</th>\n",
       "      <th>location.zip_code</th>\n",
       "      <th>name</th>\n",
       "      <th>phone</th>\n",
       "      <th>price</th>\n",
       "      <th>rating</th>\n",
       "      <th>review_count</th>\n",
       "      <th>transactions</th>\n",
       "      <th>url</th>\n",
       "    </tr>\n",
       "  </thead>\n",
       "  <tbody>\n",
       "    <tr>\n",
       "      <th>0</th>\n",
       "      <td>old-ebbitt-grill-washington</td>\n",
       "      <td>[Bars, American (Traditional), Breakfast &amp; Bru...</td>\n",
       "      <td>38.898005</td>\n",
       "      <td>-77.033362</td>\n",
       "      <td>(202) 347-4800</td>\n",
       "      <td>1428.775801</td>\n",
       "      <td>iyBbcXtQSBfiwFQZwVBNaQ</td>\n",
       "      <td>https://s3-media2.fl.yelpcdn.com/bphoto/KBCezp...</td>\n",
       "      <td>False</td>\n",
       "      <td>675 15th St NW</td>\n",
       "      <td>...</td>\n",
       "      <td>[675 15th St NW, Washington, DC 20005]</td>\n",
       "      <td>DC</td>\n",
       "      <td>20005</td>\n",
       "      <td>Old Ebbitt Grill</td>\n",
       "      <td>+12023474800</td>\n",
       "      <td>$$</td>\n",
       "      <td>4.0</td>\n",
       "      <td>6544</td>\n",
       "      <td>[]</td>\n",
       "      <td>https://www.yelp.com/biz/old-ebbitt-grill-wash...</td>\n",
       "    </tr>\n",
       "    <tr>\n",
       "      <th>1</th>\n",
       "      <td>a-baked-joint-washington-9</td>\n",
       "      <td>[Coffee &amp; Tea, Breakfast &amp; Brunch, Sandwiches]</td>\n",
       "      <td>38.902411</td>\n",
       "      <td>-77.017139</td>\n",
       "      <td>(202) 408-6985</td>\n",
       "      <td>547.273915</td>\n",
       "      <td>SpCeYPhky4gsWa9-IBtw2A</td>\n",
       "      <td>https://s3-media1.fl.yelpcdn.com/bphoto/iTBw1K...</td>\n",
       "      <td>False</td>\n",
       "      <td>440 K St NW</td>\n",
       "      <td>...</td>\n",
       "      <td>[440 K St NW, Washington, DC 20001]</td>\n",
       "      <td>DC</td>\n",
       "      <td>20001</td>\n",
       "      <td>A Baked Joint</td>\n",
       "      <td>+12024086985</td>\n",
       "      <td>$</td>\n",
       "      <td>4.5</td>\n",
       "      <td>1218</td>\n",
       "      <td>[]</td>\n",
       "      <td>https://www.yelp.com/biz/a-baked-joint-washing...</td>\n",
       "    </tr>\n",
       "  </tbody>\n",
       "</table>\n",
       "<p>2 rows × 24 columns</p>\n",
       "</div>"
      ],
      "text/plain": [
       "                         alias  \\\n",
       "0  old-ebbitt-grill-washington   \n",
       "1   a-baked-joint-washington-9   \n",
       "\n",
       "                                          categories  coordinates.latitude  \\\n",
       "0  [Bars, American (Traditional), Breakfast & Bru...             38.898005   \n",
       "1     [Coffee & Tea, Breakfast & Brunch, Sandwiches]             38.902411   \n",
       "\n",
       "   coordinates.longitude   display_phone     distance                      id  \\\n",
       "0             -77.033362  (202) 347-4800  1428.775801  iyBbcXtQSBfiwFQZwVBNaQ   \n",
       "1             -77.017139  (202) 408-6985   547.273915  SpCeYPhky4gsWa9-IBtw2A   \n",
       "\n",
       "                                           image_url  is_closed  \\\n",
       "0  https://s3-media2.fl.yelpcdn.com/bphoto/KBCezp...      False   \n",
       "1  https://s3-media1.fl.yelpcdn.com/bphoto/iTBw1K...      False   \n",
       "\n",
       "  location.address1                        ...                          \\\n",
       "0    675 15th St NW                        ...                           \n",
       "1       440 K St NW                        ...                           \n",
       "\n",
       "                 location.display_address location.state location.zip_code  \\\n",
       "0  [675 15th St NW, Washington, DC 20005]             DC             20005   \n",
       "1     [440 K St NW, Washington, DC 20001]             DC             20001   \n",
       "\n",
       "               name         phone price rating review_count transactions  \\\n",
       "0  Old Ebbitt Grill  +12023474800    $$    4.0         6544           []   \n",
       "1     A Baked Joint  +12024086985     $    4.5         1218           []   \n",
       "\n",
       "                                                 url  \n",
       "0  https://www.yelp.com/biz/old-ebbitt-grill-wash...  \n",
       "1  https://www.yelp.com/biz/a-baked-joint-washing...  \n",
       "\n",
       "[2 rows x 24 columns]"
      ]
     },
     "execution_count": 12,
     "metadata": {},
     "output_type": "execute_result"
    }
   ],
   "source": [
    "businesses_df.head(2)"
   ]
  },
  {
   "cell_type": "markdown",
   "metadata": {},
   "source": [
    "#### My looping api call technique resulted in many duplicates, as we examine and fix below (id is unique)."
   ]
  },
  {
   "cell_type": "code",
   "execution_count": 13,
   "metadata": {},
   "outputs": [
    {
     "data": {
      "text/plain": [
       "SvjE3q-uYpyjqYKh714IPw    16\n",
       "ynuv5y74SB2gEXFPjMYb_Q    16\n",
       "F6jgtkBLdyjHYhDO79Z1lA    16\n",
       "hrWvnULW3ragGALYVEAybA    16\n",
       "S0WNMOKJ5c3NXuC_-7lE2Q    14\n",
       "Name: id, dtype: int64"
      ]
     },
     "execution_count": 13,
     "metadata": {},
     "output_type": "execute_result"
    }
   ],
   "source": [
    "businesses_df.id.value_counts().head()"
   ]
  },
  {
   "cell_type": "code",
   "execution_count": 14,
   "metadata": {
    "collapsed": true
   },
   "outputs": [],
   "source": [
    "businesses_df.drop_duplicates(subset='id', inplace=True)"
   ]
  },
  {
   "cell_type": "code",
   "execution_count": 15,
   "metadata": {},
   "outputs": [
    {
     "data": {
      "text/plain": [
       "(4222, 24)"
      ]
     },
     "execution_count": 15,
     "metadata": {},
     "output_type": "execute_result"
    }
   ],
   "source": [
    "businesses_df.shape"
   ]
  },
  {
   "cell_type": "markdown",
   "metadata": {},
   "source": [
    "#### Now I will drop columns that I won't need during this project."
   ]
  },
  {
   "cell_type": "code",
   "execution_count": 16,
   "metadata": {
    "collapsed": true
   },
   "outputs": [],
   "source": [
    "businesses_df.drop(['alias',\n",
    "         'id',\n",
    "         'display_phone',\n",
    "         'distance', \n",
    "         'image_url', \n",
    "         'is_closed', \n",
    "         'location.address2', \n",
    "         'location.address3', \n",
    "         'location.display_address',\n",
    "         'phone',\n",
    "         'transactions',\n",
    "         'url'], axis=1, inplace=True)"
   ]
  },
  {
   "cell_type": "markdown",
   "metadata": {},
   "source": [
    "#### Next I'll clean up the column names."
   ]
  },
  {
   "cell_type": "code",
   "execution_count": 17,
   "metadata": {
    "collapsed": true
   },
   "outputs": [],
   "source": [
    "businesses_df.columns = ['categories', 'latitude', \n",
    "                         'longitude', 'address', \n",
    "                         'city', 'country', 'state', \n",
    "                         'zip_code', 'name', 'price', \n",
    "                         'rating', 'review_count']"
   ]
  },
  {
   "cell_type": "code",
   "execution_count": 18,
   "metadata": {
    "collapsed": true
   },
   "outputs": [],
   "source": [
    "# move name column to first position\n",
    "cols = businesses_df.columns.tolist()\n",
    "cols[0] = 'name'\n",
    "cols[8] = 'categories'\n",
    "businesses_df = businesses_df[cols]"
   ]
  },
  {
   "cell_type": "code",
   "execution_count": 19,
   "metadata": {},
   "outputs": [
    {
     "data": {
      "text/html": [
       "<div>\n",
       "<style>\n",
       "    .dataframe thead tr:only-child th {\n",
       "        text-align: right;\n",
       "    }\n",
       "\n",
       "    .dataframe thead th {\n",
       "        text-align: left;\n",
       "    }\n",
       "\n",
       "    .dataframe tbody tr th {\n",
       "        vertical-align: top;\n",
       "    }\n",
       "</style>\n",
       "<table border=\"1\" class=\"dataframe\">\n",
       "  <thead>\n",
       "    <tr style=\"text-align: right;\">\n",
       "      <th></th>\n",
       "      <th>name</th>\n",
       "      <th>latitude</th>\n",
       "      <th>longitude</th>\n",
       "      <th>address</th>\n",
       "      <th>city</th>\n",
       "      <th>country</th>\n",
       "      <th>state</th>\n",
       "      <th>zip_code</th>\n",
       "      <th>categories</th>\n",
       "      <th>price</th>\n",
       "      <th>rating</th>\n",
       "      <th>review_count</th>\n",
       "    </tr>\n",
       "  </thead>\n",
       "  <tbody>\n",
       "    <tr>\n",
       "      <th>0</th>\n",
       "      <td>Old Ebbitt Grill</td>\n",
       "      <td>38.898005</td>\n",
       "      <td>-77.033362</td>\n",
       "      <td>675 15th St NW</td>\n",
       "      <td>Washington, DC</td>\n",
       "      <td>US</td>\n",
       "      <td>DC</td>\n",
       "      <td>20005</td>\n",
       "      <td>[Bars, American (Traditional), Breakfast &amp; Bru...</td>\n",
       "      <td>$$</td>\n",
       "      <td>4.0</td>\n",
       "      <td>6544</td>\n",
       "    </tr>\n",
       "    <tr>\n",
       "      <th>1</th>\n",
       "      <td>A Baked Joint</td>\n",
       "      <td>38.902411</td>\n",
       "      <td>-77.017139</td>\n",
       "      <td>440 K St NW</td>\n",
       "      <td>Washington, DC</td>\n",
       "      <td>US</td>\n",
       "      <td>DC</td>\n",
       "      <td>20001</td>\n",
       "      <td>[Coffee &amp; Tea, Breakfast &amp; Brunch, Sandwiches]</td>\n",
       "      <td>$</td>\n",
       "      <td>4.5</td>\n",
       "      <td>1218</td>\n",
       "    </tr>\n",
       "    <tr>\n",
       "      <th>2</th>\n",
       "      <td>Le Diplomate</td>\n",
       "      <td>38.911359</td>\n",
       "      <td>-77.031575</td>\n",
       "      <td>1601 14th St NW</td>\n",
       "      <td>Washington, DC</td>\n",
       "      <td>US</td>\n",
       "      <td>DC</td>\n",
       "      <td>20009</td>\n",
       "      <td>[Brasseries, French, Cafes]</td>\n",
       "      <td>$$$</td>\n",
       "      <td>4.0</td>\n",
       "      <td>2449</td>\n",
       "    </tr>\n",
       "    <tr>\n",
       "      <th>3</th>\n",
       "      <td>Rasika</td>\n",
       "      <td>38.895008</td>\n",
       "      <td>-77.021286</td>\n",
       "      <td>633 D St NW</td>\n",
       "      <td>Washington, DC</td>\n",
       "      <td>US</td>\n",
       "      <td>DC</td>\n",
       "      <td>20004</td>\n",
       "      <td>[Indian]</td>\n",
       "      <td>$$$</td>\n",
       "      <td>4.5</td>\n",
       "      <td>2633</td>\n",
       "    </tr>\n",
       "    <tr>\n",
       "      <th>4</th>\n",
       "      <td>Matchbox - Chinatown</td>\n",
       "      <td>38.900050</td>\n",
       "      <td>-77.022540</td>\n",
       "      <td>713 H St NW</td>\n",
       "      <td>Washington, DC</td>\n",
       "      <td>US</td>\n",
       "      <td>DC</td>\n",
       "      <td>20001</td>\n",
       "      <td>[Pizza, American (New)]</td>\n",
       "      <td>$$</td>\n",
       "      <td>4.0</td>\n",
       "      <td>2673</td>\n",
       "    </tr>\n",
       "  </tbody>\n",
       "</table>\n",
       "</div>"
      ],
      "text/plain": [
       "                   name   latitude  longitude          address  \\\n",
       "0      Old Ebbitt Grill  38.898005 -77.033362   675 15th St NW   \n",
       "1         A Baked Joint  38.902411 -77.017139      440 K St NW   \n",
       "2          Le Diplomate  38.911359 -77.031575  1601 14th St NW   \n",
       "3                Rasika  38.895008 -77.021286      633 D St NW   \n",
       "4  Matchbox - Chinatown  38.900050 -77.022540      713 H St NW   \n",
       "\n",
       "             city country state zip_code  \\\n",
       "0  Washington, DC      US    DC    20005   \n",
       "1  Washington, DC      US    DC    20001   \n",
       "2  Washington, DC      US    DC    20009   \n",
       "3  Washington, DC      US    DC    20004   \n",
       "4  Washington, DC      US    DC    20001   \n",
       "\n",
       "                                          categories price  rating  \\\n",
       "0  [Bars, American (Traditional), Breakfast & Bru...    $$     4.0   \n",
       "1     [Coffee & Tea, Breakfast & Brunch, Sandwiches]     $     4.5   \n",
       "2                        [Brasseries, French, Cafes]   $$$     4.0   \n",
       "3                                           [Indian]   $$$     4.5   \n",
       "4                            [Pizza, American (New)]    $$     4.0   \n",
       "\n",
       "   review_count  \n",
       "0          6544  \n",
       "1          1218  \n",
       "2          2449  \n",
       "3          2633  \n",
       "4          2673  "
      ]
     },
     "execution_count": 19,
     "metadata": {},
     "output_type": "execute_result"
    }
   ],
   "source": [
    "businesses_df.head()"
   ]
  },
  {
   "cell_type": "markdown",
   "metadata": {},
   "source": [
    "#### For whatever reason the API imported some businesses outside of the queried zip codes, so I removed those quick."
   ]
  },
  {
   "cell_type": "code",
   "execution_count": 20,
   "metadata": {},
   "outputs": [
    {
     "data": {
      "text/plain": [
       "(4222, 12)"
      ]
     },
     "execution_count": 20,
     "metadata": {},
     "output_type": "execute_result"
    }
   ],
   "source": [
    "businesses_df.shape"
   ]
  },
  {
   "cell_type": "code",
   "execution_count": 21,
   "metadata": {
    "collapsed": true
   },
   "outputs": [],
   "source": [
    "businesses_df = businesses_df[businesses_df['zip_code'].isin(zip_codes_flat)]"
   ]
  },
  {
   "cell_type": "code",
   "execution_count": 22,
   "metadata": {},
   "outputs": [
    {
     "data": {
      "text/plain": [
       "(3175, 12)"
      ]
     },
     "execution_count": 22,
     "metadata": {},
     "output_type": "execute_result"
    }
   ],
   "source": [
    "businesses_df.shape"
   ]
  },
  {
   "cell_type": "markdown",
   "metadata": {},
   "source": [
    "#### Check for relevent null values"
   ]
  },
  {
   "cell_type": "code",
   "execution_count": 23,
   "metadata": {
    "scrolled": false
   },
   "outputs": [
    {
     "data": {
      "text/plain": [
       "name              0\n",
       "latitude          1\n",
       "longitude         1\n",
       "address          13\n",
       "city              0\n",
       "country           0\n",
       "state             0\n",
       "zip_code          0\n",
       "categories        0\n",
       "price           498\n",
       "rating            0\n",
       "review_count      0\n",
       "dtype: int64"
      ]
     },
     "execution_count": 23,
     "metadata": {},
     "output_type": "execute_result"
    }
   ],
   "source": [
    "businesses_df.isnull().sum()"
   ]
  },
  {
   "cell_type": "markdown",
   "metadata": {},
   "source": [
    "#### Save businesses_df to csv file for quicker use later."
   ]
  },
  {
   "cell_type": "code",
   "execution_count": 24,
   "metadata": {
    "collapsed": true
   },
   "outputs": [],
   "source": [
    "businesses_df.to_csv('./data/businesses.csv', sep='\\t')"
   ]
  },
  {
   "cell_type": "markdown",
   "metadata": {},
   "source": [
    "<a id=\"import_foursquare\"></a>\n",
    "### Import Foursquare dataset\n",
    "- Again, don't run any of this code, lots of data being temporarily loaded into memory. Cleaned dataframe stored as file below."
   ]
  },
  {
   "cell_type": "code",
   "execution_count": 7,
   "metadata": {
    "collapsed": true
   },
   "outputs": [],
   "source": [
    "foursquare_checkins_df = pd.read_csv(\"../../../dataset_TIST2015/dataset_TIST2015_Checkins.txt\", header=None, delimiter=\"\\t\")\n",
    "\n",
    "foursquare_checkins_df.drop([3], axis=1, inplace=True)\n",
    "foursquare_checkins_df.columns = ['user_id', 'venue_id', 'utc_time']"
   ]
  },
  {
   "cell_type": "code",
   "execution_count": 8,
   "metadata": {
    "collapsed": true
   },
   "outputs": [],
   "source": [
    "foursquare_poi_df = pd.read_csv(\"../../../dataset_TIST2015/dataset_TIST2015_POIs.txt\", header=None, delimiter=\"\\t\")\n",
    "\n",
    "foursquare_poi_df.columns = ['venue_id', 'latitude', 'longitude', 'venue_category', 'country']\n",
    "foursquare_poi_df = foursquare_poi_df[foursquare_poi_df['country'].isin(['US'])]"
   ]
  },
  {
   "cell_type": "code",
   "execution_count": 9,
   "metadata": {
    "collapsed": true
   },
   "outputs": [],
   "source": [
    "foursquare_merge_df = foursquare_checkins_df.merge(foursquare_poi_df, on=\"venue_id\")"
   ]
  },
  {
   "cell_type": "code",
   "execution_count": 10,
   "metadata": {
    "scrolled": true
   },
   "outputs": [
    {
     "data": {
      "text/html": [
       "<div>\n",
       "<style>\n",
       "    .dataframe thead tr:only-child th {\n",
       "        text-align: right;\n",
       "    }\n",
       "\n",
       "    .dataframe thead th {\n",
       "        text-align: left;\n",
       "    }\n",
       "\n",
       "    .dataframe tbody tr th {\n",
       "        vertical-align: top;\n",
       "    }\n",
       "</style>\n",
       "<table border=\"1\" class=\"dataframe\">\n",
       "  <thead>\n",
       "    <tr style=\"text-align: right;\">\n",
       "      <th></th>\n",
       "      <th>user_id</th>\n",
       "      <th>venue_id</th>\n",
       "      <th>utc_time</th>\n",
       "      <th>latitude</th>\n",
       "      <th>longitude</th>\n",
       "      <th>venue_category</th>\n",
       "      <th>country</th>\n",
       "    </tr>\n",
       "  </thead>\n",
       "  <tbody>\n",
       "    <tr>\n",
       "      <th>0</th>\n",
       "      <td>221021</td>\n",
       "      <td>4a85b1b3f964a520eefe1fe3</td>\n",
       "      <td>Tue Apr 03 18:00:08 +0000 2012</td>\n",
       "      <td>40.748939</td>\n",
       "      <td>-73.99228</td>\n",
       "      <td>Coffee Shop</td>\n",
       "      <td>US</td>\n",
       "    </tr>\n",
       "    <tr>\n",
       "      <th>1</th>\n",
       "      <td>89453</td>\n",
       "      <td>4a85b1b3f964a520eefe1fe3</td>\n",
       "      <td>Tue Apr 24 22:53:57 +0000 2012</td>\n",
       "      <td>40.748939</td>\n",
       "      <td>-73.99228</td>\n",
       "      <td>Coffee Shop</td>\n",
       "      <td>US</td>\n",
       "    </tr>\n",
       "    <tr>\n",
       "      <th>2</th>\n",
       "      <td>206753</td>\n",
       "      <td>4a85b1b3f964a520eefe1fe3</td>\n",
       "      <td>Thu May 03 16:20:48 +0000 2012</td>\n",
       "      <td>40.748939</td>\n",
       "      <td>-73.99228</td>\n",
       "      <td>Coffee Shop</td>\n",
       "      <td>US</td>\n",
       "    </tr>\n",
       "    <tr>\n",
       "      <th>3</th>\n",
       "      <td>114526</td>\n",
       "      <td>4a85b1b3f964a520eefe1fe3</td>\n",
       "      <td>Wed May 09 23:09:45 +0000 2012</td>\n",
       "      <td>40.748939</td>\n",
       "      <td>-73.99228</td>\n",
       "      <td>Coffee Shop</td>\n",
       "      <td>US</td>\n",
       "    </tr>\n",
       "    <tr>\n",
       "      <th>4</th>\n",
       "      <td>86634</td>\n",
       "      <td>4a85b1b3f964a520eefe1fe3</td>\n",
       "      <td>Tue May 22 13:31:13 +0000 2012</td>\n",
       "      <td>40.748939</td>\n",
       "      <td>-73.99228</td>\n",
       "      <td>Coffee Shop</td>\n",
       "      <td>US</td>\n",
       "    </tr>\n",
       "  </tbody>\n",
       "</table>\n",
       "</div>"
      ],
      "text/plain": [
       "   user_id                  venue_id                        utc_time  \\\n",
       "0   221021  4a85b1b3f964a520eefe1fe3  Tue Apr 03 18:00:08 +0000 2012   \n",
       "1    89453  4a85b1b3f964a520eefe1fe3  Tue Apr 24 22:53:57 +0000 2012   \n",
       "2   206753  4a85b1b3f964a520eefe1fe3  Thu May 03 16:20:48 +0000 2012   \n",
       "3   114526  4a85b1b3f964a520eefe1fe3  Wed May 09 23:09:45 +0000 2012   \n",
       "4    86634  4a85b1b3f964a520eefe1fe3  Tue May 22 13:31:13 +0000 2012   \n",
       "\n",
       "    latitude  longitude venue_category country  \n",
       "0  40.748939  -73.99228    Coffee Shop      US  \n",
       "1  40.748939  -73.99228    Coffee Shop      US  \n",
       "2  40.748939  -73.99228    Coffee Shop      US  \n",
       "3  40.748939  -73.99228    Coffee Shop      US  \n",
       "4  40.748939  -73.99228    Coffee Shop      US  "
      ]
     },
     "execution_count": 10,
     "metadata": {},
     "output_type": "execute_result"
    }
   ],
   "source": [
    "foursquare_merge_df.head()"
   ]
  },
  {
   "cell_type": "code",
   "execution_count": 11,
   "metadata": {},
   "outputs": [
    {
     "data": {
      "text/plain": [
       "(3564144, 7)"
      ]
     },
     "execution_count": 11,
     "metadata": {},
     "output_type": "execute_result"
    }
   ],
   "source": [
    "foursquare_merge_df.shape"
   ]
  },
  {
   "cell_type": "markdown",
   "metadata": {},
   "source": [
    "#### Now I want to pull out the the users who visited a coffee shop at least once. I'll create a new column called \"coffee_shop_bin\". If the user visited a coffee shop on the selected day, all rows for that day will be set to 1. Else, 0. Later I'll use this in my models to predict where people are coming from when they go to a coffee shop.\n",
    "- I'll overwrite the same DF to cut down on memory usage..."
   ]
  },
  {
   "cell_type": "code",
   "execution_count": 12,
   "metadata": {
    "collapsed": true
   },
   "outputs": [],
   "source": [
    "# reduce the dataframe to include only users who have visited a coffee shop\n",
    "coffee_drinkers = foursquare_merge_df[foursquare_merge_df.venue_category.isin(['Coffee Shop'])].user_id.unique().tolist()\n",
    "foursquare_merge_df = foursquare_merge_df[foursquare_merge_df.user_id.isin(coffee_drinkers)]"
   ]
  },
  {
   "cell_type": "code",
   "execution_count": 13,
   "metadata": {},
   "outputs": [
    {
     "data": {
      "text/plain": [
       "(2439117, 7)"
      ]
     },
     "execution_count": 13,
     "metadata": {},
     "output_type": "execute_result"
    }
   ],
   "source": [
    "foursquare_merge_df.shape"
   ]
  },
  {
   "cell_type": "code",
   "execution_count": 14,
   "metadata": {},
   "outputs": [
    {
     "data": {
      "text/plain": [
       "user_id                    int64\n",
       "venue_id                  object\n",
       "utc_time          datetime64[ns]\n",
       "latitude                 float64\n",
       "longitude                float64\n",
       "venue_category            object\n",
       "country                   object\n",
       "dtype: object"
      ]
     },
     "execution_count": 14,
     "metadata": {},
     "output_type": "execute_result"
    }
   ],
   "source": [
    "# convert utc_time to datetime object, takes 5-10 minutes\n",
    "foursquare_merge_df['utc_time'] = pd.to_datetime(foursquare_merge_df['utc_time'], infer_datetime_format=True)\n",
    "foursquare_merge_df.dtypes"
   ]
  },
  {
   "cell_type": "code",
   "execution_count": 15,
   "metadata": {},
   "outputs": [
    {
     "name": "stderr",
     "output_type": "stream",
     "text": [
      "C:\\Users\\Steven\\Anaconda3\\lib\\site-packages\\ipykernel_launcher.py:8: SettingWithCopyWarning: \n",
      "A value is trying to be set on a copy of a slice from a DataFrame.\n",
      "Try using .loc[row_indexer,col_indexer] = value instead\n",
      "\n",
      "See the caveats in the documentation: http://pandas.pydata.org/pandas-docs/stable/indexing.html#indexing-view-versus-copy\n",
      "  \n",
      "C:\\Users\\Steven\\Anaconda3\\lib\\site-packages\\ipykernel_launcher.py:11: SettingWithCopyWarning: \n",
      "A value is trying to be set on a copy of a slice from a DataFrame.\n",
      "Try using .loc[row_indexer,col_indexer] = value instead\n",
      "\n",
      "See the caveats in the documentation: http://pandas.pydata.org/pandas-docs/stable/indexing.html#indexing-view-versus-copy\n",
      "  # This is added back by InteractiveShellApp.init_path()\n"
     ]
    }
   ],
   "source": [
    "# this is super inefficient, but shouldn't need to be run again. took approx. 20 minutes.\n",
    "# groups df by user id, month, day, then checks each group for coffee shop visits\n",
    "grouped_foursquare = foursquare_merge_df.groupby([foursquare_merge_df.user_id, \n",
    "                                                   foursquare_merge_df.utc_time.dt.month, \n",
    "                                                   foursquare_merge_df.utc_time.dt.day])\n",
    "# if group contains a coffee shop check-in, set all values of coffee_shop_bin in that group to yes\n",
    "grouped_foursquare_true = grouped_foursquare.filter(lambda x: x['venue_category'].str.contains('Coffee').any())\n",
    "grouped_foursquare_true['coffee_shop_bin'] = 1\n",
    "# if group does not contain a coffee shop check-in, set all values of coffee_shop_bin in that group to yes\n",
    "grouped_foursquare_false = grouped_foursquare.filter(lambda x: ~x['venue_category'].str.contains('Coffee').any())\n",
    "grouped_foursquare_false['coffee_shop_bin'] = 0\n",
    "\n",
    "# re-combine the true and false datasets\n",
    "grouped_foursquare = grouped_foursquare_true.append(grouped_foursquare_false, ignore_index=True)"
   ]
  },
  {
   "cell_type": "code",
   "execution_count": 16,
   "metadata": {
    "scrolled": true
   },
   "outputs": [
    {
     "name": "stdout",
     "output_type": "stream",
     "text": [
      "Full data: (2439117, 7)\n",
      "Checkins from days w/ coffee shop visits: (309677, 8)\n",
      "Checkins from days w/out coffee shop visits: (2129440, 8)\n",
      "Data after concat: (2439117, 8)\n"
     ]
    }
   ],
   "source": [
    "# make sure we didn't lose any data\n",
    "print(\"Full data: \" + str(foursquare_merge_df.shape))\n",
    "print(\"Checkins from days w/ coffee shop visits: \" + str(grouped_foursquare_true.shape))\n",
    "print(\"Checkins from days w/out coffee shop visits: \" + str(grouped_foursquare_false.shape))\n",
    "print(\"Data after concat: \" + str(grouped_foursquare.shape))"
   ]
  },
  {
   "cell_type": "markdown",
   "metadata": {},
   "source": [
    "#### Since I have the coffee shop binary series, I no longer need rows for coffee shop check-ins, so I'll drop those."
   ]
  },
  {
   "cell_type": "code",
   "execution_count": 17,
   "metadata": {
    "collapsed": true
   },
   "outputs": [],
   "source": [
    "grouped_foursquare = grouped_foursquare[grouped_foursquare.venue_category.str.contains(\"Coffee\") == False]"
   ]
  },
  {
   "cell_type": "markdown",
   "metadata": {},
   "source": [
    "#### Get address data from longitude and latitude.\n",
    "- I tried using geopy to get the city from the coordinates, which appears to work, but it would take 20 straight days to run all 3.5 million lines. Will explore this later. Most geolocaters also have a query limit which this would far exceed."
   ]
  },
  {
   "cell_type": "code",
   "execution_count": 18,
   "metadata": {},
   "outputs": [
    {
     "name": "stdout",
     "output_type": "stream",
     "text": [
      "10 lines: --- 10.996055603027344 seconds ---\n"
     ]
    }
   ],
   "source": [
    "from geopy.geocoders import Nominatim\n",
    "import time\n",
    "\n",
    "start_time = time.time()\n",
    "\n",
    "i=0\n",
    "for index, row in foursquare_merge_df.iterrows():\n",
    "    if i < 10:\n",
    "        coord = str(row['latitude']) + \",\" + str(row['longitude'])\n",
    "\n",
    "        geolocator = Nominatim()\n",
    "        location = geolocator.reverse(coord)\n",
    "        if \"District of Columbia\" in location.address: \n",
    "            print(location.address)\n",
    "        i+=1\n",
    "    else:\n",
    "        break\n",
    "        \n",
    "print(\"10 lines: --- %s seconds ---\" % (time.time() - start_time))\n",
    "\n",
    "# geolocator = Nominatim()\n",
    "# location = geolocator.reverse(\"38.898005, -77.033362\")\n",
    "# print(location.address)\n"
   ]
  },
  {
   "cell_type": "markdown",
   "metadata": {},
   "source": [
    "- Trying a package I found on github called reverse_geocoder to cut down on query time. This only took a few minutes to run, but unfortunately only returned high level geography (Washington, D.C)."
   ]
  },
  {
   "cell_type": "code",
   "execution_count": 24,
   "metadata": {
    "collapsed": true
   },
   "outputs": [],
   "source": [
    "import reverse_geocoder as rg\n",
    "\n",
    "coordinates = []\n",
    "for index, row in grouped_foursquare.iterrows():\n",
    "    coordinates.append((row.latitude, row.longitude))\n",
    "    \n",
    "results = rg.search(coordinates)"
   ]
  },
  {
   "cell_type": "code",
   "execution_count": 25,
   "metadata": {
    "collapsed": true
   },
   "outputs": [],
   "source": [
    "dc_bools = []\n",
    "\n",
    "for i in results:\n",
    "    result = \"D.C\" in str(i)\n",
    "    dc_bools.append(result)"
   ]
  },
  {
   "cell_type": "code",
   "execution_count": 26,
   "metadata": {},
   "outputs": [
    {
     "data": {
      "text/plain": [
       "[False,\n",
       " False,\n",
       " False,\n",
       " False,\n",
       " False,\n",
       " False,\n",
       " False,\n",
       " False,\n",
       " False,\n",
       " False,\n",
       " False,\n",
       " False,\n",
       " False,\n",
       " False,\n",
       " False,\n",
       " False,\n",
       " False,\n",
       " False,\n",
       " False,\n",
       " False,\n",
       " False,\n",
       " False,\n",
       " False,\n",
       " False,\n",
       " False,\n",
       " False,\n",
       " False,\n",
       " False,\n",
       " False,\n",
       " False,\n",
       " False,\n",
       " False,\n",
       " False,\n",
       " False,\n",
       " False,\n",
       " False,\n",
       " False,\n",
       " False,\n",
       " False,\n",
       " False,\n",
       " False,\n",
       " False,\n",
       " False,\n",
       " False,\n",
       " False,\n",
       " False,\n",
       " False,\n",
       " False,\n",
       " False,\n",
       " False,\n",
       " False,\n",
       " False,\n",
       " False,\n",
       " False,\n",
       " False,\n",
       " False,\n",
       " False,\n",
       " False,\n",
       " False,\n",
       " False,\n",
       " False,\n",
       " False,\n",
       " False,\n",
       " False,\n",
       " False,\n",
       " False,\n",
       " False,\n",
       " False,\n",
       " False,\n",
       " False,\n",
       " False,\n",
       " False,\n",
       " False,\n",
       " False,\n",
       " False,\n",
       " False,\n",
       " False,\n",
       " False,\n",
       " False,\n",
       " False,\n",
       " False,\n",
       " False,\n",
       " False,\n",
       " False,\n",
       " False,\n",
       " False,\n",
       " False,\n",
       " False,\n",
       " False,\n",
       " False,\n",
       " False,\n",
       " False,\n",
       " False,\n",
       " False,\n",
       " False,\n",
       " False,\n",
       " False,\n",
       " False,\n",
       " False,\n",
       " False,\n",
       " False,\n",
       " False,\n",
       " False,\n",
       " False,\n",
       " False,\n",
       " False,\n",
       " False,\n",
       " False,\n",
       " False,\n",
       " False,\n",
       " False,\n",
       " False,\n",
       " False,\n",
       " False,\n",
       " False,\n",
       " False,\n",
       " False,\n",
       " False,\n",
       " False,\n",
       " False,\n",
       " False,\n",
       " False,\n",
       " False,\n",
       " False,\n",
       " False,\n",
       " False,\n",
       " False,\n",
       " False,\n",
       " False,\n",
       " False,\n",
       " False,\n",
       " False,\n",
       " False,\n",
       " False,\n",
       " False,\n",
       " False,\n",
       " False,\n",
       " False,\n",
       " False,\n",
       " False,\n",
       " False,\n",
       " False,\n",
       " False,\n",
       " False,\n",
       " False,\n",
       " False,\n",
       " False,\n",
       " False,\n",
       " False,\n",
       " False,\n",
       " False,\n",
       " False,\n",
       " False,\n",
       " False,\n",
       " False,\n",
       " False,\n",
       " False,\n",
       " False,\n",
       " False,\n",
       " False,\n",
       " False,\n",
       " False,\n",
       " False,\n",
       " False,\n",
       " False,\n",
       " False,\n",
       " False,\n",
       " False,\n",
       " False,\n",
       " False,\n",
       " False,\n",
       " False,\n",
       " False,\n",
       " False,\n",
       " False,\n",
       " False,\n",
       " False,\n",
       " False,\n",
       " False,\n",
       " False,\n",
       " False,\n",
       " False,\n",
       " False,\n",
       " False,\n",
       " False,\n",
       " False,\n",
       " False,\n",
       " False,\n",
       " False,\n",
       " False,\n",
       " False,\n",
       " False,\n",
       " False,\n",
       " False,\n",
       " False,\n",
       " False,\n",
       " False,\n",
       " False,\n",
       " False,\n",
       " False,\n",
       " False,\n",
       " False,\n",
       " False,\n",
       " False,\n",
       " False,\n",
       " False,\n",
       " False,\n",
       " False,\n",
       " False,\n",
       " False,\n",
       " False,\n",
       " False,\n",
       " False,\n",
       " False,\n",
       " False,\n",
       " False,\n",
       " False,\n",
       " False,\n",
       " False,\n",
       " False,\n",
       " False,\n",
       " False,\n",
       " False,\n",
       " False,\n",
       " False,\n",
       " False,\n",
       " False,\n",
       " False,\n",
       " False,\n",
       " False,\n",
       " False,\n",
       " False,\n",
       " False,\n",
       " False,\n",
       " False,\n",
       " False,\n",
       " False,\n",
       " False,\n",
       " False,\n",
       " False,\n",
       " False,\n",
       " False,\n",
       " False,\n",
       " False,\n",
       " False,\n",
       " False,\n",
       " False,\n",
       " False,\n",
       " False,\n",
       " False,\n",
       " False,\n",
       " False,\n",
       " False,\n",
       " False,\n",
       " False,\n",
       " False,\n",
       " False,\n",
       " False,\n",
       " False,\n",
       " False,\n",
       " False,\n",
       " False,\n",
       " False,\n",
       " False,\n",
       " False,\n",
       " False,\n",
       " False,\n",
       " False,\n",
       " False,\n",
       " False,\n",
       " False,\n",
       " False,\n",
       " False,\n",
       " False,\n",
       " False,\n",
       " False,\n",
       " False,\n",
       " False,\n",
       " False,\n",
       " False,\n",
       " False,\n",
       " False,\n",
       " False,\n",
       " False,\n",
       " False,\n",
       " False,\n",
       " False,\n",
       " False,\n",
       " False,\n",
       " False,\n",
       " False,\n",
       " False,\n",
       " False,\n",
       " False,\n",
       " False,\n",
       " False,\n",
       " True,\n",
       " False,\n",
       " False,\n",
       " False,\n",
       " False,\n",
       " False,\n",
       " False,\n",
       " False,\n",
       " False,\n",
       " False,\n",
       " False,\n",
       " False,\n",
       " False,\n",
       " False,\n",
       " False,\n",
       " False,\n",
       " False,\n",
       " False,\n",
       " False,\n",
       " False,\n",
       " False,\n",
       " False,\n",
       " False,\n",
       " False,\n",
       " False,\n",
       " False,\n",
       " False,\n",
       " False,\n",
       " False,\n",
       " False,\n",
       " False,\n",
       " False,\n",
       " False,\n",
       " False,\n",
       " False,\n",
       " False,\n",
       " False,\n",
       " False,\n",
       " False,\n",
       " False,\n",
       " False,\n",
       " False,\n",
       " False,\n",
       " False,\n",
       " False,\n",
       " False,\n",
       " False,\n",
       " False,\n",
       " False,\n",
       " False,\n",
       " False,\n",
       " False,\n",
       " False,\n",
       " False,\n",
       " False,\n",
       " False,\n",
       " False,\n",
       " False,\n",
       " False,\n",
       " False,\n",
       " False,\n",
       " False,\n",
       " False,\n",
       " False,\n",
       " False,\n",
       " False,\n",
       " False,\n",
       " False,\n",
       " False,\n",
       " False,\n",
       " False,\n",
       " False,\n",
       " False,\n",
       " False,\n",
       " True,\n",
       " True,\n",
       " True,\n",
       " True,\n",
       " True,\n",
       " False,\n",
       " False,\n",
       " False,\n",
       " False,\n",
       " False,\n",
       " False,\n",
       " False,\n",
       " False,\n",
       " False,\n",
       " False,\n",
       " False,\n",
       " False,\n",
       " False,\n",
       " False,\n",
       " False,\n",
       " False,\n",
       " False,\n",
       " False,\n",
       " False,\n",
       " False,\n",
       " False,\n",
       " False,\n",
       " False,\n",
       " False,\n",
       " False,\n",
       " False,\n",
       " False,\n",
       " False,\n",
       " False,\n",
       " False,\n",
       " False,\n",
       " False,\n",
       " False,\n",
       " False,\n",
       " False,\n",
       " False,\n",
       " False,\n",
       " False,\n",
       " False,\n",
       " False,\n",
       " False,\n",
       " False,\n",
       " False,\n",
       " False,\n",
       " False,\n",
       " False,\n",
       " False,\n",
       " False,\n",
       " False,\n",
       " False,\n",
       " False,\n",
       " False,\n",
       " False,\n",
       " False,\n",
       " False,\n",
       " False,\n",
       " False,\n",
       " False,\n",
       " False,\n",
       " False,\n",
       " False,\n",
       " False,\n",
       " False,\n",
       " False,\n",
       " False,\n",
       " False,\n",
       " False,\n",
       " False,\n",
       " False,\n",
       " False,\n",
       " False,\n",
       " False,\n",
       " False,\n",
       " False,\n",
       " False,\n",
       " False,\n",
       " False,\n",
       " False,\n",
       " False,\n",
       " False,\n",
       " False,\n",
       " False,\n",
       " False,\n",
       " False,\n",
       " False,\n",
       " False,\n",
       " False,\n",
       " False,\n",
       " False,\n",
       " False,\n",
       " False,\n",
       " False,\n",
       " False,\n",
       " False,\n",
       " False,\n",
       " False,\n",
       " False,\n",
       " False,\n",
       " False,\n",
       " False,\n",
       " False,\n",
       " False,\n",
       " False,\n",
       " False,\n",
       " False,\n",
       " False,\n",
       " False,\n",
       " False,\n",
       " False,\n",
       " False,\n",
       " False,\n",
       " False,\n",
       " False,\n",
       " False,\n",
       " False,\n",
       " False,\n",
       " False,\n",
       " False,\n",
       " False,\n",
       " False,\n",
       " False,\n",
       " False,\n",
       " False,\n",
       " False,\n",
       " False,\n",
       " False,\n",
       " False,\n",
       " False,\n",
       " False,\n",
       " False,\n",
       " False,\n",
       " False,\n",
       " False,\n",
       " False,\n",
       " False,\n",
       " False,\n",
       " False,\n",
       " False,\n",
       " False,\n",
       " False,\n",
       " False,\n",
       " False,\n",
       " False,\n",
       " False,\n",
       " False,\n",
       " False,\n",
       " False,\n",
       " False,\n",
       " False,\n",
       " False,\n",
       " False,\n",
       " False,\n",
       " True,\n",
       " False,\n",
       " False,\n",
       " False,\n",
       " False,\n",
       " False,\n",
       " False,\n",
       " False,\n",
       " False,\n",
       " False,\n",
       " False,\n",
       " False,\n",
       " False,\n",
       " True,\n",
       " False,\n",
       " False,\n",
       " False,\n",
       " False,\n",
       " False,\n",
       " False,\n",
       " False,\n",
       " False,\n",
       " False,\n",
       " False,\n",
       " False,\n",
       " False,\n",
       " False,\n",
       " False,\n",
       " False,\n",
       " False,\n",
       " False,\n",
       " False,\n",
       " False,\n",
       " False,\n",
       " False,\n",
       " False,\n",
       " False,\n",
       " False,\n",
       " False,\n",
       " False,\n",
       " False,\n",
       " False,\n",
       " False,\n",
       " False,\n",
       " False,\n",
       " False,\n",
       " False,\n",
       " False,\n",
       " False,\n",
       " False,\n",
       " False,\n",
       " False,\n",
       " False,\n",
       " False,\n",
       " False,\n",
       " False,\n",
       " False,\n",
       " False,\n",
       " False,\n",
       " False,\n",
       " False,\n",
       " False,\n",
       " False,\n",
       " False,\n",
       " False,\n",
       " False,\n",
       " False,\n",
       " False,\n",
       " False,\n",
       " False,\n",
       " False,\n",
       " False,\n",
       " False,\n",
       " False,\n",
       " False,\n",
       " False,\n",
       " False,\n",
       " False,\n",
       " False,\n",
       " False,\n",
       " False,\n",
       " False,\n",
       " False,\n",
       " False,\n",
       " False,\n",
       " False,\n",
       " False,\n",
       " False,\n",
       " False,\n",
       " False,\n",
       " False,\n",
       " False,\n",
       " False,\n",
       " False,\n",
       " False,\n",
       " False,\n",
       " False,\n",
       " False,\n",
       " False,\n",
       " False,\n",
       " False,\n",
       " False,\n",
       " False,\n",
       " False,\n",
       " False,\n",
       " False,\n",
       " False,\n",
       " False,\n",
       " False,\n",
       " False,\n",
       " False,\n",
       " False,\n",
       " False,\n",
       " False,\n",
       " False,\n",
       " False,\n",
       " False,\n",
       " False,\n",
       " False,\n",
       " False,\n",
       " False,\n",
       " False,\n",
       " False,\n",
       " False,\n",
       " False,\n",
       " False,\n",
       " False,\n",
       " False,\n",
       " False,\n",
       " False,\n",
       " False,\n",
       " False,\n",
       " False,\n",
       " False,\n",
       " False,\n",
       " False,\n",
       " False,\n",
       " False,\n",
       " False,\n",
       " False,\n",
       " False,\n",
       " False,\n",
       " False,\n",
       " False,\n",
       " False,\n",
       " False,\n",
       " False,\n",
       " False,\n",
       " False,\n",
       " False,\n",
       " False,\n",
       " False,\n",
       " False,\n",
       " False,\n",
       " False,\n",
       " False,\n",
       " False,\n",
       " False,\n",
       " False,\n",
       " False,\n",
       " False,\n",
       " False,\n",
       " False,\n",
       " False,\n",
       " False,\n",
       " False,\n",
       " False,\n",
       " False,\n",
       " False,\n",
       " False,\n",
       " False,\n",
       " False,\n",
       " False,\n",
       " False,\n",
       " False,\n",
       " False,\n",
       " False,\n",
       " False,\n",
       " False,\n",
       " False,\n",
       " False,\n",
       " False,\n",
       " False,\n",
       " False,\n",
       " False,\n",
       " False,\n",
       " False,\n",
       " False,\n",
       " False,\n",
       " False,\n",
       " False,\n",
       " False,\n",
       " False,\n",
       " False,\n",
       " False,\n",
       " False,\n",
       " False,\n",
       " False,\n",
       " False,\n",
       " False,\n",
       " False,\n",
       " False,\n",
       " False,\n",
       " False,\n",
       " False,\n",
       " False,\n",
       " False,\n",
       " False,\n",
       " False,\n",
       " False,\n",
       " True,\n",
       " True,\n",
       " True,\n",
       " True,\n",
       " True,\n",
       " True,\n",
       " True,\n",
       " True,\n",
       " True,\n",
       " True,\n",
       " True,\n",
       " True,\n",
       " True,\n",
       " True,\n",
       " True,\n",
       " True,\n",
       " True,\n",
       " True,\n",
       " True,\n",
       " True,\n",
       " True,\n",
       " False,\n",
       " False,\n",
       " False,\n",
       " False,\n",
       " False,\n",
       " False,\n",
       " False,\n",
       " False,\n",
       " False,\n",
       " False,\n",
       " False,\n",
       " False,\n",
       " False,\n",
       " False,\n",
       " False,\n",
       " False,\n",
       " False,\n",
       " False,\n",
       " False,\n",
       " False,\n",
       " False,\n",
       " False,\n",
       " False,\n",
       " False,\n",
       " False,\n",
       " False,\n",
       " False,\n",
       " False,\n",
       " False,\n",
       " False,\n",
       " False,\n",
       " False,\n",
       " False,\n",
       " True,\n",
       " True,\n",
       " True,\n",
       " True,\n",
       " True,\n",
       " False,\n",
       " False,\n",
       " False,\n",
       " False,\n",
       " False,\n",
       " False,\n",
       " False,\n",
       " False,\n",
       " False,\n",
       " False,\n",
       " False,\n",
       " False,\n",
       " False,\n",
       " False,\n",
       " False,\n",
       " False,\n",
       " False,\n",
       " False,\n",
       " False,\n",
       " False,\n",
       " False,\n",
       " False,\n",
       " False,\n",
       " False,\n",
       " False,\n",
       " False,\n",
       " False,\n",
       " False,\n",
       " False,\n",
       " False,\n",
       " False,\n",
       " False,\n",
       " False,\n",
       " False,\n",
       " False,\n",
       " False,\n",
       " False,\n",
       " False,\n",
       " False,\n",
       " False,\n",
       " False,\n",
       " False,\n",
       " False,\n",
       " False,\n",
       " False,\n",
       " False,\n",
       " False,\n",
       " False,\n",
       " False,\n",
       " False,\n",
       " False,\n",
       " False,\n",
       " False,\n",
       " False,\n",
       " False,\n",
       " False,\n",
       " False,\n",
       " False,\n",
       " False,\n",
       " False,\n",
       " False,\n",
       " False,\n",
       " False,\n",
       " False,\n",
       " False,\n",
       " False,\n",
       " False,\n",
       " False,\n",
       " False,\n",
       " False,\n",
       " False,\n",
       " False,\n",
       " False,\n",
       " False,\n",
       " False,\n",
       " False,\n",
       " False,\n",
       " False,\n",
       " False,\n",
       " False,\n",
       " False,\n",
       " False,\n",
       " False,\n",
       " False,\n",
       " False,\n",
       " False,\n",
       " False,\n",
       " False,\n",
       " False,\n",
       " False,\n",
       " False,\n",
       " False,\n",
       " False,\n",
       " False,\n",
       " False,\n",
       " False,\n",
       " False,\n",
       " False,\n",
       " False,\n",
       " False,\n",
       " False,\n",
       " False,\n",
       " False,\n",
       " False,\n",
       " False,\n",
       " False,\n",
       " False,\n",
       " False,\n",
       " False,\n",
       " False,\n",
       " False,\n",
       " False,\n",
       " False,\n",
       " False,\n",
       " False,\n",
       " False,\n",
       " False,\n",
       " False,\n",
       " False,\n",
       " False,\n",
       " False,\n",
       " False,\n",
       " False,\n",
       " False,\n",
       " False,\n",
       " False,\n",
       " False,\n",
       " False,\n",
       " False,\n",
       " False,\n",
       " False,\n",
       " False,\n",
       " False,\n",
       " False,\n",
       " False,\n",
       " False,\n",
       " False,\n",
       " False,\n",
       " False,\n",
       " False,\n",
       " False,\n",
       " False,\n",
       " False,\n",
       " False,\n",
       " False,\n",
       " False,\n",
       " False,\n",
       " False,\n",
       " False,\n",
       " False,\n",
       " False,\n",
       " False,\n",
       " False,\n",
       " False,\n",
       " False,\n",
       " False,\n",
       " False,\n",
       " False,\n",
       " False,\n",
       " False,\n",
       " False,\n",
       " False,\n",
       " False,\n",
       " False,\n",
       " False,\n",
       " False,\n",
       " False,\n",
       " False,\n",
       " False,\n",
       " False,\n",
       " False,\n",
       " False,\n",
       " False,\n",
       " False,\n",
       " False,\n",
       " False,\n",
       " False,\n",
       " False,\n",
       " False,\n",
       " False,\n",
       " False,\n",
       " False,\n",
       " False,\n",
       " False,\n",
       " False,\n",
       " False,\n",
       " False,\n",
       " False,\n",
       " False,\n",
       " False,\n",
       " False,\n",
       " False,\n",
       " False,\n",
       " False,\n",
       " False,\n",
       " False,\n",
       " False,\n",
       " False,\n",
       " False,\n",
       " False,\n",
       " False,\n",
       " False,\n",
       " False,\n",
       " False,\n",
       " ...]"
      ]
     },
     "execution_count": 26,
     "metadata": {},
     "output_type": "execute_result"
    }
   ],
   "source": [
    "dc_bools"
   ]
  },
  {
   "cell_type": "code",
   "execution_count": 27,
   "metadata": {
    "collapsed": true
   },
   "outputs": [],
   "source": [
    "grouped_foursquare['check_in_dc'] = dc_bools"
   ]
  },
  {
   "cell_type": "code",
   "execution_count": 28,
   "metadata": {
    "scrolled": true
   },
   "outputs": [
    {
     "data": {
      "text/plain": [
       "False    2257915\n",
       "True       63972\n",
       "Name: check_in_dc, dtype: int64"
      ]
     },
     "execution_count": 28,
     "metadata": {},
     "output_type": "execute_result"
    }
   ],
   "source": [
    "grouped_foursquare.check_in_dc.value_counts()"
   ]
  },
  {
   "cell_type": "code",
   "execution_count": 29,
   "metadata": {
    "collapsed": true,
    "scrolled": false
   },
   "outputs": [],
   "source": [
    "grouped_foursquare = grouped_foursquare[grouped_foursquare.check_in_dc == True]\n",
    "grouped_foursquare.drop('check_in_dc', axis=1, inplace=True)"
   ]
  },
  {
   "cell_type": "markdown",
   "metadata": {},
   "source": [
    "#### Export the altered dataframe into a file for later use"
   ]
  },
  {
   "cell_type": "code",
   "execution_count": 30,
   "metadata": {
    "collapsed": true
   },
   "outputs": [],
   "source": [
    "grouped_foursquare.to_csv('./data/foursquare.csv', sep='\\t')"
   ]
  },
  {
   "cell_type": "markdown",
   "metadata": {},
   "source": [
    "<a id=\"reimport_data\"></a>\n",
    "### Import cleaned datasets\n",
    "#### <font color=Red>Start running here to import cleaned dataframes; reading dataframes into memory and re-converting datatypes</font>"
   ]
  },
  {
   "cell_type": "code",
   "execution_count": 8,
   "metadata": {},
   "outputs": [
    {
     "data": {
      "text/plain": [
       "name             object\n",
       "latitude        float64\n",
       "longitude       float64\n",
       "address          object\n",
       "city             object\n",
       "country          object\n",
       "state            object\n",
       "zip_code          int64\n",
       "categories       object\n",
       "price            object\n",
       "rating          float64\n",
       "review_count      int64\n",
       "dtype: object"
      ]
     },
     "execution_count": 8,
     "metadata": {},
     "output_type": "execute_result"
    }
   ],
   "source": [
    "businesses_df = pd.read_csv('./data/businesses.csv', sep=\"\\t\", index_col=0, encoding='latin-1')\n",
    "businesses_df.dtypes"
   ]
  },
  {
   "cell_type": "code",
   "execution_count": 9,
   "metadata": {
    "collapsed": true
   },
   "outputs": [],
   "source": [
    "businesses_df['zip_code'] = businesses_df['zip_code'].astype(str)"
   ]
  },
  {
   "cell_type": "code",
   "execution_count": 10,
   "metadata": {},
   "outputs": [
    {
     "data": {
      "text/html": [
       "<div>\n",
       "<style>\n",
       "    .dataframe thead tr:only-child th {\n",
       "        text-align: right;\n",
       "    }\n",
       "\n",
       "    .dataframe thead th {\n",
       "        text-align: left;\n",
       "    }\n",
       "\n",
       "    .dataframe tbody tr th {\n",
       "        vertical-align: top;\n",
       "    }\n",
       "</style>\n",
       "<table border=\"1\" class=\"dataframe\">\n",
       "  <thead>\n",
       "    <tr style=\"text-align: right;\">\n",
       "      <th></th>\n",
       "      <th>name</th>\n",
       "      <th>latitude</th>\n",
       "      <th>longitude</th>\n",
       "      <th>address</th>\n",
       "      <th>city</th>\n",
       "      <th>country</th>\n",
       "      <th>state</th>\n",
       "      <th>zip_code</th>\n",
       "      <th>categories</th>\n",
       "      <th>price</th>\n",
       "      <th>rating</th>\n",
       "      <th>review_count</th>\n",
       "    </tr>\n",
       "  </thead>\n",
       "  <tbody>\n",
       "    <tr>\n",
       "      <th>0</th>\n",
       "      <td>Old Ebbitt Grill</td>\n",
       "      <td>38.898005</td>\n",
       "      <td>-77.033362</td>\n",
       "      <td>675 15th St NW</td>\n",
       "      <td>Washington, DC</td>\n",
       "      <td>US</td>\n",
       "      <td>DC</td>\n",
       "      <td>20005</td>\n",
       "      <td>['Bars', 'American (Traditional)', 'Breakfast ...</td>\n",
       "      <td>$$</td>\n",
       "      <td>4.0</td>\n",
       "      <td>6544</td>\n",
       "    </tr>\n",
       "    <tr>\n",
       "      <th>1</th>\n",
       "      <td>A Baked Joint</td>\n",
       "      <td>38.902411</td>\n",
       "      <td>-77.017139</td>\n",
       "      <td>440 K St NW</td>\n",
       "      <td>Washington, DC</td>\n",
       "      <td>US</td>\n",
       "      <td>DC</td>\n",
       "      <td>20001</td>\n",
       "      <td>['Coffee &amp; Tea', 'Breakfast &amp; Brunch', 'Sandwi...</td>\n",
       "      <td>$</td>\n",
       "      <td>4.5</td>\n",
       "      <td>1218</td>\n",
       "    </tr>\n",
       "    <tr>\n",
       "      <th>2</th>\n",
       "      <td>Le Diplomate</td>\n",
       "      <td>38.911359</td>\n",
       "      <td>-77.031575</td>\n",
       "      <td>1601 14th St NW</td>\n",
       "      <td>Washington, DC</td>\n",
       "      <td>US</td>\n",
       "      <td>DC</td>\n",
       "      <td>20009</td>\n",
       "      <td>['Brasseries', 'French', 'Cafes']</td>\n",
       "      <td>$$$</td>\n",
       "      <td>4.0</td>\n",
       "      <td>2449</td>\n",
       "    </tr>\n",
       "    <tr>\n",
       "      <th>3</th>\n",
       "      <td>Rasika</td>\n",
       "      <td>38.895008</td>\n",
       "      <td>-77.021286</td>\n",
       "      <td>633 D St NW</td>\n",
       "      <td>Washington, DC</td>\n",
       "      <td>US</td>\n",
       "      <td>DC</td>\n",
       "      <td>20004</td>\n",
       "      <td>['Indian']</td>\n",
       "      <td>$$$</td>\n",
       "      <td>4.5</td>\n",
       "      <td>2633</td>\n",
       "    </tr>\n",
       "    <tr>\n",
       "      <th>4</th>\n",
       "      <td>Matchbox - Chinatown</td>\n",
       "      <td>38.900050</td>\n",
       "      <td>-77.022540</td>\n",
       "      <td>713 H St NW</td>\n",
       "      <td>Washington, DC</td>\n",
       "      <td>US</td>\n",
       "      <td>DC</td>\n",
       "      <td>20001</td>\n",
       "      <td>['Pizza', 'American (New)']</td>\n",
       "      <td>$$</td>\n",
       "      <td>4.0</td>\n",
       "      <td>2673</td>\n",
       "    </tr>\n",
       "  </tbody>\n",
       "</table>\n",
       "</div>"
      ],
      "text/plain": [
       "                   name   latitude  longitude          address  \\\n",
       "0      Old Ebbitt Grill  38.898005 -77.033362   675 15th St NW   \n",
       "1         A Baked Joint  38.902411 -77.017139      440 K St NW   \n",
       "2          Le Diplomate  38.911359 -77.031575  1601 14th St NW   \n",
       "3                Rasika  38.895008 -77.021286      633 D St NW   \n",
       "4  Matchbox - Chinatown  38.900050 -77.022540      713 H St NW   \n",
       "\n",
       "             city country state zip_code  \\\n",
       "0  Washington, DC      US    DC    20005   \n",
       "1  Washington, DC      US    DC    20001   \n",
       "2  Washington, DC      US    DC    20009   \n",
       "3  Washington, DC      US    DC    20004   \n",
       "4  Washington, DC      US    DC    20001   \n",
       "\n",
       "                                          categories price  rating  \\\n",
       "0  ['Bars', 'American (Traditional)', 'Breakfast ...    $$     4.0   \n",
       "1  ['Coffee & Tea', 'Breakfast & Brunch', 'Sandwi...     $     4.5   \n",
       "2                  ['Brasseries', 'French', 'Cafes']   $$$     4.0   \n",
       "3                                         ['Indian']   $$$     4.5   \n",
       "4                        ['Pizza', 'American (New)']    $$     4.0   \n",
       "\n",
       "   review_count  \n",
       "0          6544  \n",
       "1          1218  \n",
       "2          2449  \n",
       "3          2633  \n",
       "4          2673  "
      ]
     },
     "execution_count": 10,
     "metadata": {},
     "output_type": "execute_result"
    }
   ],
   "source": [
    "businesses_df.head()"
   ]
  },
  {
   "cell_type": "code",
   "execution_count": 13,
   "metadata": {},
   "outputs": [
    {
     "data": {
      "text/plain": [
       "user_id                     int64\n",
       "venue_id                   object\n",
       "utc_time           datetime64[ns]\n",
       "latitude                  float64\n",
       "longitude                 float64\n",
       "venue_category             object\n",
       "country                    object\n",
       "coffee_shop_bin             int64\n",
       "dtype: object"
      ]
     },
     "execution_count": 13,
     "metadata": {},
     "output_type": "execute_result"
    }
   ],
   "source": [
    "foursquare_df = pd.read_csv('./data/foursquare.csv', sep=\"\\t\", index_col=0)\n",
    "foursquare_df['utc_time'] = pd.to_datetime(foursquare_df['utc_time'], infer_datetime_format=True)\n",
    "foursquare_df.dtypes"
   ]
  },
  {
   "cell_type": "markdown",
   "metadata": {},
   "source": [
    "<a id=\"explore_data\"></a>\n",
    "## Explore Data"
   ]
  },
  {
   "cell_type": "markdown",
   "metadata": {},
   "source": [
    "#### See where people are generally coming from when they go to coffee shops"
   ]
  },
  {
   "cell_type": "code",
   "execution_count": 22,
   "metadata": {
    "scrolled": false
   },
   "outputs": [
    {
     "data": {
      "text/plain": [
       "<matplotlib.axes._subplots.AxesSubplot at 0x2c0767ffd30>"
      ]
     },
     "execution_count": 22,
     "metadata": {},
     "output_type": "execute_result"
    },
    {
     "data": {
      "image/png": "[encoded data removed]",
      "text/plain": [
       "<matplotlib.figure.Figure at 0x2c0767ce748>"
      ]
     },
     "metadata": {},
     "output_type": "display_data"
    }
   ],
   "source": [
    "# View top 10 categories of checkins on days that also contain a coffee shop checkin\n",
    "foursquare_df[foursquare_df.coffee_shop_bin==1].venue_category.value_counts().head(30).plot(kind='bar', figsize=(15, 8))"
   ]
  },
  {
   "cell_type": "markdown",
   "metadata": {
    "collapsed": true
   },
   "source": [
    "#### I too go to starbucks after every subway sub."
   ]
  },
  {
   "cell_type": "code",
   "execution_count": 23,
   "metadata": {
    "scrolled": false
   },
   "outputs": [
    {
     "data": {
      "text/plain": [
       "<matplotlib.axes._subplots.AxesSubplot at 0x2c0769d3898>"
      ]
     },
     "execution_count": 23,
     "metadata": {},
     "output_type": "execute_result"
    },
    {
     "data": {
      "image/png": "[encoded data removed]",
      "text/plain": [
       "<matplotlib.figure.Figure at 0x2c0769e0cf8>"
      ]
     },
     "metadata": {},
     "output_type": "display_data"
    }
   ],
   "source": [
    "foursquare_df.venue_category.value_counts().head(30).plot(kind='bar', figsize=(15, 8))"
   ]
  },
  {
   "cell_type": "markdown",
   "metadata": {
    "collapsed": true
   },
   "source": [
    "#### Next I'd like to view coffee shops plotted on an interactive map."
   ]
  },
  {
   "cell_type": "code",
   "execution_count": 24,
   "metadata": {
    "collapsed": true
   },
   "outputs": [],
   "source": [
    "import folium"
   ]
  },
  {
   "cell_type": "code",
   "execution_count": 25,
   "metadata": {
    "collapsed": true
   },
   "outputs": [],
   "source": [
    "map_coffee_df = businesses_df[businesses_df.categories.astype(str).str.contains('Coffee')]\n",
    "\n",
    "folium_map = folium.Map(location=[38.9031434, -77.0232301],\n",
    "                        zoom_start=13)\n",
    "\n",
    "for index, row in map_coffee_df.iterrows():\n",
    "    folium.Marker([row[\"latitude\"], row[\"longitude\"]], popup=folium.Popup(row['name'], parse_html=True)).add_to(folium_map)"
   ]
  },
  {
   "cell_type": "code",
   "execution_count": 26,
   "metadata": {
    "scrolled": false
   },
   "outputs": [
    {
     "data": {
      "text/html": [
       "<div style=\"width:100%;\"><div style=\"position:relative;width:100%;height:0;padding-bottom:60%;\"><iframe src=\"data:text/html;charset=utf-8;base64,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\" style=\"position:absolute;width:100%;height:100%;left:0;top:0;border:none !important;\" allowfullscreen webkitallowfullscreen mozallowfullscreen></iframe></div></div>"
      ],
      "text/plain": [
       "<folium.folium.Map at 0x2c0778924a8>"
      ]
     },
     "execution_count": 26,
     "metadata": {},
     "output_type": "execute_result"
    }
   ],
   "source": [
    "folium_map"
   ]
  },
  {
   "cell_type": "markdown",
   "metadata": {},
   "source": [
    "#### Next I want to find a count of coffee shops by zip code and explore population data viability on determining coffee shop location"
   ]
  },
  {
   "cell_type": "code",
   "execution_count": 27,
   "metadata": {},
   "outputs": [
    {
     "data": {
      "text/plain": [
       "(390, 12)"
      ]
     },
     "execution_count": 27,
     "metadata": {},
     "output_type": "execute_result"
    }
   ],
   "source": [
    "# get all businesses w/ category containing \"Coffee\"\n",
    "coffeeshops_byzip_df = businesses_df[businesses_df.categories.astype(str).str.contains('Coffee')]\n",
    "coffeeshops_byzip_df.shape"
   ]
  },
  {
   "cell_type": "code",
   "execution_count": 28,
   "metadata": {},
   "outputs": [
    {
     "data": {
      "text/html": [
       "<div>\n",
       "<style>\n",
       "    .dataframe thead tr:only-child th {\n",
       "        text-align: right;\n",
       "    }\n",
       "\n",
       "    .dataframe thead th {\n",
       "        text-align: left;\n",
       "    }\n",
       "\n",
       "    .dataframe tbody tr th {\n",
       "        vertical-align: top;\n",
       "    }\n",
       "</style>\n",
       "<table border=\"1\" class=\"dataframe\">\n",
       "  <thead>\n",
       "    <tr style=\"text-align: right;\">\n",
       "      <th></th>\n",
       "      <th>count</th>\n",
       "      <th>estimate_total_2015</th>\n",
       "      <th>estimate_total_2016</th>\n",
       "      <th>pop_change_rate</th>\n",
       "    </tr>\n",
       "    <tr>\n",
       "      <th>zip_code</th>\n",
       "      <th></th>\n",
       "      <th></th>\n",
       "      <th></th>\n",
       "      <th></th>\n",
       "    </tr>\n",
       "  </thead>\n",
       "  <tbody>\n",
       "    <tr>\n",
       "      <th>20037</th>\n",
       "      <td>18</td>\n",
       "      <td>15687</td>\n",
       "      <td>15285</td>\n",
       "      <td>-0.025626</td>\n",
       "    </tr>\n",
       "    <tr>\n",
       "      <th>20007</th>\n",
       "      <td>20</td>\n",
       "      <td>26687</td>\n",
       "      <td>26415</td>\n",
       "      <td>-0.010192</td>\n",
       "    </tr>\n",
       "    <tr>\n",
       "      <th>20010</th>\n",
       "      <td>8</td>\n",
       "      <td>32544</td>\n",
       "      <td>32421</td>\n",
       "      <td>-0.003779</td>\n",
       "    </tr>\n",
       "    <tr>\n",
       "      <th>20009</th>\n",
       "      <td>41</td>\n",
       "      <td>51499</td>\n",
       "      <td>51508</td>\n",
       "      <td>0.000175</td>\n",
       "    </tr>\n",
       "    <tr>\n",
       "      <th>20016</th>\n",
       "      <td>15</td>\n",
       "      <td>35101</td>\n",
       "      <td>35192</td>\n",
       "      <td>0.002593</td>\n",
       "    </tr>\n",
       "    <tr>\n",
       "      <th>20008</th>\n",
       "      <td>8</td>\n",
       "      <td>28141</td>\n",
       "      <td>28261</td>\n",
       "      <td>0.004264</td>\n",
       "    </tr>\n",
       "    <tr>\n",
       "      <th>20006</th>\n",
       "      <td>31</td>\n",
       "      <td>2905</td>\n",
       "      <td>2920</td>\n",
       "      <td>0.005164</td>\n",
       "    </tr>\n",
       "    <tr>\n",
       "      <th>20005</th>\n",
       "      <td>33</td>\n",
       "      <td>12947</td>\n",
       "      <td>13063</td>\n",
       "      <td>0.008960</td>\n",
       "    </tr>\n",
       "    <tr>\n",
       "      <th>20011</th>\n",
       "      <td>14</td>\n",
       "      <td>66571</td>\n",
       "      <td>67349</td>\n",
       "      <td>0.011687</td>\n",
       "    </tr>\n",
       "    <tr>\n",
       "      <th>20003</th>\n",
       "      <td>20</td>\n",
       "      <td>28538</td>\n",
       "      <td>29071</td>\n",
       "      <td>0.018677</td>\n",
       "    </tr>\n",
       "    <tr>\n",
       "      <th>20018</th>\n",
       "      <td>8</td>\n",
       "      <td>19957</td>\n",
       "      <td>20363</td>\n",
       "      <td>0.020344</td>\n",
       "    </tr>\n",
       "    <tr>\n",
       "      <th>20004</th>\n",
       "      <td>20</td>\n",
       "      <td>1667</td>\n",
       "      <td>1708</td>\n",
       "      <td>0.024595</td>\n",
       "    </tr>\n",
       "    <tr>\n",
       "      <th>20001</th>\n",
       "      <td>43</td>\n",
       "      <td>43731</td>\n",
       "      <td>44998</td>\n",
       "      <td>0.028973</td>\n",
       "    </tr>\n",
       "    <tr>\n",
       "      <th>20002</th>\n",
       "      <td>33</td>\n",
       "      <td>57412</td>\n",
       "      <td>59659</td>\n",
       "      <td>0.039138</td>\n",
       "    </tr>\n",
       "    <tr>\n",
       "      <th>20024</th>\n",
       "      <td>15</td>\n",
       "      <td>11665</td>\n",
       "      <td>12183</td>\n",
       "      <td>0.044406</td>\n",
       "    </tr>\n",
       "    <tr>\n",
       "      <th>20036</th>\n",
       "      <td>27</td>\n",
       "      <td>5405</td>\n",
       "      <td>5655</td>\n",
       "      <td>0.046253</td>\n",
       "    </tr>\n",
       "  </tbody>\n",
       "</table>\n",
       "</div>"
      ],
      "text/plain": [
       "          count  estimate_total_2015  estimate_total_2016  pop_change_rate\n",
       "zip_code                                                                  \n",
       "20037        18                15687                15285        -0.025626\n",
       "20007        20                26687                26415        -0.010192\n",
       "20010         8                32544                32421        -0.003779\n",
       "20009        41                51499                51508         0.000175\n",
       "20016        15                35101                35192         0.002593\n",
       "20008         8                28141                28261         0.004264\n",
       "20006        31                 2905                 2920         0.005164\n",
       "20005        33                12947                13063         0.008960\n",
       "20011        14                66571                67349         0.011687\n",
       "20003        20                28538                29071         0.018677\n",
       "20018         8                19957                20363         0.020344\n",
       "20004        20                 1667                 1708         0.024595\n",
       "20001        43                43731                44998         0.028973\n",
       "20002        33                57412                59659         0.039138\n",
       "20024        15                11665                12183         0.044406\n",
       "20036        27                 5405                 5655         0.046253"
      ]
     },
     "execution_count": 28,
     "metadata": {},
     "output_type": "execute_result"
    }
   ],
   "source": [
    "# new df containing each zip code and the count of coffee shops\n",
    "coffeeshop_percap_df = coffeeshops_byzip_df.groupby('zip_code').zip_code.agg(['count']).sort_values('count', ascending=False)\n",
    "\n",
    "# merge previous dataframe with population growth dataframe\n",
    "coffeeshop_percap_df = coffeeshop_percap_df.merge(populchange_df, left_index=True, right_on=\"zip_code\")\n",
    "coffeeshop_percap_df = coffeeshop_percap_df.set_index('zip_code')\n",
    "\n",
    "# add calculated field for rate of population change\n",
    "coffeeshop_percap_df['pop_change_rate'] = (coffeeshop_percap_df['estimate_total_2016'] - \\\n",
    "                                            coffeeshop_percap_df['estimate_total_2015']) / \\\n",
    "                                            coffeeshop_percap_df['estimate_total_2015']\n",
    "\n",
    "# display some rows from newly constructed df, sorted by population rate of change\n",
    "coffeeshop_percap_df[coffeeshop_percap_df['count'] > 5].sort_values('pop_change_rate')"
   ]
  },
  {
   "cell_type": "code",
   "execution_count": null,
   "metadata": {
    "collapsed": true
   },
   "outputs": [],
   "source": []
  }
 ],
 "metadata": {
  "kernelspec": {
   "display_name": "Python 3",
   "language": "python",
   "name": "python3"
  },
  "language_info": {
   "codemirror_mode": {
    "name": "ipython",
    "version": 3
   },
   "file_extension": ".py",
   "mimetype": "text/x-python",
   "name": "python",
   "nbconvert_exporter": "python",
   "pygments_lexer": "ipython3",
   "version": "3.6.4"
  }
 },
 "nbformat": 4,
 "nbformat_minor": 2
}
