{
 "cells": [
  {
   "cell_type": "markdown",
   "metadata": {},
   "source": [
    "<h1 align=\"center\">Coffee Shop Location</h1> \n",
    "<h5 align=\"center\">by Steven Asten</h5> \n",
    "\n"
   ]
  },
  {
   "cell_type": "markdown",
   "metadata": {},
   "source": [
    "# Contents:\n",
    "1. <a href=\"#part_1\">Three Capstone Project Ideas</a>\n",
    "2. <a href=\"#part_2\">New Coffee Shop Location Proposal</a>\n",
    "3. <a href=\"#part_3\">Exploratory Data Analysis (EDA)</a>\n",
    "    - <a href=\"#import_and_structure\">Import and structure data sets</a>\n",
    "    - <a href=\"#explore_data\">Explore data</a>\n",
    "    - <a href=\"#explore_data_old\">Explore data (Old Hypotheses)</a>\n",
    "4. <a href=\"#machine_learning\">Machine Learning</a>\n",
    "    - <a href=\"#hyp_1\">Hypothesis #1</a>\n",
    "    - <a href=\"#hyp_2\">Hypothesis #2</a>\n",
    "5. <a href=\"#conclusion\">Conclusion</a>\n",
    "    "
   ]
  },
  {
   "cell_type": "markdown",
   "metadata": {},
   "source": [
    "<a id=\"part_1\"></a>"
   ]
  },
  {
   "cell_type": "markdown",
   "metadata": {},
   "source": [
    "# Part 1 - Three Capstone Project Ideas:"
   ]
  },
  {
   "cell_type": "code",
   "execution_count": 650,
   "metadata": {
    "scrolled": false
   },
   "outputs": [
    {
     "data": {
      "text/html": [
       "\n",
       "        <iframe\n",
       "            width=\"800\"\n",
       "            height=\"500\"\n",
       "            src=\"../Part1_3Ideas/steveAstenThreeIdeas.pdf\"\n",
       "            frameborder=\"0\"\n",
       "            allowfullscreen\n",
       "        ></iframe>\n",
       "        "
      ],
      "text/plain": [
       "<IPython.lib.display.IFrame at 0x1ca7397eeb8>"
      ]
     },
     "execution_count": 650,
     "metadata": {},
     "output_type": "execute_result"
    }
   ],
   "source": [
    "from IPython.display import IFrame\n",
    "IFrame(\"../Part1_3Ideas/steveAstenThreeIdeas.pdf\", width=800, height=500)"
   ]
  },
  {
   "cell_type": "markdown",
   "metadata": {},
   "source": [
    "<a id=\"part_2\"></a>"
   ]
  },
  {
   "cell_type": "markdown",
   "metadata": {},
   "source": [
    "# Part 2: New coffee shop location\n",
    "#### Problem Statement: What are you trying to solve?\n",
    "Find a rental property in a location which would be suitable for a new coffee shop. Only DC metro area considered.\n",
    "\n",
    "#### Data science Hypothesis(es)/solutions considering: One or multiple angles to consider solving this problem with data science  \n",
    "- Find the location w/ the least amount of competition (other coffee shops), using Yelp dataset\n",
    "- Find an area with features that may increase foot traffic, such as other nearby shops, public transportation stops, etc.\n",
    "\n",
    "#### Data sets to be used: Share the links and files, .csvs, .js, .xlsx, .txt, website URLs\n",
    "- [Yelp Dataset](https://www.yelp.com/dataset)\n",
    "- [2016 ACS 1-year estimates; Age and Sex](Part2_Proposal/DatasetsForProject/sex_and_age/)\n",
    "    - This dataset might change or be expanded to include more data; currently the intention is to use it for population data. The data came from [factfinder.census.gov](https://factfinder.census.gov/faces/nav/jsf/pages/download_center.xhtml).\n",
    "\n",
    "#### Data dictionaries to describe the data types youâ€™re using: write these out in markdown as tables \n",
    "- Yelp Dataset - business.json\n",
    "\n",
    "|Data ID      |Data Type|Data Description                                                           |\n",
    "|-------------|:-------:|---------------------------------------------------------------------------|\n",
    "|business_id  |String   |22 character unique string business id                                     |\n",
    "|name         |String   |the business's name                                                        |\n",
    "|neighborhood |String   |the neighborhood's name                                                    |\n",
    "|address      |String   |the full address of the business                                           |\n",
    "|city         |String   |the city                                                                   |\n",
    "|state        |String   |2 character state code, if applicable                                      |\n",
    "|postal code  |String   |the postal code                                                            |\n",
    "|latitude     |Float    |latitude                                                                   |\n",
    "|longitude    |Float    |longitude                                                                  |\n",
    "|stars        |Float    |star rating, rounded to half-stars                                         |\n",
    "|review_count |Integer  |number of reviews                                                          |\n",
    "|is_open      |Integer  |0 or 1 for closed or open, respectively                                    |\n",
    "|attributes   |Object(?)|business attributes to values. note: some attribute values might be objects|\n",
    "|categories   |Array(?) |an array of strings of business categories                                 |\n",
    "|hours        |Object(?)|key day to value hours, hours are using a 24hr clock                       |\n",
    "\n",
    "\n",
    "- 2016 ACS Age and Sex table (might not use this)\n",
    "\n",
    "|Data ID|Data Type|Data Description|\n",
    "|-----------------|:-----:|-------------------------------------|\n",
    "|GEO.id           |String |ID                                   |\n",
    "|GEO.id2          |String |ID                                   |\n",
    "|GEO.display-label|String |Display label in format County, State|\n",
    "|HC01_EST_VC01    |Integer|Estimated total population           |\n",
    "\n",
    "#### Potential business cases relative to project: how would this help businesses out to make money or save money or improve accuracy or make better products?\n",
    "This project will allow expanding coffee-shop franchises, as well as entrepreneurs breaking into the coffee shop industry, to find a suitable location for a new coffee shop. By using this analysis, coffee shop owners can avoid opening coffee shops in non-suitable areas, resulting in large savings in capital. Opening a coffee shop in a thriving and expanding area with less competition should also result in higher profits.\n",
    "\n",
    "#### Potential stakeholders who would find this interesting: who would be your ideal customer or client for this?\n",
    "Seeing as large franchises like Starbucks already have software which executes this analysis, the ideal customer for this project would be small business owners and prospective entrepreneurs.\n",
    "\n",
    "#### Potential places to share your results post project (client, world, website, blog)\n",
    "At this time, I believe the most beneficial method of sharing these results would be through a blog post that would allow the user to reproduce the analysis for different areas (since this will only cover the DC metro area)."
   ]
  },
  {
   "cell_type": "markdown",
   "metadata": {},
   "source": [
    "<a id=\"part_3\"></a>"
   ]
  },
  {
   "cell_type": "markdown",
   "metadata": {},
   "source": [
    "# Part 3: Exploratory Data Analysis"
   ]
  },
  {
   "cell_type": "markdown",
   "metadata": {},
   "source": [
    "<a id=\"import_and_structure\"></a>"
   ]
  },
  {
   "cell_type": "markdown",
   "metadata": {},
   "source": [
    "# Import data files and save as dataframes."
   ]
  },
  {
   "cell_type": "code",
   "execution_count": 651,
   "metadata": {
    "collapsed": true
   },
   "outputs": [],
   "source": [
    "import pandas as pd\n",
    "from matplotlib import pyplot as plt\n",
    "\n",
    "%matplotlib inline"
   ]
  },
  {
   "cell_type": "markdown",
   "metadata": {},
   "source": [
    "<a id=\"import_zip\"></a>\n",
    "### Import zip_codes file (which contains all zip codes in dc-metro) into a python list."
   ]
  },
  {
   "cell_type": "code",
   "execution_count": 652,
   "metadata": {
    "collapsed": true
   },
   "outputs": [],
   "source": [
    "import csv\n",
    "with open('./data/zip_codes.csv', 'r') as f:\n",
    "    reader = csv.reader(f)\n",
    "    zip_codes = list(reader)\n",
    "    \n",
    "# convert list of lists attained from csv.reader to single flat list\n",
    "zip_codes_flat = [item for sublist in zip_codes for item in sublist]"
   ]
  },
  {
   "cell_type": "markdown",
   "metadata": {},
   "source": [
    "<a id=\"import_acs\"></a>\n",
    "### Import ACS Datasets"
   ]
  },
  {
   "cell_type": "code",
   "execution_count": 653,
   "metadata": {},
   "outputs": [
    {
     "data": {
      "text/plain": [
       "zip_code          int64\n",
       "estimate_total    int64\n",
       "dtype: object"
      ]
     },
     "execution_count": 653,
     "metadata": {},
     "output_type": "execute_result"
    }
   ],
   "source": [
    "# create dataframe with 2015 & 2016 data to compare for change in population\n",
    "popul2016_df = pd.read_csv('./data/ACS_16_5YR_B01003_with_ann.csv', names=('zip_code', 'estimate_total'), skiprows=1)\n",
    "popul2016_df = popul2016_df[popul2016_df.zip_code.isin(zip_codes_flat)]\n",
    "popul2016_df.dtypes"
   ]
  },
  {
   "cell_type": "code",
   "execution_count": 654,
   "metadata": {
    "collapsed": true,
    "scrolled": true
   },
   "outputs": [],
   "source": [
    "popul2016_df['zip_code'] = popul2016_df['zip_code'].astype(str)"
   ]
  },
  {
   "cell_type": "code",
   "execution_count": 655,
   "metadata": {
    "collapsed": true
   },
   "outputs": [],
   "source": [
    "zipfeatures_df = pd.read_csv('./data/ACS_15_5YR_B01002_with_ann.csv', names=('zip_code', 'median_age', 'mean_income', 'percent_public_transport'), skiprows=2)\n",
    "zipfeatures_df['zip_code'] = zipfeatures_df['zip_code'].astype(str)"
   ]
  },
  {
   "cell_type": "code",
   "execution_count": 656,
   "metadata": {
    "collapsed": true
   },
   "outputs": [],
   "source": [
    "zipfeatures_df = popul2016_df.merge(zipfeatures_df, on='zip_code')"
   ]
  },
  {
   "cell_type": "code",
   "execution_count": 657,
   "metadata": {
    "collapsed": true
   },
   "outputs": [],
   "source": [
    "zipfeatures_df['median_age'] = pd.to_numeric(zipfeatures_df['median_age'], errors='coerce')\n",
    "zipfeatures_df['mean_income'] = pd.to_numeric(zipfeatures_df['mean_income'], errors='coerce')\n",
    "zipfeatures_df['percent_public_transport'] = pd.to_numeric(zipfeatures_df['percent_public_transport'], errors='coerce')"
   ]
  },
  {
   "cell_type": "code",
   "execution_count": 658,
   "metadata": {},
   "outputs": [
    {
     "data": {
      "text/plain": [
       "zip_code                     object\n",
       "estimate_total                int64\n",
       "median_age                  float64\n",
       "mean_income                 float64\n",
       "percent_public_transport    float64\n",
       "dtype: object"
      ]
     },
     "execution_count": 658,
     "metadata": {},
     "output_type": "execute_result"
    }
   ],
   "source": [
    "zipfeatures_df.dtypes"
   ]
  },
  {
   "cell_type": "markdown",
   "metadata": {},
   "source": [
    "<a id=\"yelp_api\"></a>\n",
    "### Import Yelp dataset/call Yelp API.\n",
    "    - After importing the dataset I found it to be missing all data from DC area (maybe corrupted file?), so I chose to use  Yelp API.\n",
    "#### Note: <font color=Red>Don't run this code. Outputted, cleaned dataframe saved to file below and re-imported in the next section. I've marked where to begin running in red below.</font>"
   ]
  },
  {
   "cell_type": "code",
   "execution_count": 7,
   "metadata": {
    "collapsed": true
   },
   "outputs": [],
   "source": [
    "# businesses = pd.read_json('./data/business.json', lines=True)\n",
    "# businesses.shape\n",
    "# businesses.dtypes\n",
    "# businesses.head()\n",
    "# businesses[businesses.city.isin(zip_codes_flat)]"
   ]
  },
  {
   "cell_type": "code",
   "execution_count": 8,
   "metadata": {
    "collapsed": true,
    "scrolled": false
   },
   "outputs": [],
   "source": [
    "# This takes a very long time to run (calls the API 1200ish times; 10 minutes on my PC)\n",
    "# Query the yelp api for each zip code in the DC metro area\n",
    "# Since Yelp limit is 50 for businesses returned, we need to loop through pages of 50 using offsets\n",
    "\n",
    "import requests\n",
    "\n",
    "url = \"https://api.yelp.com/v3/businesses/search\"\n",
    "\n",
    "dict_responses = {}\n",
    "# for each zip code, gather up to 1001 businesses (should be enough for all businesses in each zip)\n",
    "for i in zip_codes_flat:\n",
    "    j = 1\n",
    "    while j <= 1001:\n",
    "        querystring = {'location': i, 'limit':50, 'offset':j}\n",
    "\n",
    "        headers = {\n",
    "            'authorization': #insert api key,\n",
    "            'cache-control': \"no-cache\",\n",
    "            }\n",
    "\n",
    "        response = requests.request(\"GET\", url, headers=headers, params=querystring)\n",
    "\n",
    "        response_todict = response.json()\n",
    "        try:\n",
    "            response_todict[str(int(i)+int(j))] = response_todict.pop('businesses')\n",
    "        except:\n",
    "            j = 1002\n",
    "        else:    \n",
    "            dict_responses.update(response_todict)\n",
    "            j = j + 50"
   ]
  },
  {
   "cell_type": "code",
   "execution_count": 9,
   "metadata": {
    "collapsed": true
   },
   "outputs": [],
   "source": [
    "# Clean up the response from the api\n",
    "\n",
    "list_of_businesses = []\n",
    "\n",
    "for key, item in dict_responses.items():\n",
    "    list_of_businesses.append(item)\n",
    "\n",
    "del(list_of_businesses[0:2])\n",
    "\n",
    "# more cleanup; list is currently list of lists of dictionaries due to how api was called\n",
    "# convert to just list of dictionaries\n",
    "\n",
    "list_of_businesses_formatting = []\n",
    "\n",
    "for i in list_of_businesses:\n",
    "    for j in i:\n",
    "        list_of_businesses_formatting.append(j)"
   ]
  },
  {
   "cell_type": "markdown",
   "metadata": {},
   "source": [
    "#### I need to normalize the json data so that each data point is in its own column."
   ]
  },
  {
   "cell_type": "code",
   "execution_count": 10,
   "metadata": {
    "collapsed": true
   },
   "outputs": [],
   "source": [
    "# Change formatting of categories column to only include \"title\", not \"alias\" (makes normalization easier)\n",
    "for idx, val in enumerate(list_of_businesses_formatting):\n",
    "    list_categories = []\n",
    "    for idx2, val2 in enumerate(val['categories']):\n",
    "        list_categories.append(list_of_businesses_formatting[idx]['categories'][idx2]['title'])\n",
    "    val['categories'] = list_categories"
   ]
  },
  {
   "cell_type": "code",
   "execution_count": 11,
   "metadata": {
    "collapsed": true
   },
   "outputs": [],
   "source": [
    "# This isn't technically normalized all the way since categories still has multiple values.\n",
    "# Good enough for analysis I need\n",
    "from pandas.io.json import json_normalize\n",
    "businesses_df = json_normalize(list_of_businesses_formatting)"
   ]
  },
  {
   "cell_type": "code",
   "execution_count": 12,
   "metadata": {
    "scrolled": false
   },
   "outputs": [
    {
     "data": {
      "text/html": [
       "<div>\n",
       "<style>\n",
       "    .dataframe thead tr:only-child th {\n",
       "        text-align: right;\n",
       "    }\n",
       "\n",
       "    .dataframe thead th {\n",
       "        text-align: left;\n",
       "    }\n",
       "\n",
       "    .dataframe tbody tr th {\n",
       "        vertical-align: top;\n",
       "    }\n",
       "</style>\n",
       "<table border=\"1\" class=\"dataframe\">\n",
       "  <thead>\n",
       "    <tr style=\"text-align: right;\">\n",
       "      <th></th>\n",
       "      <th>alias</th>\n",
       "      <th>categories</th>\n",
       "      <th>coordinates.latitude</th>\n",
       "      <th>coordinates.longitude</th>\n",
       "      <th>display_phone</th>\n",
       "      <th>distance</th>\n",
       "      <th>id</th>\n",
       "      <th>image_url</th>\n",
       "      <th>is_closed</th>\n",
       "      <th>location.address1</th>\n",
       "      <th>...</th>\n",
       "      <th>location.display_address</th>\n",
       "      <th>location.state</th>\n",
       "      <th>location.zip_code</th>\n",
       "      <th>name</th>\n",
       "      <th>phone</th>\n",
       "      <th>price</th>\n",
       "      <th>rating</th>\n",
       "      <th>review_count</th>\n",
       "      <th>transactions</th>\n",
       "      <th>url</th>\n",
       "    </tr>\n",
       "  </thead>\n",
       "  <tbody>\n",
       "    <tr>\n",
       "      <th>0</th>\n",
       "      <td>old-ebbitt-grill-washington</td>\n",
       "      <td>[Bars, American (Traditional), Breakfast &amp; Bru...</td>\n",
       "      <td>38.898005</td>\n",
       "      <td>-77.033362</td>\n",
       "      <td>(202) 347-4800</td>\n",
       "      <td>1428.775801</td>\n",
       "      <td>iyBbcXtQSBfiwFQZwVBNaQ</td>\n",
       "      <td>https://s3-media2.fl.yelpcdn.com/bphoto/KBCezp...</td>\n",
       "      <td>False</td>\n",
       "      <td>675 15th St NW</td>\n",
       "      <td>...</td>\n",
       "      <td>[675 15th St NW, Washington, DC 20005]</td>\n",
       "      <td>DC</td>\n",
       "      <td>20005</td>\n",
       "      <td>Old Ebbitt Grill</td>\n",
       "      <td>+12023474800</td>\n",
       "      <td>$$</td>\n",
       "      <td>4.0</td>\n",
       "      <td>6544</td>\n",
       "      <td>[]</td>\n",
       "      <td>https://www.yelp.com/biz/old-ebbitt-grill-wash...</td>\n",
       "    </tr>\n",
       "    <tr>\n",
       "      <th>1</th>\n",
       "      <td>a-baked-joint-washington-9</td>\n",
       "      <td>[Coffee &amp; Tea, Breakfast &amp; Brunch, Sandwiches]</td>\n",
       "      <td>38.902411</td>\n",
       "      <td>-77.017139</td>\n",
       "      <td>(202) 408-6985</td>\n",
       "      <td>547.273915</td>\n",
       "      <td>SpCeYPhky4gsWa9-IBtw2A</td>\n",
       "      <td>https://s3-media1.fl.yelpcdn.com/bphoto/iTBw1K...</td>\n",
       "      <td>False</td>\n",
       "      <td>440 K St NW</td>\n",
       "      <td>...</td>\n",
       "      <td>[440 K St NW, Washington, DC 20001]</td>\n",
       "      <td>DC</td>\n",
       "      <td>20001</td>\n",
       "      <td>A Baked Joint</td>\n",
       "      <td>+12024086985</td>\n",
       "      <td>$</td>\n",
       "      <td>4.5</td>\n",
       "      <td>1218</td>\n",
       "      <td>[]</td>\n",
       "      <td>https://www.yelp.com/biz/a-baked-joint-washing...</td>\n",
       "    </tr>\n",
       "  </tbody>\n",
       "</table>\n",
       "<p>2 rows × 24 columns</p>\n",
       "</div>"
      ],
      "text/plain": [
       "                         alias  \\\n",
       "0  old-ebbitt-grill-washington   \n",
       "1   a-baked-joint-washington-9   \n",
       "\n",
       "                                          categories  coordinates.latitude  \\\n",
       "0  [Bars, American (Traditional), Breakfast & Bru...             38.898005   \n",
       "1     [Coffee & Tea, Breakfast & Brunch, Sandwiches]             38.902411   \n",
       "\n",
       "   coordinates.longitude   display_phone     distance                      id  \\\n",
       "0             -77.033362  (202) 347-4800  1428.775801  iyBbcXtQSBfiwFQZwVBNaQ   \n",
       "1             -77.017139  (202) 408-6985   547.273915  SpCeYPhky4gsWa9-IBtw2A   \n",
       "\n",
       "                                           image_url  is_closed  \\\n",
       "0  https://s3-media2.fl.yelpcdn.com/bphoto/KBCezp...      False   \n",
       "1  https://s3-media1.fl.yelpcdn.com/bphoto/iTBw1K...      False   \n",
       "\n",
       "  location.address1                        ...                          \\\n",
       "0    675 15th St NW                        ...                           \n",
       "1       440 K St NW                        ...                           \n",
       "\n",
       "                 location.display_address location.state location.zip_code  \\\n",
       "0  [675 15th St NW, Washington, DC 20005]             DC             20005   \n",
       "1     [440 K St NW, Washington, DC 20001]             DC             20001   \n",
       "\n",
       "               name         phone price rating review_count transactions  \\\n",
       "0  Old Ebbitt Grill  +12023474800    $$    4.0         6544           []   \n",
       "1     A Baked Joint  +12024086985     $    4.5         1218           []   \n",
       "\n",
       "                                                 url  \n",
       "0  https://www.yelp.com/biz/old-ebbitt-grill-wash...  \n",
       "1  https://www.yelp.com/biz/a-baked-joint-washing...  \n",
       "\n",
       "[2 rows x 24 columns]"
      ]
     },
     "execution_count": 12,
     "metadata": {},
     "output_type": "execute_result"
    }
   ],
   "source": [
    "businesses_df.head(2)"
   ]
  },
  {
   "cell_type": "markdown",
   "metadata": {},
   "source": [
    "#### My looping api call technique resulted in many duplicates, as we examine and fix below (id is unique)."
   ]
  },
  {
   "cell_type": "code",
   "execution_count": 13,
   "metadata": {},
   "outputs": [
    {
     "data": {
      "text/plain": [
       "SvjE3q-uYpyjqYKh714IPw    16\n",
       "ynuv5y74SB2gEXFPjMYb_Q    16\n",
       "F6jgtkBLdyjHYhDO79Z1lA    16\n",
       "hrWvnULW3ragGALYVEAybA    16\n",
       "S0WNMOKJ5c3NXuC_-7lE2Q    14\n",
       "Name: id, dtype: int64"
      ]
     },
     "execution_count": 13,
     "metadata": {},
     "output_type": "execute_result"
    }
   ],
   "source": [
    "businesses_df.id.value_counts().head()"
   ]
  },
  {
   "cell_type": "code",
   "execution_count": 14,
   "metadata": {
    "collapsed": true
   },
   "outputs": [],
   "source": [
    "businesses_df.drop_duplicates(subset='id', inplace=True)"
   ]
  },
  {
   "cell_type": "code",
   "execution_count": 15,
   "metadata": {},
   "outputs": [
    {
     "data": {
      "text/plain": [
       "(4222, 24)"
      ]
     },
     "execution_count": 15,
     "metadata": {},
     "output_type": "execute_result"
    }
   ],
   "source": [
    "businesses_df.shape"
   ]
  },
  {
   "cell_type": "markdown",
   "metadata": {},
   "source": [
    "#### Now I will drop columns that I won't need during this project."
   ]
  },
  {
   "cell_type": "code",
   "execution_count": 16,
   "metadata": {
    "collapsed": true
   },
   "outputs": [],
   "source": [
    "businesses_df.drop(['alias',\n",
    "         'id',\n",
    "         'display_phone',\n",
    "         'distance', \n",
    "         'image_url', \n",
    "         'is_closed', \n",
    "         'location.address2', \n",
    "         'location.address3', \n",
    "         'location.display_address',\n",
    "         'phone',\n",
    "         'transactions',\n",
    "         'url'], axis=1, inplace=True)"
   ]
  },
  {
   "cell_type": "markdown",
   "metadata": {},
   "source": [
    "#### Next I'll clean up the column names."
   ]
  },
  {
   "cell_type": "code",
   "execution_count": 17,
   "metadata": {
    "collapsed": true
   },
   "outputs": [],
   "source": [
    "businesses_df.columns = ['categories', 'latitude', \n",
    "                         'longitude', 'address', \n",
    "                         'city', 'country', 'state', \n",
    "                         'zip_code', 'name', 'price', \n",
    "                         'rating', 'review_count']"
   ]
  },
  {
   "cell_type": "code",
   "execution_count": 18,
   "metadata": {
    "collapsed": true
   },
   "outputs": [],
   "source": [
    "# move name column to first position\n",
    "cols = businesses_df.columns.tolist()\n",
    "cols[0] = 'name'\n",
    "cols[8] = 'categories'\n",
    "businesses_df = businesses_df[cols]"
   ]
  },
  {
   "cell_type": "code",
   "execution_count": 19,
   "metadata": {},
   "outputs": [
    {
     "data": {
      "text/html": [
       "<div>\n",
       "<style>\n",
       "    .dataframe thead tr:only-child th {\n",
       "        text-align: right;\n",
       "    }\n",
       "\n",
       "    .dataframe thead th {\n",
       "        text-align: left;\n",
       "    }\n",
       "\n",
       "    .dataframe tbody tr th {\n",
       "        vertical-align: top;\n",
       "    }\n",
       "</style>\n",
       "<table border=\"1\" class=\"dataframe\">\n",
       "  <thead>\n",
       "    <tr style=\"text-align: right;\">\n",
       "      <th></th>\n",
       "      <th>name</th>\n",
       "      <th>latitude</th>\n",
       "      <th>longitude</th>\n",
       "      <th>address</th>\n",
       "      <th>city</th>\n",
       "      <th>country</th>\n",
       "      <th>state</th>\n",
       "      <th>zip_code</th>\n",
       "      <th>categories</th>\n",
       "      <th>price</th>\n",
       "      <th>rating</th>\n",
       "      <th>review_count</th>\n",
       "    </tr>\n",
       "  </thead>\n",
       "  <tbody>\n",
       "    <tr>\n",
       "      <th>0</th>\n",
       "      <td>Old Ebbitt Grill</td>\n",
       "      <td>38.898005</td>\n",
       "      <td>-77.033362</td>\n",
       "      <td>675 15th St NW</td>\n",
       "      <td>Washington, DC</td>\n",
       "      <td>US</td>\n",
       "      <td>DC</td>\n",
       "      <td>20005</td>\n",
       "      <td>[Bars, American (Traditional), Breakfast &amp; Bru...</td>\n",
       "      <td>$$</td>\n",
       "      <td>4.0</td>\n",
       "      <td>6544</td>\n",
       "    </tr>\n",
       "    <tr>\n",
       "      <th>1</th>\n",
       "      <td>A Baked Joint</td>\n",
       "      <td>38.902411</td>\n",
       "      <td>-77.017139</td>\n",
       "      <td>440 K St NW</td>\n",
       "      <td>Washington, DC</td>\n",
       "      <td>US</td>\n",
       "      <td>DC</td>\n",
       "      <td>20001</td>\n",
       "      <td>[Coffee &amp; Tea, Breakfast &amp; Brunch, Sandwiches]</td>\n",
       "      <td>$</td>\n",
       "      <td>4.5</td>\n",
       "      <td>1218</td>\n",
       "    </tr>\n",
       "    <tr>\n",
       "      <th>2</th>\n",
       "      <td>Le Diplomate</td>\n",
       "      <td>38.911359</td>\n",
       "      <td>-77.031575</td>\n",
       "      <td>1601 14th St NW</td>\n",
       "      <td>Washington, DC</td>\n",
       "      <td>US</td>\n",
       "      <td>DC</td>\n",
       "      <td>20009</td>\n",
       "      <td>[Brasseries, French, Cafes]</td>\n",
       "      <td>$$$</td>\n",
       "      <td>4.0</td>\n",
       "      <td>2449</td>\n",
       "    </tr>\n",
       "    <tr>\n",
       "      <th>3</th>\n",
       "      <td>Rasika</td>\n",
       "      <td>38.895008</td>\n",
       "      <td>-77.021286</td>\n",
       "      <td>633 D St NW</td>\n",
       "      <td>Washington, DC</td>\n",
       "      <td>US</td>\n",
       "      <td>DC</td>\n",
       "      <td>20004</td>\n",
       "      <td>[Indian]</td>\n",
       "      <td>$$$</td>\n",
       "      <td>4.5</td>\n",
       "      <td>2633</td>\n",
       "    </tr>\n",
       "    <tr>\n",
       "      <th>4</th>\n",
       "      <td>Matchbox - Chinatown</td>\n",
       "      <td>38.900050</td>\n",
       "      <td>-77.022540</td>\n",
       "      <td>713 H St NW</td>\n",
       "      <td>Washington, DC</td>\n",
       "      <td>US</td>\n",
       "      <td>DC</td>\n",
       "      <td>20001</td>\n",
       "      <td>[Pizza, American (New)]</td>\n",
       "      <td>$$</td>\n",
       "      <td>4.0</td>\n",
       "      <td>2673</td>\n",
       "    </tr>\n",
       "  </tbody>\n",
       "</table>\n",
       "</div>"
      ],
      "text/plain": [
       "                   name   latitude  longitude          address  \\\n",
       "0      Old Ebbitt Grill  38.898005 -77.033362   675 15th St NW   \n",
       "1         A Baked Joint  38.902411 -77.017139      440 K St NW   \n",
       "2          Le Diplomate  38.911359 -77.031575  1601 14th St NW   \n",
       "3                Rasika  38.895008 -77.021286      633 D St NW   \n",
       "4  Matchbox - Chinatown  38.900050 -77.022540      713 H St NW   \n",
       "\n",
       "             city country state zip_code  \\\n",
       "0  Washington, DC      US    DC    20005   \n",
       "1  Washington, DC      US    DC    20001   \n",
       "2  Washington, DC      US    DC    20009   \n",
       "3  Washington, DC      US    DC    20004   \n",
       "4  Washington, DC      US    DC    20001   \n",
       "\n",
       "                                          categories price  rating  \\\n",
       "0  [Bars, American (Traditional), Breakfast & Bru...    $$     4.0   \n",
       "1     [Coffee & Tea, Breakfast & Brunch, Sandwiches]     $     4.5   \n",
       "2                        [Brasseries, French, Cafes]   $$$     4.0   \n",
       "3                                           [Indian]   $$$     4.5   \n",
       "4                            [Pizza, American (New)]    $$     4.0   \n",
       "\n",
       "   review_count  \n",
       "0          6544  \n",
       "1          1218  \n",
       "2          2449  \n",
       "3          2633  \n",
       "4          2673  "
      ]
     },
     "execution_count": 19,
     "metadata": {},
     "output_type": "execute_result"
    }
   ],
   "source": [
    "businesses_df.head()"
   ]
  },
  {
   "cell_type": "markdown",
   "metadata": {},
   "source": [
    "#### For whatever reason the API imported some businesses outside of the queried zip codes, so I removed those quick."
   ]
  },
  {
   "cell_type": "code",
   "execution_count": 20,
   "metadata": {},
   "outputs": [
    {
     "data": {
      "text/plain": [
       "(4222, 12)"
      ]
     },
     "execution_count": 20,
     "metadata": {},
     "output_type": "execute_result"
    }
   ],
   "source": [
    "businesses_df.shape"
   ]
  },
  {
   "cell_type": "code",
   "execution_count": 21,
   "metadata": {
    "collapsed": true
   },
   "outputs": [],
   "source": [
    "businesses_df = businesses_df[businesses_df['zip_code'].isin(zip_codes_flat)]"
   ]
  },
  {
   "cell_type": "code",
   "execution_count": 22,
   "metadata": {},
   "outputs": [
    {
     "data": {
      "text/plain": [
       "(3175, 12)"
      ]
     },
     "execution_count": 22,
     "metadata": {},
     "output_type": "execute_result"
    }
   ],
   "source": [
    "businesses_df.shape"
   ]
  },
  {
   "cell_type": "markdown",
   "metadata": {},
   "source": [
    "#### Check for relevent null values"
   ]
  },
  {
   "cell_type": "code",
   "execution_count": 23,
   "metadata": {
    "scrolled": false
   },
   "outputs": [
    {
     "data": {
      "text/plain": [
       "name              0\n",
       "latitude          1\n",
       "longitude         1\n",
       "address          13\n",
       "city              0\n",
       "country           0\n",
       "state             0\n",
       "zip_code          0\n",
       "categories        0\n",
       "price           498\n",
       "rating            0\n",
       "review_count      0\n",
       "dtype: int64"
      ]
     },
     "execution_count": 23,
     "metadata": {},
     "output_type": "execute_result"
    }
   ],
   "source": [
    "businesses_df.isnull().sum()"
   ]
  },
  {
   "cell_type": "markdown",
   "metadata": {},
   "source": [
    "#### Save businesses_df to csv file for quicker use later."
   ]
  },
  {
   "cell_type": "code",
   "execution_count": 24,
   "metadata": {
    "collapsed": true
   },
   "outputs": [],
   "source": [
    "businesses_df.to_csv('./data/businesses.csv', sep='\\t')"
   ]
  },
  {
   "cell_type": "markdown",
   "metadata": {},
   "source": [
    "<a id=\"import_foursquare\"></a>\n",
    "### Import Foursquare dataset\n",
    "- These datasets are several gigabytes and were not included in the project repository due to size restrictions of github. You can find the dataset [here](https://sites.google.com/site/yangdingqi/home/foursquare-dataset)."
   ]
  },
  {
   "cell_type": "code",
   "execution_count": 59,
   "metadata": {
    "collapsed": true
   },
   "outputs": [],
   "source": [
    "foursquare_checkins_df = pd.read_csv(\"../../../dataset_TIST2015/dataset_TIST2015_Checkins.txt\", header=None, delimiter=\"\\t\")\n",
    "\n",
    "foursquare_checkins_df.drop([3], axis=1, inplace=True)\n",
    "foursquare_checkins_df.columns = ['user_id', 'venue_id', 'utc_time']"
   ]
  },
  {
   "cell_type": "code",
   "execution_count": 60,
   "metadata": {
    "collapsed": true
   },
   "outputs": [],
   "source": [
    "foursquare_poi_df = pd.read_csv(\"../../../dataset_TIST2015/dataset_TIST2015_POIs.txt\", header=None, delimiter=\"\\t\")\n",
    "\n",
    "foursquare_poi_df.columns = ['venue_id', 'latitude', 'longitude', 'venue_category', 'country']\n",
    "foursquare_poi_df = foursquare_poi_df[foursquare_poi_df['country'].isin(['US'])]"
   ]
  },
  {
   "cell_type": "code",
   "execution_count": 61,
   "metadata": {
    "collapsed": true
   },
   "outputs": [],
   "source": [
    "foursquare_merge_df = foursquare_checkins_df.merge(foursquare_poi_df, on=\"venue_id\")"
   ]
  },
  {
   "cell_type": "code",
   "execution_count": 62,
   "metadata": {
    "scrolled": true
   },
   "outputs": [
    {
     "data": {
      "text/html": [
       "<div>\n",
       "<style>\n",
       "    .dataframe thead tr:only-child th {\n",
       "        text-align: right;\n",
       "    }\n",
       "\n",
       "    .dataframe thead th {\n",
       "        text-align: left;\n",
       "    }\n",
       "\n",
       "    .dataframe tbody tr th {\n",
       "        vertical-align: top;\n",
       "    }\n",
       "</style>\n",
       "<table border=\"1\" class=\"dataframe\">\n",
       "  <thead>\n",
       "    <tr style=\"text-align: right;\">\n",
       "      <th></th>\n",
       "      <th>user_id</th>\n",
       "      <th>venue_id</th>\n",
       "      <th>utc_time</th>\n",
       "      <th>latitude</th>\n",
       "      <th>longitude</th>\n",
       "      <th>venue_category</th>\n",
       "      <th>country</th>\n",
       "    </tr>\n",
       "  </thead>\n",
       "  <tbody>\n",
       "    <tr>\n",
       "      <th>0</th>\n",
       "      <td>221021</td>\n",
       "      <td>4a85b1b3f964a520eefe1fe3</td>\n",
       "      <td>Tue Apr 03 18:00:08 +0000 2012</td>\n",
       "      <td>40.748939</td>\n",
       "      <td>-73.99228</td>\n",
       "      <td>Coffee Shop</td>\n",
       "      <td>US</td>\n",
       "    </tr>\n",
       "    <tr>\n",
       "      <th>1</th>\n",
       "      <td>89453</td>\n",
       "      <td>4a85b1b3f964a520eefe1fe3</td>\n",
       "      <td>Tue Apr 24 22:53:57 +0000 2012</td>\n",
       "      <td>40.748939</td>\n",
       "      <td>-73.99228</td>\n",
       "      <td>Coffee Shop</td>\n",
       "      <td>US</td>\n",
       "    </tr>\n",
       "    <tr>\n",
       "      <th>2</th>\n",
       "      <td>206753</td>\n",
       "      <td>4a85b1b3f964a520eefe1fe3</td>\n",
       "      <td>Thu May 03 16:20:48 +0000 2012</td>\n",
       "      <td>40.748939</td>\n",
       "      <td>-73.99228</td>\n",
       "      <td>Coffee Shop</td>\n",
       "      <td>US</td>\n",
       "    </tr>\n",
       "    <tr>\n",
       "      <th>3</th>\n",
       "      <td>114526</td>\n",
       "      <td>4a85b1b3f964a520eefe1fe3</td>\n",
       "      <td>Wed May 09 23:09:45 +0000 2012</td>\n",
       "      <td>40.748939</td>\n",
       "      <td>-73.99228</td>\n",
       "      <td>Coffee Shop</td>\n",
       "      <td>US</td>\n",
       "    </tr>\n",
       "    <tr>\n",
       "      <th>4</th>\n",
       "      <td>86634</td>\n",
       "      <td>4a85b1b3f964a520eefe1fe3</td>\n",
       "      <td>Tue May 22 13:31:13 +0000 2012</td>\n",
       "      <td>40.748939</td>\n",
       "      <td>-73.99228</td>\n",
       "      <td>Coffee Shop</td>\n",
       "      <td>US</td>\n",
       "    </tr>\n",
       "  </tbody>\n",
       "</table>\n",
       "</div>"
      ],
      "text/plain": [
       "   user_id                  venue_id                        utc_time  \\\n",
       "0   221021  4a85b1b3f964a520eefe1fe3  Tue Apr 03 18:00:08 +0000 2012   \n",
       "1    89453  4a85b1b3f964a520eefe1fe3  Tue Apr 24 22:53:57 +0000 2012   \n",
       "2   206753  4a85b1b3f964a520eefe1fe3  Thu May 03 16:20:48 +0000 2012   \n",
       "3   114526  4a85b1b3f964a520eefe1fe3  Wed May 09 23:09:45 +0000 2012   \n",
       "4    86634  4a85b1b3f964a520eefe1fe3  Tue May 22 13:31:13 +0000 2012   \n",
       "\n",
       "    latitude  longitude venue_category country  \n",
       "0  40.748939  -73.99228    Coffee Shop      US  \n",
       "1  40.748939  -73.99228    Coffee Shop      US  \n",
       "2  40.748939  -73.99228    Coffee Shop      US  \n",
       "3  40.748939  -73.99228    Coffee Shop      US  \n",
       "4  40.748939  -73.99228    Coffee Shop      US  "
      ]
     },
     "execution_count": 62,
     "metadata": {},
     "output_type": "execute_result"
    }
   ],
   "source": [
    "foursquare_merge_df.head()"
   ]
  },
  {
   "cell_type": "code",
   "execution_count": 63,
   "metadata": {},
   "outputs": [
    {
     "data": {
      "text/plain": [
       "(3564144, 7)"
      ]
     },
     "execution_count": 63,
     "metadata": {},
     "output_type": "execute_result"
    }
   ],
   "source": [
    "foursquare_merge_df.shape"
   ]
  },
  {
   "cell_type": "markdown",
   "metadata": {},
   "source": [
    "#### Now I want to pull out the the users who visited a coffee shop at least once. I'll create a new column called \"coffee_shop_bin\". If the user visited a coffee shop on the selected day, all rows for that day will be set to 1. Else, 0. Later I'll use this in my models to predict where people are coming from when they go to a coffee shop.\n",
    "- I'll overwrite the same DF to cut down on memory usage..."
   ]
  },
  {
   "cell_type": "code",
   "execution_count": 64,
   "metadata": {
    "collapsed": true
   },
   "outputs": [],
   "source": [
    "# reduce the dataframe to include only users who have visited a coffee shop\n",
    "coffee_drinkers = foursquare_merge_df[foursquare_merge_df.venue_category.isin(['Coffee Shop'])].user_id.unique().tolist()\n",
    "foursquare_merge_df = foursquare_merge_df[foursquare_merge_df.user_id.isin(coffee_drinkers)]"
   ]
  },
  {
   "cell_type": "code",
   "execution_count": 65,
   "metadata": {},
   "outputs": [
    {
     "data": {
      "text/plain": [
       "(2439117, 7)"
      ]
     },
     "execution_count": 65,
     "metadata": {},
     "output_type": "execute_result"
    }
   ],
   "source": [
    "foursquare_merge_df.shape"
   ]
  },
  {
   "cell_type": "code",
   "execution_count": 66,
   "metadata": {},
   "outputs": [
    {
     "data": {
      "text/plain": [
       "user_id                    int64\n",
       "venue_id                  object\n",
       "utc_time          datetime64[ns]\n",
       "latitude                 float64\n",
       "longitude                float64\n",
       "venue_category            object\n",
       "country                   object\n",
       "dtype: object"
      ]
     },
     "execution_count": 66,
     "metadata": {},
     "output_type": "execute_result"
    }
   ],
   "source": [
    "# convert utc_time to datetime object, takes 5-10 minutes\n",
    "foursquare_merge_df['utc_time'] = pd.to_datetime(foursquare_merge_df['utc_time'], infer_datetime_format=True)\n",
    "foursquare_merge_df.dtypes"
   ]
  },
  {
   "cell_type": "code",
   "execution_count": 67,
   "metadata": {},
   "outputs": [
    {
     "name": "stderr",
     "output_type": "stream",
     "text": [
      "C:\\Users\\Steven\\Anaconda3\\lib\\site-packages\\ipykernel_launcher.py:8: SettingWithCopyWarning: \n",
      "A value is trying to be set on a copy of a slice from a DataFrame.\n",
      "Try using .loc[row_indexer,col_indexer] = value instead\n",
      "\n",
      "See the caveats in the documentation: http://pandas.pydata.org/pandas-docs/stable/indexing.html#indexing-view-versus-copy\n",
      "  \n",
      "C:\\Users\\Steven\\Anaconda3\\lib\\site-packages\\ipykernel_launcher.py:11: SettingWithCopyWarning: \n",
      "A value is trying to be set on a copy of a slice from a DataFrame.\n",
      "Try using .loc[row_indexer,col_indexer] = value instead\n",
      "\n",
      "See the caveats in the documentation: http://pandas.pydata.org/pandas-docs/stable/indexing.html#indexing-view-versus-copy\n",
      "  # This is added back by InteractiveShellApp.init_path()\n"
     ]
    }
   ],
   "source": [
    "# this is super inefficient, but shouldn't need to be run again. took approx. 20 minutes.\n",
    "# groups df by user id, month, day, then checks each group for coffee shop visits\n",
    "grouped_foursquare = foursquare_merge_df.groupby([foursquare_merge_df.user_id, \n",
    "                                                   foursquare_merge_df.utc_time.dt.month, \n",
    "                                                   foursquare_merge_df.utc_time.dt.day])\n",
    "# if group contains a coffee shop check-in, set all values of coffee_shop_bin in that group to yes\n",
    "grouped_foursquare_true = grouped_foursquare.filter(lambda x: x['venue_category'].str.contains('Coffee').any())\n",
    "grouped_foursquare_true['coffee_shop_bin'] = 1\n",
    "# if group does not contain a coffee shop check-in, set all values of coffee_shop_bin in that group to yes\n",
    "grouped_foursquare_false = grouped_foursquare.filter(lambda x: ~x['venue_category'].str.contains('Coffee').any())\n",
    "grouped_foursquare_false['coffee_shop_bin'] = 0\n",
    "\n",
    "# re-combine the true and false datasets\n",
    "grouped_foursquare = grouped_foursquare_true.append(grouped_foursquare_false, ignore_index=True)"
   ]
  },
  {
   "cell_type": "code",
   "execution_count": 68,
   "metadata": {
    "scrolled": true
   },
   "outputs": [
    {
     "name": "stdout",
     "output_type": "stream",
     "text": [
      "Full data: (2439117, 7)\n",
      "Checkins from days w/ coffee shop visits: (309677, 8)\n",
      "Checkins from days w/out coffee shop visits: (2129440, 8)\n",
      "Data after concat: (2439117, 8)\n"
     ]
    }
   ],
   "source": [
    "# make sure we didn't lose any data\n",
    "print(\"Full data: \" + str(foursquare_merge_df.shape))\n",
    "print(\"Checkins from days w/ coffee shop visits: \" + str(grouped_foursquare_true.shape))\n",
    "print(\"Checkins from days w/out coffee shop visits: \" + str(grouped_foursquare_false.shape))\n",
    "print(\"Data after concat: \" + str(grouped_foursquare.shape))"
   ]
  },
  {
   "cell_type": "markdown",
   "metadata": {},
   "source": [
    "#### Get address data from longitude and latitude.\n",
    "- I tried using geopy to get the city from the coordinates, which appears to work, but it would take 20 straight days to run all 3.5 million lines. Will explore this later. Most geolocaters also have a query limit which this would far exceed."
   ]
  },
  {
   "cell_type": "code",
   "execution_count": 18,
   "metadata": {},
   "outputs": [
    {
     "name": "stdout",
     "output_type": "stream",
     "text": [
      "10 lines: --- 10.996055603027344 seconds ---\n"
     ]
    }
   ],
   "source": [
    "from geopy.geocoders import Nominatim\n",
    "import time\n",
    "\n",
    "start_time = time.time()\n",
    "\n",
    "i=0\n",
    "for index, row in foursquare_merge_df.iterrows():\n",
    "    if i < 10:\n",
    "        coord = str(row['latitude']) + \",\" + str(row['longitude'])\n",
    "\n",
    "        geolocator = Nominatim()\n",
    "        location = geolocator.reverse(coord)\n",
    "        if \"District of Columbia\" in location.address: \n",
    "            print(location.address)\n",
    "        i+=1\n",
    "    else:\n",
    "        break\n",
    "        \n",
    "print(\"10 lines: --- %s seconds ---\" % (time.time() - start_time))\n",
    "\n",
    "# geolocator = Nominatim()\n",
    "# location = geolocator.reverse(\"38.898005, -77.033362\")\n",
    "# print(location.address)\n"
   ]
  },
  {
   "cell_type": "markdown",
   "metadata": {},
   "source": [
    "- Trying a package I found on github called reverse_geocoder to cut down on query time. This only took a few minutes to run, but unfortunately only returned high level geography (Washington, D.C)."
   ]
  },
  {
   "cell_type": "code",
   "execution_count": 69,
   "metadata": {
    "collapsed": true
   },
   "outputs": [],
   "source": [
    "import reverse_geocoder as rg\n",
    "\n",
    "coordinates = []\n",
    "for index, row in grouped_foursquare.iterrows():\n",
    "    coordinates.append((row.latitude, row.longitude))\n",
    "    \n",
    "results = rg.search(coordinates)"
   ]
  },
  {
   "cell_type": "code",
   "execution_count": 70,
   "metadata": {
    "collapsed": true
   },
   "outputs": [],
   "source": [
    "dc_bools = []\n",
    "\n",
    "for i in results:\n",
    "    result = \"D.C\" in str(i)\n",
    "    dc_bools.append(result)"
   ]
  },
  {
   "cell_type": "code",
   "execution_count": 71,
   "metadata": {},
   "outputs": [
    {
     "data": {
      "text/plain": [
       "[False, False, False, False, False]"
      ]
     },
     "execution_count": 71,
     "metadata": {},
     "output_type": "execute_result"
    }
   ],
   "source": [
    "dc_bools[0:5]"
   ]
  },
  {
   "cell_type": "code",
   "execution_count": 72,
   "metadata": {
    "collapsed": true
   },
   "outputs": [],
   "source": [
    "grouped_foursquare['check_in_dc'] = dc_bools"
   ]
  },
  {
   "cell_type": "code",
   "execution_count": 73,
   "metadata": {
    "scrolled": true
   },
   "outputs": [
    {
     "data": {
      "text/plain": [
       "False    2372042\n",
       "True       67075\n",
       "Name: check_in_dc, dtype: int64"
      ]
     },
     "execution_count": 73,
     "metadata": {},
     "output_type": "execute_result"
    }
   ],
   "source": [
    "grouped_foursquare.check_in_dc.value_counts()"
   ]
  },
  {
   "cell_type": "code",
   "execution_count": 74,
   "metadata": {
    "collapsed": true,
    "scrolled": false
   },
   "outputs": [],
   "source": [
    "grouped_foursquare = grouped_foursquare[grouped_foursquare.check_in_dc == True]\n",
    "grouped_foursquare.drop('check_in_dc', axis=1, inplace=True)"
   ]
  },
  {
   "cell_type": "markdown",
   "metadata": {},
   "source": [
    "#### I want to continue reverse geocoding to get zip codes. I'll pull in Zillow neighborhood shapefiles."
   ]
  },
  {
   "cell_type": "code",
   "execution_count": 75,
   "metadata": {
    "collapsed": true
   },
   "outputs": [],
   "source": [
    "import geopandas as gpd\n",
    "shape = gpd.read_file('data/ZillowNeighborhoods-DC.shp')"
   ]
  },
  {
   "cell_type": "code",
   "execution_count": 76,
   "metadata": {},
   "outputs": [
    {
     "data": {
      "text/html": [
       "<div>\n",
       "<style>\n",
       "    .dataframe thead tr:only-child th {\n",
       "        text-align: right;\n",
       "    }\n",
       "\n",
       "    .dataframe thead th {\n",
       "        text-align: left;\n",
       "    }\n",
       "\n",
       "    .dataframe tbody tr th {\n",
       "        vertical-align: top;\n",
       "    }\n",
       "</style>\n",
       "<table border=\"1\" class=\"dataframe\">\n",
       "  <thead>\n",
       "    <tr style=\"text-align: right;\">\n",
       "      <th></th>\n",
       "      <th>State</th>\n",
       "      <th>County</th>\n",
       "      <th>City</th>\n",
       "      <th>Name</th>\n",
       "      <th>RegionID</th>\n",
       "      <th>geometry</th>\n",
       "    </tr>\n",
       "  </thead>\n",
       "  <tbody>\n",
       "    <tr>\n",
       "      <th>0</th>\n",
       "      <td>DC</td>\n",
       "      <td>District of Columbia</td>\n",
       "      <td>Washington</td>\n",
       "      <td>Barnaby Woods</td>\n",
       "      <td>121672</td>\n",
       "      <td>POLYGON ((-77.04528160099994 38.97573291100008...</td>\n",
       "    </tr>\n",
       "    <tr>\n",
       "      <th>1</th>\n",
       "      <td>DC</td>\n",
       "      <td>District of Columbia</td>\n",
       "      <td>Washington</td>\n",
       "      <td>Bellevue</td>\n",
       "      <td>121674</td>\n",
       "      <td>POLYGON ((-77.01639139799994 38.80931882600004...</td>\n",
       "    </tr>\n",
       "    <tr>\n",
       "      <th>2</th>\n",
       "      <td>DC</td>\n",
       "      <td>District of Columbia</td>\n",
       "      <td>Washington</td>\n",
       "      <td>Benning</td>\n",
       "      <td>121675</td>\n",
       "      <td>POLYGON ((-76.95024865099992 38.88970558200003...</td>\n",
       "    </tr>\n",
       "    <tr>\n",
       "      <th>3</th>\n",
       "      <td>DC</td>\n",
       "      <td>District of Columbia</td>\n",
       "      <td>Washington</td>\n",
       "      <td>Chevy Chase</td>\n",
       "      <td>121689</td>\n",
       "      <td>POLYGON ((-77.05323999999973 38.97290000000029...</td>\n",
       "    </tr>\n",
       "    <tr>\n",
       "      <th>4</th>\n",
       "      <td>DC</td>\n",
       "      <td>District of Columbia</td>\n",
       "      <td>Washington</td>\n",
       "      <td>Dupont Park</td>\n",
       "      <td>121705</td>\n",
       "      <td>POLYGON ((-76.94706749892596 38.88285577097802...</td>\n",
       "    </tr>\n",
       "  </tbody>\n",
       "</table>\n",
       "</div>"
      ],
      "text/plain": [
       "  State                County        City           Name RegionID  \\\n",
       "0    DC  District of Columbia  Washington  Barnaby Woods   121672   \n",
       "1    DC  District of Columbia  Washington       Bellevue   121674   \n",
       "2    DC  District of Columbia  Washington        Benning   121675   \n",
       "3    DC  District of Columbia  Washington    Chevy Chase   121689   \n",
       "4    DC  District of Columbia  Washington    Dupont Park   121705   \n",
       "\n",
       "                                            geometry  \n",
       "0  POLYGON ((-77.04528160099994 38.97573291100008...  \n",
       "1  POLYGON ((-77.01639139799994 38.80931882600004...  \n",
       "2  POLYGON ((-76.95024865099992 38.88970558200003...  \n",
       "3  POLYGON ((-77.05323999999973 38.97290000000029...  \n",
       "4  POLYGON ((-76.94706749892596 38.88285577097802...  "
      ]
     },
     "execution_count": 76,
     "metadata": {},
     "output_type": "execute_result"
    }
   ],
   "source": [
    "shape.head()"
   ]
  },
  {
   "cell_type": "code",
   "execution_count": 77,
   "metadata": {},
   "outputs": [
    {
     "data": {
      "text/plain": [
       "<matplotlib.axes._subplots.AxesSubplot at 0x15752093f28>"
      ]
     },
     "execution_count": 77,
     "metadata": {},
     "output_type": "execute_result"
    },
    {
     "data": {
      "image/png": "[encoded data removed]",
      "text/plain": [
       "<matplotlib.figure.Figure at 0x157f0e639b0>"
      ]
     },
     "metadata": {},
     "output_type": "display_data"
    }
   ],
   "source": [
    "shape.plot()"
   ]
  },
  {
   "cell_type": "code",
   "execution_count": 78,
   "metadata": {
    "collapsed": true
   },
   "outputs": [],
   "source": [
    "# https://stackoverflow.com/questions/7861196/check-if-a-geopoint-with-latitude-and-longitude-is-within-a-shapefile?utm_medium=organic&utm_source=google_rich_qa&utm_campaign=google_rich_qa\n",
    "# credit to Richard\n",
    "\n",
    "import ogr\n",
    "from IPython import embed\n",
    "import sys\n",
    "\n",
    "drv = ogr.GetDriverByName('ESRI Shapefile') #We will load a shape file\n",
    "ds_in = drv.Open(\"data/ZillowNeighborhoods-DC.shp\")    #Get the contents of the shape file\n",
    "lyr_in = ds_in.GetLayer(0)    #Get the shape file's first layer\n",
    "\n",
    "#Put the title of the field you are interested in here\n",
    "idx_reg = lyr_in.GetLayerDefn().GetFieldIndex(\"name\")\n",
    "\n",
    "#If the latitude/longitude we're going to use is not in the projection\n",
    "#of the shapefile, then we will get erroneous results.\n",
    "#The following assumes that the latitude longitude is in WGS84\n",
    "#This is identified by the number \"4326\", as in \"EPSG:4326\"\n",
    "#We will create a transformation between this and the shapefile's\n",
    "#project, whatever it may be\n",
    "geo_ref = lyr_in.GetSpatialRef()\n",
    "point_ref=ogr.osr.SpatialReference()\n",
    "point_ref.ImportFromEPSG(4326)\n",
    "ctran=ogr.osr.CoordinateTransformation(point_ref,geo_ref)\n",
    "\n",
    "def check(lon,lat):\n",
    "    #Create a point\n",
    "    pt = ogr.Geometry(ogr.wkbPoint)\n",
    "    pt.SetPoint_2D(0, lon, lat)\n",
    "\n",
    "    #Set up a spatial filter such that the only features we see when we\n",
    "    #loop through \"lyr_in\" are those which overlap the point defined above\n",
    "    lyr_in.SetSpatialFilter(pt)\n",
    "\n",
    "    #Loop through the overlapped features and display the field of interest\n",
    "    for feat_in in lyr_in:\n",
    "        return feat_in.GetFieldAsString(idx_reg)"
   ]
  },
  {
   "cell_type": "code",
   "execution_count": 79,
   "metadata": {
    "collapsed": true
   },
   "outputs": [],
   "source": [
    "this_is_a_neighborhoods = []\n",
    "for index, row in grouped_foursquare.iterrows():\n",
    "    this_is_a_neighborhoods.append(check(row.longitude, row.latitude))"
   ]
  },
  {
   "cell_type": "code",
   "execution_count": 80,
   "metadata": {},
   "outputs": [
    {
     "data": {
      "text/plain": [
       "['Dupont Circle',\n",
       " 'Shaw',\n",
       " 'Shaw',\n",
       " 'Shaw',\n",
       " 'Shaw',\n",
       " 'Shaw',\n",
       " 'Capitol Hill',\n",
       " 'Downtown',\n",
       " 'Navy Yard',\n",
       " 'Navy Yard']"
      ]
     },
     "execution_count": 80,
     "metadata": {},
     "output_type": "execute_result"
    }
   ],
   "source": [
    "this_is_a_neighborhoods[0:10]"
   ]
  },
  {
   "cell_type": "code",
   "execution_count": 81,
   "metadata": {
    "collapsed": true
   },
   "outputs": [],
   "source": [
    "import csv\n",
    "with open('./data/neighborhoodsToZip.csv', 'r') as f:\n",
    "    reader = csv.reader(f)\n",
    "    conversion = dict(reader)\n",
    "del conversion['Neighborhood']"
   ]
  },
  {
   "cell_type": "code",
   "execution_count": 82,
   "metadata": {},
   "outputs": [
    {
     "data": {
      "text/plain": [
       "{'': '20001',\n",
       " 'Adams Morgan': '20009',\n",
       " 'American University Park': '20016',\n",
       " 'Arboretum': '20002',\n",
       " 'Barnaby Woods': '20015',\n",
       " 'Barry Farm': '20020',\n",
       " 'Bellevue': '20032',\n",
       " 'Benning': '20019',\n",
       " 'Benning Heights': '20019',\n",
       " 'Bloomingdale': '20017',\n",
       " 'Brentwood': '20722',\n",
       " 'Brightwood': '20011',\n",
       " 'Brightwood Park': '20011',\n",
       " 'Brookland': '20017',\n",
       " 'Buena Vista': '20020',\n",
       " 'Burleith': '20007',\n",
       " 'Burrville': '20019',\n",
       " 'Buzzard Point': '20024',\n",
       " 'Capitol Hill': '20003',\n",
       " 'Capitol View': '20020',\n",
       " 'Cardozo': '20001',\n",
       " 'Carver Langston': '20002',\n",
       " 'Cathedral Heights': '20016',\n",
       " 'Chevy Chase': '20015',\n",
       " 'Chinatown': '20001',\n",
       " 'Cleveland Park': '20008',\n",
       " 'Colonial Village': '20012',\n",
       " 'Columbia Heights': '20010',\n",
       " 'Congress Heights': '20032',\n",
       " 'Connecticut Avenue': '20036',\n",
       " 'Crestwood': '20011',\n",
       " 'Deanwood': '20019',\n",
       " 'Douglass': '20020',\n",
       " 'Downtown': '20001',\n",
       " 'Dupont Circle': '20036',\n",
       " 'Dupont Park': '20020',\n",
       " 'Eastland Gardens': '20019',\n",
       " 'Eckington': '20002',\n",
       " 'Edgewood': '20017',\n",
       " 'Fairfax Village': '20020',\n",
       " 'Fairlawn': '20020',\n",
       " 'Fairmont Heights': '20009',\n",
       " 'Foggy Bottom': '20037',\n",
       " 'Forest Hills': '20008',\n",
       " 'Fort Davis Park': '20020',\n",
       " 'Fort Dupont': '20019',\n",
       " 'Fort Lincoln': '20018',\n",
       " 'Fort McNair': '20319',\n",
       " 'Fort Stanton': '20020',\n",
       " 'Fort Totten': '20011',\n",
       " 'Foxhall Crescent': '20007',\n",
       " 'Foxhall Village': '20007',\n",
       " 'Friendship Heights': '20016',\n",
       " 'GWU': '20037',\n",
       " 'Garfield Heights': '20020',\n",
       " 'Gateway': '20018',\n",
       " 'Georgetown': '20007',\n",
       " 'Georgetown Reservoir': '20007',\n",
       " 'Glover Park': '20007',\n",
       " 'Grant Park': '20019',\n",
       " 'Greenway': '20019',\n",
       " 'Hawthorne': '20015',\n",
       " 'Hillandale': '20007',\n",
       " 'Hillbrook': '20016',\n",
       " 'Hillcrest': '20020',\n",
       " 'Historic Anacostia': '20020',\n",
       " 'Howard University': '20001',\n",
       " 'Ivy City': '20002',\n",
       " 'K Street': '20006',\n",
       " 'Kalorama Heights': '20009',\n",
       " 'Kenilworth': '20019',\n",
       " 'Kingman Park': '20002',\n",
       " 'Knox Hill': '20020',\n",
       " 'Lamond Riggs': '20011',\n",
       " 'Langdon': '20018',\n",
       " 'Lanier Heights': '20009',\n",
       " 'Le Droit Park': '20001',\n",
       " 'Lincoln Heights': '20019',\n",
       " 'Lincoln Park': '20002',\n",
       " 'Logan Circle': '20001',\n",
       " 'Mahaning Heights': '20016',\n",
       " 'Manor Park': '20011',\n",
       " 'Marshall Heights': '20019',\n",
       " 'Massachusetts Avenue Heights': '20007',\n",
       " 'Mayfair': '20019',\n",
       " 'McLean Gardens': '20016',\n",
       " 'Michigan Park': '20017',\n",
       " 'Mount Vernon Square': '20001',\n",
       " 'Mt. Pleasant': '20010',\n",
       " 'Navy Yard': '20003',\n",
       " 'Naylor Gardens': '20020',\n",
       " 'Near Southeast': '20003',\n",
       " 'NoMa': '20002',\n",
       " 'North Capitol Street': '20002',\n",
       " 'North Cleveland Park': '20008',\n",
       " 'North Michigan Park': '20017',\n",
       " 'North Portal Estates': '20012',\n",
       " 'Palisades': '20016',\n",
       " 'Park View': '20010',\n",
       " 'Penn Branch': '20019',\n",
       " 'Penn Quarter': '20004',\n",
       " 'Petworth': '20011',\n",
       " 'Pleasant Hill': '20020',\n",
       " 'Pleasant Plains': '20010',\n",
       " 'Queens Chapel': '20011',\n",
       " 'Randle Highlands': '20020',\n",
       " 'River Terrace': '20019',\n",
       " 'Shaw': '20001',\n",
       " 'Shepherd Park': '20012',\n",
       " 'Sheridan': '20011',\n",
       " 'Shipley Terrace': '20020',\n",
       " 'Southwest': '20024',\n",
       " 'Southwest Employment Area': '20024',\n",
       " 'Southwest Waterfront': '20024',\n",
       " 'Spring Valley': '20016',\n",
       " 'Stanton Park': '20002',\n",
       " 'Summit Park': '20009',\n",
       " 'Takoma': '20012',\n",
       " 'Tenleytown': '20016',\n",
       " 'Trinidad': '20002',\n",
       " 'Truxton Circle': '20017',\n",
       " 'Twining': '20020',\n",
       " 'Union Station': '20002',\n",
       " 'University Heights': '20017',\n",
       " 'Van Ness': '20008',\n",
       " 'Washington Highland': '20032',\n",
       " 'Wesley Heights': '20016',\n",
       " 'West End': '20037',\n",
       " 'Woodland': '20008',\n",
       " 'Woodland-Normanstone Terrace': '20008',\n",
       " 'Woodley Park': '20008',\n",
       " 'Woodridge': '20018'}"
      ]
     },
     "execution_count": 82,
     "metadata": {},
     "output_type": "execute_result"
    }
   ],
   "source": [
    "conversion"
   ]
  },
  {
   "cell_type": "code",
   "execution_count": 83,
   "metadata": {
    "collapsed": true
   },
   "outputs": [],
   "source": [
    "conversions = []\n",
    "for i in this_is_a_neighborhoods:\n",
    "    try:\n",
    "        conversions.append(conversion[i])\n",
    "    except KeyError:\n",
    "        conversions.append('99999')"
   ]
  },
  {
   "cell_type": "code",
   "execution_count": 84,
   "metadata": {
    "scrolled": true
   },
   "outputs": [
    {
     "name": "stdout",
     "output_type": "stream",
     "text": [
      "67075\n",
      "(67075, 8)\n"
     ]
    }
   ],
   "source": [
    "print(len(conversions))\n",
    "print(grouped_foursquare.shape)"
   ]
  },
  {
   "cell_type": "code",
   "execution_count": 85,
   "metadata": {
    "collapsed": true
   },
   "outputs": [],
   "source": [
    "grouped_foursquare['zip_code'] = conversions"
   ]
  },
  {
   "cell_type": "code",
   "execution_count": 86,
   "metadata": {
    "scrolled": true
   },
   "outputs": [
    {
     "data": {
      "text/plain": [
       "20001    19509\n",
       "99999    16804\n",
       "20036     6731\n",
       "20003     4237\n",
       "20007     3827\n",
       "20004     3296\n",
       "20002     3058\n",
       "20037     2834\n",
       "20009     2131\n",
       "20010     2120\n",
       "20008     1144\n",
       "20024      876\n",
       "20017      485\n",
       "20722       18\n",
       "20020        3\n",
       "20011        2\n",
       "Name: zip_code, dtype: int64"
      ]
     },
     "execution_count": 86,
     "metadata": {},
     "output_type": "execute_result"
    }
   ],
   "source": [
    "grouped_foursquare.zip_code.value_counts()"
   ]
  },
  {
   "cell_type": "code",
   "execution_count": 87,
   "metadata": {
    "collapsed": true
   },
   "outputs": [],
   "source": [
    "# some neighborhoods did not convert to zip code correctly. Due to time restrictions and \n",
    "# previous issues with geocoding, I'm simply going to drop them for now.\n",
    "grouped_foursquare = grouped_foursquare[grouped_foursquare.zip_code != '99999']"
   ]
  },
  {
   "cell_type": "code",
   "execution_count": 88,
   "metadata": {},
   "outputs": [
    {
     "data": {
      "text/plain": [
       "20001    19509\n",
       "20036     6731\n",
       "20003     4237\n",
       "20007     3827\n",
       "20004     3296\n",
       "20002     3058\n",
       "20037     2834\n",
       "20009     2131\n",
       "20010     2120\n",
       "20008     1144\n",
       "20024      876\n",
       "20017      485\n",
       "20722       18\n",
       "20020        3\n",
       "20011        2\n",
       "Name: zip_code, dtype: int64"
      ]
     },
     "execution_count": 88,
     "metadata": {},
     "output_type": "execute_result"
    }
   ],
   "source": [
    "grouped_foursquare.zip_code.value_counts()"
   ]
  },
  {
   "cell_type": "code",
   "execution_count": 92,
   "metadata": {},
   "outputs": [
    {
     "data": {
      "text/plain": [
       "Coffee Shop            2378\n",
       "Office                 2223\n",
       "Subway                 2043\n",
       "American Restaurant    1844\n",
       "Bar                    1804\n",
       "Name: venue_category, dtype: int64"
      ]
     },
     "execution_count": 92,
     "metadata": {},
     "output_type": "execute_result"
    }
   ],
   "source": [
    "grouped_foursquare.venue_category.value_counts().head()"
   ]
  },
  {
   "cell_type": "markdown",
   "metadata": {},
   "source": [
    "#### Export the altered dataframe into a file for later use"
   ]
  },
  {
   "cell_type": "code",
   "execution_count": 25,
   "metadata": {
    "collapsed": true
   },
   "outputs": [],
   "source": [
    "grouped_foursquare.to_csv('./data/foursquare.csv', sep='\\t')"
   ]
  },
  {
   "cell_type": "markdown",
   "metadata": {},
   "source": [
    "<a id=\"reimport_data\"></a>\n",
    "## Import cleaned datasets\n",
    "#### <font color=Red>Start running here to import cleaned dataframes; reading dataframes into memory and re-converting datatypes</font>"
   ]
  },
  {
   "cell_type": "code",
   "execution_count": 659,
   "metadata": {},
   "outputs": [
    {
     "data": {
      "text/plain": [
       "name             object\n",
       "latitude        float64\n",
       "longitude       float64\n",
       "address          object\n",
       "city             object\n",
       "country          object\n",
       "state            object\n",
       "zip_code          int64\n",
       "categories       object\n",
       "price            object\n",
       "rating          float64\n",
       "review_count      int64\n",
       "dtype: object"
      ]
     },
     "execution_count": 659,
     "metadata": {},
     "output_type": "execute_result"
    }
   ],
   "source": [
    "businesses_df = pd.read_csv('./data/businesses.csv', sep=\"\\t\", index_col=0, encoding='latin-1')\n",
    "businesses_df.dtypes"
   ]
  },
  {
   "cell_type": "code",
   "execution_count": 660,
   "metadata": {
    "collapsed": true
   },
   "outputs": [],
   "source": [
    "businesses_df['zip_code'] = businesses_df['zip_code'].astype(str)"
   ]
  },
  {
   "cell_type": "code",
   "execution_count": 661,
   "metadata": {},
   "outputs": [
    {
     "data": {
      "text/html": [
       "<div>\n",
       "<style>\n",
       "    .dataframe thead tr:only-child th {\n",
       "        text-align: right;\n",
       "    }\n",
       "\n",
       "    .dataframe thead th {\n",
       "        text-align: left;\n",
       "    }\n",
       "\n",
       "    .dataframe tbody tr th {\n",
       "        vertical-align: top;\n",
       "    }\n",
       "</style>\n",
       "<table border=\"1\" class=\"dataframe\">\n",
       "  <thead>\n",
       "    <tr style=\"text-align: right;\">\n",
       "      <th></th>\n",
       "      <th>name</th>\n",
       "      <th>latitude</th>\n",
       "      <th>longitude</th>\n",
       "      <th>address</th>\n",
       "      <th>city</th>\n",
       "      <th>country</th>\n",
       "      <th>state</th>\n",
       "      <th>zip_code</th>\n",
       "      <th>categories</th>\n",
       "      <th>price</th>\n",
       "      <th>rating</th>\n",
       "      <th>review_count</th>\n",
       "    </tr>\n",
       "  </thead>\n",
       "  <tbody>\n",
       "    <tr>\n",
       "      <th>0</th>\n",
       "      <td>Old Ebbitt Grill</td>\n",
       "      <td>38.898005</td>\n",
       "      <td>-77.033362</td>\n",
       "      <td>675 15th St NW</td>\n",
       "      <td>Washington, DC</td>\n",
       "      <td>US</td>\n",
       "      <td>DC</td>\n",
       "      <td>20005</td>\n",
       "      <td>['Bars', 'American (Traditional)', 'Breakfast ...</td>\n",
       "      <td>$$</td>\n",
       "      <td>4.0</td>\n",
       "      <td>6544</td>\n",
       "    </tr>\n",
       "    <tr>\n",
       "      <th>1</th>\n",
       "      <td>A Baked Joint</td>\n",
       "      <td>38.902411</td>\n",
       "      <td>-77.017139</td>\n",
       "      <td>440 K St NW</td>\n",
       "      <td>Washington, DC</td>\n",
       "      <td>US</td>\n",
       "      <td>DC</td>\n",
       "      <td>20001</td>\n",
       "      <td>['Coffee &amp; Tea', 'Breakfast &amp; Brunch', 'Sandwi...</td>\n",
       "      <td>$</td>\n",
       "      <td>4.5</td>\n",
       "      <td>1218</td>\n",
       "    </tr>\n",
       "    <tr>\n",
       "      <th>2</th>\n",
       "      <td>Le Diplomate</td>\n",
       "      <td>38.911359</td>\n",
       "      <td>-77.031575</td>\n",
       "      <td>1601 14th St NW</td>\n",
       "      <td>Washington, DC</td>\n",
       "      <td>US</td>\n",
       "      <td>DC</td>\n",
       "      <td>20009</td>\n",
       "      <td>['Brasseries', 'French', 'Cafes']</td>\n",
       "      <td>$$$</td>\n",
       "      <td>4.0</td>\n",
       "      <td>2449</td>\n",
       "    </tr>\n",
       "    <tr>\n",
       "      <th>3</th>\n",
       "      <td>Rasika</td>\n",
       "      <td>38.895008</td>\n",
       "      <td>-77.021286</td>\n",
       "      <td>633 D St NW</td>\n",
       "      <td>Washington, DC</td>\n",
       "      <td>US</td>\n",
       "      <td>DC</td>\n",
       "      <td>20004</td>\n",
       "      <td>['Indian']</td>\n",
       "      <td>$$$</td>\n",
       "      <td>4.5</td>\n",
       "      <td>2633</td>\n",
       "    </tr>\n",
       "    <tr>\n",
       "      <th>4</th>\n",
       "      <td>Matchbox - Chinatown</td>\n",
       "      <td>38.900050</td>\n",
       "      <td>-77.022540</td>\n",
       "      <td>713 H St NW</td>\n",
       "      <td>Washington, DC</td>\n",
       "      <td>US</td>\n",
       "      <td>DC</td>\n",
       "      <td>20001</td>\n",
       "      <td>['Pizza', 'American (New)']</td>\n",
       "      <td>$$</td>\n",
       "      <td>4.0</td>\n",
       "      <td>2673</td>\n",
       "    </tr>\n",
       "  </tbody>\n",
       "</table>\n",
       "</div>"
      ],
      "text/plain": [
       "                   name   latitude  longitude          address  \\\n",
       "0      Old Ebbitt Grill  38.898005 -77.033362   675 15th St NW   \n",
       "1         A Baked Joint  38.902411 -77.017139      440 K St NW   \n",
       "2          Le Diplomate  38.911359 -77.031575  1601 14th St NW   \n",
       "3                Rasika  38.895008 -77.021286      633 D St NW   \n",
       "4  Matchbox - Chinatown  38.900050 -77.022540      713 H St NW   \n",
       "\n",
       "             city country state zip_code  \\\n",
       "0  Washington, DC      US    DC    20005   \n",
       "1  Washington, DC      US    DC    20001   \n",
       "2  Washington, DC      US    DC    20009   \n",
       "3  Washington, DC      US    DC    20004   \n",
       "4  Washington, DC      US    DC    20001   \n",
       "\n",
       "                                          categories price  rating  \\\n",
       "0  ['Bars', 'American (Traditional)', 'Breakfast ...    $$     4.0   \n",
       "1  ['Coffee & Tea', 'Breakfast & Brunch', 'Sandwi...     $     4.5   \n",
       "2                  ['Brasseries', 'French', 'Cafes']   $$$     4.0   \n",
       "3                                         ['Indian']   $$$     4.5   \n",
       "4                        ['Pizza', 'American (New)']    $$     4.0   \n",
       "\n",
       "   review_count  \n",
       "0          6544  \n",
       "1          1218  \n",
       "2          2449  \n",
       "3          2633  \n",
       "4          2673  "
      ]
     },
     "execution_count": 661,
     "metadata": {},
     "output_type": "execute_result"
    }
   ],
   "source": [
    "businesses_df.head()"
   ]
  },
  {
   "cell_type": "code",
   "execution_count": 662,
   "metadata": {
    "scrolled": true
   },
   "outputs": [
    {
     "data": {
      "text/plain": [
       "user_id                     int64\n",
       "venue_id                   object\n",
       "utc_time           datetime64[ns]\n",
       "latitude                  float64\n",
       "longitude                 float64\n",
       "venue_category             object\n",
       "country                    object\n",
       "coffee_shop_bin             int64\n",
       "zip_code                   object\n",
       "dtype: object"
      ]
     },
     "execution_count": 662,
     "metadata": {},
     "output_type": "execute_result"
    }
   ],
   "source": [
    "foursquare_df = pd.read_csv('./data/foursquare.csv', sep=\"\\t\", index_col=0)\n",
    "foursquare_df['utc_time'] = pd.to_datetime(foursquare_df['utc_time'], infer_datetime_format=True)\n",
    "foursquare_df['zip_code'] = foursquare_df['zip_code'].astype(str)\n",
    "foursquare_df.dtypes\n",
    "# foursquare_df.shape"
   ]
  },
  {
   "cell_type": "markdown",
   "metadata": {},
   "source": [
    "<a id=\"explore_data\"></a>"
   ]
  },
  {
   "cell_type": "markdown",
   "metadata": {},
   "source": [
    "## Explore Data"
   ]
  },
  {
   "cell_type": "markdown",
   "metadata": {},
   "source": [
    "### Hypothesis 1: Find where people who go to coffee shops go on the same day, and then find a location with a lot of this type of establishment.\n",
    "\n",
    "- First, I'll need to pick which categories I'll include, and then transcribe them to individual columns. Each row will be one day for one user, and the values for each category column will be 1 if the person visited this type of category on that day, and 0 if not."
   ]
  },
  {
   "cell_type": "code",
   "execution_count": 663,
   "metadata": {
    "scrolled": false
   },
   "outputs": [
    {
     "data": {
      "text/plain": [
       "<matplotlib.axes._subplots.AxesSubplot at 0x1ca723ae0b8>"
      ]
     },
     "execution_count": 663,
     "metadata": {},
     "output_type": "execute_result"
    },
    {
     "data": {
      "image/png": "[encoded data removed]",
      "text/plain": [
       "<matplotlib.figure.Figure at 0x1ca6dffb7b8>"
      ]
     },
     "metadata": {},
     "output_type": "display_data"
    }
   ],
   "source": [
    "foursquare_df.venue_category.value_counts().head(7).plot(kind='bar', figsize=(15, 8))"
   ]
  },
  {
   "cell_type": "code",
   "execution_count": 664,
   "metadata": {
    "scrolled": true
   },
   "outputs": [
    {
     "data": {
      "text/plain": [
       "array(['Shoe Store', 'Lounge', 'Bar', 'Sandwich Place', 'Baseball Stadium',\n",
       "       'Zoo', 'Greek Restaurant', 'Bank', 'Train Station', 'Neighborhood',\n",
       "       'American Restaurant', 'Coffee Shop', 'Tech Startup',\n",
       "       'Seafood Restaurant', 'Subway', 'Pizza Place', 'History Museum',\n",
       "       'Mall', 'Hotel', 'Government Building', 'Department Store',\n",
       "       'Gym / Fitness Center', 'Indian Restaurant', 'Light Rail',\n",
       "       'Sports Bar', 'Caf\\x1a\\x1a', 'Cocktail Bar', 'Yoga Studio',\n",
       "       'Clothing Store', 'Military Base', 'Bookstore', 'Gym', 'Park',\n",
       "       'Plaza', 'Whisky Bar', 'Office', 'Community College', 'Museum',\n",
       "       'Mediterranean Restaurant', 'Pub', 'Breakfast Spot', 'High School',\n",
       "       'Nightlife Spot', 'Grocery Store', 'Steakhouse', \"Men's Store\",\n",
       "       'Music Venue', 'Hotel Bar', 'Theater', 'Dive Bar',\n",
       "       'Italian Restaurant', 'Fast Food Restaurant', 'Liquor Store',\n",
       "       'Turkish Restaurant', 'Ice Cream Shop', 'Drugstore / Pharmacy',\n",
       "       'Cafeteria', 'Arts & Crafts Store', 'Moving Target', 'University',\n",
       "       'Performing Arts Venue', 'Speakeasy',\n",
       "       'Residential Building (Apartment / Condo)', 'Basketball Stadium',\n",
       "       'Convenience Store', 'Road', 'Train', 'Building',\n",
       "       'College Classroom', 'Home (private)', 'Bridge', 'Coworking Space',\n",
       "       'Food Truck', 'Library', 'Convention Center', 'Bus Line',\n",
       "       'Capitol Building', 'Auditorium', 'Latin American Restaurant',\n",
       "       'Burger Joint', 'Thai Restaurant', 'Fried Chicken Joint', 'Caf\\x1a',\n",
       "       'Bakery', 'Mexican Restaurant', 'Chinese Restaurant', 'Post Office',\n",
       "       'Miscellaneous Shop', 'City', 'Courthouse',\n",
       "       'General College & University', 'Salon / Barbershop', 'Multiplex',\n",
       "       'New American Restaurant', 'Tapas Restaurant',\n",
       "       'College Academic Building', \"Doctor's Office\", 'Electronics Store',\n",
       "       'Church', 'Sporting Goods Shop', 'Deli / Bodega', 'Brewery',\n",
       "       'Pool Hall', 'Dim Sum Restaurant', 'College Residence Hall',\n",
       "       'Dog Run', 'Diner', 'Farmers Market', 'French Restaurant',\n",
       "       'Salad Place', 'Harbor / Marina', 'Art Museum', 'Hardware Store',\n",
       "       'Beer Garden', 'Cosmetics Shop', 'Wine Shop', 'Police Station',\n",
       "       'Monument / Landmark', 'Cupcake Shop', 'Garden',\n",
       "       'Korean Restaurant', 'Bike Shop', 'Boutique', 'Gastropub',\n",
       "       'Asian Restaurant', 'Other Nightlife', 'Bowling Alley', 'Nightclub',\n",
       "       'Event Space', 'African Restaurant', 'Indie Movie Theater',\n",
       "       'Hookah Bar', 'Field', 'Wine Bar', 'Scenic Lookout',\n",
       "       'Southern / Soul Food Restaurant', 'Bus Station',\n",
       "       'Rental Car Location', 'Veterinarian', 'Laundry Service',\n",
       "       'Sushi Restaurant', 'Art Gallery', \"Women's Store\", 'Hot Dog Joint',\n",
       "       'Taxi', 'Accessories Store', 'Jazz Club', 'Falafel Restaurant',\n",
       "       'BBQ Joint', 'Bagel Shop', 'Student Center', 'German Restaurant',\n",
       "       'Frozen Yogurt', 'Dessert Shop', 'Tea Room', 'Wings Joint',\n",
       "       'College Library', 'Cemetery', 'Donut Shop',\n",
       "       'General Entertainment', 'College Engineering Building',\n",
       "       'Furniture / Home Store', 'Design Studio', 'Rock Club',\n",
       "       'Spa / Massage', 'Vegetarian / Vegan Restaurant', 'Hospital',\n",
       "       'Spiritual Center', 'Brazilian Restaurant', 'Karaoke Bar',\n",
       "       'Restaurant', 'Caribbean Restaurant', 'Other Great Outdoors',\n",
       "       'Nail Salon', 'Food & Drink Shop', 'Gas Station / Garage',\n",
       "       'Tanning Salon', 'General Travel', 'College Quad', 'Flea Market',\n",
       "       'Historic Site', 'Vietnamese Restaurant', 'Conference Room',\n",
       "       'Professional & Other Places', 'Food Court', 'Boat or Ferry',\n",
       "       'Parking', 'Law School', 'Dance Studio', \"Dentist's Office\",\n",
       "       'Juice Bar', 'Thrift / Vintage Store', 'Middle Eastern Restaurant',\n",
       "       'Bike Rental / Bike Share', 'Gift Shop', 'Strip Club',\n",
       "       'Automotive Shop', 'Gourmet Shop', 'Temple', 'Spanish Restaurant',\n",
       "       'Theme Park', 'Record Shop', 'Smoke Shop', 'Elementary School',\n",
       "       'Soup Place', 'Medical Center', 'Trade School',\n",
       "       'Japanese Restaurant', 'Embassy / Consulate', 'College Auditorium',\n",
       "       'Hiking Trail', 'Taco Place', 'Sculpture Garden',\n",
       "       'Paper / Office Supplies Store', 'College Basketball Court',\n",
       "       'Butcher', 'Ramen /  Noodle House', 'Pool', 'Fire Station', 'Fair',\n",
       "       'Snack Place', 'College Cafeteria', 'City Hall', 'School',\n",
       "       'Platform', 'Flower Shop', 'Housing Development',\n",
       "       'Ethiopian Restaurant', 'Optical Shop', 'Comedy Club',\n",
       "       'Eastern European Restaurant', 'College Administrative Building',\n",
       "       'Financial or Legal Service', 'Medical School', 'Climbing Gym',\n",
       "       'College Arts Building', 'Hockey Arena', 'Food', 'Kids Store',\n",
       "       'Winery', 'College Science Building', 'Playground',\n",
       "       'Baseball Field', 'Cajun / Creole Restaurant', 'Fish Market',\n",
       "       'Cuban Restaurant', 'Moroccan Restaurant', 'Swiss Restaurant',\n",
       "       'Concert Hall', 'Opera House', 'Burrito Place', 'Plane',\n",
       "       'Tattoo Parlor', 'Vineyard', 'Campground', 'Arcade',\n",
       "       'South American Restaurant', 'Fraternity House', 'Aquarium',\n",
       "       'Portuguese Restaurant', 'College Lab', 'Tennis Court', 'Stadium',\n",
       "       'Camera Store', 'Travel Lounge', 'Track Stadium', 'Farm',\n",
       "       'Pet Store', 'Track', 'Synagogue', 'Lingerie Store', 'Meeting Room',\n",
       "       'Ski Area', 'Jewelry Store', 'College Communications Building',\n",
       "       'Movie Theater', 'Trails', 'College Bookstore', 'Hobby Shop',\n",
       "       'Gaming Cafe', 'Hostel', 'College Rec Center', 'Cheese Shop',\n",
       "       'Antique Shop', 'Voting Booth', 'College Gym', 'Toy / Game Store',\n",
       "       'Shrine', 'Athletics & Sports', 'Hot Spring', 'Ski Trail',\n",
       "       'Gym Pool', 'Racetrack', 'Casino', 'Ski Chalet', 'Candy Store',\n",
       "       'College & University', 'Bed & Breakfast', 'River',\n",
       "       'Sorority House', 'Non-Profit', 'College Technology Building',\n",
       "       'Skate Park', 'Soccer Field', 'Basketball Court', 'Bridal Shop',\n",
       "       'Science Museum', 'Athletic & Sport', 'Rest Area',\n",
       "       'Arts & Entertainment', 'Factory', 'Garden Center', 'Skating Rink',\n",
       "       'Outdoors & Recreation', 'Public Art', 'Tailor Shop',\n",
       "       'Motorcycle Shop', 'Shop & Service', 'Ski Lodge', 'Photography Lab',\n",
       "       'Molecular Gastronomy Restaurant', 'Animal Shelter', 'Water Park',\n",
       "       'Paella Restaurant', 'College Theater', 'Argentinian Restaurant',\n",
       "       'Mobile Phone Shop', 'Yogurt', 'College Stadium',\n",
       "       'Tourist Information Center', 'Motel', 'Radio Station',\n",
       "       'Fish & Chips Shop', 'Hockey Field', 'Market', 'Assisted Living',\n",
       "       'Pier', 'Video Store', 'Volleyball Court'], dtype=object)"
      ]
     },
     "execution_count": 664,
     "metadata": {},
     "output_type": "execute_result"
    }
   ],
   "source": [
    "# first, list all of the columns\n",
    "foursquare_df.venue_category.unique()"
   ]
  },
  {
   "cell_type": "code",
   "execution_count": 665,
   "metadata": {},
   "outputs": [
    {
     "data": {
      "text/plain": [
       "array(['Coffee Shop', 'Office', 'Subway', 'American Restaurant', 'Bar',\n",
       "       'Government Building', 'Hotel', 'Train Station', 'Gym',\n",
       "       'Grocery Store', 'Home (private)',\n",
       "       'Residential Building (Apartment / Condo)', 'Park',\n",
       "       'Mexican Restaurant', 'Sandwich Place', 'Lounge', 'Building',\n",
       "       'Pizza Place', 'Pub', 'Neighborhood', 'Baseball Stadium', 'Road',\n",
       "       'Italian Restaurant'], dtype=object)"
      ]
     },
     "execution_count": 665,
     "metadata": {},
     "output_type": "execute_result"
    }
   ],
   "source": [
    "# for now, I'll just use the top 23 categories as my features\n",
    "columns=foursquare_df.venue_category.value_counts().head(23).index.values\n",
    "columns"
   ]
  },
  {
   "cell_type": "code",
   "execution_count": 666,
   "metadata": {},
   "outputs": [
    {
     "data": {
      "text/html": [
       "<div>\n",
       "<style>\n",
       "    .dataframe thead tr:only-child th {\n",
       "        text-align: right;\n",
       "    }\n",
       "\n",
       "    .dataframe thead th {\n",
       "        text-align: left;\n",
       "    }\n",
       "\n",
       "    .dataframe tbody tr th {\n",
       "        vertical-align: top;\n",
       "    }\n",
       "</style>\n",
       "<table border=\"1\" class=\"dataframe\">\n",
       "  <thead>\n",
       "    <tr style=\"text-align: right;\">\n",
       "      <th></th>\n",
       "      <th>user_id</th>\n",
       "      <th>utc_time_full</th>\n",
       "    </tr>\n",
       "  </thead>\n",
       "  <tbody>\n",
       "    <tr>\n",
       "      <th>0</th>\n",
       "      <td>6</td>\n",
       "      <td>2013-04-03 16:49:50</td>\n",
       "    </tr>\n",
       "    <tr>\n",
       "      <th>1</th>\n",
       "      <td>6</td>\n",
       "      <td>2012-10-18 16:01:06</td>\n",
       "    </tr>\n",
       "    <tr>\n",
       "      <th>2</th>\n",
       "      <td>6</td>\n",
       "      <td>2013-05-22 20:16:02</td>\n",
       "    </tr>\n",
       "    <tr>\n",
       "      <th>3</th>\n",
       "      <td>6</td>\n",
       "      <td>2013-02-27 18:10:19</td>\n",
       "    </tr>\n",
       "    <tr>\n",
       "      <th>4</th>\n",
       "      <td>6</td>\n",
       "      <td>2012-11-28 15:04:14</td>\n",
       "    </tr>\n",
       "  </tbody>\n",
       "</table>\n",
       "</div>"
      ],
      "text/plain": [
       "   user_id       utc_time_full\n",
       "0        6 2013-04-03 16:49:50\n",
       "1        6 2012-10-18 16:01:06\n",
       "2        6 2013-05-22 20:16:02\n",
       "3        6 2013-02-27 18:10:19\n",
       "4        6 2012-11-28 15:04:14"
      ]
     },
     "execution_count": 666,
     "metadata": {},
     "output_type": "execute_result"
    }
   ],
   "source": [
    "foursquare_days_df = foursquare_df.rename(columns={'utc_time':'utc_time_full'}).groupby([foursquare_df.user_id, foursquare_df.utc_time.dt.day]).nth(0).reset_index(drop=True)\n",
    "foursquare_days_df.drop(['venue_id', 'latitude', 'longitude', 'venue_category', 'country', 'coffee_shop_bin', 'zip_code'], axis=1, inplace=True)\n",
    "foursquare_days_df.head()"
   ]
  },
  {
   "cell_type": "code",
   "execution_count": 667,
   "metadata": {
    "collapsed": true
   },
   "outputs": [],
   "source": [
    "foursquare_df_temp = foursquare_df[foursquare_df.venue_category.isin(columns)]"
   ]
  },
  {
   "cell_type": "code",
   "execution_count": 668,
   "metadata": {
    "collapsed": true
   },
   "outputs": [],
   "source": [
    "foursquare_days_df = pd.read_csv('./data/foursquare_days_df.csv')"
   ]
  },
  {
   "cell_type": "code",
   "execution_count": 606,
   "metadata": {
    "scrolled": true
   },
   "outputs": [
    {
     "data": {
      "text/plain": [
       "964.9314014144293"
      ]
     },
     "execution_count": 606,
     "metadata": {},
     "output_type": "execute_result"
    }
   ],
   "source": [
    "# DON'T RUN THIS! :)\n",
    "# takes 15+ minutes. Running the cell block directly above this will import the same dataset\n",
    "# as this code block produces.\n",
    "\n",
    "# transposes check in data w/ user/date as primary key and 1/0 for whether \n",
    "# or not the user visited said category\n",
    "for column in columns:\n",
    "    foursquare_days_df[column] = foursquare_days_df.apply(lambda row: 1 if foursquare_df_temp[(foursquare_df_temp['user_id'] == row['user_id']) & (foursquare_df_temp.utc_time.dt.day == row['utc_time_full'].day) & (foursquare_df_temp.venue_category == column)].venue_category.count() > 0 else 0, axis=1)\n",
    "    foursquare_df_temp = foursquare_df_temp[foursquare_df_temp['venue_category'] != column]"
   ]
  },
  {
   "cell_type": "code",
   "execution_count": 669,
   "metadata": {},
   "outputs": [
    {
     "data": {
      "text/html": [
       "<div>\n",
       "<style>\n",
       "    .dataframe thead tr:only-child th {\n",
       "        text-align: right;\n",
       "    }\n",
       "\n",
       "    .dataframe thead th {\n",
       "        text-align: left;\n",
       "    }\n",
       "\n",
       "    .dataframe tbody tr th {\n",
       "        vertical-align: top;\n",
       "    }\n",
       "</style>\n",
       "<table border=\"1\" class=\"dataframe\">\n",
       "  <thead>\n",
       "    <tr style=\"text-align: right;\">\n",
       "      <th></th>\n",
       "      <th>Unnamed: 0</th>\n",
       "      <th>user_id</th>\n",
       "      <th>utc_time_full</th>\n",
       "      <th>Coffee Shop</th>\n",
       "      <th>Office</th>\n",
       "      <th>Subway</th>\n",
       "      <th>American Restaurant</th>\n",
       "      <th>Bar</th>\n",
       "      <th>Government Building</th>\n",
       "      <th>Hotel</th>\n",
       "      <th>...</th>\n",
       "      <th>Mexican Restaurant</th>\n",
       "      <th>Sandwich Place</th>\n",
       "      <th>Lounge</th>\n",
       "      <th>Building</th>\n",
       "      <th>Pizza Place</th>\n",
       "      <th>Pub</th>\n",
       "      <th>Neighborhood</th>\n",
       "      <th>Baseball Stadium</th>\n",
       "      <th>Road</th>\n",
       "      <th>Italian Restaurant</th>\n",
       "    </tr>\n",
       "  </thead>\n",
       "  <tbody>\n",
       "    <tr>\n",
       "      <th>0</th>\n",
       "      <td>0</td>\n",
       "      <td>6</td>\n",
       "      <td>2013-04-03 16:49:50</td>\n",
       "      <td>0</td>\n",
       "      <td>0</td>\n",
       "      <td>0</td>\n",
       "      <td>0</td>\n",
       "      <td>0</td>\n",
       "      <td>1</td>\n",
       "      <td>0</td>\n",
       "      <td>...</td>\n",
       "      <td>0</td>\n",
       "      <td>0</td>\n",
       "      <td>0</td>\n",
       "      <td>0</td>\n",
       "      <td>0</td>\n",
       "      <td>0</td>\n",
       "      <td>0</td>\n",
       "      <td>0</td>\n",
       "      <td>0</td>\n",
       "      <td>0</td>\n",
       "    </tr>\n",
       "    <tr>\n",
       "      <th>1</th>\n",
       "      <td>1</td>\n",
       "      <td>6</td>\n",
       "      <td>2012-10-18 16:01:06</td>\n",
       "      <td>0</td>\n",
       "      <td>0</td>\n",
       "      <td>0</td>\n",
       "      <td>0</td>\n",
       "      <td>0</td>\n",
       "      <td>1</td>\n",
       "      <td>0</td>\n",
       "      <td>...</td>\n",
       "      <td>0</td>\n",
       "      <td>0</td>\n",
       "      <td>0</td>\n",
       "      <td>0</td>\n",
       "      <td>0</td>\n",
       "      <td>0</td>\n",
       "      <td>0</td>\n",
       "      <td>0</td>\n",
       "      <td>0</td>\n",
       "      <td>0</td>\n",
       "    </tr>\n",
       "    <tr>\n",
       "      <th>2</th>\n",
       "      <td>2</td>\n",
       "      <td>6</td>\n",
       "      <td>2013-05-22 20:16:02</td>\n",
       "      <td>1</td>\n",
       "      <td>0</td>\n",
       "      <td>0</td>\n",
       "      <td>0</td>\n",
       "      <td>0</td>\n",
       "      <td>0</td>\n",
       "      <td>0</td>\n",
       "      <td>...</td>\n",
       "      <td>0</td>\n",
       "      <td>0</td>\n",
       "      <td>0</td>\n",
       "      <td>0</td>\n",
       "      <td>0</td>\n",
       "      <td>0</td>\n",
       "      <td>0</td>\n",
       "      <td>0</td>\n",
       "      <td>0</td>\n",
       "      <td>0</td>\n",
       "    </tr>\n",
       "    <tr>\n",
       "      <th>3</th>\n",
       "      <td>3</td>\n",
       "      <td>6</td>\n",
       "      <td>2013-02-27 18:10:19</td>\n",
       "      <td>0</td>\n",
       "      <td>0</td>\n",
       "      <td>0</td>\n",
       "      <td>0</td>\n",
       "      <td>1</td>\n",
       "      <td>0</td>\n",
       "      <td>1</td>\n",
       "      <td>...</td>\n",
       "      <td>0</td>\n",
       "      <td>0</td>\n",
       "      <td>0</td>\n",
       "      <td>0</td>\n",
       "      <td>0</td>\n",
       "      <td>0</td>\n",
       "      <td>0</td>\n",
       "      <td>0</td>\n",
       "      <td>0</td>\n",
       "      <td>0</td>\n",
       "    </tr>\n",
       "    <tr>\n",
       "      <th>4</th>\n",
       "      <td>4</td>\n",
       "      <td>6</td>\n",
       "      <td>2012-11-28 15:04:14</td>\n",
       "      <td>0</td>\n",
       "      <td>1</td>\n",
       "      <td>0</td>\n",
       "      <td>0</td>\n",
       "      <td>0</td>\n",
       "      <td>1</td>\n",
       "      <td>0</td>\n",
       "      <td>...</td>\n",
       "      <td>0</td>\n",
       "      <td>0</td>\n",
       "      <td>0</td>\n",
       "      <td>0</td>\n",
       "      <td>0</td>\n",
       "      <td>0</td>\n",
       "      <td>0</td>\n",
       "      <td>0</td>\n",
       "      <td>0</td>\n",
       "      <td>0</td>\n",
       "    </tr>\n",
       "  </tbody>\n",
       "</table>\n",
       "<p>5 rows × 26 columns</p>\n",
       "</div>"
      ],
      "text/plain": [
       "   Unnamed: 0  user_id        utc_time_full  Coffee Shop  Office  Subway  \\\n",
       "0           0        6  2013-04-03 16:49:50            0       0       0   \n",
       "1           1        6  2012-10-18 16:01:06            0       0       0   \n",
       "2           2        6  2013-05-22 20:16:02            1       0       0   \n",
       "3           3        6  2013-02-27 18:10:19            0       0       0   \n",
       "4           4        6  2012-11-28 15:04:14            0       1       0   \n",
       "\n",
       "   American Restaurant  Bar  Government Building  Hotel         ...          \\\n",
       "0                    0    0                    1      0         ...           \n",
       "1                    0    0                    1      0         ...           \n",
       "2                    0    0                    0      0         ...           \n",
       "3                    0    1                    0      1         ...           \n",
       "4                    0    0                    1      0         ...           \n",
       "\n",
       "   Mexican Restaurant  Sandwich Place  Lounge  Building  Pizza Place  Pub  \\\n",
       "0                   0               0       0         0            0    0   \n",
       "1                   0               0       0         0            0    0   \n",
       "2                   0               0       0         0            0    0   \n",
       "3                   0               0       0         0            0    0   \n",
       "4                   0               0       0         0            0    0   \n",
       "\n",
       "   Neighborhood  Baseball Stadium  Road  Italian Restaurant  \n",
       "0             0                 0     0                   0  \n",
       "1             0                 0     0                   0  \n",
       "2             0                 0     0                   0  \n",
       "3             0                 0     0                   0  \n",
       "4             0                 0     0                   0  \n",
       "\n",
       "[5 rows x 26 columns]"
      ]
     },
     "execution_count": 669,
     "metadata": {},
     "output_type": "execute_result"
    }
   ],
   "source": [
    "foursquare_days_df.head()"
   ]
  },
  {
   "cell_type": "code",
   "execution_count": 670,
   "metadata": {},
   "outputs": [
    {
     "data": {
      "text/plain": [
       "0    15507\n",
       "1     1930\n",
       "Name: Coffee Shop, dtype: int64"
      ]
     },
     "execution_count": 670,
     "metadata": {},
     "output_type": "execute_result"
    }
   ],
   "source": [
    "foursquare_days_df['Coffee Shop'].value_counts()"
   ]
  },
  {
   "cell_type": "code",
   "execution_count": 671,
   "metadata": {},
   "outputs": [
    {
     "data": {
      "text/plain": [
       "(17437, 26)"
      ]
     },
     "execution_count": 671,
     "metadata": {},
     "output_type": "execute_result"
    }
   ],
   "source": [
    "foursquare_days_df.shape "
   ]
  },
  {
   "cell_type": "markdown",
   "metadata": {},
   "source": [
    "#### foursquare_days_df is now formatted and ready for a decision tree (Machine Learning section)"
   ]
  },
  {
   "cell_type": "markdown",
   "metadata": {},
   "source": [
    "### Hypothesis 2: compare various factors of each zip code to the check in count to find a linear relationship. If we can find a linear relationship, we can use this to determine the best zip code for maximizing coffee shop check-ins."
   ]
  },
  {
   "cell_type": "code",
   "execution_count": 672,
   "metadata": {},
   "outputs": [
    {
     "data": {
      "text/plain": [
       "<matplotlib.axes._subplots.AxesSubplot at 0x1ca70fc4668>"
      ]
     },
     "execution_count": 672,
     "metadata": {},
     "output_type": "execute_result"
    },
    {
     "data": {
      "image/png": "[encoded data removed]",
      "text/plain": [
       "<matplotlib.figure.Figure at 0x1ca72393898>"
      ]
     },
     "metadata": {},
     "output_type": "display_data"
    }
   ],
   "source": [
    "foursquare_df.zip_code.value_counts().plot(kind='bar')"
   ]
  },
  {
   "cell_type": "code",
   "execution_count": 673,
   "metadata": {
    "collapsed": true
   },
   "outputs": [],
   "source": [
    "coffee_checkins_perzip = foursquare_df[foursquare_df.venue_category == \"Coffee Shop\"].groupby(['zip_code']).size().reset_index(name='coffeeshop_counts')"
   ]
  },
  {
   "cell_type": "code",
   "execution_count": 674,
   "metadata": {
    "collapsed": true
   },
   "outputs": [],
   "source": [
    "checkins_and_zipdata_df = coffee_checkins_perzip.merge(zipfeatures_df, left_on='zip_code', right_on='zip_code')"
   ]
  },
  {
   "cell_type": "code",
   "execution_count": 675,
   "metadata": {},
   "outputs": [
    {
     "data": {
      "text/plain": [
       "coffeeshop_counts           1.000000\n",
       "estimate_total              0.244147\n",
       "median_age                 -0.362762\n",
       "mean_income                -0.108608\n",
       "percent_public_transport   -0.244719\n",
       "Name: coffeeshop_counts, dtype: float64"
      ]
     },
     "execution_count": 675,
     "metadata": {},
     "output_type": "execute_result"
    }
   ],
   "source": [
    "# import seaborn as sns\n",
    "checkins_and_zipdata_df.corr().coffeeshop_counts"
   ]
  },
  {
   "cell_type": "code",
   "execution_count": 676,
   "metadata": {
    "scrolled": true
   },
   "outputs": [
    {
     "data": {
      "text/plain": [
       "<seaborn.axisgrid.PairGrid at 0x1ca6048c2b0>"
      ]
     },
     "execution_count": 676,
     "metadata": {},
     "output_type": "execute_result"
    },
    {
     "data": {
      "image/png": "[encoded data removed]",
      "text/plain": [
       "<matplotlib.figure.Figure at 0x1ca6048c128>"
      ]
     },
     "metadata": {},
     "output_type": "display_data"
    }
   ],
   "source": [
    "sns.pairplot(checkins_and_zipdata_df.corr(), kind='reg')\n",
    "# sns.regplot(x=\"estimate_total\", y=\"coffeeshop_counts\", data=checkins_and_zipdata_df);\n",
    "# sns.regplot(x=\"mean_income\", y=\"coffeeshop_counts\", data=checkins_and_zipdata_df);\n",
    "# sns.regplot(x=\"median_age\", y=\"coffeeshop_counts\", data=checkins_and_zipdata_df);"
   ]
  },
  {
   "cell_type": "markdown",
   "metadata": {},
   "source": [
    "<a id=\"explore_data_old\"></a>"
   ]
  },
  {
   "cell_type": "markdown",
   "metadata": {},
   "source": [
    "## Explore Data (Old Hypotheses)"
   ]
  },
  {
   "cell_type": "markdown",
   "metadata": {},
   "source": [
    "#### See where people are generally coming from when they go to coffee shops"
   ]
  },
  {
   "cell_type": "code",
   "execution_count": 620,
   "metadata": {
    "scrolled": false
   },
   "outputs": [
    {
     "data": {
      "text/plain": [
       "<matplotlib.axes._subplots.AxesSubplot at 0x1ca711eacc0>"
      ]
     },
     "execution_count": 620,
     "metadata": {},
     "output_type": "execute_result"
    },
    {
     "data": {
      "image/png": "[encoded data removed]",
      "text/plain": [
       "<matplotlib.figure.Figure at 0x1ca60ba2be0>"
      ]
     },
     "metadata": {},
     "output_type": "display_data"
    }
   ],
   "source": [
    "# View top 10 categories of checkins on days that also contain a coffee shop checkin\n",
    "foursquare_df[(foursquare_df.coffee_shop_bin==1) & (foursquare_df.venue_category != 'Coffee Shop')].venue_category.value_counts().head(7).plot(kind='bar', figsize=(15, 8))"
   ]
  },
  {
   "cell_type": "markdown",
   "metadata": {
    "collapsed": true
   },
   "source": [
    "#### I too go to starbucks after every subway sub."
   ]
  },
  {
   "cell_type": "markdown",
   "metadata": {
    "collapsed": true
   },
   "source": [
    "#### Next I'd like to view coffee shops plotted on an interactive map."
   ]
  },
  {
   "cell_type": "code",
   "execution_count": 677,
   "metadata": {
    "collapsed": true
   },
   "outputs": [],
   "source": [
    "import folium\n",
    "\n",
    "map_coffee_df = businesses_df[businesses_df.categories.astype(str).str.contains('Coffee')]\n",
    "\n",
    "folium_map = folium.Map(location=[38.9031434, -77.0232301],\n",
    "                        zoom_start=13)\n",
    "\n",
    "for index, row in map_coffee_df.iterrows():\n",
    "    folium.Marker([row[\"latitude\"], row[\"longitude\"]], popup=folium.Popup(row['name'], parse_html=True)).add_to(folium_map)"
   ]
  },
  {
   "cell_type": "code",
   "execution_count": 678,
   "metadata": {
    "scrolled": false
   },
   "outputs": [
    {
     "data": {
      "text/html": [
       "<div style=\"width:100%;\"><div style=\"position:relative;width:100%;height:0;padding-bottom:60%;\"><iframe src=\"data:text/html;charset=utf-8;base64,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\" style=\"position:absolute;width:100%;height:100%;left:0;top:0;border:none !important;\" allowfullscreen webkitallowfullscreen mozallowfullscreen></iframe></div></div>"
      ],
      "text/plain": [
       "<folium.folium.Map at 0x1ca604ad198>"
      ]
     },
     "execution_count": 678,
     "metadata": {},
     "output_type": "execute_result"
    }
   ],
   "source": [
    "folium_map"
   ]
  },
  {
   "cell_type": "markdown",
   "metadata": {},
   "source": [
    "#### Next I want to find a count of coffee shops by zip code and explore population data viability on determining coffee shop location"
   ]
  },
  {
   "cell_type": "code",
   "execution_count": 679,
   "metadata": {},
   "outputs": [
    {
     "data": {
      "text/plain": [
       "(390, 12)"
      ]
     },
     "execution_count": 679,
     "metadata": {},
     "output_type": "execute_result"
    }
   ],
   "source": [
    "# get all businesses w/ category containing \"Coffee\"\n",
    "coffeeshops_byzip_df = businesses_df[businesses_df.categories.astype(str).str.contains('Coffee')]\n",
    "coffeeshops_byzip_df.shape"
   ]
  },
  {
   "cell_type": "code",
   "execution_count": 681,
   "metadata": {},
   "outputs": [],
   "source": [
    "# new df containing each zip code and the count of coffee shops\n",
    "coffeeshop_percap_df = coffeeshops_byzip_df.groupby('zip_code').zip_code.agg(['count']).sort_values('count', ascending=False)\n",
    "\n",
    "# merge previous dataframe with population growth dataframe\n",
    "coffeeshop_percap_df = coffeeshop_percap_df.merge(popul2016_df, left_index=True, right_on=\"zip_code\")\n",
    "coffeeshop_percap_df = coffeeshop_percap_df.set_index('zip_code')\n",
    "\n",
    "# add calculated field for rate of population change\n",
    "coffeeshop_percap_df['pop_change_rate'] = (coffeeshop_percap_df['estimate_total_2016'] - \\\n",
    "                                            coffeeshop_percap_df['estimate_total_2015']) / \\\n",
    "                                            coffeeshop_percap_df['estimate_total_2015']\n",
    "\n",
    "# display some rows from newly constructed df, sorted by population rate of change\n",
    "coffeeshop_percap_df[coffeeshop_percap_df['count'] > 5].sort_values('pop_change_rate')"
   ]
  },
  {
   "cell_type": "markdown",
   "metadata": {
    "collapsed": true
   },
   "source": [
    "<a id=\"machine_learning\"></a>"
   ]
  },
  {
   "cell_type": "markdown",
   "metadata": {},
   "source": [
    "## Part 4: Machine Learning"
   ]
  },
  {
   "cell_type": "markdown",
   "metadata": {},
   "source": [
    "<a id=\"hyp_1\"></a>"
   ]
  },
  {
   "cell_type": "markdown",
   "metadata": {},
   "source": [
    "### Hypothesis 1: Find where people who go to coffee shops go on the same day, and then find a location with a lot of this type of establishment."
   ]
  },
  {
   "cell_type": "markdown",
   "metadata": {},
   "source": [
    "#### Model 1: Decision Tree"
   ]
  },
  {
   "cell_type": "code",
   "execution_count": 682,
   "metadata": {
    "collapsed": true
   },
   "outputs": [],
   "source": [
    "feature_cols = ['Office', 'Subway', 'American Restaurant', 'Bar',\n",
    "       'Government Building', 'Hotel', 'Train Station', 'Gym',\n",
    "       'Grocery Store', 'Home (private)',\n",
    "       'Residential Building (Apartment / Condo)', 'Park',\n",
    "       'Mexican Restaurant', 'Sandwich Place', 'Lounge', 'Building',\n",
    "       'Pizza Place', 'Pub', 'Neighborhood', 'Baseball Stadium', 'Road',\n",
    "       'Italian Restaurant']\n",
    "\n",
    "X = foursquare_days_df[feature_cols]\n",
    "y = foursquare_days_df[\"Coffee Shop\"]"
   ]
  },
  {
   "cell_type": "code",
   "execution_count": 683,
   "metadata": {},
   "outputs": [
    {
     "data": {
      "text/html": [
       "<div>\n",
       "<style>\n",
       "    .dataframe thead tr:only-child th {\n",
       "        text-align: right;\n",
       "    }\n",
       "\n",
       "    .dataframe thead th {\n",
       "        text-align: left;\n",
       "    }\n",
       "\n",
       "    .dataframe tbody tr th {\n",
       "        vertical-align: top;\n",
       "    }\n",
       "</style>\n",
       "<table border=\"1\" class=\"dataframe\">\n",
       "  <thead>\n",
       "    <tr style=\"text-align: right;\">\n",
       "      <th></th>\n",
       "      <th>feature</th>\n",
       "      <th>importance</th>\n",
       "    </tr>\n",
       "  </thead>\n",
       "  <tbody>\n",
       "    <tr>\n",
       "      <th>11</th>\n",
       "      <td>Park</td>\n",
       "      <td>0.290257</td>\n",
       "    </tr>\n",
       "    <tr>\n",
       "      <th>1</th>\n",
       "      <td>Subway</td>\n",
       "      <td>0.238393</td>\n",
       "    </tr>\n",
       "    <tr>\n",
       "      <th>13</th>\n",
       "      <td>Sandwich Place</td>\n",
       "      <td>0.233781</td>\n",
       "    </tr>\n",
       "    <tr>\n",
       "      <th>7</th>\n",
       "      <td>Gym</td>\n",
       "      <td>0.190744</td>\n",
       "    </tr>\n",
       "    <tr>\n",
       "      <th>6</th>\n",
       "      <td>Train Station</td>\n",
       "      <td>0.046825</td>\n",
       "    </tr>\n",
       "    <tr>\n",
       "      <th>20</th>\n",
       "      <td>Road</td>\n",
       "      <td>0.000000</td>\n",
       "    </tr>\n",
       "    <tr>\n",
       "      <th>19</th>\n",
       "      <td>Baseball Stadium</td>\n",
       "      <td>0.000000</td>\n",
       "    </tr>\n",
       "    <tr>\n",
       "      <th>18</th>\n",
       "      <td>Neighborhood</td>\n",
       "      <td>0.000000</td>\n",
       "    </tr>\n",
       "    <tr>\n",
       "      <th>17</th>\n",
       "      <td>Pub</td>\n",
       "      <td>0.000000</td>\n",
       "    </tr>\n",
       "    <tr>\n",
       "      <th>16</th>\n",
       "      <td>Pizza Place</td>\n",
       "      <td>0.000000</td>\n",
       "    </tr>\n",
       "  </tbody>\n",
       "</table>\n",
       "</div>"
      ],
      "text/plain": [
       "             feature  importance\n",
       "11              Park    0.290257\n",
       "1             Subway    0.238393\n",
       "13    Sandwich Place    0.233781\n",
       "7                Gym    0.190744\n",
       "6      Train Station    0.046825\n",
       "20              Road    0.000000\n",
       "19  Baseball Stadium    0.000000\n",
       "18      Neighborhood    0.000000\n",
       "17               Pub    0.000000\n",
       "16       Pizza Place    0.000000"
      ]
     },
     "execution_count": 683,
     "metadata": {},
     "output_type": "execute_result"
    }
   ],
   "source": [
    "from sklearn.tree import DecisionTreeClassifier\n",
    "\n",
    "treeclf = DecisionTreeClassifier(max_depth=3, random_state=1)\n",
    "treeclf.fit(X, y)\n",
    "\n",
    "pd.DataFrame({'feature':feature_cols, 'importance':treeclf.feature_importances_}).sort_values('importance', ascending=False).head(10)"
   ]
  },
  {
   "cell_type": "code",
   "execution_count": 684,
   "metadata": {},
   "outputs": [
    {
     "data": {
      "text/plain": [
       "0    1030\n",
       "1     207\n",
       "Name: Coffee Shop, dtype: int64"
      ]
     },
     "execution_count": 684,
     "metadata": {},
     "output_type": "execute_result"
    }
   ],
   "source": [
    "foursquare_days_df[foursquare_days_df['Subway'] == 1]['Coffee Shop'].value_counts()"
   ]
  },
  {
   "cell_type": "code",
   "execution_count": 685,
   "metadata": {},
   "outputs": [
    {
     "data": {
      "text/plain": [
       "True"
      ]
     },
     "execution_count": 685,
     "metadata": {},
     "output_type": "execute_result"
    }
   ],
   "source": [
    "from sklearn.tree import export_graphviz\n",
    "import pydotplus\n",
    "from io import StringIO\n",
    "\n",
    "dotfile = StringIO()\n",
    "export_graphviz(treeclf, out_file=dotfile, feature_names=feature_cols)\n",
    "graph = pydotplus.graph_from_dot_data(dotfile.getvalue())\n",
    "graph.write_png('./assets/categories_tree.png')"
   ]
  },
  {
   "cell_type": "markdown",
   "metadata": {},
   "source": [
    "![Tree for category data](assets/categories_tree.png)"
   ]
  },
  {
   "cell_type": "code",
   "execution_count": 686,
   "metadata": {
    "collapsed": true
   },
   "outputs": [],
   "source": [
    "feature_cols = ['Office', 'Subway', 'American Restaurant', 'Bar',\n",
    "       'Government Building', 'Hotel', 'Train Station', 'Gym',\n",
    "       'Grocery Store', 'Home (private)',\n",
    "       'Residential Building (Apartment / Condo)', 'Park',\n",
    "       'Mexican Restaurant', 'Sandwich Place', 'Lounge', 'Building',\n",
    "       'Pizza Place', 'Pub', 'Neighborhood', 'Baseball Stadium', 'Road',\n",
    "       'Italian Restaurant']\n",
    "\n",
    "X = foursquare_days_df[feature_cols]\n",
    "y = foursquare_days_df[\"Coffee Shop\"]"
   ]
  },
  {
   "cell_type": "code",
   "execution_count": 687,
   "metadata": {},
   "outputs": [
    {
     "data": {
      "text/plain": [
       "DecisionTreeClassifier(class_weight=None, criterion='gini', max_depth=3,\n",
       "            max_features=None, max_leaf_nodes=None,\n",
       "            min_impurity_decrease=0.0, min_impurity_split=None,\n",
       "            min_samples_leaf=1, min_samples_split=2,\n",
       "            min_weight_fraction_leaf=0.0, presort=False, random_state=None,\n",
       "            splitter='best')"
      ]
     },
     "execution_count": 687,
     "metadata": {},
     "output_type": "execute_result"
    }
   ],
   "source": [
    "from sklearn.model_selection import train_test_split\n",
    "\n",
    "X_train, X_test, y_train, y_test = train_test_split(X, y)\n",
    "treeclf = DecisionTreeClassifier(max_depth=3)\n",
    "treeclf.fit(X_train, y_train)"
   ]
  },
  {
   "cell_type": "code",
   "execution_count": 688,
   "metadata": {},
   "outputs": [
    {
     "data": {
      "text/plain": [
       "0.88371559633027519"
      ]
     },
     "execution_count": 688,
     "metadata": {},
     "output_type": "execute_result"
    }
   ],
   "source": [
    "from sklearn.metrics import accuracy_score\n",
    "\n",
    "y_predict = treeclf.predict(X_test)\n",
    "accuracy_score(y_test, y_predict)"
   ]
  },
  {
   "cell_type": "markdown",
   "metadata": {},
   "source": [
    "#### Model 2: Random Forest Classifier"
   ]
  },
  {
   "cell_type": "code",
   "execution_count": 689,
   "metadata": {
    "collapsed": true
   },
   "outputs": [],
   "source": [
    "feature_cols = ['Office', 'Subway', 'American Restaurant', 'Bar',\n",
    "       'Government Building', 'Hotel', 'Train Station', 'Gym',\n",
    "       'Grocery Store', 'Home (private)',\n",
    "       'Residential Building (Apartment / Condo)', 'Park',\n",
    "       'Mexican Restaurant', 'Sandwich Place', 'Lounge', 'Building',\n",
    "       'Pizza Place', 'Pub', 'Neighborhood', 'Baseball Stadium', 'Road',\n",
    "       'Italian Restaurant']\n",
    "\n",
    "X = foursquare_days_df[feature_cols]\n",
    "y = foursquare_days_df[\"Coffee Shop\"]"
   ]
  },
  {
   "cell_type": "code",
   "execution_count": 690,
   "metadata": {},
   "outputs": [
    {
     "data": {
      "text/html": [
       "<div>\n",
       "<style>\n",
       "    .dataframe thead tr:only-child th {\n",
       "        text-align: right;\n",
       "    }\n",
       "\n",
       "    .dataframe thead th {\n",
       "        text-align: left;\n",
       "    }\n",
       "\n",
       "    .dataframe tbody tr th {\n",
       "        vertical-align: top;\n",
       "    }\n",
       "</style>\n",
       "<table border=\"1\" class=\"dataframe\">\n",
       "  <thead>\n",
       "    <tr style=\"text-align: right;\">\n",
       "      <th></th>\n",
       "      <th>feature</th>\n",
       "      <th>importance</th>\n",
       "    </tr>\n",
       "  </thead>\n",
       "  <tbody>\n",
       "    <tr>\n",
       "      <th>1</th>\n",
       "      <td>Subway</td>\n",
       "      <td>0.069886</td>\n",
       "    </tr>\n",
       "    <tr>\n",
       "      <th>0</th>\n",
       "      <td>Office</td>\n",
       "      <td>0.066106</td>\n",
       "    </tr>\n",
       "    <tr>\n",
       "      <th>2</th>\n",
       "      <td>American Restaurant</td>\n",
       "      <td>0.062553</td>\n",
       "    </tr>\n",
       "    <tr>\n",
       "      <th>9</th>\n",
       "      <td>Home (private)</td>\n",
       "      <td>0.058851</td>\n",
       "    </tr>\n",
       "    <tr>\n",
       "      <th>4</th>\n",
       "      <td>Government Building</td>\n",
       "      <td>0.056127</td>\n",
       "    </tr>\n",
       "    <tr>\n",
       "      <th>11</th>\n",
       "      <td>Park</td>\n",
       "      <td>0.054306</td>\n",
       "    </tr>\n",
       "    <tr>\n",
       "      <th>6</th>\n",
       "      <td>Train Station</td>\n",
       "      <td>0.051727</td>\n",
       "    </tr>\n",
       "    <tr>\n",
       "      <th>5</th>\n",
       "      <td>Hotel</td>\n",
       "      <td>0.048888</td>\n",
       "    </tr>\n",
       "    <tr>\n",
       "      <th>8</th>\n",
       "      <td>Grocery Store</td>\n",
       "      <td>0.048243</td>\n",
       "    </tr>\n",
       "    <tr>\n",
       "      <th>13</th>\n",
       "      <td>Sandwich Place</td>\n",
       "      <td>0.048005</td>\n",
       "    </tr>\n",
       "    <tr>\n",
       "      <th>10</th>\n",
       "      <td>Residential Building (Apartment / Condo)</td>\n",
       "      <td>0.047532</td>\n",
       "    </tr>\n",
       "    <tr>\n",
       "      <th>12</th>\n",
       "      <td>Mexican Restaurant</td>\n",
       "      <td>0.047176</td>\n",
       "    </tr>\n",
       "    <tr>\n",
       "      <th>7</th>\n",
       "      <td>Gym</td>\n",
       "      <td>0.045710</td>\n",
       "    </tr>\n",
       "    <tr>\n",
       "      <th>18</th>\n",
       "      <td>Neighborhood</td>\n",
       "      <td>0.043835</td>\n",
       "    </tr>\n",
       "    <tr>\n",
       "      <th>3</th>\n",
       "      <td>Bar</td>\n",
       "      <td>0.043220</td>\n",
       "    </tr>\n",
       "    <tr>\n",
       "      <th>15</th>\n",
       "      <td>Building</td>\n",
       "      <td>0.038675</td>\n",
       "    </tr>\n",
       "    <tr>\n",
       "      <th>16</th>\n",
       "      <td>Pizza Place</td>\n",
       "      <td>0.037271</td>\n",
       "    </tr>\n",
       "    <tr>\n",
       "      <th>17</th>\n",
       "      <td>Pub</td>\n",
       "      <td>0.032730</td>\n",
       "    </tr>\n",
       "    <tr>\n",
       "      <th>14</th>\n",
       "      <td>Lounge</td>\n",
       "      <td>0.032555</td>\n",
       "    </tr>\n",
       "    <tr>\n",
       "      <th>21</th>\n",
       "      <td>Italian Restaurant</td>\n",
       "      <td>0.031102</td>\n",
       "    </tr>\n",
       "    <tr>\n",
       "      <th>19</th>\n",
       "      <td>Baseball Stadium</td>\n",
       "      <td>0.020807</td>\n",
       "    </tr>\n",
       "    <tr>\n",
       "      <th>20</th>\n",
       "      <td>Road</td>\n",
       "      <td>0.014696</td>\n",
       "    </tr>\n",
       "  </tbody>\n",
       "</table>\n",
       "</div>"
      ],
      "text/plain": [
       "                                     feature  importance\n",
       "1                                     Subway    0.069886\n",
       "0                                     Office    0.066106\n",
       "2                        American Restaurant    0.062553\n",
       "9                             Home (private)    0.058851\n",
       "4                        Government Building    0.056127\n",
       "11                                      Park    0.054306\n",
       "6                              Train Station    0.051727\n",
       "5                                      Hotel    0.048888\n",
       "8                              Grocery Store    0.048243\n",
       "13                            Sandwich Place    0.048005\n",
       "10  Residential Building (Apartment / Condo)    0.047532\n",
       "12                        Mexican Restaurant    0.047176\n",
       "7                                        Gym    0.045710\n",
       "18                              Neighborhood    0.043835\n",
       "3                                        Bar    0.043220\n",
       "15                                  Building    0.038675\n",
       "16                               Pizza Place    0.037271\n",
       "17                                       Pub    0.032730\n",
       "14                                    Lounge    0.032555\n",
       "21                        Italian Restaurant    0.031102\n",
       "19                          Baseball Stadium    0.020807\n",
       "20                                      Road    0.014696"
      ]
     },
     "execution_count": 690,
     "metadata": {},
     "output_type": "execute_result"
    }
   ],
   "source": [
    "from sklearn.ensemble import RandomForestClassifier\n",
    "from sklearn.datasets import make_classification\n",
    "\n",
    "rfclas = RandomForestClassifier(n_estimators=150, max_features=5, oob_score=True)\n",
    "rfclas.fit(X, y)\n",
    "\n",
    "pd.DataFrame({'feature':feature_cols, 'importance':rfclas.feature_importances_}).sort_values('importance', ascending=False)"
   ]
  },
  {
   "cell_type": "code",
   "execution_count": 691,
   "metadata": {},
   "outputs": [
    {
     "name": "stdout",
     "output_type": "stream",
     "text": [
      "accuracy: 0.888990825688\n"
     ]
    },
    {
     "data": {
      "text/html": [
       "<div>\n",
       "<style>\n",
       "    .dataframe thead tr:only-child th {\n",
       "        text-align: right;\n",
       "    }\n",
       "\n",
       "    .dataframe thead th {\n",
       "        text-align: left;\n",
       "    }\n",
       "\n",
       "    .dataframe tbody tr th {\n",
       "        vertical-align: top;\n",
       "    }\n",
       "</style>\n",
       "<table border=\"1\" class=\"dataframe\">\n",
       "  <thead>\n",
       "    <tr style=\"text-align: right;\">\n",
       "      <th></th>\n",
       "      <th>feature</th>\n",
       "      <th>importance</th>\n",
       "    </tr>\n",
       "  </thead>\n",
       "  <tbody>\n",
       "    <tr>\n",
       "      <th>1</th>\n",
       "      <td>Subway</td>\n",
       "      <td>0.072884</td>\n",
       "    </tr>\n",
       "    <tr>\n",
       "      <th>2</th>\n",
       "      <td>American Restaurant</td>\n",
       "      <td>0.064410</td>\n",
       "    </tr>\n",
       "    <tr>\n",
       "      <th>0</th>\n",
       "      <td>Office</td>\n",
       "      <td>0.063343</td>\n",
       "    </tr>\n",
       "    <tr>\n",
       "      <th>6</th>\n",
       "      <td>Train Station</td>\n",
       "      <td>0.059269</td>\n",
       "    </tr>\n",
       "    <tr>\n",
       "      <th>9</th>\n",
       "      <td>Home (private)</td>\n",
       "      <td>0.057667</td>\n",
       "    </tr>\n",
       "  </tbody>\n",
       "</table>\n",
       "</div>"
      ],
      "text/plain": [
       "               feature  importance\n",
       "1               Subway    0.072884\n",
       "2  American Restaurant    0.064410\n",
       "0               Office    0.063343\n",
       "6        Train Station    0.059269\n",
       "9       Home (private)    0.057667"
      ]
     },
     "execution_count": 691,
     "metadata": {},
     "output_type": "execute_result"
    }
   ],
   "source": [
    "rfclas = RandomForestClassifier(n_estimators=150, max_features=5, oob_score=True)\n",
    "\n",
    "X_train, X_test, y_train, y_test = train_test_split(X, y)\n",
    "rfclas.fit(X_train, y_train)\n",
    "y_predict = rfclas.predict(X_test)\n",
    "print('accuracy: ' + str(accuracy_score(y_test, y_predict)))\n",
    "\n",
    "pd.DataFrame({'feature':feature_cols, 'importance':rfclas.feature_importances_}).sort_values('importance', ascending=False).head()"
   ]
  },
  {
   "cell_type": "markdown",
   "metadata": {},
   "source": [
    "#### Hypothesis 1 conclusion\n",
    "- The first model I used was a decision tree, and then I tried implementing a random forest. What I found was that the decision tree was much easier to interpret due to its ability to pick out the most important features, rather than using all of the features. The accuracy was also almost exactly the same. From this I found that the most common places for a person to visit on the same day as a coffee shop are the park, Subway, a Sandwich Place (other than subway I presume), the Gym, and a Train Station."
   ]
  },
  {
   "cell_type": "markdown",
   "metadata": {},
   "source": [
    "<a id=\"hyp_2\"></a>"
   ]
  },
  {
   "cell_type": "markdown",
   "metadata": {},
   "source": [
    "### Hypothesis 2: compare various factors of each zip code to the check in count to find a linear relationship. If we can find a linear relationship, we can use this to determine the best zip code for maximizing coffee shop check-ins."
   ]
  },
  {
   "cell_type": "code",
   "execution_count": 692,
   "metadata": {},
   "outputs": [
    {
     "data": {
      "text/html": [
       "<div>\n",
       "<style>\n",
       "    .dataframe thead tr:only-child th {\n",
       "        text-align: right;\n",
       "    }\n",
       "\n",
       "    .dataframe thead th {\n",
       "        text-align: left;\n",
       "    }\n",
       "\n",
       "    .dataframe tbody tr th {\n",
       "        vertical-align: top;\n",
       "    }\n",
       "</style>\n",
       "<table border=\"1\" class=\"dataframe\">\n",
       "  <thead>\n",
       "    <tr style=\"text-align: right;\">\n",
       "      <th></th>\n",
       "      <th>zip_code</th>\n",
       "      <th>coffeeshop_counts</th>\n",
       "      <th>estimate_total</th>\n",
       "      <th>median_age</th>\n",
       "      <th>mean_income</th>\n",
       "      <th>percent_public_transport</th>\n",
       "    </tr>\n",
       "  </thead>\n",
       "  <tbody>\n",
       "    <tr>\n",
       "      <th>0</th>\n",
       "      <td>20001</td>\n",
       "      <td>942</td>\n",
       "      <td>44998</td>\n",
       "      <td>30.6</td>\n",
       "      <td>106670.0</td>\n",
       "      <td>0.353349</td>\n",
       "    </tr>\n",
       "    <tr>\n",
       "      <th>1</th>\n",
       "      <td>20002</td>\n",
       "      <td>172</td>\n",
       "      <td>59659</td>\n",
       "      <td>34.0</td>\n",
       "      <td>98792.0</td>\n",
       "      <td>0.361972</td>\n",
       "    </tr>\n",
       "    <tr>\n",
       "      <th>2</th>\n",
       "      <td>20003</td>\n",
       "      <td>225</td>\n",
       "      <td>29071</td>\n",
       "      <td>34.8</td>\n",
       "      <td>140336.0</td>\n",
       "      <td>0.401540</td>\n",
       "    </tr>\n",
       "    <tr>\n",
       "      <th>3</th>\n",
       "      <td>20004</td>\n",
       "      <td>148</td>\n",
       "      <td>1708</td>\n",
       "      <td>41.0</td>\n",
       "      <td>173373.0</td>\n",
       "      <td>0.312452</td>\n",
       "    </tr>\n",
       "    <tr>\n",
       "      <th>4</th>\n",
       "      <td>20007</td>\n",
       "      <td>175</td>\n",
       "      <td>26415</td>\n",
       "      <td>33.2</td>\n",
       "      <td>180698.0</td>\n",
       "      <td>0.233151</td>\n",
       "    </tr>\n",
       "    <tr>\n",
       "      <th>5</th>\n",
       "      <td>20008</td>\n",
       "      <td>14</td>\n",
       "      <td>28261</td>\n",
       "      <td>37.1</td>\n",
       "      <td>164615.0</td>\n",
       "      <td>0.477948</td>\n",
       "    </tr>\n",
       "    <tr>\n",
       "      <th>6</th>\n",
       "      <td>20009</td>\n",
       "      <td>97</td>\n",
       "      <td>51508</td>\n",
       "      <td>32.3</td>\n",
       "      <td>121153.0</td>\n",
       "      <td>0.433303</td>\n",
       "    </tr>\n",
       "    <tr>\n",
       "      <th>7</th>\n",
       "      <td>20010</td>\n",
       "      <td>101</td>\n",
       "      <td>32421</td>\n",
       "      <td>32.0</td>\n",
       "      <td>92937.0</td>\n",
       "      <td>0.504061</td>\n",
       "    </tr>\n",
       "    <tr>\n",
       "      <th>8</th>\n",
       "      <td>20017</td>\n",
       "      <td>41</td>\n",
       "      <td>20371</td>\n",
       "      <td>37.5</td>\n",
       "      <td>81027.0</td>\n",
       "      <td>0.388251</td>\n",
       "    </tr>\n",
       "    <tr>\n",
       "      <th>9</th>\n",
       "      <td>20024</td>\n",
       "      <td>1</td>\n",
       "      <td>12183</td>\n",
       "      <td>38.2</td>\n",
       "      <td>90712.0</td>\n",
       "      <td>0.441809</td>\n",
       "    </tr>\n",
       "    <tr>\n",
       "      <th>10</th>\n",
       "      <td>20036</td>\n",
       "      <td>364</td>\n",
       "      <td>5655</td>\n",
       "      <td>32.7</td>\n",
       "      <td>108420.0</td>\n",
       "      <td>0.363870</td>\n",
       "    </tr>\n",
       "    <tr>\n",
       "      <th>11</th>\n",
       "      <td>20037</td>\n",
       "      <td>98</td>\n",
       "      <td>15285</td>\n",
       "      <td>26.7</td>\n",
       "      <td>137690.0</td>\n",
       "      <td>0.284997</td>\n",
       "    </tr>\n",
       "  </tbody>\n",
       "</table>\n",
       "</div>"
      ],
      "text/plain": [
       "   zip_code  coffeeshop_counts  estimate_total  median_age  mean_income  \\\n",
       "0     20001                942           44998        30.6     106670.0   \n",
       "1     20002                172           59659        34.0      98792.0   \n",
       "2     20003                225           29071        34.8     140336.0   \n",
       "3     20004                148            1708        41.0     173373.0   \n",
       "4     20007                175           26415        33.2     180698.0   \n",
       "5     20008                 14           28261        37.1     164615.0   \n",
       "6     20009                 97           51508        32.3     121153.0   \n",
       "7     20010                101           32421        32.0      92937.0   \n",
       "8     20017                 41           20371        37.5      81027.0   \n",
       "9     20024                  1           12183        38.2      90712.0   \n",
       "10    20036                364            5655        32.7     108420.0   \n",
       "11    20037                 98           15285        26.7     137690.0   \n",
       "\n",
       "    percent_public_transport  \n",
       "0                   0.353349  \n",
       "1                   0.361972  \n",
       "2                   0.401540  \n",
       "3                   0.312452  \n",
       "4                   0.233151  \n",
       "5                   0.477948  \n",
       "6                   0.433303  \n",
       "7                   0.504061  \n",
       "8                   0.388251  \n",
       "9                   0.441809  \n",
       "10                  0.363870  \n",
       "11                  0.284997  "
      ]
     },
     "execution_count": 692,
     "metadata": {},
     "output_type": "execute_result"
    }
   ],
   "source": [
    "checkins_and_zipdata_df"
   ]
  },
  {
   "cell_type": "code",
   "execution_count": 693,
   "metadata": {},
   "outputs": [
    {
     "data": {
      "text/plain": [
       "coffeeshop_counts           1.000000\n",
       "estimate_total              0.244147\n",
       "median_age                 -0.362762\n",
       "mean_income                -0.108608\n",
       "percent_public_transport   -0.244719\n",
       "Name: coffeeshop_counts, dtype: float64"
      ]
     },
     "execution_count": 693,
     "metadata": {},
     "output_type": "execute_result"
    }
   ],
   "source": [
    "checkins_and_zipdata_df.corr().coffeeshop_counts"
   ]
  },
  {
   "cell_type": "code",
   "execution_count": 694,
   "metadata": {},
   "outputs": [
    {
     "data": {
      "text/plain": [
       "LinearRegression(copy_X=True, fit_intercept=True, n_jobs=1, normalize=False)"
      ]
     },
     "execution_count": 694,
     "metadata": {},
     "output_type": "execute_result"
    }
   ],
   "source": [
    "from sklearn.linear_model import LinearRegression\n",
    "feature_cols = ['estimate_total', 'median_age', 'mean_income', 'percent_public_transport']\n",
    "\n",
    "X = checkins_and_zipdata_df[feature_cols]\n",
    "y = checkins_and_zipdata_df.coffeeshop_counts\n",
    "\n",
    "lr = LinearRegression()\n",
    "lr.fit(X, y)"
   ]
  },
  {
   "cell_type": "code",
   "execution_count": 695,
   "metadata": {
    "scrolled": true
   },
   "outputs": [
    {
     "data": {
      "text/plain": [
       "[('estimate_total', 0.0029074153871758894),\n",
       " ('median_age', -12.929857508771683),\n",
       " ('mean_income', -0.0014136747322612395),\n",
       " ('percent_public_transport', -1080.950452416598)]"
      ]
     },
     "execution_count": 695,
     "metadata": {},
     "output_type": "execute_result"
    }
   ],
   "source": [
    "list(zip(feature_cols, lr.coef_))"
   ]
  },
  {
   "cell_type": "markdown",
   "metadata": {},
   "source": [
    "#### Hypothesis 2 conclusion\n",
    "- Based on the coefficients and correlations found from the above linear regression model, of the listed features age is the most significant factor in coffee shop checkins. For every additional year on the median age, coffee shop check-ins goes down by 20. Therefor, I should look for the zip code with the lowest median age."
   ]
  },
  {
   "cell_type": "markdown",
   "metadata": {},
   "source": [
    "## Machine Learning Conclusion\n",
    "- Based on the results of the models executed in this section, I am looking for the zip code with the greatest presense of parks and sandwich shops, with the lowest median age."
   ]
  },
  {
   "cell_type": "markdown",
   "metadata": {},
   "source": [
    "<a id=\"conclusion\"></a>"
   ]
  },
  {
   "cell_type": "markdown",
   "metadata": {},
   "source": [
    "## Conclusion"
   ]
  },
  {
   "cell_type": "code",
   "execution_count": 696,
   "metadata": {
    "collapsed": true
   },
   "outputs": [],
   "source": [
    "find_best_zip = businesses_df[businesses_df.categories.str.contains('Sandwich')].groupby('zip_code').agg('count').name.reset_index(name=\"sandwich\")\n",
    "find_best_zip = find_best_zip.merge(businesses_df[businesses_df.categories.str.contains('Park')].groupby('zip_code').agg('count').name.reset_index(name=\"park\"))\n",
    "\n",
    "# since the model revealed that these two categories are weighted similarly,\n",
    "# I'll just add them.\n",
    "find_best_zip['total'] = find_best_zip['sandwich'] + find_best_zip['park']\n",
    "find_best_zip = find_best_zip.merge(businesses_df[businesses_df.categories.str.contains('Coffee')].groupby('zip_code').agg('count').name.reset_index(name=\"coffee\"))"
   ]
  },
  {
   "cell_type": "code",
   "execution_count": 697,
   "metadata": {},
   "outputs": [
    {
     "data": {
      "text/html": [
       "<div>\n",
       "<style>\n",
       "    .dataframe thead tr:only-child th {\n",
       "        text-align: right;\n",
       "    }\n",
       "\n",
       "    .dataframe thead th {\n",
       "        text-align: left;\n",
       "    }\n",
       "\n",
       "    .dataframe tbody tr th {\n",
       "        vertical-align: top;\n",
       "    }\n",
       "</style>\n",
       "<table border=\"1\" class=\"dataframe\">\n",
       "  <thead>\n",
       "    <tr style=\"text-align: right;\">\n",
       "      <th></th>\n",
       "      <th>zip_code</th>\n",
       "      <th>sandwich</th>\n",
       "      <th>park</th>\n",
       "      <th>total</th>\n",
       "      <th>coffee</th>\n",
       "    </tr>\n",
       "  </thead>\n",
       "  <tbody>\n",
       "    <tr>\n",
       "      <th>0</th>\n",
       "      <td>20001</td>\n",
       "      <td>54</td>\n",
       "      <td>8</td>\n",
       "      <td>62</td>\n",
       "      <td>43</td>\n",
       "    </tr>\n",
       "    <tr>\n",
       "      <th>5</th>\n",
       "      <td>20006</td>\n",
       "      <td>34</td>\n",
       "      <td>5</td>\n",
       "      <td>39</td>\n",
       "      <td>31</td>\n",
       "    </tr>\n",
       "    <tr>\n",
       "      <th>4</th>\n",
       "      <td>20005</td>\n",
       "      <td>36</td>\n",
       "      <td>2</td>\n",
       "      <td>38</td>\n",
       "      <td>33</td>\n",
       "    </tr>\n",
       "    <tr>\n",
       "      <th>8</th>\n",
       "      <td>20009</td>\n",
       "      <td>30</td>\n",
       "      <td>4</td>\n",
       "      <td>34</td>\n",
       "      <td>41</td>\n",
       "    </tr>\n",
       "    <tr>\n",
       "      <th>1</th>\n",
       "      <td>20002</td>\n",
       "      <td>28</td>\n",
       "      <td>5</td>\n",
       "      <td>33</td>\n",
       "      <td>33</td>\n",
       "    </tr>\n",
       "    <tr>\n",
       "      <th>2</th>\n",
       "      <td>20003</td>\n",
       "      <td>22</td>\n",
       "      <td>9</td>\n",
       "      <td>31</td>\n",
       "      <td>20</td>\n",
       "    </tr>\n",
       "    <tr>\n",
       "      <th>16</th>\n",
       "      <td>20024</td>\n",
       "      <td>21</td>\n",
       "      <td>7</td>\n",
       "      <td>28</td>\n",
       "      <td>15</td>\n",
       "    </tr>\n",
       "    <tr>\n",
       "      <th>3</th>\n",
       "      <td>20004</td>\n",
       "      <td>23</td>\n",
       "      <td>1</td>\n",
       "      <td>24</td>\n",
       "      <td>20</td>\n",
       "    </tr>\n",
       "    <tr>\n",
       "      <th>6</th>\n",
       "      <td>20007</td>\n",
       "      <td>18</td>\n",
       "      <td>6</td>\n",
       "      <td>24</td>\n",
       "      <td>20</td>\n",
       "    </tr>\n",
       "    <tr>\n",
       "      <th>18</th>\n",
       "      <td>20036</td>\n",
       "      <td>21</td>\n",
       "      <td>1</td>\n",
       "      <td>22</td>\n",
       "      <td>27</td>\n",
       "    </tr>\n",
       "  </tbody>\n",
       "</table>\n",
       "</div>"
      ],
      "text/plain": [
       "   zip_code  sandwich  park  total  coffee\n",
       "0     20001        54     8     62      43\n",
       "5     20006        34     5     39      31\n",
       "4     20005        36     2     38      33\n",
       "8     20009        30     4     34      41\n",
       "1     20002        28     5     33      33\n",
       "2     20003        22     9     31      20\n",
       "16    20024        21     7     28      15\n",
       "3     20004        23     1     24      20\n",
       "6     20007        18     6     24      20\n",
       "18    20036        21     1     22      27"
      ]
     },
     "execution_count": 697,
     "metadata": {},
     "output_type": "execute_result"
    }
   ],
   "source": [
    "find_best_zip.sort_values('total', ascending=False).head(10)"
   ]
  },
  {
   "cell_type": "code",
   "execution_count": 698,
   "metadata": {
    "collapsed": true
   },
   "outputs": [],
   "source": [
    "# add the median age\n",
    "find_best_zip = find_best_zip.merge(zipfeatures_df[['zip_code', 'median_age']])"
   ]
  },
  {
   "cell_type": "code",
   "execution_count": 699,
   "metadata": {},
   "outputs": [
    {
     "data": {
      "text/html": [
       "<div>\n",
       "<style>\n",
       "    .dataframe thead tr:only-child th {\n",
       "        text-align: right;\n",
       "    }\n",
       "\n",
       "    .dataframe thead th {\n",
       "        text-align: left;\n",
       "    }\n",
       "\n",
       "    .dataframe tbody tr th {\n",
       "        vertical-align: top;\n",
       "    }\n",
       "</style>\n",
       "<table border=\"1\" class=\"dataframe\">\n",
       "  <thead>\n",
       "    <tr style=\"text-align: right;\">\n",
       "      <th></th>\n",
       "      <th>zip_code</th>\n",
       "      <th>sandwich</th>\n",
       "      <th>park</th>\n",
       "      <th>total</th>\n",
       "      <th>coffee</th>\n",
       "      <th>median_age</th>\n",
       "    </tr>\n",
       "  </thead>\n",
       "  <tbody>\n",
       "    <tr>\n",
       "      <th>0</th>\n",
       "      <td>20001</td>\n",
       "      <td>54</td>\n",
       "      <td>8</td>\n",
       "      <td>62</td>\n",
       "      <td>43</td>\n",
       "      <td>30.6</td>\n",
       "    </tr>\n",
       "    <tr>\n",
       "      <th>5</th>\n",
       "      <td>20006</td>\n",
       "      <td>34</td>\n",
       "      <td>5</td>\n",
       "      <td>39</td>\n",
       "      <td>31</td>\n",
       "      <td>20.6</td>\n",
       "    </tr>\n",
       "    <tr>\n",
       "      <th>4</th>\n",
       "      <td>20005</td>\n",
       "      <td>36</td>\n",
       "      <td>2</td>\n",
       "      <td>38</td>\n",
       "      <td>33</td>\n",
       "      <td>33.8</td>\n",
       "    </tr>\n",
       "    <tr>\n",
       "      <th>8</th>\n",
       "      <td>20009</td>\n",
       "      <td>30</td>\n",
       "      <td>4</td>\n",
       "      <td>34</td>\n",
       "      <td>41</td>\n",
       "      <td>32.3</td>\n",
       "    </tr>\n",
       "    <tr>\n",
       "      <th>1</th>\n",
       "      <td>20002</td>\n",
       "      <td>28</td>\n",
       "      <td>5</td>\n",
       "      <td>33</td>\n",
       "      <td>33</td>\n",
       "      <td>34.0</td>\n",
       "    </tr>\n",
       "    <tr>\n",
       "      <th>2</th>\n",
       "      <td>20003</td>\n",
       "      <td>22</td>\n",
       "      <td>9</td>\n",
       "      <td>31</td>\n",
       "      <td>20</td>\n",
       "      <td>34.8</td>\n",
       "    </tr>\n",
       "    <tr>\n",
       "      <th>16</th>\n",
       "      <td>20024</td>\n",
       "      <td>21</td>\n",
       "      <td>7</td>\n",
       "      <td>28</td>\n",
       "      <td>15</td>\n",
       "      <td>38.2</td>\n",
       "    </tr>\n",
       "    <tr>\n",
       "      <th>3</th>\n",
       "      <td>20004</td>\n",
       "      <td>23</td>\n",
       "      <td>1</td>\n",
       "      <td>24</td>\n",
       "      <td>20</td>\n",
       "      <td>41.0</td>\n",
       "    </tr>\n",
       "    <tr>\n",
       "      <th>6</th>\n",
       "      <td>20007</td>\n",
       "      <td>18</td>\n",
       "      <td>6</td>\n",
       "      <td>24</td>\n",
       "      <td>20</td>\n",
       "      <td>33.2</td>\n",
       "    </tr>\n",
       "    <tr>\n",
       "      <th>18</th>\n",
       "      <td>20036</td>\n",
       "      <td>21</td>\n",
       "      <td>1</td>\n",
       "      <td>22</td>\n",
       "      <td>27</td>\n",
       "      <td>32.7</td>\n",
       "    </tr>\n",
       "  </tbody>\n",
       "</table>\n",
       "</div>"
      ],
      "text/plain": [
       "   zip_code  sandwich  park  total  coffee  median_age\n",
       "0     20001        54     8     62      43        30.6\n",
       "5     20006        34     5     39      31        20.6\n",
       "4     20005        36     2     38      33        33.8\n",
       "8     20009        30     4     34      41        32.3\n",
       "1     20002        28     5     33      33        34.0\n",
       "2     20003        22     9     31      20        34.8\n",
       "16    20024        21     7     28      15        38.2\n",
       "3     20004        23     1     24      20        41.0\n",
       "6     20007        18     6     24      20        33.2\n",
       "18    20036        21     1     22      27        32.7"
      ]
     },
     "execution_count": 699,
     "metadata": {},
     "output_type": "execute_result"
    }
   ],
   "source": [
    "find_best_zip.sort_values('total', ascending=False).head(10)"
   ]
  },
  {
   "cell_type": "markdown",
   "metadata": {},
   "source": [
    "It is tempting to go with the 20001 zip code, but we can see that there are already 43 coffee shops in this area, and the median age is significantly higher than the next row down. 20006 has a significant number of parks and sandwich shops, and a relatively low number of coffee shops. It also has the lowest median age on the list. For these reasons, I have selected the 20006 zip code."
   ]
  },
  {
   "cell_type": "code",
   "execution_count": 700,
   "metadata": {
    "collapsed": true
   },
   "outputs": [],
   "source": [
    "businesses_20006zip_df = businesses_df[(businesses_df.categories.str.contains('Coffee')) & \n",
    "              (businesses_df.zip_code.isin(['20006', '20036']))]"
   ]
  },
  {
   "cell_type": "markdown",
   "metadata": {},
   "source": [
    "At this point I ran into an issue that I did not anticipate. There were no suitable properties available in 20006, as far as I could find. That being said, just a few blocks north is 20036. The data above for 20036 is not as ideal, but the median age is still relatively low, and it's close enough to 20006. I found several properties in this location, and chose the one denoted with a red mark below."
   ]
  },
  {
   "cell_type": "code",
   "execution_count": 701,
   "metadata": {},
   "outputs": [
    {
     "data": {
      "text/html": [
       "<div style=\"width:100%;\"><div style=\"position:relative;width:100%;height:0;padding-bottom:60%;\"><iframe src=\"data:text/html;charset=utf-8;base64,PCFET0NUWVBFIGh0bWw+CjxoZWFkPiAgICAKICAgIDxtZXRhIGh0dHAtZXF1aXY9ImNvbnRlbnQtdHlwZSIgY29udGVudD0idGV4dC9odG1sOyBjaGFyc2V0PVVURi04IiAvPgogICAgPHNjcmlwdD5MX1BSRUZFUl9DQU5WQVMgPSBmYWxzZTsgTF9OT19UT1VDSCA9IGZhbHNlOyBMX0RJU0FCTEVfM0QgPSBmYWxzZTs8L3NjcmlwdD4KICAgIDxzY3JpcHQgc3JjPSJodHRwczovL2Nkbi5qc2RlbGl2ci5uZXQvbnBtL2xlYWZsZXRAMS4yLjAvZGlzdC9sZWFmbGV0LmpzIj48L3NjcmlwdD4KICAgIDxzY3JpcHQgc3JjPSJodHRwczovL2FqYXguZ29vZ2xlYXBpcy5jb20vYWpheC9saWJzL2pxdWVyeS8xLjExLjEvanF1ZXJ5Lm1pbi5qcyI+PC9zY3JpcHQ+CiAgICA8c2NyaXB0IHNyYz0iaHR0cHM6Ly9tYXhjZG4uYm9vdHN0cmFwY2RuLmNvbS9ib290c3RyYXAvMy4yLjAvanMvYm9vdHN0cmFwLm1pbi5qcyI+PC9zY3JpcHQ+CiAgICA8c2NyaXB0IHNyYz0iaHR0cHM6Ly9jZG5qcy5jbG91ZGZsYXJlLmNvbS9hamF4L2xpYnMvTGVhZmxldC5hd2Vzb21lLW1hcmtlcnMvMi4wLjIvbGVhZmxldC5hd2Vzb21lLW1hcmtlcnMuanMiPjwvc2NyaXB0PgogICAgPGxpbmsgcmVsPSJzdHlsZXNoZWV0IiBocmVmPSJodHRwczovL2Nkbi5qc2RlbGl2ci5uZXQvbnBtL2xlYWZsZXRAMS4yLjAvZGlzdC9sZWFmbGV0LmNzcyIvPgogICAgPGxpbmsgcmVsPSJzdHlsZXNoZWV0IiBocmVmPSJodHRwczovL21heGNkbi5ib290c3RyYXBjZG4uY29tL2Jvb3RzdHJhcC8zLjIuMC9jc3MvYm9vdHN0cmFwLm1pbi5jc3MiLz4KICAgIDxsaW5rIHJlbD0ic3R5bGVzaGVldCIgaHJlZj0iaHR0cHM6Ly9tYXhjZG4uYm9vdHN0cmFwY2RuLmNvbS9ib290c3RyYXAvMy4yLjAvY3NzL2Jvb3RzdHJhcC10aGVtZS5taW4uY3NzIi8+CiAgICA8bGluayByZWw9InN0eWxlc2hlZXQiIGhyZWY9Imh0dHBzOi8vbWF4Y2RuLmJvb3RzdHJhcGNkbi5jb20vZm9udC1hd2Vzb21lLzQuNi4zL2Nzcy9mb250LWF3ZXNvbWUubWluLmNzcyIvPgogICAgPGxpbmsgcmVsPSJzdHlsZXNoZWV0IiBocmVmPSJodHRwczovL2NkbmpzLmNsb3VkZmxhcmUuY29tL2FqYXgvbGlicy9MZWFmbGV0LmF3ZXNvbWUtbWFya2Vycy8yLjAuMi9sZWFmbGV0LmF3ZXNvbWUtbWFya2Vycy5jc3MiLz4KICAgIDxsaW5rIHJlbD0ic3R5bGVzaGVldCIgaHJlZj0iaHR0cHM6Ly9yYXdnaXQuY29tL3B5dGhvbi12aXN1YWxpemF0aW9uL2ZvbGl1bS9tYXN0ZXIvZm9saXVtL3RlbXBsYXRlcy9sZWFmbGV0LmF3ZXNvbWUucm90YXRlLmNzcyIvPgogICAgPHN0eWxlPmh0bWwsIGJvZHkge3dpZHRoOiAxMDAlO2hlaWdodDogMTAwJTttYXJnaW46IDA7cGFkZGluZzogMDt9PC9zdHlsZT4KICAgIDxzdHlsZT4jbWFwIHtwb3NpdGlvbjphYnNvbHV0ZTt0b3A6MDtib3R0b206MDtyaWdodDowO2xlZnQ6MDt9PC9zdHlsZT4KICAgIAogICAgICAgICAgICA8c3R5bGU+ICNtYXBfZGVmNTI1ZTRmZTQzNGI2MmEwY2RhZjUyNTJhM2RlYjMgewogICAgICAgICAgICAgICAgcG9zaXRpb24gOiByZWxhdGl2ZTsKICAgICAgICAgICAgICAgIHdpZHRoIDogMTAwLjAlOwogICAgICAgICAgICAgICAgaGVpZ2h0OiAxMDAuMCU7CiAgICAgICAgICAgICAgICBsZWZ0OiAwLjAlOwogICAgICAgICAgICAgICAgdG9wOiAwLjAlOwogICAgICAgICAgICAgICAgfQogICAgICAgICAgICA8L3N0eWxlPgogICAgICAgIAo8L2hlYWQ+Cjxib2R5PiAgICAKICAgIAogICAgICAgICAgICA8ZGl2IGNsYXNzPSJmb2xpdW0tbWFwIiBpZD0ibWFwX2RlZjUyNWU0ZmU0MzRiNjJhMGNkYWY1MjUyYTNkZWIzIiA+PC9kaXY+CiAgICAgICAgCjwvYm9keT4KPHNjcmlwdD4gICAgCiAgICAKCiAgICAgICAgICAgIAogICAgICAgICAgICAgICAgdmFyIGJvdW5kcyA9IG51bGw7CiAgICAgICAgICAgIAoKICAgICAgICAgICAgdmFyIG1hcF9kZWY1MjVlNGZlNDM0YjYyYTBjZGFmNTI1MmEzZGViMyA9IEwubWFwKAogICAgICAgICAgICAgICAgICAgICAgICAgICAgICAgICAgJ21hcF9kZWY1MjVlNGZlNDM0YjYyYTBjZGFmNTI1MmEzZGViMycsCiAgICAgICAgICAgICAgICAgICAgICAgICAgICAgICAgICB7Y2VudGVyOiBbMzguOTA0MjY1LC03Ny4wNDE2NTZdLAogICAgICAgICAgICAgICAgICAgICAgICAgICAgICAgICAgem9vbTogMTUsCiAgICAgICAgICAgICAgICAgICAgICAgICAgICAgICAgICBtYXhCb3VuZHM6IGJvdW5kcywKICAgICAgICAgICAgICAgICAgICAgICAgICAgICAgICAgIGxheWVyczogW10sCiAgICAgICAgICAgICAgICAgICAgICAgICAgICAgICAgICB3b3JsZENvcHlKdW1wOiBmYWxzZSwKICAgICAgICAgICAgICAgICAgICAgICAgICAgICAgICAgIGNyczogTC5DUlMuRVBTRzM4NTcKICAgICAgICAgICAgICAgICAgICAgICAgICAgICAgICAgfSk7CiAgICAgICAgICAgIAogICAgICAgIAogICAgCiAgICAgICAgICAgIHZhciB0aWxlX2xheWVyX2ZjY2RmMjMyN2EwZjQxMDI5ZmYyZmJkOTZlYmI0YzYxID0gTC50aWxlTGF5ZXIoCiAgICAgICAgICAgICAgICAnaHR0cHM6Ly97c30udGlsZS5vcGVuc3RyZWV0bWFwLm9yZy97en0ve3h9L3t5fS5wbmcnLAogICAgICAgICAgICAgICAgewogICJhdHRyaWJ1dGlvbiI6IG51bGwsCiAgImRldGVjdFJldGluYSI6IGZhbHNlLAogICJtYXhab29tIjogMTgsCiAgIm1pblpvb20iOiAxLAogICJub1dyYXAiOiBmYWxzZSwKICAic3ViZG9tYWlucyI6ICJhYmMiCn0KICAgICAgICAgICAgICAgICkuYWRkVG8obWFwX2RlZjUyNWU0ZmU0MzRiNjJhMGNkYWY1MjUyYTNkZWIzKTsKICAgICAgICAKICAgIAoKICAgICAgICAgICAgdmFyIG1hcmtlcl9hYWNjNTZlYjk0NmI0MjRlYTIyMWMwYWU2MTQ1MjZlMSA9IEwubWFya2VyKAogICAgICAgICAgICAgICAgWzM4LjkwMDMxMywtNzcuMDQ0NTMzXSwKICAgICAgICAgICAgICAgIHsKICAgICAgICAgICAgICAgICAgICBpY29uOiBuZXcgTC5JY29uLkRlZmF1bHQoKQogICAgICAgICAgICAgICAgICAgIH0KICAgICAgICAgICAgICAgICkKICAgICAgICAgICAgICAgIC5hZGRUbyhtYXBfZGVmNTI1ZTRmZTQzNGI2MmEwY2RhZjUyNTJhM2RlYjMpOwogICAgICAgICAgICAKICAgIAogICAgICAgICAgICB2YXIgcG9wdXBfYjFhZTE0OGU0NjE4NDVkNTk1YjFmMDlkNGY1ODIyMmYgPSBMLnBvcHVwKHttYXhXaWR0aDogJzMwMCd9KTsKCiAgICAgICAgICAgIAogICAgICAgICAgICAgICAgdmFyIGh0bWxfYTYyNzk3NzdiNGFiNDdhN2IxMmE5YTExMGIzOGNmMjUgPSAkKCc8ZGl2IGlkPSJodG1sX2E2Mjc5Nzc3YjRhYjQ3YTdiMTJhOWExMTBiMzhjZjI1IiBzdHlsZT0id2lkdGg6IDEwMC4wJTsgaGVpZ2h0OiAxMDAuMCU7Ij5Gb3VuZGluZyBGYXJtZXJzIC0gREM8L2Rpdj4nKVswXTsKICAgICAgICAgICAgICAgIHBvcHVwX2IxYWUxNDhlNDYxODQ1ZDU5NWIxZjA5ZDRmNTgyMjJmLnNldENvbnRlbnQoaHRtbF9hNjI3OTc3N2I0YWI0N2E3YjEyYTlhMTEwYjM4Y2YyNSk7CiAgICAgICAgICAgIAoKICAgICAgICAgICAgbWFya2VyX2FhY2M1NmViOTQ2YjQyNGVhMjIxYzBhZTYxNDUyNmUxLmJpbmRQb3B1cChwb3B1cF9iMWFlMTQ4ZTQ2MTg0NWQ1OTViMWYwOWQ0ZjU4MjIyZik7CgogICAgICAgICAgICAKICAgICAgICAKICAgIAoKICAgICAgICAgICAgdmFyIG1hcmtlcl80YzlhOWQyOTFhNzg0YzhiODdmYzM2ZDk2N2I3ODVhZiA9IEwubWFya2VyKAogICAgICAgICAgICAgICAgWzM4LjkwMTE0MDAwMDAwMDAwNSwtNzcuMDQ0NzFdLAogICAgICAgICAgICAgICAgewogICAgICAgICAgICAgICAgICAgIGljb246IG5ldyBMLkljb24uRGVmYXVsdCgpCiAgICAgICAgICAgICAgICAgICAgfQogICAgICAgICAgICAgICAgKQogICAgICAgICAgICAgICAgLmFkZFRvKG1hcF9kZWY1MjVlNGZlNDM0YjYyYTBjZGFmNTI1MmEzZGViMyk7CiAgICAgICAgICAgIAogICAgCiAgICAgICAgICAgIHZhciBwb3B1cF9lMzIwNTk4MTk0MmE0MWE2ODg4MTFlMDc4YTgzM2JkMyA9IEwucG9wdXAoe21heFdpZHRoOiAnMzAwJ30pOwoKICAgICAgICAgICAgCiAgICAgICAgICAgICAgICB2YXIgaHRtbF83MWRkNmU5ODAxNmU0MmVjOGNjNDRjZDUwMDIzNjNkNCA9ICQoJzxkaXYgaWQ9Imh0bWxfNzFkZDZlOTgwMTZlNDJlYzhjYzQ0Y2Q1MDAyMzYzZDQiIHN0eWxlPSJ3aWR0aDogMTAwLjAlOyBoZWlnaHQ6IDEwMC4wJTsiPkJvbiBNYXRjaGE8L2Rpdj4nKVswXTsKICAgICAgICAgICAgICAgIHBvcHVwX2UzMjA1OTgxOTQyYTQxYTY4ODgxMWUwNzhhODMzYmQzLnNldENvbnRlbnQoaHRtbF83MWRkNmU5ODAxNmU0MmVjOGNjNDRjZDUwMDIzNjNkNCk7CiAgICAgICAgICAgIAoKICAgICAgICAgICAgbWFya2VyXzRjOWE5ZDI5MWE3ODRjOGI4N2ZjMzZkOTY3Yjc4NWFmLmJpbmRQb3B1cChwb3B1cF9lMzIwNTk4MTk0MmE0MWE2ODg4MTFlMDc4YTgzM2JkMyk7CgogICAgICAgICAgICAKICAgICAgICAKICAgIAoKICAgICAgICAgICAgdmFyIG1hcmtlcl8xNzFkOTZmZWMyNTI0N2JhYTFiMGIwYzhhZTk3NTk2MyA9IEwubWFya2VyKAogICAgICAgICAgICAgICAgWzM4LjkwNDEyNzkxOTE1NDg5NSwtNzcuMDM4MjUwNDgxMTQwOV0sCiAgICAgICAgICAgICAgICB7CiAgICAgICAgICAgICAgICAgICAgaWNvbjogbmV3IEwuSWNvbi5EZWZhdWx0KCkKICAgICAgICAgICAgICAgICAgICB9CiAgICAgICAgICAgICAgICApCiAgICAgICAgICAgICAgICAuYWRkVG8obWFwX2RlZjUyNWU0ZmU0MzRiNjJhMGNkYWY1MjUyYTNkZWIzKTsKICAgICAgICAgICAgCiAgICAKICAgICAgICAgICAgdmFyIHBvcHVwXzVjZjlkMTlhYWI3NDQ4ODk4MWNiMDllY2QxY2ZmNDhjID0gTC5wb3B1cCh7bWF4V2lkdGg6ICczMDAnfSk7CgogICAgICAgICAgICAKICAgICAgICAgICAgICAgIHZhciBodG1sXzY3NDVlNzYxZGVkNTQyYmJhMWNhMTcyMDEyYmUyZjEyID0gJCgnPGRpdiBpZD0iaHRtbF82NzQ1ZTc2MWRlZDU0MmJiYTFjYTE3MjAxMmJlMmYxMiIgc3R5bGU9IndpZHRoOiAxMDAuMCU7IGhlaWdodDogMTAwLjAlOyI+Q2l0eSBQbGFjZSBDYWZlPC9kaXY+JylbMF07CiAgICAgICAgICAgICAgICBwb3B1cF81Y2Y5ZDE5YWFiNzQ0ODg5ODFjYjA5ZWNkMWNmZjQ4Yy5zZXRDb250ZW50KGh0bWxfNjc0NWU3NjFkZWQ1NDJiYmExY2ExNzIwMTJiZTJmMTIpOwogICAgICAgICAgICAKCiAgICAgICAgICAgIG1hcmtlcl8xNzFkOTZmZWMyNTI0N2JhYTFiMGIwYzhhZTk3NTk2My5iaW5kUG9wdXAocG9wdXBfNWNmOWQxOWFhYjc0NDg4OTgxY2IwOWVjZDFjZmY0OGMpOwoKICAgICAgICAgICAgCiAgICAgICAgCiAgICAKCiAgICAgICAgICAgIHZhciBtYXJrZXJfNzRhMjNlODkxNjkxNGQ2OThiYTQ3NThjNTY0NzNkY2IgPSBMLm1hcmtlcigKICAgICAgICAgICAgICAgIFszOC45MDE0NjQ5LC03Ny4wNDIyMzY0MDAwMDAwMV0sCiAgICAgICAgICAgICAgICB7CiAgICAgICAgICAgICAgICAgICAgaWNvbjogbmV3IEwuSWNvbi5EZWZhdWx0KCkKICAgICAgICAgICAgICAgICAgICB9CiAgICAgICAgICAgICAgICApCiAgICAgICAgICAgICAgICAuYWRkVG8obWFwX2RlZjUyNWU0ZmU0MzRiNjJhMGNkYWY1MjUyYTNkZWIzKTsKICAgICAgICAgICAgCiAgICAKICAgICAgICAgICAgdmFyIHBvcHVwXzQ0NjM5MjdjZjA1YTQ5MDNiZTljNjQyODhjNDcwYTE1ID0gTC5wb3B1cCh7bWF4V2lkdGg6ICczMDAnfSk7CgogICAgICAgICAgICAKICAgICAgICAgICAgICAgIHZhciBodG1sX2Y3OWNjZTUyOGNhMTRiOTViMGYxN2RkYzY5NjViOTAyID0gJCgnPGRpdiBpZD0iaHRtbF9mNzljY2U1MjhjYTE0Yjk1YjBmMTdkZGM2OTY1YjkwMiIgc3R5bGU9IndpZHRoOiAxMDAuMCU7IGhlaWdodDogMTAwLjAlOyI+UHJldCBBIE1hbmdlcjwvZGl2PicpWzBdOwogICAgICAgICAgICAgICAgcG9wdXBfNDQ2MzkyN2NmMDVhNDkwM2JlOWM2NDI4OGM0NzBhMTUuc2V0Q29udGVudChodG1sX2Y3OWNjZTUyOGNhMTRiOTViMGYxN2RkYzY5NjViOTAyKTsKICAgICAgICAgICAgCgogICAgICAgICAgICBtYXJrZXJfNzRhMjNlODkxNjkxNGQ2OThiYTQ3NThjNTY0NzNkY2IuYmluZFBvcHVwKHBvcHVwXzQ0NjM5MjdjZjA1YTQ5MDNiZTljNjQyODhjNDcwYTE1KTsKCiAgICAgICAgICAgIAogICAgICAgIAogICAgCgogICAgICAgICAgICB2YXIgbWFya2VyXzVlNTEzOTkwZWJhMTQ4MWVhNDNlNzAwZjYzZDUwN2IwID0gTC5tYXJrZXIoCiAgICAgICAgICAgICAgICBbMzguOTAxMTg3NjA1NDAyMSwtNzcuMDQ0MjgyMjQxNjA3OF0sCiAgICAgICAgICAgICAgICB7CiAgICAgICAgICAgICAgICAgICAgaWNvbjogbmV3IEwuSWNvbi5EZWZhdWx0KCkKICAgICAgICAgICAgICAgICAgICB9CiAgICAgICAgICAgICAgICApCiAgICAgICAgICAgICAgICAuYWRkVG8obWFwX2RlZjUyNWU0ZmU0MzRiNjJhMGNkYWY1MjUyYTNkZWIzKTsKICAgICAgICAgICAgCiAgICAKICAgICAgICAgICAgdmFyIHBvcHVwX2I1MTNkZTQ5OGJjYTRlYzliZjc5YzFjZmEyZGYwYjJjID0gTC5wb3B1cCh7bWF4V2lkdGg6ICczMDAnfSk7CgogICAgICAgICAgICAKICAgICAgICAgICAgICAgIHZhciBodG1sXzU5NTFhZDUwYWIzOTQ2M2I4MmY4N2RhMTY0OWNhMWU2ID0gJCgnPGRpdiBpZD0iaHRtbF81OTUxYWQ1MGFiMzk0NjNiODJmODdkYTE2NDljYTFlNiIgc3R5bGU9IndpZHRoOiAxMDAuMCU7IGhlaWdodDogMTAwLjAlOyI+RmlsdGVyIENvZmZlZWhvdXNlIEZvZ2d5IEJvdHRvbTwvZGl2PicpWzBdOwogICAgICAgICAgICAgICAgcG9wdXBfYjUxM2RlNDk4YmNhNGVjOWJmNzljMWNmYTJkZjBiMmMuc2V0Q29udGVudChodG1sXzU5NTFhZDUwYWIzOTQ2M2I4MmY4N2RhMTY0OWNhMWU2KTsKICAgICAgICAgICAgCgogICAgICAgICAgICBtYXJrZXJfNWU1MTM5OTBlYmExNDgxZWE0M2U3MDBmNjNkNTA3YjAuYmluZFBvcHVwKHBvcHVwX2I1MTNkZTQ5OGJjYTRlYzliZjc5YzFjZmEyZGYwYjJjKTsKCiAgICAgICAgICAgIAogICAgICAgIAogICAgCgogICAgICAgICAgICB2YXIgbWFya2VyXzAxYmFiMzEwZTBiZjRjM2Q4ZTJiYzRiMzk4OTdjOTU2ID0gTC5tYXJrZXIoCiAgICAgICAgICAgICAgICBbMzguOTAwOTIsLTc3LjA0MTI5XSwKICAgICAgICAgICAgICAgIHsKICAgICAgICAgICAgICAgICAgICBpY29uOiBuZXcgTC5JY29uLkRlZmF1bHQoKQogICAgICAgICAgICAgICAgICAgIH0KICAgICAgICAgICAgICAgICkKICAgICAgICAgICAgICAgIC5hZGRUbyhtYXBfZGVmNTI1ZTRmZTQzNGI2MmEwY2RhZjUyNTJhM2RlYjMpOwogICAgICAgICAgICAKICAgIAogICAgICAgICAgICB2YXIgcG9wdXBfOTgwMDE2NzQ4N2Y0NDczMGI3MDIwNThhNmEyMjJhYzkgPSBMLnBvcHVwKHttYXhXaWR0aDogJzMwMCd9KTsKCiAgICAgICAgICAgIAogICAgICAgICAgICAgICAgdmFyIGh0bWxfNWJjYTI5YWQ1NjU1NDQ3MjliODRjZDA0M2E2ODNmMmQgPSAkKCc8ZGl2IGlkPSJodG1sXzViY2EyOWFkNTY1NTQ0NzI5Yjg0Y2QwNDNhNjgzZjJkIiBzdHlsZT0id2lkdGg6IDEwMC4wJTsgaGVpZ2h0OiAxMDAuMCU7Ij5Db21wYXNzIENvZmZlZTwvZGl2PicpWzBdOwogICAgICAgICAgICAgICAgcG9wdXBfOTgwMDE2NzQ4N2Y0NDczMGI3MDIwNThhNmEyMjJhYzkuc2V0Q29udGVudChodG1sXzViY2EyOWFkNTY1NTQ0NzI5Yjg0Y2QwNDNhNjgzZjJkKTsKICAgICAgICAgICAgCgogICAgICAgICAgICBtYXJrZXJfMDFiYWIzMTBlMGJmNGMzZDhlMmJjNGIzOTg5N2M5NTYuYmluZFBvcHVwKHBvcHVwXzk4MDAxNjc0ODdmNDQ3MzBiNzAyMDU4YTZhMjIyYWM5KTsKCiAgICAgICAgICAgIAogICAgICAgIAogICAgCgogICAgICAgICAgICB2YXIgbWFya2VyX2E1MzRmYWRlNDhhMTQ4MjJiMDM2MTA0NjVjOGFjMWYzID0gTC5tYXJrZXIoCiAgICAgICAgICAgICAgICBbMzguODk3NTgzNTI0OTE2MjksLTc3LjA0MzE2MDA5NTQxMTc5XSwKICAgICAgICAgICAgICAgIHsKICAgICAgICAgICAgICAgICAgICBpY29uOiBuZXcgTC5JY29uLkRlZmF1bHQoKQogICAgICAgICAgICAgICAgICAgIH0KICAgICAgICAgICAgICAgICkKICAgICAgICAgICAgICAgIC5hZGRUbyhtYXBfZGVmNTI1ZTRmZTQzNGI2MmEwY2RhZjUyNTJhM2RlYjMpOwogICAgICAgICAgICAKICAgIAogICAgICAgICAgICB2YXIgcG9wdXBfODUxYWEwZTYxZjQ0NDI2ZTg2ZTE5Y2RkZTQ5NWRiMTUgPSBMLnBvcHVwKHttYXhXaWR0aDogJzMwMCd9KTsKCiAgICAgICAgICAgIAogICAgICAgICAgICAgICAgdmFyIGh0bWxfYTkzNDRlZjE1MDY0NDkwMjk1NzhiYzhiZGUxODAyNGIgPSAkKCc8ZGl2IGlkPSJodG1sX2E5MzQ0ZWYxNTA2NDQ5MDI5NTc4YmM4YmRlMTgwMjRiIiBzdHlsZT0id2lkdGg6IDEwMC4wJTsgaGVpZ2h0OiAxMDAuMCU7Ij5KdWFuIFZhbGRleiBDYWZlPC9kaXY+JylbMF07CiAgICAgICAgICAgICAgICBwb3B1cF84NTFhYTBlNjFmNDQ0MjZlODZlMTljZGRlNDk1ZGIxNS5zZXRDb250ZW50KGh0bWxfYTkzNDRlZjE1MDY0NDkwMjk1NzhiYzhiZGUxODAyNGIpOwogICAgICAgICAgICAKCiAgICAgICAgICAgIG1hcmtlcl9hNTM0ZmFkZTQ4YTE0ODIyYjAzNjEwNDY1YzhhYzFmMy5iaW5kUG9wdXAocG9wdXBfODUxYWEwZTYxZjQ0NDI2ZTg2ZTE5Y2RkZTQ5NWRiMTUpOwoKICAgICAgICAgICAgCiAgICAgICAgCiAgICAKCiAgICAgICAgICAgIHZhciBtYXJrZXJfODI1MDNkMDU1NTdiNDZhMDk1ZDg2ODI4NmJkYjJjMGIgPSBMLm1hcmtlcigKICAgICAgICAgICAgICAgIFszOC45MDM3NDEwMTA1MzY1LC03Ny4wNDI4NjA4MzI1MDk1XSwKICAgICAgICAgICAgICAgIHsKICAgICAgICAgICAgICAgICAgICBpY29uOiBuZXcgTC5JY29uLkRlZmF1bHQoKQogICAgICAgICAgICAgICAgICAgIH0KICAgICAgICAgICAgICAgICkKICAgICAgICAgICAgICAgIC5hZGRUbyhtYXBfZGVmNTI1ZTRmZTQzNGI2MmEwY2RhZjUyNTJhM2RlYjMpOwogICAgICAgICAgICAKICAgIAogICAgICAgICAgICB2YXIgcG9wdXBfMDg1MTVhNDU1ZjkwNGFkNWE0ZTA0ZGFlMzU2NzQ4MzMgPSBMLnBvcHVwKHttYXhXaWR0aDogJzMwMCd9KTsKCiAgICAgICAgICAgIAogICAgICAgICAgICAgICAgdmFyIGh0bWxfMDgzMTgxZjdkM2E1NDczYjkxOGNiOWIyNzBlZDQ0NjUgPSAkKCc8ZGl2IGlkPSJodG1sXzA4MzE4MWY3ZDNhNTQ3M2I5MThjYjliMjcwZWQ0NDY1IiBzdHlsZT0id2lkdGg6IDEwMC4wJTsgaGVpZ2h0OiAxMDAuMCU7Ij5QcmV0IEEgTWFuZ2VyPC9kaXY+JylbMF07CiAgICAgICAgICAgICAgICBwb3B1cF8wODUxNWE0NTVmOTA0YWQ1YTRlMDRkYWUzNTY3NDgzMy5zZXRDb250ZW50KGh0bWxfMDgzMTgxZjdkM2E1NDczYjkxOGNiOWIyNzBlZDQ0NjUpOwogICAgICAgICAgICAKCiAgICAgICAgICAgIG1hcmtlcl84MjUwM2QwNTU1N2I0NmEwOTVkODY4Mjg2YmRiMmMwYi5iaW5kUG9wdXAocG9wdXBfMDg1MTVhNDU1ZjkwNGFkNWE0ZTA0ZGFlMzU2NzQ4MzMpOwoKICAgICAgICAgICAgCiAgICAgICAgCiAgICAKCiAgICAgICAgICAgIHZhciBtYXJrZXJfY2RjY2U2NGM4ZDhkNDRkMGEwNjhjMDE5MWMzZWExYjUgPSBMLm1hcmtlcigKICAgICAgICAgICAgICAgIFszOC45MDI4NywtNzcuMDQxMjldLAogICAgICAgICAgICAgICAgewogICAgICAgICAgICAgICAgICAgIGljb246IG5ldyBMLkljb24uRGVmYXVsdCgpCiAgICAgICAgICAgICAgICAgICAgfQogICAgICAgICAgICAgICAgKQogICAgICAgICAgICAgICAgLmFkZFRvKG1hcF9kZWY1MjVlNGZlNDM0YjYyYTBjZGFmNTI1MmEzZGViMyk7CiAgICAgICAgICAgIAogICAgCiAgICAgICAgICAgIHZhciBwb3B1cF9iNTMzMTI2OTk3NjY0Yzk3YTIwNTM4OWM2YTczYjUzNSA9IEwucG9wdXAoe21heFdpZHRoOiAnMzAwJ30pOwoKICAgICAgICAgICAgCiAgICAgICAgICAgICAgICB2YXIgaHRtbF82ZmRmMzFlZjdhNzc0OTRkOWY3ZjczYWNmMWNhNjUwYiA9ICQoJzxkaXYgaWQ9Imh0bWxfNmZkZjMxZWY3YTc3NDk0ZDlmN2Y3M2FjZjFjYTY1MGIiIHN0eWxlPSJ3aWR0aDogMTAwLjAlOyBoZWlnaHQ6IDEwMC4wJTsiPkNhZmUgR3JhbmRlPC9kaXY+JylbMF07CiAgICAgICAgICAgICAgICBwb3B1cF9iNTMzMTI2OTk3NjY0Yzk3YTIwNTM4OWM2YTczYjUzNS5zZXRDb250ZW50KGh0bWxfNmZkZjMxZWY3YTc3NDk0ZDlmN2Y3M2FjZjFjYTY1MGIpOwogICAgICAgICAgICAKCiAgICAgICAgICAgIG1hcmtlcl9jZGNjZTY0YzhkOGQ0NGQwYTA2OGMwMTkxYzNlYTFiNS5iaW5kUG9wdXAocG9wdXBfYjUzMzEyNjk5NzY2NGM5N2EyMDUzODljNmE3M2I1MzUpOwoKICAgICAgICAgICAgCiAgICAgICAgCiAgICAKCiAgICAgICAgICAgIHZhciBtYXJrZXJfMWRhODg3Y2Q3MjM4NDhkNTg0NTYyZDljMmRmODdiZmIgPSBMLm1hcmtlcigKICAgICAgICAgICAgICAgIFszOC45MDAzNjAxMDc0MjE4OTYsLTc3LjA0NTc5MTYyNTk3NjU5XSwKICAgICAgICAgICAgICAgIHsKICAgICAgICAgICAgICAgICAgICBpY29uOiBuZXcgTC5JY29uLkRlZmF1bHQoKQogICAgICAgICAgICAgICAgICAgIH0KICAgICAgICAgICAgICAgICkKICAgICAgICAgICAgICAgIC5hZGRUbyhtYXBfZGVmNTI1ZTRmZTQzNGI2MmEwY2RhZjUyNTJhM2RlYjMpOwogICAgICAgICAgICAKICAgIAogICAgICAgICAgICB2YXIgcG9wdXBfOTIwZGUxNDNkZTdiNDk5YWExYjgxMjUwYjY4MzUyZDkgPSBMLnBvcHVwKHttYXhXaWR0aDogJzMwMCd9KTsKCiAgICAgICAgICAgIAogICAgICAgICAgICAgICAgdmFyIGh0bWxfOTIwMzFlZThlMjIzNDUxNTliYTQ2NTU2MWY0MWQyYzEgPSAkKCc8ZGl2IGlkPSJodG1sXzkyMDMxZWU4ZTIyMzQ1MTU5YmE0NjU1NjFmNDFkMmMxIiBzdHlsZT0id2lkdGg6IDEwMC4wJTsgaGVpZ2h0OiAxMDAuMCU7Ij5BdSBCb24gUGFpbjwvZGl2PicpWzBdOwogICAgICAgICAgICAgICAgcG9wdXBfOTIwZGUxNDNkZTdiNDk5YWExYjgxMjUwYjY4MzUyZDkuc2V0Q29udGVudChodG1sXzkyMDMxZWU4ZTIyMzQ1MTU5YmE0NjU1NjFmNDFkMmMxKTsKICAgICAgICAgICAgCgogICAgICAgICAgICBtYXJrZXJfMWRhODg3Y2Q3MjM4NDhkNTg0NTYyZDljMmRmODdiZmIuYmluZFBvcHVwKHBvcHVwXzkyMGRlMTQzZGU3YjQ5OWFhMWI4MTI1MGI2ODM1MmQ5KTsKCiAgICAgICAgICAgIAogICAgICAgIAogICAgCgogICAgICAgICAgICB2YXIgbWFya2VyXzI5M2E4MDBmOWQ4ZTQxOTRhOTY1Nzk3MjBiZTMwMzgyID0gTC5tYXJrZXIoCiAgICAgICAgICAgICAgICBbMzguOTAzNDIwMDAwMDAwMDA0LC03Ny4wNDU3NDAwMDAwMDAwMV0sCiAgICAgICAgICAgICAgICB7CiAgICAgICAgICAgICAgICAgICAgaWNvbjogbmV3IEwuSWNvbi5EZWZhdWx0KCkKICAgICAgICAgICAgICAgICAgICB9CiAgICAgICAgICAgICAgICApCiAgICAgICAgICAgICAgICAuYWRkVG8obWFwX2RlZjUyNWU0ZmU0MzRiNjJhMGNkYWY1MjUyYTNkZWIzKTsKICAgICAgICAgICAgCiAgICAKICAgICAgICAgICAgdmFyIHBvcHVwXzU0NDEwNTEyNGIxMjQxYWU5NmZlZWYxNGEzZTc3ODBkID0gTC5wb3B1cCh7bWF4V2lkdGg6ICczMDAnfSk7CgogICAgICAgICAgICAKICAgICAgICAgICAgICAgIHZhciBodG1sXzMzYmVkYWU4YzUyZDQzNjA5YTI2ODMzYjc0NjFhYjJkID0gJCgnPGRpdiBpZD0iaHRtbF8zM2JlZGFlOGM1MmQ0MzYwOWEyNjgzM2I3NDYxYWIyZCIgc3R5bGU9IndpZHRoOiAxMDAuMCU7IGhlaWdodDogMTAwLjAlOyI+Q2FzZXlzIENvZmZlZTwvZGl2PicpWzBdOwogICAgICAgICAgICAgICAgcG9wdXBfNTQ0MTA1MTI0YjEyNDFhZTk2ZmVlZjE0YTNlNzc4MGQuc2V0Q29udGVudChodG1sXzMzYmVkYWU4YzUyZDQzNjA5YTI2ODMzYjc0NjFhYjJkKTsKICAgICAgICAgICAgCgogICAgICAgICAgICBtYXJrZXJfMjkzYTgwMGY5ZDhlNDE5NGE5NjU3OTcyMGJlMzAzODIuYmluZFBvcHVwKHBvcHVwXzU0NDEwNTEyNGIxMjQxYWU5NmZlZWYxNGEzZTc3ODBkKTsKCiAgICAgICAgICAgIAogICAgICAgIAogICAgCgogICAgICAgICAgICB2YXIgbWFya2VyXzFjM2E5ZmRkMjcwMzRlOTg5MjhhYTQ1YTEwMjQ5ZTAyID0gTC5tYXJrZXIoCiAgICAgICAgICAgICAgICBbMzguODk2MTI5MDI4MjE1LC03Ny4wNDIxODQ3OTQ0NzgwOV0sCiAgICAgICAgICAgICAgICB7CiAgICAgICAgICAgICAgICAgICAgaWNvbjogbmV3IEwuSWNvbi5EZWZhdWx0KCkKICAgICAgICAgICAgICAgICAgICB9CiAgICAgICAgICAgICAgICApCiAgICAgICAgICAgICAgICAuYWRkVG8obWFwX2RlZjUyNWU0ZmU0MzRiNjJhMGNkYWY1MjUyYTNkZWIzKTsKICAgICAgICAgICAgCiAgICAKICAgICAgICAgICAgdmFyIHBvcHVwXzFiYzYxN2I2ODlhMjQxYjVhNzNiMzE5MWFmMmQ4ODMxID0gTC5wb3B1cCh7bWF4V2lkdGg6ICczMDAnfSk7CgogICAgICAgICAgICAKICAgICAgICAgICAgICAgIHZhciBodG1sXzUwOWQxNGQ1MDg2MTQwMzk5ZmFiZTA1ZjMwNjZmODE2ID0gJCgnPGRpdiBpZD0iaHRtbF81MDlkMTRkNTA4NjE0MDM5OWZhYmUwNWYzMDY2ZjgxNiIgc3R5bGU9IndpZHRoOiAxMDAuMCU7IGhlaWdodDogMTAwLjAlOyI+R3JlZW5iZXJyeSYjMzk7cyBDb2ZmZWUgQ29tcGFueTwvZGl2PicpWzBdOwogICAgICAgICAgICAgICAgcG9wdXBfMWJjNjE3YjY4OWEyNDFiNWE3M2IzMTkxYWYyZDg4MzEuc2V0Q29udGVudChodG1sXzUwOWQxNGQ1MDg2MTQwMzk5ZmFiZTA1ZjMwNjZmODE2KTsKICAgICAgICAgICAgCgogICAgICAgICAgICBtYXJrZXJfMWMzYTlmZGQyNzAzNGU5ODkyOGFhNDVhMTAyNDllMDIuYmluZFBvcHVwKHBvcHVwXzFiYzYxN2I2ODlhMjQxYjVhNzNiMzE5MWFmMmQ4ODMxKTsKCiAgICAgICAgICAgIAogICAgICAgIAogICAgCgogICAgICAgICAgICB2YXIgbWFya2VyXzk2NmM0NzUwYjUzYjQ1OGM4YWYxOGRjMDJkMmJkZjYzID0gTC5tYXJrZXIoCiAgICAgICAgICAgICAgICBbMzguODk4MDMsLTc3LjA0NDIwMV0sCiAgICAgICAgICAgICAgICB7CiAgICAgICAgICAgICAgICAgICAgaWNvbjogbmV3IEwuSWNvbi5EZWZhdWx0KCkKICAgICAgICAgICAgICAgICAgICB9CiAgICAgICAgICAgICAgICApCiAgICAgICAgICAgICAgICAuYWRkVG8obWFwX2RlZjUyNWU0ZmU0MzRiNjJhMGNkYWY1MjUyYTNkZWIzKTsKICAgICAgICAgICAgCiAgICAKICAgICAgICAgICAgdmFyIHBvcHVwX2IzMjRlZWJmNGMzZTQ4MGE5M2YzMWQ5ZWMwOTgyYTlhID0gTC5wb3B1cCh7bWF4V2lkdGg6ICczMDAnfSk7CgogICAgICAgICAgICAKICAgICAgICAgICAgICAgIHZhciBodG1sX2E2YjYzNzczMDM1ODRmZTM4MjQ3MmQ4ODVlZDA1M2M4ID0gJCgnPGRpdiBpZD0iaHRtbF9hNmI2Mzc3MzAzNTg0ZmUzODI0NzJkODg1ZWQwNTNjOCIgc3R5bGU9IndpZHRoOiAxMDAuMCU7IGhlaWdodDogMTAwLjAlOyI+UmVpdGVyJiMzOTtzIEJvb2tzPC9kaXY+JylbMF07CiAgICAgICAgICAgICAgICBwb3B1cF9iMzI0ZWViZjRjM2U0ODBhOTNmMzFkOWVjMDk4MmE5YS5zZXRDb250ZW50KGh0bWxfYTZiNjM3NzMwMzU4NGZlMzgyNDcyZDg4NWVkMDUzYzgpOwogICAgICAgICAgICAKCiAgICAgICAgICAgIG1hcmtlcl85NjZjNDc1MGI1M2I0NThjOGFmMThkYzAyZDJiZGY2My5iaW5kUG9wdXAocG9wdXBfYjMyNGVlYmY0YzNlNDgwYTkzZjMxZDllYzA5ODJhOWEpOwoKICAgICAgICAgICAgCiAgICAgICAgCiAgICAKCiAgICAgICAgICAgIHZhciBtYXJrZXJfNGM3M2UwYTFiYzE1NGZjZTkxYWZkYzk1ZWI3OTM1N2QgPSBMLm1hcmtlcigKICAgICAgICAgICAgICAgIFszOC45MDAzNDk3OTkxOCwtNzcuMDQxNDQ2NjAyNTM5XSwKICAgICAgICAgICAgICAgIHsKICAgICAgICAgICAgICAgICAgICBpY29uOiBuZXcgTC5JY29uLkRlZmF1bHQoKQogICAgICAgICAgICAgICAgICAgIH0KICAgICAgICAgICAgICAgICkKICAgICAgICAgICAgICAgIC5hZGRUbyhtYXBfZGVmNTI1ZTRmZTQzNGI2MmEwY2RhZjUyNTJhM2RlYjMpOwogICAgICAgICAgICAKICAgIAogICAgICAgICAgICB2YXIgcG9wdXBfMjVjOGNmMzNiN2ZhNDY2ZmJjMzUxODFhMTM5YTgzOWMgPSBMLnBvcHVwKHttYXhXaWR0aDogJzMwMCd9KTsKCiAgICAgICAgICAgIAogICAgICAgICAgICAgICAgdmFyIGh0bWxfODE5MGQzY2NlZjYyNGQxMzgxMWFiMmI1NTc0MzI2MTIgPSAkKCc8ZGl2IGlkPSJodG1sXzgxOTBkM2NjZWY2MjRkMTM4MTFhYjJiNTU3NDMyNjEyIiBzdHlsZT0id2lkdGg6IDEwMC4wJTsgaGVpZ2h0OiAxMDAuMCU7Ij5TdGFyYnVja3M8L2Rpdj4nKVswXTsKICAgICAgICAgICAgICAgIHBvcHVwXzI1YzhjZjMzYjdmYTQ2NmZiYzM1MTgxYTEzOWE4MzljLnNldENvbnRlbnQoaHRtbF84MTkwZDNjY2VmNjI0ZDEzODExYWIyYjU1NzQzMjYxMik7CiAgICAgICAgICAgIAoKICAgICAgICAgICAgbWFya2VyXzRjNzNlMGExYmMxNTRmY2U5MWFmZGM5NWViNzkzNTdkLmJpbmRQb3B1cChwb3B1cF8yNWM4Y2YzM2I3ZmE0NjZmYmMzNTE4MWExMzlhODM5Yyk7CgogICAgICAgICAgICAKICAgICAgICAKICAgIAoKICAgICAgICAgICAgdmFyIG1hcmtlcl80ZmNkMjMwNmJhNTU0NzczOTE1YzcxNzYyMDc4Yjg5NiA9IEwubWFya2VyKAogICAgICAgICAgICAgICAgWzM4Ljg5ODE3LC03Ny4wNDM4Nl0sCiAgICAgICAgICAgICAgICB7CiAgICAgICAgICAgICAgICAgICAgaWNvbjogbmV3IEwuSWNvbi5EZWZhdWx0KCkKICAgICAgICAgICAgICAgICAgICB9CiAgICAgICAgICAgICAgICApCiAgICAgICAgICAgICAgICAuYWRkVG8obWFwX2RlZjUyNWU0ZmU0MzRiNjJhMGNkYWY1MjUyYTNkZWIzKTsKICAgICAgICAgICAgCiAgICAKICAgICAgICAgICAgdmFyIHBvcHVwXzQxZmNmZTFlOWY2MDRhNDg5MzRlNTY4Y2MyN2VhMDE1ID0gTC5wb3B1cCh7bWF4V2lkdGg6ICczMDAnfSk7CgogICAgICAgICAgICAKICAgICAgICAgICAgICAgIHZhciBodG1sXzA4NzNlMjEzN2ZjOTQ2MDA4MzQ2NDc5NDRkNzU4ZmJmID0gJCgnPGRpdiBpZD0iaHRtbF8wODczZTIxMzdmYzk0NjAwODM0NjQ3OTQ0ZDc1OGZiZiIgc3R5bGU9IndpZHRoOiAxMDAuMCU7IGhlaWdodDogMTAwLjAlOyI+Q3VwJiMzOTthIEN1cCYjMzk7YTwvZGl2PicpWzBdOwogICAgICAgICAgICAgICAgcG9wdXBfNDFmY2ZlMWU5ZjYwNGE0ODkzNGU1NjhjYzI3ZWEwMTUuc2V0Q29udGVudChodG1sXzA4NzNlMjEzN2ZjOTQ2MDA4MzQ2NDc5NDRkNzU4ZmJmKTsKICAgICAgICAgICAgCgogICAgICAgICAgICBtYXJrZXJfNGZjZDIzMDZiYTU1NDc3MzkxNWM3MTc2MjA3OGI4OTYuYmluZFBvcHVwKHBvcHVwXzQxZmNmZTFlOWY2MDRhNDg5MzRlNTY4Y2MyN2VhMDE1KTsKCiAgICAgICAgICAgIAogICAgICAgIAogICAgCgogICAgICAgICAgICB2YXIgbWFya2VyXzM3ZjY0NzdiN2I1MjQ4MmJhOTc3OWY4YjIzZDkxMzU0ID0gTC5tYXJrZXIoCiAgICAgICAgICAgICAgICBbMzguOTAzMjAxNjQ5MTQxOCwtNzcuMDQzNjk2NjY2NjY2N10sCiAgICAgICAgICAgICAgICB7CiAgICAgICAgICAgICAgICAgICAgaWNvbjogbmV3IEwuSWNvbi5EZWZhdWx0KCkKICAgICAgICAgICAgICAgICAgICB9CiAgICAgICAgICAgICAgICApCiAgICAgICAgICAgICAgICAuYWRkVG8obWFwX2RlZjUyNWU0ZmU0MzRiNjJhMGNkYWY1MjUyYTNkZWIzKTsKICAgICAgICAgICAgCiAgICAKICAgICAgICAgICAgdmFyIHBvcHVwXzQ5NGEyODAzMGFjMzQyY2E4ZmUyY2FiZTQwNjc2MDIzID0gTC5wb3B1cCh7bWF4V2lkdGg6ICczMDAnfSk7CgogICAgICAgICAgICAKICAgICAgICAgICAgICAgIHZhciBodG1sXzAwYzhhOTNkMWMzNzRlNjBhNTJlYjExMmFjY2JkMzlmID0gJCgnPGRpdiBpZD0iaHRtbF8wMGM4YTkzZDFjMzc0ZTYwYTUyZWIxMTJhY2NiZDM5ZiIgc3R5bGU9IndpZHRoOiAxMDAuMCU7IGhlaWdodDogMTAwLjAlOyI+R3JlZ29yeXMgQ29mZmVlPC9kaXY+JylbMF07CiAgICAgICAgICAgICAgICBwb3B1cF80OTRhMjgwMzBhYzM0MmNhOGZlMmNhYmU0MDY3NjAyMy5zZXRDb250ZW50KGh0bWxfMDBjOGE5M2QxYzM3NGU2MGE1MmViMTEyYWNjYmQzOWYpOwogICAgICAgICAgICAKCiAgICAgICAgICAgIG1hcmtlcl8zN2Y2NDc3YjdiNTI0ODJiYTk3NzlmOGIyM2Q5MTM1NC5iaW5kUG9wdXAocG9wdXBfNDk0YTI4MDMwYWMzNDJjYThmZTJjYWJlNDA2NzYwMjMpOwoKICAgICAgICAgICAgCiAgICAgICAgCiAgICAKCiAgICAgICAgICAgIHZhciBtYXJrZXJfYzYxZGEwOTQ4MDc4NDU3Njk0ZDY5ZGNjNDMyNjY1NTkgPSBMLm1hcmtlcigKICAgICAgICAgICAgICAgIFszOC44OTYyNywtNzcuMDQ0Ml0sCiAgICAgICAgICAgICAgICB7CiAgICAgICAgICAgICAgICAgICAgaWNvbjogbmV3IEwuSWNvbi5EZWZhdWx0KCkKICAgICAgICAgICAgICAgICAgICB9CiAgICAgICAgICAgICAgICApCiAgICAgICAgICAgICAgICAuYWRkVG8obWFwX2RlZjUyNWU0ZmU0MzRiNjJhMGNkYWY1MjUyYTNkZWIzKTsKICAgICAgICAgICAgCiAgICAKICAgICAgICAgICAgdmFyIHBvcHVwXzQzYzI2NDc0ZDI4YjRjMDViZDEwMzkwOTg4MDk4Y2U0ID0gTC5wb3B1cCh7bWF4V2lkdGg6ICczMDAnfSk7CgogICAgICAgICAgICAKICAgICAgICAgICAgICAgIHZhciBodG1sXzBjYjFkODBjYzQwZDQ5OTQ4OGU0NTdhMDE0YTUyNTM0ID0gJCgnPGRpdiBpZD0iaHRtbF8wY2IxZDgwY2M0MGQ0OTk0ODhlNDU3YTAxNGE1MjUzNCIgc3R5bGU9IndpZHRoOiAxMDAuMCU7IGhlaWdodDogMTAwLjAlOyI+U3RhcmJ1Y2tzPC9kaXY+JylbMF07CiAgICAgICAgICAgICAgICBwb3B1cF80M2MyNjQ3NGQyOGI0YzA1YmQxMDM5MDk4ODA5OGNlNC5zZXRDb250ZW50KGh0bWxfMGNiMWQ4MGNjNDBkNDk5NDg4ZTQ1N2EwMTRhNTI1MzQpOwogICAgICAgICAgICAKCiAgICAgICAgICAgIG1hcmtlcl9jNjFkYTA5NDgwNzg0NTc2OTRkNjlkY2M0MzI2NjU1OS5iaW5kUG9wdXAocG9wdXBfNDNjMjY0NzRkMjhiNGMwNWJkMTAzOTA5ODgwOThjZTQpOwoKICAgICAgICAgICAgCiAgICAgICAgCiAgICAKCiAgICAgICAgICAgIHZhciBtYXJrZXJfYmYzMDJhOWMzZjYwNDgzYmFmZTI0NzNhZDdkNmU3MjYgPSBMLm1hcmtlcigKICAgICAgICAgICAgICAgIFszOC45MDE0ODc2Njk0NzA0LC03Ny4wNDIxMjU2NDQ4NzQ1XSwKICAgICAgICAgICAgICAgIHsKICAgICAgICAgICAgICAgICAgICBpY29uOiBuZXcgTC5JY29uLkRlZmF1bHQoKQogICAgICAgICAgICAgICAgICAgIH0KICAgICAgICAgICAgICAgICkKICAgICAgICAgICAgICAgIC5hZGRUbyhtYXBfZGVmNTI1ZTRmZTQzNGI2MmEwY2RhZjUyNTJhM2RlYjMpOwogICAgICAgICAgICAKICAgIAogICAgICAgICAgICB2YXIgcG9wdXBfYmUxMGU2NjFhOTk1NDhiYmEzOTM3MjJkNjg1NWU5NDYgPSBMLnBvcHVwKHttYXhXaWR0aDogJzMwMCd9KTsKCiAgICAgICAgICAgIAogICAgICAgICAgICAgICAgdmFyIGh0bWxfYjg2NjdhMjFjYjE5NGNkMzllZDRkNDlhM2IwYjdkNTggPSAkKCc8ZGl2IGlkPSJodG1sX2I4NjY3YTIxY2IxOTRjZDM5ZWQ0ZDQ5YTNiMGI3ZDU4IiBzdHlsZT0id2lkdGg6IDEwMC4wJTsgaGVpZ2h0OiAxMDAuMCU7Ij5TdGFyYnVja3M8L2Rpdj4nKVswXTsKICAgICAgICAgICAgICAgIHBvcHVwX2JlMTBlNjYxYTk5NTQ4YmJhMzkzNzIyZDY4NTVlOTQ2LnNldENvbnRlbnQoaHRtbF9iODY2N2EyMWNiMTk0Y2QzOWVkNGQ0OWEzYjBiN2Q1OCk7CiAgICAgICAgICAgIAoKICAgICAgICAgICAgbWFya2VyX2JmMzAyYTljM2Y2MDQ4M2JhZmUyNDczYWQ3ZDZlNzI2LmJpbmRQb3B1cChwb3B1cF9iZTEwZTY2MWE5OTU0OGJiYTM5MzcyMmQ2ODU1ZTk0Nik7CgogICAgICAgICAgICAKICAgICAgICAKICAgIAoKICAgICAgICAgICAgdmFyIG1hcmtlcl80YTI1MzdmYzFhN2Q0Y2YxYjNlNDc2ODIwMTQ2ZTI2OCA9IEwubWFya2VyKAogICAgICAgICAgICAgICAgWzM4Ljg5ODMxNTUxODYxOSwtNzcuMDQxNzA1NDkwNjczNTldLAogICAgICAgICAgICAgICAgewogICAgICAgICAgICAgICAgICAgIGljb246IG5ldyBMLkljb24uRGVmYXVsdCgpCiAgICAgICAgICAgICAgICAgICAgfQogICAgICAgICAgICAgICAgKQogICAgICAgICAgICAgICAgLmFkZFRvKG1hcF9kZWY1MjVlNGZlNDM0YjYyYTBjZGFmNTI1MmEzZGViMyk7CiAgICAgICAgICAgIAogICAgCiAgICAgICAgICAgIHZhciBwb3B1cF81MDczMjUxODZjYWM0ZjUyYjQ4ODg5ZmI2MGFiZjNhOSA9IEwucG9wdXAoe21heFdpZHRoOiAnMzAwJ30pOwoKICAgICAgICAgICAgCiAgICAgICAgICAgICAgICB2YXIgaHRtbF82YTg5ZmMwMDI2YTc0OGMxYTA0ZWQzOWU3YjJkOTUxMSA9ICQoJzxkaXYgaWQ9Imh0bWxfNmE4OWZjMDAyNmE3NDhjMWEwNGVkMzllN2IyZDk1MTEiIHN0eWxlPSJ3aWR0aDogMTAwLjAlOyBoZWlnaHQ6IDEwMC4wJTsiPkNhcGl0b2wgSmF2YSBDb2ZmZWUgQ2FydDwvZGl2PicpWzBdOwogICAgICAgICAgICAgICAgcG9wdXBfNTA3MzI1MTg2Y2FjNGY1MmI0ODg4OWZiNjBhYmYzYTkuc2V0Q29udGVudChodG1sXzZhODlmYzAwMjZhNzQ4YzFhMDRlZDM5ZTdiMmQ5NTExKTsKICAgICAgICAgICAgCgogICAgICAgICAgICBtYXJrZXJfNGEyNTM3ZmMxYTdkNGNmMWIzZTQ3NjgyMDE0NmUyNjguYmluZFBvcHVwKHBvcHVwXzUwNzMyNTE4NmNhYzRmNTJiNDg4ODlmYjYwYWJmM2E5KTsKCiAgICAgICAgICAgIAogICAgICAgIAogICAgCgogICAgICAgICAgICB2YXIgbWFya2VyX2Q1ZTdhNmQ4YmVkZTQ3OTQ4YzIyODkzMTRhZjBhN2I2ID0gTC5tYXJrZXIoCiAgICAgICAgICAgICAgICBbMzguODk2NjksLTc3LjA0Mzg3Nl0sCiAgICAgICAgICAgICAgICB7CiAgICAgICAgICAgICAgICAgICAgaWNvbjogbmV3IEwuSWNvbi5EZWZhdWx0KCkKICAgICAgICAgICAgICAgICAgICB9CiAgICAgICAgICAgICAgICApCiAgICAgICAgICAgICAgICAuYWRkVG8obWFwX2RlZjUyNWU0ZmU0MzRiNjJhMGNkYWY1MjUyYTNkZWIzKTsKICAgICAgICAgICAgCiAgICAKICAgICAgICAgICAgdmFyIHBvcHVwX2YxNGQ0YTRhZTQ2NjQzM2E5MjJiZWZlZjNkMDU0M2JjID0gTC5wb3B1cCh7bWF4V2lkdGg6ICczMDAnfSk7CgogICAgICAgICAgICAKICAgICAgICAgICAgICAgIHZhciBodG1sX2M3NDY0OTE3ODVmZDQ0MzQ5ODcxZmRjYTEwYTk5ODViID0gJCgnPGRpdiBpZD0iaHRtbF9jNzQ2NDkxNzg1ZmQ0NDM0OTg3MWZkY2ExMGE5OTg1YiIgc3R5bGU9IndpZHRoOiAxMDAuMCU7IGhlaWdodDogMTAwLjAlOyI+Ny1FbGV2ZW48L2Rpdj4nKVswXTsKICAgICAgICAgICAgICAgIHBvcHVwX2YxNGQ0YTRhZTQ2NjQzM2E5MjJiZWZlZjNkMDU0M2JjLnNldENvbnRlbnQoaHRtbF9jNzQ2NDkxNzg1ZmQ0NDM0OTg3MWZkY2ExMGE5OTg1Yik7CiAgICAgICAgICAgIAoKICAgICAgICAgICAgbWFya2VyX2Q1ZTdhNmQ4YmVkZTQ3OTQ4YzIyODkzMTRhZjBhN2I2LmJpbmRQb3B1cChwb3B1cF9mMTRkNGE0YWU0NjY0MzNhOTIyYmVmZWYzZDA1NDNiYyk7CgogICAgICAgICAgICAKICAgICAgICAKICAgIAoKICAgICAgICAgICAgdmFyIG1hcmtlcl84NWY2YjJmNDliYmQ0M2JmYjU2MzhiNDljMDhiMmU1ZCA9IEwubWFya2VyKAogICAgICAgICAgICAgICAgWzM4LjkwNjg1OTk5OTk5OTk5NSwtNzcuMDQzNzhdLAogICAgICAgICAgICAgICAgewogICAgICAgICAgICAgICAgICAgIGljb246IG5ldyBMLkljb24uRGVmYXVsdCgpCiAgICAgICAgICAgICAgICAgICAgfQogICAgICAgICAgICAgICAgKQogICAgICAgICAgICAgICAgLmFkZFRvKG1hcF9kZWY1MjVlNGZlNDM0YjYyYTBjZGFmNTI1MmEzZGViMyk7CiAgICAgICAgICAgIAogICAgCiAgICAgICAgICAgIHZhciBwb3B1cF80ZDg3MjVkOTJjNzA0MzgzYWU3MGRjNmRmNmZjYWY4NyA9IEwucG9wdXAoe21heFdpZHRoOiAnMzAwJ30pOwoKICAgICAgICAgICAgCiAgICAgICAgICAgICAgICB2YXIgaHRtbF8zMTdiNjk0NDlkMTE0MmU4OTlkNTM1ZWQ2M2U3YWEwNSA9ICQoJzxkaXYgaWQ9Imh0bWxfMzE3YjY5NDQ5ZDExNDJlODk5ZDUzNWVkNjNlN2FhMDUiIHN0eWxlPSJ3aWR0aDogMTAwLjAlOyBoZWlnaHQ6IDEwMC4wJTsiPkR1cG9udCBDb2ZmZWUgJmFtcDsgQ2FycnkgT3V0PC9kaXY+JylbMF07CiAgICAgICAgICAgICAgICBwb3B1cF80ZDg3MjVkOTJjNzA0MzgzYWU3MGRjNmRmNmZjYWY4Ny5zZXRDb250ZW50KGh0bWxfMzE3YjY5NDQ5ZDExNDJlODk5ZDUzNWVkNjNlN2FhMDUpOwogICAgICAgICAgICAKCiAgICAgICAgICAgIG1hcmtlcl84NWY2YjJmNDliYmQ0M2JmYjU2MzhiNDljMDhiMmU1ZC5iaW5kUG9wdXAocG9wdXBfNGQ4NzI1ZDkyYzcwNDM4M2FlNzBkYzZkZjZmY2FmODcpOwoKICAgICAgICAgICAgCiAgICAgICAgCiAgICAKCiAgICAgICAgICAgIHZhciBtYXJrZXJfNzJlODM4OWM1Njg3NGQ3NmEyMGFmMDY0YmJlYmM3MGQgPSBMLm1hcmtlcigKICAgICAgICAgICAgICAgIFszOC45MDU1MiwtNzcuMDQ0MjM4XSwKICAgICAgICAgICAgICAgIHsKICAgICAgICAgICAgICAgICAgICBpY29uOiBuZXcgTC5JY29uLkRlZmF1bHQoKQogICAgICAgICAgICAgICAgICAgIH0KICAgICAgICAgICAgICAgICkKICAgICAgICAgICAgICAgIC5hZGRUbyhtYXBfZGVmNTI1ZTRmZTQzNGI2MmEwY2RhZjUyNTJhM2RlYjMpOwogICAgICAgICAgICAKICAgIAogICAgICAgICAgICB2YXIgcG9wdXBfMGJkZmQzYjI5ZTdiNDg1MThjODJkODRhM2Y3YTY5ZDMgPSBMLnBvcHVwKHttYXhXaWR0aDogJzMwMCd9KTsKCiAgICAgICAgICAgIAogICAgICAgICAgICAgICAgdmFyIGh0bWxfMGUwZDBiODJiYmZhNDQ0OTg1NWQ1YmI4MjE3ZWIxZTMgPSAkKCc8ZGl2IGlkPSJodG1sXzBlMGQwYjgyYmJmYTQ0NDk4NTVkNWJiODIxN2ViMWUzIiBzdHlsZT0id2lkdGg6IDEwMC4wJTsgaGVpZ2h0OiAxMDAuMCU7Ij5NY0RvbmFsZCYjMzk7czwvZGl2PicpWzBdOwogICAgICAgICAgICAgICAgcG9wdXBfMGJkZmQzYjI5ZTdiNDg1MThjODJkODRhM2Y3YTY5ZDMuc2V0Q29udGVudChodG1sXzBlMGQwYjgyYmJmYTQ0NDk4NTVkNWJiODIxN2ViMWUzKTsKICAgICAgICAgICAgCgogICAgICAgICAgICBtYXJrZXJfNzJlODM4OWM1Njg3NGQ3NmEyMGFmMDY0YmJlYmM3MGQuYmluZFBvcHVwKHBvcHVwXzBiZGZkM2IyOWU3YjQ4NTE4YzgyZDg0YTNmN2E2OWQzKTsKCiAgICAgICAgICAgIAogICAgICAgIAogICAgCgogICAgICAgICAgICB2YXIgbWFya2VyXzk3YzE5NWQ3ZmQ1ZDQ1ZjJhODJkNjBhNDExZWZmM2RiID0gTC5tYXJrZXIoCiAgICAgICAgICAgICAgICBbMzguOTAzOTIsLTc3LjA0NTA1M10sCiAgICAgICAgICAgICAgICB7CiAgICAgICAgICAgICAgICAgICAgaWNvbjogbmV3IEwuSWNvbi5EZWZhdWx0KCkKICAgICAgICAgICAgICAgICAgICB9CiAgICAgICAgICAgICAgICApCiAgICAgICAgICAgICAgICAuYWRkVG8obWFwX2RlZjUyNWU0ZmU0MzRiNjJhMGNkYWY1MjUyYTNkZWIzKTsKICAgICAgICAgICAgCiAgICAKICAgICAgICAgICAgdmFyIHBvcHVwXzNkYTZiMWMyZjQ3NTQ2NjE4NzJiMzNjMTNiN2YxMzQzID0gTC5wb3B1cCh7bWF4V2lkdGg6ICczMDAnfSk7CgogICAgICAgICAgICAKICAgICAgICAgICAgICAgIHZhciBodG1sXzk0NzZiNGNhYmJiZTQwNTA5MzU3MzQxYjU3ZmNiZjUyID0gJCgnPGRpdiBpZD0iaHRtbF85NDc2YjRjYWJiYmU0MDUwOTM1NzM0MWI1N2ZjYmY1MiIgc3R5bGU9IndpZHRoOiAxMDAuMCU7IGhlaWdodDogMTAwLjAlOyI+U3RhcmJ1Y2tzPC9kaXY+JylbMF07CiAgICAgICAgICAgICAgICBwb3B1cF8zZGE2YjFjMmY0NzU0NjYxODcyYjMzYzEzYjdmMTM0My5zZXRDb250ZW50KGh0bWxfOTQ3NmI0Y2FiYmJlNDA1MDkzNTczNDFiNTdmY2JmNTIpOwogICAgICAgICAgICAKCiAgICAgICAgICAgIG1hcmtlcl85N2MxOTVkN2ZkNWQ0NWYyYTgyZDYwYTQxMWVmZjNkYi5iaW5kUG9wdXAocG9wdXBfM2RhNmIxYzJmNDc1NDY2MTg3MmIzM2MxM2I3ZjEzNDMpOwoKICAgICAgICAgICAgCiAgICAgICAgCiAgICAKCiAgICAgICAgICAgIHZhciBtYXJrZXJfNjUzZGU4ZDAwMWI0NDJlODkyMzk5YmYyMDE4ZDY5NjggPSBMLm1hcmtlcigKICAgICAgICAgICAgICAgIFszOC45MDQ2NCwtNzcuMDQ0NzFdLAogICAgICAgICAgICAgICAgewogICAgICAgICAgICAgICAgICAgIGljb246IG5ldyBMLkljb24uRGVmYXVsdCgpCiAgICAgICAgICAgICAgICAgICAgfQogICAgICAgICAgICAgICAgKQogICAgICAgICAgICAgICAgLmFkZFRvKG1hcF9kZWY1MjVlNGZlNDM0YjYyYTBjZGFmNTI1MmEzZGViMyk7CiAgICAgICAgICAgIAogICAgCiAgICAgICAgICAgIHZhciBwb3B1cF8wYzMzODhiZjQ3ZTY0OTUxYTVkMWEyMjFkMjA0NzJiYyA9IEwucG9wdXAoe21heFdpZHRoOiAnMzAwJ30pOwoKICAgICAgICAgICAgCiAgICAgICAgICAgICAgICB2YXIgaHRtbF85YTBiZDhhMGU2ZDc0MTQ5YmYxMGU4NGQ0YjM2YzRmZiA9ICQoJzxkaXYgaWQ9Imh0bWxfOWEwYmQ4YTBlNmQ3NDE0OWJmMTBlODRkNGIzNmM0ZmYiIHN0eWxlPSJ3aWR0aDogMTAwLjAlOyBoZWlnaHQ6IDEwMC4wJTsiPkdyZWdvcnlzIENvZmZlZTwvZGl2PicpWzBdOwogICAgICAgICAgICAgICAgcG9wdXBfMGMzMzg4YmY0N2U2NDk1MWE1ZDFhMjIxZDIwNDcyYmMuc2V0Q29udGVudChodG1sXzlhMGJkOGEwZTZkNzQxNDliZjEwZTg0ZDRiMzZjNGZmKTsKICAgICAgICAgICAgCgogICAgICAgICAgICBtYXJrZXJfNjUzZGU4ZDAwMWI0NDJlODkyMzk5YmYyMDE4ZDY5NjguYmluZFBvcHVwKHBvcHVwXzBjMzM4OGJmNDdlNjQ5NTFhNWQxYTIyMWQyMDQ3MmJjKTsKCiAgICAgICAgICAgIAogICAgICAgIAogICAgCgogICAgICAgICAgICB2YXIgbWFya2VyXzEyODgzNjA3NmNjNjQxNDlhYWE3YWUwMDZkYjkxYWUyID0gTC5tYXJrZXIoCiAgICAgICAgICAgICAgICBbMzguOTA0MTA1LC03Ny4wNDYxMjhdLAogICAgICAgICAgICAgICAgewogICAgICAgICAgICAgICAgICAgIGljb246IG5ldyBMLkljb24uRGVmYXVsdCgpCiAgICAgICAgICAgICAgICAgICAgfQogICAgICAgICAgICAgICAgKQogICAgICAgICAgICAgICAgLmFkZFRvKG1hcF9kZWY1MjVlNGZlNDM0YjYyYTBjZGFmNTI1MmEzZGViMyk7CiAgICAgICAgICAgIAogICAgCiAgICAgICAgICAgIHZhciBwb3B1cF85MDNmY2JjZDIwZTM0ODc0YWMyNjIzOTZjZTgxMDMwOCA9IEwucG9wdXAoe21heFdpZHRoOiAnMzAwJ30pOwoKICAgICAgICAgICAgCiAgICAgICAgICAgICAgICB2YXIgaHRtbF85NGI4NWY3NGY1YmQ0ZmZlOWI5YTJiM2RkMzFiYWMyZCA9ICQoJzxkaXYgaWQ9Imh0bWxfOTRiODVmNzRmNWJkNGZmZTliOWEyYjNkZDMxYmFjMmQiIHN0eWxlPSJ3aWR0aDogMTAwLjAlOyBoZWlnaHQ6IDEwMC4wJTsiPlNlYXR0bGUmIzM5O3MgQmVzdCBDb2ZmZWU8L2Rpdj4nKVswXTsKICAgICAgICAgICAgICAgIHBvcHVwXzkwM2ZjYmNkMjBlMzQ4NzRhYzI2MjM5NmNlODEwMzA4LnNldENvbnRlbnQoaHRtbF85NGI4NWY3NGY1YmQ0ZmZlOWI5YTJiM2RkMzFiYWMyZCk7CiAgICAgICAgICAgIAoKICAgICAgICAgICAgbWFya2VyXzEyODgzNjA3NmNjNjQxNDlhYWE3YWUwMDZkYjkxYWUyLmJpbmRQb3B1cChwb3B1cF85MDNmY2JjZDIwZTM0ODc0YWMyNjIzOTZjZTgxMDMwOCk7CgogICAgICAgICAgICAKICAgICAgICAKICAgIAoKICAgICAgICAgICAgdmFyIG1hcmtlcl8xMzc5YWZkYjA4NTc0OGE2OTEwOTZiZmJjNTRmYTI0YiA9IEwubWFya2VyKAogICAgICAgICAgICAgICAgWzM4LjkwMjg5NSwtNzcuMDM4NzgzXSwKICAgICAgICAgICAgICAgIHsKICAgICAgICAgICAgICAgICAgICBpY29uOiBuZXcgTC5JY29uLkRlZmF1bHQoKQogICAgICAgICAgICAgICAgICAgIH0KICAgICAgICAgICAgICAgICkKICAgICAgICAgICAgICAgIC5hZGRUbyhtYXBfZGVmNTI1ZTRmZTQzNGI2MmEwY2RhZjUyNTJhM2RlYjMpOwogICAgICAgICAgICAKICAgIAogICAgICAgICAgICB2YXIgcG9wdXBfNmM4M2NmNWU0ZTZhNDQ3Mjg2MjNiMWQ2Y2Y0ZWRlYTQgPSBMLnBvcHVwKHttYXhXaWR0aDogJzMwMCd9KTsKCiAgICAgICAgICAgIAogICAgICAgICAgICAgICAgdmFyIGh0bWxfZjVkZTJkYTViZTBhNDMyNDk5N2VmMTM2N2U5ODZjMmYgPSAkKCc8ZGl2IGlkPSJodG1sX2Y1ZGUyZGE1YmUwYTQzMjQ5OTdlZjEzNjdlOTg2YzJmIiBzdHlsZT0id2lkdGg6IDEwMC4wJTsgaGVpZ2h0OiAxMDAuMCU7Ij5QcmV0IEEgTWFuZ2VyPC9kaXY+JylbMF07CiAgICAgICAgICAgICAgICBwb3B1cF82YzgzY2Y1ZTRlNmE0NDcyODYyM2IxZDZjZjRlZGVhNC5zZXRDb250ZW50KGh0bWxfZjVkZTJkYTViZTBhNDMyNDk5N2VmMTM2N2U5ODZjMmYpOwogICAgICAgICAgICAKCiAgICAgICAgICAgIG1hcmtlcl8xMzc5YWZkYjA4NTc0OGE2OTEwOTZiZmJjNTRmYTI0Yi5iaW5kUG9wdXAocG9wdXBfNmM4M2NmNWU0ZTZhNDQ3Mjg2MjNiMWQ2Y2Y0ZWRlYTQpOwoKICAgICAgICAgICAgCiAgICAgICAgCiAgICAKCiAgICAgICAgICAgIHZhciBtYXJrZXJfYmI4MmYzNjFlOGE5NDE4M2I4MWI5OWVhMTk1NjJhYjMgPSBMLm1hcmtlcigKICAgICAgICAgICAgICAgIFszOC45MDM5NSwtNzcuMDM4MjgyXSwKICAgICAgICAgICAgICAgIHsKICAgICAgICAgICAgICAgICAgICBpY29uOiBuZXcgTC5JY29uLkRlZmF1bHQoKQogICAgICAgICAgICAgICAgICAgIH0KICAgICAgICAgICAgICAgICkKICAgICAgICAgICAgICAgIC5hZGRUbyhtYXBfZGVmNTI1ZTRmZTQzNGI2MmEwY2RhZjUyNTJhM2RlYjMpOwogICAgICAgICAgICAKICAgIAogICAgICAgICAgICB2YXIgcG9wdXBfMjU4NjQ3YzE4N2E0NDY1Nzk5ZjI3OWQ3MTUwYTc0N2UgPSBMLnBvcHVwKHttYXhXaWR0aDogJzMwMCd9KTsKCiAgICAgICAgICAgIAogICAgICAgICAgICAgICAgdmFyIGh0bWxfYWFjZGNkNTIyOGY3NDc0MGE0MjUyZjhlOWFhZWQ4MjIgPSAkKCc8ZGl2IGlkPSJodG1sX2FhY2RjZDUyMjhmNzQ3NDBhNDI1MmY4ZTlhYWVkODIyIiBzdHlsZT0id2lkdGg6IDEwMC4wJTsgaGVpZ2h0OiAxMDAuMCU7Ij5QZWV0JiMzOTtzIENvZmZlZTwvZGl2PicpWzBdOwogICAgICAgICAgICAgICAgcG9wdXBfMjU4NjQ3YzE4N2E0NDY1Nzk5ZjI3OWQ3MTUwYTc0N2Uuc2V0Q29udGVudChodG1sX2FhY2RjZDUyMjhmNzQ3NDBhNDI1MmY4ZTlhYWVkODIyKTsKICAgICAgICAgICAgCgogICAgICAgICAgICBtYXJrZXJfYmI4MmYzNjFlOGE5NDE4M2I4MWI5OWVhMTk1NjJhYjMuYmluZFBvcHVwKHBvcHVwXzI1ODY0N2MxODdhNDQ2NTc5OWYyNzlkNzE1MGE3NDdlKTsKCiAgICAgICAgICAgIAogICAgICAgIAogICAgCgogICAgICAgICAgICB2YXIgbWFya2VyXzMxYTVmM2RmMTNhZTQxMmZhZTY5YmZmODlhNTE3MTA1ID0gTC5tYXJrZXIoCiAgICAgICAgICAgICAgICBbMzguOTAyODQ0NCwtNzcuMDM4NjM0OV0sCiAgICAgICAgICAgICAgICB7CiAgICAgICAgICAgICAgICAgICAgaWNvbjogbmV3IEwuSWNvbi5EZWZhdWx0KCkKICAgICAgICAgICAgICAgICAgICB9CiAgICAgICAgICAgICAgICApCiAgICAgICAgICAgICAgICAuYWRkVG8obWFwX2RlZjUyNWU0ZmU0MzRiNjJhMGNkYWY1MjUyYTNkZWIzKTsKICAgICAgICAgICAgCiAgICAKICAgICAgICAgICAgdmFyIHBvcHVwXzlkZmEwMDI3MDkwYTRjZDI4MmM5MzJhYTQ5MzdjMGE2ID0gTC5wb3B1cCh7bWF4V2lkdGg6ICczMDAnfSk7CgogICAgICAgICAgICAKICAgICAgICAgICAgICAgIHZhciBodG1sX2E5MjkzNmMyNTAwZTRhYWRhZjFlMjJlMzE2MTVlOGU4ID0gJCgnPGRpdiBpZD0iaHRtbF9hOTI5MzZjMjUwMGU0YWFkYWYxZTIyZTMxNjE1ZThlOCIgc3R5bGU9IndpZHRoOiAxMDAuMCU7IGhlaWdodDogMTAwLjAlOyI+Q2FwaXRvbCBHcm91bmRzIENhZmU8L2Rpdj4nKVswXTsKICAgICAgICAgICAgICAgIHBvcHVwXzlkZmEwMDI3MDkwYTRjZDI4MmM5MzJhYTQ5MzdjMGE2LnNldENvbnRlbnQoaHRtbF9hOTI5MzZjMjUwMGU0YWFkYWYxZTIyZTMxNjE1ZThlOCk7CiAgICAgICAgICAgIAoKICAgICAgICAgICAgbWFya2VyXzMxYTVmM2RmMTNhZTQxMmZhZTY5YmZmODlhNTE3MTA1LmJpbmRQb3B1cChwb3B1cF85ZGZhMDAyNzA5MGE0Y2QyODJjOTMyYWE0OTM3YzBhNik7CgogICAgICAgICAgICAKICAgICAgICAKICAgIAoKICAgICAgICAgICAgdmFyIG1hcmtlcl9iZmQ3ZmFiNTE4ZTQ0MDEwYWVmOTFhMWMwZDQ2NWYwNCA9IEwubWFya2VyKAogICAgICAgICAgICAgICAgWzM4LjkwMjIsLTc3LjAzNjg2XSwKICAgICAgICAgICAgICAgIHsKICAgICAgICAgICAgICAgICAgICBpY29uOiBuZXcgTC5JY29uLkRlZmF1bHQoKQogICAgICAgICAgICAgICAgICAgIH0KICAgICAgICAgICAgICAgICkKICAgICAgICAgICAgICAgIC5hZGRUbyhtYXBfZGVmNTI1ZTRmZTQzNGI2MmEwY2RhZjUyNTJhM2RlYjMpOwogICAgICAgICAgICAKICAgIAogICAgICAgICAgICB2YXIgcG9wdXBfMGQ5NzZlYTVjMWE2NDExNTkxYWU2YzBkNzA5ODI4MjYgPSBMLnBvcHVwKHttYXhXaWR0aDogJzMwMCd9KTsKCiAgICAgICAgICAgIAogICAgICAgICAgICAgICAgdmFyIGh0bWxfYWJhY2JiNzdkZDlkNGNmYWJkZmMwZTVmNDk4NDFiM2EgPSAkKCc8ZGl2IGlkPSJodG1sX2FiYWNiYjc3ZGQ5ZDRjZmFiZGZjMGU1ZjQ5ODQxYjNhIiBzdHlsZT0id2lkdGg6IDEwMC4wJTsgaGVpZ2h0OiAxMDAuMCU7Ij5TdGFyYnVja3M8L2Rpdj4nKVswXTsKICAgICAgICAgICAgICAgIHBvcHVwXzBkOTc2ZWE1YzFhNjQxMTU5MWFlNmMwZDcwOTgyODI2LnNldENvbnRlbnQoaHRtbF9hYmFjYmI3N2RkOWQ0Y2ZhYmRmYzBlNWY0OTg0MWIzYSk7CiAgICAgICAgICAgIAoKICAgICAgICAgICAgbWFya2VyX2JmZDdmYWI1MThlNDQwMTBhZWY5MWExYzBkNDY1ZjA0LmJpbmRQb3B1cChwb3B1cF8wZDk3NmVhNWMxYTY0MTE1OTFhZTZjMGQ3MDk4MjgyNik7CgogICAgICAgICAgICAKICAgICAgICAKICAgIAoKICAgICAgICAgICAgdmFyIG1hcmtlcl8zNDg4Yjk4ZjU4NDc0MWYwYjNhY2I0ZTQ5NGRjYmViYyA9IEwubWFya2VyKAogICAgICAgICAgICAgICAgWzM4LjkwNDMzLC03Ny4wMzMyOF0sCiAgICAgICAgICAgICAgICB7CiAgICAgICAgICAgICAgICAgICAgaWNvbjogbmV3IEwuSWNvbi5EZWZhdWx0KCkKICAgICAgICAgICAgICAgICAgICB9CiAgICAgICAgICAgICAgICApCiAgICAgICAgICAgICAgICAuYWRkVG8obWFwX2RlZjUyNWU0ZmU0MzRiNjJhMGNkYWY1MjUyYTNkZWIzKTsKICAgICAgICAgICAgCiAgICAKICAgICAgICAgICAgdmFyIHBvcHVwXzljMTRjYzU4MTg5OTRhMGU4ZGQwN2E2OTRkNGY4ZDg3ID0gTC5wb3B1cCh7bWF4V2lkdGg6ICczMDAnfSk7CgogICAgICAgICAgICAKICAgICAgICAgICAgICAgIHZhciBodG1sXzI1NDFhY2JhZGY4NDQ0MDFiNzBjMjE5Y2I0MjQ0Y2VlID0gJCgnPGRpdiBpZD0iaHRtbF8yNTQxYWNiYWRmODQ0NDAxYjcwYzIxOWNiNDI0NGNlZSIgc3R5bGU9IndpZHRoOiAxMDAuMCU7IGhlaWdodDogMTAwLjAlOyI+U3RhcmJ1Y2tzPC9kaXY+JylbMF07CiAgICAgICAgICAgICAgICBwb3B1cF85YzE0Y2M1ODE4OTk0YTBlOGRkMDdhNjk0ZDRmOGQ4Ny5zZXRDb250ZW50KGh0bWxfMjU0MWFjYmFkZjg0NDQwMWI3MGMyMTljYjQyNDRjZWUpOwogICAgICAgICAgICAKCiAgICAgICAgICAgIG1hcmtlcl8zNDg4Yjk4ZjU4NDc0MWYwYjNhY2I0ZTQ5NGRjYmViYy5iaW5kUG9wdXAocG9wdXBfOWMxNGNjNTgxODk5NGEwZThkZDA3YTY5NGQ0ZjhkODcpOwoKICAgICAgICAgICAgCiAgICAgICAgCiAgICAKCiAgICAgICAgICAgIHZhciBtYXJrZXJfMDliMGM4ZDc3OTQ2NGQ1MWE3ZWJlZWM3NTY1MmQ3NzIgPSBMLm1hcmtlcigKICAgICAgICAgICAgICAgIFszOC45MDI4NzcwMDAwMDAwMDQsLTc3LjAzODk0XSwKICAgICAgICAgICAgICAgIHsKICAgICAgICAgICAgICAgICAgICBpY29uOiBuZXcgTC5JY29uLkRlZmF1bHQoKQogICAgICAgICAgICAgICAgICAgIH0KICAgICAgICAgICAgICAgICkKICAgICAgICAgICAgICAgIC5hZGRUbyhtYXBfZGVmNTI1ZTRmZTQzNGI2MmEwY2RhZjUyNTJhM2RlYjMpOwogICAgICAgICAgICAKICAgIAogICAgICAgICAgICB2YXIgcG9wdXBfODI3ZGNjMjgyZjlhNDkzNjhiNWQ1ZGNhNWIyNGFiYTYgPSBMLnBvcHVwKHttYXhXaWR0aDogJzMwMCd9KTsKCiAgICAgICAgICAgIAogICAgICAgICAgICAgICAgdmFyIGh0bWxfYWY5OWFlNThlM2VjNGJjNGE3OGRlY2NhNWVlMzU2Y2IgPSAkKCc8ZGl2IGlkPSJodG1sX2FmOTlhZTU4ZTNlYzRiYzRhNzhkZWNjYTVlZTM1NmNiIiBzdHlsZT0id2lkdGg6IDEwMC4wJTsgaGVpZ2h0OiAxMDAuMCU7Ij5TdGFyYnVja3M8L2Rpdj4nKVswXTsKICAgICAgICAgICAgICAgIHBvcHVwXzgyN2RjYzI4MmY5YTQ5MzY4YjVkNWRjYTViMjRhYmE2LnNldENvbnRlbnQoaHRtbF9hZjk5YWU1OGUzZWM0YmM0YTc4ZGVjY2E1ZWUzNTZjYik7CiAgICAgICAgICAgIAoKICAgICAgICAgICAgbWFya2VyXzA5YjBjOGQ3Nzk0NjRkNTFhN2ViZWVjNzU2NTJkNzcyLmJpbmRQb3B1cChwb3B1cF84MjdkY2MyODJmOWE0OTM2OGI1ZDVkY2E1YjI0YWJhNik7CgogICAgICAgICAgICAKICAgICAgICAKICAgIAoKICAgICAgICAgICAgdmFyIG1hcmtlcl85ZDY2ZTFlM2YxN2Y0ZGNiYjg3NjliYWYxNTIyYmMwNSA9IEwubWFya2VyKAogICAgICAgICAgICAgICAgWzM4Ljg5OTU5OTQsLTc3LjAzOTU4NzJdLAogICAgICAgICAgICAgICAgewogICAgICAgICAgICAgICAgICAgIGljb246IG5ldyBMLkljb24uRGVmYXVsdCgpCiAgICAgICAgICAgICAgICAgICAgfQogICAgICAgICAgICAgICAgKQogICAgICAgICAgICAgICAgLmFkZFRvKG1hcF9kZWY1MjVlNGZlNDM0YjYyYTBjZGFmNTI1MmEzZGViMyk7CiAgICAgICAgICAgIAogICAgCiAgICAgICAgICAgIHZhciBwb3B1cF9jN2E1MDQxZTE1M2Y0YWMzYjRhODI3N2MzMzU1ZDJlNiA9IEwucG9wdXAoe21heFdpZHRoOiAnMzAwJ30pOwoKICAgICAgICAgICAgCiAgICAgICAgICAgICAgICB2YXIgaHRtbF8wODNmNmEyMmU5YzE0NDg1YTA3MTJlZDEwM2RmYmNhYyA9ICQoJzxkaXYgaWQ9Imh0bWxfMDgzZjZhMjJlOWMxNDQ4NWEwNzEyZWQxMDNkZmJjYWMiIHN0eWxlPSJ3aWR0aDogMTAwLjAlOyBoZWlnaHQ6IDEwMC4wJTsiPk1jRG9uYWxkJiMzOTtzPC9kaXY+JylbMF07CiAgICAgICAgICAgICAgICBwb3B1cF9jN2E1MDQxZTE1M2Y0YWMzYjRhODI3N2MzMzU1ZDJlNi5zZXRDb250ZW50KGh0bWxfMDgzZjZhMjJlOWMxNDQ4NWEwNzEyZWQxMDNkZmJjYWMpOwogICAgICAgICAgICAKCiAgICAgICAgICAgIG1hcmtlcl85ZDY2ZTFlM2YxN2Y0ZGNiYjg3NjliYWYxNTIyYmMwNS5iaW5kUG9wdXAocG9wdXBfYzdhNTA0MWUxNTNmNGFjM2I0YTgyNzdjMzM1NWQyZTYpOwoKICAgICAgICAgICAgCiAgICAgICAgCiAgICAKCiAgICAgICAgICAgIHZhciBtYXJrZXJfZDkxZmIwY2RkMzhjNDE2ZDg0ZWNjODc0ZjIwMTg1OTUgPSBMLm1hcmtlcigKICAgICAgICAgICAgICAgIFszOC45MDEzODQ5MTk4ODE4LC03Ny4wMzg2MDUxMzg2NTk0OV0sCiAgICAgICAgICAgICAgICB7CiAgICAgICAgICAgICAgICAgICAgaWNvbjogbmV3IEwuSWNvbi5EZWZhdWx0KCkKICAgICAgICAgICAgICAgICAgICB9CiAgICAgICAgICAgICAgICApCiAgICAgICAgICAgICAgICAuYWRkVG8obWFwX2RlZjUyNWU0ZmU0MzRiNjJhMGNkYWY1MjUyYTNkZWIzKTsKICAgICAgICAgICAgCiAgICAKICAgICAgICAgICAgdmFyIHBvcHVwXzM2NzdmYTQyNDZjZDQwYWRhNmFlODFiNjI4NWEwMWNjID0gTC5wb3B1cCh7bWF4V2lkdGg6ICczMDAnfSk7CgogICAgICAgICAgICAKICAgICAgICAgICAgICAgIHZhciBodG1sX2QwMzk2YTdlYzg0NjQ3OGU4YzIxMDQ1YjBlNWE3NTZjID0gJCgnPGRpdiBpZD0iaHRtbF9kMDM5NmE3ZWM4NDY0NzhlOGMyMTA0NWIwZTVhNzU2YyIgc3R5bGU9IndpZHRoOiAxMDAuMCU7IGhlaWdodDogMTAwLjAlOyI+SnVhbiBWYWxkZXo8L2Rpdj4nKVswXTsKICAgICAgICAgICAgICAgIHBvcHVwXzM2NzdmYTQyNDZjZDQwYWRhNmFlODFiNjI4NWEwMWNjLnNldENvbnRlbnQoaHRtbF9kMDM5NmE3ZWM4NDY0NzhlOGMyMTA0NWIwZTVhNzU2Yyk7CiAgICAgICAgICAgIAoKICAgICAgICAgICAgbWFya2VyX2Q5MWZiMGNkZDM4YzQxNmQ4NGVjYzg3NGYyMDE4NTk1LmJpbmRQb3B1cChwb3B1cF8zNjc3ZmE0MjQ2Y2Q0MGFkYTZhZTgxYjYyODVhMDFjYyk7CgogICAgICAgICAgICAKICAgICAgICAKICAgIAoKICAgICAgICAgICAgdmFyIG1hcmtlcl83M2IwZGZjOGM0YzM0OTY4YmM0N2E5ODI5NDNhNmQwYiA9IEwubWFya2VyKAogICAgICAgICAgICAgICAgWzM4LjkwNDA0LC03Ny4wMzk2ODk5MDAwMDAwMV0sCiAgICAgICAgICAgICAgICB7CiAgICAgICAgICAgICAgICAgICAgaWNvbjogbmV3IEwuSWNvbi5EZWZhdWx0KCkKICAgICAgICAgICAgICAgICAgICB9CiAgICAgICAgICAgICAgICApCiAgICAgICAgICAgICAgICAuYWRkVG8obWFwX2RlZjUyNWU0ZmU0MzRiNjJhMGNkYWY1MjUyYTNkZWIzKTsKICAgICAgICAgICAgCiAgICAKICAgICAgICAgICAgdmFyIHBvcHVwX2ZjZWE5NGMxZTk3YTQ5NDdhNTZlZjc5YmNiYTk3NmM4ID0gTC5wb3B1cCh7bWF4V2lkdGg6ICczMDAnfSk7CgogICAgICAgICAgICAKICAgICAgICAgICAgICAgIHZhciBodG1sXzMyNjM5M2M2MWY0ZjQ3NmVhYjU1YzE1OTY5MjY1ZWI0ID0gJCgnPGRpdiBpZD0iaHRtbF8zMjYzOTNjNjFmNGY0NzZlYWI1NWMxNTk2OTI2NWViNCIgc3R5bGU9IndpZHRoOiAxMDAuMCU7IGhlaWdodDogMTAwLjAlOyI+Q29mZmVlIEV4cHJlc3M8L2Rpdj4nKVswXTsKICAgICAgICAgICAgICAgIHBvcHVwX2ZjZWE5NGMxZTk3YTQ5NDdhNTZlZjc5YmNiYTk3NmM4LnNldENvbnRlbnQoaHRtbF8zMjYzOTNjNjFmNGY0NzZlYWI1NWMxNTk2OTI2NWViNCk7CiAgICAgICAgICAgIAoKICAgICAgICAgICAgbWFya2VyXzczYjBkZmM4YzRjMzQ5NjhiYzQ3YTk4Mjk0M2E2ZDBiLmJpbmRQb3B1cChwb3B1cF9mY2VhOTRjMWU5N2E0OTQ3YTU2ZWY3OWJjYmE5NzZjOCk7CgogICAgICAgICAgICAKICAgICAgICAKICAgIAoKICAgICAgICAgICAgdmFyIG1hcmtlcl9kYTFlOGQ0NDNiY2Y0MWNlOTE0Yjk4YjQ1MGFiYjNhMiA9IEwubWFya2VyKAogICAgICAgICAgICAgICAgWzM4LjkwMTg1NzYzNjk1OTI5LC03Ny4wMzk2MzMwOTUyNjQ0XSwKICAgICAgICAgICAgICAgIHsKICAgICAgICAgICAgICAgICAgICBpY29uOiBuZXcgTC5JY29uLkRlZmF1bHQoKQogICAgICAgICAgICAgICAgICAgIH0KICAgICAgICAgICAgICAgICkKICAgICAgICAgICAgICAgIC5hZGRUbyhtYXBfZGVmNTI1ZTRmZTQzNGI2MmEwY2RhZjUyNTJhM2RlYjMpOwogICAgICAgICAgICAKICAgIAogICAgICAgICAgICB2YXIgcG9wdXBfYjk4ZjYzOGY2ZDRmNGQxYmE4YjQxMWU0NGJhMTc3ZDcgPSBMLnBvcHVwKHttYXhXaWR0aDogJzMwMCd9KTsKCiAgICAgICAgICAgIAogICAgICAgICAgICAgICAgdmFyIGh0bWxfYmRhNDFhZmMzZDI1NDJlY2E3ODE4ZTUzZTg4ODZiZmYgPSAkKCc8ZGl2IGlkPSJodG1sX2JkYTQxYWZjM2QyNTQyZWNhNzgxOGU1M2U4ODg2YmZmIiBzdHlsZT0id2lkdGg6IDEwMC4wJTsgaGVpZ2h0OiAxMDAuMCU7Ij43LUVsZXZlbjwvZGl2PicpWzBdOwogICAgICAgICAgICAgICAgcG9wdXBfYjk4ZjYzOGY2ZDRmNGQxYmE4YjQxMWU0NGJhMTc3ZDcuc2V0Q29udGVudChodG1sX2JkYTQxYWZjM2QyNTQyZWNhNzgxOGU1M2U4ODg2YmZmKTsKICAgICAgICAgICAgCgogICAgICAgICAgICBtYXJrZXJfZGExZThkNDQzYmNmNDFjZTkxNGI5OGI0NTBhYmIzYTIuYmluZFBvcHVwKHBvcHVwX2I5OGY2MzhmNmQ0ZjRkMWJhOGI0MTFlNDRiYTE3N2Q3KTsKCiAgICAgICAgICAgIAogICAgICAgIAogICAgCgogICAgICAgICAgICB2YXIgbWFya2VyXzVmYmFmYjcwODkzODQwMjliMWYxYjI5ODJjYTA3OGQxID0gTC5tYXJrZXIoCiAgICAgICAgICAgICAgICBbMzguOTAxMjk1MDM2OTM0OCwtNzcuMDM5ODE5ODU2MjAzNl0sCiAgICAgICAgICAgICAgICB7CiAgICAgICAgICAgICAgICAgICAgaWNvbjogbmV3IEwuSWNvbi5EZWZhdWx0KCkKICAgICAgICAgICAgICAgICAgICB9CiAgICAgICAgICAgICAgICApCiAgICAgICAgICAgICAgICAuYWRkVG8obWFwX2RlZjUyNWU0ZmU0MzRiNjJhMGNkYWY1MjUyYTNkZWIzKTsKICAgICAgICAgICAgCiAgICAKICAgICAgICAgICAgdmFyIHBvcHVwXzRjNmMzZTYyN2QwMjRmZWNhMjMwYWY5ZTI3YTJjMWYyID0gTC5wb3B1cCh7bWF4V2lkdGg6ICczMDAnfSk7CgogICAgICAgICAgICAKICAgICAgICAgICAgICAgIHZhciBodG1sXzE1ZGNmMmYwY2QyMTQzMTRhYjg2YjU5OWE3MWQyMGU1ID0gJCgnPGRpdiBpZD0iaHRtbF8xNWRjZjJmMGNkMjE0MzE0YWI4NmI1OTlhNzFkMjBlNSIgc3R5bGU9IndpZHRoOiAxMDAuMCU7IGhlaWdodDogMTAwLjAlOyI+TGEgQ29sb21iZTwvZGl2PicpWzBdOwogICAgICAgICAgICAgICAgcG9wdXBfNGM2YzNlNjI3ZDAyNGZlY2EyMzBhZjllMjdhMmMxZjIuc2V0Q29udGVudChodG1sXzE1ZGNmMmYwY2QyMTQzMTRhYjg2YjU5OWE3MWQyMGU1KTsKICAgICAgICAgICAgCgogICAgICAgICAgICBtYXJrZXJfNWZiYWZiNzA4OTM4NDAyOWIxZjFiMjk4MmNhMDc4ZDEuYmluZFBvcHVwKHBvcHVwXzRjNmMzZTYyN2QwMjRmZWNhMjMwYWY5ZTI3YTJjMWYyKTsKCiAgICAgICAgICAgIAogICAgICAgIAogICAgCgogICAgICAgICAgICB2YXIgbWFya2VyXzZmNDdmZjYyYjhiZjQyZWI4YzYxYzM5ZTJhMjI0MDVjID0gTC5tYXJrZXIoCiAgICAgICAgICAgICAgICBbMzguODk5NjA1OSwtNzcuMDQwOTM0XSwKICAgICAgICAgICAgICAgIHsKICAgICAgICAgICAgICAgICAgICBpY29uOiBuZXcgTC5JY29uLkRlZmF1bHQoKQogICAgICAgICAgICAgICAgICAgIH0KICAgICAgICAgICAgICAgICkKICAgICAgICAgICAgICAgIC5hZGRUbyhtYXBfZGVmNTI1ZTRmZTQzNGI2MmEwY2RhZjUyNTJhM2RlYjMpOwogICAgICAgICAgICAKICAgIAogICAgICAgICAgICB2YXIgcG9wdXBfMDVlMjk3NmYzM2ExNGQ4Y2EwYzMwYTE2MTM0MGZkNmEgPSBMLnBvcHVwKHttYXhXaWR0aDogJzMwMCd9KTsKCiAgICAgICAgICAgIAogICAgICAgICAgICAgICAgdmFyIGh0bWxfY2ZhMDE0NDZhOGIyNGY1YzlkNmFmNmE0OWI0OGQ3ODIgPSAkKCc8ZGl2IGlkPSJodG1sX2NmYTAxNDQ2YThiMjRmNWM5ZDZhZjZhNDliNDhkNzgyIiBzdHlsZT0id2lkdGg6IDEwMC4wJTsgaGVpZ2h0OiAxMDAuMCU7Ij5CcmVhZGxpbmU8L2Rpdj4nKVswXTsKICAgICAgICAgICAgICAgIHBvcHVwXzA1ZTI5NzZmMzNhMTRkOGNhMGMzMGExNjEzNDBmZDZhLnNldENvbnRlbnQoaHRtbF9jZmEwMTQ0NmE4YjI0ZjVjOWQ2YWY2YTQ5YjQ4ZDc4Mik7CiAgICAgICAgICAgIAoKICAgICAgICAgICAgbWFya2VyXzZmNDdmZjYyYjhiZjQyZWI4YzYxYzM5ZTJhMjI0MDVjLmJpbmRQb3B1cChwb3B1cF8wNWUyOTc2ZjMzYTE0ZDhjYTBjMzBhMTYxMzQwZmQ2YSk7CgogICAgICAgICAgICAKICAgICAgICAKICAgIAoKICAgICAgICAgICAgdmFyIG1hcmtlcl84YTg1ZDk4NzhhZTI0YTY1ODk2MGE1NmExODI3Yjc1YSA9IEwubWFya2VyKAogICAgICAgICAgICAgICAgWzM4LjkwOTUxLC03Ny4wNDYzOF0sCiAgICAgICAgICAgICAgICB7CiAgICAgICAgICAgICAgICAgICAgaWNvbjogbmV3IEwuSWNvbi5EZWZhdWx0KCkKICAgICAgICAgICAgICAgICAgICB9CiAgICAgICAgICAgICAgICApCiAgICAgICAgICAgICAgICAuYWRkVG8obWFwX2RlZjUyNWU0ZmU0MzRiNjJhMGNkYWY1MjUyYTNkZWIzKTsKICAgICAgICAgICAgCiAgICAKICAgICAgICAgICAgdmFyIHBvcHVwXzkzMDA5NGNkYWVjMTRhYzk5ZGQ2MGNkNGJkNTNiZTlmID0gTC5wb3B1cCh7bWF4V2lkdGg6ICczMDAnfSk7CgogICAgICAgICAgICAKICAgICAgICAgICAgICAgIHZhciBodG1sXzFhYmJlYzBjMjYxZjQ5MDdhZDRiYWFlNjI1MGMyODhjID0gJCgnPGRpdiBpZD0iaHRtbF8xYWJiZWMwYzI2MWY0OTA3YWQ0YmFhZTYyNTBjMjg4YyIgc3R5bGU9IndpZHRoOiAxMDAuMCU7IGhlaWdodDogMTAwLjAlOyI+RW1pc3Nhcnk8L2Rpdj4nKVswXTsKICAgICAgICAgICAgICAgIHBvcHVwXzkzMDA5NGNkYWVjMTRhYzk5ZGQ2MGNkNGJkNTNiZTlmLnNldENvbnRlbnQoaHRtbF8xYWJiZWMwYzI2MWY0OTA3YWQ0YmFhZTYyNTBjMjg4Yyk7CiAgICAgICAgICAgIAoKICAgICAgICAgICAgbWFya2VyXzhhODVkOTg3OGFlMjRhNjU4OTYwYTU2YTE4MjdiNzVhLmJpbmRQb3B1cChwb3B1cF85MzAwOTRjZGFlYzE0YWM5OWRkNjBjZDRiZDUzYmU5Zik7CgogICAgICAgICAgICAKICAgICAgICAKICAgIAoKICAgICAgICAgICAgdmFyIG1hcmtlcl9iNDkwM2UzYWEwZmI0MGM2OWI0NzA4YTM0ZGIyYTBkOCA9IEwubWFya2VyKAogICAgICAgICAgICAgICAgWzM4LjkwODY2NywtNzcuMDQzMjA4OTk5OTk5OTldLAogICAgICAgICAgICAgICAgewogICAgICAgICAgICAgICAgICAgIGljb246IG5ldyBMLkljb24uRGVmYXVsdCgpCiAgICAgICAgICAgICAgICAgICAgfQogICAgICAgICAgICAgICAgKQogICAgICAgICAgICAgICAgLmFkZFRvKG1hcF9kZWY1MjVlNGZlNDM0YjYyYTBjZGFmNTI1MmEzZGViMyk7CiAgICAgICAgICAgIAogICAgCiAgICAgICAgICAgIHZhciBwb3B1cF8yN2YwODAwNWRhNDk0M2U0ODU3NTFmNTg1MTIwYmUzMyA9IEwucG9wdXAoe21heFdpZHRoOiAnMzAwJ30pOwoKICAgICAgICAgICAgCiAgICAgICAgICAgICAgICB2YXIgaHRtbF9jZGE5Mzg5OTRjOGI0Mzg5YjMxNTk4ODU4NmJhNTE3MiA9ICQoJzxkaXYgaWQ9Imh0bWxfY2RhOTM4OTk0YzhiNDM4OWIzMTU5ODg1ODZiYTUxNzIiIHN0eWxlPSJ3aWR0aDogMTAwLjAlOyBoZWlnaHQ6IDEwMC4wJTsiPktyaXNweSBLcmVtZTwvZGl2PicpWzBdOwogICAgICAgICAgICAgICAgcG9wdXBfMjdmMDgwMDVkYTQ5NDNlNDg1NzUxZjU4NTEyMGJlMzMuc2V0Q29udGVudChodG1sX2NkYTkzODk5NGM4YjQzODliMzE1OTg4NTg2YmE1MTcyKTsKICAgICAgICAgICAgCgogICAgICAgICAgICBtYXJrZXJfYjQ5MDNlM2FhMGZiNDBjNjliNDcwOGEzNGRiMmEwZDguYmluZFBvcHVwKHBvcHVwXzI3ZjA4MDA1ZGE0OTQzZTQ4NTc1MWY1ODUxMjBiZTMzKTsKCiAgICAgICAgICAgIAogICAgICAgIAogICAgCgogICAgICAgICAgICB2YXIgbWFya2VyX2EzZGVkZWM3ZDg3YTQ0YTM4ZTkzMjg0MzNhNGZhMDQzID0gTC5tYXJrZXIoCiAgICAgICAgICAgICAgICBbMzguOTA1NzczMzE0MTgyNCwtNzcuMDM4ODU1MTE1OTUzOTFdLAogICAgICAgICAgICAgICAgewogICAgICAgICAgICAgICAgICAgIGljb246IG5ldyBMLkljb24uRGVmYXVsdCgpCiAgICAgICAgICAgICAgICAgICAgfQogICAgICAgICAgICAgICAgKQogICAgICAgICAgICAgICAgLmFkZFRvKG1hcF9kZWY1MjVlNGZlNDM0YjYyYTBjZGFmNTI1MmEzZGViMyk7CiAgICAgICAgICAgIAogICAgCiAgICAgICAgICAgIHZhciBwb3B1cF9hY2I5YWE0ODNmMGQ0NzkwYWE1YjM0MmY4MjZjY2EwYiA9IEwucG9wdXAoe21heFdpZHRoOiAnMzAwJ30pOwoKICAgICAgICAgICAgCiAgICAgICAgICAgICAgICB2YXIgaHRtbF9iZTUzYWZlM2M2MDA0ZDg2YTlmYWVlOTU5NGM5ZTNkZiA9ICQoJzxkaXYgaWQ9Imh0bWxfYmU1M2FmZTNjNjAwNGQ4NmE5ZmFlZTk1OTRjOWUzZGYiIHN0eWxlPSJ3aWR0aDogMTAwLjAlOyBoZWlnaHQ6IDEwMC4wJTsiPlRoZSBDb2ZmZWUgQmFyPC9kaXY+JylbMF07CiAgICAgICAgICAgICAgICBwb3B1cF9hY2I5YWE0ODNmMGQ0NzkwYWE1YjM0MmY4MjZjY2EwYi5zZXRDb250ZW50KGh0bWxfYmU1M2FmZTNjNjAwNGQ4NmE5ZmFlZTk1OTRjOWUzZGYpOwogICAgICAgICAgICAKCiAgICAgICAgICAgIG1hcmtlcl9hM2RlZGVjN2Q4N2E0NGEzOGU5MzI4NDMzYTRmYTA0My5iaW5kUG9wdXAocG9wdXBfYWNiOWFhNDgzZjBkNDc5MGFhNWIzNDJmODI2Y2NhMGIpOwoKICAgICAgICAgICAgCiAgICAgICAgCiAgICAKCiAgICAgICAgICAgIHZhciBtYXJrZXJfMzcxMDJlNDM5MGM0NDA1OTg3YmE1YWJiZDA1MjU3YWMgPSBMLm1hcmtlcigKICAgICAgICAgICAgICAgIFszOC45MDA5Mjg2MjAzNjgxLC03Ny4wMzk2Nzg2ODE1MTE1XSwKICAgICAgICAgICAgICAgIHsKICAgICAgICAgICAgICAgICAgICBpY29uOiBuZXcgTC5JY29uLkRlZmF1bHQoKQogICAgICAgICAgICAgICAgICAgIH0KICAgICAgICAgICAgICAgICkKICAgICAgICAgICAgICAgIC5hZGRUbyhtYXBfZGVmNTI1ZTRmZTQzNGI2MmEwY2RhZjUyNTJhM2RlYjMpOwogICAgICAgICAgICAKICAgIAogICAgICAgICAgICB2YXIgcG9wdXBfMjA5ZWQwNTI3Y2E5NDNjY2FiYTllZWIwNDNlNjZjMzAgPSBMLnBvcHVwKHttYXhXaWR0aDogJzMwMCd9KTsKCiAgICAgICAgICAgIAogICAgICAgICAgICAgICAgdmFyIGh0bWxfMWVmYjI3YzJmOTJiNGJiNGE1YjhiOWQwY2M4N2Y5OTMgPSAkKCc8ZGl2IGlkPSJodG1sXzFlZmIyN2MyZjkyYjRiYjRhNWI4YjlkMGNjODdmOTkzIiBzdHlsZT0id2lkdGg6IDEwMC4wJTsgaGVpZ2h0OiAxMDAuMCU7Ij5MZSBQYWluIFF1b3RpZGllbjwvZGl2PicpWzBdOwogICAgICAgICAgICAgICAgcG9wdXBfMjA5ZWQwNTI3Y2E5NDNjY2FiYTllZWIwNDNlNjZjMzAuc2V0Q29udGVudChodG1sXzFlZmIyN2MyZjkyYjRiYjRhNWI4YjlkMGNjODdmOTkzKTsKICAgICAgICAgICAgCgogICAgICAgICAgICBtYXJrZXJfMzcxMDJlNDM5MGM0NDA1OTg3YmE1YWJiZDA1MjU3YWMuYmluZFBvcHVwKHBvcHVwXzIwOWVkMDUyN2NhOTQzY2NhYmE5ZWViMDQzZTY2YzMwKTsKCiAgICAgICAgICAgIAogICAgICAgIAogICAgCgogICAgICAgICAgICB2YXIgbWFya2VyXzNlMTk2NjRhOGNlYTQxNzI4MGU1NWQ3YzA2N2E5MjFjID0gTC5tYXJrZXIoCiAgICAgICAgICAgICAgICBbMzguODk5MDE0NTI1MzE3MiwtNzcuMDM5NzA2OTg4ODI1MDldLAogICAgICAgICAgICAgICAgewogICAgICAgICAgICAgICAgICAgIGljb246IG5ldyBMLkljb24uRGVmYXVsdCgpCiAgICAgICAgICAgICAgICAgICAgfQogICAgICAgICAgICAgICAgKQogICAgICAgICAgICAgICAgLmFkZFRvKG1hcF9kZWY1MjVlNGZlNDM0YjYyYTBjZGFmNTI1MmEzZGViMyk7CiAgICAgICAgICAgIAogICAgCiAgICAgICAgICAgIHZhciBwb3B1cF80ZjI4MTI4NGE1ZDE0MmQ4YmJmNTY2M2YzY2VkMDhkZiA9IEwucG9wdXAoe21heFdpZHRoOiAnMzAwJ30pOwoKICAgICAgICAgICAgCiAgICAgICAgICAgICAgICB2YXIgaHRtbF9iMGY5ODYyZDUyOGE0Y2ZmYTQzM2RiYTU3ZTRmZTVkYSA9ICQoJzxkaXYgaWQ9Imh0bWxfYjBmOTg2MmQ1MjhhNGNmZmE0MzNkYmE1N2U0ZmU1ZGEiIHN0eWxlPSJ3aWR0aDogMTAwLjAlOyBoZWlnaHQ6IDEwMC4wJTsiPlBlZXQmIzM5O3MgQ29mZmVlPC9kaXY+JylbMF07CiAgICAgICAgICAgICAgICBwb3B1cF80ZjI4MTI4NGE1ZDE0MmQ4YmJmNTY2M2YzY2VkMDhkZi5zZXRDb250ZW50KGh0bWxfYjBmOTg2MmQ1MjhhNGNmZmE0MzNkYmE1N2U0ZmU1ZGEpOwogICAgICAgICAgICAKCiAgICAgICAgICAgIG1hcmtlcl8zZTE5NjY0YThjZWE0MTcyODBlNTVkN2MwNjdhOTIxYy5iaW5kUG9wdXAocG9wdXBfNGYyODEyODRhNWQxNDJkOGJiZjU2NjNmM2NlZDA4ZGYpOwoKICAgICAgICAgICAgCiAgICAgICAgCiAgICAKCiAgICAgICAgICAgIHZhciBtYXJrZXJfNzVlYjM0NWRjYWJlNGQzYjhiYjRlMDJkMTFhZmVjMmMgPSBMLm1hcmtlcigKICAgICAgICAgICAgICAgIFszOC45MDk4MDEsLTc3LjA0NTE1MV0sCiAgICAgICAgICAgICAgICB7CiAgICAgICAgICAgICAgICAgICAgaWNvbjogbmV3IEwuSWNvbi5EZWZhdWx0KCkKICAgICAgICAgICAgICAgICAgICB9CiAgICAgICAgICAgICAgICApCiAgICAgICAgICAgICAgICAuYWRkVG8obWFwX2RlZjUyNWU0ZmU0MzRiNjJhMGNkYWY1MjUyYTNkZWIzKTsKICAgICAgICAgICAgCiAgICAKICAgICAgICAgICAgdmFyIHBvcHVwXzJmODdiNGFiYTdlYjRiNDhiYjViN2QwOTg4NzVhODNkID0gTC5wb3B1cCh7bWF4V2lkdGg6ICczMDAnfSk7CgogICAgICAgICAgICAKICAgICAgICAgICAgICAgIHZhciBodG1sXzc0ZjdhNTM1MmViYTQ0OGM4ZjY4M2NlMzA0ODNhZTY4ID0gJCgnPGRpdiBpZD0iaHRtbF83NGY3YTUzNTJlYmE0NDhjOGY2ODNjZTMwNDgzYWU2OCIgc3R5bGU9IndpZHRoOiAxMDAuMCU7IGhlaWdodDogMTAwLjAlOyI+TGUgUGFpbiBRdW90aWRpZW48L2Rpdj4nKVswXTsKICAgICAgICAgICAgICAgIHBvcHVwXzJmODdiNGFiYTdlYjRiNDhiYjViN2QwOTg4NzVhODNkLnNldENvbnRlbnQoaHRtbF83NGY3YTUzNTJlYmE0NDhjOGY2ODNjZTMwNDgzYWU2OCk7CiAgICAgICAgICAgIAoKICAgICAgICAgICAgbWFya2VyXzc1ZWIzNDVkY2FiZTRkM2I4YmI0ZTAyZDExYWZlYzJjLmJpbmRQb3B1cChwb3B1cF8yZjg3YjRhYmE3ZWI0YjQ4YmI1YjdkMDk4ODc1YTgzZCk7CgogICAgICAgICAgICAKICAgICAgICAKICAgIAoKICAgICAgICAgICAgdmFyIG1hcmtlcl9lMDdmOWE3NzViNzY0NzU0ODNiNDhlYzY0ODc3MzBiOSA9IEwubWFya2VyKAogICAgICAgICAgICAgICAgWzM4LjkwODE2ODc5MjcyNDYsLTc3LjAzNzk3MTQ5NjU4Ml0sCiAgICAgICAgICAgICAgICB7CiAgICAgICAgICAgICAgICAgICAgaWNvbjogbmV3IEwuSWNvbi5EZWZhdWx0KCkKICAgICAgICAgICAgICAgICAgICB9CiAgICAgICAgICAgICAgICApCiAgICAgICAgICAgICAgICAuYWRkVG8obWFwX2RlZjUyNWU0ZmU0MzRiNjJhMGNkYWY1MjUyYTNkZWIzKTsKICAgICAgICAgICAgCiAgICAKICAgICAgICAgICAgdmFyIHBvcHVwXzM5Mjk1Y2MyZmM3NzQ3ZmJiMzU2N2Q0YzY2MjVhMjgyID0gTC5wb3B1cCh7bWF4V2lkdGg6ICczMDAnfSk7CgogICAgICAgICAgICAKICAgICAgICAgICAgICAgIHZhciBodG1sXzdhYTc4NGIyNmRlOTQ3ZTI4ZDE5NmY0MmRlYWY0MDEyID0gJCgnPGRpdiBpZD0iaHRtbF83YWE3ODRiMjZkZTk0N2UyOGQxOTZmNDJkZWFmNDAxMiIgc3R5bGU9IndpZHRoOiAxMDAuMCU7IGhlaWdodDogMTAwLjAlOyI+R2FsbGV5IENhZmU8L2Rpdj4nKVswXTsKICAgICAgICAgICAgICAgIHBvcHVwXzM5Mjk1Y2MyZmM3NzQ3ZmJiMzU2N2Q0YzY2MjVhMjgyLnNldENvbnRlbnQoaHRtbF83YWE3ODRiMjZkZTk0N2UyOGQxOTZmNDJkZWFmNDAxMik7CiAgICAgICAgICAgIAoKICAgICAgICAgICAgbWFya2VyX2UwN2Y5YTc3NWI3NjQ3NTQ4M2I0OGVjNjQ4NzczMGI5LmJpbmRQb3B1cChwb3B1cF8zOTI5NWNjMmZjNzc0N2ZiYjM1NjdkNGM2NjI1YTI4Mik7CgogICAgICAgICAgICAKICAgICAgICAKICAgIAoKICAgICAgICAgICAgdmFyIG1hcmtlcl8xNzExMmNmOTAzNTI0ZjI0OTliNzJkNTA5NDJhZDA3YyA9IEwubWFya2VyKAogICAgICAgICAgICAgICAgWzM4Ljg5ODU5MDAwMDAwMDAwNiwtNzcuMDM5ODY3XSwKICAgICAgICAgICAgICAgIHsKICAgICAgICAgICAgICAgICAgICBpY29uOiBuZXcgTC5JY29uLkRlZmF1bHQoKQogICAgICAgICAgICAgICAgICAgIH0KICAgICAgICAgICAgICAgICkKICAgICAgICAgICAgICAgIC5hZGRUbyhtYXBfZGVmNTI1ZTRmZTQzNGI2MmEwY2RhZjUyNTJhM2RlYjMpOwogICAgICAgICAgICAKICAgIAogICAgICAgICAgICB2YXIgcG9wdXBfYzU2NjJmYzRmYzZmNGRiMzkxMDYyYjVkOTgzYzdiOTIgPSBMLnBvcHVwKHttYXhXaWR0aDogJzMwMCd9KTsKCiAgICAgICAgICAgIAogICAgICAgICAgICAgICAgdmFyIGh0bWxfNGM2Yjg5NzUyZTgwNGMyMGFlZDFhMDE1NDI4NzMxNDggPSAkKCc8ZGl2IGlkPSJodG1sXzRjNmI4OTc1MmU4MDRjMjBhZWQxYTAxNTQyODczMTQ4IiBzdHlsZT0id2lkdGg6IDEwMC4wJTsgaGVpZ2h0OiAxMDAuMCU7Ij5Db3NpPC9kaXY+JylbMF07CiAgICAgICAgICAgICAgICBwb3B1cF9jNTY2MmZjNGZjNmY0ZGIzOTEwNjJiNWQ5ODNjN2I5Mi5zZXRDb250ZW50KGh0bWxfNGM2Yjg5NzUyZTgwNGMyMGFlZDFhMDE1NDI4NzMxNDgpOwogICAgICAgICAgICAKCiAgICAgICAgICAgIG1hcmtlcl8xNzExMmNmOTAzNTI0ZjI0OTliNzJkNTA5NDJhZDA3Yy5iaW5kUG9wdXAocG9wdXBfYzU2NjJmYzRmYzZmNGRiMzkxMDYyYjVkOTgzYzdiOTIpOwoKICAgICAgICAgICAgCiAgICAgICAgCiAgICAKCiAgICAgICAgICAgIHZhciBtYXJrZXJfMzY1OGQ2Mjk2NTYzNDI0MDg1YjAzY2U0NjE0NTkwZDggPSBMLm1hcmtlcigKICAgICAgICAgICAgICAgIFszOC44OTg3LC03Ny4wNDA0NF0sCiAgICAgICAgICAgICAgICB7CiAgICAgICAgICAgICAgICAgICAgaWNvbjogbmV3IEwuSWNvbi5EZWZhdWx0KCkKICAgICAgICAgICAgICAgICAgICB9CiAgICAgICAgICAgICAgICApCiAgICAgICAgICAgICAgICAuYWRkVG8obWFwX2RlZjUyNWU0ZmU0MzRiNjJhMGNkYWY1MjUyYTNkZWIzKTsKICAgICAgICAgICAgCiAgICAKICAgICAgICAgICAgdmFyIHBvcHVwX2I1ZmVmM2M2Yjk5ZTQyNTc4ZGQ0ZDdiNDBmY2M4OTZmID0gTC5wb3B1cCh7bWF4V2lkdGg6ICczMDAnfSk7CgogICAgICAgICAgICAKICAgICAgICAgICAgICAgIHZhciBodG1sX2QwMGUzMDI4MDQ3ZjQyYWY5MmY2ZTU5NGQ4NjkzNjNiID0gJCgnPGRpdiBpZD0iaHRtbF9kMDBlMzAyODA0N2Y0MmFmOTJmNmU1OTRkODY5MzYzYiIgc3R5bGU9IndpZHRoOiAxMDAuMCU7IGhlaWdodDogMTAwLjAlOyI+U3RhcmJ1Y2tzPC9kaXY+JylbMF07CiAgICAgICAgICAgICAgICBwb3B1cF9iNWZlZjNjNmI5OWU0MjU3OGRkNGQ3YjQwZmNjODk2Zi5zZXRDb250ZW50KGh0bWxfZDAwZTMwMjgwNDdmNDJhZjkyZjZlNTk0ZDg2OTM2M2IpOwogICAgICAgICAgICAKCiAgICAgICAgICAgIG1hcmtlcl8zNjU4ZDYyOTY1NjM0MjQwODViMDNjZTQ2MTQ1OTBkOC5iaW5kUG9wdXAocG9wdXBfYjVmZWYzYzZiOTllNDI1NzhkZDRkN2I0MGZjYzg5NmYpOwoKICAgICAgICAgICAgCiAgICAgICAgCiAgICAKCiAgICAgICAgICAgIHZhciBtYXJrZXJfNDQ4YWI4ZWI5NTE2NGQwYTg2NGExNjA2MjA3ZjVlZmEgPSBMLm1hcmtlcigKICAgICAgICAgICAgICAgIFszOC45MDc0MzExMDY4NjQsLTc3LjA0MTg0NDY0Njc2NV0sCiAgICAgICAgICAgICAgICB7CiAgICAgICAgICAgICAgICAgICAgaWNvbjogbmV3IEwuSWNvbi5EZWZhdWx0KCkKICAgICAgICAgICAgICAgICAgICB9CiAgICAgICAgICAgICAgICApCiAgICAgICAgICAgICAgICAuYWRkVG8obWFwX2RlZjUyNWU0ZmU0MzRiNjJhMGNkYWY1MjUyYTNkZWIzKTsKICAgICAgICAgICAgCiAgICAKICAgICAgICAgICAgdmFyIHBvcHVwX2UyZWE5YzdkZjk1ODQ3ZTA5YmNlNDE5MmYzYjZkY2QyID0gTC5wb3B1cCh7bWF4V2lkdGg6ICczMDAnfSk7CgogICAgICAgICAgICAKICAgICAgICAgICAgICAgIHZhciBodG1sXzczNDBkODk1YWRjZTQ3MzFiNWIxOTlmNDg2YzE5Yjg1ID0gJCgnPGRpdiBpZD0iaHRtbF83MzQwZDg5NWFkY2U0NzMxYjViMTk5ZjQ4NmMxOWI4NSIgc3R5bGU9IndpZHRoOiAxMDAuMCU7IGhlaWdodDogMTAwLjAlOyI+U3RhcmJ1Y2tzPC9kaXY+JylbMF07CiAgICAgICAgICAgICAgICBwb3B1cF9lMmVhOWM3ZGY5NTg0N2UwOWJjZTQxOTJmM2I2ZGNkMi5zZXRDb250ZW50KGh0bWxfNzM0MGQ4OTVhZGNlNDczMWI1YjE5OWY0ODZjMTliODUpOwogICAgICAgICAgICAKCiAgICAgICAgICAgIG1hcmtlcl80NDhhYjhlYjk1MTY0ZDBhODY0YTE2MDYyMDdmNWVmYS5iaW5kUG9wdXAocG9wdXBfZTJlYTljN2RmOTU4NDdlMDliY2U0MTkyZjNiNmRjZDIpOwoKICAgICAgICAgICAgCiAgICAgICAgCiAgICAKCiAgICAgICAgICAgIHZhciBtYXJrZXJfODRjY2Y2YjlmN2IzNDIzYjk0ZWE5YmQzNGI3OTMwOGIgPSBMLm1hcmtlcigKICAgICAgICAgICAgICAgIFszOC45MDIyODUwMjE4NTA2LC03Ny4wMzk5MTMwNTA4MzA0XSwKICAgICAgICAgICAgICAgIHsKICAgICAgICAgICAgICAgICAgICBpY29uOiBuZXcgTC5JY29uLkRlZmF1bHQoKQogICAgICAgICAgICAgICAgICAgIH0KICAgICAgICAgICAgICAgICkKICAgICAgICAgICAgICAgIC5hZGRUbyhtYXBfZGVmNTI1ZTRmZTQzNGI2MmEwY2RhZjUyNTJhM2RlYjMpOwogICAgICAgICAgICAKICAgIAogICAgICAgICAgICB2YXIgcG9wdXBfNWJkYjFiNzJjMjZlNDAzZGI0NWJhZmU1MmQ4MzM1NzcgPSBMLnBvcHVwKHttYXhXaWR0aDogJzMwMCd9KTsKCiAgICAgICAgICAgIAogICAgICAgICAgICAgICAgdmFyIGh0bWxfNGY3ODhiZmUyNzM0NDFjYjkzZjE0ZDkyZmRmNmU1OWYgPSAkKCc8ZGl2IGlkPSJodG1sXzRmNzg4YmZlMjczNDQxY2I5M2YxNGQ5MmZkZjZlNTlmIiBzdHlsZT0id2lkdGg6IDEwMC4wJTsgaGVpZ2h0OiAxMDAuMCU7Ij5EdW5raW4mIzM5OyBEb251dHM8L2Rpdj4nKVswXTsKICAgICAgICAgICAgICAgIHBvcHVwXzViZGIxYjcyYzI2ZTQwM2RiNDViYWZlNTJkODMzNTc3LnNldENvbnRlbnQoaHRtbF80Zjc4OGJmZTI3MzQ0MWNiOTNmMTRkOTJmZGY2ZTU5Zik7CiAgICAgICAgICAgIAoKICAgICAgICAgICAgbWFya2VyXzg0Y2NmNmI5ZjdiMzQyM2I5NGVhOWJkMzRiNzkzMDhiLmJpbmRQb3B1cChwb3B1cF81YmRiMWI3MmMyNmU0MDNkYjQ1YmFmZTUyZDgzMzU3Nyk7CgogICAgICAgICAgICAKICAgICAgICAKICAgIAoKICAgICAgICAgICAgdmFyIG1hcmtlcl9mZTBmMDcxNTk0Mzk0ZDUxYmQ3ZTAzNTE3MmVlMmVlNCA9IEwubWFya2VyKAogICAgICAgICAgICAgICAgWzM4LjkwMzY1OTY1NzkyNTIsLTc3LjA0MDg1OTQ0MTkxMDVdLAogICAgICAgICAgICAgICAgewogICAgICAgICAgICAgICAgICAgIGljb246IG5ldyBMLkljb24uRGVmYXVsdCgpCiAgICAgICAgICAgICAgICAgICAgfQogICAgICAgICAgICAgICAgKQogICAgICAgICAgICAgICAgLmFkZFRvKG1hcF9kZWY1MjVlNGZlNDM0YjYyYTBjZGFmNTI1MmEzZGViMyk7CiAgICAgICAgICAgIAogICAgCiAgICAgICAgICAgIHZhciBwb3B1cF83MWMwOGI4MGM3YjM0Mjc1OGMwNGNiMGE0M2VmYjkyMiA9IEwucG9wdXAoe21heFdpZHRoOiAnMzAwJ30pOwoKICAgICAgICAgICAgCiAgICAgICAgICAgICAgICB2YXIgaHRtbF82NTg3YTFhMDc2MGM0NWQzYjAxZmM5NTNjYzU4YjNmOSA9ICQoJzxkaXYgaWQ9Imh0bWxfNjU4N2ExYTA3NjBjNDVkM2IwMWZjOTUzY2M1OGIzZjkiIHN0eWxlPSJ3aWR0aDogMTAwLjAlOyBoZWlnaHQ6IDEwMC4wJTsiPlN0YXJidWNrczwvZGl2PicpWzBdOwogICAgICAgICAgICAgICAgcG9wdXBfNzFjMDhiODBjN2IzNDI3NThjMDRjYjBhNDNlZmI5MjIuc2V0Q29udGVudChodG1sXzY1ODdhMWEwNzYwYzQ1ZDNiMDFmYzk1M2NjNThiM2Y5KTsKICAgICAgICAgICAgCgogICAgICAgICAgICBtYXJrZXJfZmUwZjA3MTU5NDM5NGQ1MWJkN2UwMzUxNzJlZTJlZTQuYmluZFBvcHVwKHBvcHVwXzcxYzA4YjgwYzdiMzQyNzU4YzA0Y2IwYTQzZWZiOTIyKTsKCiAgICAgICAgICAgIAogICAgICAgIAogICAgCgogICAgICAgICAgICB2YXIgbWFya2VyXzM3NDA3NDg5MWFiOTQwMjBhMWQzMGRhNjZlZDcxNThjID0gTC5tYXJrZXIoCiAgICAgICAgICAgICAgICBbMzguOTA0MTA5OTk5OTk5OTk2LC03Ny4wNDMxOF0sCiAgICAgICAgICAgICAgICB7CiAgICAgICAgICAgICAgICAgICAgaWNvbjogbmV3IEwuSWNvbi5EZWZhdWx0KCkKICAgICAgICAgICAgICAgICAgICB9CiAgICAgICAgICAgICAgICApCiAgICAgICAgICAgICAgICAuYWRkVG8obWFwX2RlZjUyNWU0ZmU0MzRiNjJhMGNkYWY1MjUyYTNkZWIzKTsKICAgICAgICAgICAgCiAgICAKICAgICAgICAgICAgdmFyIHBvcHVwX2IxMzRkMDQwOTcwMTRhNTQ4YjQ5MTgxYjY0NzMxMTVlID0gTC5wb3B1cCh7bWF4V2lkdGg6ICczMDAnfSk7CgogICAgICAgICAgICAKICAgICAgICAgICAgICAgIHZhciBodG1sXzJiNDM1NjU1Y2NlMDQ1OTQ5ZmMxMDk3NzUzNTc0MzM5ID0gJCgnPGRpdiBpZD0iaHRtbF8yYjQzNTY1NWNjZTA0NTk0OWZjMTA5Nzc1MzU3NDMzOSIgc3R5bGU9IndpZHRoOiAxMDAuMCU7IGhlaWdodDogMTAwLjAlOyI+RHVua2luJiMzOTsgRG9udXRzPC9kaXY+JylbMF07CiAgICAgICAgICAgICAgICBwb3B1cF9iMTM0ZDA0MDk3MDE0YTU0OGI0OTE4MWI2NDczMTE1ZS5zZXRDb250ZW50KGh0bWxfMmI0MzU2NTVjY2UwNDU5NDlmYzEwOTc3NTM1NzQzMzkpOwogICAgICAgICAgICAKCiAgICAgICAgICAgIG1hcmtlcl8zNzQwNzQ4OTFhYjk0MDIwYTFkMzBkYTY2ZWQ3MTU4Yy5iaW5kUG9wdXAocG9wdXBfYjEzNGQwNDA5NzAxNGE1NDhiNDkxODFiNjQ3MzExNWUpOwoKICAgICAgICAgICAgCiAgICAgICAgCiAgICAKCiAgICAgICAgICAgIHZhciBtYXJrZXJfZjAxZTQyMDBiODM3NDZkYTllNDM3Mjg0MDg4YTI1MzggPSBMLm1hcmtlcigKICAgICAgICAgICAgICAgIFszOC45MDczOTk3NzM1OTc3LC03Ny4wNDMzODIxNTI5MTVdLAogICAgICAgICAgICAgICAgewogICAgICAgICAgICAgICAgICAgIGljb246IG5ldyBMLkljb24uRGVmYXVsdCgpCiAgICAgICAgICAgICAgICAgICAgfQogICAgICAgICAgICAgICAgKQogICAgICAgICAgICAgICAgLmFkZFRvKG1hcF9kZWY1MjVlNGZlNDM0YjYyYTBjZGFmNTI1MmEzZGViMyk7CiAgICAgICAgICAgIAogICAgCiAgICAgICAgICAgIHZhciBwb3B1cF9kMDBjOGQwZjM4YjU0ZjNiOGMzOGE5ZWY1ODZiM2VhYiA9IEwucG9wdXAoe21heFdpZHRoOiAnMzAwJ30pOwoKICAgICAgICAgICAgCiAgICAgICAgICAgICAgICB2YXIgaHRtbF85OGU0NjUwMTcwODQ0ZWQ0ODc1MGMzODhkYzBlYWNjYyA9ICQoJzxkaXYgaWQ9Imh0bWxfOThlNDY1MDE3MDg0NGVkNDg3NTBjMzg4ZGMwZWFjY2MiIHN0eWxlPSJ3aWR0aDogMTAwLjAlOyBoZWlnaHQ6IDEwMC4wJTsiPlNheGJ5JiMzOTtzIENvZmZlZTwvZGl2PicpWzBdOwogICAgICAgICAgICAgICAgcG9wdXBfZDAwYzhkMGYzOGI1NGYzYjhjMzhhOWVmNTg2YjNlYWIuc2V0Q29udGVudChodG1sXzk4ZTQ2NTAxNzA4NDRlZDQ4NzUwYzM4OGRjMGVhY2NjKTsKICAgICAgICAgICAgCgogICAgICAgICAgICBtYXJrZXJfZjAxZTQyMDBiODM3NDZkYTllNDM3Mjg0MDg4YTI1MzguYmluZFBvcHVwKHBvcHVwX2QwMGM4ZDBmMzhiNTRmM2I4YzM4YTllZjU4NmIzZWFiKTsKCiAgICAgICAgICAgIAogICAgICAgIAogICAgCgogICAgICAgICAgICB2YXIgbWFya2VyXzFmNDVhN2Y2N2MyODRhYWU5OThiMzJmZDA0ZjNlYzFlID0gTC5tYXJrZXIoCiAgICAgICAgICAgICAgICBbMzguOTA1MDksLTc3LjA0MjE4XSwKICAgICAgICAgICAgICAgIHsKICAgICAgICAgICAgICAgICAgICBpY29uOiBuZXcgTC5JY29uLkRlZmF1bHQoKQogICAgICAgICAgICAgICAgICAgIH0KICAgICAgICAgICAgICAgICkKICAgICAgICAgICAgICAgIC5hZGRUbyhtYXBfZGVmNTI1ZTRmZTQzNGI2MmEwY2RhZjUyNTJhM2RlYjMpOwogICAgICAgICAgICAKICAgIAogICAgICAgICAgICB2YXIgcG9wdXBfNzM2NGU0OWU0YTIwNGQzZGFhYmVkZjNjMjcyN2RiYjIgPSBMLnBvcHVwKHttYXhXaWR0aDogJzMwMCd9KTsKCiAgICAgICAgICAgIAogICAgICAgICAgICAgICAgdmFyIGh0bWxfMjQ0ODE0ZGRiMWRhNDEyMTg3MjhlYjlhNDhiOTczMTYgPSAkKCc8ZGl2IGlkPSJodG1sXzI0NDgxNGRkYjFkYTQxMjE4NzI4ZWI5YTQ4Yjk3MzE2IiBzdHlsZT0id2lkdGg6IDEwMC4wJTsgaGVpZ2h0OiAxMDAuMCU7Ij5QcmV0IGEgTWFuZ2VyPC9kaXY+JylbMF07CiAgICAgICAgICAgICAgICBwb3B1cF83MzY0ZTQ5ZTRhMjA0ZDNkYWFiZWRmM2MyNzI3ZGJiMi5zZXRDb250ZW50KGh0bWxfMjQ0ODE0ZGRiMWRhNDEyMTg3MjhlYjlhNDhiOTczMTYpOwogICAgICAgICAgICAKCiAgICAgICAgICAgIG1hcmtlcl8xZjQ1YTdmNjdjMjg0YWFlOTk4YjMyZmQwNGYzZWMxZS5iaW5kUG9wdXAocG9wdXBfNzM2NGU0OWU0YTIwNGQzZGFhYmVkZjNjMjcyN2RiYjIpOwoKICAgICAgICAgICAgCiAgICAgICAgCiAgICAKCiAgICAgICAgICAgIHZhciBtYXJrZXJfOGM3YjZiNzllYjBlNDc5ODkzZTcwZGI4Mzc3NTZhNjMgPSBMLm1hcmtlcigKICAgICAgICAgICAgICAgIFszOC44OTU4Mjk5LC03Ny4wNDAyMjk5MDAwMDAwMV0sCiAgICAgICAgICAgICAgICB7CiAgICAgICAgICAgICAgICAgICAgaWNvbjogbmV3IEwuSWNvbi5EZWZhdWx0KCkKICAgICAgICAgICAgICAgICAgICB9CiAgICAgICAgICAgICAgICApCiAgICAgICAgICAgICAgICAuYWRkVG8obWFwX2RlZjUyNWU0ZmU0MzRiNjJhMGNkYWY1MjUyYTNkZWIzKTsKICAgICAgICAgICAgCiAgICAKICAgICAgICAgICAgdmFyIHBvcHVwX2JhNDQyZTIxODA3ZDRlZmNhZGYxMGUzYTE0ZWFkMDUyID0gTC5wb3B1cCh7bWF4V2lkdGg6ICczMDAnfSk7CgogICAgICAgICAgICAKICAgICAgICAgICAgICAgIHZhciBodG1sXzBhYzAxYjI0ZTg1OTQ0YWViMzY3NjFkZTgzN2RmMDRlID0gJCgnPGRpdiBpZD0iaHRtbF8wYWMwMWIyNGU4NTk0NGFlYjM2NzYxZGU4MzdkZjA0ZSIgc3R5bGU9IndpZHRoOiAxMDAuMCU7IGhlaWdodDogMTAwLjAlOyI+Q2FmZSBkZXMgQXJ0aXN0ZXM8L2Rpdj4nKVswXTsKICAgICAgICAgICAgICAgIHBvcHVwX2JhNDQyZTIxODA3ZDRlZmNhZGYxMGUzYTE0ZWFkMDUyLnNldENvbnRlbnQoaHRtbF8wYWMwMWIyNGU4NTk0NGFlYjM2NzYxZGU4MzdkZjA0ZSk7CiAgICAgICAgICAgIAoKICAgICAgICAgICAgbWFya2VyXzhjN2I2Yjc5ZWIwZTQ3OTg5M2U3MGRiODM3NzU2YTYzLmJpbmRQb3B1cChwb3B1cF9iYTQ0MmUyMTgwN2Q0ZWZjYWRmMTBlM2ExNGVhZDA1Mik7CgogICAgICAgICAgICAKICAgICAgICAKICAgIAoKICAgICAgICAgICAgdmFyIG1hcmtlcl9kOGZjZGJkOGM3MTM0ZTAwODA4MGYwYTMwZGU1ZjQzOCA9IEwubWFya2VyKAogICAgICAgICAgICAgICAgWzM4LjkwNTM1OTk5OTk5OTk5NSwtNzcuMDQyODldLAogICAgICAgICAgICAgICAgewogICAgICAgICAgICAgICAgICAgIGljb246IG5ldyBMLkljb24uRGVmYXVsdCgpCiAgICAgICAgICAgICAgICAgICAgfQogICAgICAgICAgICAgICAgKQogICAgICAgICAgICAgICAgLmFkZFRvKG1hcF9kZWY1MjVlNGZlNDM0YjYyYTBjZGFmNTI1MmEzZGViMyk7CiAgICAgICAgICAgIAogICAgCiAgICAgICAgICAgIHZhciBwb3B1cF80NGJlZDdlNjM1ZjU0NWYwYjhkMmQ1YmUzNDVjN2M1YiA9IEwucG9wdXAoe21heFdpZHRoOiAnMzAwJ30pOwoKICAgICAgICAgICAgCiAgICAgICAgICAgICAgICB2YXIgaHRtbF9kNTRmMDMyNzQwMzc0ZDdiOThlNjY2MTdlMDYxZjNkNCA9ICQoJzxkaXYgaWQ9Imh0bWxfZDU0ZjAzMjc0MDM3NGQ3Yjk4ZTY2NjE3ZTA2MWYzZDQiIHN0eWxlPSJ3aWR0aDogMTAwLjAlOyBoZWlnaHQ6IDEwMC4wJTsiPjctRWxldmVuPC9kaXY+JylbMF07CiAgICAgICAgICAgICAgICBwb3B1cF80NGJlZDdlNjM1ZjU0NWYwYjhkMmQ1YmUzNDVjN2M1Yi5zZXRDb250ZW50KGh0bWxfZDU0ZjAzMjc0MDM3NGQ3Yjk4ZTY2NjE3ZTA2MWYzZDQpOwogICAgICAgICAgICAKCiAgICAgICAgICAgIG1hcmtlcl9kOGZjZGJkOGM3MTM0ZTAwODA4MGYwYTMwZGU1ZjQzOC5iaW5kUG9wdXAocG9wdXBfNDRiZWQ3ZTYzNWY1NDVmMGI4ZDJkNWJlMzQ1YzdjNWIpOwoKICAgICAgICAgICAgCiAgICAgICAgCiAgICAKCiAgICAgICAgICAgIHZhciBtYXJrZXJfM2JjMTYzYjQ3YzI4NGMzYmFkZmFiOTI1YWM0NDgyMjUgPSBMLm1hcmtlcigKICAgICAgICAgICAgICAgIFszOC44OTYxNDMwNjIyMTQzLC03Ny4wNDU5NDc5NTA3NzY1XSwKICAgICAgICAgICAgICAgIHsKICAgICAgICAgICAgICAgICAgICBpY29uOiBuZXcgTC5JY29uLkRlZmF1bHQoKQogICAgICAgICAgICAgICAgICAgIH0KICAgICAgICAgICAgICAgICkKICAgICAgICAgICAgICAgIC5hZGRUbyhtYXBfZGVmNTI1ZTRmZTQzNGI2MmEwY2RhZjUyNTJhM2RlYjMpOwogICAgICAgICAgICAKICAgIAogICAgICAgICAgICB2YXIgcG9wdXBfZTA2NThmNWVkYzBlNDNkM2I3YWE0NTU4NThkNjI0ZjAgPSBMLnBvcHVwKHttYXhXaWR0aDogJzMwMCd9KTsKCiAgICAgICAgICAgIAogICAgICAgICAgICAgICAgdmFyIGh0bWxfOWM0NDI3NTk2Y2RmNDhhNmEzMDFjODI2NmZhOThkMzQgPSAkKCc8ZGl2IGlkPSJodG1sXzljNDQyNzU5NmNkZjQ4YTZhMzAxYzgyNjZmYTk4ZDM0IiBzdHlsZT0id2lkdGg6IDEwMC4wJTsgaGVpZ2h0OiAxMDAuMCU7Ij5EdW5raW4mIzM5OyBEb251dHM8L2Rpdj4nKVswXTsKICAgICAgICAgICAgICAgIHBvcHVwX2UwNjU4ZjVlZGMwZTQzZDNiN2FhNDU1ODU4ZDYyNGYwLnNldENvbnRlbnQoaHRtbF85YzQ0Mjc1OTZjZGY0OGE2YTMwMWM4MjY2ZmE5OGQzNCk7CiAgICAgICAgICAgIAoKICAgICAgICAgICAgbWFya2VyXzNiYzE2M2I0N2MyODRjM2JhZGZhYjkyNWFjNDQ4MjI1LmJpbmRQb3B1cChwb3B1cF9lMDY1OGY1ZWRjMGU0M2QzYjdhYTQ1NTg1OGQ2MjRmMCk7CgogICAgICAgICAgICAKICAgICAgICAKICAgIAoKICAgICAgICAgICAgdmFyIG1hcmtlcl8wYWU4Nzk0MzJmMmU0ZTZlYmNmYzk2MjRlNmIzNWI2MCA9IEwubWFya2VyKAogICAgICAgICAgICAgICAgWzM4LjkwNDY0OTksLTc3LjA0MTExOTk5OTk5OTk5XSwKICAgICAgICAgICAgICAgIHsKICAgICAgICAgICAgICAgICAgICBpY29uOiBuZXcgTC5JY29uLkRlZmF1bHQoKQogICAgICAgICAgICAgICAgICAgIH0KICAgICAgICAgICAgICAgICkKICAgICAgICAgICAgICAgIC5hZGRUbyhtYXBfZGVmNTI1ZTRmZTQzNGI2MmEwY2RhZjUyNTJhM2RlYjMpOwogICAgICAgICAgICAKICAgIAogICAgICAgICAgICB2YXIgcG9wdXBfNWU0YjNmNDA5NzdiNDI3ZWE4YzI5YTc0YWE2NDc5YjAgPSBMLnBvcHVwKHttYXhXaWR0aDogJzMwMCd9KTsKCiAgICAgICAgICAgIAogICAgICAgICAgICAgICAgdmFyIGh0bWxfYjc4MGExYmUyNzBhNGE5ODhlYTYzZThiNGVlYTFhNDEgPSAkKCc8ZGl2IGlkPSJodG1sX2I3ODBhMWJlMjcwYTRhOTg4ZWE2M2U4YjRlZWExYTQxIiBzdHlsZT0id2lkdGg6IDEwMC4wJTsgaGVpZ2h0OiAxMDAuMCU7Ij5Bcm9tYTwvZGl2PicpWzBdOwogICAgICAgICAgICAgICAgcG9wdXBfNWU0YjNmNDA5NzdiNDI3ZWE4YzI5YTc0YWE2NDc5YjAuc2V0Q29udGVudChodG1sX2I3ODBhMWJlMjcwYTRhOTg4ZWE2M2U4YjRlZWExYTQxKTsKICAgICAgICAgICAgCgogICAgICAgICAgICBtYXJrZXJfMGFlODc5NDMyZjJlNGU2ZWJjZmM5NjI0ZTZiMzViNjAuYmluZFBvcHVwKHBvcHVwXzVlNGIzZjQwOTc3YjQyN2VhOGMyOWE3NGFhNjQ3OWIwKTsKCiAgICAgICAgICAgIAogICAgICAgIAogICAgCgogICAgICAgICAgICB2YXIgbWFya2VyX2Y0NWJiZmM4ZjBjYjQ5NjU4MDhlNTZkOGI2ZjEyMGM1ID0gTC5tYXJrZXIoCiAgICAgICAgICAgICAgICBbMzguOTEwNjA4MDg3MTYwMywtNzcuMDQ1NDgyMjUyMTE0OTFdLAogICAgICAgICAgICAgICAgewogICAgICAgICAgICAgICAgICAgIGljb246IG5ldyBMLkljb24uRGVmYXVsdCgpCiAgICAgICAgICAgICAgICAgICAgfQogICAgICAgICAgICAgICAgKQogICAgICAgICAgICAgICAgLmFkZFRvKG1hcF9kZWY1MjVlNGZlNDM0YjYyYTBjZGFmNTI1MmEzZGViMyk7CiAgICAgICAgICAgIAogICAgCiAgICAgICAgICAgIHZhciBwb3B1cF84NzIyNjljNTJiMTU0ODU2ODQ3YzU4MTQ2NDAzMjQ3MSA9IEwucG9wdXAoe21heFdpZHRoOiAnMzAwJ30pOwoKICAgICAgICAgICAgCiAgICAgICAgICAgICAgICB2YXIgaHRtbF9lNTNmNzBkYzllMTU0Yzk2YTZiMWI1MGZhNjBkMmVlYiA9ICQoJzxkaXYgaWQ9Imh0bWxfZTUzZjcwZGM5ZTE1NGM5NmE2YjFiNTBmYTYwZDJlZWIiIHN0eWxlPSJ3aWR0aDogMTAwLjAlOyBoZWlnaHQ6IDEwMC4wJTsiPlN0YXRpb24gS2l0Y2hlbiAmYW1wOyBDb2NrdGFpbHM8L2Rpdj4nKVswXTsKICAgICAgICAgICAgICAgIHBvcHVwXzg3MjI2OWM1MmIxNTQ4NTY4NDdjNTgxNDY0MDMyNDcxLnNldENvbnRlbnQoaHRtbF9lNTNmNzBkYzllMTU0Yzk2YTZiMWI1MGZhNjBkMmVlYik7CiAgICAgICAgICAgIAoKICAgICAgICAgICAgbWFya2VyX2Y0NWJiZmM4ZjBjYjQ5NjU4MDhlNTZkOGI2ZjEyMGM1LmJpbmRQb3B1cChwb3B1cF84NzIyNjljNTJiMTU0ODU2ODQ3YzU4MTQ2NDAzMjQ3MSk7CgogICAgICAgICAgICAKICAgICAgICAKICAgIAoKICAgICAgICAgICAgdmFyIG1hcmtlcl8zZDJmNzUyODU4MTA0ZmFlYmZiMzcwODhmMzdmZDdiOSA9IEwubWFya2VyKAogICAgICAgICAgICAgICAgWzM4LjkxMDUzOCwtNzcuMDQzNjYyXSwKICAgICAgICAgICAgICAgIHsKICAgICAgICAgICAgICAgICAgICBpY29uOiBuZXcgTC5JY29uLkRlZmF1bHQoKQogICAgICAgICAgICAgICAgICAgIH0KICAgICAgICAgICAgICAgICkKICAgICAgICAgICAgICAgIC5hZGRUbyhtYXBfZGVmNTI1ZTRmZTQzNGI2MmEwY2RhZjUyNTJhM2RlYjMpOwogICAgICAgICAgICAKICAgIAogICAgICAgICAgICB2YXIgcG9wdXBfYzA0MzAxMzkyNGUzNDA4MmE4OTJjMGQ4MjdjNDMwMjcgPSBMLnBvcHVwKHttYXhXaWR0aDogJzMwMCd9KTsKCiAgICAgICAgICAgIAogICAgICAgICAgICAgICAgdmFyIGh0bWxfNjA1YTE3MzA2ZmE5NDMyNTg3ZGJkZjVhNjE4M2VlYjYgPSAkKCc8ZGl2IGlkPSJodG1sXzYwNWExNzMwNmZhOTQzMjU4N2RiZGY1YTYxODNlZWI2IiBzdHlsZT0id2lkdGg6IDEwMC4wJTsgaGVpZ2h0OiAxMDAuMCU7Ij5TdGFyYnVja3M8L2Rpdj4nKVswXTsKICAgICAgICAgICAgICAgIHBvcHVwX2MwNDMwMTM5MjRlMzQwODJhODkyYzBkODI3YzQzMDI3LnNldENvbnRlbnQoaHRtbF82MDVhMTczMDZmYTk0MzI1ODdkYmRmNWE2MTgzZWViNik7CiAgICAgICAgICAgIAoKICAgICAgICAgICAgbWFya2VyXzNkMmY3NTI4NTgxMDRmYWViZmIzNzA4OGYzN2ZkN2I5LmJpbmRQb3B1cChwb3B1cF9jMDQzMDEzOTI0ZTM0MDgyYTg5MmMwZDgyN2M0MzAyNyk7CgogICAgICAgICAgICAKICAgICAgICAKICAgIAoKICAgICAgICAgICAgdmFyIG1hcmtlcl9iOTNiODM3MTU1YmM0YWYzYTk3MGUyYzhiNzFiN2IyNCA9IEwubWFya2VyKAogICAgICAgICAgICAgICAgWzM4LjkwNjI3NjYsLTc3LjA0MTg5NjZdLAogICAgICAgICAgICAgICAgewogICAgICAgICAgICAgICAgICAgIGljb246IG5ldyBMLkljb24uRGVmYXVsdCgpCiAgICAgICAgICAgICAgICAgICAgfQogICAgICAgICAgICAgICAgKQogICAgICAgICAgICAgICAgLmFkZFRvKG1hcF9kZWY1MjVlNGZlNDM0YjYyYTBjZGFmNTI1MmEzZGViMyk7CiAgICAgICAgICAgIAogICAgCgogICAgICAgICAgICAgICAgdmFyIGljb25fNDUzOGZhODg1NWJlNDQ0N2EwYTg3NDA4N2QxY2FhMGQgPSBMLkF3ZXNvbWVNYXJrZXJzLmljb24oewogICAgICAgICAgICAgICAgICAgIGljb246ICdpbmZvLXNpZ24nLAogICAgICAgICAgICAgICAgICAgIGljb25Db2xvcjogJ3doaXRlJywKICAgICAgICAgICAgICAgICAgICBtYXJrZXJDb2xvcjogJ3JlZCcsCiAgICAgICAgICAgICAgICAgICAgcHJlZml4OiAnZ2x5cGhpY29uJywKICAgICAgICAgICAgICAgICAgICBleHRyYUNsYXNzZXM6ICdmYS1yb3RhdGUtMCcKICAgICAgICAgICAgICAgICAgICB9KTsKICAgICAgICAgICAgICAgIG1hcmtlcl9iOTNiODM3MTU1YmM0YWYzYTk3MGUyYzhiNzFiN2IyNC5zZXRJY29uKGljb25fNDUzOGZhODg1NWJlNDQ0N2EwYTg3NDA4N2QxY2FhMGQpOwogICAgICAgICAgICAKICAgIAogICAgICAgICAgICB2YXIgcG9wdXBfYzNmNWRhMDFlNmQ1NDgxNGI5YjRlNDg4ZjA4Mzg3NWEgPSBMLnBvcHVwKHttYXhXaWR0aDogJzMwMCd9KTsKCiAgICAgICAgICAgIAogICAgICAgICAgICAgICAgdmFyIGh0bWxfNGE0YzI1MDIyYjQ1NDUyOTliOTM5NjVjYTU2MDNkZDUgPSAkKCc8ZGl2IGlkPSJodG1sXzRhNGMyNTAyMmI0NTQ1Mjk5YjkzOTY1Y2E1NjAzZGQ1IiBzdHlsZT0id2lkdGg6IDEwMC4wJTsgaGVpZ2h0OiAxMDAuMCU7Ij5TZWxlY3RlZCBMb2NhdGlvbjwvZGl2PicpWzBdOwogICAgICAgICAgICAgICAgcG9wdXBfYzNmNWRhMDFlNmQ1NDgxNGI5YjRlNDg4ZjA4Mzg3NWEuc2V0Q29udGVudChodG1sXzRhNGMyNTAyMmI0NTQ1Mjk5YjkzOTY1Y2E1NjAzZGQ1KTsKICAgICAgICAgICAgCgogICAgICAgICAgICBtYXJrZXJfYjkzYjgzNzE1NWJjNGFmM2E5NzBlMmM4YjcxYjdiMjQuYmluZFBvcHVwKHBvcHVwX2MzZjVkYTAxZTZkNTQ4MTRiOWI0ZTQ4OGYwODM4NzVhKTsKCiAgICAgICAgICAgIAogICAgICAgIAo8L3NjcmlwdD4=\" style=\"position:absolute;width:100%;height:100%;left:0;top:0;border:none !important;\" allowfullscreen webkitallowfullscreen mozallowfullscreen></iframe></div></div>"
      ],
      "text/plain": [
       "<folium.folium.Map at 0x1ca76a279e8>"
      ]
     },
     "execution_count": 701,
     "metadata": {},
     "output_type": "execute_result"
    }
   ],
   "source": [
    "import folium\n",
    "\n",
    "folium_map = folium.Map(location=[38.904265, -77.041656],\n",
    "                        zoom_start=15)\n",
    "\n",
    "for index, row in businesses_20006zip_df.iterrows():\n",
    "    folium.Marker([row[\"latitude\"], row[\"longitude\"]], popup=folium.Popup(row['name'], parse_html=True)).add_to(folium_map)\n",
    "    \n",
    "folium.Marker([38.9062766, -77.0418966], icon=folium.Icon(color=\"red\"), popup=folium.Popup('Selected Location', parse_html=True)).add_to(folium_map)\n",
    "\n",
    "folium_map"
   ]
  },
  {
   "cell_type": "code",
   "execution_count": 702,
   "metadata": {},
   "outputs": [
    {
     "data": {
      "text/html": [
       "\n",
       "        <iframe\n",
       "            width=\"800\"\n",
       "            height=\"600\"\n",
       "            src=\"./assets/document.pdf\"\n",
       "            frameborder=\"0\"\n",
       "            allowfullscreen\n",
       "        ></iframe>\n",
       "        "
      ],
      "text/plain": [
       "<IPython.lib.display.IFrame at 0x1ca76a45668>"
      ]
     },
     "execution_count": 702,
     "metadata": {},
     "output_type": "execute_result"
    }
   ],
   "source": [
    "# here is a flier for the property from the property management company.\n",
    "from IPython.display import IFrame\n",
    "IFrame(\"./assets/document.pdf\", width=800, height=600)"
   ]
  },
  {
   "cell_type": "code",
   "execution_count": null,
   "metadata": {
    "collapsed": true
   },
   "outputs": [],
   "source": []
  }
 ],
 "metadata": {
  "kernelspec": {
   "display_name": "Python 3",
   "language": "python",
   "name": "python3"
  },
  "language_info": {
   "codemirror_mode": {
    "name": "ipython",
    "version": 3
   },
   "file_extension": ".py",
   "mimetype": "text/x-python",
   "name": "python",
   "nbconvert_exporter": "python",
   "pygments_lexer": "ipython3",
   "version": "3.6.4"
  }
 },
 "nbformat": 4,
 "nbformat_minor": 2
}
