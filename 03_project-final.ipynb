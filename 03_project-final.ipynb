{
 "cells": [
  {
   "cell_type": "markdown",
   "metadata": {},
   "source": [
    "<h1 align=\"center\">Coffee Shop Location</h1> \n",
    "<h5 align=\"center\">by Steven Asten</h5> \n",
    "\n"
   ]
  },
  {
   "cell_type": "markdown",
   "metadata": {},
   "source": [
    "# Contents:\n",
    "1. <a href=\"#part_1\">Three Capstone Project Ideas</a>\n",
    "2. <a href=\"#part_2\">New Coffee Shop Location Proposal</a>\n",
    "3. <a href=\"#part_3\">Exploratory Data Analysis (EDA)</a>\n",
    "    - <a href=\"#import_and_structure\">Import and structure data sets</a>\n",
    "    - <a href=\"#explore_data\">Explore data</a>\n",
    "    - <a href=\"#explore_data_old\">Explore data (Old Hypotheses)</a>\n",
    "4. <a href=\"#machine_learning\">Machine Learning</a>\n",
    "    - <a href=\"#hyp_1\">Hypothesis #1</a>\n",
    "    - <a href=\"#hyp_2\">Hypothesis #2</a>\n",
    "5. <a href=\"#conclusion\">Conclusion</a>\n",
    "    "
   ]
  },
  {
   "cell_type": "markdown",
   "metadata": {},
   "source": [
    "<a id=\"part_1\"></a>"
   ]
  },
  {
   "cell_type": "markdown",
   "metadata": {},
   "source": [
    "# Part 1 - Three Capstone Project Ideas:"
   ]
  },
  {
   "cell_type": "code",
   "execution_count": 105,
   "metadata": {
    "scrolled": false
   },
   "outputs": [
    {
     "data": {
      "text/html": [
       "\n",
       "        <iframe\n",
       "            width=\"800\"\n",
       "            height=\"500\"\n",
       "            src=\"./00_ThreeIdeas.pdf\"\n",
       "            frameborder=\"0\"\n",
       "            allowfullscreen\n",
       "        ></iframe>\n",
       "        "
      ],
      "text/plain": [
       "<IPython.lib.display.IFrame at 0x20dfaa2e9e8>"
      ]
     },
     "execution_count": 105,
     "metadata": {},
     "output_type": "execute_result"
    }
   ],
   "source": [
    "from IPython.display import IFrame\n",
    "IFrame(\"./00_ThreeIdeas.pdf\", width=800, height=500)"
   ]
  },
  {
   "cell_type": "markdown",
   "metadata": {},
   "source": [
    "<a id=\"part_2\"></a>"
   ]
  },
  {
   "cell_type": "markdown",
   "metadata": {},
   "source": [
    "# Part 2: New coffee shop location\n",
    "#### Problem Statement: What are you trying to solve?\n",
    "Find a rental property in a location which would be suitable for a new coffee shop. Only DC metro area considered.\n",
    "\n",
    "#### Data science Hypothesis(es)/solutions considering: One or multiple angles to consider solving this problem with data science  \n",
    "- Find the location w/ the least amount of competition (other coffee shops), using Yelp dataset\n",
    "- Find an area with features that may increase foot traffic, such as other nearby shops, public transportation stops, etc.\n",
    "\n",
    "#### Data sets to be used: Share the links and files, .csvs, .js, .xlsx, .txt, website URLs\n",
    "- [Yelp Dataset](https://www.yelp.com/dataset)\n",
    "- [2016 ACS 1-year estimates; Age and Sex](Part2_Proposal/DatasetsForProject/sex_and_age/)\n",
    "    - This dataset might change or be expanded to include more data; currently the intention is to use it for population data. The data came from [factfinder.census.gov](https://factfinder.census.gov/faces/nav/jsf/pages/download_center.xhtml).\n",
    "\n",
    "#### Data dictionaries to describe the data types youâ€™re using: write these out in markdown as tables \n",
    "- Yelp Dataset - business.json\n",
    "\n",
    "|Data ID      |Data Type|Data Description                                                           |\n",
    "|-------------|:-------:|---------------------------------------------------------------------------|\n",
    "|business_id  |String   |22 character unique string business id                                     |\n",
    "|name         |String   |the business's name                                                        |\n",
    "|neighborhood |String   |the neighborhood's name                                                    |\n",
    "|address      |String   |the full address of the business                                           |\n",
    "|city         |String   |the city                                                                   |\n",
    "|state        |String   |2 character state code, if applicable                                      |\n",
    "|postal code  |String   |the postal code                                                            |\n",
    "|latitude     |Float    |latitude                                                                   |\n",
    "|longitude    |Float    |longitude                                                                  |\n",
    "|stars        |Float    |star rating, rounded to half-stars                                         |\n",
    "|review_count |Integer  |number of reviews                                                          |\n",
    "|is_open      |Integer  |0 or 1 for closed or open, respectively                                    |\n",
    "|attributes   |Object(?)|business attributes to values. note: some attribute values might be objects|\n",
    "|categories   |Array(?) |an array of strings of business categories                                 |\n",
    "|hours        |Object(?)|key day to value hours, hours are using a 24hr clock                       |\n",
    "\n",
    "\n",
    "- 2016 ACS Age and Sex table (might not use this)\n",
    "\n",
    "|Data ID|Data Type|Data Description|\n",
    "|-----------------|:-----:|-------------------------------------|\n",
    "|GEO.id           |String |ID                                   |\n",
    "|GEO.id2          |String |ID                                   |\n",
    "|GEO.display-label|String |Display label in format County, State|\n",
    "|HC01_EST_VC01    |Integer|Estimated total population           |\n",
    "\n",
    "#### Potential business cases relative to project: how would this help businesses out to make money or save money or improve accuracy or make better products?\n",
    "This project will allow expanding coffee-shop franchises, as well as entrepreneurs breaking into the coffee shop industry, to find a suitable location for a new coffee shop. By using this analysis, coffee shop owners can avoid opening coffee shops in non-suitable areas, resulting in large savings in capital. Opening a coffee shop in a thriving and expanding area with less competition should also result in higher profits.\n",
    "\n",
    "#### Potential stakeholders who would find this interesting: who would be your ideal customer or client for this?\n",
    "Seeing as large franchises like Starbucks already have software which executes this analysis, the ideal customer for this project would be small business owners and prospective entrepreneurs.\n",
    "\n",
    "#### Potential places to share your results post project (client, world, website, blog)\n",
    "At this time, I believe the most beneficial method of sharing these results would be through a blog post that would allow the user to reproduce the analysis for different areas (since this will only cover the DC metro area)."
   ]
  },
  {
   "cell_type": "markdown",
   "metadata": {},
   "source": [
    "<a id=\"part_3\"></a>"
   ]
  },
  {
   "cell_type": "markdown",
   "metadata": {},
   "source": [
    "# Part 3: Exploratory Data Analysis"
   ]
  },
  {
   "cell_type": "markdown",
   "metadata": {},
   "source": [
    "<a id=\"import_and_structure\"></a>"
   ]
  },
  {
   "cell_type": "markdown",
   "metadata": {},
   "source": [
    "# Import data files and save as dataframes."
   ]
  },
  {
   "cell_type": "code",
   "execution_count": 2,
   "metadata": {},
   "outputs": [],
   "source": [
    "import pandas as pd\n",
    "from matplotlib import pyplot as plt\n",
    "\n",
    "%matplotlib inline"
   ]
  },
  {
   "cell_type": "markdown",
   "metadata": {},
   "source": [
    "<a id=\"import_zip\"></a>\n",
    "### Import zip_codes file (which contains all zip codes in dc-metro) into a python list."
   ]
  },
  {
   "cell_type": "code",
   "execution_count": 3,
   "metadata": {},
   "outputs": [],
   "source": [
    "import csv\n",
    "with open('./data/zip_codes.csv', 'r') as f:\n",
    "    reader = csv.reader(f)\n",
    "    zip_codes = list(reader)\n",
    "    \n",
    "# convert list of lists attained from csv.reader to single flat list\n",
    "zip_codes_flat = [item for sublist in zip_codes for item in sublist]"
   ]
  },
  {
   "cell_type": "markdown",
   "metadata": {},
   "source": [
    "<a id=\"import_acs\"></a>\n",
    "### Import ACS Datasets"
   ]
  },
  {
   "cell_type": "code",
   "execution_count": 4,
   "metadata": {},
   "outputs": [
    {
     "data": {
      "text/plain": [
       "zip_code          int64\n",
       "estimate_total    int64\n",
       "dtype: object"
      ]
     },
     "execution_count": 4,
     "metadata": {},
     "output_type": "execute_result"
    }
   ],
   "source": [
    "# create dataframe with 2015 & 2016 data to compare for change in population\n",
    "popul2016_df = pd.read_csv('./data/ACS_16_5YR_B01003_with_ann.csv', names=('zip_code', 'estimate_total'), skiprows=1)\n",
    "popul2016_df = popul2016_df[popul2016_df.zip_code.isin(zip_codes_flat)]\n",
    "popul2016_df.dtypes"
   ]
  },
  {
   "cell_type": "code",
   "execution_count": 5,
   "metadata": {
    "scrolled": true
   },
   "outputs": [],
   "source": [
    "popul2016_df['zip_code'] = popul2016_df['zip_code'].astype(str)"
   ]
  },
  {
   "cell_type": "code",
   "execution_count": 6,
   "metadata": {},
   "outputs": [],
   "source": [
    "zipfeatures_df = pd.read_csv('./data/ACS_15_5YR_B01002_with_ann.csv', names=('zip_code', 'median_age', 'mean_income', 'percent_public_transport'), skiprows=2)\n",
    "zipfeatures_df['zip_code'] = zipfeatures_df['zip_code'].astype(str)"
   ]
  },
  {
   "cell_type": "code",
   "execution_count": 7,
   "metadata": {},
   "outputs": [],
   "source": [
    "zipfeatures_df = popul2016_df.merge(zipfeatures_df, on='zip_code')"
   ]
  },
  {
   "cell_type": "code",
   "execution_count": 8,
   "metadata": {},
   "outputs": [],
   "source": [
    "zipfeatures_df['median_age'] = pd.to_numeric(zipfeatures_df['median_age'], errors='coerce')\n",
    "zipfeatures_df['mean_income'] = pd.to_numeric(zipfeatures_df['mean_income'], errors='coerce')\n",
    "zipfeatures_df['percent_public_transport'] = pd.to_numeric(zipfeatures_df['percent_public_transport'], errors='coerce')"
   ]
  },
  {
   "cell_type": "code",
   "execution_count": 9,
   "metadata": {},
   "outputs": [
    {
     "data": {
      "text/plain": [
       "zip_code                     object\n",
       "estimate_total                int64\n",
       "median_age                  float64\n",
       "mean_income                 float64\n",
       "percent_public_transport    float64\n",
       "dtype: object"
      ]
     },
     "execution_count": 9,
     "metadata": {},
     "output_type": "execute_result"
    }
   ],
   "source": [
    "zipfeatures_df.dtypes"
   ]
  },
  {
   "cell_type": "markdown",
   "metadata": {},
   "source": [
    "<a id=\"yelp_api\"></a>\n",
    "### Import Yelp dataset/call Yelp API.\n",
    "    - After importing the dataset I found it to be missing all data from DC area (maybe corrupted file?), so I chose to use  Yelp API.\n",
    "#### Note: <font color=Red>Don't run this code. Outputted, cleaned dataframe saved to file below and re-imported in the next section. I've marked where to begin running in red below.</font>"
   ]
  },
  {
   "cell_type": "code",
   "execution_count": 7,
   "metadata": {
    "collapsed": true
   },
   "outputs": [],
   "source": [
    "# businesses = pd.read_json('./data/business.json', lines=True)\n",
    "# businesses.shape\n",
    "# businesses.dtypes\n",
    "# businesses.head()\n",
    "# businesses[businesses.city.isin(zip_codes_flat)]"
   ]
  },
  {
   "cell_type": "code",
   "execution_count": 8,
   "metadata": {
    "collapsed": true,
    "scrolled": false
   },
   "outputs": [],
   "source": [
    "# This takes a very long time to run (calls the API 1200ish times; 10 minutes on my PC)\n",
    "# Query the yelp api for each zip code in the DC metro area\n",
    "# Since Yelp limit is 50 for businesses returned, we need to loop through pages of 50 using offsets\n",
    "\n",
    "import requests\n",
    "\n",
    "url = \"https://api.yelp.com/v3/businesses/search\"\n",
    "\n",
    "dict_responses = {}\n",
    "# for each zip code, gather up to 1001 businesses (should be enough for all businesses in each zip)\n",
    "for i in zip_codes_flat:\n",
    "    j = 1\n",
    "    while j <= 1001:\n",
    "        querystring = {'location': i, 'limit':50, 'offset':j}\n",
    "\n",
    "        headers = {\n",
    "            'authorization': #insert api key,\n",
    "            'cache-control': \"no-cache\",\n",
    "            }\n",
    "\n",
    "        response = requests.request(\"GET\", url, headers=headers, params=querystring)\n",
    "\n",
    "        response_todict = response.json()\n",
    "        try:\n",
    "            response_todict[str(int(i)+int(j))] = response_todict.pop('businesses')\n",
    "        except:\n",
    "            j = 1002\n",
    "        else:    \n",
    "            dict_responses.update(response_todict)\n",
    "            j = j + 50"
   ]
  },
  {
   "cell_type": "code",
   "execution_count": 9,
   "metadata": {
    "collapsed": true
   },
   "outputs": [],
   "source": [
    "# Clean up the response from the api\n",
    "\n",
    "list_of_businesses = []\n",
    "\n",
    "for key, item in dict_responses.items():\n",
    "    list_of_businesses.append(item)\n",
    "\n",
    "del(list_of_businesses[0:2])\n",
    "\n",
    "# more cleanup; list is currently list of lists of dictionaries due to how api was called\n",
    "# convert to just list of dictionaries\n",
    "\n",
    "list_of_businesses_formatting = []\n",
    "\n",
    "for i in list_of_businesses:\n",
    "    for j in i:\n",
    "        list_of_businesses_formatting.append(j)"
   ]
  },
  {
   "cell_type": "markdown",
   "metadata": {},
   "source": [
    "#### I need to normalize the json data so that each data point is in its own column."
   ]
  },
  {
   "cell_type": "code",
   "execution_count": 10,
   "metadata": {
    "collapsed": true
   },
   "outputs": [],
   "source": [
    "# Change formatting of categories column to only include \"title\", not \"alias\" (makes normalization easier)\n",
    "for idx, val in enumerate(list_of_businesses_formatting):\n",
    "    list_categories = []\n",
    "    for idx2, val2 in enumerate(val['categories']):\n",
    "        list_categories.append(list_of_businesses_formatting[idx]['categories'][idx2]['title'])\n",
    "    val['categories'] = list_categories"
   ]
  },
  {
   "cell_type": "code",
   "execution_count": 11,
   "metadata": {
    "collapsed": true
   },
   "outputs": [],
   "source": [
    "# This isn't technically normalized all the way since categories still has multiple values.\n",
    "# Good enough for analysis I need\n",
    "from pandas.io.json import json_normalize\n",
    "businesses_df = json_normalize(list_of_businesses_formatting)"
   ]
  },
  {
   "cell_type": "code",
   "execution_count": 12,
   "metadata": {
    "scrolled": false
   },
   "outputs": [
    {
     "data": {
      "text/html": [
       "<div>\n",
       "<style>\n",
       "    .dataframe thead tr:only-child th {\n",
       "        text-align: right;\n",
       "    }\n",
       "\n",
       "    .dataframe thead th {\n",
       "        text-align: left;\n",
       "    }\n",
       "\n",
       "    .dataframe tbody tr th {\n",
       "        vertical-align: top;\n",
       "    }\n",
       "</style>\n",
       "<table border=\"1\" class=\"dataframe\">\n",
       "  <thead>\n",
       "    <tr style=\"text-align: right;\">\n",
       "      <th></th>\n",
       "      <th>alias</th>\n",
       "      <th>categories</th>\n",
       "      <th>coordinates.latitude</th>\n",
       "      <th>coordinates.longitude</th>\n",
       "      <th>display_phone</th>\n",
       "      <th>distance</th>\n",
       "      <th>id</th>\n",
       "      <th>image_url</th>\n",
       "      <th>is_closed</th>\n",
       "      <th>location.address1</th>\n",
       "      <th>...</th>\n",
       "      <th>location.display_address</th>\n",
       "      <th>location.state</th>\n",
       "      <th>location.zip_code</th>\n",
       "      <th>name</th>\n",
       "      <th>phone</th>\n",
       "      <th>price</th>\n",
       "      <th>rating</th>\n",
       "      <th>review_count</th>\n",
       "      <th>transactions</th>\n",
       "      <th>url</th>\n",
       "    </tr>\n",
       "  </thead>\n",
       "  <tbody>\n",
       "    <tr>\n",
       "      <th>0</th>\n",
       "      <td>old-ebbitt-grill-washington</td>\n",
       "      <td>[Bars, American (Traditional), Breakfast &amp; Bru...</td>\n",
       "      <td>38.898005</td>\n",
       "      <td>-77.033362</td>\n",
       "      <td>(202) 347-4800</td>\n",
       "      <td>1428.775801</td>\n",
       "      <td>iyBbcXtQSBfiwFQZwVBNaQ</td>\n",
       "      <td>https://s3-media2.fl.yelpcdn.com/bphoto/KBCezp...</td>\n",
       "      <td>False</td>\n",
       "      <td>675 15th St NW</td>\n",
       "      <td>...</td>\n",
       "      <td>[675 15th St NW, Washington, DC 20005]</td>\n",
       "      <td>DC</td>\n",
       "      <td>20005</td>\n",
       "      <td>Old Ebbitt Grill</td>\n",
       "      <td>+12023474800</td>\n",
       "      <td>$$</td>\n",
       "      <td>4.0</td>\n",
       "      <td>6544</td>\n",
       "      <td>[]</td>\n",
       "      <td>https://www.yelp.com/biz/old-ebbitt-grill-wash...</td>\n",
       "    </tr>\n",
       "    <tr>\n",
       "      <th>1</th>\n",
       "      <td>a-baked-joint-washington-9</td>\n",
       "      <td>[Coffee &amp; Tea, Breakfast &amp; Brunch, Sandwiches]</td>\n",
       "      <td>38.902411</td>\n",
       "      <td>-77.017139</td>\n",
       "      <td>(202) 408-6985</td>\n",
       "      <td>547.273915</td>\n",
       "      <td>SpCeYPhky4gsWa9-IBtw2A</td>\n",
       "      <td>https://s3-media1.fl.yelpcdn.com/bphoto/iTBw1K...</td>\n",
       "      <td>False</td>\n",
       "      <td>440 K St NW</td>\n",
       "      <td>...</td>\n",
       "      <td>[440 K St NW, Washington, DC 20001]</td>\n",
       "      <td>DC</td>\n",
       "      <td>20001</td>\n",
       "      <td>A Baked Joint</td>\n",
       "      <td>+12024086985</td>\n",
       "      <td>$</td>\n",
       "      <td>4.5</td>\n",
       "      <td>1218</td>\n",
       "      <td>[]</td>\n",
       "      <td>https://www.yelp.com/biz/a-baked-joint-washing...</td>\n",
       "    </tr>\n",
       "  </tbody>\n",
       "</table>\n",
       "<p>2 rows × 24 columns</p>\n",
       "</div>"
      ],
      "text/plain": [
       "                         alias  \\\n",
       "0  old-ebbitt-grill-washington   \n",
       "1   a-baked-joint-washington-9   \n",
       "\n",
       "                                          categories  coordinates.latitude  \\\n",
       "0  [Bars, American (Traditional), Breakfast & Bru...             38.898005   \n",
       "1     [Coffee & Tea, Breakfast & Brunch, Sandwiches]             38.902411   \n",
       "\n",
       "   coordinates.longitude   display_phone     distance                      id  \\\n",
       "0             -77.033362  (202) 347-4800  1428.775801  iyBbcXtQSBfiwFQZwVBNaQ   \n",
       "1             -77.017139  (202) 408-6985   547.273915  SpCeYPhky4gsWa9-IBtw2A   \n",
       "\n",
       "                                           image_url  is_closed  \\\n",
       "0  https://s3-media2.fl.yelpcdn.com/bphoto/KBCezp...      False   \n",
       "1  https://s3-media1.fl.yelpcdn.com/bphoto/iTBw1K...      False   \n",
       "\n",
       "  location.address1                        ...                          \\\n",
       "0    675 15th St NW                        ...                           \n",
       "1       440 K St NW                        ...                           \n",
       "\n",
       "                 location.display_address location.state location.zip_code  \\\n",
       "0  [675 15th St NW, Washington, DC 20005]             DC             20005   \n",
       "1     [440 K St NW, Washington, DC 20001]             DC             20001   \n",
       "\n",
       "               name         phone price rating review_count transactions  \\\n",
       "0  Old Ebbitt Grill  +12023474800    $$    4.0         6544           []   \n",
       "1     A Baked Joint  +12024086985     $    4.5         1218           []   \n",
       "\n",
       "                                                 url  \n",
       "0  https://www.yelp.com/biz/old-ebbitt-grill-wash...  \n",
       "1  https://www.yelp.com/biz/a-baked-joint-washing...  \n",
       "\n",
       "[2 rows x 24 columns]"
      ]
     },
     "execution_count": 12,
     "metadata": {},
     "output_type": "execute_result"
    }
   ],
   "source": [
    "businesses_df.head(2)"
   ]
  },
  {
   "cell_type": "markdown",
   "metadata": {},
   "source": [
    "#### My looping api call technique resulted in many duplicates, as we examine and fix below (id is unique)."
   ]
  },
  {
   "cell_type": "code",
   "execution_count": 13,
   "metadata": {},
   "outputs": [
    {
     "data": {
      "text/plain": [
       "SvjE3q-uYpyjqYKh714IPw    16\n",
       "ynuv5y74SB2gEXFPjMYb_Q    16\n",
       "F6jgtkBLdyjHYhDO79Z1lA    16\n",
       "hrWvnULW3ragGALYVEAybA    16\n",
       "S0WNMOKJ5c3NXuC_-7lE2Q    14\n",
       "Name: id, dtype: int64"
      ]
     },
     "execution_count": 13,
     "metadata": {},
     "output_type": "execute_result"
    }
   ],
   "source": [
    "businesses_df.id.value_counts().head()"
   ]
  },
  {
   "cell_type": "code",
   "execution_count": 14,
   "metadata": {
    "collapsed": true
   },
   "outputs": [],
   "source": [
    "businesses_df.drop_duplicates(subset='id', inplace=True)"
   ]
  },
  {
   "cell_type": "code",
   "execution_count": 15,
   "metadata": {},
   "outputs": [
    {
     "data": {
      "text/plain": [
       "(4222, 24)"
      ]
     },
     "execution_count": 15,
     "metadata": {},
     "output_type": "execute_result"
    }
   ],
   "source": [
    "businesses_df.shape"
   ]
  },
  {
   "cell_type": "markdown",
   "metadata": {},
   "source": [
    "#### Now I will drop columns that I won't need during this project."
   ]
  },
  {
   "cell_type": "code",
   "execution_count": 16,
   "metadata": {
    "collapsed": true
   },
   "outputs": [],
   "source": [
    "businesses_df.drop(['alias',\n",
    "         'id',\n",
    "         'display_phone',\n",
    "         'distance', \n",
    "         'image_url', \n",
    "         'is_closed', \n",
    "         'location.address2', \n",
    "         'location.address3', \n",
    "         'location.display_address',\n",
    "         'phone',\n",
    "         'transactions',\n",
    "         'url'], axis=1, inplace=True)"
   ]
  },
  {
   "cell_type": "markdown",
   "metadata": {},
   "source": [
    "#### Next I'll clean up the column names."
   ]
  },
  {
   "cell_type": "code",
   "execution_count": 17,
   "metadata": {
    "collapsed": true
   },
   "outputs": [],
   "source": [
    "businesses_df.columns = ['categories', 'latitude', \n",
    "                         'longitude', 'address', \n",
    "                         'city', 'country', 'state', \n",
    "                         'zip_code', 'name', 'price', \n",
    "                         'rating', 'review_count']"
   ]
  },
  {
   "cell_type": "code",
   "execution_count": 18,
   "metadata": {
    "collapsed": true
   },
   "outputs": [],
   "source": [
    "# move name column to first position\n",
    "cols = businesses_df.columns.tolist()\n",
    "cols[0] = 'name'\n",
    "cols[8] = 'categories'\n",
    "businesses_df = businesses_df[cols]"
   ]
  },
  {
   "cell_type": "code",
   "execution_count": 19,
   "metadata": {},
   "outputs": [
    {
     "data": {
      "text/html": [
       "<div>\n",
       "<style>\n",
       "    .dataframe thead tr:only-child th {\n",
       "        text-align: right;\n",
       "    }\n",
       "\n",
       "    .dataframe thead th {\n",
       "        text-align: left;\n",
       "    }\n",
       "\n",
       "    .dataframe tbody tr th {\n",
       "        vertical-align: top;\n",
       "    }\n",
       "</style>\n",
       "<table border=\"1\" class=\"dataframe\">\n",
       "  <thead>\n",
       "    <tr style=\"text-align: right;\">\n",
       "      <th></th>\n",
       "      <th>name</th>\n",
       "      <th>latitude</th>\n",
       "      <th>longitude</th>\n",
       "      <th>address</th>\n",
       "      <th>city</th>\n",
       "      <th>country</th>\n",
       "      <th>state</th>\n",
       "      <th>zip_code</th>\n",
       "      <th>categories</th>\n",
       "      <th>price</th>\n",
       "      <th>rating</th>\n",
       "      <th>review_count</th>\n",
       "    </tr>\n",
       "  </thead>\n",
       "  <tbody>\n",
       "    <tr>\n",
       "      <th>0</th>\n",
       "      <td>Old Ebbitt Grill</td>\n",
       "      <td>38.898005</td>\n",
       "      <td>-77.033362</td>\n",
       "      <td>675 15th St NW</td>\n",
       "      <td>Washington, DC</td>\n",
       "      <td>US</td>\n",
       "      <td>DC</td>\n",
       "      <td>20005</td>\n",
       "      <td>[Bars, American (Traditional), Breakfast &amp; Bru...</td>\n",
       "      <td>$$</td>\n",
       "      <td>4.0</td>\n",
       "      <td>6544</td>\n",
       "    </tr>\n",
       "    <tr>\n",
       "      <th>1</th>\n",
       "      <td>A Baked Joint</td>\n",
       "      <td>38.902411</td>\n",
       "      <td>-77.017139</td>\n",
       "      <td>440 K St NW</td>\n",
       "      <td>Washington, DC</td>\n",
       "      <td>US</td>\n",
       "      <td>DC</td>\n",
       "      <td>20001</td>\n",
       "      <td>[Coffee &amp; Tea, Breakfast &amp; Brunch, Sandwiches]</td>\n",
       "      <td>$</td>\n",
       "      <td>4.5</td>\n",
       "      <td>1218</td>\n",
       "    </tr>\n",
       "    <tr>\n",
       "      <th>2</th>\n",
       "      <td>Le Diplomate</td>\n",
       "      <td>38.911359</td>\n",
       "      <td>-77.031575</td>\n",
       "      <td>1601 14th St NW</td>\n",
       "      <td>Washington, DC</td>\n",
       "      <td>US</td>\n",
       "      <td>DC</td>\n",
       "      <td>20009</td>\n",
       "      <td>[Brasseries, French, Cafes]</td>\n",
       "      <td>$$$</td>\n",
       "      <td>4.0</td>\n",
       "      <td>2449</td>\n",
       "    </tr>\n",
       "    <tr>\n",
       "      <th>3</th>\n",
       "      <td>Rasika</td>\n",
       "      <td>38.895008</td>\n",
       "      <td>-77.021286</td>\n",
       "      <td>633 D St NW</td>\n",
       "      <td>Washington, DC</td>\n",
       "      <td>US</td>\n",
       "      <td>DC</td>\n",
       "      <td>20004</td>\n",
       "      <td>[Indian]</td>\n",
       "      <td>$$$</td>\n",
       "      <td>4.5</td>\n",
       "      <td>2633</td>\n",
       "    </tr>\n",
       "    <tr>\n",
       "      <th>4</th>\n",
       "      <td>Matchbox - Chinatown</td>\n",
       "      <td>38.900050</td>\n",
       "      <td>-77.022540</td>\n",
       "      <td>713 H St NW</td>\n",
       "      <td>Washington, DC</td>\n",
       "      <td>US</td>\n",
       "      <td>DC</td>\n",
       "      <td>20001</td>\n",
       "      <td>[Pizza, American (New)]</td>\n",
       "      <td>$$</td>\n",
       "      <td>4.0</td>\n",
       "      <td>2673</td>\n",
       "    </tr>\n",
       "  </tbody>\n",
       "</table>\n",
       "</div>"
      ],
      "text/plain": [
       "                   name   latitude  longitude          address  \\\n",
       "0      Old Ebbitt Grill  38.898005 -77.033362   675 15th St NW   \n",
       "1         A Baked Joint  38.902411 -77.017139      440 K St NW   \n",
       "2          Le Diplomate  38.911359 -77.031575  1601 14th St NW   \n",
       "3                Rasika  38.895008 -77.021286      633 D St NW   \n",
       "4  Matchbox - Chinatown  38.900050 -77.022540      713 H St NW   \n",
       "\n",
       "             city country state zip_code  \\\n",
       "0  Washington, DC      US    DC    20005   \n",
       "1  Washington, DC      US    DC    20001   \n",
       "2  Washington, DC      US    DC    20009   \n",
       "3  Washington, DC      US    DC    20004   \n",
       "4  Washington, DC      US    DC    20001   \n",
       "\n",
       "                                          categories price  rating  \\\n",
       "0  [Bars, American (Traditional), Breakfast & Bru...    $$     4.0   \n",
       "1     [Coffee & Tea, Breakfast & Brunch, Sandwiches]     $     4.5   \n",
       "2                        [Brasseries, French, Cafes]   $$$     4.0   \n",
       "3                                           [Indian]   $$$     4.5   \n",
       "4                            [Pizza, American (New)]    $$     4.0   \n",
       "\n",
       "   review_count  \n",
       "0          6544  \n",
       "1          1218  \n",
       "2          2449  \n",
       "3          2633  \n",
       "4          2673  "
      ]
     },
     "execution_count": 19,
     "metadata": {},
     "output_type": "execute_result"
    }
   ],
   "source": [
    "businesses_df.head()"
   ]
  },
  {
   "cell_type": "markdown",
   "metadata": {},
   "source": [
    "#### For whatever reason the API imported some businesses outside of the queried zip codes, so I removed those quick."
   ]
  },
  {
   "cell_type": "code",
   "execution_count": 20,
   "metadata": {},
   "outputs": [
    {
     "data": {
      "text/plain": [
       "(4222, 12)"
      ]
     },
     "execution_count": 20,
     "metadata": {},
     "output_type": "execute_result"
    }
   ],
   "source": [
    "businesses_df.shape"
   ]
  },
  {
   "cell_type": "code",
   "execution_count": 21,
   "metadata": {
    "collapsed": true
   },
   "outputs": [],
   "source": [
    "businesses_df = businesses_df[businesses_df['zip_code'].isin(zip_codes_flat)]"
   ]
  },
  {
   "cell_type": "code",
   "execution_count": 22,
   "metadata": {},
   "outputs": [
    {
     "data": {
      "text/plain": [
       "(3175, 12)"
      ]
     },
     "execution_count": 22,
     "metadata": {},
     "output_type": "execute_result"
    }
   ],
   "source": [
    "businesses_df.shape"
   ]
  },
  {
   "cell_type": "markdown",
   "metadata": {},
   "source": [
    "#### Check for relevent null values"
   ]
  },
  {
   "cell_type": "code",
   "execution_count": 23,
   "metadata": {
    "scrolled": false
   },
   "outputs": [
    {
     "data": {
      "text/plain": [
       "name              0\n",
       "latitude          1\n",
       "longitude         1\n",
       "address          13\n",
       "city              0\n",
       "country           0\n",
       "state             0\n",
       "zip_code          0\n",
       "categories        0\n",
       "price           498\n",
       "rating            0\n",
       "review_count      0\n",
       "dtype: int64"
      ]
     },
     "execution_count": 23,
     "metadata": {},
     "output_type": "execute_result"
    }
   ],
   "source": [
    "businesses_df.isnull().sum()"
   ]
  },
  {
   "cell_type": "markdown",
   "metadata": {},
   "source": [
    "#### Save businesses_df to csv file for quicker use later."
   ]
  },
  {
   "cell_type": "code",
   "execution_count": 24,
   "metadata": {
    "collapsed": true
   },
   "outputs": [],
   "source": [
    "businesses_df.to_csv('./data/businesses.csv', sep='\\t')"
   ]
  },
  {
   "cell_type": "markdown",
   "metadata": {},
   "source": [
    "<a id=\"import_foursquare\"></a>\n",
    "### Import Foursquare dataset\n",
    "- These datasets are several gigabytes and were not included in the project repository due to size restrictions of github. You can find the dataset [here](https://sites.google.com/site/yangdingqi/home/foursquare-dataset)."
   ]
  },
  {
   "cell_type": "code",
   "execution_count": 59,
   "metadata": {
    "collapsed": true
   },
   "outputs": [],
   "source": [
    "foursquare_checkins_df = pd.read_csv(\"../../../dataset_TIST2015/dataset_TIST2015_Checkins.txt\", header=None, delimiter=\"\\t\")\n",
    "\n",
    "foursquare_checkins_df.drop([3], axis=1, inplace=True)\n",
    "foursquare_checkins_df.columns = ['user_id', 'venue_id', 'utc_time']"
   ]
  },
  {
   "cell_type": "code",
   "execution_count": 60,
   "metadata": {
    "collapsed": true
   },
   "outputs": [],
   "source": [
    "foursquare_poi_df = pd.read_csv(\"../../../dataset_TIST2015/dataset_TIST2015_POIs.txt\", header=None, delimiter=\"\\t\")\n",
    "\n",
    "foursquare_poi_df.columns = ['venue_id', 'latitude', 'longitude', 'venue_category', 'country']\n",
    "foursquare_poi_df = foursquare_poi_df[foursquare_poi_df['country'].isin(['US'])]"
   ]
  },
  {
   "cell_type": "code",
   "execution_count": 61,
   "metadata": {
    "collapsed": true
   },
   "outputs": [],
   "source": [
    "foursquare_merge_df = foursquare_checkins_df.merge(foursquare_poi_df, on=\"venue_id\")"
   ]
  },
  {
   "cell_type": "code",
   "execution_count": 62,
   "metadata": {
    "scrolled": true
   },
   "outputs": [
    {
     "data": {
      "text/html": [
       "<div>\n",
       "<style>\n",
       "    .dataframe thead tr:only-child th {\n",
       "        text-align: right;\n",
       "    }\n",
       "\n",
       "    .dataframe thead th {\n",
       "        text-align: left;\n",
       "    }\n",
       "\n",
       "    .dataframe tbody tr th {\n",
       "        vertical-align: top;\n",
       "    }\n",
       "</style>\n",
       "<table border=\"1\" class=\"dataframe\">\n",
       "  <thead>\n",
       "    <tr style=\"text-align: right;\">\n",
       "      <th></th>\n",
       "      <th>user_id</th>\n",
       "      <th>venue_id</th>\n",
       "      <th>utc_time</th>\n",
       "      <th>latitude</th>\n",
       "      <th>longitude</th>\n",
       "      <th>venue_category</th>\n",
       "      <th>country</th>\n",
       "    </tr>\n",
       "  </thead>\n",
       "  <tbody>\n",
       "    <tr>\n",
       "      <th>0</th>\n",
       "      <td>221021</td>\n",
       "      <td>4a85b1b3f964a520eefe1fe3</td>\n",
       "      <td>Tue Apr 03 18:00:08 +0000 2012</td>\n",
       "      <td>40.748939</td>\n",
       "      <td>-73.99228</td>\n",
       "      <td>Coffee Shop</td>\n",
       "      <td>US</td>\n",
       "    </tr>\n",
       "    <tr>\n",
       "      <th>1</th>\n",
       "      <td>89453</td>\n",
       "      <td>4a85b1b3f964a520eefe1fe3</td>\n",
       "      <td>Tue Apr 24 22:53:57 +0000 2012</td>\n",
       "      <td>40.748939</td>\n",
       "      <td>-73.99228</td>\n",
       "      <td>Coffee Shop</td>\n",
       "      <td>US</td>\n",
       "    </tr>\n",
       "    <tr>\n",
       "      <th>2</th>\n",
       "      <td>206753</td>\n",
       "      <td>4a85b1b3f964a520eefe1fe3</td>\n",
       "      <td>Thu May 03 16:20:48 +0000 2012</td>\n",
       "      <td>40.748939</td>\n",
       "      <td>-73.99228</td>\n",
       "      <td>Coffee Shop</td>\n",
       "      <td>US</td>\n",
       "    </tr>\n",
       "    <tr>\n",
       "      <th>3</th>\n",
       "      <td>114526</td>\n",
       "      <td>4a85b1b3f964a520eefe1fe3</td>\n",
       "      <td>Wed May 09 23:09:45 +0000 2012</td>\n",
       "      <td>40.748939</td>\n",
       "      <td>-73.99228</td>\n",
       "      <td>Coffee Shop</td>\n",
       "      <td>US</td>\n",
       "    </tr>\n",
       "    <tr>\n",
       "      <th>4</th>\n",
       "      <td>86634</td>\n",
       "      <td>4a85b1b3f964a520eefe1fe3</td>\n",
       "      <td>Tue May 22 13:31:13 +0000 2012</td>\n",
       "      <td>40.748939</td>\n",
       "      <td>-73.99228</td>\n",
       "      <td>Coffee Shop</td>\n",
       "      <td>US</td>\n",
       "    </tr>\n",
       "  </tbody>\n",
       "</table>\n",
       "</div>"
      ],
      "text/plain": [
       "   user_id                  venue_id                        utc_time  \\\n",
       "0   221021  4a85b1b3f964a520eefe1fe3  Tue Apr 03 18:00:08 +0000 2012   \n",
       "1    89453  4a85b1b3f964a520eefe1fe3  Tue Apr 24 22:53:57 +0000 2012   \n",
       "2   206753  4a85b1b3f964a520eefe1fe3  Thu May 03 16:20:48 +0000 2012   \n",
       "3   114526  4a85b1b3f964a520eefe1fe3  Wed May 09 23:09:45 +0000 2012   \n",
       "4    86634  4a85b1b3f964a520eefe1fe3  Tue May 22 13:31:13 +0000 2012   \n",
       "\n",
       "    latitude  longitude venue_category country  \n",
       "0  40.748939  -73.99228    Coffee Shop      US  \n",
       "1  40.748939  -73.99228    Coffee Shop      US  \n",
       "2  40.748939  -73.99228    Coffee Shop      US  \n",
       "3  40.748939  -73.99228    Coffee Shop      US  \n",
       "4  40.748939  -73.99228    Coffee Shop      US  "
      ]
     },
     "execution_count": 62,
     "metadata": {},
     "output_type": "execute_result"
    }
   ],
   "source": [
    "foursquare_merge_df.head()"
   ]
  },
  {
   "cell_type": "code",
   "execution_count": 63,
   "metadata": {},
   "outputs": [
    {
     "data": {
      "text/plain": [
       "(3564144, 7)"
      ]
     },
     "execution_count": 63,
     "metadata": {},
     "output_type": "execute_result"
    }
   ],
   "source": [
    "foursquare_merge_df.shape"
   ]
  },
  {
   "cell_type": "markdown",
   "metadata": {},
   "source": [
    "#### Now I want to pull out the the users who visited a coffee shop at least once. I'll create a new column called \"coffee_shop_bin\". If the user visited a coffee shop on the selected day, all rows for that day will be set to 1. Else, 0. Later I'll use this in my models to predict where people are coming from when they go to a coffee shop.\n",
    "- I'll overwrite the same DF to cut down on memory usage..."
   ]
  },
  {
   "cell_type": "code",
   "execution_count": 64,
   "metadata": {
    "collapsed": true
   },
   "outputs": [],
   "source": [
    "# reduce the dataframe to include only users who have visited a coffee shop\n",
    "coffee_drinkers = foursquare_merge_df[foursquare_merge_df.venue_category.isin(['Coffee Shop'])].user_id.unique().tolist()\n",
    "foursquare_merge_df = foursquare_merge_df[foursquare_merge_df.user_id.isin(coffee_drinkers)]"
   ]
  },
  {
   "cell_type": "code",
   "execution_count": 65,
   "metadata": {},
   "outputs": [
    {
     "data": {
      "text/plain": [
       "(2439117, 7)"
      ]
     },
     "execution_count": 65,
     "metadata": {},
     "output_type": "execute_result"
    }
   ],
   "source": [
    "foursquare_merge_df.shape"
   ]
  },
  {
   "cell_type": "code",
   "execution_count": 66,
   "metadata": {},
   "outputs": [
    {
     "data": {
      "text/plain": [
       "user_id                    int64\n",
       "venue_id                  object\n",
       "utc_time          datetime64[ns]\n",
       "latitude                 float64\n",
       "longitude                float64\n",
       "venue_category            object\n",
       "country                   object\n",
       "dtype: object"
      ]
     },
     "execution_count": 66,
     "metadata": {},
     "output_type": "execute_result"
    }
   ],
   "source": [
    "# convert utc_time to datetime object, takes 5-10 minutes\n",
    "foursquare_merge_df['utc_time'] = pd.to_datetime(foursquare_merge_df['utc_time'], infer_datetime_format=True)\n",
    "foursquare_merge_df.dtypes"
   ]
  },
  {
   "cell_type": "code",
   "execution_count": 67,
   "metadata": {},
   "outputs": [
    {
     "name": "stderr",
     "output_type": "stream",
     "text": [
      "C:\\Users\\Steven\\Anaconda3\\lib\\site-packages\\ipykernel_launcher.py:8: SettingWithCopyWarning: \n",
      "A value is trying to be set on a copy of a slice from a DataFrame.\n",
      "Try using .loc[row_indexer,col_indexer] = value instead\n",
      "\n",
      "See the caveats in the documentation: http://pandas.pydata.org/pandas-docs/stable/indexing.html#indexing-view-versus-copy\n",
      "  \n",
      "C:\\Users\\Steven\\Anaconda3\\lib\\site-packages\\ipykernel_launcher.py:11: SettingWithCopyWarning: \n",
      "A value is trying to be set on a copy of a slice from a DataFrame.\n",
      "Try using .loc[row_indexer,col_indexer] = value instead\n",
      "\n",
      "See the caveats in the documentation: http://pandas.pydata.org/pandas-docs/stable/indexing.html#indexing-view-versus-copy\n",
      "  # This is added back by InteractiveShellApp.init_path()\n"
     ]
    }
   ],
   "source": [
    "# this is super inefficient, but shouldn't need to be run again. took approx. 20 minutes.\n",
    "# groups df by user id, month, day, then checks each group for coffee shop visits\n",
    "grouped_foursquare = foursquare_merge_df.groupby([foursquare_merge_df.user_id, \n",
    "                                                   foursquare_merge_df.utc_time.dt.month, \n",
    "                                                   foursquare_merge_df.utc_time.dt.day])\n",
    "# if group contains a coffee shop check-in, set all values of coffee_shop_bin in that group to yes\n",
    "grouped_foursquare_true = grouped_foursquare.filter(lambda x: x['venue_category'].str.contains('Coffee').any())\n",
    "grouped_foursquare_true['coffee_shop_bin'] = 1\n",
    "# if group does not contain a coffee shop check-in, set all values of coffee_shop_bin in that group to yes\n",
    "grouped_foursquare_false = grouped_foursquare.filter(lambda x: ~x['venue_category'].str.contains('Coffee').any())\n",
    "grouped_foursquare_false['coffee_shop_bin'] = 0\n",
    "\n",
    "# re-combine the true and false datasets\n",
    "grouped_foursquare = grouped_foursquare_true.append(grouped_foursquare_false, ignore_index=True)"
   ]
  },
  {
   "cell_type": "code",
   "execution_count": 68,
   "metadata": {
    "scrolled": true
   },
   "outputs": [
    {
     "name": "stdout",
     "output_type": "stream",
     "text": [
      "Full data: (2439117, 7)\n",
      "Checkins from days w/ coffee shop visits: (309677, 8)\n",
      "Checkins from days w/out coffee shop visits: (2129440, 8)\n",
      "Data after concat: (2439117, 8)\n"
     ]
    }
   ],
   "source": [
    "# make sure we didn't lose any data\n",
    "print(\"Full data: \" + str(foursquare_merge_df.shape))\n",
    "print(\"Checkins from days w/ coffee shop visits: \" + str(grouped_foursquare_true.shape))\n",
    "print(\"Checkins from days w/out coffee shop visits: \" + str(grouped_foursquare_false.shape))\n",
    "print(\"Data after concat: \" + str(grouped_foursquare.shape))"
   ]
  },
  {
   "cell_type": "markdown",
   "metadata": {},
   "source": [
    "#### Get address data from longitude and latitude.\n",
    "- I tried using geopy to get the city from the coordinates, which appears to work, but it would take 20 straight days to run all 3.5 million lines. Will explore this later. Most geolocaters also have a query limit which this would far exceed."
   ]
  },
  {
   "cell_type": "code",
   "execution_count": 18,
   "metadata": {},
   "outputs": [
    {
     "name": "stdout",
     "output_type": "stream",
     "text": [
      "10 lines: --- 10.996055603027344 seconds ---\n"
     ]
    }
   ],
   "source": [
    "from geopy.geocoders import Nominatim\n",
    "import time\n",
    "\n",
    "start_time = time.time()\n",
    "\n",
    "i=0\n",
    "for index, row in foursquare_merge_df.iterrows():\n",
    "    if i < 10:\n",
    "        coord = str(row['latitude']) + \",\" + str(row['longitude'])\n",
    "\n",
    "        geolocator = Nominatim()\n",
    "        location = geolocator.reverse(coord)\n",
    "        if \"District of Columbia\" in location.address: \n",
    "            print(location.address)\n",
    "        i+=1\n",
    "    else:\n",
    "        break\n",
    "        \n",
    "print(\"10 lines: --- %s seconds ---\" % (time.time() - start_time))\n",
    "\n",
    "# geolocator = Nominatim()\n",
    "# location = geolocator.reverse(\"38.898005, -77.033362\")\n",
    "# print(location.address)\n"
   ]
  },
  {
   "cell_type": "markdown",
   "metadata": {},
   "source": [
    "- Trying a package I found on github called reverse_geocoder to cut down on query time. This only took a few minutes to run, but unfortunately only returned high level geography (Washington, D.C)."
   ]
  },
  {
   "cell_type": "code",
   "execution_count": 69,
   "metadata": {
    "collapsed": true
   },
   "outputs": [],
   "source": [
    "import reverse_geocoder as rg\n",
    "\n",
    "coordinates = []\n",
    "for index, row in grouped_foursquare.iterrows():\n",
    "    coordinates.append((row.latitude, row.longitude))\n",
    "    \n",
    "results = rg.search(coordinates)"
   ]
  },
  {
   "cell_type": "code",
   "execution_count": 70,
   "metadata": {
    "collapsed": true
   },
   "outputs": [],
   "source": [
    "dc_bools = []\n",
    "\n",
    "for i in results:\n",
    "    result = \"D.C\" in str(i)\n",
    "    dc_bools.append(result)"
   ]
  },
  {
   "cell_type": "code",
   "execution_count": 71,
   "metadata": {},
   "outputs": [
    {
     "data": {
      "text/plain": [
       "[False, False, False, False, False]"
      ]
     },
     "execution_count": 71,
     "metadata": {},
     "output_type": "execute_result"
    }
   ],
   "source": [
    "dc_bools[0:5]"
   ]
  },
  {
   "cell_type": "code",
   "execution_count": 72,
   "metadata": {
    "collapsed": true
   },
   "outputs": [],
   "source": [
    "grouped_foursquare['check_in_dc'] = dc_bools"
   ]
  },
  {
   "cell_type": "code",
   "execution_count": 73,
   "metadata": {
    "scrolled": true
   },
   "outputs": [
    {
     "data": {
      "text/plain": [
       "False    2372042\n",
       "True       67075\n",
       "Name: check_in_dc, dtype: int64"
      ]
     },
     "execution_count": 73,
     "metadata": {},
     "output_type": "execute_result"
    }
   ],
   "source": [
    "grouped_foursquare.check_in_dc.value_counts()"
   ]
  },
  {
   "cell_type": "code",
   "execution_count": 74,
   "metadata": {
    "collapsed": true,
    "scrolled": false
   },
   "outputs": [],
   "source": [
    "grouped_foursquare = grouped_foursquare[grouped_foursquare.check_in_dc == True]\n",
    "grouped_foursquare.drop('check_in_dc', axis=1, inplace=True)"
   ]
  },
  {
   "cell_type": "markdown",
   "metadata": {},
   "source": [
    "#### I want to continue reverse geocoding to get zip codes. I'll pull in Zillow neighborhood shapefiles."
   ]
  },
  {
   "cell_type": "code",
   "execution_count": 75,
   "metadata": {
    "collapsed": true
   },
   "outputs": [],
   "source": [
    "import geopandas as gpd\n",
    "shape = gpd.read_file('data/ZillowNeighborhoods-DC.shp')"
   ]
  },
  {
   "cell_type": "code",
   "execution_count": 76,
   "metadata": {},
   "outputs": [
    {
     "data": {
      "text/html": [
       "<div>\n",
       "<style>\n",
       "    .dataframe thead tr:only-child th {\n",
       "        text-align: right;\n",
       "    }\n",
       "\n",
       "    .dataframe thead th {\n",
       "        text-align: left;\n",
       "    }\n",
       "\n",
       "    .dataframe tbody tr th {\n",
       "        vertical-align: top;\n",
       "    }\n",
       "</style>\n",
       "<table border=\"1\" class=\"dataframe\">\n",
       "  <thead>\n",
       "    <tr style=\"text-align: right;\">\n",
       "      <th></th>\n",
       "      <th>State</th>\n",
       "      <th>County</th>\n",
       "      <th>City</th>\n",
       "      <th>Name</th>\n",
       "      <th>RegionID</th>\n",
       "      <th>geometry</th>\n",
       "    </tr>\n",
       "  </thead>\n",
       "  <tbody>\n",
       "    <tr>\n",
       "      <th>0</th>\n",
       "      <td>DC</td>\n",
       "      <td>District of Columbia</td>\n",
       "      <td>Washington</td>\n",
       "      <td>Barnaby Woods</td>\n",
       "      <td>121672</td>\n",
       "      <td>POLYGON ((-77.04528160099994 38.97573291100008...</td>\n",
       "    </tr>\n",
       "    <tr>\n",
       "      <th>1</th>\n",
       "      <td>DC</td>\n",
       "      <td>District of Columbia</td>\n",
       "      <td>Washington</td>\n",
       "      <td>Bellevue</td>\n",
       "      <td>121674</td>\n",
       "      <td>POLYGON ((-77.01639139799994 38.80931882600004...</td>\n",
       "    </tr>\n",
       "    <tr>\n",
       "      <th>2</th>\n",
       "      <td>DC</td>\n",
       "      <td>District of Columbia</td>\n",
       "      <td>Washington</td>\n",
       "      <td>Benning</td>\n",
       "      <td>121675</td>\n",
       "      <td>POLYGON ((-76.95024865099992 38.88970558200003...</td>\n",
       "    </tr>\n",
       "    <tr>\n",
       "      <th>3</th>\n",
       "      <td>DC</td>\n",
       "      <td>District of Columbia</td>\n",
       "      <td>Washington</td>\n",
       "      <td>Chevy Chase</td>\n",
       "      <td>121689</td>\n",
       "      <td>POLYGON ((-77.05323999999973 38.97290000000029...</td>\n",
       "    </tr>\n",
       "    <tr>\n",
       "      <th>4</th>\n",
       "      <td>DC</td>\n",
       "      <td>District of Columbia</td>\n",
       "      <td>Washington</td>\n",
       "      <td>Dupont Park</td>\n",
       "      <td>121705</td>\n",
       "      <td>POLYGON ((-76.94706749892596 38.88285577097802...</td>\n",
       "    </tr>\n",
       "  </tbody>\n",
       "</table>\n",
       "</div>"
      ],
      "text/plain": [
       "  State                County        City           Name RegionID  \\\n",
       "0    DC  District of Columbia  Washington  Barnaby Woods   121672   \n",
       "1    DC  District of Columbia  Washington       Bellevue   121674   \n",
       "2    DC  District of Columbia  Washington        Benning   121675   \n",
       "3    DC  District of Columbia  Washington    Chevy Chase   121689   \n",
       "4    DC  District of Columbia  Washington    Dupont Park   121705   \n",
       "\n",
       "                                            geometry  \n",
       "0  POLYGON ((-77.04528160099994 38.97573291100008...  \n",
       "1  POLYGON ((-77.01639139799994 38.80931882600004...  \n",
       "2  POLYGON ((-76.95024865099992 38.88970558200003...  \n",
       "3  POLYGON ((-77.05323999999973 38.97290000000029...  \n",
       "4  POLYGON ((-76.94706749892596 38.88285577097802...  "
      ]
     },
     "execution_count": 76,
     "metadata": {},
     "output_type": "execute_result"
    }
   ],
   "source": [
    "shape.head()"
   ]
  },
  {
   "cell_type": "code",
   "execution_count": 77,
   "metadata": {},
   "outputs": [
    {
     "data": {
      "text/plain": [
       "<matplotlib.axes._subplots.AxesSubplot at 0x15752093f28>"
      ]
     },
     "execution_count": 77,
     "metadata": {},
     "output_type": "execute_result"
    },
    {
     "data": {
      "image/png": "[encoded data removed]",
      "text/plain": [
       "<matplotlib.figure.Figure at 0x157f0e639b0>"
      ]
     },
     "metadata": {},
     "output_type": "display_data"
    }
   ],
   "source": [
    "shape.plot()"
   ]
  },
  {
   "cell_type": "code",
   "execution_count": 78,
   "metadata": {
    "collapsed": true
   },
   "outputs": [],
   "source": [
    "# https://stackoverflow.com/questions/7861196/check-if-a-geopoint-with-latitude-and-longitude-is-within-a-shapefile?utm_medium=organic&utm_source=google_rich_qa&utm_campaign=google_rich_qa\n",
    "# credit to Richard\n",
    "\n",
    "import ogr\n",
    "from IPython import embed\n",
    "import sys\n",
    "\n",
    "drv = ogr.GetDriverByName('ESRI Shapefile') #We will load a shape file\n",
    "ds_in = drv.Open(\"data/ZillowNeighborhoods-DC.shp\")    #Get the contents of the shape file\n",
    "lyr_in = ds_in.GetLayer(0)    #Get the shape file's first layer\n",
    "\n",
    "#Put the title of the field you are interested in here\n",
    "idx_reg = lyr_in.GetLayerDefn().GetFieldIndex(\"name\")\n",
    "\n",
    "#If the latitude/longitude we're going to use is not in the projection\n",
    "#of the shapefile, then we will get erroneous results.\n",
    "#The following assumes that the latitude longitude is in WGS84\n",
    "#This is identified by the number \"4326\", as in \"EPSG:4326\"\n",
    "#We will create a transformation between this and the shapefile's\n",
    "#project, whatever it may be\n",
    "geo_ref = lyr_in.GetSpatialRef()\n",
    "point_ref=ogr.osr.SpatialReference()\n",
    "point_ref.ImportFromEPSG(4326)\n",
    "ctran=ogr.osr.CoordinateTransformation(point_ref,geo_ref)\n",
    "\n",
    "def check(lon,lat):\n",
    "    #Create a point\n",
    "    pt = ogr.Geometry(ogr.wkbPoint)\n",
    "    pt.SetPoint_2D(0, lon, lat)\n",
    "\n",
    "    #Set up a spatial filter such that the only features we see when we\n",
    "    #loop through \"lyr_in\" are those which overlap the point defined above\n",
    "    lyr_in.SetSpatialFilter(pt)\n",
    "\n",
    "    #Loop through the overlapped features and display the field of interest\n",
    "    for feat_in in lyr_in:\n",
    "        return feat_in.GetFieldAsString(idx_reg)"
   ]
  },
  {
   "cell_type": "code",
   "execution_count": 79,
   "metadata": {
    "collapsed": true
   },
   "outputs": [],
   "source": [
    "this_is_a_neighborhoods = []\n",
    "for index, row in grouped_foursquare.iterrows():\n",
    "    this_is_a_neighborhoods.append(check(row.longitude, row.latitude))"
   ]
  },
  {
   "cell_type": "code",
   "execution_count": 80,
   "metadata": {},
   "outputs": [
    {
     "data": {
      "text/plain": [
       "['Dupont Circle',\n",
       " 'Shaw',\n",
       " 'Shaw',\n",
       " 'Shaw',\n",
       " 'Shaw',\n",
       " 'Shaw',\n",
       " 'Capitol Hill',\n",
       " 'Downtown',\n",
       " 'Navy Yard',\n",
       " 'Navy Yard']"
      ]
     },
     "execution_count": 80,
     "metadata": {},
     "output_type": "execute_result"
    }
   ],
   "source": [
    "this_is_a_neighborhoods[0:10]"
   ]
  },
  {
   "cell_type": "code",
   "execution_count": 81,
   "metadata": {
    "collapsed": true
   },
   "outputs": [],
   "source": [
    "import csv\n",
    "with open('./data/neighborhoodsToZip.csv', 'r') as f:\n",
    "    reader = csv.reader(f)\n",
    "    conversion = dict(reader)\n",
    "del conversion['Neighborhood']"
   ]
  },
  {
   "cell_type": "code",
   "execution_count": 82,
   "metadata": {},
   "outputs": [
    {
     "data": {
      "text/plain": [
       "{'': '20001',\n",
       " 'Adams Morgan': '20009',\n",
       " 'American University Park': '20016',\n",
       " 'Arboretum': '20002',\n",
       " 'Barnaby Woods': '20015',\n",
       " 'Barry Farm': '20020',\n",
       " 'Bellevue': '20032',\n",
       " 'Benning': '20019',\n",
       " 'Benning Heights': '20019',\n",
       " 'Bloomingdale': '20017',\n",
       " 'Brentwood': '20722',\n",
       " 'Brightwood': '20011',\n",
       " 'Brightwood Park': '20011',\n",
       " 'Brookland': '20017',\n",
       " 'Buena Vista': '20020',\n",
       " 'Burleith': '20007',\n",
       " 'Burrville': '20019',\n",
       " 'Buzzard Point': '20024',\n",
       " 'Capitol Hill': '20003',\n",
       " 'Capitol View': '20020',\n",
       " 'Cardozo': '20001',\n",
       " 'Carver Langston': '20002',\n",
       " 'Cathedral Heights': '20016',\n",
       " 'Chevy Chase': '20015',\n",
       " 'Chinatown': '20001',\n",
       " 'Cleveland Park': '20008',\n",
       " 'Colonial Village': '20012',\n",
       " 'Columbia Heights': '20010',\n",
       " 'Congress Heights': '20032',\n",
       " 'Connecticut Avenue': '20036',\n",
       " 'Crestwood': '20011',\n",
       " 'Deanwood': '20019',\n",
       " 'Douglass': '20020',\n",
       " 'Downtown': '20001',\n",
       " 'Dupont Circle': '20036',\n",
       " 'Dupont Park': '20020',\n",
       " 'Eastland Gardens': '20019',\n",
       " 'Eckington': '20002',\n",
       " 'Edgewood': '20017',\n",
       " 'Fairfax Village': '20020',\n",
       " 'Fairlawn': '20020',\n",
       " 'Fairmont Heights': '20009',\n",
       " 'Foggy Bottom': '20037',\n",
       " 'Forest Hills': '20008',\n",
       " 'Fort Davis Park': '20020',\n",
       " 'Fort Dupont': '20019',\n",
       " 'Fort Lincoln': '20018',\n",
       " 'Fort McNair': '20319',\n",
       " 'Fort Stanton': '20020',\n",
       " 'Fort Totten': '20011',\n",
       " 'Foxhall Crescent': '20007',\n",
       " 'Foxhall Village': '20007',\n",
       " 'Friendship Heights': '20016',\n",
       " 'GWU': '20037',\n",
       " 'Garfield Heights': '20020',\n",
       " 'Gateway': '20018',\n",
       " 'Georgetown': '20007',\n",
       " 'Georgetown Reservoir': '20007',\n",
       " 'Glover Park': '20007',\n",
       " 'Grant Park': '20019',\n",
       " 'Greenway': '20019',\n",
       " 'Hawthorne': '20015',\n",
       " 'Hillandale': '20007',\n",
       " 'Hillbrook': '20016',\n",
       " 'Hillcrest': '20020',\n",
       " 'Historic Anacostia': '20020',\n",
       " 'Howard University': '20001',\n",
       " 'Ivy City': '20002',\n",
       " 'K Street': '20006',\n",
       " 'Kalorama Heights': '20009',\n",
       " 'Kenilworth': '20019',\n",
       " 'Kingman Park': '20002',\n",
       " 'Knox Hill': '20020',\n",
       " 'Lamond Riggs': '20011',\n",
       " 'Langdon': '20018',\n",
       " 'Lanier Heights': '20009',\n",
       " 'Le Droit Park': '20001',\n",
       " 'Lincoln Heights': '20019',\n",
       " 'Lincoln Park': '20002',\n",
       " 'Logan Circle': '20001',\n",
       " 'Mahaning Heights': '20016',\n",
       " 'Manor Park': '20011',\n",
       " 'Marshall Heights': '20019',\n",
       " 'Massachusetts Avenue Heights': '20007',\n",
       " 'Mayfair': '20019',\n",
       " 'McLean Gardens': '20016',\n",
       " 'Michigan Park': '20017',\n",
       " 'Mount Vernon Square': '20001',\n",
       " 'Mt. Pleasant': '20010',\n",
       " 'Navy Yard': '20003',\n",
       " 'Naylor Gardens': '20020',\n",
       " 'Near Southeast': '20003',\n",
       " 'NoMa': '20002',\n",
       " 'North Capitol Street': '20002',\n",
       " 'North Cleveland Park': '20008',\n",
       " 'North Michigan Park': '20017',\n",
       " 'North Portal Estates': '20012',\n",
       " 'Palisades': '20016',\n",
       " 'Park View': '20010',\n",
       " 'Penn Branch': '20019',\n",
       " 'Penn Quarter': '20004',\n",
       " 'Petworth': '20011',\n",
       " 'Pleasant Hill': '20020',\n",
       " 'Pleasant Plains': '20010',\n",
       " 'Queens Chapel': '20011',\n",
       " 'Randle Highlands': '20020',\n",
       " 'River Terrace': '20019',\n",
       " 'Shaw': '20001',\n",
       " 'Shepherd Park': '20012',\n",
       " 'Sheridan': '20011',\n",
       " 'Shipley Terrace': '20020',\n",
       " 'Southwest': '20024',\n",
       " 'Southwest Employment Area': '20024',\n",
       " 'Southwest Waterfront': '20024',\n",
       " 'Spring Valley': '20016',\n",
       " 'Stanton Park': '20002',\n",
       " 'Summit Park': '20009',\n",
       " 'Takoma': '20012',\n",
       " 'Tenleytown': '20016',\n",
       " 'Trinidad': '20002',\n",
       " 'Truxton Circle': '20017',\n",
       " 'Twining': '20020',\n",
       " 'Union Station': '20002',\n",
       " 'University Heights': '20017',\n",
       " 'Van Ness': '20008',\n",
       " 'Washington Highland': '20032',\n",
       " 'Wesley Heights': '20016',\n",
       " 'West End': '20037',\n",
       " 'Woodland': '20008',\n",
       " 'Woodland-Normanstone Terrace': '20008',\n",
       " 'Woodley Park': '20008',\n",
       " 'Woodridge': '20018'}"
      ]
     },
     "execution_count": 82,
     "metadata": {},
     "output_type": "execute_result"
    }
   ],
   "source": [
    "conversion"
   ]
  },
  {
   "cell_type": "code",
   "execution_count": 83,
   "metadata": {
    "collapsed": true
   },
   "outputs": [],
   "source": [
    "conversions = []\n",
    "for i in this_is_a_neighborhoods:\n",
    "    try:\n",
    "        conversions.append(conversion[i])\n",
    "    except KeyError:\n",
    "        conversions.append('99999')"
   ]
  },
  {
   "cell_type": "code",
   "execution_count": 84,
   "metadata": {
    "scrolled": true
   },
   "outputs": [
    {
     "name": "stdout",
     "output_type": "stream",
     "text": [
      "67075\n",
      "(67075, 8)\n"
     ]
    }
   ],
   "source": [
    "print(len(conversions))\n",
    "print(grouped_foursquare.shape)"
   ]
  },
  {
   "cell_type": "code",
   "execution_count": 85,
   "metadata": {
    "collapsed": true
   },
   "outputs": [],
   "source": [
    "grouped_foursquare['zip_code'] = conversions"
   ]
  },
  {
   "cell_type": "code",
   "execution_count": 86,
   "metadata": {
    "scrolled": true
   },
   "outputs": [
    {
     "data": {
      "text/plain": [
       "20001    19509\n",
       "99999    16804\n",
       "20036     6731\n",
       "20003     4237\n",
       "20007     3827\n",
       "20004     3296\n",
       "20002     3058\n",
       "20037     2834\n",
       "20009     2131\n",
       "20010     2120\n",
       "20008     1144\n",
       "20024      876\n",
       "20017      485\n",
       "20722       18\n",
       "20020        3\n",
       "20011        2\n",
       "Name: zip_code, dtype: int64"
      ]
     },
     "execution_count": 86,
     "metadata": {},
     "output_type": "execute_result"
    }
   ],
   "source": [
    "grouped_foursquare.zip_code.value_counts()"
   ]
  },
  {
   "cell_type": "code",
   "execution_count": 87,
   "metadata": {
    "collapsed": true
   },
   "outputs": [],
   "source": [
    "# some neighborhoods did not convert to zip code correctly. Due to time restrictions and \n",
    "# previous issues with geocoding, I'm simply going to drop them for now.\n",
    "grouped_foursquare = grouped_foursquare[grouped_foursquare.zip_code != '99999']"
   ]
  },
  {
   "cell_type": "code",
   "execution_count": 88,
   "metadata": {},
   "outputs": [
    {
     "data": {
      "text/plain": [
       "20001    19509\n",
       "20036     6731\n",
       "20003     4237\n",
       "20007     3827\n",
       "20004     3296\n",
       "20002     3058\n",
       "20037     2834\n",
       "20009     2131\n",
       "20010     2120\n",
       "20008     1144\n",
       "20024      876\n",
       "20017      485\n",
       "20722       18\n",
       "20020        3\n",
       "20011        2\n",
       "Name: zip_code, dtype: int64"
      ]
     },
     "execution_count": 88,
     "metadata": {},
     "output_type": "execute_result"
    }
   ],
   "source": [
    "grouped_foursquare.zip_code.value_counts()"
   ]
  },
  {
   "cell_type": "code",
   "execution_count": 92,
   "metadata": {},
   "outputs": [
    {
     "data": {
      "text/plain": [
       "Coffee Shop            2378\n",
       "Office                 2223\n",
       "Subway                 2043\n",
       "American Restaurant    1844\n",
       "Bar                    1804\n",
       "Name: venue_category, dtype: int64"
      ]
     },
     "execution_count": 92,
     "metadata": {},
     "output_type": "execute_result"
    }
   ],
   "source": [
    "grouped_foursquare.venue_category.value_counts().head()"
   ]
  },
  {
   "cell_type": "markdown",
   "metadata": {},
   "source": [
    "#### Export the altered dataframe into a file for later use"
   ]
  },
  {
   "cell_type": "code",
   "execution_count": 25,
   "metadata": {
    "collapsed": true
   },
   "outputs": [],
   "source": [
    "grouped_foursquare.to_csv('./data/foursquare.csv', sep='\\t')"
   ]
  },
  {
   "cell_type": "markdown",
   "metadata": {},
   "source": [
    "<a id=\"reimport_data\"></a>\n",
    "## Import cleaned datasets\n",
    "#### <font color=Red>Start running here to import cleaned dataframes; reading dataframes into memory and re-converting datatypes</font>"
   ]
  },
  {
   "cell_type": "code",
   "execution_count": 10,
   "metadata": {},
   "outputs": [
    {
     "data": {
      "text/plain": [
       "name             object\n",
       "latitude        float64\n",
       "longitude       float64\n",
       "address          object\n",
       "city             object\n",
       "country          object\n",
       "state            object\n",
       "zip_code          int64\n",
       "categories       object\n",
       "price            object\n",
       "rating          float64\n",
       "review_count      int64\n",
       "dtype: object"
      ]
     },
     "execution_count": 10,
     "metadata": {},
     "output_type": "execute_result"
    }
   ],
   "source": [
    "businesses_df = pd.read_csv('./data/businesses.csv', sep=\"\\t\", index_col=0, encoding='latin-1')\n",
    "businesses_df.dtypes"
   ]
  },
  {
   "cell_type": "code",
   "execution_count": 11,
   "metadata": {},
   "outputs": [],
   "source": [
    "businesses_df['zip_code'] = businesses_df['zip_code'].astype(str)"
   ]
  },
  {
   "cell_type": "code",
   "execution_count": 12,
   "metadata": {},
   "outputs": [
    {
     "data": {
      "text/html": [
       "<div>\n",
       "<style scoped>\n",
       "    .dataframe tbody tr th:only-of-type {\n",
       "        vertical-align: middle;\n",
       "    }\n",
       "\n",
       "    .dataframe tbody tr th {\n",
       "        vertical-align: top;\n",
       "    }\n",
       "\n",
       "    .dataframe thead th {\n",
       "        text-align: right;\n",
       "    }\n",
       "</style>\n",
       "<table border=\"1\" class=\"dataframe\">\n",
       "  <thead>\n",
       "    <tr style=\"text-align: right;\">\n",
       "      <th></th>\n",
       "      <th>name</th>\n",
       "      <th>latitude</th>\n",
       "      <th>longitude</th>\n",
       "      <th>address</th>\n",
       "      <th>city</th>\n",
       "      <th>country</th>\n",
       "      <th>state</th>\n",
       "      <th>zip_code</th>\n",
       "      <th>categories</th>\n",
       "      <th>price</th>\n",
       "      <th>rating</th>\n",
       "      <th>review_count</th>\n",
       "    </tr>\n",
       "  </thead>\n",
       "  <tbody>\n",
       "    <tr>\n",
       "      <th>0</th>\n",
       "      <td>Old Ebbitt Grill</td>\n",
       "      <td>38.898005</td>\n",
       "      <td>-77.033362</td>\n",
       "      <td>675 15th St NW</td>\n",
       "      <td>Washington, DC</td>\n",
       "      <td>US</td>\n",
       "      <td>DC</td>\n",
       "      <td>20005</td>\n",
       "      <td>['Bars', 'American (Traditional)', 'Breakfast ...</td>\n",
       "      <td>$$</td>\n",
       "      <td>4.0</td>\n",
       "      <td>6544</td>\n",
       "    </tr>\n",
       "    <tr>\n",
       "      <th>1</th>\n",
       "      <td>A Baked Joint</td>\n",
       "      <td>38.902411</td>\n",
       "      <td>-77.017139</td>\n",
       "      <td>440 K St NW</td>\n",
       "      <td>Washington, DC</td>\n",
       "      <td>US</td>\n",
       "      <td>DC</td>\n",
       "      <td>20001</td>\n",
       "      <td>['Coffee &amp; Tea', 'Breakfast &amp; Brunch', 'Sandwi...</td>\n",
       "      <td>$</td>\n",
       "      <td>4.5</td>\n",
       "      <td>1218</td>\n",
       "    </tr>\n",
       "    <tr>\n",
       "      <th>2</th>\n",
       "      <td>Le Diplomate</td>\n",
       "      <td>38.911359</td>\n",
       "      <td>-77.031575</td>\n",
       "      <td>1601 14th St NW</td>\n",
       "      <td>Washington, DC</td>\n",
       "      <td>US</td>\n",
       "      <td>DC</td>\n",
       "      <td>20009</td>\n",
       "      <td>['Brasseries', 'French', 'Cafes']</td>\n",
       "      <td>$$$</td>\n",
       "      <td>4.0</td>\n",
       "      <td>2449</td>\n",
       "    </tr>\n",
       "    <tr>\n",
       "      <th>3</th>\n",
       "      <td>Rasika</td>\n",
       "      <td>38.895008</td>\n",
       "      <td>-77.021286</td>\n",
       "      <td>633 D St NW</td>\n",
       "      <td>Washington, DC</td>\n",
       "      <td>US</td>\n",
       "      <td>DC</td>\n",
       "      <td>20004</td>\n",
       "      <td>['Indian']</td>\n",
       "      <td>$$$</td>\n",
       "      <td>4.5</td>\n",
       "      <td>2633</td>\n",
       "    </tr>\n",
       "    <tr>\n",
       "      <th>4</th>\n",
       "      <td>Matchbox - Chinatown</td>\n",
       "      <td>38.900050</td>\n",
       "      <td>-77.022540</td>\n",
       "      <td>713 H St NW</td>\n",
       "      <td>Washington, DC</td>\n",
       "      <td>US</td>\n",
       "      <td>DC</td>\n",
       "      <td>20001</td>\n",
       "      <td>['Pizza', 'American (New)']</td>\n",
       "      <td>$$</td>\n",
       "      <td>4.0</td>\n",
       "      <td>2673</td>\n",
       "    </tr>\n",
       "  </tbody>\n",
       "</table>\n",
       "</div>"
      ],
      "text/plain": [
       "                   name   latitude  longitude          address  \\\n",
       "0      Old Ebbitt Grill  38.898005 -77.033362   675 15th St NW   \n",
       "1         A Baked Joint  38.902411 -77.017139      440 K St NW   \n",
       "2          Le Diplomate  38.911359 -77.031575  1601 14th St NW   \n",
       "3                Rasika  38.895008 -77.021286      633 D St NW   \n",
       "4  Matchbox - Chinatown  38.900050 -77.022540      713 H St NW   \n",
       "\n",
       "             city country state zip_code  \\\n",
       "0  Washington, DC      US    DC    20005   \n",
       "1  Washington, DC      US    DC    20001   \n",
       "2  Washington, DC      US    DC    20009   \n",
       "3  Washington, DC      US    DC    20004   \n",
       "4  Washington, DC      US    DC    20001   \n",
       "\n",
       "                                          categories price  rating  \\\n",
       "0  ['Bars', 'American (Traditional)', 'Breakfast ...    $$     4.0   \n",
       "1  ['Coffee & Tea', 'Breakfast & Brunch', 'Sandwi...     $     4.5   \n",
       "2                  ['Brasseries', 'French', 'Cafes']   $$$     4.0   \n",
       "3                                         ['Indian']   $$$     4.5   \n",
       "4                        ['Pizza', 'American (New)']    $$     4.0   \n",
       "\n",
       "   review_count  \n",
       "0          6544  \n",
       "1          1218  \n",
       "2          2449  \n",
       "3          2633  \n",
       "4          2673  "
      ]
     },
     "execution_count": 12,
     "metadata": {},
     "output_type": "execute_result"
    }
   ],
   "source": [
    "businesses_df.head()"
   ]
  },
  {
   "cell_type": "code",
   "execution_count": 13,
   "metadata": {
    "scrolled": true
   },
   "outputs": [
    {
     "data": {
      "text/plain": [
       "user_id                     int64\n",
       "venue_id                   object\n",
       "utc_time           datetime64[ns]\n",
       "latitude                  float64\n",
       "longitude                 float64\n",
       "venue_category             object\n",
       "country                    object\n",
       "coffee_shop_bin             int64\n",
       "zip_code                   object\n",
       "dtype: object"
      ]
     },
     "execution_count": 13,
     "metadata": {},
     "output_type": "execute_result"
    }
   ],
   "source": [
    "foursquare_df = pd.read_csv('./data/foursquare.csv', sep=\"\\t\", index_col=0)\n",
    "foursquare_df['utc_time'] = pd.to_datetime(foursquare_df['utc_time'], infer_datetime_format=True)\n",
    "foursquare_df['zip_code'] = foursquare_df['zip_code'].astype(str)\n",
    "foursquare_df.dtypes\n",
    "# foursquare_df.shape"
   ]
  },
  {
   "cell_type": "markdown",
   "metadata": {},
   "source": [
    "<a id=\"explore_data\"></a>"
   ]
  },
  {
   "cell_type": "markdown",
   "metadata": {},
   "source": [
    "## Explore Data"
   ]
  },
  {
   "cell_type": "markdown",
   "metadata": {},
   "source": [
    "### Hypothesis 1: Find where people who go to coffee shops go on the same day, and then find a location with a lot of this type of establishment.\n",
    "\n",
    "- First, I'll need to pick which categories I'll include, and then transcribe them to individual columns. Each row will be one day for one user, and the values for each category column will be 1 if the person visited this type of category on that day, and 0 if not."
   ]
  },
  {
   "cell_type": "code",
   "execution_count": 14,
   "metadata": {
    "scrolled": false
   },
   "outputs": [
    {
     "data": {
      "text/plain": [
       "<matplotlib.axes._subplots.AxesSubplot at 0x20df4ad8320>"
      ]
     },
     "execution_count": 14,
     "metadata": {},
     "output_type": "execute_result"
    },
    {
     "data": {
      "image/png": "[encoded data removed]",
      "text/plain": [
       "<Figure size 1080x576 with 1 Axes>"
      ]
     },
     "metadata": {},
     "output_type": "display_data"
    }
   ],
   "source": [
    "foursquare_df.venue_category.value_counts().head(7).plot(kind='bar', figsize=(15, 8))"
   ]
  },
  {
   "cell_type": "code",
   "execution_count": 15,
   "metadata": {
    "scrolled": true
   },
   "outputs": [
    {
     "data": {
      "text/plain": [
       "array(['Shoe Store', 'Lounge', 'Bar', 'Sandwich Place',\n",
       "       'Baseball Stadium', 'Zoo', 'Greek Restaurant', 'Bank',\n",
       "       'Train Station', 'Neighborhood', 'American Restaurant',\n",
       "       'Coffee Shop', 'Tech Startup', 'Seafood Restaurant', 'Subway',\n",
       "       'Pizza Place', 'History Museum', 'Mall', 'Hotel',\n",
       "       'Government Building', 'Department Store', 'Gym / Fitness Center',\n",
       "       'Indian Restaurant', 'Light Rail', 'Sports Bar', 'Caf\\x1a\\x1a',\n",
       "       'Cocktail Bar', 'Yoga Studio', 'Clothing Store', 'Military Base',\n",
       "       'Bookstore', 'Gym', 'Park', 'Plaza', 'Whisky Bar', 'Office',\n",
       "       'Community College', 'Museum', 'Mediterranean Restaurant', 'Pub',\n",
       "       'Breakfast Spot', 'High School', 'Nightlife Spot', 'Grocery Store',\n",
       "       'Steakhouse', \"Men's Store\", 'Music Venue', 'Hotel Bar', 'Theater',\n",
       "       'Dive Bar', 'Italian Restaurant', 'Fast Food Restaurant',\n",
       "       'Liquor Store', 'Turkish Restaurant', 'Ice Cream Shop',\n",
       "       'Drugstore / Pharmacy', 'Cafeteria', 'Arts & Crafts Store',\n",
       "       'Moving Target', 'University', 'Performing Arts Venue',\n",
       "       'Speakeasy', 'Residential Building (Apartment / Condo)',\n",
       "       'Basketball Stadium', 'Convenience Store', 'Road', 'Train',\n",
       "       'Building', 'College Classroom', 'Home (private)', 'Bridge',\n",
       "       'Coworking Space', 'Food Truck', 'Library', 'Convention Center',\n",
       "       'Bus Line', 'Capitol Building', 'Auditorium',\n",
       "       'Latin American Restaurant', 'Burger Joint', 'Thai Restaurant',\n",
       "       'Fried Chicken Joint', 'Caf\\x1a', 'Bakery', 'Mexican Restaurant',\n",
       "       'Chinese Restaurant', 'Post Office', 'Miscellaneous Shop', 'City',\n",
       "       'Courthouse', 'General College & University', 'Salon / Barbershop',\n",
       "       'Multiplex', 'New American Restaurant', 'Tapas Restaurant',\n",
       "       'College Academic Building', \"Doctor's Office\",\n",
       "       'Electronics Store', 'Church', 'Sporting Goods Shop',\n",
       "       'Deli / Bodega', 'Brewery', 'Pool Hall', 'Dim Sum Restaurant',\n",
       "       'College Residence Hall', 'Dog Run', 'Diner', 'Farmers Market',\n",
       "       'French Restaurant', 'Salad Place', 'Harbor / Marina',\n",
       "       'Art Museum', 'Hardware Store', 'Beer Garden', 'Cosmetics Shop',\n",
       "       'Wine Shop', 'Police Station', 'Monument / Landmark',\n",
       "       'Cupcake Shop', 'Garden', 'Korean Restaurant', 'Bike Shop',\n",
       "       'Boutique', 'Gastropub', 'Asian Restaurant', 'Other Nightlife',\n",
       "       'Bowling Alley', 'Nightclub', 'Event Space', 'African Restaurant',\n",
       "       'Indie Movie Theater', 'Hookah Bar', 'Field', 'Wine Bar',\n",
       "       'Scenic Lookout', 'Southern / Soul Food Restaurant', 'Bus Station',\n",
       "       'Rental Car Location', 'Veterinarian', 'Laundry Service',\n",
       "       'Sushi Restaurant', 'Art Gallery', \"Women's Store\",\n",
       "       'Hot Dog Joint', 'Taxi', 'Accessories Store', 'Jazz Club',\n",
       "       'Falafel Restaurant', 'BBQ Joint', 'Bagel Shop', 'Student Center',\n",
       "       'German Restaurant', 'Frozen Yogurt', 'Dessert Shop', 'Tea Room',\n",
       "       'Wings Joint', 'College Library', 'Cemetery', 'Donut Shop',\n",
       "       'General Entertainment', 'College Engineering Building',\n",
       "       'Furniture / Home Store', 'Design Studio', 'Rock Club',\n",
       "       'Spa / Massage', 'Vegetarian / Vegan Restaurant', 'Hospital',\n",
       "       'Spiritual Center', 'Brazilian Restaurant', 'Karaoke Bar',\n",
       "       'Restaurant', 'Caribbean Restaurant', 'Other Great Outdoors',\n",
       "       'Nail Salon', 'Food & Drink Shop', 'Gas Station / Garage',\n",
       "       'Tanning Salon', 'General Travel', 'College Quad', 'Flea Market',\n",
       "       'Historic Site', 'Vietnamese Restaurant', 'Conference Room',\n",
       "       'Professional & Other Places', 'Food Court', 'Boat or Ferry',\n",
       "       'Parking', 'Law School', 'Dance Studio', \"Dentist's Office\",\n",
       "       'Juice Bar', 'Thrift / Vintage Store', 'Middle Eastern Restaurant',\n",
       "       'Bike Rental / Bike Share', 'Gift Shop', 'Strip Club',\n",
       "       'Automotive Shop', 'Gourmet Shop', 'Temple', 'Spanish Restaurant',\n",
       "       'Theme Park', 'Record Shop', 'Smoke Shop', 'Elementary School',\n",
       "       'Soup Place', 'Medical Center', 'Trade School',\n",
       "       'Japanese Restaurant', 'Embassy / Consulate', 'College Auditorium',\n",
       "       'Hiking Trail', 'Taco Place', 'Sculpture Garden',\n",
       "       'Paper / Office Supplies Store', 'College Basketball Court',\n",
       "       'Butcher', 'Ramen /  Noodle House', 'Pool', 'Fire Station', 'Fair',\n",
       "       'Snack Place', 'College Cafeteria', 'City Hall', 'School',\n",
       "       'Platform', 'Flower Shop', 'Housing Development',\n",
       "       'Ethiopian Restaurant', 'Optical Shop', 'Comedy Club',\n",
       "       'Eastern European Restaurant', 'College Administrative Building',\n",
       "       'Financial or Legal Service', 'Medical School', 'Climbing Gym',\n",
       "       'College Arts Building', 'Hockey Arena', 'Food', 'Kids Store',\n",
       "       'Winery', 'College Science Building', 'Playground',\n",
       "       'Baseball Field', 'Cajun / Creole Restaurant', 'Fish Market',\n",
       "       'Cuban Restaurant', 'Moroccan Restaurant', 'Swiss Restaurant',\n",
       "       'Concert Hall', 'Opera House', 'Burrito Place', 'Plane',\n",
       "       'Tattoo Parlor', 'Vineyard', 'Campground', 'Arcade',\n",
       "       'South American Restaurant', 'Fraternity House', 'Aquarium',\n",
       "       'Portuguese Restaurant', 'College Lab', 'Tennis Court', 'Stadium',\n",
       "       'Camera Store', 'Travel Lounge', 'Track Stadium', 'Farm',\n",
       "       'Pet Store', 'Track', 'Synagogue', 'Lingerie Store',\n",
       "       'Meeting Room', 'Ski Area', 'Jewelry Store',\n",
       "       'College Communications Building', 'Movie Theater', 'Trails',\n",
       "       'College Bookstore', 'Hobby Shop', 'Gaming Cafe', 'Hostel',\n",
       "       'College Rec Center', 'Cheese Shop', 'Antique Shop',\n",
       "       'Voting Booth', 'College Gym', 'Toy / Game Store', 'Shrine',\n",
       "       'Athletics & Sports', 'Hot Spring', 'Ski Trail', 'Gym Pool',\n",
       "       'Racetrack', 'Casino', 'Ski Chalet', 'Candy Store',\n",
       "       'College & University', 'Bed & Breakfast', 'River',\n",
       "       'Sorority House', 'Non-Profit', 'College Technology Building',\n",
       "       'Skate Park', 'Soccer Field', 'Basketball Court', 'Bridal Shop',\n",
       "       'Science Museum', 'Athletic & Sport', 'Rest Area',\n",
       "       'Arts & Entertainment', 'Factory', 'Garden Center', 'Skating Rink',\n",
       "       'Outdoors & Recreation', 'Public Art', 'Tailor Shop',\n",
       "       'Motorcycle Shop', 'Shop & Service', 'Ski Lodge',\n",
       "       'Photography Lab', 'Molecular Gastronomy Restaurant',\n",
       "       'Animal Shelter', 'Water Park', 'Paella Restaurant',\n",
       "       'College Theater', 'Argentinian Restaurant', 'Mobile Phone Shop',\n",
       "       'Yogurt', 'College Stadium', 'Tourist Information Center', 'Motel',\n",
       "       'Radio Station', 'Fish & Chips Shop', 'Hockey Field', 'Market',\n",
       "       'Assisted Living', 'Pier', 'Video Store', 'Volleyball Court'],\n",
       "      dtype=object)"
      ]
     },
     "execution_count": 15,
     "metadata": {},
     "output_type": "execute_result"
    }
   ],
   "source": [
    "# first, list all of the columns\n",
    "foursquare_df.venue_category.unique()"
   ]
  },
  {
   "cell_type": "code",
   "execution_count": 16,
   "metadata": {},
   "outputs": [
    {
     "data": {
      "text/plain": [
       "array(['Coffee Shop', 'Office', 'Subway', 'American Restaurant', 'Bar',\n",
       "       'Government Building', 'Hotel', 'Train Station', 'Gym',\n",
       "       'Grocery Store', 'Home (private)',\n",
       "       'Residential Building (Apartment / Condo)', 'Park',\n",
       "       'Mexican Restaurant', 'Sandwich Place', 'Lounge', 'Building',\n",
       "       'Pizza Place', 'Pub', 'Neighborhood', 'Baseball Stadium', 'Road',\n",
       "       'Italian Restaurant'], dtype=object)"
      ]
     },
     "execution_count": 16,
     "metadata": {},
     "output_type": "execute_result"
    }
   ],
   "source": [
    "# for now, I'll just use the top 23 categories as my features\n",
    "columns=foursquare_df.venue_category.value_counts().head(23).index.values\n",
    "columns"
   ]
  },
  {
   "cell_type": "code",
   "execution_count": 17,
   "metadata": {},
   "outputs": [
    {
     "data": {
      "text/html": [
       "<div>\n",
       "<style scoped>\n",
       "    .dataframe tbody tr th:only-of-type {\n",
       "        vertical-align: middle;\n",
       "    }\n",
       "\n",
       "    .dataframe tbody tr th {\n",
       "        vertical-align: top;\n",
       "    }\n",
       "\n",
       "    .dataframe thead th {\n",
       "        text-align: right;\n",
       "    }\n",
       "</style>\n",
       "<table border=\"1\" class=\"dataframe\">\n",
       "  <thead>\n",
       "    <tr style=\"text-align: right;\">\n",
       "      <th></th>\n",
       "      <th>user_id</th>\n",
       "      <th>utc_time_full</th>\n",
       "    </tr>\n",
       "  </thead>\n",
       "  <tbody>\n",
       "    <tr>\n",
       "      <th>0</th>\n",
       "      <td>6</td>\n",
       "      <td>2013-04-03 16:49:50</td>\n",
       "    </tr>\n",
       "    <tr>\n",
       "      <th>1</th>\n",
       "      <td>6</td>\n",
       "      <td>2012-10-18 16:01:06</td>\n",
       "    </tr>\n",
       "    <tr>\n",
       "      <th>2</th>\n",
       "      <td>6</td>\n",
       "      <td>2013-05-22 20:16:02</td>\n",
       "    </tr>\n",
       "    <tr>\n",
       "      <th>3</th>\n",
       "      <td>6</td>\n",
       "      <td>2013-02-27 18:10:19</td>\n",
       "    </tr>\n",
       "    <tr>\n",
       "      <th>4</th>\n",
       "      <td>6</td>\n",
       "      <td>2012-11-28 15:04:14</td>\n",
       "    </tr>\n",
       "  </tbody>\n",
       "</table>\n",
       "</div>"
      ],
      "text/plain": [
       "   user_id       utc_time_full\n",
       "0        6 2013-04-03 16:49:50\n",
       "1        6 2012-10-18 16:01:06\n",
       "2        6 2013-05-22 20:16:02\n",
       "3        6 2013-02-27 18:10:19\n",
       "4        6 2012-11-28 15:04:14"
      ]
     },
     "execution_count": 17,
     "metadata": {},
     "output_type": "execute_result"
    }
   ],
   "source": [
    "foursquare_days_df = foursquare_df.rename(columns={'utc_time':'utc_time_full'}).groupby([foursquare_df.user_id, foursquare_df.utc_time.dt.day]).nth(0).reset_index(drop=True)\n",
    "foursquare_days_df.drop(['venue_id', 'latitude', 'longitude', 'venue_category', 'country', 'coffee_shop_bin', 'zip_code'], axis=1, inplace=True)\n",
    "foursquare_days_df.head()"
   ]
  },
  {
   "cell_type": "code",
   "execution_count": 18,
   "metadata": {},
   "outputs": [],
   "source": [
    "foursquare_df_temp = foursquare_df[foursquare_df.venue_category.isin(columns)]"
   ]
  },
  {
   "cell_type": "code",
   "execution_count": 19,
   "metadata": {},
   "outputs": [],
   "source": [
    "foursquare_days_df = pd.read_csv('./data/foursquare_days_df.csv')"
   ]
  },
  {
   "cell_type": "code",
   "execution_count": 606,
   "metadata": {
    "scrolled": true
   },
   "outputs": [
    {
     "data": {
      "text/plain": [
       "964.9314014144293"
      ]
     },
     "execution_count": 606,
     "metadata": {},
     "output_type": "execute_result"
    }
   ],
   "source": [
    "# DON'T RUN THIS! :)\n",
    "# takes 15+ minutes. Running the cell block directly above this will import the same dataset\n",
    "# as this code block produces.\n",
    "\n",
    "# transposes check in data w/ user/date as primary key and 1/0 for whether \n",
    "# or not the user visited said category\n",
    "for column in columns:\n",
    "    foursquare_days_df[column] = foursquare_days_df.apply(lambda row: 1 if foursquare_df_temp[(foursquare_df_temp['user_id'] == row['user_id']) & (foursquare_df_temp.utc_time.dt.day == row['utc_time_full'].day) & (foursquare_df_temp.venue_category == column)].venue_category.count() > 0 else 0, axis=1)\n",
    "    foursquare_df_temp = foursquare_df_temp[foursquare_df_temp['venue_category'] != column]"
   ]
  },
  {
   "cell_type": "code",
   "execution_count": 20,
   "metadata": {},
   "outputs": [
    {
     "data": {
      "text/html": [
       "<div>\n",
       "<style scoped>\n",
       "    .dataframe tbody tr th:only-of-type {\n",
       "        vertical-align: middle;\n",
       "    }\n",
       "\n",
       "    .dataframe tbody tr th {\n",
       "        vertical-align: top;\n",
       "    }\n",
       "\n",
       "    .dataframe thead th {\n",
       "        text-align: right;\n",
       "    }\n",
       "</style>\n",
       "<table border=\"1\" class=\"dataframe\">\n",
       "  <thead>\n",
       "    <tr style=\"text-align: right;\">\n",
       "      <th></th>\n",
       "      <th>Unnamed: 0</th>\n",
       "      <th>user_id</th>\n",
       "      <th>utc_time_full</th>\n",
       "      <th>Coffee Shop</th>\n",
       "      <th>Office</th>\n",
       "      <th>Subway</th>\n",
       "      <th>American Restaurant</th>\n",
       "      <th>Bar</th>\n",
       "      <th>Government Building</th>\n",
       "      <th>Hotel</th>\n",
       "      <th>...</th>\n",
       "      <th>Mexican Restaurant</th>\n",
       "      <th>Sandwich Place</th>\n",
       "      <th>Lounge</th>\n",
       "      <th>Building</th>\n",
       "      <th>Pizza Place</th>\n",
       "      <th>Pub</th>\n",
       "      <th>Neighborhood</th>\n",
       "      <th>Baseball Stadium</th>\n",
       "      <th>Road</th>\n",
       "      <th>Italian Restaurant</th>\n",
       "    </tr>\n",
       "  </thead>\n",
       "  <tbody>\n",
       "    <tr>\n",
       "      <th>0</th>\n",
       "      <td>0</td>\n",
       "      <td>6</td>\n",
       "      <td>2013-04-03 16:49:50</td>\n",
       "      <td>0</td>\n",
       "      <td>0</td>\n",
       "      <td>0</td>\n",
       "      <td>0</td>\n",
       "      <td>0</td>\n",
       "      <td>1</td>\n",
       "      <td>0</td>\n",
       "      <td>...</td>\n",
       "      <td>0</td>\n",
       "      <td>0</td>\n",
       "      <td>0</td>\n",
       "      <td>0</td>\n",
       "      <td>0</td>\n",
       "      <td>0</td>\n",
       "      <td>0</td>\n",
       "      <td>0</td>\n",
       "      <td>0</td>\n",
       "      <td>0</td>\n",
       "    </tr>\n",
       "    <tr>\n",
       "      <th>1</th>\n",
       "      <td>1</td>\n",
       "      <td>6</td>\n",
       "      <td>2012-10-18 16:01:06</td>\n",
       "      <td>0</td>\n",
       "      <td>0</td>\n",
       "      <td>0</td>\n",
       "      <td>0</td>\n",
       "      <td>0</td>\n",
       "      <td>1</td>\n",
       "      <td>0</td>\n",
       "      <td>...</td>\n",
       "      <td>0</td>\n",
       "      <td>0</td>\n",
       "      <td>0</td>\n",
       "      <td>0</td>\n",
       "      <td>0</td>\n",
       "      <td>0</td>\n",
       "      <td>0</td>\n",
       "      <td>0</td>\n",
       "      <td>0</td>\n",
       "      <td>0</td>\n",
       "    </tr>\n",
       "    <tr>\n",
       "      <th>2</th>\n",
       "      <td>2</td>\n",
       "      <td>6</td>\n",
       "      <td>2013-05-22 20:16:02</td>\n",
       "      <td>1</td>\n",
       "      <td>0</td>\n",
       "      <td>0</td>\n",
       "      <td>0</td>\n",
       "      <td>0</td>\n",
       "      <td>0</td>\n",
       "      <td>0</td>\n",
       "      <td>...</td>\n",
       "      <td>0</td>\n",
       "      <td>0</td>\n",
       "      <td>0</td>\n",
       "      <td>0</td>\n",
       "      <td>0</td>\n",
       "      <td>0</td>\n",
       "      <td>0</td>\n",
       "      <td>0</td>\n",
       "      <td>0</td>\n",
       "      <td>0</td>\n",
       "    </tr>\n",
       "    <tr>\n",
       "      <th>3</th>\n",
       "      <td>3</td>\n",
       "      <td>6</td>\n",
       "      <td>2013-02-27 18:10:19</td>\n",
       "      <td>0</td>\n",
       "      <td>0</td>\n",
       "      <td>0</td>\n",
       "      <td>0</td>\n",
       "      <td>1</td>\n",
       "      <td>0</td>\n",
       "      <td>1</td>\n",
       "      <td>...</td>\n",
       "      <td>0</td>\n",
       "      <td>0</td>\n",
       "      <td>0</td>\n",
       "      <td>0</td>\n",
       "      <td>0</td>\n",
       "      <td>0</td>\n",
       "      <td>0</td>\n",
       "      <td>0</td>\n",
       "      <td>0</td>\n",
       "      <td>0</td>\n",
       "    </tr>\n",
       "    <tr>\n",
       "      <th>4</th>\n",
       "      <td>4</td>\n",
       "      <td>6</td>\n",
       "      <td>2012-11-28 15:04:14</td>\n",
       "      <td>0</td>\n",
       "      <td>1</td>\n",
       "      <td>0</td>\n",
       "      <td>0</td>\n",
       "      <td>0</td>\n",
       "      <td>1</td>\n",
       "      <td>0</td>\n",
       "      <td>...</td>\n",
       "      <td>0</td>\n",
       "      <td>0</td>\n",
       "      <td>0</td>\n",
       "      <td>0</td>\n",
       "      <td>0</td>\n",
       "      <td>0</td>\n",
       "      <td>0</td>\n",
       "      <td>0</td>\n",
       "      <td>0</td>\n",
       "      <td>0</td>\n",
       "    </tr>\n",
       "  </tbody>\n",
       "</table>\n",
       "<p>5 rows × 26 columns</p>\n",
       "</div>"
      ],
      "text/plain": [
       "   Unnamed: 0  user_id        utc_time_full  Coffee Shop  Office  Subway  \\\n",
       "0           0        6  2013-04-03 16:49:50            0       0       0   \n",
       "1           1        6  2012-10-18 16:01:06            0       0       0   \n",
       "2           2        6  2013-05-22 20:16:02            1       0       0   \n",
       "3           3        6  2013-02-27 18:10:19            0       0       0   \n",
       "4           4        6  2012-11-28 15:04:14            0       1       0   \n",
       "\n",
       "   American Restaurant  Bar  Government Building  Hotel         ...          \\\n",
       "0                    0    0                    1      0         ...           \n",
       "1                    0    0                    1      0         ...           \n",
       "2                    0    0                    0      0         ...           \n",
       "3                    0    1                    0      1         ...           \n",
       "4                    0    0                    1      0         ...           \n",
       "\n",
       "   Mexican Restaurant  Sandwich Place  Lounge  Building  Pizza Place  Pub  \\\n",
       "0                   0               0       0         0            0    0   \n",
       "1                   0               0       0         0            0    0   \n",
       "2                   0               0       0         0            0    0   \n",
       "3                   0               0       0         0            0    0   \n",
       "4                   0               0       0         0            0    0   \n",
       "\n",
       "   Neighborhood  Baseball Stadium  Road  Italian Restaurant  \n",
       "0             0                 0     0                   0  \n",
       "1             0                 0     0                   0  \n",
       "2             0                 0     0                   0  \n",
       "3             0                 0     0                   0  \n",
       "4             0                 0     0                   0  \n",
       "\n",
       "[5 rows x 26 columns]"
      ]
     },
     "execution_count": 20,
     "metadata": {},
     "output_type": "execute_result"
    }
   ],
   "source": [
    "foursquare_days_df.head()"
   ]
  },
  {
   "cell_type": "code",
   "execution_count": 21,
   "metadata": {},
   "outputs": [
    {
     "data": {
      "text/plain": [
       "0    15507\n",
       "1     1930\n",
       "Name: Coffee Shop, dtype: int64"
      ]
     },
     "execution_count": 21,
     "metadata": {},
     "output_type": "execute_result"
    }
   ],
   "source": [
    "foursquare_days_df['Coffee Shop'].value_counts()"
   ]
  },
  {
   "cell_type": "code",
   "execution_count": 22,
   "metadata": {},
   "outputs": [
    {
     "data": {
      "text/plain": [
       "(17437, 26)"
      ]
     },
     "execution_count": 22,
     "metadata": {},
     "output_type": "execute_result"
    }
   ],
   "source": [
    "foursquare_days_df.shape "
   ]
  },
  {
   "cell_type": "markdown",
   "metadata": {},
   "source": [
    "#### foursquare_days_df is now formatted and ready for a decision tree (Machine Learning section)"
   ]
  },
  {
   "cell_type": "markdown",
   "metadata": {},
   "source": [
    "### Hypothesis 2: compare various factors of each zip code to the check in count to find a linear relationship. If we can find a linear relationship, we can use this to determine the best zip code for maximizing coffee shop check-ins."
   ]
  },
  {
   "cell_type": "code",
   "execution_count": 23,
   "metadata": {},
   "outputs": [
    {
     "data": {
      "text/plain": [
       "<matplotlib.axes._subplots.AxesSubplot at 0x20df51d6470>"
      ]
     },
     "execution_count": 23,
     "metadata": {},
     "output_type": "execute_result"
    },
    {
     "data": {
      "image/png": "[encoded data removed]",
      "text/plain": [
       "<Figure size 432x288 with 1 Axes>"
      ]
     },
     "metadata": {},
     "output_type": "display_data"
    }
   ],
   "source": [
    "foursquare_df.zip_code.value_counts().plot(kind='bar')"
   ]
  },
  {
   "cell_type": "code",
   "execution_count": 24,
   "metadata": {},
   "outputs": [],
   "source": [
    "coffee_checkins_perzip = foursquare_df[foursquare_df.venue_category == \"Coffee Shop\"].groupby(['zip_code']).size().reset_index(name='coffeeshop_counts')"
   ]
  },
  {
   "cell_type": "code",
   "execution_count": 25,
   "metadata": {},
   "outputs": [],
   "source": [
    "checkins_and_zipdata_df = coffee_checkins_perzip.merge(zipfeatures_df, left_on='zip_code', right_on='zip_code')"
   ]
  },
  {
   "cell_type": "code",
   "execution_count": 26,
   "metadata": {},
   "outputs": [
    {
     "data": {
      "text/plain": [
       "coffeeshop_counts           1.000000\n",
       "estimate_total              0.244147\n",
       "median_age                 -0.362762\n",
       "mean_income                -0.108608\n",
       "percent_public_transport   -0.244719\n",
       "Name: coffeeshop_counts, dtype: float64"
      ]
     },
     "execution_count": 26,
     "metadata": {},
     "output_type": "execute_result"
    }
   ],
   "source": [
    "checkins_and_zipdata_df.corr().coffeeshop_counts"
   ]
  },
  {
   "cell_type": "code",
   "execution_count": 27,
   "metadata": {
    "scrolled": true
   },
   "outputs": [
    {
     "data": {
      "text/plain": [
       "<seaborn.axisgrid.PairGrid at 0x20df4ffd630>"
      ]
     },
     "execution_count": 27,
     "metadata": {},
     "output_type": "execute_result"
    },
    {
     "data": {
      "image/png": "[encoded data removed]",
      "text/plain": [
       "<Figure size 900x900 with 30 Axes>"
      ]
     },
     "metadata": {},
     "output_type": "display_data"
    }
   ],
   "source": [
    "import seaborn as sns\n",
    "sns.pairplot(checkins_and_zipdata_df.corr(), kind='reg')\n",
    "# sns.regplot(x=\"estimate_total\", y=\"coffeeshop_counts\", data=checkins_and_zipdata_df);\n",
    "# sns.regplot(x=\"mean_income\", y=\"coffeeshop_counts\", data=checkins_and_zipdata_df);\n",
    "# sns.regplot(x=\"median_age\", y=\"coffeeshop_counts\", data=checkins_and_zipdata_df);"
   ]
  },
  {
   "cell_type": "markdown",
   "metadata": {},
   "source": [
    "<a id=\"explore_data_old\"></a>"
   ]
  },
  {
   "cell_type": "markdown",
   "metadata": {},
   "source": [
    "## Explore Data (Old Hypotheses)"
   ]
  },
  {
   "cell_type": "markdown",
   "metadata": {},
   "source": [
    "#### See where people are generally coming from when they go to coffee shops"
   ]
  },
  {
   "cell_type": "code",
   "execution_count": 29,
   "metadata": {
    "scrolled": false
   },
   "outputs": [
    {
     "data": {
      "text/plain": [
       "<matplotlib.axes._subplots.AxesSubplot at 0x28f6b6ee400>"
      ]
     },
     "execution_count": 29,
     "metadata": {},
     "output_type": "execute_result"
    },
    {
     "data": {
      "image/png": "[encoded data removed]",
      "text/plain": [
       "<Figure size 1080x576 with 1 Axes>"
      ]
     },
     "metadata": {},
     "output_type": "display_data"
    }
   ],
   "source": [
    "# View top 10 categories of checkins on days that also contain a coffee shop checkin\n",
    "foursquare_df[(foursquare_df.coffee_shop_bin==1) & (foursquare_df.venue_category != 'Coffee Shop')].venue_category.value_counts().head(7).plot(kind='bar', figsize=(15, 8))"
   ]
  },
  {
   "cell_type": "markdown",
   "metadata": {
    "collapsed": true
   },
   "source": [
    "#### Next I'd like to view coffee shops plotted on an interactive map."
   ]
  },
  {
   "cell_type": "code",
   "execution_count": 28,
   "metadata": {},
   "outputs": [],
   "source": [
    "import folium\n",
    "\n",
    "map_coffee_df = businesses_df[businesses_df.categories.astype(str).str.contains('Coffee')]\n",
    "\n",
    "folium_map = folium.Map(location=[38.9031434, -77.0232301],\n",
    "                        zoom_start=13)\n",
    "\n",
    "for index, row in map_coffee_df.iterrows():\n",
    "    folium.Marker([row[\"latitude\"], row[\"longitude\"]], popup=folium.Popup(row['name'], parse_html=True)).add_to(folium_map)"
   ]
  },
  {
   "cell_type": "code",
   "execution_count": 29,
   "metadata": {
    "scrolled": false
   },
   "outputs": [
    {
     "data": {
      "text/html": [
       "<div style=\"width:100%;\"><div style=\"position:relative;width:100%;height:0;padding-bottom:60%;\"><iframe src=\"data:text/html;charset=utf-8;base64,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\" style=\"position:absolute;width:100%;height:100%;left:0;top:0;border:none !important;\" allowfullscreen webkitallowfullscreen mozallowfullscreen></iframe></div></div>"
      ],
      "text/plain": [
       "<folium.folium.Map at 0x20df04c9fd0>"
      ]
     },
     "execution_count": 29,
     "metadata": {},
     "output_type": "execute_result"
    }
   ],
   "source": [
    "folium_map"
   ]
  },
  {
   "cell_type": "markdown",
   "metadata": {},
   "source": [
    "#### Next I want to find a count of coffee shops by zip code and explore population data viability on determining coffee shop location"
   ]
  },
  {
   "cell_type": "code",
   "execution_count": 33,
   "metadata": {},
   "outputs": [
    {
     "data": {
      "text/plain": [
       "(390, 12)"
      ]
     },
     "execution_count": 33,
     "metadata": {},
     "output_type": "execute_result"
    }
   ],
   "source": [
    "# get all businesses w/ category containing \"Coffee\"\n",
    "coffeeshops_byzip_df = businesses_df[businesses_df.categories.astype(str).str.contains('Coffee')]\n",
    "coffeeshops_byzip_df.shape"
   ]
  },
  {
   "cell_type": "code",
   "execution_count": 33,
   "metadata": {
    "collapsed": true
   },
   "outputs": [],
   "source": [
    "# new df containing each zip code and the count of coffee shops\n",
    "coffeeshop_percap_df = coffeeshops_byzip_df.groupby('zip_code').zip_code.agg(['count']).sort_values('count', ascending=False)\n",
    "\n",
    "# merge previous dataframe with population growth dataframe\n",
    "coffeeshop_percap_df = coffeeshop_percap_df.merge(popul2016_df, left_index=True, right_on=\"zip_code\")\n",
    "coffeeshop_percap_df = coffeeshop_percap_df.set_index('zip_code')\n",
    "\n",
    "# add calculated field for rate of population change\n",
    "coffeeshop_percap_df['pop_change_rate'] = (coffeeshop_percap_df['estimate_total_2016'] - \\\n",
    "                                            coffeeshop_percap_df['estimate_total_2015']) / \\\n",
    "                                            coffeeshop_percap_df['estimate_total_2015']\n",
    "\n",
    "# display some rows from newly constructed df, sorted by population rate of change\n",
    "coffeeshop_percap_df[coffeeshop_percap_df['count'] > 5].sort_values('pop_change_rate')"
   ]
  },
  {
   "cell_type": "markdown",
   "metadata": {
    "collapsed": true
   },
   "source": [
    "<a id=\"machine_learning\"></a>"
   ]
  },
  {
   "cell_type": "markdown",
   "metadata": {},
   "source": [
    "## Part 4: Machine Learning"
   ]
  },
  {
   "cell_type": "markdown",
   "metadata": {},
   "source": [
    "<a id=\"hyp_1\"></a>"
   ]
  },
  {
   "cell_type": "markdown",
   "metadata": {},
   "source": [
    "### Hypothesis 1: Find where people who go to coffee shops go on the same day, and then find a location with a lot of this type of establishment."
   ]
  },
  {
   "cell_type": "markdown",
   "metadata": {},
   "source": [
    "#### First get baseline accuracy for classification models"
   ]
  },
  {
   "cell_type": "code",
   "execution_count": 30,
   "metadata": {},
   "outputs": [],
   "source": [
    "foursquare_days_df['baseline'] = 0"
   ]
  },
  {
   "cell_type": "code",
   "execution_count": 32,
   "metadata": {},
   "outputs": [
    {
     "name": "stdout",
     "output_type": "stream",
     "text": [
      "Baseline Accuracy:  0.889315822675919\n"
     ]
    }
   ],
   "source": [
    "from sklearn.metrics import accuracy_score\n",
    "\n",
    "print('Baseline Accuracy: ', str(accuracy_score(foursquare_days_df['Coffee Shop'], foursquare_days_df['baseline'])))"
   ]
  },
  {
   "cell_type": "markdown",
   "metadata": {},
   "source": [
    "#### Model 1: Decision Tree"
   ]
  },
  {
   "cell_type": "code",
   "execution_count": 33,
   "metadata": {},
   "outputs": [],
   "source": [
    "feature_cols = ['Office', 'Subway', 'American Restaurant', 'Bar',\n",
    "       'Government Building', 'Hotel', 'Train Station', 'Gym',\n",
    "       'Grocery Store', 'Home (private)',\n",
    "       'Residential Building (Apartment / Condo)', 'Park',\n",
    "       'Mexican Restaurant', 'Sandwich Place', 'Lounge', 'Building',\n",
    "       'Pizza Place', 'Pub', 'Neighborhood', 'Baseball Stadium', 'Road',\n",
    "       'Italian Restaurant']\n",
    "\n",
    "X = foursquare_days_df[feature_cols]\n",
    "y = foursquare_days_df[\"Coffee Shop\"]"
   ]
  },
  {
   "cell_type": "code",
   "execution_count": 34,
   "metadata": {},
   "outputs": [
    {
     "data": {
      "text/html": [
       "<div>\n",
       "<style scoped>\n",
       "    .dataframe tbody tr th:only-of-type {\n",
       "        vertical-align: middle;\n",
       "    }\n",
       "\n",
       "    .dataframe tbody tr th {\n",
       "        vertical-align: top;\n",
       "    }\n",
       "\n",
       "    .dataframe thead th {\n",
       "        text-align: right;\n",
       "    }\n",
       "</style>\n",
       "<table border=\"1\" class=\"dataframe\">\n",
       "  <thead>\n",
       "    <tr style=\"text-align: right;\">\n",
       "      <th></th>\n",
       "      <th>feature</th>\n",
       "      <th>importance</th>\n",
       "    </tr>\n",
       "  </thead>\n",
       "  <tbody>\n",
       "    <tr>\n",
       "      <th>11</th>\n",
       "      <td>Park</td>\n",
       "      <td>0.290257</td>\n",
       "    </tr>\n",
       "    <tr>\n",
       "      <th>1</th>\n",
       "      <td>Subway</td>\n",
       "      <td>0.238393</td>\n",
       "    </tr>\n",
       "    <tr>\n",
       "      <th>13</th>\n",
       "      <td>Sandwich Place</td>\n",
       "      <td>0.233781</td>\n",
       "    </tr>\n",
       "    <tr>\n",
       "      <th>7</th>\n",
       "      <td>Gym</td>\n",
       "      <td>0.190744</td>\n",
       "    </tr>\n",
       "    <tr>\n",
       "      <th>6</th>\n",
       "      <td>Train Station</td>\n",
       "      <td>0.046825</td>\n",
       "    </tr>\n",
       "    <tr>\n",
       "      <th>20</th>\n",
       "      <td>Road</td>\n",
       "      <td>0.000000</td>\n",
       "    </tr>\n",
       "    <tr>\n",
       "      <th>19</th>\n",
       "      <td>Baseball Stadium</td>\n",
       "      <td>0.000000</td>\n",
       "    </tr>\n",
       "    <tr>\n",
       "      <th>18</th>\n",
       "      <td>Neighborhood</td>\n",
       "      <td>0.000000</td>\n",
       "    </tr>\n",
       "    <tr>\n",
       "      <th>17</th>\n",
       "      <td>Pub</td>\n",
       "      <td>0.000000</td>\n",
       "    </tr>\n",
       "    <tr>\n",
       "      <th>16</th>\n",
       "      <td>Pizza Place</td>\n",
       "      <td>0.000000</td>\n",
       "    </tr>\n",
       "  </tbody>\n",
       "</table>\n",
       "</div>"
      ],
      "text/plain": [
       "             feature  importance\n",
       "11              Park    0.290257\n",
       "1             Subway    0.238393\n",
       "13    Sandwich Place    0.233781\n",
       "7                Gym    0.190744\n",
       "6      Train Station    0.046825\n",
       "20              Road    0.000000\n",
       "19  Baseball Stadium    0.000000\n",
       "18      Neighborhood    0.000000\n",
       "17               Pub    0.000000\n",
       "16       Pizza Place    0.000000"
      ]
     },
     "execution_count": 34,
     "metadata": {},
     "output_type": "execute_result"
    }
   ],
   "source": [
    "from sklearn.tree import DecisionTreeClassifier\n",
    "\n",
    "treeclf = DecisionTreeClassifier(max_depth=3, random_state=1)\n",
    "treeclf.fit(X, y)\n",
    "\n",
    "pd.DataFrame({'feature':feature_cols, 'importance':treeclf.feature_importances_}).sort_values('importance', ascending=False).head(10)"
   ]
  },
  {
   "cell_type": "code",
   "execution_count": 35,
   "metadata": {},
   "outputs": [
    {
     "data": {
      "text/plain": [
       "0    1030\n",
       "1     207\n",
       "Name: Coffee Shop, dtype: int64"
      ]
     },
     "execution_count": 35,
     "metadata": {},
     "output_type": "execute_result"
    }
   ],
   "source": [
    "foursquare_days_df[foursquare_days_df['Subway'] == 1]['Coffee Shop'].value_counts()"
   ]
  },
  {
   "cell_type": "code",
   "execution_count": 36,
   "metadata": {},
   "outputs": [
    {
     "data": {
      "text/plain": [
       "True"
      ]
     },
     "execution_count": 36,
     "metadata": {},
     "output_type": "execute_result"
    }
   ],
   "source": [
    "from sklearn.tree import export_graphviz\n",
    "import pydotplus\n",
    "from io import StringIO\n",
    "\n",
    "import os     \n",
    "os.environ[\"PATH\"] += os.pathsep + 'C:\\\\Users\\\\Steven\\\\Anaconda3\\\\Library\\\\bin\\\\graphviz'\n",
    "\n",
    "dotfile = StringIO()\n",
    "export_graphviz(treeclf, out_file=dotfile, feature_names=feature_cols)\n",
    "graph = pydotplus.graph_from_dot_data(dotfile.getvalue())\n",
    "graph.write_png('./assets/categories_tree.png')"
   ]
  },
  {
   "cell_type": "markdown",
   "metadata": {},
   "source": [
    "![Tree for category data](assets/categories_tree.png)|"
   ]
  },
  {
   "cell_type": "code",
   "execution_count": 84,
   "metadata": {},
   "outputs": [],
   "source": [
    "feature_cols = ['Office', 'Subway', 'American Restaurant', 'Bar',\n",
    "       'Government Building', 'Hotel', 'Train Station', 'Gym',\n",
    "       'Grocery Store', 'Home (private)',\n",
    "       'Residential Building (Apartment / Condo)', 'Park',\n",
    "       'Mexican Restaurant', 'Sandwich Place', 'Lounge', 'Building',\n",
    "       'Pizza Place', 'Pub', 'Neighborhood', 'Baseball Stadium', 'Road',\n",
    "       'Italian Restaurant']\n",
    "\n",
    "X = foursquare_days_df[feature_cols]\n",
    "y = foursquare_days_df[\"Coffee Shop\"]"
   ]
  },
  {
   "cell_type": "code",
   "execution_count": 103,
   "metadata": {},
   "outputs": [
    {
     "data": {
      "text/plain": [
       "DecisionTreeClassifier(class_weight=None, criterion='gini', max_depth=3,\n",
       "            max_features=None, max_leaf_nodes=None,\n",
       "            min_impurity_decrease=0.0, min_impurity_split=None,\n",
       "            min_samples_leaf=1, min_samples_split=2,\n",
       "            min_weight_fraction_leaf=0.0, presort=False, random_state=None,\n",
       "            splitter='best')"
      ]
     },
     "execution_count": 103,
     "metadata": {},
     "output_type": "execute_result"
    }
   ],
   "source": [
    "from sklearn.model_selection import train_test_split\n",
    "\n",
    "X_train, X_test, y_train, y_test = train_test_split(X, y)\n",
    "treeclf = DecisionTreeClassifier(max_depth=3)\n",
    "treeclf.fit(X_train, y_train)"
   ]
  },
  {
   "cell_type": "code",
   "execution_count": 104,
   "metadata": {},
   "outputs": [
    {
     "name": "stdout",
     "output_type": "stream",
     "text": [
      "Accuracy:  0.8908256880733945\n"
     ]
    }
   ],
   "source": [
    "y_predict = treeclf.predict(X_test)\n",
    "print('Accuracy: ', str(accuracy_score(y_test, y_predict)))"
   ]
  },
  {
   "cell_type": "markdown",
   "metadata": {},
   "source": [
    "#### Model 2: Random Forest Classifier"
   ]
  },
  {
   "cell_type": "code",
   "execution_count": 40,
   "metadata": {},
   "outputs": [],
   "source": [
    "feature_cols = ['Office', 'Subway', 'American Restaurant', 'Bar',\n",
    "       'Government Building', 'Hotel', 'Train Station', 'Gym',\n",
    "       'Grocery Store', 'Home (private)',\n",
    "       'Residential Building (Apartment / Condo)', 'Park',\n",
    "       'Mexican Restaurant', 'Sandwich Place', 'Lounge', 'Building',\n",
    "       'Pizza Place', 'Pub', 'Neighborhood', 'Baseball Stadium', 'Road',\n",
    "       'Italian Restaurant']\n",
    "\n",
    "X = foursquare_days_df[feature_cols]\n",
    "y = foursquare_days_df[\"Coffee Shop\"]"
   ]
  },
  {
   "cell_type": "code",
   "execution_count": 41,
   "metadata": {},
   "outputs": [
    {
     "data": {
      "text/html": [
       "<div>\n",
       "<style scoped>\n",
       "    .dataframe tbody tr th:only-of-type {\n",
       "        vertical-align: middle;\n",
       "    }\n",
       "\n",
       "    .dataframe tbody tr th {\n",
       "        vertical-align: top;\n",
       "    }\n",
       "\n",
       "    .dataframe thead th {\n",
       "        text-align: right;\n",
       "    }\n",
       "</style>\n",
       "<table border=\"1\" class=\"dataframe\">\n",
       "  <thead>\n",
       "    <tr style=\"text-align: right;\">\n",
       "      <th></th>\n",
       "      <th>feature</th>\n",
       "      <th>importance</th>\n",
       "    </tr>\n",
       "  </thead>\n",
       "  <tbody>\n",
       "    <tr>\n",
       "      <th>0</th>\n",
       "      <td>Office</td>\n",
       "      <td>0.072769</td>\n",
       "    </tr>\n",
       "    <tr>\n",
       "      <th>1</th>\n",
       "      <td>Subway</td>\n",
       "      <td>0.070903</td>\n",
       "    </tr>\n",
       "    <tr>\n",
       "      <th>2</th>\n",
       "      <td>American Restaurant</td>\n",
       "      <td>0.062067</td>\n",
       "    </tr>\n",
       "    <tr>\n",
       "      <th>9</th>\n",
       "      <td>Home (private)</td>\n",
       "      <td>0.056937</td>\n",
       "    </tr>\n",
       "    <tr>\n",
       "      <th>11</th>\n",
       "      <td>Park</td>\n",
       "      <td>0.052884</td>\n",
       "    </tr>\n",
       "    <tr>\n",
       "      <th>6</th>\n",
       "      <td>Train Station</td>\n",
       "      <td>0.052629</td>\n",
       "    </tr>\n",
       "    <tr>\n",
       "      <th>4</th>\n",
       "      <td>Government Building</td>\n",
       "      <td>0.052494</td>\n",
       "    </tr>\n",
       "    <tr>\n",
       "      <th>10</th>\n",
       "      <td>Residential Building (Apartment / Condo)</td>\n",
       "      <td>0.048241</td>\n",
       "    </tr>\n",
       "    <tr>\n",
       "      <th>5</th>\n",
       "      <td>Hotel</td>\n",
       "      <td>0.048146</td>\n",
       "    </tr>\n",
       "    <tr>\n",
       "      <th>12</th>\n",
       "      <td>Mexican Restaurant</td>\n",
       "      <td>0.047810</td>\n",
       "    </tr>\n",
       "    <tr>\n",
       "      <th>8</th>\n",
       "      <td>Grocery Store</td>\n",
       "      <td>0.047514</td>\n",
       "    </tr>\n",
       "    <tr>\n",
       "      <th>7</th>\n",
       "      <td>Gym</td>\n",
       "      <td>0.046096</td>\n",
       "    </tr>\n",
       "    <tr>\n",
       "      <th>13</th>\n",
       "      <td>Sandwich Place</td>\n",
       "      <td>0.045910</td>\n",
       "    </tr>\n",
       "    <tr>\n",
       "      <th>18</th>\n",
       "      <td>Neighborhood</td>\n",
       "      <td>0.043402</td>\n",
       "    </tr>\n",
       "    <tr>\n",
       "      <th>3</th>\n",
       "      <td>Bar</td>\n",
       "      <td>0.042630</td>\n",
       "    </tr>\n",
       "    <tr>\n",
       "      <th>15</th>\n",
       "      <td>Building</td>\n",
       "      <td>0.039350</td>\n",
       "    </tr>\n",
       "    <tr>\n",
       "      <th>16</th>\n",
       "      <td>Pizza Place</td>\n",
       "      <td>0.035861</td>\n",
       "    </tr>\n",
       "    <tr>\n",
       "      <th>17</th>\n",
       "      <td>Pub</td>\n",
       "      <td>0.035159</td>\n",
       "    </tr>\n",
       "    <tr>\n",
       "      <th>14</th>\n",
       "      <td>Lounge</td>\n",
       "      <td>0.031885</td>\n",
       "    </tr>\n",
       "    <tr>\n",
       "      <th>21</th>\n",
       "      <td>Italian Restaurant</td>\n",
       "      <td>0.030843</td>\n",
       "    </tr>\n",
       "    <tr>\n",
       "      <th>19</th>\n",
       "      <td>Baseball Stadium</td>\n",
       "      <td>0.020739</td>\n",
       "    </tr>\n",
       "    <tr>\n",
       "      <th>20</th>\n",
       "      <td>Road</td>\n",
       "      <td>0.015732</td>\n",
       "    </tr>\n",
       "  </tbody>\n",
       "</table>\n",
       "</div>"
      ],
      "text/plain": [
       "                                     feature  importance\n",
       "0                                     Office    0.072769\n",
       "1                                     Subway    0.070903\n",
       "2                        American Restaurant    0.062067\n",
       "9                             Home (private)    0.056937\n",
       "11                                      Park    0.052884\n",
       "6                              Train Station    0.052629\n",
       "4                        Government Building    0.052494\n",
       "10  Residential Building (Apartment / Condo)    0.048241\n",
       "5                                      Hotel    0.048146\n",
       "12                        Mexican Restaurant    0.047810\n",
       "8                              Grocery Store    0.047514\n",
       "7                                        Gym    0.046096\n",
       "13                            Sandwich Place    0.045910\n",
       "18                              Neighborhood    0.043402\n",
       "3                                        Bar    0.042630\n",
       "15                                  Building    0.039350\n",
       "16                               Pizza Place    0.035861\n",
       "17                                       Pub    0.035159\n",
       "14                                    Lounge    0.031885\n",
       "21                        Italian Restaurant    0.030843\n",
       "19                          Baseball Stadium    0.020739\n",
       "20                                      Road    0.015732"
      ]
     },
     "execution_count": 41,
     "metadata": {},
     "output_type": "execute_result"
    }
   ],
   "source": [
    "from sklearn.ensemble import RandomForestClassifier\n",
    "from sklearn.datasets import make_classification\n",
    "\n",
    "rfclas = RandomForestClassifier(n_estimators=150, max_features=5, oob_score=True)\n",
    "rfclas.fit(X, y)\n",
    "\n",
    "pd.DataFrame({'feature':feature_cols, 'importance':rfclas.feature_importances_}).sort_values('importance', ascending=False)"
   ]
  },
  {
   "cell_type": "code",
   "execution_count": 42,
   "metadata": {},
   "outputs": [
    {
     "name": "stdout",
     "output_type": "stream",
     "text": [
      "accuracy: 0.8894495412844037\n"
     ]
    },
    {
     "data": {
      "text/html": [
       "<div>\n",
       "<style scoped>\n",
       "    .dataframe tbody tr th:only-of-type {\n",
       "        vertical-align: middle;\n",
       "    }\n",
       "\n",
       "    .dataframe tbody tr th {\n",
       "        vertical-align: top;\n",
       "    }\n",
       "\n",
       "    .dataframe thead th {\n",
       "        text-align: right;\n",
       "    }\n",
       "</style>\n",
       "<table border=\"1\" class=\"dataframe\">\n",
       "  <thead>\n",
       "    <tr style=\"text-align: right;\">\n",
       "      <th></th>\n",
       "      <th>feature</th>\n",
       "      <th>importance</th>\n",
       "    </tr>\n",
       "  </thead>\n",
       "  <tbody>\n",
       "    <tr>\n",
       "      <th>1</th>\n",
       "      <td>Subway</td>\n",
       "      <td>0.071960</td>\n",
       "    </tr>\n",
       "    <tr>\n",
       "      <th>0</th>\n",
       "      <td>Office</td>\n",
       "      <td>0.069233</td>\n",
       "    </tr>\n",
       "    <tr>\n",
       "      <th>2</th>\n",
       "      <td>American Restaurant</td>\n",
       "      <td>0.058991</td>\n",
       "    </tr>\n",
       "    <tr>\n",
       "      <th>11</th>\n",
       "      <td>Park</td>\n",
       "      <td>0.058874</td>\n",
       "    </tr>\n",
       "    <tr>\n",
       "      <th>5</th>\n",
       "      <td>Hotel</td>\n",
       "      <td>0.054770</td>\n",
       "    </tr>\n",
       "  </tbody>\n",
       "</table>\n",
       "</div>"
      ],
      "text/plain": [
       "                feature  importance\n",
       "1                Subway    0.071960\n",
       "0                Office    0.069233\n",
       "2   American Restaurant    0.058991\n",
       "11                 Park    0.058874\n",
       "5                 Hotel    0.054770"
      ]
     },
     "execution_count": 42,
     "metadata": {},
     "output_type": "execute_result"
    }
   ],
   "source": [
    "rfclas = RandomForestClassifier(n_estimators=150, max_features=5, oob_score=True)\n",
    "\n",
    "X_train, X_test, y_train, y_test = train_test_split(X, y)\n",
    "rfclas.fit(X_train, y_train)\n",
    "y_predict = rfclas.predict(X_test)\n",
    "print('accuracy: ' + str(accuracy_score(y_test, y_predict)))\n",
    "\n",
    "pd.DataFrame({'feature':feature_cols, 'importance':rfclas.feature_importances_}).sort_values('importance', ascending=False).head()"
   ]
  },
  {
   "cell_type": "markdown",
   "metadata": {},
   "source": [
    "#### Hypothesis 1 conclusion\n",
    "- The first model I used was a decision tree, and then I tried implementing a random forest. What I found was that the decision tree was much easier to interpret due to its ability to pick out the most important features, rather than using all of the features. The accuracy was also almost exactly the same. From this I found that the most common places for a person to visit on the same day as a coffee shop are the park, Subway, a Sandwich Place (other than subway I presume), the Gym, and a Train Station."
   ]
  },
  {
   "cell_type": "markdown",
   "metadata": {},
   "source": [
    "<a id=\"hyp_2\"></a>"
   ]
  },
  {
   "cell_type": "markdown",
   "metadata": {},
   "source": [
    "### Hypothesis 2: compare various factors of each zip code to the check in count to find a linear relationship. If we can find a linear relationship, we can use this to determine the best zip code for maximizing coffee shop check-ins."
   ]
  },
  {
   "cell_type": "code",
   "execution_count": 43,
   "metadata": {},
   "outputs": [
    {
     "data": {
      "text/html": [
       "<div>\n",
       "<style scoped>\n",
       "    .dataframe tbody tr th:only-of-type {\n",
       "        vertical-align: middle;\n",
       "    }\n",
       "\n",
       "    .dataframe tbody tr th {\n",
       "        vertical-align: top;\n",
       "    }\n",
       "\n",
       "    .dataframe thead th {\n",
       "        text-align: right;\n",
       "    }\n",
       "</style>\n",
       "<table border=\"1\" class=\"dataframe\">\n",
       "  <thead>\n",
       "    <tr style=\"text-align: right;\">\n",
       "      <th></th>\n",
       "      <th>zip_code</th>\n",
       "      <th>coffeeshop_counts</th>\n",
       "      <th>estimate_total</th>\n",
       "      <th>median_age</th>\n",
       "      <th>mean_income</th>\n",
       "      <th>percent_public_transport</th>\n",
       "    </tr>\n",
       "  </thead>\n",
       "  <tbody>\n",
       "    <tr>\n",
       "      <th>0</th>\n",
       "      <td>20001</td>\n",
       "      <td>942</td>\n",
       "      <td>44998</td>\n",
       "      <td>30.6</td>\n",
       "      <td>106670.0</td>\n",
       "      <td>0.353349</td>\n",
       "    </tr>\n",
       "    <tr>\n",
       "      <th>1</th>\n",
       "      <td>20002</td>\n",
       "      <td>172</td>\n",
       "      <td>59659</td>\n",
       "      <td>34.0</td>\n",
       "      <td>98792.0</td>\n",
       "      <td>0.361972</td>\n",
       "    </tr>\n",
       "    <tr>\n",
       "      <th>2</th>\n",
       "      <td>20003</td>\n",
       "      <td>225</td>\n",
       "      <td>29071</td>\n",
       "      <td>34.8</td>\n",
       "      <td>140336.0</td>\n",
       "      <td>0.401540</td>\n",
       "    </tr>\n",
       "    <tr>\n",
       "      <th>3</th>\n",
       "      <td>20004</td>\n",
       "      <td>148</td>\n",
       "      <td>1708</td>\n",
       "      <td>41.0</td>\n",
       "      <td>173373.0</td>\n",
       "      <td>0.312452</td>\n",
       "    </tr>\n",
       "    <tr>\n",
       "      <th>4</th>\n",
       "      <td>20007</td>\n",
       "      <td>175</td>\n",
       "      <td>26415</td>\n",
       "      <td>33.2</td>\n",
       "      <td>180698.0</td>\n",
       "      <td>0.233151</td>\n",
       "    </tr>\n",
       "    <tr>\n",
       "      <th>5</th>\n",
       "      <td>20008</td>\n",
       "      <td>14</td>\n",
       "      <td>28261</td>\n",
       "      <td>37.1</td>\n",
       "      <td>164615.0</td>\n",
       "      <td>0.477948</td>\n",
       "    </tr>\n",
       "    <tr>\n",
       "      <th>6</th>\n",
       "      <td>20009</td>\n",
       "      <td>97</td>\n",
       "      <td>51508</td>\n",
       "      <td>32.3</td>\n",
       "      <td>121153.0</td>\n",
       "      <td>0.433303</td>\n",
       "    </tr>\n",
       "    <tr>\n",
       "      <th>7</th>\n",
       "      <td>20010</td>\n",
       "      <td>101</td>\n",
       "      <td>32421</td>\n",
       "      <td>32.0</td>\n",
       "      <td>92937.0</td>\n",
       "      <td>0.504061</td>\n",
       "    </tr>\n",
       "    <tr>\n",
       "      <th>8</th>\n",
       "      <td>20017</td>\n",
       "      <td>41</td>\n",
       "      <td>20371</td>\n",
       "      <td>37.5</td>\n",
       "      <td>81027.0</td>\n",
       "      <td>0.388251</td>\n",
       "    </tr>\n",
       "    <tr>\n",
       "      <th>9</th>\n",
       "      <td>20024</td>\n",
       "      <td>1</td>\n",
       "      <td>12183</td>\n",
       "      <td>38.2</td>\n",
       "      <td>90712.0</td>\n",
       "      <td>0.441809</td>\n",
       "    </tr>\n",
       "    <tr>\n",
       "      <th>10</th>\n",
       "      <td>20036</td>\n",
       "      <td>364</td>\n",
       "      <td>5655</td>\n",
       "      <td>32.7</td>\n",
       "      <td>108420.0</td>\n",
       "      <td>0.363870</td>\n",
       "    </tr>\n",
       "    <tr>\n",
       "      <th>11</th>\n",
       "      <td>20037</td>\n",
       "      <td>98</td>\n",
       "      <td>15285</td>\n",
       "      <td>26.7</td>\n",
       "      <td>137690.0</td>\n",
       "      <td>0.284997</td>\n",
       "    </tr>\n",
       "  </tbody>\n",
       "</table>\n",
       "</div>"
      ],
      "text/plain": [
       "   zip_code  coffeeshop_counts  estimate_total  median_age  mean_income  \\\n",
       "0     20001                942           44998        30.6     106670.0   \n",
       "1     20002                172           59659        34.0      98792.0   \n",
       "2     20003                225           29071        34.8     140336.0   \n",
       "3     20004                148            1708        41.0     173373.0   \n",
       "4     20007                175           26415        33.2     180698.0   \n",
       "5     20008                 14           28261        37.1     164615.0   \n",
       "6     20009                 97           51508        32.3     121153.0   \n",
       "7     20010                101           32421        32.0      92937.0   \n",
       "8     20017                 41           20371        37.5      81027.0   \n",
       "9     20024                  1           12183        38.2      90712.0   \n",
       "10    20036                364            5655        32.7     108420.0   \n",
       "11    20037                 98           15285        26.7     137690.0   \n",
       "\n",
       "    percent_public_transport  \n",
       "0                   0.353349  \n",
       "1                   0.361972  \n",
       "2                   0.401540  \n",
       "3                   0.312452  \n",
       "4                   0.233151  \n",
       "5                   0.477948  \n",
       "6                   0.433303  \n",
       "7                   0.504061  \n",
       "8                   0.388251  \n",
       "9                   0.441809  \n",
       "10                  0.363870  \n",
       "11                  0.284997  "
      ]
     },
     "execution_count": 43,
     "metadata": {},
     "output_type": "execute_result"
    }
   ],
   "source": [
    "checkins_and_zipdata_df"
   ]
  },
  {
   "cell_type": "code",
   "execution_count": 45,
   "metadata": {},
   "outputs": [
    {
     "name": "stdout",
     "output_type": "stream",
     "text": [
      "Baseline RMSE:  243.66125164981725\n"
     ]
    }
   ],
   "source": [
    "# get mean squared error of baseline\n",
    "import numpy as np\n",
    "from sklearn import metrics\n",
    "\n",
    "actual = checkins_and_zipdata_df.coffeeshop_counts.tolist()\n",
    "checkins_and_zipdata_df['predicted'] = checkins_and_zipdata_df.coffeeshop_counts.mean()\n",
    "predicted = checkins_and_zipdata_df.predicted.tolist()\n",
    "print('Baseline RMSE: ', np.sqrt(metrics.mean_squared_error(actual, predicted)))"
   ]
  },
  {
   "cell_type": "code",
   "execution_count": 46,
   "metadata": {},
   "outputs": [
    {
     "data": {
      "text/plain": [
       "coffeeshop_counts           1.000000\n",
       "estimate_total              0.244147\n",
       "median_age                 -0.362762\n",
       "mean_income                -0.108608\n",
       "percent_public_transport   -0.244719\n",
       "predicted                        NaN\n",
       "Name: coffeeshop_counts, dtype: float64"
      ]
     },
     "execution_count": 46,
     "metadata": {},
     "output_type": "execute_result"
    }
   ],
   "source": [
    "checkins_and_zipdata_df.corr().coffeeshop_counts"
   ]
  },
  {
   "cell_type": "code",
   "execution_count": 47,
   "metadata": {},
   "outputs": [
    {
     "data": {
      "text/plain": [
       "LinearRegression(copy_X=True, fit_intercept=True, n_jobs=1, normalize=False)"
      ]
     },
     "execution_count": 47,
     "metadata": {},
     "output_type": "execute_result"
    }
   ],
   "source": [
    "from sklearn.linear_model import LinearRegression\n",
    "feature_cols = ['median_age', 'percent_public_transport']\n",
    "\n",
    "X = checkins_and_zipdata_df[feature_cols]\n",
    "y = checkins_and_zipdata_df.coffeeshop_counts\n",
    "\n",
    "lr = LinearRegression()\n",
    "lr.fit(X, y)"
   ]
  },
  {
   "cell_type": "code",
   "execution_count": 48,
   "metadata": {
    "scrolled": true
   },
   "outputs": [
    {
     "data": {
      "text/plain": [
       "[('median_age', -21.50395102133955),\n",
       " ('percent_public_transport', -562.5952127218624)]"
      ]
     },
     "execution_count": 48,
     "metadata": {},
     "output_type": "execute_result"
    }
   ],
   "source": [
    "list(zip(feature_cols, lr.coef_))"
   ]
  },
  {
   "cell_type": "code",
   "execution_count": 49,
   "metadata": {},
   "outputs": [
    {
     "name": "stdout",
     "output_type": "stream",
     "text": [
      "[211.91765413]\n",
      "[172]\n"
     ]
    }
   ],
   "source": [
    "# compare predicted value of one record to the actual value.\n",
    "print(lr.predict([[34, .361972]]))\n",
    "print(checkins_and_zipdata_df[checkins_and_zipdata_df.zip_code == '20002'].coffeeshop_counts.values)"
   ]
  },
  {
   "cell_type": "code",
   "execution_count": 50,
   "metadata": {},
   "outputs": [
    {
     "name": "stdout",
     "output_type": "stream",
     "text": [
      "RMSE:  117.93165821706032\n"
     ]
    }
   ],
   "source": [
    "from sklearn.model_selection import train_test_split\n",
    "\n",
    "feature_cols = ['median_age', 'percent_public_transport']\n",
    "\n",
    "X = checkins_and_zipdata_df[feature_cols]\n",
    "y = checkins_and_zipdata_df.coffeeshop_counts\n",
    "\n",
    "X_train, X_test, y_train, y_test = train_test_split(X, y, random_state=1)\n",
    "\n",
    "lr = LinearRegression()\n",
    "lr.fit(X_train, y_train)\n",
    "\n",
    "y_pred = lr.predict(X_test)\n",
    "\n",
    "print('RMSE: ', str(np.sqrt(metrics.mean_squared_error(y_test, y_pred))))"
   ]
  },
  {
   "cell_type": "markdown",
   "metadata": {},
   "source": [
    "#### Hypothesis 2 conclusion\n",
    "- Based on the coefficients and correlations found from the above linear regression model, of the listed features age and public_transport percentage are the most significant factors in coffee shop checkins. The other features do not increase model accuracy. For every additional year on the median age, coffee shop check-ins goes down by 20. Therefor, I should look for the zip code with the lowest median age.\n",
    "- The model is more accurate than the baseline, but it is still very inaccurate due to the very small size of the dataset."
   ]
  },
  {
   "cell_type": "markdown",
   "metadata": {},
   "source": [
    "## Machine Learning Conclusion\n",
    "- Based on the results of the models executed in this section, I am looking for the zip code with a low median age, a high number of public-transportation users, and a presence of parks."
   ]
  },
  {
   "cell_type": "markdown",
   "metadata": {},
   "source": [
    "<a id=\"conclusion\"></a>"
   ]
  },
  {
   "cell_type": "markdown",
   "metadata": {},
   "source": [
    "## Conclusion\n",
    "- Build new dataframe with zip codes and their relevant characteristics for analysis."
   ]
  },
  {
   "cell_type": "code",
   "execution_count": 58,
   "metadata": {},
   "outputs": [],
   "source": [
    "find_best_zip = businesses_df[businesses_df.categories.str.contains('Park')].groupby('zip_code').agg('count').name.reset_index(name=\"parks\")\n",
    "\n",
    "# since the model revealed that these two categories are weighted similarly,\n",
    "# I'll just add them.\n",
    "find_best_zip = find_best_zip.merge(businesses_df[businesses_df.categories.str.contains('Coffee')].groupby('zip_code').agg('count').name.reset_index(name=\"coffee\"))"
   ]
  },
  {
   "cell_type": "code",
   "execution_count": 59,
   "metadata": {},
   "outputs": [
    {
     "data": {
      "text/html": [
       "<div>\n",
       "<style scoped>\n",
       "    .dataframe tbody tr th:only-of-type {\n",
       "        vertical-align: middle;\n",
       "    }\n",
       "\n",
       "    .dataframe tbody tr th {\n",
       "        vertical-align: top;\n",
       "    }\n",
       "\n",
       "    .dataframe thead th {\n",
       "        text-align: right;\n",
       "    }\n",
       "</style>\n",
       "<table border=\"1\" class=\"dataframe\">\n",
       "  <thead>\n",
       "    <tr style=\"text-align: right;\">\n",
       "      <th></th>\n",
       "      <th>zip_code</th>\n",
       "      <th>parks</th>\n",
       "      <th>coffee</th>\n",
       "    </tr>\n",
       "  </thead>\n",
       "  <tbody>\n",
       "    <tr>\n",
       "      <th>0</th>\n",
       "      <td>20001</td>\n",
       "      <td>8</td>\n",
       "      <td>43</td>\n",
       "    </tr>\n",
       "    <tr>\n",
       "      <th>8</th>\n",
       "      <td>20009</td>\n",
       "      <td>4</td>\n",
       "      <td>41</td>\n",
       "    </tr>\n",
       "    <tr>\n",
       "      <th>4</th>\n",
       "      <td>20005</td>\n",
       "      <td>2</td>\n",
       "      <td>33</td>\n",
       "    </tr>\n",
       "    <tr>\n",
       "      <th>1</th>\n",
       "      <td>20002</td>\n",
       "      <td>5</td>\n",
       "      <td>33</td>\n",
       "    </tr>\n",
       "    <tr>\n",
       "      <th>5</th>\n",
       "      <td>20006</td>\n",
       "      <td>5</td>\n",
       "      <td>31</td>\n",
       "    </tr>\n",
       "    <tr>\n",
       "      <th>19</th>\n",
       "      <td>20036</td>\n",
       "      <td>1</td>\n",
       "      <td>27</td>\n",
       "    </tr>\n",
       "    <tr>\n",
       "      <th>2</th>\n",
       "      <td>20003</td>\n",
       "      <td>9</td>\n",
       "      <td>20</td>\n",
       "    </tr>\n",
       "    <tr>\n",
       "      <th>3</th>\n",
       "      <td>20004</td>\n",
       "      <td>1</td>\n",
       "      <td>20</td>\n",
       "    </tr>\n",
       "    <tr>\n",
       "      <th>6</th>\n",
       "      <td>20007</td>\n",
       "      <td>6</td>\n",
       "      <td>20</td>\n",
       "    </tr>\n",
       "    <tr>\n",
       "      <th>20</th>\n",
       "      <td>20037</td>\n",
       "      <td>4</td>\n",
       "      <td>18</td>\n",
       "    </tr>\n",
       "  </tbody>\n",
       "</table>\n",
       "</div>"
      ],
      "text/plain": [
       "   zip_code  parks  coffee\n",
       "0     20001      8      43\n",
       "8     20009      4      41\n",
       "4     20005      2      33\n",
       "1     20002      5      33\n",
       "5     20006      5      31\n",
       "19    20036      1      27\n",
       "2     20003      9      20\n",
       "3     20004      1      20\n",
       "6     20007      6      20\n",
       "20    20037      4      18"
      ]
     },
     "execution_count": 59,
     "metadata": {},
     "output_type": "execute_result"
    }
   ],
   "source": [
    "find_best_zip.sort_values('coffee', ascending=False).head(10)"
   ]
  },
  {
   "cell_type": "code",
   "execution_count": 60,
   "metadata": {},
   "outputs": [],
   "source": [
    "# add the median age\n",
    "find_best_zip = find_best_zip.merge(zipfeatures_df[['zip_code', 'median_age', 'percent_public_transport']])"
   ]
  },
  {
   "cell_type": "code",
   "execution_count": 62,
   "metadata": {},
   "outputs": [
    {
     "data": {
      "text/html": [
       "<div>\n",
       "<style scoped>\n",
       "    .dataframe tbody tr th:only-of-type {\n",
       "        vertical-align: middle;\n",
       "    }\n",
       "\n",
       "    .dataframe tbody tr th {\n",
       "        vertical-align: top;\n",
       "    }\n",
       "\n",
       "    .dataframe thead th {\n",
       "        text-align: right;\n",
       "    }\n",
       "</style>\n",
       "<table border=\"1\" class=\"dataframe\">\n",
       "  <thead>\n",
       "    <tr style=\"text-align: right;\">\n",
       "      <th></th>\n",
       "      <th>zip_code</th>\n",
       "      <th>parks</th>\n",
       "      <th>coffee</th>\n",
       "      <th>median_age</th>\n",
       "      <th>percent_public_transport</th>\n",
       "    </tr>\n",
       "  </thead>\n",
       "  <tbody>\n",
       "    <tr>\n",
       "      <th>0</th>\n",
       "      <td>20001</td>\n",
       "      <td>8</td>\n",
       "      <td>43</td>\n",
       "      <td>30.6</td>\n",
       "      <td>0.353349</td>\n",
       "    </tr>\n",
       "    <tr>\n",
       "      <th>8</th>\n",
       "      <td>20009</td>\n",
       "      <td>4</td>\n",
       "      <td>41</td>\n",
       "      <td>32.3</td>\n",
       "      <td>0.433303</td>\n",
       "    </tr>\n",
       "    <tr>\n",
       "      <th>4</th>\n",
       "      <td>20005</td>\n",
       "      <td>2</td>\n",
       "      <td>33</td>\n",
       "      <td>33.8</td>\n",
       "      <td>0.264241</td>\n",
       "    </tr>\n",
       "    <tr>\n",
       "      <th>1</th>\n",
       "      <td>20002</td>\n",
       "      <td>5</td>\n",
       "      <td>33</td>\n",
       "      <td>34.0</td>\n",
       "      <td>0.361972</td>\n",
       "    </tr>\n",
       "    <tr>\n",
       "      <th>5</th>\n",
       "      <td>20006</td>\n",
       "      <td>5</td>\n",
       "      <td>31</td>\n",
       "      <td>20.6</td>\n",
       "      <td>0.287554</td>\n",
       "    </tr>\n",
       "    <tr>\n",
       "      <th>19</th>\n",
       "      <td>20036</td>\n",
       "      <td>1</td>\n",
       "      <td>27</td>\n",
       "      <td>32.7</td>\n",
       "      <td>0.363870</td>\n",
       "    </tr>\n",
       "    <tr>\n",
       "      <th>2</th>\n",
       "      <td>20003</td>\n",
       "      <td>9</td>\n",
       "      <td>20</td>\n",
       "      <td>34.8</td>\n",
       "      <td>0.401540</td>\n",
       "    </tr>\n",
       "    <tr>\n",
       "      <th>3</th>\n",
       "      <td>20004</td>\n",
       "      <td>1</td>\n",
       "      <td>20</td>\n",
       "      <td>41.0</td>\n",
       "      <td>0.312452</td>\n",
       "    </tr>\n",
       "    <tr>\n",
       "      <th>6</th>\n",
       "      <td>20007</td>\n",
       "      <td>6</td>\n",
       "      <td>20</td>\n",
       "      <td>33.2</td>\n",
       "      <td>0.233151</td>\n",
       "    </tr>\n",
       "    <tr>\n",
       "      <th>20</th>\n",
       "      <td>20037</td>\n",
       "      <td>4</td>\n",
       "      <td>18</td>\n",
       "      <td>26.7</td>\n",
       "      <td>0.284997</td>\n",
       "    </tr>\n",
       "  </tbody>\n",
       "</table>\n",
       "</div>"
      ],
      "text/plain": [
       "   zip_code  parks  coffee  median_age  percent_public_transport\n",
       "0     20001      8      43        30.6                  0.353349\n",
       "8     20009      4      41        32.3                  0.433303\n",
       "4     20005      2      33        33.8                  0.264241\n",
       "1     20002      5      33        34.0                  0.361972\n",
       "5     20006      5      31        20.6                  0.287554\n",
       "19    20036      1      27        32.7                  0.363870\n",
       "2     20003      9      20        34.8                  0.401540\n",
       "3     20004      1      20        41.0                  0.312452\n",
       "6     20007      6      20        33.2                  0.233151\n",
       "20    20037      4      18        26.7                  0.284997"
      ]
     },
     "execution_count": 62,
     "metadata": {},
     "output_type": "execute_result"
    }
   ],
   "source": [
    "find_best_zip.sort_values('coffee', ascending=False).head(10)"
   ]
  },
  {
   "cell_type": "markdown",
   "metadata": {},
   "source": [
    "It is tempting to go with the 20001 zip code, but we can see that there are already 43 coffee shops in this area, and the median age is significantly higher than the next row down. 20006 has a significant number of parks and sandwich shops, and a relatively low number of coffee shops. It also has the lowest median age on the list. For these reasons, I have selected the 20006 zip code."
   ]
  },
  {
   "cell_type": "code",
   "execution_count": 63,
   "metadata": {},
   "outputs": [],
   "source": [
    "businesses_20006zip_df = businesses_df[(businesses_df.categories.str.contains('Coffee')) & \n",
    "              (businesses_df.zip_code.isin(['20006', '20036']))]"
   ]
  },
  {
   "cell_type": "markdown",
   "metadata": {},
   "source": [
    "At this point I ran into an issue that I did not anticipate. There were no suitable properties available in 20006, as far as I could find. That being said, just a few blocks north is 20036. The data above for 20036 is not as ideal, but the median age is still relatively low, and it's close enough to 20006. The percentage of people who use public transportation is also significantly higher. I found several properties in this location, and chose the one denoted with a red mark below."
   ]
  },
  {
   "cell_type": "code",
   "execution_count": 64,
   "metadata": {},
   "outputs": [
    {
     "data": {
      "text/html": [
       "<div style=\"width:100%;\"><div style=\"position:relative;width:100%;height:0;padding-bottom:60%;\"><iframe src=\"data:text/html;charset=utf-8;base64,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\" style=\"position:absolute;width:100%;height:100%;left:0;top:0;border:none !important;\" allowfullscreen webkitallowfullscreen mozallowfullscreen></iframe></div></div>"
      ],
      "text/plain": [
       "<folium.folium.Map at 0x20dfb1a09e8>"
      ]
     },
     "execution_count": 64,
     "metadata": {},
     "output_type": "execute_result"
    }
   ],
   "source": [
    "import folium\n",
    "\n",
    "folium_map = folium.Map(location=[38.904265, -77.041656],\n",
    "                        zoom_start=15)\n",
    "\n",
    "for index, row in businesses_20006zip_df.iterrows():\n",
    "    folium.Marker([row[\"latitude\"], row[\"longitude\"]], popup=folium.Popup(row['name'], parse_html=True)).add_to(folium_map)\n",
    "    \n",
    "folium.Marker([38.9062766, -77.0418966], icon=folium.Icon(color=\"red\"), popup=folium.Popup('Selected Location', parse_html=True)).add_to(folium_map)\n",
    "\n",
    "folium_map"
   ]
  },
  {
   "cell_type": "code",
   "execution_count": 66,
   "metadata": {},
   "outputs": [
    {
     "data": {
      "text/html": [
       "\n",
       "        <iframe\n",
       "            width=\"800\"\n",
       "            height=\"600\"\n",
       "            src=\"./assets/document.pdf\"\n",
       "            frameborder=\"0\"\n",
       "            allowfullscreen\n",
       "        ></iframe>\n",
       "        "
      ],
      "text/plain": [
       "<IPython.lib.display.IFrame at 0x20dfaa2e5c0>"
      ]
     },
     "execution_count": 66,
     "metadata": {},
     "output_type": "execute_result"
    }
   ],
   "source": [
    "# here is a flier for the property from the property management company.\n",
    "from IPython.display import IFrame\n",
    "IFrame(\"./assets/document.pdf\", width=800, height=600)"
   ]
  },
  {
   "cell_type": "code",
   "execution_count": null,
   "metadata": {
    "collapsed": true
   },
   "outputs": [],
   "source": []
  }
 ],
 "metadata": {
  "kernelspec": {
   "display_name": "Python 3",
   "language": "python",
   "name": "python3"
  },
  "language_info": {
   "codemirror_mode": {
    "name": "ipython",
    "version": 3
   },
   "file_extension": ".py",
   "mimetype": "text/x-python",
   "name": "python",
   "nbconvert_exporter": "python",
   "pygments_lexer": "ipython3",
   "version": "3.6.5"
  }
 },
 "nbformat": 4,
 "nbformat_minor": 2
}
