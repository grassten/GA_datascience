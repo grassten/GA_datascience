{
 "cells": [
  {
   "cell_type": "markdown",
   "metadata": {},
   "source": [
    "<h1 align=\"center\">Coffee Shop Location</h1> \n",
    "<h5 align=\"center\">by Steven Asten</h5> \n",
    "\n"
   ]
  },
  {
   "cell_type": "markdown",
   "metadata": {},
   "source": [
    "# Contents:\n",
    "1. <a href=\"#part_1\">Three Capstone Project Ideas</a>\n",
    "2. <a href=\"#part_2\">New Coffee Shop Location Proposal</a>\n",
    "3. <a href=\"#part_3\">Exploratory Data Analysis (EDA)</a>\n",
    "    - <a href=\"#import_and_structure\">Import and structure data sets</a>\n",
    "    - <a href=\"#explore_data\">Explore data</a>\n",
    "    - <a href=\"#explore_data_old\">Explore data (Old Hypotheses)</a>\n",
    "4. <a href=\"#machine_learning\">Machine Learning</a>\n",
    "    - <a href=\"#hyp_1\">Hypothesis #1</a>\n",
    "    - <a href=\"#hyp_2\">Hypothesis #2</a>\n",
    "5. <a href=\"#conclusion\">Conclusion</a>\n",
    "    "
   ]
  },
  {
   "cell_type": "markdown",
   "metadata": {},
   "source": [
    "<a id=\"part_1\"></a>"
   ]
  },
  {
   "cell_type": "markdown",
   "metadata": {},
   "source": [
    "# Part 1 - Three Capstone Project Ideas:"
   ]
  },
  {
   "cell_type": "code",
   "execution_count": 1,
   "metadata": {
    "scrolled": false
   },
   "outputs": [
    {
     "data": {
      "text/html": [
       "\n",
       "        <iframe\n",
       "            width=\"800\"\n",
       "            height=\"500\"\n",
       "            src=\"./00_ThreeIdeas.pdf\"\n",
       "            frameborder=\"0\"\n",
       "            allowfullscreen\n",
       "        ></iframe>\n",
       "        "
      ],
      "text/plain": [
       "<IPython.lib.display.IFrame at 0x230929abba8>"
      ]
     },
     "execution_count": 1,
     "metadata": {},
     "output_type": "execute_result"
    }
   ],
   "source": [
    "from IPython.display import IFrame\n",
    "IFrame(\"./Documentation/00_ThreeIdeas.pdf\", width=800, height=500)"
   ]
  },
  {
   "cell_type": "markdown",
   "metadata": {},
   "source": [
    "<a id=\"part_2\"></a>"
   ]
  },
  {
   "cell_type": "markdown",
   "metadata": {},
   "source": [
    "# Part 2: New coffee shop location\n",
    "#### Problem Statement: What are you trying to solve?\n",
    "Find a rental property in a location which would be suitable for a new coffee shop. Only DC metro area considered.\n",
    "\n",
    "#### Data science Hypothesis(es)/solutions considering: One or multiple angles to consider solving this problem with data science  \n",
    "- Find the location w/ the least amount of competition (other coffee shops), using Yelp dataset\n",
    "- Find an area with features that may increase foot traffic, such as other nearby shops, public transportation stops, etc.\n",
    "\n",
    "#### Data sets to be used: Share the links and files, .csvs, .js, .xlsx, .txt, website URLs\n",
    "- [Yelp Dataset](https://www.yelp.com/dataset)\n",
    "- [2016 ACS 1-year estimates; Age and Sex](Part2_Proposal/DatasetsForProject/sex_and_age/)\n",
    "    - This dataset might change or be expanded to include more data; currently the intention is to use it for population data. The data came from [factfinder.census.gov](https://factfinder.census.gov/faces/nav/jsf/pages/download_center.xhtml).\n",
    "\n",
    "#### Data dictionaries to describe the data types youâ€™re using: write these out in markdown as tables \n",
    "- Yelp Dataset - business.json\n",
    "\n",
    "|Data ID      |Data Type|Data Description                                                           |\n",
    "|-------------|:-------:|---------------------------------------------------------------------------|\n",
    "|business_id  |String   |22 character unique string business id                                     |\n",
    "|name         |String   |the business's name                                                        |\n",
    "|neighborhood |String   |the neighborhood's name                                                    |\n",
    "|address      |String   |the full address of the business                                           |\n",
    "|city         |String   |the city                                                                   |\n",
    "|state        |String   |2 character state code, if applicable                                      |\n",
    "|postal code  |String   |the postal code                                                            |\n",
    "|latitude     |Float    |latitude                                                                   |\n",
    "|longitude    |Float    |longitude                                                                  |\n",
    "|stars        |Float    |star rating, rounded to half-stars                                         |\n",
    "|review_count |Integer  |number of reviews                                                          |\n",
    "|is_open      |Integer  |0 or 1 for closed or open, respectively                                    |\n",
    "|attributes   |Object(?)|business attributes to values. note: some attribute values might be objects|\n",
    "|categories   |Array(?) |an array of strings of business categories                                 |\n",
    "|hours        |Object(?)|key day to value hours, hours are using a 24hr clock                       |\n",
    "\n",
    "\n",
    "- 2016 ACS Age and Sex table (might not use this)\n",
    "\n",
    "|Data ID|Data Type|Data Description|\n",
    "|-----------------|:-----:|-------------------------------------|\n",
    "|GEO.id           |String |ID                                   |\n",
    "|GEO.id2          |String |ID                                   |\n",
    "|GEO.display-label|String |Display label in format County, State|\n",
    "|HC01_EST_VC01    |Integer|Estimated total population           |\n",
    "\n",
    "#### Potential business cases relative to project: how would this help businesses out to make money or save money or improve accuracy or make better products?\n",
    "This project will allow expanding coffee-shop franchises, as well as entrepreneurs breaking into the coffee shop industry, to find a suitable location for a new coffee shop. By using this analysis, coffee shop owners can avoid opening coffee shops in non-suitable areas, resulting in large savings in capital. Opening a coffee shop in a thriving and expanding area with less competition should also result in higher profits.\n",
    "\n",
    "#### Potential stakeholders who would find this interesting: who would be your ideal customer or client for this?\n",
    "Seeing as large franchises like Starbucks already have software which executes this analysis, the ideal customer for this project would be small business owners and prospective entrepreneurs.\n",
    "\n",
    "#### Potential places to share your results post project (client, world, website, blog)\n",
    "At this time, I believe the most beneficial method of sharing these results would be through a blog post that would allow the user to reproduce the analysis for different areas (since this will only cover the DC metro area)."
   ]
  },
  {
   "cell_type": "markdown",
   "metadata": {},
   "source": [
    "<a id=\"part_3\"></a>"
   ]
  },
  {
   "cell_type": "markdown",
   "metadata": {},
   "source": [
    "# Part 3: Exploratory Data Analysis"
   ]
  },
  {
   "cell_type": "markdown",
   "metadata": {},
   "source": [
    "<a id=\"import_and_structure\"></a>"
   ]
  },
  {
   "cell_type": "markdown",
   "metadata": {},
   "source": [
    "# Import data files and save as dataframes."
   ]
  },
  {
   "cell_type": "code",
   "execution_count": 2,
   "metadata": {},
   "outputs": [],
   "source": [
    "import pandas as pd\n",
    "from matplotlib import pyplot as plt\n",
    "\n",
    "%matplotlib inline"
   ]
  },
  {
   "cell_type": "markdown",
   "metadata": {},
   "source": [
    "<a id=\"import_zip\"></a>\n",
    "### Import zip_codes file (which contains all zip codes in dc-metro) into a python list."
   ]
  },
  {
   "cell_type": "code",
   "execution_count": 3,
   "metadata": {},
   "outputs": [],
   "source": [
    "import csv\n",
    "with open('./data/zip_codes.csv', 'r') as f:\n",
    "    reader = csv.reader(f)\n",
    "    zip_codes = list(reader)\n",
    "    \n",
    "# convert list of lists attained from csv.reader to single flat list\n",
    "zip_codes_flat = [item for sublist in zip_codes for item in sublist]"
   ]
  },
  {
   "cell_type": "markdown",
   "metadata": {},
   "source": [
    "<a id=\"import_acs\"></a>\n",
    "### Import ACS Datasets"
   ]
  },
  {
   "cell_type": "code",
   "execution_count": 4,
   "metadata": {},
   "outputs": [
    {
     "data": {
      "text/plain": [
       "zip_code          int64\n",
       "estimate_total    int64\n",
       "dtype: object"
      ]
     },
     "execution_count": 4,
     "metadata": {},
     "output_type": "execute_result"
    }
   ],
   "source": [
    "# create dataframe with 2015 & 2016 data to compare for change in population\n",
    "popul2016_df = pd.read_csv('./data/ACS_16_5YR_B01003_with_ann.csv', names=('zip_code', 'estimate_total'), skiprows=1)\n",
    "popul2016_df = popul2016_df[popul2016_df.zip_code.isin(zip_codes_flat)]\n",
    "popul2016_df.dtypes"
   ]
  },
  {
   "cell_type": "code",
   "execution_count": 5,
   "metadata": {
    "scrolled": true
   },
   "outputs": [],
   "source": [
    "popul2016_df['zip_code'] = popul2016_df['zip_code'].astype(str)"
   ]
  },
  {
   "cell_type": "code",
   "execution_count": 6,
   "metadata": {},
   "outputs": [],
   "source": [
    "zipfeatures_df = pd.read_csv('./data/ACS_15_5YR_B01002_with_ann.csv', names=('zip_code', 'median_age', 'mean_income', 'percent_public_transport'), skiprows=2)\n",
    "zipfeatures_df['zip_code'] = zipfeatures_df['zip_code'].astype(str)"
   ]
  },
  {
   "cell_type": "code",
   "execution_count": 7,
   "metadata": {},
   "outputs": [],
   "source": [
    "zipfeatures_df = popul2016_df.merge(zipfeatures_df, on='zip_code')"
   ]
  },
  {
   "cell_type": "code",
   "execution_count": 8,
   "metadata": {},
   "outputs": [],
   "source": [
    "zipfeatures_df['median_age'] = pd.to_numeric(zipfeatures_df['median_age'], errors='coerce')\n",
    "zipfeatures_df['mean_income'] = pd.to_numeric(zipfeatures_df['mean_income'], errors='coerce')\n",
    "zipfeatures_df['percent_public_transport'] = pd.to_numeric(zipfeatures_df['percent_public_transport'], errors='coerce')"
   ]
  },
  {
   "cell_type": "code",
   "execution_count": 9,
   "metadata": {},
   "outputs": [
    {
     "data": {
      "text/plain": [
       "zip_code                     object\n",
       "estimate_total                int64\n",
       "median_age                  float64\n",
       "mean_income                 float64\n",
       "percent_public_transport    float64\n",
       "dtype: object"
      ]
     },
     "execution_count": 9,
     "metadata": {},
     "output_type": "execute_result"
    }
   ],
   "source": [
    "zipfeatures_df.dtypes"
   ]
  },
  {
   "cell_type": "markdown",
   "metadata": {},
   "source": [
    "<a id=\"yelp_api\"></a>\n",
    "### Import Yelp dataset/call Yelp API.\n",
    "    - After importing the dataset I found it to be missing all data from DC area (maybe corrupted file?), so I chose to use  Yelp API.\n",
    "#### Note: <font color=Red>Don't run this code. Outputted, cleaned dataframe saved to file below and re-imported in the next section. I've marked where to begin running in red below.</font>"
   ]
  },
  {
   "cell_type": "code",
   "execution_count": 7,
   "metadata": {
    "collapsed": true
   },
   "outputs": [],
   "source": [
    "# businesses = pd.read_json('./data/business.json', lines=True)\n",
    "# businesses.shape\n",
    "# businesses.dtypes\n",
    "# businesses.head()\n",
    "# businesses[businesses.city.isin(zip_codes_flat)]"
   ]
  },
  {
   "cell_type": "code",
   "execution_count": 8,
   "metadata": {
    "collapsed": true,
    "scrolled": false
   },
   "outputs": [],
   "source": [
    "# This takes a very long time to run (calls the API 1200ish times; 10 minutes on my PC)\n",
    "# Query the yelp api for each zip code in the DC metro area\n",
    "# Since Yelp limit is 50 for businesses returned, we need to loop through pages of 50 using offsets\n",
    "\n",
    "import requests\n",
    "\n",
    "url = \"https://api.yelp.com/v3/businesses/search\"\n",
    "\n",
    "dict_responses = {}\n",
    "# for each zip code, gather up to 1001 businesses (should be enough for all businesses in each zip)\n",
    "for i in zip_codes_flat:\n",
    "    j = 1\n",
    "    while j <= 1001:\n",
    "        querystring = {'location': i, 'limit':50, 'offset':j}\n",
    "\n",
    "        headers = {\n",
    "            'authorization': #insert api key,\n",
    "            'cache-control': \"no-cache\",\n",
    "            }\n",
    "\n",
    "        response = requests.request(\"GET\", url, headers=headers, params=querystring)\n",
    "\n",
    "        response_todict = response.json()\n",
    "        try:\n",
    "            response_todict[str(int(i)+int(j))] = response_todict.pop('businesses')\n",
    "        except:\n",
    "            j = 1002\n",
    "        else:    \n",
    "            dict_responses.update(response_todict)\n",
    "            j = j + 50"
   ]
  },
  {
   "cell_type": "code",
   "execution_count": 9,
   "metadata": {
    "collapsed": true
   },
   "outputs": [],
   "source": [
    "# Clean up the response from the api\n",
    "\n",
    "list_of_businesses = []\n",
    "\n",
    "for key, item in dict_responses.items():\n",
    "    list_of_businesses.append(item)\n",
    "\n",
    "del(list_of_businesses[0:2])\n",
    "\n",
    "# more cleanup; list is currently list of lists of dictionaries due to how api was called\n",
    "# convert to just list of dictionaries\n",
    "\n",
    "list_of_businesses_formatting = []\n",
    "\n",
    "for i in list_of_businesses:\n",
    "    for j in i:\n",
    "        list_of_businesses_formatting.append(j)"
   ]
  },
  {
   "cell_type": "markdown",
   "metadata": {},
   "source": [
    "#### I need to normalize the json data so that each data point is in its own column."
   ]
  },
  {
   "cell_type": "code",
   "execution_count": 10,
   "metadata": {
    "collapsed": true
   },
   "outputs": [],
   "source": [
    "# Change formatting of categories column to only include \"title\", not \"alias\" (makes normalization easier)\n",
    "for idx, val in enumerate(list_of_businesses_formatting):\n",
    "    list_categories = []\n",
    "    for idx2, val2 in enumerate(val['categories']):\n",
    "        list_categories.append(list_of_businesses_formatting[idx]['categories'][idx2]['title'])\n",
    "    val['categories'] = list_categories"
   ]
  },
  {
   "cell_type": "code",
   "execution_count": 11,
   "metadata": {
    "collapsed": true
   },
   "outputs": [],
   "source": [
    "# This isn't technically normalized all the way since categories still has multiple values.\n",
    "# Good enough for analysis I need\n",
    "from pandas.io.json import json_normalize\n",
    "businesses_df = json_normalize(list_of_businesses_formatting)"
   ]
  },
  {
   "cell_type": "code",
   "execution_count": 12,
   "metadata": {
    "scrolled": false
   },
   "outputs": [
    {
     "data": {
      "text/html": [
       "<div>\n",
       "<style>\n",
       "    .dataframe thead tr:only-child th {\n",
       "        text-align: right;\n",
       "    }\n",
       "\n",
       "    .dataframe thead th {\n",
       "        text-align: left;\n",
       "    }\n",
       "\n",
       "    .dataframe tbody tr th {\n",
       "        vertical-align: top;\n",
       "    }\n",
       "</style>\n",
       "<table border=\"1\" class=\"dataframe\">\n",
       "  <thead>\n",
       "    <tr style=\"text-align: right;\">\n",
       "      <th></th>\n",
       "      <th>alias</th>\n",
       "      <th>categories</th>\n",
       "      <th>coordinates.latitude</th>\n",
       "      <th>coordinates.longitude</th>\n",
       "      <th>display_phone</th>\n",
       "      <th>distance</th>\n",
       "      <th>id</th>\n",
       "      <th>image_url</th>\n",
       "      <th>is_closed</th>\n",
       "      <th>location.address1</th>\n",
       "      <th>...</th>\n",
       "      <th>location.display_address</th>\n",
       "      <th>location.state</th>\n",
       "      <th>location.zip_code</th>\n",
       "      <th>name</th>\n",
       "      <th>phone</th>\n",
       "      <th>price</th>\n",
       "      <th>rating</th>\n",
       "      <th>review_count</th>\n",
       "      <th>transactions</th>\n",
       "      <th>url</th>\n",
       "    </tr>\n",
       "  </thead>\n",
       "  <tbody>\n",
       "    <tr>\n",
       "      <th>0</th>\n",
       "      <td>old-ebbitt-grill-washington</td>\n",
       "      <td>[Bars, American (Traditional), Breakfast &amp; Bru...</td>\n",
       "      <td>38.898005</td>\n",
       "      <td>-77.033362</td>\n",
       "      <td>(202) 347-4800</td>\n",
       "      <td>1428.775801</td>\n",
       "      <td>iyBbcXtQSBfiwFQZwVBNaQ</td>\n",
       "      <td>https://s3-media2.fl.yelpcdn.com/bphoto/KBCezp...</td>\n",
       "      <td>False</td>\n",
       "      <td>675 15th St NW</td>\n",
       "      <td>...</td>\n",
       "      <td>[675 15th St NW, Washington, DC 20005]</td>\n",
       "      <td>DC</td>\n",
       "      <td>20005</td>\n",
       "      <td>Old Ebbitt Grill</td>\n",
       "      <td>+12023474800</td>\n",
       "      <td>$$</td>\n",
       "      <td>4.0</td>\n",
       "      <td>6544</td>\n",
       "      <td>[]</td>\n",
       "      <td>https://www.yelp.com/biz/old-ebbitt-grill-wash...</td>\n",
       "    </tr>\n",
       "    <tr>\n",
       "      <th>1</th>\n",
       "      <td>a-baked-joint-washington-9</td>\n",
       "      <td>[Coffee &amp; Tea, Breakfast &amp; Brunch, Sandwiches]</td>\n",
       "      <td>38.902411</td>\n",
       "      <td>-77.017139</td>\n",
       "      <td>(202) 408-6985</td>\n",
       "      <td>547.273915</td>\n",
       "      <td>SpCeYPhky4gsWa9-IBtw2A</td>\n",
       "      <td>https://s3-media1.fl.yelpcdn.com/bphoto/iTBw1K...</td>\n",
       "      <td>False</td>\n",
       "      <td>440 K St NW</td>\n",
       "      <td>...</td>\n",
       "      <td>[440 K St NW, Washington, DC 20001]</td>\n",
       "      <td>DC</td>\n",
       "      <td>20001</td>\n",
       "      <td>A Baked Joint</td>\n",
       "      <td>+12024086985</td>\n",
       "      <td>$</td>\n",
       "      <td>4.5</td>\n",
       "      <td>1218</td>\n",
       "      <td>[]</td>\n",
       "      <td>https://www.yelp.com/biz/a-baked-joint-washing...</td>\n",
       "    </tr>\n",
       "  </tbody>\n",
       "</table>\n",
       "<p>2 rows × 24 columns</p>\n",
       "</div>"
      ],
      "text/plain": [
       "                         alias  \\\n",
       "0  old-ebbitt-grill-washington   \n",
       "1   a-baked-joint-washington-9   \n",
       "\n",
       "                                          categories  coordinates.latitude  \\\n",
       "0  [Bars, American (Traditional), Breakfast & Bru...             38.898005   \n",
       "1     [Coffee & Tea, Breakfast & Brunch, Sandwiches]             38.902411   \n",
       "\n",
       "   coordinates.longitude   display_phone     distance                      id  \\\n",
       "0             -77.033362  (202) 347-4800  1428.775801  iyBbcXtQSBfiwFQZwVBNaQ   \n",
       "1             -77.017139  (202) 408-6985   547.273915  SpCeYPhky4gsWa9-IBtw2A   \n",
       "\n",
       "                                           image_url  is_closed  \\\n",
       "0  https://s3-media2.fl.yelpcdn.com/bphoto/KBCezp...      False   \n",
       "1  https://s3-media1.fl.yelpcdn.com/bphoto/iTBw1K...      False   \n",
       "\n",
       "  location.address1                        ...                          \\\n",
       "0    675 15th St NW                        ...                           \n",
       "1       440 K St NW                        ...                           \n",
       "\n",
       "                 location.display_address location.state location.zip_code  \\\n",
       "0  [675 15th St NW, Washington, DC 20005]             DC             20005   \n",
       "1     [440 K St NW, Washington, DC 20001]             DC             20001   \n",
       "\n",
       "               name         phone price rating review_count transactions  \\\n",
       "0  Old Ebbitt Grill  +12023474800    $$    4.0         6544           []   \n",
       "1     A Baked Joint  +12024086985     $    4.5         1218           []   \n",
       "\n",
       "                                                 url  \n",
       "0  https://www.yelp.com/biz/old-ebbitt-grill-wash...  \n",
       "1  https://www.yelp.com/biz/a-baked-joint-washing...  \n",
       "\n",
       "[2 rows x 24 columns]"
      ]
     },
     "execution_count": 12,
     "metadata": {},
     "output_type": "execute_result"
    }
   ],
   "source": [
    "businesses_df.head(2)"
   ]
  },
  {
   "cell_type": "markdown",
   "metadata": {},
   "source": [
    "#### My looping api call technique resulted in many duplicates, as we examine and fix below (id is unique)."
   ]
  },
  {
   "cell_type": "code",
   "execution_count": 13,
   "metadata": {},
   "outputs": [
    {
     "data": {
      "text/plain": [
       "SvjE3q-uYpyjqYKh714IPw    16\n",
       "ynuv5y74SB2gEXFPjMYb_Q    16\n",
       "F6jgtkBLdyjHYhDO79Z1lA    16\n",
       "hrWvnULW3ragGALYVEAybA    16\n",
       "S0WNMOKJ5c3NXuC_-7lE2Q    14\n",
       "Name: id, dtype: int64"
      ]
     },
     "execution_count": 13,
     "metadata": {},
     "output_type": "execute_result"
    }
   ],
   "source": [
    "businesses_df.id.value_counts().head()"
   ]
  },
  {
   "cell_type": "code",
   "execution_count": 14,
   "metadata": {
    "collapsed": true
   },
   "outputs": [],
   "source": [
    "businesses_df.drop_duplicates(subset='id', inplace=True)"
   ]
  },
  {
   "cell_type": "code",
   "execution_count": 15,
   "metadata": {},
   "outputs": [
    {
     "data": {
      "text/plain": [
       "(4222, 24)"
      ]
     },
     "execution_count": 15,
     "metadata": {},
     "output_type": "execute_result"
    }
   ],
   "source": [
    "businesses_df.shape"
   ]
  },
  {
   "cell_type": "markdown",
   "metadata": {},
   "source": [
    "#### Now I will drop columns that I won't need during this project."
   ]
  },
  {
   "cell_type": "code",
   "execution_count": 16,
   "metadata": {
    "collapsed": true
   },
   "outputs": [],
   "source": [
    "businesses_df.drop(['alias',\n",
    "         'id',\n",
    "         'display_phone',\n",
    "         'distance', \n",
    "         'image_url', \n",
    "         'is_closed', \n",
    "         'location.address2', \n",
    "         'location.address3', \n",
    "         'location.display_address',\n",
    "         'phone',\n",
    "         'transactions',\n",
    "         'url'], axis=1, inplace=True)"
   ]
  },
  {
   "cell_type": "markdown",
   "metadata": {},
   "source": [
    "#### Next I'll clean up the column names."
   ]
  },
  {
   "cell_type": "code",
   "execution_count": 17,
   "metadata": {
    "collapsed": true
   },
   "outputs": [],
   "source": [
    "businesses_df.columns = ['categories', 'latitude', \n",
    "                         'longitude', 'address', \n",
    "                         'city', 'country', 'state', \n",
    "                         'zip_code', 'name', 'price', \n",
    "                         'rating', 'review_count']"
   ]
  },
  {
   "cell_type": "code",
   "execution_count": 18,
   "metadata": {
    "collapsed": true
   },
   "outputs": [],
   "source": [
    "# move name column to first position\n",
    "cols = businesses_df.columns.tolist()\n",
    "cols[0] = 'name'\n",
    "cols[8] = 'categories'\n",
    "businesses_df = businesses_df[cols]"
   ]
  },
  {
   "cell_type": "code",
   "execution_count": 19,
   "metadata": {},
   "outputs": [
    {
     "data": {
      "text/html": [
       "<div>\n",
       "<style>\n",
       "    .dataframe thead tr:only-child th {\n",
       "        text-align: right;\n",
       "    }\n",
       "\n",
       "    .dataframe thead th {\n",
       "        text-align: left;\n",
       "    }\n",
       "\n",
       "    .dataframe tbody tr th {\n",
       "        vertical-align: top;\n",
       "    }\n",
       "</style>\n",
       "<table border=\"1\" class=\"dataframe\">\n",
       "  <thead>\n",
       "    <tr style=\"text-align: right;\">\n",
       "      <th></th>\n",
       "      <th>name</th>\n",
       "      <th>latitude</th>\n",
       "      <th>longitude</th>\n",
       "      <th>address</th>\n",
       "      <th>city</th>\n",
       "      <th>country</th>\n",
       "      <th>state</th>\n",
       "      <th>zip_code</th>\n",
       "      <th>categories</th>\n",
       "      <th>price</th>\n",
       "      <th>rating</th>\n",
       "      <th>review_count</th>\n",
       "    </tr>\n",
       "  </thead>\n",
       "  <tbody>\n",
       "    <tr>\n",
       "      <th>0</th>\n",
       "      <td>Old Ebbitt Grill</td>\n",
       "      <td>38.898005</td>\n",
       "      <td>-77.033362</td>\n",
       "      <td>675 15th St NW</td>\n",
       "      <td>Washington, DC</td>\n",
       "      <td>US</td>\n",
       "      <td>DC</td>\n",
       "      <td>20005</td>\n",
       "      <td>[Bars, American (Traditional), Breakfast &amp; Bru...</td>\n",
       "      <td>$$</td>\n",
       "      <td>4.0</td>\n",
       "      <td>6544</td>\n",
       "    </tr>\n",
       "    <tr>\n",
       "      <th>1</th>\n",
       "      <td>A Baked Joint</td>\n",
       "      <td>38.902411</td>\n",
       "      <td>-77.017139</td>\n",
       "      <td>440 K St NW</td>\n",
       "      <td>Washington, DC</td>\n",
       "      <td>US</td>\n",
       "      <td>DC</td>\n",
       "      <td>20001</td>\n",
       "      <td>[Coffee &amp; Tea, Breakfast &amp; Brunch, Sandwiches]</td>\n",
       "      <td>$</td>\n",
       "      <td>4.5</td>\n",
       "      <td>1218</td>\n",
       "    </tr>\n",
       "    <tr>\n",
       "      <th>2</th>\n",
       "      <td>Le Diplomate</td>\n",
       "      <td>38.911359</td>\n",
       "      <td>-77.031575</td>\n",
       "      <td>1601 14th St NW</td>\n",
       "      <td>Washington, DC</td>\n",
       "      <td>US</td>\n",
       "      <td>DC</td>\n",
       "      <td>20009</td>\n",
       "      <td>[Brasseries, French, Cafes]</td>\n",
       "      <td>$$$</td>\n",
       "      <td>4.0</td>\n",
       "      <td>2449</td>\n",
       "    </tr>\n",
       "    <tr>\n",
       "      <th>3</th>\n",
       "      <td>Rasika</td>\n",
       "      <td>38.895008</td>\n",
       "      <td>-77.021286</td>\n",
       "      <td>633 D St NW</td>\n",
       "      <td>Washington, DC</td>\n",
       "      <td>US</td>\n",
       "      <td>DC</td>\n",
       "      <td>20004</td>\n",
       "      <td>[Indian]</td>\n",
       "      <td>$$$</td>\n",
       "      <td>4.5</td>\n",
       "      <td>2633</td>\n",
       "    </tr>\n",
       "    <tr>\n",
       "      <th>4</th>\n",
       "      <td>Matchbox - Chinatown</td>\n",
       "      <td>38.900050</td>\n",
       "      <td>-77.022540</td>\n",
       "      <td>713 H St NW</td>\n",
       "      <td>Washington, DC</td>\n",
       "      <td>US</td>\n",
       "      <td>DC</td>\n",
       "      <td>20001</td>\n",
       "      <td>[Pizza, American (New)]</td>\n",
       "      <td>$$</td>\n",
       "      <td>4.0</td>\n",
       "      <td>2673</td>\n",
       "    </tr>\n",
       "  </tbody>\n",
       "</table>\n",
       "</div>"
      ],
      "text/plain": [
       "                   name   latitude  longitude          address  \\\n",
       "0      Old Ebbitt Grill  38.898005 -77.033362   675 15th St NW   \n",
       "1         A Baked Joint  38.902411 -77.017139      440 K St NW   \n",
       "2          Le Diplomate  38.911359 -77.031575  1601 14th St NW   \n",
       "3                Rasika  38.895008 -77.021286      633 D St NW   \n",
       "4  Matchbox - Chinatown  38.900050 -77.022540      713 H St NW   \n",
       "\n",
       "             city country state zip_code  \\\n",
       "0  Washington, DC      US    DC    20005   \n",
       "1  Washington, DC      US    DC    20001   \n",
       "2  Washington, DC      US    DC    20009   \n",
       "3  Washington, DC      US    DC    20004   \n",
       "4  Washington, DC      US    DC    20001   \n",
       "\n",
       "                                          categories price  rating  \\\n",
       "0  [Bars, American (Traditional), Breakfast & Bru...    $$     4.0   \n",
       "1     [Coffee & Tea, Breakfast & Brunch, Sandwiches]     $     4.5   \n",
       "2                        [Brasseries, French, Cafes]   $$$     4.0   \n",
       "3                                           [Indian]   $$$     4.5   \n",
       "4                            [Pizza, American (New)]    $$     4.0   \n",
       "\n",
       "   review_count  \n",
       "0          6544  \n",
       "1          1218  \n",
       "2          2449  \n",
       "3          2633  \n",
       "4          2673  "
      ]
     },
     "execution_count": 19,
     "metadata": {},
     "output_type": "execute_result"
    }
   ],
   "source": [
    "businesses_df.head()"
   ]
  },
  {
   "cell_type": "markdown",
   "metadata": {},
   "source": [
    "#### For whatever reason the API imported some businesses outside of the queried zip codes, so I removed those quick."
   ]
  },
  {
   "cell_type": "code",
   "execution_count": 20,
   "metadata": {},
   "outputs": [
    {
     "data": {
      "text/plain": [
       "(4222, 12)"
      ]
     },
     "execution_count": 20,
     "metadata": {},
     "output_type": "execute_result"
    }
   ],
   "source": [
    "businesses_df.shape"
   ]
  },
  {
   "cell_type": "code",
   "execution_count": 21,
   "metadata": {
    "collapsed": true
   },
   "outputs": [],
   "source": [
    "businesses_df = businesses_df[businesses_df['zip_code'].isin(zip_codes_flat)]"
   ]
  },
  {
   "cell_type": "code",
   "execution_count": 22,
   "metadata": {},
   "outputs": [
    {
     "data": {
      "text/plain": [
       "(3175, 12)"
      ]
     },
     "execution_count": 22,
     "metadata": {},
     "output_type": "execute_result"
    }
   ],
   "source": [
    "businesses_df.shape"
   ]
  },
  {
   "cell_type": "markdown",
   "metadata": {},
   "source": [
    "#### Check for relevent null values"
   ]
  },
  {
   "cell_type": "code",
   "execution_count": 23,
   "metadata": {
    "scrolled": false
   },
   "outputs": [
    {
     "data": {
      "text/plain": [
       "name              0\n",
       "latitude          1\n",
       "longitude         1\n",
       "address          13\n",
       "city              0\n",
       "country           0\n",
       "state             0\n",
       "zip_code          0\n",
       "categories        0\n",
       "price           498\n",
       "rating            0\n",
       "review_count      0\n",
       "dtype: int64"
      ]
     },
     "execution_count": 23,
     "metadata": {},
     "output_type": "execute_result"
    }
   ],
   "source": [
    "businesses_df.isnull().sum()"
   ]
  },
  {
   "cell_type": "markdown",
   "metadata": {},
   "source": [
    "#### Save businesses_df to csv file for quicker use later."
   ]
  },
  {
   "cell_type": "code",
   "execution_count": 24,
   "metadata": {
    "collapsed": true
   },
   "outputs": [],
   "source": [
    "businesses_df.to_csv('./data/businesses.csv', sep='\\t')"
   ]
  },
  {
   "cell_type": "markdown",
   "metadata": {},
   "source": [
    "<a id=\"import_foursquare\"></a>\n",
    "### Import Foursquare dataset\n",
    "- These datasets are several gigabytes and were not included in the project repository due to size restrictions of github. You can find the dataset [here](https://sites.google.com/site/yangdingqi/home/foursquare-dataset)."
   ]
  },
  {
   "cell_type": "code",
   "execution_count": 59,
   "metadata": {
    "collapsed": true
   },
   "outputs": [],
   "source": [
    "foursquare_checkins_df = pd.read_csv(\"../../../dataset_TIST2015/dataset_TIST2015_Checkins.txt\", header=None, delimiter=\"\\t\")\n",
    "\n",
    "foursquare_checkins_df.drop([3], axis=1, inplace=True)\n",
    "foursquare_checkins_df.columns = ['user_id', 'venue_id', 'utc_time']"
   ]
  },
  {
   "cell_type": "code",
   "execution_count": 60,
   "metadata": {
    "collapsed": true
   },
   "outputs": [],
   "source": [
    "foursquare_poi_df = pd.read_csv(\"../../../dataset_TIST2015/dataset_TIST2015_POIs.txt\", header=None, delimiter=\"\\t\")\n",
    "\n",
    "foursquare_poi_df.columns = ['venue_id', 'latitude', 'longitude', 'venue_category', 'country']\n",
    "foursquare_poi_df = foursquare_poi_df[foursquare_poi_df['country'].isin(['US'])]"
   ]
  },
  {
   "cell_type": "code",
   "execution_count": 61,
   "metadata": {
    "collapsed": true
   },
   "outputs": [],
   "source": [
    "foursquare_merge_df = foursquare_checkins_df.merge(foursquare_poi_df, on=\"venue_id\")"
   ]
  },
  {
   "cell_type": "code",
   "execution_count": 62,
   "metadata": {
    "scrolled": true
   },
   "outputs": [
    {
     "data": {
      "text/html": [
       "<div>\n",
       "<style>\n",
       "    .dataframe thead tr:only-child th {\n",
       "        text-align: right;\n",
       "    }\n",
       "\n",
       "    .dataframe thead th {\n",
       "        text-align: left;\n",
       "    }\n",
       "\n",
       "    .dataframe tbody tr th {\n",
       "        vertical-align: top;\n",
       "    }\n",
       "</style>\n",
       "<table border=\"1\" class=\"dataframe\">\n",
       "  <thead>\n",
       "    <tr style=\"text-align: right;\">\n",
       "      <th></th>\n",
       "      <th>user_id</th>\n",
       "      <th>venue_id</th>\n",
       "      <th>utc_time</th>\n",
       "      <th>latitude</th>\n",
       "      <th>longitude</th>\n",
       "      <th>venue_category</th>\n",
       "      <th>country</th>\n",
       "    </tr>\n",
       "  </thead>\n",
       "  <tbody>\n",
       "    <tr>\n",
       "      <th>0</th>\n",
       "      <td>221021</td>\n",
       "      <td>4a85b1b3f964a520eefe1fe3</td>\n",
       "      <td>Tue Apr 03 18:00:08 +0000 2012</td>\n",
       "      <td>40.748939</td>\n",
       "      <td>-73.99228</td>\n",
       "      <td>Coffee Shop</td>\n",
       "      <td>US</td>\n",
       "    </tr>\n",
       "    <tr>\n",
       "      <th>1</th>\n",
       "      <td>89453</td>\n",
       "      <td>4a85b1b3f964a520eefe1fe3</td>\n",
       "      <td>Tue Apr 24 22:53:57 +0000 2012</td>\n",
       "      <td>40.748939</td>\n",
       "      <td>-73.99228</td>\n",
       "      <td>Coffee Shop</td>\n",
       "      <td>US</td>\n",
       "    </tr>\n",
       "    <tr>\n",
       "      <th>2</th>\n",
       "      <td>206753</td>\n",
       "      <td>4a85b1b3f964a520eefe1fe3</td>\n",
       "      <td>Thu May 03 16:20:48 +0000 2012</td>\n",
       "      <td>40.748939</td>\n",
       "      <td>-73.99228</td>\n",
       "      <td>Coffee Shop</td>\n",
       "      <td>US</td>\n",
       "    </tr>\n",
       "    <tr>\n",
       "      <th>3</th>\n",
       "      <td>114526</td>\n",
       "      <td>4a85b1b3f964a520eefe1fe3</td>\n",
       "      <td>Wed May 09 23:09:45 +0000 2012</td>\n",
       "      <td>40.748939</td>\n",
       "      <td>-73.99228</td>\n",
       "      <td>Coffee Shop</td>\n",
       "      <td>US</td>\n",
       "    </tr>\n",
       "    <tr>\n",
       "      <th>4</th>\n",
       "      <td>86634</td>\n",
       "      <td>4a85b1b3f964a520eefe1fe3</td>\n",
       "      <td>Tue May 22 13:31:13 +0000 2012</td>\n",
       "      <td>40.748939</td>\n",
       "      <td>-73.99228</td>\n",
       "      <td>Coffee Shop</td>\n",
       "      <td>US</td>\n",
       "    </tr>\n",
       "  </tbody>\n",
       "</table>\n",
       "</div>"
      ],
      "text/plain": [
       "   user_id                  venue_id                        utc_time  \\\n",
       "0   221021  4a85b1b3f964a520eefe1fe3  Tue Apr 03 18:00:08 +0000 2012   \n",
       "1    89453  4a85b1b3f964a520eefe1fe3  Tue Apr 24 22:53:57 +0000 2012   \n",
       "2   206753  4a85b1b3f964a520eefe1fe3  Thu May 03 16:20:48 +0000 2012   \n",
       "3   114526  4a85b1b3f964a520eefe1fe3  Wed May 09 23:09:45 +0000 2012   \n",
       "4    86634  4a85b1b3f964a520eefe1fe3  Tue May 22 13:31:13 +0000 2012   \n",
       "\n",
       "    latitude  longitude venue_category country  \n",
       "0  40.748939  -73.99228    Coffee Shop      US  \n",
       "1  40.748939  -73.99228    Coffee Shop      US  \n",
       "2  40.748939  -73.99228    Coffee Shop      US  \n",
       "3  40.748939  -73.99228    Coffee Shop      US  \n",
       "4  40.748939  -73.99228    Coffee Shop      US  "
      ]
     },
     "execution_count": 62,
     "metadata": {},
     "output_type": "execute_result"
    }
   ],
   "source": [
    "foursquare_merge_df.head()"
   ]
  },
  {
   "cell_type": "code",
   "execution_count": 63,
   "metadata": {},
   "outputs": [
    {
     "data": {
      "text/plain": [
       "(3564144, 7)"
      ]
     },
     "execution_count": 63,
     "metadata": {},
     "output_type": "execute_result"
    }
   ],
   "source": [
    "foursquare_merge_df.shape"
   ]
  },
  {
   "cell_type": "markdown",
   "metadata": {},
   "source": [
    "#### Now I want to pull out the the users who visited a coffee shop at least once. I'll create a new column called \"coffee_shop_bin\". If the user visited a coffee shop on the selected day, all rows for that day will be set to 1. Else, 0. Later I'll use this in my models to predict where people are coming from when they go to a coffee shop.\n",
    "- I'll overwrite the same DF to cut down on memory usage..."
   ]
  },
  {
   "cell_type": "code",
   "execution_count": 64,
   "metadata": {
    "collapsed": true
   },
   "outputs": [],
   "source": [
    "# reduce the dataframe to include only users who have visited a coffee shop\n",
    "coffee_drinkers = foursquare_merge_df[foursquare_merge_df.venue_category.isin(['Coffee Shop'])].user_id.unique().tolist()\n",
    "foursquare_merge_df = foursquare_merge_df[foursquare_merge_df.user_id.isin(coffee_drinkers)]"
   ]
  },
  {
   "cell_type": "code",
   "execution_count": 65,
   "metadata": {},
   "outputs": [
    {
     "data": {
      "text/plain": [
       "(2439117, 7)"
      ]
     },
     "execution_count": 65,
     "metadata": {},
     "output_type": "execute_result"
    }
   ],
   "source": [
    "foursquare_merge_df.shape"
   ]
  },
  {
   "cell_type": "code",
   "execution_count": 66,
   "metadata": {},
   "outputs": [
    {
     "data": {
      "text/plain": [
       "user_id                    int64\n",
       "venue_id                  object\n",
       "utc_time          datetime64[ns]\n",
       "latitude                 float64\n",
       "longitude                float64\n",
       "venue_category            object\n",
       "country                   object\n",
       "dtype: object"
      ]
     },
     "execution_count": 66,
     "metadata": {},
     "output_type": "execute_result"
    }
   ],
   "source": [
    "# convert utc_time to datetime object, takes 5-10 minutes\n",
    "foursquare_merge_df['utc_time'] = pd.to_datetime(foursquare_merge_df['utc_time'], infer_datetime_format=True)\n",
    "foursquare_merge_df.dtypes"
   ]
  },
  {
   "cell_type": "code",
   "execution_count": 67,
   "metadata": {},
   "outputs": [
    {
     "name": "stderr",
     "output_type": "stream",
     "text": [
      "C:\\Users\\Steven\\Anaconda3\\lib\\site-packages\\ipykernel_launcher.py:8: SettingWithCopyWarning: \n",
      "A value is trying to be set on a copy of a slice from a DataFrame.\n",
      "Try using .loc[row_indexer,col_indexer] = value instead\n",
      "\n",
      "See the caveats in the documentation: http://pandas.pydata.org/pandas-docs/stable/indexing.html#indexing-view-versus-copy\n",
      "  \n",
      "C:\\Users\\Steven\\Anaconda3\\lib\\site-packages\\ipykernel_launcher.py:11: SettingWithCopyWarning: \n",
      "A value is trying to be set on a copy of a slice from a DataFrame.\n",
      "Try using .loc[row_indexer,col_indexer] = value instead\n",
      "\n",
      "See the caveats in the documentation: http://pandas.pydata.org/pandas-docs/stable/indexing.html#indexing-view-versus-copy\n",
      "  # This is added back by InteractiveShellApp.init_path()\n"
     ]
    }
   ],
   "source": [
    "# this is super inefficient, but shouldn't need to be run again. took approx. 20 minutes.\n",
    "# groups df by user id, month, day, then checks each group for coffee shop visits\n",
    "grouped_foursquare = foursquare_merge_df.groupby([foursquare_merge_df.user_id, \n",
    "                                                   foursquare_merge_df.utc_time.dt.month, \n",
    "                                                   foursquare_merge_df.utc_time.dt.day])\n",
    "# if group contains a coffee shop check-in, set all values of coffee_shop_bin in that group to yes\n",
    "grouped_foursquare_true = grouped_foursquare.filter(lambda x: x['venue_category'].str.contains('Coffee').any())\n",
    "grouped_foursquare_true['coffee_shop_bin'] = 1\n",
    "# if group does not contain a coffee shop check-in, set all values of coffee_shop_bin in that group to yes\n",
    "grouped_foursquare_false = grouped_foursquare.filter(lambda x: ~x['venue_category'].str.contains('Coffee').any())\n",
    "grouped_foursquare_false['coffee_shop_bin'] = 0\n",
    "\n",
    "# re-combine the true and false datasets\n",
    "grouped_foursquare = grouped_foursquare_true.append(grouped_foursquare_false, ignore_index=True)"
   ]
  },
  {
   "cell_type": "code",
   "execution_count": 68,
   "metadata": {
    "scrolled": true
   },
   "outputs": [
    {
     "name": "stdout",
     "output_type": "stream",
     "text": [
      "Full data: (2439117, 7)\n",
      "Checkins from days w/ coffee shop visits: (309677, 8)\n",
      "Checkins from days w/out coffee shop visits: (2129440, 8)\n",
      "Data after concat: (2439117, 8)\n"
     ]
    }
   ],
   "source": [
    "# make sure we didn't lose any data\n",
    "print(\"Full data: \" + str(foursquare_merge_df.shape))\n",
    "print(\"Checkins from days w/ coffee shop visits: \" + str(grouped_foursquare_true.shape))\n",
    "print(\"Checkins from days w/out coffee shop visits: \" + str(grouped_foursquare_false.shape))\n",
    "print(\"Data after concat: \" + str(grouped_foursquare.shape))"
   ]
  },
  {
   "cell_type": "markdown",
   "metadata": {},
   "source": [
    "#### Get address data from longitude and latitude.\n",
    "- I tried using geopy to get the city from the coordinates, which appears to work, but it would take 20 straight days to run all 3.5 million lines. Will explore this later. Most geolocaters also have a query limit which this would far exceed."
   ]
  },
  {
   "cell_type": "code",
   "execution_count": 18,
   "metadata": {},
   "outputs": [
    {
     "name": "stdout",
     "output_type": "stream",
     "text": [
      "10 lines: --- 10.996055603027344 seconds ---\n"
     ]
    }
   ],
   "source": [
    "from geopy.geocoders import Nominatim\n",
    "import time\n",
    "\n",
    "start_time = time.time()\n",
    "\n",
    "i=0\n",
    "for index, row in foursquare_merge_df.iterrows():\n",
    "    if i < 10:\n",
    "        coord = str(row['latitude']) + \",\" + str(row['longitude'])\n",
    "\n",
    "        geolocator = Nominatim()\n",
    "        location = geolocator.reverse(coord)\n",
    "        if \"District of Columbia\" in location.address: \n",
    "            print(location.address)\n",
    "        i+=1\n",
    "    else:\n",
    "        break\n",
    "        \n",
    "print(\"10 lines: --- %s seconds ---\" % (time.time() - start_time))\n",
    "\n",
    "# geolocator = Nominatim()\n",
    "# location = geolocator.reverse(\"38.898005, -77.033362\")\n",
    "# print(location.address)\n"
   ]
  },
  {
   "cell_type": "markdown",
   "metadata": {},
   "source": [
    "- Trying a package I found on github called reverse_geocoder to cut down on query time. This only took a few minutes to run, but unfortunately only returned high level geography (Washington, D.C)."
   ]
  },
  {
   "cell_type": "code",
   "execution_count": 69,
   "metadata": {
    "collapsed": true
   },
   "outputs": [],
   "source": [
    "import reverse_geocoder as rg\n",
    "\n",
    "coordinates = []\n",
    "for index, row in grouped_foursquare.iterrows():\n",
    "    coordinates.append((row.latitude, row.longitude))\n",
    "    \n",
    "results = rg.search(coordinates)"
   ]
  },
  {
   "cell_type": "code",
   "execution_count": 70,
   "metadata": {
    "collapsed": true
   },
   "outputs": [],
   "source": [
    "dc_bools = []\n",
    "\n",
    "for i in results:\n",
    "    result = \"D.C\" in str(i)\n",
    "    dc_bools.append(result)"
   ]
  },
  {
   "cell_type": "code",
   "execution_count": 71,
   "metadata": {},
   "outputs": [
    {
     "data": {
      "text/plain": [
       "[False, False, False, False, False]"
      ]
     },
     "execution_count": 71,
     "metadata": {},
     "output_type": "execute_result"
    }
   ],
   "source": [
    "dc_bools[0:5]"
   ]
  },
  {
   "cell_type": "code",
   "execution_count": 72,
   "metadata": {
    "collapsed": true
   },
   "outputs": [],
   "source": [
    "grouped_foursquare['check_in_dc'] = dc_bools"
   ]
  },
  {
   "cell_type": "code",
   "execution_count": 73,
   "metadata": {
    "scrolled": true
   },
   "outputs": [
    {
     "data": {
      "text/plain": [
       "False    2372042\n",
       "True       67075\n",
       "Name: check_in_dc, dtype: int64"
      ]
     },
     "execution_count": 73,
     "metadata": {},
     "output_type": "execute_result"
    }
   ],
   "source": [
    "grouped_foursquare.check_in_dc.value_counts()"
   ]
  },
  {
   "cell_type": "code",
   "execution_count": 74,
   "metadata": {
    "collapsed": true,
    "scrolled": false
   },
   "outputs": [],
   "source": [
    "grouped_foursquare = grouped_foursquare[grouped_foursquare.check_in_dc == True]\n",
    "grouped_foursquare.drop('check_in_dc', axis=1, inplace=True)"
   ]
  },
  {
   "cell_type": "markdown",
   "metadata": {},
   "source": [
    "#### I want to continue reverse geocoding to get zip codes. I'll pull in Zillow neighborhood shapefiles."
   ]
  },
  {
   "cell_type": "code",
   "execution_count": 75,
   "metadata": {
    "collapsed": true
   },
   "outputs": [],
   "source": [
    "import geopandas as gpd\n",
    "shape = gpd.read_file('data/ZillowNeighborhoods-DC.shp')"
   ]
  },
  {
   "cell_type": "code",
   "execution_count": 76,
   "metadata": {},
   "outputs": [
    {
     "data": {
      "text/html": [
       "<div>\n",
       "<style>\n",
       "    .dataframe thead tr:only-child th {\n",
       "        text-align: right;\n",
       "    }\n",
       "\n",
       "    .dataframe thead th {\n",
       "        text-align: left;\n",
       "    }\n",
       "\n",
       "    .dataframe tbody tr th {\n",
       "        vertical-align: top;\n",
       "    }\n",
       "</style>\n",
       "<table border=\"1\" class=\"dataframe\">\n",
       "  <thead>\n",
       "    <tr style=\"text-align: right;\">\n",
       "      <th></th>\n",
       "      <th>State</th>\n",
       "      <th>County</th>\n",
       "      <th>City</th>\n",
       "      <th>Name</th>\n",
       "      <th>RegionID</th>\n",
       "      <th>geometry</th>\n",
       "    </tr>\n",
       "  </thead>\n",
       "  <tbody>\n",
       "    <tr>\n",
       "      <th>0</th>\n",
       "      <td>DC</td>\n",
       "      <td>District of Columbia</td>\n",
       "      <td>Washington</td>\n",
       "      <td>Barnaby Woods</td>\n",
       "      <td>121672</td>\n",
       "      <td>POLYGON ((-77.04528160099994 38.97573291100008...</td>\n",
       "    </tr>\n",
       "    <tr>\n",
       "      <th>1</th>\n",
       "      <td>DC</td>\n",
       "      <td>District of Columbia</td>\n",
       "      <td>Washington</td>\n",
       "      <td>Bellevue</td>\n",
       "      <td>121674</td>\n",
       "      <td>POLYGON ((-77.01639139799994 38.80931882600004...</td>\n",
       "    </tr>\n",
       "    <tr>\n",
       "      <th>2</th>\n",
       "      <td>DC</td>\n",
       "      <td>District of Columbia</td>\n",
       "      <td>Washington</td>\n",
       "      <td>Benning</td>\n",
       "      <td>121675</td>\n",
       "      <td>POLYGON ((-76.95024865099992 38.88970558200003...</td>\n",
       "    </tr>\n",
       "    <tr>\n",
       "      <th>3</th>\n",
       "      <td>DC</td>\n",
       "      <td>District of Columbia</td>\n",
       "      <td>Washington</td>\n",
       "      <td>Chevy Chase</td>\n",
       "      <td>121689</td>\n",
       "      <td>POLYGON ((-77.05323999999973 38.97290000000029...</td>\n",
       "    </tr>\n",
       "    <tr>\n",
       "      <th>4</th>\n",
       "      <td>DC</td>\n",
       "      <td>District of Columbia</td>\n",
       "      <td>Washington</td>\n",
       "      <td>Dupont Park</td>\n",
       "      <td>121705</td>\n",
       "      <td>POLYGON ((-76.94706749892596 38.88285577097802...</td>\n",
       "    </tr>\n",
       "  </tbody>\n",
       "</table>\n",
       "</div>"
      ],
      "text/plain": [
       "  State                County        City           Name RegionID  \\\n",
       "0    DC  District of Columbia  Washington  Barnaby Woods   121672   \n",
       "1    DC  District of Columbia  Washington       Bellevue   121674   \n",
       "2    DC  District of Columbia  Washington        Benning   121675   \n",
       "3    DC  District of Columbia  Washington    Chevy Chase   121689   \n",
       "4    DC  District of Columbia  Washington    Dupont Park   121705   \n",
       "\n",
       "                                            geometry  \n",
       "0  POLYGON ((-77.04528160099994 38.97573291100008...  \n",
       "1  POLYGON ((-77.01639139799994 38.80931882600004...  \n",
       "2  POLYGON ((-76.95024865099992 38.88970558200003...  \n",
       "3  POLYGON ((-77.05323999999973 38.97290000000029...  \n",
       "4  POLYGON ((-76.94706749892596 38.88285577097802...  "
      ]
     },
     "execution_count": 76,
     "metadata": {},
     "output_type": "execute_result"
    }
   ],
   "source": [
    "shape.head()"
   ]
  },
  {
   "cell_type": "code",
   "execution_count": 77,
   "metadata": {},
   "outputs": [
    {
     "data": {
      "text/plain": [
       "<matplotlib.axes._subplots.AxesSubplot at 0x15752093f28>"
      ]
     },
     "execution_count": 77,
     "metadata": {},
     "output_type": "execute_result"
    },
    {
     "data": {
      "image/png": "[encoded data removed]",
      "text/plain": [
       "<matplotlib.figure.Figure at 0x157f0e639b0>"
      ]
     },
     "metadata": {},
     "output_type": "display_data"
    }
   ],
   "source": [
    "shape.plot()"
   ]
  },
  {
   "cell_type": "code",
   "execution_count": 78,
   "metadata": {
    "collapsed": true
   },
   "outputs": [],
   "source": [
    "# https://stackoverflow.com/questions/7861196/check-if-a-geopoint-with-latitude-and-longitude-is-within-a-shapefile?utm_medium=organic&utm_source=google_rich_qa&utm_campaign=google_rich_qa\n",
    "# credit to Richard\n",
    "\n",
    "import ogr\n",
    "from IPython import embed\n",
    "import sys\n",
    "\n",
    "drv = ogr.GetDriverByName('ESRI Shapefile') #We will load a shape file\n",
    "ds_in = drv.Open(\"data/ZillowNeighborhoods-DC.shp\")    #Get the contents of the shape file\n",
    "lyr_in = ds_in.GetLayer(0)    #Get the shape file's first layer\n",
    "\n",
    "#Put the title of the field you are interested in here\n",
    "idx_reg = lyr_in.GetLayerDefn().GetFieldIndex(\"name\")\n",
    "\n",
    "#If the latitude/longitude we're going to use is not in the projection\n",
    "#of the shapefile, then we will get erroneous results.\n",
    "#The following assumes that the latitude longitude is in WGS84\n",
    "#This is identified by the number \"4326\", as in \"EPSG:4326\"\n",
    "#We will create a transformation between this and the shapefile's\n",
    "#project, whatever it may be\n",
    "geo_ref = lyr_in.GetSpatialRef()\n",
    "point_ref=ogr.osr.SpatialReference()\n",
    "point_ref.ImportFromEPSG(4326)\n",
    "ctran=ogr.osr.CoordinateTransformation(point_ref,geo_ref)\n",
    "\n",
    "def check(lon,lat):\n",
    "    #Create a point\n",
    "    pt = ogr.Geometry(ogr.wkbPoint)\n",
    "    pt.SetPoint_2D(0, lon, lat)\n",
    "\n",
    "    #Set up a spatial filter such that the only features we see when we\n",
    "    #loop through \"lyr_in\" are those which overlap the point defined above\n",
    "    lyr_in.SetSpatialFilter(pt)\n",
    "\n",
    "    #Loop through the overlapped features and display the field of interest\n",
    "    for feat_in in lyr_in:\n",
    "        return feat_in.GetFieldAsString(idx_reg)"
   ]
  },
  {
   "cell_type": "code",
   "execution_count": 79,
   "metadata": {
    "collapsed": true
   },
   "outputs": [],
   "source": [
    "this_is_a_neighborhoods = []\n",
    "for index, row in grouped_foursquare.iterrows():\n",
    "    this_is_a_neighborhoods.append(check(row.longitude, row.latitude))"
   ]
  },
  {
   "cell_type": "code",
   "execution_count": 80,
   "metadata": {},
   "outputs": [
    {
     "data": {
      "text/plain": [
       "['Dupont Circle',\n",
       " 'Shaw',\n",
       " 'Shaw',\n",
       " 'Shaw',\n",
       " 'Shaw',\n",
       " 'Shaw',\n",
       " 'Capitol Hill',\n",
       " 'Downtown',\n",
       " 'Navy Yard',\n",
       " 'Navy Yard']"
      ]
     },
     "execution_count": 80,
     "metadata": {},
     "output_type": "execute_result"
    }
   ],
   "source": [
    "this_is_a_neighborhoods[0:10]"
   ]
  },
  {
   "cell_type": "code",
   "execution_count": 81,
   "metadata": {
    "collapsed": true
   },
   "outputs": [],
   "source": [
    "import csv\n",
    "with open('./data/neighborhoodsToZip.csv', 'r') as f:\n",
    "    reader = csv.reader(f)\n",
    "    conversion = dict(reader)\n",
    "del conversion['Neighborhood']"
   ]
  },
  {
   "cell_type": "code",
   "execution_count": 82,
   "metadata": {},
   "outputs": [
    {
     "data": {
      "text/plain": [
       "{'': '20001',\n",
       " 'Adams Morgan': '20009',\n",
       " 'American University Park': '20016',\n",
       " 'Arboretum': '20002',\n",
       " 'Barnaby Woods': '20015',\n",
       " 'Barry Farm': '20020',\n",
       " 'Bellevue': '20032',\n",
       " 'Benning': '20019',\n",
       " 'Benning Heights': '20019',\n",
       " 'Bloomingdale': '20017',\n",
       " 'Brentwood': '20722',\n",
       " 'Brightwood': '20011',\n",
       " 'Brightwood Park': '20011',\n",
       " 'Brookland': '20017',\n",
       " 'Buena Vista': '20020',\n",
       " 'Burleith': '20007',\n",
       " 'Burrville': '20019',\n",
       " 'Buzzard Point': '20024',\n",
       " 'Capitol Hill': '20003',\n",
       " 'Capitol View': '20020',\n",
       " 'Cardozo': '20001',\n",
       " 'Carver Langston': '20002',\n",
       " 'Cathedral Heights': '20016',\n",
       " 'Chevy Chase': '20015',\n",
       " 'Chinatown': '20001',\n",
       " 'Cleveland Park': '20008',\n",
       " 'Colonial Village': '20012',\n",
       " 'Columbia Heights': '20010',\n",
       " 'Congress Heights': '20032',\n",
       " 'Connecticut Avenue': '20036',\n",
       " 'Crestwood': '20011',\n",
       " 'Deanwood': '20019',\n",
       " 'Douglass': '20020',\n",
       " 'Downtown': '20001',\n",
       " 'Dupont Circle': '20036',\n",
       " 'Dupont Park': '20020',\n",
       " 'Eastland Gardens': '20019',\n",
       " 'Eckington': '20002',\n",
       " 'Edgewood': '20017',\n",
       " 'Fairfax Village': '20020',\n",
       " 'Fairlawn': '20020',\n",
       " 'Fairmont Heights': '20009',\n",
       " 'Foggy Bottom': '20037',\n",
       " 'Forest Hills': '20008',\n",
       " 'Fort Davis Park': '20020',\n",
       " 'Fort Dupont': '20019',\n",
       " 'Fort Lincoln': '20018',\n",
       " 'Fort McNair': '20319',\n",
       " 'Fort Stanton': '20020',\n",
       " 'Fort Totten': '20011',\n",
       " 'Foxhall Crescent': '20007',\n",
       " 'Foxhall Village': '20007',\n",
       " 'Friendship Heights': '20016',\n",
       " 'GWU': '20037',\n",
       " 'Garfield Heights': '20020',\n",
       " 'Gateway': '20018',\n",
       " 'Georgetown': '20007',\n",
       " 'Georgetown Reservoir': '20007',\n",
       " 'Glover Park': '20007',\n",
       " 'Grant Park': '20019',\n",
       " 'Greenway': '20019',\n",
       " 'Hawthorne': '20015',\n",
       " 'Hillandale': '20007',\n",
       " 'Hillbrook': '20016',\n",
       " 'Hillcrest': '20020',\n",
       " 'Historic Anacostia': '20020',\n",
       " 'Howard University': '20001',\n",
       " 'Ivy City': '20002',\n",
       " 'K Street': '20006',\n",
       " 'Kalorama Heights': '20009',\n",
       " 'Kenilworth': '20019',\n",
       " 'Kingman Park': '20002',\n",
       " 'Knox Hill': '20020',\n",
       " 'Lamond Riggs': '20011',\n",
       " 'Langdon': '20018',\n",
       " 'Lanier Heights': '20009',\n",
       " 'Le Droit Park': '20001',\n",
       " 'Lincoln Heights': '20019',\n",
       " 'Lincoln Park': '20002',\n",
       " 'Logan Circle': '20001',\n",
       " 'Mahaning Heights': '20016',\n",
       " 'Manor Park': '20011',\n",
       " 'Marshall Heights': '20019',\n",
       " 'Massachusetts Avenue Heights': '20007',\n",
       " 'Mayfair': '20019',\n",
       " 'McLean Gardens': '20016',\n",
       " 'Michigan Park': '20017',\n",
       " 'Mount Vernon Square': '20001',\n",
       " 'Mt. Pleasant': '20010',\n",
       " 'Navy Yard': '20003',\n",
       " 'Naylor Gardens': '20020',\n",
       " 'Near Southeast': '20003',\n",
       " 'NoMa': '20002',\n",
       " 'North Capitol Street': '20002',\n",
       " 'North Cleveland Park': '20008',\n",
       " 'North Michigan Park': '20017',\n",
       " 'North Portal Estates': '20012',\n",
       " 'Palisades': '20016',\n",
       " 'Park View': '20010',\n",
       " 'Penn Branch': '20019',\n",
       " 'Penn Quarter': '20004',\n",
       " 'Petworth': '20011',\n",
       " 'Pleasant Hill': '20020',\n",
       " 'Pleasant Plains': '20010',\n",
       " 'Queens Chapel': '20011',\n",
       " 'Randle Highlands': '20020',\n",
       " 'River Terrace': '20019',\n",
       " 'Shaw': '20001',\n",
       " 'Shepherd Park': '20012',\n",
       " 'Sheridan': '20011',\n",
       " 'Shipley Terrace': '20020',\n",
       " 'Southwest': '20024',\n",
       " 'Southwest Employment Area': '20024',\n",
       " 'Southwest Waterfront': '20024',\n",
       " 'Spring Valley': '20016',\n",
       " 'Stanton Park': '20002',\n",
       " 'Summit Park': '20009',\n",
       " 'Takoma': '20012',\n",
       " 'Tenleytown': '20016',\n",
       " 'Trinidad': '20002',\n",
       " 'Truxton Circle': '20017',\n",
       " 'Twining': '20020',\n",
       " 'Union Station': '20002',\n",
       " 'University Heights': '20017',\n",
       " 'Van Ness': '20008',\n",
       " 'Washington Highland': '20032',\n",
       " 'Wesley Heights': '20016',\n",
       " 'West End': '20037',\n",
       " 'Woodland': '20008',\n",
       " 'Woodland-Normanstone Terrace': '20008',\n",
       " 'Woodley Park': '20008',\n",
       " 'Woodridge': '20018'}"
      ]
     },
     "execution_count": 82,
     "metadata": {},
     "output_type": "execute_result"
    }
   ],
   "source": [
    "conversion"
   ]
  },
  {
   "cell_type": "code",
   "execution_count": 83,
   "metadata": {
    "collapsed": true
   },
   "outputs": [],
   "source": [
    "conversions = []\n",
    "for i in this_is_a_neighborhoods:\n",
    "    try:\n",
    "        conversions.append(conversion[i])\n",
    "    except KeyError:\n",
    "        conversions.append('99999')"
   ]
  },
  {
   "cell_type": "code",
   "execution_count": 84,
   "metadata": {
    "scrolled": true
   },
   "outputs": [
    {
     "name": "stdout",
     "output_type": "stream",
     "text": [
      "67075\n",
      "(67075, 8)\n"
     ]
    }
   ],
   "source": [
    "print(len(conversions))\n",
    "print(grouped_foursquare.shape)"
   ]
  },
  {
   "cell_type": "code",
   "execution_count": 85,
   "metadata": {
    "collapsed": true
   },
   "outputs": [],
   "source": [
    "grouped_foursquare['zip_code'] = conversions"
   ]
  },
  {
   "cell_type": "code",
   "execution_count": 86,
   "metadata": {
    "scrolled": true
   },
   "outputs": [
    {
     "data": {
      "text/plain": [
       "20001    19509\n",
       "99999    16804\n",
       "20036     6731\n",
       "20003     4237\n",
       "20007     3827\n",
       "20004     3296\n",
       "20002     3058\n",
       "20037     2834\n",
       "20009     2131\n",
       "20010     2120\n",
       "20008     1144\n",
       "20024      876\n",
       "20017      485\n",
       "20722       18\n",
       "20020        3\n",
       "20011        2\n",
       "Name: zip_code, dtype: int64"
      ]
     },
     "execution_count": 86,
     "metadata": {},
     "output_type": "execute_result"
    }
   ],
   "source": [
    "grouped_foursquare.zip_code.value_counts()"
   ]
  },
  {
   "cell_type": "code",
   "execution_count": 87,
   "metadata": {
    "collapsed": true
   },
   "outputs": [],
   "source": [
    "# some neighborhoods did not convert to zip code correctly. Due to time restrictions and \n",
    "# previous issues with geocoding, I'm simply going to drop them for now.\n",
    "grouped_foursquare = grouped_foursquare[grouped_foursquare.zip_code != '99999']"
   ]
  },
  {
   "cell_type": "code",
   "execution_count": 88,
   "metadata": {},
   "outputs": [
    {
     "data": {
      "text/plain": [
       "20001    19509\n",
       "20036     6731\n",
       "20003     4237\n",
       "20007     3827\n",
       "20004     3296\n",
       "20002     3058\n",
       "20037     2834\n",
       "20009     2131\n",
       "20010     2120\n",
       "20008     1144\n",
       "20024      876\n",
       "20017      485\n",
       "20722       18\n",
       "20020        3\n",
       "20011        2\n",
       "Name: zip_code, dtype: int64"
      ]
     },
     "execution_count": 88,
     "metadata": {},
     "output_type": "execute_result"
    }
   ],
   "source": [
    "grouped_foursquare.zip_code.value_counts()"
   ]
  },
  {
   "cell_type": "code",
   "execution_count": 92,
   "metadata": {},
   "outputs": [
    {
     "data": {
      "text/plain": [
       "Coffee Shop            2378\n",
       "Office                 2223\n",
       "Subway                 2043\n",
       "American Restaurant    1844\n",
       "Bar                    1804\n",
       "Name: venue_category, dtype: int64"
      ]
     },
     "execution_count": 92,
     "metadata": {},
     "output_type": "execute_result"
    }
   ],
   "source": [
    "grouped_foursquare.venue_category.value_counts().head()"
   ]
  },
  {
   "cell_type": "markdown",
   "metadata": {},
   "source": [
    "#### Export the altered dataframe into a file for later use"
   ]
  },
  {
   "cell_type": "code",
   "execution_count": 25,
   "metadata": {
    "collapsed": true
   },
   "outputs": [],
   "source": [
    "grouped_foursquare.to_csv('./data/foursquare.csv', sep='\\t')"
   ]
  },
  {
   "cell_type": "markdown",
   "metadata": {},
   "source": [
    "<a id=\"reimport_data\"></a>\n",
    "## Import cleaned datasets\n",
    "#### <font color=Red>Start running here to import cleaned dataframes; reading dataframes into memory and re-converting datatypes</font>"
   ]
  },
  {
   "cell_type": "code",
   "execution_count": 10,
   "metadata": {},
   "outputs": [
    {
     "data": {
      "text/plain": [
       "name             object\n",
       "latitude        float64\n",
       "longitude       float64\n",
       "address          object\n",
       "city             object\n",
       "country          object\n",
       "state            object\n",
       "zip_code          int64\n",
       "categories       object\n",
       "price            object\n",
       "rating          float64\n",
       "review_count      int64\n",
       "dtype: object"
      ]
     },
     "execution_count": 10,
     "metadata": {},
     "output_type": "execute_result"
    }
   ],
   "source": [
    "businesses_df = pd.read_csv('./data/businesses.csv', sep=\"\\t\", index_col=0, encoding='latin-1')\n",
    "businesses_df.dtypes"
   ]
  },
  {
   "cell_type": "code",
   "execution_count": 11,
   "metadata": {},
   "outputs": [],
   "source": [
    "businesses_df['zip_code'] = businesses_df['zip_code'].astype(str)"
   ]
  },
  {
   "cell_type": "code",
   "execution_count": 12,
   "metadata": {},
   "outputs": [
    {
     "data": {
      "text/html": [
       "<div>\n",
       "<style scoped>\n",
       "    .dataframe tbody tr th:only-of-type {\n",
       "        vertical-align: middle;\n",
       "    }\n",
       "\n",
       "    .dataframe tbody tr th {\n",
       "        vertical-align: top;\n",
       "    }\n",
       "\n",
       "    .dataframe thead th {\n",
       "        text-align: right;\n",
       "    }\n",
       "</style>\n",
       "<table border=\"1\" class=\"dataframe\">\n",
       "  <thead>\n",
       "    <tr style=\"text-align: right;\">\n",
       "      <th></th>\n",
       "      <th>name</th>\n",
       "      <th>latitude</th>\n",
       "      <th>longitude</th>\n",
       "      <th>address</th>\n",
       "      <th>city</th>\n",
       "      <th>country</th>\n",
       "      <th>state</th>\n",
       "      <th>zip_code</th>\n",
       "      <th>categories</th>\n",
       "      <th>price</th>\n",
       "      <th>rating</th>\n",
       "      <th>review_count</th>\n",
       "    </tr>\n",
       "  </thead>\n",
       "  <tbody>\n",
       "    <tr>\n",
       "      <th>0</th>\n",
       "      <td>Old Ebbitt Grill</td>\n",
       "      <td>38.898005</td>\n",
       "      <td>-77.033362</td>\n",
       "      <td>675 15th St NW</td>\n",
       "      <td>Washington, DC</td>\n",
       "      <td>US</td>\n",
       "      <td>DC</td>\n",
       "      <td>20005</td>\n",
       "      <td>['Bars', 'American (Traditional)', 'Breakfast ...</td>\n",
       "      <td>$$</td>\n",
       "      <td>4.0</td>\n",
       "      <td>6544</td>\n",
       "    </tr>\n",
       "    <tr>\n",
       "      <th>1</th>\n",
       "      <td>A Baked Joint</td>\n",
       "      <td>38.902411</td>\n",
       "      <td>-77.017139</td>\n",
       "      <td>440 K St NW</td>\n",
       "      <td>Washington, DC</td>\n",
       "      <td>US</td>\n",
       "      <td>DC</td>\n",
       "      <td>20001</td>\n",
       "      <td>['Coffee &amp; Tea', 'Breakfast &amp; Brunch', 'Sandwi...</td>\n",
       "      <td>$</td>\n",
       "      <td>4.5</td>\n",
       "      <td>1218</td>\n",
       "    </tr>\n",
       "    <tr>\n",
       "      <th>2</th>\n",
       "      <td>Le Diplomate</td>\n",
       "      <td>38.911359</td>\n",
       "      <td>-77.031575</td>\n",
       "      <td>1601 14th St NW</td>\n",
       "      <td>Washington, DC</td>\n",
       "      <td>US</td>\n",
       "      <td>DC</td>\n",
       "      <td>20009</td>\n",
       "      <td>['Brasseries', 'French', 'Cafes']</td>\n",
       "      <td>$$$</td>\n",
       "      <td>4.0</td>\n",
       "      <td>2449</td>\n",
       "    </tr>\n",
       "    <tr>\n",
       "      <th>3</th>\n",
       "      <td>Rasika</td>\n",
       "      <td>38.895008</td>\n",
       "      <td>-77.021286</td>\n",
       "      <td>633 D St NW</td>\n",
       "      <td>Washington, DC</td>\n",
       "      <td>US</td>\n",
       "      <td>DC</td>\n",
       "      <td>20004</td>\n",
       "      <td>['Indian']</td>\n",
       "      <td>$$$</td>\n",
       "      <td>4.5</td>\n",
       "      <td>2633</td>\n",
       "    </tr>\n",
       "    <tr>\n",
       "      <th>4</th>\n",
       "      <td>Matchbox - Chinatown</td>\n",
       "      <td>38.900050</td>\n",
       "      <td>-77.022540</td>\n",
       "      <td>713 H St NW</td>\n",
       "      <td>Washington, DC</td>\n",
       "      <td>US</td>\n",
       "      <td>DC</td>\n",
       "      <td>20001</td>\n",
       "      <td>['Pizza', 'American (New)']</td>\n",
       "      <td>$$</td>\n",
       "      <td>4.0</td>\n",
       "      <td>2673</td>\n",
       "    </tr>\n",
       "  </tbody>\n",
       "</table>\n",
       "</div>"
      ],
      "text/plain": [
       "                   name   latitude  longitude          address  \\\n",
       "0      Old Ebbitt Grill  38.898005 -77.033362   675 15th St NW   \n",
       "1         A Baked Joint  38.902411 -77.017139      440 K St NW   \n",
       "2          Le Diplomate  38.911359 -77.031575  1601 14th St NW   \n",
       "3                Rasika  38.895008 -77.021286      633 D St NW   \n",
       "4  Matchbox - Chinatown  38.900050 -77.022540      713 H St NW   \n",
       "\n",
       "             city country state zip_code  \\\n",
       "0  Washington, DC      US    DC    20005   \n",
       "1  Washington, DC      US    DC    20001   \n",
       "2  Washington, DC      US    DC    20009   \n",
       "3  Washington, DC      US    DC    20004   \n",
       "4  Washington, DC      US    DC    20001   \n",
       "\n",
       "                                          categories price  rating  \\\n",
       "0  ['Bars', 'American (Traditional)', 'Breakfast ...    $$     4.0   \n",
       "1  ['Coffee & Tea', 'Breakfast & Brunch', 'Sandwi...     $     4.5   \n",
       "2                  ['Brasseries', 'French', 'Cafes']   $$$     4.0   \n",
       "3                                         ['Indian']   $$$     4.5   \n",
       "4                        ['Pizza', 'American (New)']    $$     4.0   \n",
       "\n",
       "   review_count  \n",
       "0          6544  \n",
       "1          1218  \n",
       "2          2449  \n",
       "3          2633  \n",
       "4          2673  "
      ]
     },
     "execution_count": 12,
     "metadata": {},
     "output_type": "execute_result"
    }
   ],
   "source": [
    "businesses_df.head()"
   ]
  },
  {
   "cell_type": "code",
   "execution_count": 13,
   "metadata": {
    "scrolled": true
   },
   "outputs": [
    {
     "data": {
      "text/plain": [
       "user_id                     int64\n",
       "venue_id                   object\n",
       "utc_time           datetime64[ns]\n",
       "latitude                  float64\n",
       "longitude                 float64\n",
       "venue_category             object\n",
       "country                    object\n",
       "coffee_shop_bin             int64\n",
       "zip_code                   object\n",
       "dtype: object"
      ]
     },
     "execution_count": 13,
     "metadata": {},
     "output_type": "execute_result"
    }
   ],
   "source": [
    "foursquare_df = pd.read_csv('./data/foursquare.csv', sep=\"\\t\", index_col=0)\n",
    "foursquare_df['utc_time'] = pd.to_datetime(foursquare_df['utc_time'], infer_datetime_format=True)\n",
    "foursquare_df['zip_code'] = foursquare_df['zip_code'].astype(str)\n",
    "foursquare_df.dtypes\n",
    "# foursquare_df.shape"
   ]
  },
  {
   "cell_type": "markdown",
   "metadata": {},
   "source": [
    "<a id=\"explore_data\"></a>"
   ]
  },
  {
   "cell_type": "markdown",
   "metadata": {},
   "source": [
    "## Explore Data"
   ]
  },
  {
   "cell_type": "markdown",
   "metadata": {},
   "source": [
    "### Hypothesis 1: Find where people who go to coffee shops go on the same day, and then find a location with a lot of this type of establishment.\n",
    "\n",
    "- First, I'll need to pick which categories I'll include, and then transcribe them to individual columns. Each row will be one day for one user, and the values for each category column will be 1 if the person visited this type of category on that day, and 0 if not."
   ]
  },
  {
   "cell_type": "code",
   "execution_count": 14,
   "metadata": {
    "scrolled": false
   },
   "outputs": [
    {
     "data": {
      "text/plain": [
       "<matplotlib.axes._subplots.AxesSubplot at 0x230959d8358>"
      ]
     },
     "execution_count": 14,
     "metadata": {},
     "output_type": "execute_result"
    },
    {
     "data": {
      "image/png": "[encoded data removed]",
      "text/plain": [
       "<Figure size 1080x576 with 1 Axes>"
      ]
     },
     "metadata": {},
     "output_type": "display_data"
    }
   ],
   "source": [
    "foursquare_df.venue_category.value_counts().head(7).plot(kind='bar', figsize=(15, 8))"
   ]
  },
  {
   "cell_type": "code",
   "execution_count": 15,
   "metadata": {
    "scrolled": true
   },
   "outputs": [
    {
     "data": {
      "text/plain": [
       "array(['Shoe Store', 'Lounge', 'Bar', 'Sandwich Place',\n",
       "       'Baseball Stadium', 'Zoo', 'Greek Restaurant', 'Bank',\n",
       "       'Train Station', 'Neighborhood', 'American Restaurant',\n",
       "       'Coffee Shop', 'Tech Startup', 'Seafood Restaurant', 'Subway',\n",
       "       'Pizza Place', 'History Museum', 'Mall', 'Hotel',\n",
       "       'Government Building', 'Department Store', 'Gym / Fitness Center',\n",
       "       'Indian Restaurant', 'Light Rail', 'Sports Bar', 'Caf\\x1a\\x1a',\n",
       "       'Cocktail Bar', 'Yoga Studio', 'Clothing Store', 'Military Base',\n",
       "       'Bookstore', 'Gym', 'Park', 'Plaza', 'Whisky Bar', 'Office',\n",
       "       'Community College', 'Museum', 'Mediterranean Restaurant', 'Pub',\n",
       "       'Breakfast Spot', 'High School', 'Nightlife Spot', 'Grocery Store',\n",
       "       'Steakhouse', \"Men's Store\", 'Music Venue', 'Hotel Bar', 'Theater',\n",
       "       'Dive Bar', 'Italian Restaurant', 'Fast Food Restaurant',\n",
       "       'Liquor Store', 'Turkish Restaurant', 'Ice Cream Shop',\n",
       "       'Drugstore / Pharmacy', 'Cafeteria', 'Arts & Crafts Store',\n",
       "       'Moving Target', 'University', 'Performing Arts Venue',\n",
       "       'Speakeasy', 'Residential Building (Apartment / Condo)',\n",
       "       'Basketball Stadium', 'Convenience Store', 'Road', 'Train',\n",
       "       'Building', 'College Classroom', 'Home (private)', 'Bridge',\n",
       "       'Coworking Space', 'Food Truck', 'Library', 'Convention Center',\n",
       "       'Bus Line', 'Capitol Building', 'Auditorium',\n",
       "       'Latin American Restaurant', 'Burger Joint', 'Thai Restaurant',\n",
       "       'Fried Chicken Joint', 'Caf\\x1a', 'Bakery', 'Mexican Restaurant',\n",
       "       'Chinese Restaurant', 'Post Office', 'Miscellaneous Shop', 'City',\n",
       "       'Courthouse', 'General College & University', 'Salon / Barbershop',\n",
       "       'Multiplex', 'New American Restaurant', 'Tapas Restaurant',\n",
       "       'College Academic Building', \"Doctor's Office\",\n",
       "       'Electronics Store', 'Church', 'Sporting Goods Shop',\n",
       "       'Deli / Bodega', 'Brewery', 'Pool Hall', 'Dim Sum Restaurant',\n",
       "       'College Residence Hall', 'Dog Run', 'Diner', 'Farmers Market',\n",
       "       'French Restaurant', 'Salad Place', 'Harbor / Marina',\n",
       "       'Art Museum', 'Hardware Store', 'Beer Garden', 'Cosmetics Shop',\n",
       "       'Wine Shop', 'Police Station', 'Monument / Landmark',\n",
       "       'Cupcake Shop', 'Garden', 'Korean Restaurant', 'Bike Shop',\n",
       "       'Boutique', 'Gastropub', 'Asian Restaurant', 'Other Nightlife',\n",
       "       'Bowling Alley', 'Nightclub', 'Event Space', 'African Restaurant',\n",
       "       'Indie Movie Theater', 'Hookah Bar', 'Field', 'Wine Bar',\n",
       "       'Scenic Lookout', 'Southern / Soul Food Restaurant', 'Bus Station',\n",
       "       'Rental Car Location', 'Veterinarian', 'Laundry Service',\n",
       "       'Sushi Restaurant', 'Art Gallery', \"Women's Store\",\n",
       "       'Hot Dog Joint', 'Taxi', 'Accessories Store', 'Jazz Club',\n",
       "       'Falafel Restaurant', 'BBQ Joint', 'Bagel Shop', 'Student Center',\n",
       "       'German Restaurant', 'Frozen Yogurt', 'Dessert Shop', 'Tea Room',\n",
       "       'Wings Joint', 'College Library', 'Cemetery', 'Donut Shop',\n",
       "       'General Entertainment', 'College Engineering Building',\n",
       "       'Furniture / Home Store', 'Design Studio', 'Rock Club',\n",
       "       'Spa / Massage', 'Vegetarian / Vegan Restaurant', 'Hospital',\n",
       "       'Spiritual Center', 'Brazilian Restaurant', 'Karaoke Bar',\n",
       "       'Restaurant', 'Caribbean Restaurant', 'Other Great Outdoors',\n",
       "       'Nail Salon', 'Food & Drink Shop', 'Gas Station / Garage',\n",
       "       'Tanning Salon', 'General Travel', 'College Quad', 'Flea Market',\n",
       "       'Historic Site', 'Vietnamese Restaurant', 'Conference Room',\n",
       "       'Professional & Other Places', 'Food Court', 'Boat or Ferry',\n",
       "       'Parking', 'Law School', 'Dance Studio', \"Dentist's Office\",\n",
       "       'Juice Bar', 'Thrift / Vintage Store', 'Middle Eastern Restaurant',\n",
       "       'Bike Rental / Bike Share', 'Gift Shop', 'Strip Club',\n",
       "       'Automotive Shop', 'Gourmet Shop', 'Temple', 'Spanish Restaurant',\n",
       "       'Theme Park', 'Record Shop', 'Smoke Shop', 'Elementary School',\n",
       "       'Soup Place', 'Medical Center', 'Trade School',\n",
       "       'Japanese Restaurant', 'Embassy / Consulate', 'College Auditorium',\n",
       "       'Hiking Trail', 'Taco Place', 'Sculpture Garden',\n",
       "       'Paper / Office Supplies Store', 'College Basketball Court',\n",
       "       'Butcher', 'Ramen /  Noodle House', 'Pool', 'Fire Station', 'Fair',\n",
       "       'Snack Place', 'College Cafeteria', 'City Hall', 'School',\n",
       "       'Platform', 'Flower Shop', 'Housing Development',\n",
       "       'Ethiopian Restaurant', 'Optical Shop', 'Comedy Club',\n",
       "       'Eastern European Restaurant', 'College Administrative Building',\n",
       "       'Financial or Legal Service', 'Medical School', 'Climbing Gym',\n",
       "       'College Arts Building', 'Hockey Arena', 'Food', 'Kids Store',\n",
       "       'Winery', 'College Science Building', 'Playground',\n",
       "       'Baseball Field', 'Cajun / Creole Restaurant', 'Fish Market',\n",
       "       'Cuban Restaurant', 'Moroccan Restaurant', 'Swiss Restaurant',\n",
       "       'Concert Hall', 'Opera House', 'Burrito Place', 'Plane',\n",
       "       'Tattoo Parlor', 'Vineyard', 'Campground', 'Arcade',\n",
       "       'South American Restaurant', 'Fraternity House', 'Aquarium',\n",
       "       'Portuguese Restaurant', 'College Lab', 'Tennis Court', 'Stadium',\n",
       "       'Camera Store', 'Travel Lounge', 'Track Stadium', 'Farm',\n",
       "       'Pet Store', 'Track', 'Synagogue', 'Lingerie Store',\n",
       "       'Meeting Room', 'Ski Area', 'Jewelry Store',\n",
       "       'College Communications Building', 'Movie Theater', 'Trails',\n",
       "       'College Bookstore', 'Hobby Shop', 'Gaming Cafe', 'Hostel',\n",
       "       'College Rec Center', 'Cheese Shop', 'Antique Shop',\n",
       "       'Voting Booth', 'College Gym', 'Toy / Game Store', 'Shrine',\n",
       "       'Athletics & Sports', 'Hot Spring', 'Ski Trail', 'Gym Pool',\n",
       "       'Racetrack', 'Casino', 'Ski Chalet', 'Candy Store',\n",
       "       'College & University', 'Bed & Breakfast', 'River',\n",
       "       'Sorority House', 'Non-Profit', 'College Technology Building',\n",
       "       'Skate Park', 'Soccer Field', 'Basketball Court', 'Bridal Shop',\n",
       "       'Science Museum', 'Athletic & Sport', 'Rest Area',\n",
       "       'Arts & Entertainment', 'Factory', 'Garden Center', 'Skating Rink',\n",
       "       'Outdoors & Recreation', 'Public Art', 'Tailor Shop',\n",
       "       'Motorcycle Shop', 'Shop & Service', 'Ski Lodge',\n",
       "       'Photography Lab', 'Molecular Gastronomy Restaurant',\n",
       "       'Animal Shelter', 'Water Park', 'Paella Restaurant',\n",
       "       'College Theater', 'Argentinian Restaurant', 'Mobile Phone Shop',\n",
       "       'Yogurt', 'College Stadium', 'Tourist Information Center', 'Motel',\n",
       "       'Radio Station', 'Fish & Chips Shop', 'Hockey Field', 'Market',\n",
       "       'Assisted Living', 'Pier', 'Video Store', 'Volleyball Court'],\n",
       "      dtype=object)"
      ]
     },
     "execution_count": 15,
     "metadata": {},
     "output_type": "execute_result"
    }
   ],
   "source": [
    "# first, list all of the columns\n",
    "foursquare_df.venue_category.unique()"
   ]
  },
  {
   "cell_type": "code",
   "execution_count": 16,
   "metadata": {},
   "outputs": [
    {
     "data": {
      "text/plain": [
       "array(['Coffee Shop', 'Office', 'Subway', 'American Restaurant', 'Bar',\n",
       "       'Government Building', 'Hotel', 'Train Station', 'Gym',\n",
       "       'Grocery Store', 'Home (private)',\n",
       "       'Residential Building (Apartment / Condo)', 'Park',\n",
       "       'Mexican Restaurant', 'Sandwich Place', 'Lounge', 'Building',\n",
       "       'Pizza Place', 'Pub', 'Neighborhood', 'Baseball Stadium', 'Road',\n",
       "       'Italian Restaurant'], dtype=object)"
      ]
     },
     "execution_count": 16,
     "metadata": {},
     "output_type": "execute_result"
    }
   ],
   "source": [
    "# for now, I'll just use the top 23 categories as my features\n",
    "columns=foursquare_df.venue_category.value_counts().head(23).index.values\n",
    "columns"
   ]
  },
  {
   "cell_type": "code",
   "execution_count": 17,
   "metadata": {},
   "outputs": [
    {
     "data": {
      "text/html": [
       "<div>\n",
       "<style scoped>\n",
       "    .dataframe tbody tr th:only-of-type {\n",
       "        vertical-align: middle;\n",
       "    }\n",
       "\n",
       "    .dataframe tbody tr th {\n",
       "        vertical-align: top;\n",
       "    }\n",
       "\n",
       "    .dataframe thead th {\n",
       "        text-align: right;\n",
       "    }\n",
       "</style>\n",
       "<table border=\"1\" class=\"dataframe\">\n",
       "  <thead>\n",
       "    <tr style=\"text-align: right;\">\n",
       "      <th></th>\n",
       "      <th>user_id</th>\n",
       "      <th>utc_time_full</th>\n",
       "    </tr>\n",
       "  </thead>\n",
       "  <tbody>\n",
       "    <tr>\n",
       "      <th>0</th>\n",
       "      <td>6</td>\n",
       "      <td>2013-04-03 16:49:50</td>\n",
       "    </tr>\n",
       "    <tr>\n",
       "      <th>1</th>\n",
       "      <td>6</td>\n",
       "      <td>2012-10-18 16:01:06</td>\n",
       "    </tr>\n",
       "    <tr>\n",
       "      <th>2</th>\n",
       "      <td>6</td>\n",
       "      <td>2013-05-22 20:16:02</td>\n",
       "    </tr>\n",
       "    <tr>\n",
       "      <th>3</th>\n",
       "      <td>6</td>\n",
       "      <td>2013-02-27 18:10:19</td>\n",
       "    </tr>\n",
       "    <tr>\n",
       "      <th>4</th>\n",
       "      <td>6</td>\n",
       "      <td>2012-11-28 15:04:14</td>\n",
       "    </tr>\n",
       "  </tbody>\n",
       "</table>\n",
       "</div>"
      ],
      "text/plain": [
       "   user_id       utc_time_full\n",
       "0        6 2013-04-03 16:49:50\n",
       "1        6 2012-10-18 16:01:06\n",
       "2        6 2013-05-22 20:16:02\n",
       "3        6 2013-02-27 18:10:19\n",
       "4        6 2012-11-28 15:04:14"
      ]
     },
     "execution_count": 17,
     "metadata": {},
     "output_type": "execute_result"
    }
   ],
   "source": [
    "foursquare_days_df = foursquare_df.rename(columns={'utc_time':'utc_time_full'}).groupby([foursquare_df.user_id, foursquare_df.utc_time.dt.day]).nth(0).reset_index(drop=True)\n",
    "foursquare_days_df.drop(['venue_id', 'latitude', 'longitude', 'venue_category', 'country', 'coffee_shop_bin', 'zip_code'], axis=1, inplace=True)\n",
    "foursquare_days_df.head()"
   ]
  },
  {
   "cell_type": "code",
   "execution_count": 18,
   "metadata": {},
   "outputs": [],
   "source": [
    "foursquare_df_temp = foursquare_df[foursquare_df.venue_category.isin(columns)]"
   ]
  },
  {
   "cell_type": "code",
   "execution_count": 19,
   "metadata": {},
   "outputs": [],
   "source": [
    "foursquare_days_df = pd.read_csv('./data/foursquare_days_df.csv')"
   ]
  },
  {
   "cell_type": "code",
   "execution_count": 606,
   "metadata": {
    "scrolled": true
   },
   "outputs": [
    {
     "data": {
      "text/plain": [
       "964.9314014144293"
      ]
     },
     "execution_count": 606,
     "metadata": {},
     "output_type": "execute_result"
    }
   ],
   "source": [
    "# DON'T RUN THIS! :)\n",
    "# takes 15+ minutes. Running the cell block directly above this will import the same dataset\n",
    "# as this code block produces.\n",
    "\n",
    "# transposes check in data w/ user/date as primary key and 1/0 for whether \n",
    "# or not the user visited said category\n",
    "for column in columns:\n",
    "    foursquare_days_df[column] = foursquare_days_df.apply(lambda row: 1 if foursquare_df_temp[(foursquare_df_temp['user_id'] == row['user_id']) & (foursquare_df_temp.utc_time.dt.day == row['utc_time_full'].day) & (foursquare_df_temp.venue_category == column)].venue_category.count() > 0 else 0, axis=1)\n",
    "    foursquare_df_temp = foursquare_df_temp[foursquare_df_temp['venue_category'] != column]"
   ]
  },
  {
   "cell_type": "code",
   "execution_count": 20,
   "metadata": {},
   "outputs": [
    {
     "data": {
      "text/html": [
       "<div>\n",
       "<style scoped>\n",
       "    .dataframe tbody tr th:only-of-type {\n",
       "        vertical-align: middle;\n",
       "    }\n",
       "\n",
       "    .dataframe tbody tr th {\n",
       "        vertical-align: top;\n",
       "    }\n",
       "\n",
       "    .dataframe thead th {\n",
       "        text-align: right;\n",
       "    }\n",
       "</style>\n",
       "<table border=\"1\" class=\"dataframe\">\n",
       "  <thead>\n",
       "    <tr style=\"text-align: right;\">\n",
       "      <th></th>\n",
       "      <th>Unnamed: 0</th>\n",
       "      <th>user_id</th>\n",
       "      <th>utc_time_full</th>\n",
       "      <th>Coffee Shop</th>\n",
       "      <th>Office</th>\n",
       "      <th>Subway</th>\n",
       "      <th>American Restaurant</th>\n",
       "      <th>Bar</th>\n",
       "      <th>Government Building</th>\n",
       "      <th>Hotel</th>\n",
       "      <th>...</th>\n",
       "      <th>Mexican Restaurant</th>\n",
       "      <th>Sandwich Place</th>\n",
       "      <th>Lounge</th>\n",
       "      <th>Building</th>\n",
       "      <th>Pizza Place</th>\n",
       "      <th>Pub</th>\n",
       "      <th>Neighborhood</th>\n",
       "      <th>Baseball Stadium</th>\n",
       "      <th>Road</th>\n",
       "      <th>Italian Restaurant</th>\n",
       "    </tr>\n",
       "  </thead>\n",
       "  <tbody>\n",
       "    <tr>\n",
       "      <th>0</th>\n",
       "      <td>0</td>\n",
       "      <td>6</td>\n",
       "      <td>2013-04-03 16:49:50</td>\n",
       "      <td>0</td>\n",
       "      <td>0</td>\n",
       "      <td>0</td>\n",
       "      <td>0</td>\n",
       "      <td>0</td>\n",
       "      <td>1</td>\n",
       "      <td>0</td>\n",
       "      <td>...</td>\n",
       "      <td>0</td>\n",
       "      <td>0</td>\n",
       "      <td>0</td>\n",
       "      <td>0</td>\n",
       "      <td>0</td>\n",
       "      <td>0</td>\n",
       "      <td>0</td>\n",
       "      <td>0</td>\n",
       "      <td>0</td>\n",
       "      <td>0</td>\n",
       "    </tr>\n",
       "    <tr>\n",
       "      <th>1</th>\n",
       "      <td>1</td>\n",
       "      <td>6</td>\n",
       "      <td>2012-10-18 16:01:06</td>\n",
       "      <td>0</td>\n",
       "      <td>0</td>\n",
       "      <td>0</td>\n",
       "      <td>0</td>\n",
       "      <td>0</td>\n",
       "      <td>1</td>\n",
       "      <td>0</td>\n",
       "      <td>...</td>\n",
       "      <td>0</td>\n",
       "      <td>0</td>\n",
       "      <td>0</td>\n",
       "      <td>0</td>\n",
       "      <td>0</td>\n",
       "      <td>0</td>\n",
       "      <td>0</td>\n",
       "      <td>0</td>\n",
       "      <td>0</td>\n",
       "      <td>0</td>\n",
       "    </tr>\n",
       "    <tr>\n",
       "      <th>2</th>\n",
       "      <td>2</td>\n",
       "      <td>6</td>\n",
       "      <td>2013-05-22 20:16:02</td>\n",
       "      <td>1</td>\n",
       "      <td>0</td>\n",
       "      <td>0</td>\n",
       "      <td>0</td>\n",
       "      <td>0</td>\n",
       "      <td>0</td>\n",
       "      <td>0</td>\n",
       "      <td>...</td>\n",
       "      <td>0</td>\n",
       "      <td>0</td>\n",
       "      <td>0</td>\n",
       "      <td>0</td>\n",
       "      <td>0</td>\n",
       "      <td>0</td>\n",
       "      <td>0</td>\n",
       "      <td>0</td>\n",
       "      <td>0</td>\n",
       "      <td>0</td>\n",
       "    </tr>\n",
       "    <tr>\n",
       "      <th>3</th>\n",
       "      <td>3</td>\n",
       "      <td>6</td>\n",
       "      <td>2013-02-27 18:10:19</td>\n",
       "      <td>0</td>\n",
       "      <td>0</td>\n",
       "      <td>0</td>\n",
       "      <td>0</td>\n",
       "      <td>1</td>\n",
       "      <td>0</td>\n",
       "      <td>1</td>\n",
       "      <td>...</td>\n",
       "      <td>0</td>\n",
       "      <td>0</td>\n",
       "      <td>0</td>\n",
       "      <td>0</td>\n",
       "      <td>0</td>\n",
       "      <td>0</td>\n",
       "      <td>0</td>\n",
       "      <td>0</td>\n",
       "      <td>0</td>\n",
       "      <td>0</td>\n",
       "    </tr>\n",
       "    <tr>\n",
       "      <th>4</th>\n",
       "      <td>4</td>\n",
       "      <td>6</td>\n",
       "      <td>2012-11-28 15:04:14</td>\n",
       "      <td>0</td>\n",
       "      <td>1</td>\n",
       "      <td>0</td>\n",
       "      <td>0</td>\n",
       "      <td>0</td>\n",
       "      <td>1</td>\n",
       "      <td>0</td>\n",
       "      <td>...</td>\n",
       "      <td>0</td>\n",
       "      <td>0</td>\n",
       "      <td>0</td>\n",
       "      <td>0</td>\n",
       "      <td>0</td>\n",
       "      <td>0</td>\n",
       "      <td>0</td>\n",
       "      <td>0</td>\n",
       "      <td>0</td>\n",
       "      <td>0</td>\n",
       "    </tr>\n",
       "  </tbody>\n",
       "</table>\n",
       "<p>5 rows × 26 columns</p>\n",
       "</div>"
      ],
      "text/plain": [
       "   Unnamed: 0  user_id        utc_time_full  Coffee Shop  Office  Subway  \\\n",
       "0           0        6  2013-04-03 16:49:50            0       0       0   \n",
       "1           1        6  2012-10-18 16:01:06            0       0       0   \n",
       "2           2        6  2013-05-22 20:16:02            1       0       0   \n",
       "3           3        6  2013-02-27 18:10:19            0       0       0   \n",
       "4           4        6  2012-11-28 15:04:14            0       1       0   \n",
       "\n",
       "   American Restaurant  Bar  Government Building  Hotel         ...          \\\n",
       "0                    0    0                    1      0         ...           \n",
       "1                    0    0                    1      0         ...           \n",
       "2                    0    0                    0      0         ...           \n",
       "3                    0    1                    0      1         ...           \n",
       "4                    0    0                    1      0         ...           \n",
       "\n",
       "   Mexican Restaurant  Sandwich Place  Lounge  Building  Pizza Place  Pub  \\\n",
       "0                   0               0       0         0            0    0   \n",
       "1                   0               0       0         0            0    0   \n",
       "2                   0               0       0         0            0    0   \n",
       "3                   0               0       0         0            0    0   \n",
       "4                   0               0       0         0            0    0   \n",
       "\n",
       "   Neighborhood  Baseball Stadium  Road  Italian Restaurant  \n",
       "0             0                 0     0                   0  \n",
       "1             0                 0     0                   0  \n",
       "2             0                 0     0                   0  \n",
       "3             0                 0     0                   0  \n",
       "4             0                 0     0                   0  \n",
       "\n",
       "[5 rows x 26 columns]"
      ]
     },
     "execution_count": 20,
     "metadata": {},
     "output_type": "execute_result"
    }
   ],
   "source": [
    "foursquare_days_df.head()"
   ]
  },
  {
   "cell_type": "code",
   "execution_count": 21,
   "metadata": {},
   "outputs": [
    {
     "data": {
      "text/plain": [
       "0    15507\n",
       "1     1930\n",
       "Name: Coffee Shop, dtype: int64"
      ]
     },
     "execution_count": 21,
     "metadata": {},
     "output_type": "execute_result"
    }
   ],
   "source": [
    "foursquare_days_df['Coffee Shop'].value_counts()"
   ]
  },
  {
   "cell_type": "code",
   "execution_count": 22,
   "metadata": {},
   "outputs": [
    {
     "data": {
      "text/plain": [
       "(17437, 26)"
      ]
     },
     "execution_count": 22,
     "metadata": {},
     "output_type": "execute_result"
    }
   ],
   "source": [
    "foursquare_days_df.shape "
   ]
  },
  {
   "cell_type": "markdown",
   "metadata": {},
   "source": [
    "#### foursquare_days_df is now formatted and ready for a decision tree (Machine Learning section)"
   ]
  },
  {
   "cell_type": "markdown",
   "metadata": {},
   "source": [
    "### Hypothesis 2: compare various factors of each zip code to the check in count to find a linear relationship. If we can find a linear relationship, we can use this to determine the best zip code for maximizing coffee shop check-ins."
   ]
  },
  {
   "cell_type": "code",
   "execution_count": 23,
   "metadata": {},
   "outputs": [
    {
     "data": {
      "text/plain": [
       "<matplotlib.axes._subplots.AxesSubplot at 0x230961bd9e8>"
      ]
     },
     "execution_count": 23,
     "metadata": {},
     "output_type": "execute_result"
    },
    {
     "data": {
      "image/png": "[encoded data removed]",
      "text/plain": [
       "<Figure size 432x288 with 1 Axes>"
      ]
     },
     "metadata": {},
     "output_type": "display_data"
    }
   ],
   "source": [
    "foursquare_df.zip_code.value_counts().plot(kind='bar')"
   ]
  },
  {
   "cell_type": "code",
   "execution_count": 24,
   "metadata": {},
   "outputs": [],
   "source": [
    "coffee_checkins_perzip = foursquare_df[foursquare_df.venue_category == \"Coffee Shop\"].groupby(['zip_code']).size().reset_index(name='coffeeshop_counts')"
   ]
  },
  {
   "cell_type": "code",
   "execution_count": 25,
   "metadata": {},
   "outputs": [],
   "source": [
    "checkins_and_zipdata_df = coffee_checkins_perzip.merge(zipfeatures_df, left_on='zip_code', right_on='zip_code')"
   ]
  },
  {
   "cell_type": "code",
   "execution_count": 26,
   "metadata": {},
   "outputs": [
    {
     "data": {
      "text/plain": [
       "coffeeshop_counts           1.000000\n",
       "estimate_total              0.244147\n",
       "median_age                 -0.362762\n",
       "mean_income                -0.108608\n",
       "percent_public_transport   -0.244719\n",
       "Name: coffeeshop_counts, dtype: float64"
      ]
     },
     "execution_count": 26,
     "metadata": {},
     "output_type": "execute_result"
    }
   ],
   "source": [
    "checkins_and_zipdata_df.corr().coffeeshop_counts"
   ]
  },
  {
   "cell_type": "code",
   "execution_count": 27,
   "metadata": {
    "scrolled": false
   },
   "outputs": [
    {
     "data": {
      "text/plain": [
       "<seaborn.axisgrid.PairGrid at 0x230961bd4e0>"
      ]
     },
     "execution_count": 27,
     "metadata": {},
     "output_type": "execute_result"
    },
    {
     "data": {
      "image/png": "[encoded data removed]",
      "text/plain": [
       "<Figure size 900x900 with 30 Axes>"
      ]
     },
     "metadata": {},
     "output_type": "display_data"
    }
   ],
   "source": [
    "import seaborn as sns\n",
    "sns.pairplot(checkins_and_zipdata_df.corr(), kind='reg')\n",
    "# sns.regplot(x=\"estimate_total\", y=\"coffeeshop_counts\", data=checkins_and_zipdata_df);\n",
    "# sns.regplot(x=\"mean_income\", y=\"coffeeshop_counts\", data=checkins_and_zipdata_df);\n",
    "# sns.regplot(x=\"median_age\", y=\"coffeeshop_counts\", data=checkins_and_zipdata_df);"
   ]
  },
  {
   "cell_type": "markdown",
   "metadata": {},
   "source": [
    "<a id=\"explore_data_old\"></a>"
   ]
  },
  {
   "cell_type": "markdown",
   "metadata": {},
   "source": [
    "## Explore Data (Old Hypotheses)"
   ]
  },
  {
   "cell_type": "markdown",
   "metadata": {},
   "source": [
    "#### See where people are generally coming from when they go to coffee shops"
   ]
  },
  {
   "cell_type": "code",
   "execution_count": 28,
   "metadata": {
    "scrolled": false
   },
   "outputs": [
    {
     "data": {
      "text/plain": [
       "<matplotlib.axes._subplots.AxesSubplot at 0x1e07f17df60>"
      ]
     },
     "execution_count": 28,
     "metadata": {},
     "output_type": "execute_result"
    },
    {
     "data": {
      "image/png": "[encoded data removed]",
      "text/plain": [
       "<Figure size 1080x576 with 1 Axes>"
      ]
     },
     "metadata": {},
     "output_type": "display_data"
    }
   ],
   "source": [
    "# View top 10 categories of checkins on days that also contain a coffee shop checkin\n",
    "foursquare_df[(foursquare_df.coffee_shop_bin==1) & (foursquare_df.venue_category != 'Coffee Shop')].venue_category.value_counts().head(7).plot(kind='bar', figsize=(15, 8))"
   ]
  },
  {
   "cell_type": "markdown",
   "metadata": {
    "collapsed": true
   },
   "source": [
    "#### Next I'd like to view coffee shops plotted on an interactive map."
   ]
  },
  {
   "cell_type": "code",
   "execution_count": 29,
   "metadata": {},
   "outputs": [],
   "source": [
    "import folium\n",
    "\n",
    "map_coffee_df = businesses_df[businesses_df.categories.astype(str).str.contains('Coffee')]\n",
    "\n",
    "folium_map = folium.Map(location=[38.9031434, -77.0232301],\n",
    "                        zoom_start=13)\n",
    "\n",
    "for index, row in map_coffee_df.iterrows():\n",
    "    folium.Marker([row[\"latitude\"], row[\"longitude\"]], popup=folium.Popup(row['name'], parse_html=True)).add_to(folium_map)"
   ]
  },
  {
   "cell_type": "code",
   "execution_count": 30,
   "metadata": {
    "scrolled": false
   },
   "outputs": [
    {
     "data": {
      "text/html": [
       "<div style=\"width:100%;\"><div style=\"position:relative;width:100%;height:0;padding-bottom:60%;\"><iframe src=\"data:text/html;charset=utf-8;base64,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\" style=\"position:absolute;width:100%;height:100%;left:0;top:0;border:none !important;\" allowfullscreen webkitallowfullscreen mozallowfullscreen></iframe></div></div>"
      ],
      "text/plain": [
       "<folium.folium.Map at 0x1e07ac6a9e8>"
      ]
     },
     "execution_count": 30,
     "metadata": {},
     "output_type": "execute_result"
    }
   ],
   "source": [
    "folium_map"
   ]
  },
  {
   "cell_type": "markdown",
   "metadata": {},
   "source": [
    "#### Next I want to find a count of coffee shops by zip code and explore population data viability on determining coffee shop location"
   ]
  },
  {
   "cell_type": "code",
   "execution_count": 31,
   "metadata": {},
   "outputs": [
    {
     "data": {
      "text/plain": [
       "(390, 12)"
      ]
     },
     "execution_count": 31,
     "metadata": {},
     "output_type": "execute_result"
    }
   ],
   "source": [
    "# get all businesses w/ category containing \"Coffee\"\n",
    "coffeeshops_byzip_df = businesses_df[businesses_df.categories.astype(str).str.contains('Coffee')]\n",
    "coffeeshops_byzip_df.shape"
   ]
  },
  {
   "cell_type": "code",
   "execution_count": 33,
   "metadata": {
    "collapsed": true
   },
   "outputs": [],
   "source": [
    "# new df containing each zip code and the count of coffee shops\n",
    "coffeeshop_percap_df = coffeeshops_byzip_df.groupby('zip_code').zip_code.agg(['count']).sort_values('count', ascending=False)\n",
    "\n",
    "# merge previous dataframe with population growth dataframe\n",
    "coffeeshop_percap_df = coffeeshop_percap_df.merge(popul2016_df, left_index=True, right_on=\"zip_code\")\n",
    "coffeeshop_percap_df = coffeeshop_percap_df.set_index('zip_code')\n",
    "\n",
    "# add calculated field for rate of population change\n",
    "coffeeshop_percap_df['pop_change_rate'] = (coffeeshop_percap_df['estimate_total_2016'] - \\\n",
    "                                            coffeeshop_percap_df['estimate_total_2015']) / \\\n",
    "                                            coffeeshop_percap_df['estimate_total_2015']\n",
    "\n",
    "# display some rows from newly constructed df, sorted by population rate of change\n",
    "coffeeshop_percap_df[coffeeshop_percap_df['count'] > 5].sort_values('pop_change_rate')"
   ]
  },
  {
   "cell_type": "markdown",
   "metadata": {
    "collapsed": true
   },
   "source": [
    "<a id=\"machine_learning\"></a>"
   ]
  },
  {
   "cell_type": "markdown",
   "metadata": {},
   "source": [
    "## Part 4: Machine Learning"
   ]
  },
  {
   "cell_type": "markdown",
   "metadata": {},
   "source": [
    "<a id=\"hyp_1\"></a>"
   ]
  },
  {
   "cell_type": "markdown",
   "metadata": {},
   "source": [
    "### Hypothesis 1: Find where people who go to coffee shops go on the same day, and then find a location with a lot of this type of establishment."
   ]
  },
  {
   "cell_type": "markdown",
   "metadata": {},
   "source": [
    "#### First get baseline accuracy for classification models"
   ]
  },
  {
   "cell_type": "code",
   "execution_count": 32,
   "metadata": {},
   "outputs": [],
   "source": [
    "foursquare_days_df['baseline'] = 0"
   ]
  },
  {
   "cell_type": "code",
   "execution_count": 33,
   "metadata": {},
   "outputs": [
    {
     "name": "stdout",
     "output_type": "stream",
     "text": [
      "Baseline Accuracy:  0.889315822675919\n"
     ]
    }
   ],
   "source": [
    "from sklearn.metrics import accuracy_score\n",
    "\n",
    "print('Baseline Accuracy: ', str(accuracy_score(foursquare_days_df['Coffee Shop'], foursquare_days_df['baseline'])))"
   ]
  },
  {
   "cell_type": "markdown",
   "metadata": {},
   "source": [
    "#### Model 1: Decision Tree"
   ]
  },
  {
   "cell_type": "code",
   "execution_count": 34,
   "metadata": {},
   "outputs": [],
   "source": [
    "feature_cols = ['Office', 'Subway', 'American Restaurant', 'Bar',\n",
    "       'Government Building', 'Hotel', 'Train Station', 'Gym',\n",
    "       'Grocery Store', 'Home (private)',\n",
    "       'Residential Building (Apartment / Condo)', 'Park',\n",
    "       'Mexican Restaurant', 'Sandwich Place', 'Lounge', 'Building',\n",
    "       'Pizza Place', 'Pub', 'Neighborhood', 'Baseball Stadium', 'Road',\n",
    "       'Italian Restaurant']\n",
    "\n",
    "X = foursquare_days_df[feature_cols]\n",
    "y = foursquare_days_df[\"Coffee Shop\"]"
   ]
  },
  {
   "cell_type": "code",
   "execution_count": 35,
   "metadata": {},
   "outputs": [
    {
     "data": {
      "text/html": [
       "<div>\n",
       "<style scoped>\n",
       "    .dataframe tbody tr th:only-of-type {\n",
       "        vertical-align: middle;\n",
       "    }\n",
       "\n",
       "    .dataframe tbody tr th {\n",
       "        vertical-align: top;\n",
       "    }\n",
       "\n",
       "    .dataframe thead th {\n",
       "        text-align: right;\n",
       "    }\n",
       "</style>\n",
       "<table border=\"1\" class=\"dataframe\">\n",
       "  <thead>\n",
       "    <tr style=\"text-align: right;\">\n",
       "      <th></th>\n",
       "      <th>feature</th>\n",
       "      <th>importance</th>\n",
       "    </tr>\n",
       "  </thead>\n",
       "  <tbody>\n",
       "    <tr>\n",
       "      <th>11</th>\n",
       "      <td>Park</td>\n",
       "      <td>0.290257</td>\n",
       "    </tr>\n",
       "    <tr>\n",
       "      <th>1</th>\n",
       "      <td>Subway</td>\n",
       "      <td>0.238393</td>\n",
       "    </tr>\n",
       "    <tr>\n",
       "      <th>13</th>\n",
       "      <td>Sandwich Place</td>\n",
       "      <td>0.233781</td>\n",
       "    </tr>\n",
       "    <tr>\n",
       "      <th>7</th>\n",
       "      <td>Gym</td>\n",
       "      <td>0.190744</td>\n",
       "    </tr>\n",
       "    <tr>\n",
       "      <th>6</th>\n",
       "      <td>Train Station</td>\n",
       "      <td>0.046825</td>\n",
       "    </tr>\n",
       "    <tr>\n",
       "      <th>20</th>\n",
       "      <td>Road</td>\n",
       "      <td>0.000000</td>\n",
       "    </tr>\n",
       "    <tr>\n",
       "      <th>19</th>\n",
       "      <td>Baseball Stadium</td>\n",
       "      <td>0.000000</td>\n",
       "    </tr>\n",
       "    <tr>\n",
       "      <th>18</th>\n",
       "      <td>Neighborhood</td>\n",
       "      <td>0.000000</td>\n",
       "    </tr>\n",
       "    <tr>\n",
       "      <th>17</th>\n",
       "      <td>Pub</td>\n",
       "      <td>0.000000</td>\n",
       "    </tr>\n",
       "    <tr>\n",
       "      <th>16</th>\n",
       "      <td>Pizza Place</td>\n",
       "      <td>0.000000</td>\n",
       "    </tr>\n",
       "  </tbody>\n",
       "</table>\n",
       "</div>"
      ],
      "text/plain": [
       "             feature  importance\n",
       "11              Park    0.290257\n",
       "1             Subway    0.238393\n",
       "13    Sandwich Place    0.233781\n",
       "7                Gym    0.190744\n",
       "6      Train Station    0.046825\n",
       "20              Road    0.000000\n",
       "19  Baseball Stadium    0.000000\n",
       "18      Neighborhood    0.000000\n",
       "17               Pub    0.000000\n",
       "16       Pizza Place    0.000000"
      ]
     },
     "execution_count": 35,
     "metadata": {},
     "output_type": "execute_result"
    }
   ],
   "source": [
    "from sklearn.tree import DecisionTreeClassifier\n",
    "\n",
    "treeclf = DecisionTreeClassifier(max_depth=3, random_state=1)\n",
    "treeclf.fit(X, y)\n",
    "\n",
    "pd.DataFrame({'feature':feature_cols, 'importance':treeclf.feature_importances_}).sort_values('importance', ascending=False).head(10)"
   ]
  },
  {
   "cell_type": "code",
   "execution_count": 36,
   "metadata": {},
   "outputs": [
    {
     "data": {
      "text/plain": [
       "0    1030\n",
       "1     207\n",
       "Name: Coffee Shop, dtype: int64"
      ]
     },
     "execution_count": 36,
     "metadata": {},
     "output_type": "execute_result"
    }
   ],
   "source": [
    "foursquare_days_df[foursquare_days_df['Subway'] == 1]['Coffee Shop'].value_counts()"
   ]
  },
  {
   "cell_type": "code",
   "execution_count": 37,
   "metadata": {},
   "outputs": [
    {
     "data": {
      "text/plain": [
       "True"
      ]
     },
     "execution_count": 37,
     "metadata": {},
     "output_type": "execute_result"
    }
   ],
   "source": [
    "from sklearn.tree import export_graphviz\n",
    "import pydotplus\n",
    "from io import StringIO\n",
    "\n",
    "import os     \n",
    "os.environ[\"PATH\"] += os.pathsep + 'C:\\\\Users\\\\Steven\\\\Anaconda3\\\\Library\\\\bin\\\\graphviz'\n",
    "\n",
    "dotfile = StringIO()\n",
    "export_graphviz(treeclf, out_file=dotfile, feature_names=feature_cols)\n",
    "graph = pydotplus.graph_from_dot_data(dotfile.getvalue())\n",
    "graph.write_png('./assets/categories_tree.png')"
   ]
  },
  {
   "cell_type": "markdown",
   "metadata": {},
   "source": [
    "![Tree for category data](assets/categories_tree.png)|"
   ]
  },
  {
   "cell_type": "code",
   "execution_count": 38,
   "metadata": {},
   "outputs": [],
   "source": [
    "feature_cols = ['Office', 'Subway', 'American Restaurant', 'Bar',\n",
    "       'Government Building', 'Hotel', 'Train Station', 'Gym',\n",
    "       'Grocery Store', 'Home (private)',\n",
    "       'Residential Building (Apartment / Condo)', 'Park',\n",
    "       'Mexican Restaurant', 'Sandwich Place', 'Lounge', 'Building',\n",
    "       'Pizza Place', 'Pub', 'Neighborhood', 'Baseball Stadium', 'Road',\n",
    "       'Italian Restaurant']\n",
    "\n",
    "X = foursquare_days_df[feature_cols]\n",
    "y = foursquare_days_df[\"Coffee Shop\"]"
   ]
  },
  {
   "cell_type": "code",
   "execution_count": 39,
   "metadata": {},
   "outputs": [
    {
     "data": {
      "text/plain": [
       "DecisionTreeClassifier(class_weight=None, criterion='gini', max_depth=3,\n",
       "            max_features=None, max_leaf_nodes=None,\n",
       "            min_impurity_decrease=0.0, min_impurity_split=None,\n",
       "            min_samples_leaf=1, min_samples_split=2,\n",
       "            min_weight_fraction_leaf=0.0, presort=False, random_state=None,\n",
       "            splitter='best')"
      ]
     },
     "execution_count": 39,
     "metadata": {},
     "output_type": "execute_result"
    }
   ],
   "source": [
    "from sklearn.model_selection import train_test_split\n",
    "\n",
    "X_train, X_test, y_train, y_test = train_test_split(X, y)\n",
    "treeclf = DecisionTreeClassifier(max_depth=3)\n",
    "treeclf.fit(X_train, y_train)"
   ]
  },
  {
   "cell_type": "code",
   "execution_count": 40,
   "metadata": {},
   "outputs": [
    {
     "name": "stdout",
     "output_type": "stream",
     "text": [
      "Accuracy:  0.8924311926605505\n"
     ]
    }
   ],
   "source": [
    "y_predict = treeclf.predict(X_test)\n",
    "print('Accuracy: ', str(accuracy_score(y_test, y_predict)))"
   ]
  },
  {
   "cell_type": "code",
   "execution_count": 41,
   "metadata": {},
   "outputs": [
    {
     "data": {
      "text/html": [
       "<div>\n",
       "<style scoped>\n",
       "    .dataframe tbody tr th:only-of-type {\n",
       "        vertical-align: middle;\n",
       "    }\n",
       "\n",
       "    .dataframe tbody tr th {\n",
       "        vertical-align: top;\n",
       "    }\n",
       "\n",
       "    .dataframe thead th {\n",
       "        text-align: right;\n",
       "    }\n",
       "</style>\n",
       "<table border=\"1\" class=\"dataframe\">\n",
       "  <thead>\n",
       "    <tr style=\"text-align: right;\">\n",
       "      <th></th>\n",
       "      <th>feature</th>\n",
       "      <th>importance</th>\n",
       "    </tr>\n",
       "  </thead>\n",
       "  <tbody>\n",
       "    <tr>\n",
       "      <th>11</th>\n",
       "      <td>Park</td>\n",
       "      <td>0.280623</td>\n",
       "    </tr>\n",
       "    <tr>\n",
       "      <th>1</th>\n",
       "      <td>Subway</td>\n",
       "      <td>0.270806</td>\n",
       "    </tr>\n",
       "    <tr>\n",
       "      <th>13</th>\n",
       "      <td>Sandwich Place</td>\n",
       "      <td>0.244913</td>\n",
       "    </tr>\n",
       "    <tr>\n",
       "      <th>7</th>\n",
       "      <td>Gym</td>\n",
       "      <td>0.156074</td>\n",
       "    </tr>\n",
       "    <tr>\n",
       "      <th>8</th>\n",
       "      <td>Grocery Store</td>\n",
       "      <td>0.047584</td>\n",
       "    </tr>\n",
       "    <tr>\n",
       "      <th>20</th>\n",
       "      <td>Road</td>\n",
       "      <td>0.000000</td>\n",
       "    </tr>\n",
       "    <tr>\n",
       "      <th>19</th>\n",
       "      <td>Baseball Stadium</td>\n",
       "      <td>0.000000</td>\n",
       "    </tr>\n",
       "    <tr>\n",
       "      <th>18</th>\n",
       "      <td>Neighborhood</td>\n",
       "      <td>0.000000</td>\n",
       "    </tr>\n",
       "    <tr>\n",
       "      <th>17</th>\n",
       "      <td>Pub</td>\n",
       "      <td>0.000000</td>\n",
       "    </tr>\n",
       "    <tr>\n",
       "      <th>16</th>\n",
       "      <td>Pizza Place</td>\n",
       "      <td>0.000000</td>\n",
       "    </tr>\n",
       "  </tbody>\n",
       "</table>\n",
       "</div>"
      ],
      "text/plain": [
       "             feature  importance\n",
       "11              Park    0.280623\n",
       "1             Subway    0.270806\n",
       "13    Sandwich Place    0.244913\n",
       "7                Gym    0.156074\n",
       "8      Grocery Store    0.047584\n",
       "20              Road    0.000000\n",
       "19  Baseball Stadium    0.000000\n",
       "18      Neighborhood    0.000000\n",
       "17               Pub    0.000000\n",
       "16       Pizza Place    0.000000"
      ]
     },
     "execution_count": 41,
     "metadata": {},
     "output_type": "execute_result"
    }
   ],
   "source": [
    "pd.DataFrame({'feature':feature_cols, 'importance':treeclf.feature_importances_}).sort_values('importance', ascending=False).head(10)"
   ]
  },
  {
   "cell_type": "markdown",
   "metadata": {},
   "source": [
    "#### Model 2: Random Forest Classifier"
   ]
  },
  {
   "cell_type": "code",
   "execution_count": 42,
   "metadata": {},
   "outputs": [],
   "source": [
    "feature_cols = ['Office', 'Subway', 'Bar',\n",
    "       'Government Building', 'Hotel', 'Train Station', 'Gym',\n",
    "       'Grocery Store', 'Home (private)',\n",
    "       'Residential Building (Apartment / Condo)', 'Park',\n",
    "       'Mexican Restaurant', 'Sandwich Place', 'Lounge', 'Building',\n",
    "       'Pizza Place', 'Pub', 'Neighborhood', 'American Restaurant']\n",
    "\n",
    "X = foursquare_days_df[feature_cols]\n",
    "y = foursquare_days_df[\"Coffee Shop\"]"
   ]
  },
  {
   "cell_type": "code",
   "execution_count": 155,
   "metadata": {},
   "outputs": [
    {
     "name": "stdout",
     "output_type": "stream",
     "text": [
      "accuracy: 0.8928899082568807\n"
     ]
    },
    {
     "data": {
      "text/html": [
       "<div>\n",
       "<style scoped>\n",
       "    .dataframe tbody tr th:only-of-type {\n",
       "        vertical-align: middle;\n",
       "    }\n",
       "\n",
       "    .dataframe tbody tr th {\n",
       "        vertical-align: top;\n",
       "    }\n",
       "\n",
       "    .dataframe thead th {\n",
       "        text-align: right;\n",
       "    }\n",
       "</style>\n",
       "<table border=\"1\" class=\"dataframe\">\n",
       "  <thead>\n",
       "    <tr style=\"text-align: right;\">\n",
       "      <th></th>\n",
       "      <th>feature</th>\n",
       "      <th>importance</th>\n",
       "    </tr>\n",
       "  </thead>\n",
       "  <tbody>\n",
       "    <tr>\n",
       "      <th>1</th>\n",
       "      <td>Subway</td>\n",
       "      <td>0.075415</td>\n",
       "    </tr>\n",
       "    <tr>\n",
       "      <th>10</th>\n",
       "      <td>Park</td>\n",
       "      <td>0.066877</td>\n",
       "    </tr>\n",
       "    <tr>\n",
       "      <th>0</th>\n",
       "      <td>Office</td>\n",
       "      <td>0.065839</td>\n",
       "    </tr>\n",
       "    <tr>\n",
       "      <th>18</th>\n",
       "      <td>American Restaurant</td>\n",
       "      <td>0.064845</td>\n",
       "    </tr>\n",
       "    <tr>\n",
       "      <th>5</th>\n",
       "      <td>Train Station</td>\n",
       "      <td>0.062752</td>\n",
       "    </tr>\n",
       "  </tbody>\n",
       "</table>\n",
       "</div>"
      ],
      "text/plain": [
       "                feature  importance\n",
       "1                Subway    0.075415\n",
       "10                 Park    0.066877\n",
       "0                Office    0.065839\n",
       "18  American Restaurant    0.064845\n",
       "5         Train Station    0.062752"
      ]
     },
     "execution_count": 155,
     "metadata": {},
     "output_type": "execute_result"
    }
   ],
   "source": [
    "from sklearn.ensemble import RandomForestClassifier\n",
    "\n",
    "rfclas = RandomForestClassifier(n_estimators=150, max_features=3, oob_score=True, random_state = 42)\n",
    "\n",
    "X_train, X_test, y_train, y_test = train_test_split(X, y, random_state = 42)\n",
    "rfclas.fit(X_train, y_train)\n",
    "y_predict = rfclas.predict(X_test)\n",
    "print('accuracy: ' + str(accuracy_score(y_test, y_predict)))\n",
    "\n",
    "pd.DataFrame({'feature':feature_cols, 'importance':rfclas.feature_importances_}).sort_values('importance', ascending=False).head()"
   ]
  },
  {
   "cell_type": "markdown",
   "metadata": {},
   "source": [
    "#### Model 3: Gradient Boosting Classifier"
   ]
  },
  {
   "cell_type": "code",
   "execution_count": 156,
   "metadata": {},
   "outputs": [
    {
     "name": "stdout",
     "output_type": "stream",
     "text": [
      "accuracy: 0.8942660550458715\n"
     ]
    },
    {
     "data": {
      "text/html": [
       "<div>\n",
       "<style scoped>\n",
       "    .dataframe tbody tr th:only-of-type {\n",
       "        vertical-align: middle;\n",
       "    }\n",
       "\n",
       "    .dataframe tbody tr th {\n",
       "        vertical-align: top;\n",
       "    }\n",
       "\n",
       "    .dataframe thead th {\n",
       "        text-align: right;\n",
       "    }\n",
       "</style>\n",
       "<table border=\"1\" class=\"dataframe\">\n",
       "  <thead>\n",
       "    <tr style=\"text-align: right;\">\n",
       "      <th></th>\n",
       "      <th>feature</th>\n",
       "      <th>importance</th>\n",
       "    </tr>\n",
       "  </thead>\n",
       "  <tbody>\n",
       "    <tr>\n",
       "      <th>17</th>\n",
       "      <td>Neighborhood</td>\n",
       "      <td>0.075472</td>\n",
       "    </tr>\n",
       "    <tr>\n",
       "      <th>1</th>\n",
       "      <td>Subway</td>\n",
       "      <td>0.073887</td>\n",
       "    </tr>\n",
       "    <tr>\n",
       "      <th>0</th>\n",
       "      <td>Office</td>\n",
       "      <td>0.072459</td>\n",
       "    </tr>\n",
       "    <tr>\n",
       "      <th>5</th>\n",
       "      <td>Train Station</td>\n",
       "      <td>0.070639</td>\n",
       "    </tr>\n",
       "    <tr>\n",
       "      <th>3</th>\n",
       "      <td>Government Building</td>\n",
       "      <td>0.070430</td>\n",
       "    </tr>\n",
       "  </tbody>\n",
       "</table>\n",
       "</div>"
      ],
      "text/plain": [
       "                feature  importance\n",
       "17         Neighborhood    0.075472\n",
       "1                Subway    0.073887\n",
       "0                Office    0.072459\n",
       "5         Train Station    0.070639\n",
       "3   Government Building    0.070430"
      ]
     },
     "execution_count": 156,
     "metadata": {},
     "output_type": "execute_result"
    }
   ],
   "source": [
    "from sklearn.ensemble import GradientBoostingClassifier\n",
    "\n",
    "feature_cols = ['Office', 'Subway', 'Bar',\n",
    "       'Government Building', 'Hotel', 'Train Station', 'Gym',\n",
    "       'Grocery Store', 'Home (private)',\n",
    "       'Residential Building (Apartment / Condo)', 'Park',\n",
    "       'Mexican Restaurant', 'Sandwich Place', 'Lounge', 'Building',\n",
    "       'Pizza Place', 'Pub', 'Neighborhood', 'American Restaurant']\n",
    "\n",
    "X = foursquare_days_df[feature_cols]\n",
    "y = foursquare_days_df[\"Coffee Shop\"]\n",
    "\n",
    "gbclas = GradientBoostingClassifier(random_state = 42)\n",
    "\n",
    "X_train, X_test, y_train, y_test = train_test_split(X, y, random_state = 42)\n",
    "gbclas.fit(X_train, y_train)\n",
    "y_predict = gbclas.predict(X_test)\n",
    "\n",
    "print('accuracy: ' + str(accuracy_score(y_test, y_predict)))\n",
    "\n",
    "pd.DataFrame({'feature':feature_cols, 'importance':gbclas.feature_importances_}).sort_values('importance', ascending=False).head()"
   ]
  },
  {
   "cell_type": "markdown",
   "metadata": {},
   "source": [
    "#### Hypothesis 1 conclusion\n",
    "- The first model I used was a decision tree, and then I tried implementing a random forest and gradient boosting. What I found was that the decision tree was much easier to interpret due to its ability to pick out the most important features, rather than using all of the features. The accuracy was also almost exactly the same. From this I found that the most common places for a person to visit on the same day as a coffee shop are the park, Subway, a Sandwich Place (other than subway I presume), the Gym, and a Train Station."
   ]
  },
  {
   "cell_type": "markdown",
   "metadata": {},
   "source": [
    "<a id=\"hyp_2\"></a>"
   ]
  },
  {
   "cell_type": "markdown",
   "metadata": {},
   "source": [
    "### Hypothesis 2: compare various factors of each zip code to the check in count to find a linear relationship. If we can find a linear relationship, we can use this to determine the best zip code for maximizing coffee shop check-ins."
   ]
  },
  {
   "cell_type": "code",
   "execution_count": 43,
   "metadata": {},
   "outputs": [
    {
     "data": {
      "text/html": [
       "<div>\n",
       "<style scoped>\n",
       "    .dataframe tbody tr th:only-of-type {\n",
       "        vertical-align: middle;\n",
       "    }\n",
       "\n",
       "    .dataframe tbody tr th {\n",
       "        vertical-align: top;\n",
       "    }\n",
       "\n",
       "    .dataframe thead th {\n",
       "        text-align: right;\n",
       "    }\n",
       "</style>\n",
       "<table border=\"1\" class=\"dataframe\">\n",
       "  <thead>\n",
       "    <tr style=\"text-align: right;\">\n",
       "      <th></th>\n",
       "      <th>zip_code</th>\n",
       "      <th>coffeeshop_counts</th>\n",
       "      <th>estimate_total</th>\n",
       "      <th>median_age</th>\n",
       "      <th>mean_income</th>\n",
       "      <th>percent_public_transport</th>\n",
       "    </tr>\n",
       "  </thead>\n",
       "  <tbody>\n",
       "    <tr>\n",
       "      <th>0</th>\n",
       "      <td>20001</td>\n",
       "      <td>942</td>\n",
       "      <td>44998</td>\n",
       "      <td>30.6</td>\n",
       "      <td>106670.0</td>\n",
       "      <td>0.353349</td>\n",
       "    </tr>\n",
       "    <tr>\n",
       "      <th>1</th>\n",
       "      <td>20002</td>\n",
       "      <td>172</td>\n",
       "      <td>59659</td>\n",
       "      <td>34.0</td>\n",
       "      <td>98792.0</td>\n",
       "      <td>0.361972</td>\n",
       "    </tr>\n",
       "    <tr>\n",
       "      <th>2</th>\n",
       "      <td>20003</td>\n",
       "      <td>225</td>\n",
       "      <td>29071</td>\n",
       "      <td>34.8</td>\n",
       "      <td>140336.0</td>\n",
       "      <td>0.401540</td>\n",
       "    </tr>\n",
       "    <tr>\n",
       "      <th>3</th>\n",
       "      <td>20004</td>\n",
       "      <td>148</td>\n",
       "      <td>1708</td>\n",
       "      <td>41.0</td>\n",
       "      <td>173373.0</td>\n",
       "      <td>0.312452</td>\n",
       "    </tr>\n",
       "    <tr>\n",
       "      <th>4</th>\n",
       "      <td>20007</td>\n",
       "      <td>175</td>\n",
       "      <td>26415</td>\n",
       "      <td>33.2</td>\n",
       "      <td>180698.0</td>\n",
       "      <td>0.233151</td>\n",
       "    </tr>\n",
       "    <tr>\n",
       "      <th>5</th>\n",
       "      <td>20008</td>\n",
       "      <td>14</td>\n",
       "      <td>28261</td>\n",
       "      <td>37.1</td>\n",
       "      <td>164615.0</td>\n",
       "      <td>0.477948</td>\n",
       "    </tr>\n",
       "    <tr>\n",
       "      <th>6</th>\n",
       "      <td>20009</td>\n",
       "      <td>97</td>\n",
       "      <td>51508</td>\n",
       "      <td>32.3</td>\n",
       "      <td>121153.0</td>\n",
       "      <td>0.433303</td>\n",
       "    </tr>\n",
       "    <tr>\n",
       "      <th>7</th>\n",
       "      <td>20010</td>\n",
       "      <td>101</td>\n",
       "      <td>32421</td>\n",
       "      <td>32.0</td>\n",
       "      <td>92937.0</td>\n",
       "      <td>0.504061</td>\n",
       "    </tr>\n",
       "    <tr>\n",
       "      <th>8</th>\n",
       "      <td>20017</td>\n",
       "      <td>41</td>\n",
       "      <td>20371</td>\n",
       "      <td>37.5</td>\n",
       "      <td>81027.0</td>\n",
       "      <td>0.388251</td>\n",
       "    </tr>\n",
       "    <tr>\n",
       "      <th>9</th>\n",
       "      <td>20024</td>\n",
       "      <td>1</td>\n",
       "      <td>12183</td>\n",
       "      <td>38.2</td>\n",
       "      <td>90712.0</td>\n",
       "      <td>0.441809</td>\n",
       "    </tr>\n",
       "    <tr>\n",
       "      <th>10</th>\n",
       "      <td>20036</td>\n",
       "      <td>364</td>\n",
       "      <td>5655</td>\n",
       "      <td>32.7</td>\n",
       "      <td>108420.0</td>\n",
       "      <td>0.363870</td>\n",
       "    </tr>\n",
       "    <tr>\n",
       "      <th>11</th>\n",
       "      <td>20037</td>\n",
       "      <td>98</td>\n",
       "      <td>15285</td>\n",
       "      <td>26.7</td>\n",
       "      <td>137690.0</td>\n",
       "      <td>0.284997</td>\n",
       "    </tr>\n",
       "  </tbody>\n",
       "</table>\n",
       "</div>"
      ],
      "text/plain": [
       "   zip_code  coffeeshop_counts  estimate_total  median_age  mean_income  \\\n",
       "0     20001                942           44998        30.6     106670.0   \n",
       "1     20002                172           59659        34.0      98792.0   \n",
       "2     20003                225           29071        34.8     140336.0   \n",
       "3     20004                148            1708        41.0     173373.0   \n",
       "4     20007                175           26415        33.2     180698.0   \n",
       "5     20008                 14           28261        37.1     164615.0   \n",
       "6     20009                 97           51508        32.3     121153.0   \n",
       "7     20010                101           32421        32.0      92937.0   \n",
       "8     20017                 41           20371        37.5      81027.0   \n",
       "9     20024                  1           12183        38.2      90712.0   \n",
       "10    20036                364            5655        32.7     108420.0   \n",
       "11    20037                 98           15285        26.7     137690.0   \n",
       "\n",
       "    percent_public_transport  \n",
       "0                   0.353349  \n",
       "1                   0.361972  \n",
       "2                   0.401540  \n",
       "3                   0.312452  \n",
       "4                   0.233151  \n",
       "5                   0.477948  \n",
       "6                   0.433303  \n",
       "7                   0.504061  \n",
       "8                   0.388251  \n",
       "9                   0.441809  \n",
       "10                  0.363870  \n",
       "11                  0.284997  "
      ]
     },
     "execution_count": 43,
     "metadata": {},
     "output_type": "execute_result"
    }
   ],
   "source": [
    "checkins_and_zipdata_df"
   ]
  },
  {
   "cell_type": "code",
   "execution_count": 45,
   "metadata": {},
   "outputs": [
    {
     "name": "stdout",
     "output_type": "stream",
     "text": [
      "Baseline RMSE:  243.66125164981725\n"
     ]
    }
   ],
   "source": [
    "# get mean squared error of baseline\n",
    "import numpy as np\n",
    "from sklearn import metrics\n",
    "\n",
    "actual = checkins_and_zipdata_df.coffeeshop_counts.tolist()\n",
    "checkins_and_zipdata_df['predicted'] = checkins_and_zipdata_df.coffeeshop_counts.mean()\n",
    "predicted = checkins_and_zipdata_df.predicted.tolist()\n",
    "print('Baseline RMSE: ', np.sqrt(metrics.mean_squared_error(actual, predicted)))"
   ]
  },
  {
   "cell_type": "code",
   "execution_count": 46,
   "metadata": {},
   "outputs": [
    {
     "data": {
      "text/plain": [
       "coffeeshop_counts           1.000000\n",
       "estimate_total              0.244147\n",
       "median_age                 -0.362762\n",
       "mean_income                -0.108608\n",
       "percent_public_transport   -0.244719\n",
       "predicted                        NaN\n",
       "Name: coffeeshop_counts, dtype: float64"
      ]
     },
     "execution_count": 46,
     "metadata": {},
     "output_type": "execute_result"
    }
   ],
   "source": [
    "checkins_and_zipdata_df.corr().coffeeshop_counts"
   ]
  },
  {
   "cell_type": "code",
   "execution_count": 47,
   "metadata": {},
   "outputs": [
    {
     "data": {
      "text/plain": [
       "LinearRegression(copy_X=True, fit_intercept=True, n_jobs=1, normalize=False)"
      ]
     },
     "execution_count": 47,
     "metadata": {},
     "output_type": "execute_result"
    }
   ],
   "source": [
    "from sklearn.linear_model import LinearRegression\n",
    "feature_cols = ['median_age', 'percent_public_transport']\n",
    "\n",
    "X = checkins_and_zipdata_df[feature_cols]\n",
    "y = checkins_and_zipdata_df.coffeeshop_counts\n",
    "\n",
    "lr = LinearRegression()\n",
    "lr.fit(X, y)"
   ]
  },
  {
   "cell_type": "code",
   "execution_count": 48,
   "metadata": {
    "scrolled": true
   },
   "outputs": [
    {
     "data": {
      "text/plain": [
       "[('median_age', -21.50395102133955),\n",
       " ('percent_public_transport', -562.5952127218624)]"
      ]
     },
     "execution_count": 48,
     "metadata": {},
     "output_type": "execute_result"
    }
   ],
   "source": [
    "list(zip(feature_cols, lr.coef_))"
   ]
  },
  {
   "cell_type": "code",
   "execution_count": 49,
   "metadata": {},
   "outputs": [
    {
     "name": "stdout",
     "output_type": "stream",
     "text": [
      "[211.91765413]\n",
      "[172]\n"
     ]
    }
   ],
   "source": [
    "# compare predicted value of one record to the actual value.\n",
    "print(lr.predict([[34, .361972]]))\n",
    "print(checkins_and_zipdata_df[checkins_and_zipdata_df.zip_code == '20002'].coffeeshop_counts.values)"
   ]
  },
  {
   "cell_type": "code",
   "execution_count": 50,
   "metadata": {},
   "outputs": [
    {
     "name": "stdout",
     "output_type": "stream",
     "text": [
      "RMSE:  117.93165821706032\n"
     ]
    }
   ],
   "source": [
    "from sklearn.model_selection import train_test_split\n",
    "\n",
    "feature_cols = ['median_age', 'percent_public_transport']\n",
    "\n",
    "X = checkins_and_zipdata_df[feature_cols]\n",
    "y = checkins_and_zipdata_df.coffeeshop_counts\n",
    "\n",
    "X_train, X_test, y_train, y_test = train_test_split(X, y, random_state=1)\n",
    "\n",
    "lr = LinearRegression()\n",
    "lr.fit(X_train, y_train)\n",
    "\n",
    "y_pred = lr.predict(X_test)\n",
    "\n",
    "print('RMSE: ', str(np.sqrt(metrics.mean_squared_error(y_test, y_pred))))"
   ]
  },
  {
   "cell_type": "markdown",
   "metadata": {},
   "source": [
    "#### Hypothesis 2 conclusion\n",
    "- Based on the coefficients and correlations found from the above linear regression model, of the listed features age and public_transport percentage are the most significant factors in coffee shop checkins. The other features do not increase model accuracy. For every additional year on the median age, coffee shop check-ins goes down by 20. Therefor, I should look for the zip code with the lowest median age.\n",
    "- The model is more accurate than the baseline, but it is still very inaccurate due to the very small size of the dataset."
   ]
  },
  {
   "cell_type": "markdown",
   "metadata": {},
   "source": [
    "## Machine Learning Conclusion\n",
    "- Based on the results of the models executed in this section, I am looking for the zip code with a low median age, a high number of public-transportation users, and a presence of parks."
   ]
  },
  {
   "cell_type": "markdown",
   "metadata": {},
   "source": [
    "<a id=\"conclusion\"></a>"
   ]
  },
  {
   "cell_type": "markdown",
   "metadata": {},
   "source": [
    "## Conclusion\n",
    "- Build new dataframe with zip codes and their relevant characteristics for analysis."
   ]
  },
  {
   "cell_type": "code",
   "execution_count": 58,
   "metadata": {},
   "outputs": [],
   "source": [
    "find_best_zip = businesses_df[businesses_df.categories.str.contains('Park')].groupby('zip_code').agg('count').name.reset_index(name=\"parks\")\n",
    "\n",
    "# since the model revealed that these two categories are weighted similarly,\n",
    "# I'll just add them.\n",
    "find_best_zip = find_best_zip.merge(businesses_df[businesses_df.categories.str.contains('Coffee')].groupby('zip_code').agg('count').name.reset_index(name=\"coffee\"))"
   ]
  },
  {
   "cell_type": "code",
   "execution_count": 59,
   "metadata": {},
   "outputs": [
    {
     "data": {
      "text/html": [
       "<div>\n",
       "<style scoped>\n",
       "    .dataframe tbody tr th:only-of-type {\n",
       "        vertical-align: middle;\n",
       "    }\n",
       "\n",
       "    .dataframe tbody tr th {\n",
       "        vertical-align: top;\n",
       "    }\n",
       "\n",
       "    .dataframe thead th {\n",
       "        text-align: right;\n",
       "    }\n",
       "</style>\n",
       "<table border=\"1\" class=\"dataframe\">\n",
       "  <thead>\n",
       "    <tr style=\"text-align: right;\">\n",
       "      <th></th>\n",
       "      <th>zip_code</th>\n",
       "      <th>parks</th>\n",
       "      <th>coffee</th>\n",
       "    </tr>\n",
       "  </thead>\n",
       "  <tbody>\n",
       "    <tr>\n",
       "      <th>0</th>\n",
       "      <td>20001</td>\n",
       "      <td>8</td>\n",
       "      <td>43</td>\n",
       "    </tr>\n",
       "    <tr>\n",
       "      <th>8</th>\n",
       "      <td>20009</td>\n",
       "      <td>4</td>\n",
       "      <td>41</td>\n",
       "    </tr>\n",
       "    <tr>\n",
       "      <th>4</th>\n",
       "      <td>20005</td>\n",
       "      <td>2</td>\n",
       "      <td>33</td>\n",
       "    </tr>\n",
       "    <tr>\n",
       "      <th>1</th>\n",
       "      <td>20002</td>\n",
       "      <td>5</td>\n",
       "      <td>33</td>\n",
       "    </tr>\n",
       "    <tr>\n",
       "      <th>5</th>\n",
       "      <td>20006</td>\n",
       "      <td>5</td>\n",
       "      <td>31</td>\n",
       "    </tr>\n",
       "    <tr>\n",
       "      <th>19</th>\n",
       "      <td>20036</td>\n",
       "      <td>1</td>\n",
       "      <td>27</td>\n",
       "    </tr>\n",
       "    <tr>\n",
       "      <th>2</th>\n",
       "      <td>20003</td>\n",
       "      <td>9</td>\n",
       "      <td>20</td>\n",
       "    </tr>\n",
       "    <tr>\n",
       "      <th>3</th>\n",
       "      <td>20004</td>\n",
       "      <td>1</td>\n",
       "      <td>20</td>\n",
       "    </tr>\n",
       "    <tr>\n",
       "      <th>6</th>\n",
       "      <td>20007</td>\n",
       "      <td>6</td>\n",
       "      <td>20</td>\n",
       "    </tr>\n",
       "    <tr>\n",
       "      <th>20</th>\n",
       "      <td>20037</td>\n",
       "      <td>4</td>\n",
       "      <td>18</td>\n",
       "    </tr>\n",
       "  </tbody>\n",
       "</table>\n",
       "</div>"
      ],
      "text/plain": [
       "   zip_code  parks  coffee\n",
       "0     20001      8      43\n",
       "8     20009      4      41\n",
       "4     20005      2      33\n",
       "1     20002      5      33\n",
       "5     20006      5      31\n",
       "19    20036      1      27\n",
       "2     20003      9      20\n",
       "3     20004      1      20\n",
       "6     20007      6      20\n",
       "20    20037      4      18"
      ]
     },
     "execution_count": 59,
     "metadata": {},
     "output_type": "execute_result"
    }
   ],
   "source": [
    "find_best_zip.sort_values('coffee', ascending=False).head(10)"
   ]
  },
  {
   "cell_type": "code",
   "execution_count": 60,
   "metadata": {},
   "outputs": [],
   "source": [
    "# add the median age\n",
    "find_best_zip = find_best_zip.merge(zipfeatures_df[['zip_code', 'median_age', 'percent_public_transport']])"
   ]
  },
  {
   "cell_type": "code",
   "execution_count": 62,
   "metadata": {},
   "outputs": [
    {
     "data": {
      "text/html": [
       "<div>\n",
       "<style scoped>\n",
       "    .dataframe tbody tr th:only-of-type {\n",
       "        vertical-align: middle;\n",
       "    }\n",
       "\n",
       "    .dataframe tbody tr th {\n",
       "        vertical-align: top;\n",
       "    }\n",
       "\n",
       "    .dataframe thead th {\n",
       "        text-align: right;\n",
       "    }\n",
       "</style>\n",
       "<table border=\"1\" class=\"dataframe\">\n",
       "  <thead>\n",
       "    <tr style=\"text-align: right;\">\n",
       "      <th></th>\n",
       "      <th>zip_code</th>\n",
       "      <th>parks</th>\n",
       "      <th>coffee</th>\n",
       "      <th>median_age</th>\n",
       "      <th>percent_public_transport</th>\n",
       "    </tr>\n",
       "  </thead>\n",
       "  <tbody>\n",
       "    <tr>\n",
       "      <th>0</th>\n",
       "      <td>20001</td>\n",
       "      <td>8</td>\n",
       "      <td>43</td>\n",
       "      <td>30.6</td>\n",
       "      <td>0.353349</td>\n",
       "    </tr>\n",
       "    <tr>\n",
       "      <th>8</th>\n",
       "      <td>20009</td>\n",
       "      <td>4</td>\n",
       "      <td>41</td>\n",
       "      <td>32.3</td>\n",
       "      <td>0.433303</td>\n",
       "    </tr>\n",
       "    <tr>\n",
       "      <th>4</th>\n",
       "      <td>20005</td>\n",
       "      <td>2</td>\n",
       "      <td>33</td>\n",
       "      <td>33.8</td>\n",
       "      <td>0.264241</td>\n",
       "    </tr>\n",
       "    <tr>\n",
       "      <th>1</th>\n",
       "      <td>20002</td>\n",
       "      <td>5</td>\n",
       "      <td>33</td>\n",
       "      <td>34.0</td>\n",
       "      <td>0.361972</td>\n",
       "    </tr>\n",
       "    <tr>\n",
       "      <th>5</th>\n",
       "      <td>20006</td>\n",
       "      <td>5</td>\n",
       "      <td>31</td>\n",
       "      <td>20.6</td>\n",
       "      <td>0.287554</td>\n",
       "    </tr>\n",
       "    <tr>\n",
       "      <th>19</th>\n",
       "      <td>20036</td>\n",
       "      <td>1</td>\n",
       "      <td>27</td>\n",
       "      <td>32.7</td>\n",
       "      <td>0.363870</td>\n",
       "    </tr>\n",
       "    <tr>\n",
       "      <th>2</th>\n",
       "      <td>20003</td>\n",
       "      <td>9</td>\n",
       "      <td>20</td>\n",
       "      <td>34.8</td>\n",
       "      <td>0.401540</td>\n",
       "    </tr>\n",
       "    <tr>\n",
       "      <th>3</th>\n",
       "      <td>20004</td>\n",
       "      <td>1</td>\n",
       "      <td>20</td>\n",
       "      <td>41.0</td>\n",
       "      <td>0.312452</td>\n",
       "    </tr>\n",
       "    <tr>\n",
       "      <th>6</th>\n",
       "      <td>20007</td>\n",
       "      <td>6</td>\n",
       "      <td>20</td>\n",
       "      <td>33.2</td>\n",
       "      <td>0.233151</td>\n",
       "    </tr>\n",
       "    <tr>\n",
       "      <th>20</th>\n",
       "      <td>20037</td>\n",
       "      <td>4</td>\n",
       "      <td>18</td>\n",
       "      <td>26.7</td>\n",
       "      <td>0.284997</td>\n",
       "    </tr>\n",
       "  </tbody>\n",
       "</table>\n",
       "</div>"
      ],
      "text/plain": [
       "   zip_code  parks  coffee  median_age  percent_public_transport\n",
       "0     20001      8      43        30.6                  0.353349\n",
       "8     20009      4      41        32.3                  0.433303\n",
       "4     20005      2      33        33.8                  0.264241\n",
       "1     20002      5      33        34.0                  0.361972\n",
       "5     20006      5      31        20.6                  0.287554\n",
       "19    20036      1      27        32.7                  0.363870\n",
       "2     20003      9      20        34.8                  0.401540\n",
       "3     20004      1      20        41.0                  0.312452\n",
       "6     20007      6      20        33.2                  0.233151\n",
       "20    20037      4      18        26.7                  0.284997"
      ]
     },
     "execution_count": 62,
     "metadata": {},
     "output_type": "execute_result"
    }
   ],
   "source": [
    "find_best_zip.sort_values('coffee', ascending=False).head(10)"
   ]
  },
  {
   "cell_type": "markdown",
   "metadata": {},
   "source": [
    "It is tempting to go with the 20001 zip code, but we can see that there are already 43 coffee shops in this area, and the median age is significantly higher than the next row down. 20006 has a significant number of parks and sandwich shops, and a relatively low number of coffee shops. It also has the lowest median age on the list. For these reasons, I have selected the 20006 zip code."
   ]
  },
  {
   "cell_type": "code",
   "execution_count": 63,
   "metadata": {},
   "outputs": [],
   "source": [
    "businesses_20006zip_df = businesses_df[(businesses_df.categories.str.contains('Coffee')) & \n",
    "              (businesses_df.zip_code.isin(['20006', '20036']))]"
   ]
  },
  {
   "cell_type": "markdown",
   "metadata": {},
   "source": [
    "At this point I ran into an issue that I did not anticipate. There were no suitable properties available in 20006, as far as I could find. That being said, just a few blocks north is 20036. The data above for 20036 is not as ideal, but the median age is still relatively low, and it's close enough to 20006. The percentage of people who use public transportation is also significantly higher. I found several properties in this location, and chose the one denoted with a red mark below."
   ]
  },
  {
   "cell_type": "code",
   "execution_count": 64,
   "metadata": {},
   "outputs": [
    {
     "data": {
      "text/html": [
       "<div style=\"width:100%;\"><div style=\"position:relative;width:100%;height:0;padding-bottom:60%;\"><iframe src=\"data:text/html;charset=utf-8;base64,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\" style=\"position:absolute;width:100%;height:100%;left:0;top:0;border:none !important;\" allowfullscreen webkitallowfullscreen mozallowfullscreen></iframe></div></div>"
      ],
      "text/plain": [
       "<folium.folium.Map at 0x20dfb1a09e8>"
      ]
     },
     "execution_count": 64,
     "metadata": {},
     "output_type": "execute_result"
    }
   ],
   "source": [
    "import folium\n",
    "\n",
    "folium_map = folium.Map(location=[38.904265, -77.041656],\n",
    "                        zoom_start=15)\n",
    "\n",
    "for index, row in businesses_20006zip_df.iterrows():\n",
    "    folium.Marker([row[\"latitude\"], row[\"longitude\"]], popup=folium.Popup(row['name'], parse_html=True)).add_to(folium_map)\n",
    "    \n",
    "folium.Marker([38.9062766, -77.0418966], icon=folium.Icon(color=\"red\"), popup=folium.Popup('Selected Location', parse_html=True)).add_to(folium_map)\n",
    "\n",
    "folium_map"
   ]
  },
  {
   "cell_type": "code",
   "execution_count": 66,
   "metadata": {},
   "outputs": [
    {
     "data": {
      "text/html": [
       "\n",
       "        <iframe\n",
       "            width=\"800\"\n",
       "            height=\"600\"\n",
       "            src=\"./assets/document.pdf\"\n",
       "            frameborder=\"0\"\n",
       "            allowfullscreen\n",
       "        ></iframe>\n",
       "        "
      ],
      "text/plain": [
       "<IPython.lib.display.IFrame at 0x20dfaa2e5c0>"
      ]
     },
     "execution_count": 66,
     "metadata": {},
     "output_type": "execute_result"
    }
   ],
   "source": [
    "# here is a flier for the property from the property management company.\n",
    "from IPython.display import IFrame\n",
    "IFrame(\"./assets/document.pdf\", width=800, height=600)"
   ]
  },
  {
   "cell_type": "code",
   "execution_count": null,
   "metadata": {
    "collapsed": true
   },
   "outputs": [],
   "source": []
  }
 ],
 "metadata": {
  "kernelspec": {
   "display_name": "Python 3",
   "language": "python",
   "name": "python3"
  },
  "language_info": {
   "codemirror_mode": {
    "name": "ipython",
    "version": 3
   },
   "file_extension": ".py",
   "mimetype": "text/x-python",
   "name": "python",
   "nbconvert_exporter": "python",
   "pygments_lexer": "ipython3",
   "version": "3.6.4"
  }
 },
 "nbformat": 4,
 "nbformat_minor": 2
}
