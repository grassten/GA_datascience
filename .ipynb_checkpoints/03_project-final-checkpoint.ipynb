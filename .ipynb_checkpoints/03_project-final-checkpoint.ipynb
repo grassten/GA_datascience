{
 "cells": [
  {
   "cell_type": "markdown",
   "metadata": {},
   "source": [
    "<h1 align=\"center\">Coffee Shop Location</h1> \n",
    "<h5 align=\"center\">by Steven Asten</h5> \n",
    "\n"
   ]
  },
  {
   "cell_type": "markdown",
   "metadata": {},
   "source": [
    "# Contents:\n",
    "1. <a href=\"#part_1\">Three Capstone Project Ideas</a>\n",
    "2. <a href=\"#part_2\">New Coffee Shop Location Proposal</a>\n",
    "3. <a href=\"#part_3\">Exploratory Data Analysis (EDA)</a>\n",
    "    - <a href=\"#import_and_structure\">Import and structure data sets</a>\n",
    "    - <a href=\"#explore_data\">Explore data</a>\n",
    "    - <a href=\"#explore_data_old\">Explore data (Old Hypotheses)</a>\n",
    "4. <a href=\"#machine_learning\">Machine Learning</a>\n",
    "    - <a href=\"#hyp_1\">Hypothesis #1</a>\n",
    "    - <a href=\"#hyp_2\">Hypothesis #2</a>\n",
    "5. <a href=\"#conclusion\">Conclusion</a>\n",
    "    "
   ]
  },
  {
   "cell_type": "markdown",
   "metadata": {},
   "source": [
    "<a id=\"part_1\"></a>"
   ]
  },
  {
   "cell_type": "markdown",
   "metadata": {},
   "source": [
    "# Part 1 - Three Capstone Project Ideas:"
   ]
  },
  {
   "cell_type": "code",
   "execution_count": 1,
   "metadata": {
    "scrolled": false
   },
   "outputs": [
    {
     "data": {
      "text/html": [
       "\n",
       "        <iframe\n",
       "            width=\"800\"\n",
       "            height=\"500\"\n",
       "            src=\"./00_ThreeIdeas.pdf\"\n",
       "            frameborder=\"0\"\n",
       "            allowfullscreen\n",
       "        ></iframe>\n",
       "        "
      ],
      "text/plain": [
       "<IPython.lib.display.IFrame at 0x21226f4df98>"
      ]
     },
     "execution_count": 1,
     "metadata": {},
     "output_type": "execute_result"
    }
   ],
   "source": [
    "from IPython.display import IFrame\n",
    "IFrame(\"./00_ThreeIdeas.pdf\", width=800, height=500)"
   ]
  },
  {
   "cell_type": "markdown",
   "metadata": {},
   "source": [
    "<a id=\"part_2\"></a>"
   ]
  },
  {
   "cell_type": "markdown",
   "metadata": {},
   "source": [
    "# Part 2: New coffee shop location\n",
    "#### Problem Statement: What are you trying to solve?\n",
    "Find a rental property in a location which would be suitable for a new coffee shop. Only DC metro area considered.\n",
    "\n",
    "#### Data science Hypothesis(es)/solutions considering: One or multiple angles to consider solving this problem with data science  \n",
    "- Find the location w/ the least amount of competition (other coffee shops), using Yelp dataset\n",
    "- Find an area with features that may increase foot traffic, such as other nearby shops, public transportation stops, etc.\n",
    "\n",
    "#### Data sets to be used: Share the links and files, .csvs, .js, .xlsx, .txt, website URLs\n",
    "- [Yelp Dataset](https://www.yelp.com/dataset)\n",
    "- [2016 ACS 1-year estimates; Age and Sex](Part2_Proposal/DatasetsForProject/sex_and_age/)\n",
    "    - This dataset might change or be expanded to include more data; currently the intention is to use it for population data. The data came from [factfinder.census.gov](https://factfinder.census.gov/faces/nav/jsf/pages/download_center.xhtml).\n",
    "\n",
    "#### Data dictionaries to describe the data types youâ€™re using: write these out in markdown as tables \n",
    "- Yelp Dataset - business.json\n",
    "\n",
    "|Data ID      |Data Type|Data Description                                                           |\n",
    "|-------------|:-------:|---------------------------------------------------------------------------|\n",
    "|business_id  |String   |22 character unique string business id                                     |\n",
    "|name         |String   |the business's name                                                        |\n",
    "|neighborhood |String   |the neighborhood's name                                                    |\n",
    "|address      |String   |the full address of the business                                           |\n",
    "|city         |String   |the city                                                                   |\n",
    "|state        |String   |2 character state code, if applicable                                      |\n",
    "|postal code  |String   |the postal code                                                            |\n",
    "|latitude     |Float    |latitude                                                                   |\n",
    "|longitude    |Float    |longitude                                                                  |\n",
    "|stars        |Float    |star rating, rounded to half-stars                                         |\n",
    "|review_count |Integer  |number of reviews                                                          |\n",
    "|is_open      |Integer  |0 or 1 for closed or open, respectively                                    |\n",
    "|attributes   |Object(?)|business attributes to values. note: some attribute values might be objects|\n",
    "|categories   |Array(?) |an array of strings of business categories                                 |\n",
    "|hours        |Object(?)|key day to value hours, hours are using a 24hr clock                       |\n",
    "\n",
    "\n",
    "- 2016 ACS Age and Sex table (might not use this)\n",
    "\n",
    "|Data ID|Data Type|Data Description|\n",
    "|-----------------|:-----:|-------------------------------------|\n",
    "|GEO.id           |String |ID                                   |\n",
    "|GEO.id2          |String |ID                                   |\n",
    "|GEO.display-label|String |Display label in format County, State|\n",
    "|HC01_EST_VC01    |Integer|Estimated total population           |\n",
    "\n",
    "#### Potential business cases relative to project: how would this help businesses out to make money or save money or improve accuracy or make better products?\n",
    "This project will allow expanding coffee-shop franchises, as well as entrepreneurs breaking into the coffee shop industry, to find a suitable location for a new coffee shop. By using this analysis, coffee shop owners can avoid opening coffee shops in non-suitable areas, resulting in large savings in capital. Opening a coffee shop in a thriving and expanding area with less competition should also result in higher profits.\n",
    "\n",
    "#### Potential stakeholders who would find this interesting: who would be your ideal customer or client for this?\n",
    "Seeing as large franchises like Starbucks already have software which executes this analysis, the ideal customer for this project would be small business owners and prospective entrepreneurs.\n",
    "\n",
    "#### Potential places to share your results post project (client, world, website, blog)\n",
    "At this time, I believe the most beneficial method of sharing these results would be through a blog post that would allow the user to reproduce the analysis for different areas (since this will only cover the DC metro area)."
   ]
  },
  {
   "cell_type": "markdown",
   "metadata": {},
   "source": [
    "<a id=\"part_3\"></a>"
   ]
  },
  {
   "cell_type": "markdown",
   "metadata": {},
   "source": [
    "# Part 3: Exploratory Data Analysis"
   ]
  },
  {
   "cell_type": "markdown",
   "metadata": {},
   "source": [
    "<a id=\"import_and_structure\"></a>"
   ]
  },
  {
   "cell_type": "markdown",
   "metadata": {},
   "source": [
    "# Import data files and save as dataframes."
   ]
  },
  {
   "cell_type": "code",
   "execution_count": 2,
   "metadata": {
    "collapsed": true
   },
   "outputs": [],
   "source": [
    "import pandas as pd\n",
    "from matplotlib import pyplot as plt\n",
    "\n",
    "%matplotlib inline"
   ]
  },
  {
   "cell_type": "markdown",
   "metadata": {},
   "source": [
    "<a id=\"import_zip\"></a>\n",
    "### Import zip_codes file (which contains all zip codes in dc-metro) into a python list."
   ]
  },
  {
   "cell_type": "code",
   "execution_count": 3,
   "metadata": {
    "collapsed": true
   },
   "outputs": [],
   "source": [
    "import csv\n",
    "with open('./data/zip_codes.csv', 'r') as f:\n",
    "    reader = csv.reader(f)\n",
    "    zip_codes = list(reader)\n",
    "    \n",
    "# convert list of lists attained from csv.reader to single flat list\n",
    "zip_codes_flat = [item for sublist in zip_codes for item in sublist]"
   ]
  },
  {
   "cell_type": "markdown",
   "metadata": {},
   "source": [
    "<a id=\"import_acs\"></a>\n",
    "### Import ACS Datasets"
   ]
  },
  {
   "cell_type": "code",
   "execution_count": 4,
   "metadata": {},
   "outputs": [
    {
     "data": {
      "text/plain": [
       "zip_code          int64\n",
       "estimate_total    int64\n",
       "dtype: object"
      ]
     },
     "execution_count": 4,
     "metadata": {},
     "output_type": "execute_result"
    }
   ],
   "source": [
    "# create dataframe with 2015 & 2016 data to compare for change in population\n",
    "popul2016_df = pd.read_csv('./data/ACS_16_5YR_B01003_with_ann.csv', names=('zip_code', 'estimate_total'), skiprows=1)\n",
    "popul2016_df = popul2016_df[popul2016_df.zip_code.isin(zip_codes_flat)]\n",
    "popul2016_df.dtypes"
   ]
  },
  {
   "cell_type": "code",
   "execution_count": 5,
   "metadata": {
    "collapsed": true,
    "scrolled": true
   },
   "outputs": [],
   "source": [
    "popul2016_df['zip_code'] = popul2016_df['zip_code'].astype(str)"
   ]
  },
  {
   "cell_type": "code",
   "execution_count": 6,
   "metadata": {
    "collapsed": true
   },
   "outputs": [],
   "source": [
    "zipfeatures_df = pd.read_csv('./data/ACS_15_5YR_B01002_with_ann.csv', names=('zip_code', 'median_age', 'mean_income', 'percent_public_transport'), skiprows=2)\n",
    "zipfeatures_df['zip_code'] = zipfeatures_df['zip_code'].astype(str)"
   ]
  },
  {
   "cell_type": "code",
   "execution_count": 7,
   "metadata": {
    "collapsed": true
   },
   "outputs": [],
   "source": [
    "zipfeatures_df = popul2016_df.merge(zipfeatures_df, on='zip_code')"
   ]
  },
  {
   "cell_type": "code",
   "execution_count": 8,
   "metadata": {
    "collapsed": true
   },
   "outputs": [],
   "source": [
    "zipfeatures_df['median_age'] = pd.to_numeric(zipfeatures_df['median_age'], errors='coerce')\n",
    "zipfeatures_df['mean_income'] = pd.to_numeric(zipfeatures_df['mean_income'], errors='coerce')\n",
    "zipfeatures_df['percent_public_transport'] = pd.to_numeric(zipfeatures_df['percent_public_transport'], errors='coerce')"
   ]
  },
  {
   "cell_type": "code",
   "execution_count": 9,
   "metadata": {},
   "outputs": [
    {
     "data": {
      "text/plain": [
       "zip_code                     object\n",
       "estimate_total                int64\n",
       "median_age                  float64\n",
       "mean_income                 float64\n",
       "percent_public_transport    float64\n",
       "dtype: object"
      ]
     },
     "execution_count": 9,
     "metadata": {},
     "output_type": "execute_result"
    }
   ],
   "source": [
    "zipfeatures_df.dtypes"
   ]
  },
  {
   "cell_type": "markdown",
   "metadata": {},
   "source": [
    "<a id=\"yelp_api\"></a>\n",
    "### Import Yelp dataset/call Yelp API.\n",
    "    - After importing the dataset I found it to be missing all data from DC area (maybe corrupted file?), so I chose to use  Yelp API.\n",
    "#### Note: <font color=Red>Don't run this code. Outputted, cleaned dataframe saved to file below and re-imported in the next section. I've marked where to begin running in red below.</font>"
   ]
  },
  {
   "cell_type": "code",
   "execution_count": 7,
   "metadata": {
    "collapsed": true
   },
   "outputs": [],
   "source": [
    "# businesses = pd.read_json('./data/business.json', lines=True)\n",
    "# businesses.shape\n",
    "# businesses.dtypes\n",
    "# businesses.head()\n",
    "# businesses[businesses.city.isin(zip_codes_flat)]"
   ]
  },
  {
   "cell_type": "code",
   "execution_count": 8,
   "metadata": {
    "collapsed": true,
    "scrolled": false
   },
   "outputs": [],
   "source": [
    "# This takes a very long time to run (calls the API 1200ish times; 10 minutes on my PC)\n",
    "# Query the yelp api for each zip code in the DC metro area\n",
    "# Since Yelp limit is 50 for businesses returned, we need to loop through pages of 50 using offsets\n",
    "\n",
    "import requests\n",
    "\n",
    "url = \"https://api.yelp.com/v3/businesses/search\"\n",
    "\n",
    "dict_responses = {}\n",
    "# for each zip code, gather up to 1001 businesses (should be enough for all businesses in each zip)\n",
    "for i in zip_codes_flat:\n",
    "    j = 1\n",
    "    while j <= 1001:\n",
    "        querystring = {'location': i, 'limit':50, 'offset':j}\n",
    "\n",
    "        headers = {\n",
    "            'authorization': #insert api key,\n",
    "            'cache-control': \"no-cache\",\n",
    "            }\n",
    "\n",
    "        response = requests.request(\"GET\", url, headers=headers, params=querystring)\n",
    "\n",
    "        response_todict = response.json()\n",
    "        try:\n",
    "            response_todict[str(int(i)+int(j))] = response_todict.pop('businesses')\n",
    "        except:\n",
    "            j = 1002\n",
    "        else:    \n",
    "            dict_responses.update(response_todict)\n",
    "            j = j + 50"
   ]
  },
  {
   "cell_type": "code",
   "execution_count": 9,
   "metadata": {
    "collapsed": true
   },
   "outputs": [],
   "source": [
    "# Clean up the response from the api\n",
    "\n",
    "list_of_businesses = []\n",
    "\n",
    "for key, item in dict_responses.items():\n",
    "    list_of_businesses.append(item)\n",
    "\n",
    "del(list_of_businesses[0:2])\n",
    "\n",
    "# more cleanup; list is currently list of lists of dictionaries due to how api was called\n",
    "# convert to just list of dictionaries\n",
    "\n",
    "list_of_businesses_formatting = []\n",
    "\n",
    "for i in list_of_businesses:\n",
    "    for j in i:\n",
    "        list_of_businesses_formatting.append(j)"
   ]
  },
  {
   "cell_type": "markdown",
   "metadata": {},
   "source": [
    "#### I need to normalize the json data so that each data point is in its own column."
   ]
  },
  {
   "cell_type": "code",
   "execution_count": 10,
   "metadata": {
    "collapsed": true
   },
   "outputs": [],
   "source": [
    "# Change formatting of categories column to only include \"title\", not \"alias\" (makes normalization easier)\n",
    "for idx, val in enumerate(list_of_businesses_formatting):\n",
    "    list_categories = []\n",
    "    for idx2, val2 in enumerate(val['categories']):\n",
    "        list_categories.append(list_of_businesses_formatting[idx]['categories'][idx2]['title'])\n",
    "    val['categories'] = list_categories"
   ]
  },
  {
   "cell_type": "code",
   "execution_count": 11,
   "metadata": {
    "collapsed": true
   },
   "outputs": [],
   "source": [
    "# This isn't technically normalized all the way since categories still has multiple values.\n",
    "# Good enough for analysis I need\n",
    "from pandas.io.json import json_normalize\n",
    "businesses_df = json_normalize(list_of_businesses_formatting)"
   ]
  },
  {
   "cell_type": "code",
   "execution_count": 12,
   "metadata": {
    "scrolled": false
   },
   "outputs": [
    {
     "data": {
      "text/html": [
       "<div>\n",
       "<style>\n",
       "    .dataframe thead tr:only-child th {\n",
       "        text-align: right;\n",
       "    }\n",
       "\n",
       "    .dataframe thead th {\n",
       "        text-align: left;\n",
       "    }\n",
       "\n",
       "    .dataframe tbody tr th {\n",
       "        vertical-align: top;\n",
       "    }\n",
       "</style>\n",
       "<table border=\"1\" class=\"dataframe\">\n",
       "  <thead>\n",
       "    <tr style=\"text-align: right;\">\n",
       "      <th></th>\n",
       "      <th>alias</th>\n",
       "      <th>categories</th>\n",
       "      <th>coordinates.latitude</th>\n",
       "      <th>coordinates.longitude</th>\n",
       "      <th>display_phone</th>\n",
       "      <th>distance</th>\n",
       "      <th>id</th>\n",
       "      <th>image_url</th>\n",
       "      <th>is_closed</th>\n",
       "      <th>location.address1</th>\n",
       "      <th>...</th>\n",
       "      <th>location.display_address</th>\n",
       "      <th>location.state</th>\n",
       "      <th>location.zip_code</th>\n",
       "      <th>name</th>\n",
       "      <th>phone</th>\n",
       "      <th>price</th>\n",
       "      <th>rating</th>\n",
       "      <th>review_count</th>\n",
       "      <th>transactions</th>\n",
       "      <th>url</th>\n",
       "    </tr>\n",
       "  </thead>\n",
       "  <tbody>\n",
       "    <tr>\n",
       "      <th>0</th>\n",
       "      <td>old-ebbitt-grill-washington</td>\n",
       "      <td>[Bars, American (Traditional), Breakfast &amp; Bru...</td>\n",
       "      <td>38.898005</td>\n",
       "      <td>-77.033362</td>\n",
       "      <td>(202) 347-4800</td>\n",
       "      <td>1428.775801</td>\n",
       "      <td>iyBbcXtQSBfiwFQZwVBNaQ</td>\n",
       "      <td>https://s3-media2.fl.yelpcdn.com/bphoto/KBCezp...</td>\n",
       "      <td>False</td>\n",
       "      <td>675 15th St NW</td>\n",
       "      <td>...</td>\n",
       "      <td>[675 15th St NW, Washington, DC 20005]</td>\n",
       "      <td>DC</td>\n",
       "      <td>20005</td>\n",
       "      <td>Old Ebbitt Grill</td>\n",
       "      <td>+12023474800</td>\n",
       "      <td>$$</td>\n",
       "      <td>4.0</td>\n",
       "      <td>6544</td>\n",
       "      <td>[]</td>\n",
       "      <td>https://www.yelp.com/biz/old-ebbitt-grill-wash...</td>\n",
       "    </tr>\n",
       "    <tr>\n",
       "      <th>1</th>\n",
       "      <td>a-baked-joint-washington-9</td>\n",
       "      <td>[Coffee &amp; Tea, Breakfast &amp; Brunch, Sandwiches]</td>\n",
       "      <td>38.902411</td>\n",
       "      <td>-77.017139</td>\n",
       "      <td>(202) 408-6985</td>\n",
       "      <td>547.273915</td>\n",
       "      <td>SpCeYPhky4gsWa9-IBtw2A</td>\n",
       "      <td>https://s3-media1.fl.yelpcdn.com/bphoto/iTBw1K...</td>\n",
       "      <td>False</td>\n",
       "      <td>440 K St NW</td>\n",
       "      <td>...</td>\n",
       "      <td>[440 K St NW, Washington, DC 20001]</td>\n",
       "      <td>DC</td>\n",
       "      <td>20001</td>\n",
       "      <td>A Baked Joint</td>\n",
       "      <td>+12024086985</td>\n",
       "      <td>$</td>\n",
       "      <td>4.5</td>\n",
       "      <td>1218</td>\n",
       "      <td>[]</td>\n",
       "      <td>https://www.yelp.com/biz/a-baked-joint-washing...</td>\n",
       "    </tr>\n",
       "  </tbody>\n",
       "</table>\n",
       "<p>2 rows × 24 columns</p>\n",
       "</div>"
      ],
      "text/plain": [
       "                         alias  \\\n",
       "0  old-ebbitt-grill-washington   \n",
       "1   a-baked-joint-washington-9   \n",
       "\n",
       "                                          categories  coordinates.latitude  \\\n",
       "0  [Bars, American (Traditional), Breakfast & Bru...             38.898005   \n",
       "1     [Coffee & Tea, Breakfast & Brunch, Sandwiches]             38.902411   \n",
       "\n",
       "   coordinates.longitude   display_phone     distance                      id  \\\n",
       "0             -77.033362  (202) 347-4800  1428.775801  iyBbcXtQSBfiwFQZwVBNaQ   \n",
       "1             -77.017139  (202) 408-6985   547.273915  SpCeYPhky4gsWa9-IBtw2A   \n",
       "\n",
       "                                           image_url  is_closed  \\\n",
       "0  https://s3-media2.fl.yelpcdn.com/bphoto/KBCezp...      False   \n",
       "1  https://s3-media1.fl.yelpcdn.com/bphoto/iTBw1K...      False   \n",
       "\n",
       "  location.address1                        ...                          \\\n",
       "0    675 15th St NW                        ...                           \n",
       "1       440 K St NW                        ...                           \n",
       "\n",
       "                 location.display_address location.state location.zip_code  \\\n",
       "0  [675 15th St NW, Washington, DC 20005]             DC             20005   \n",
       "1     [440 K St NW, Washington, DC 20001]             DC             20001   \n",
       "\n",
       "               name         phone price rating review_count transactions  \\\n",
       "0  Old Ebbitt Grill  +12023474800    $$    4.0         6544           []   \n",
       "1     A Baked Joint  +12024086985     $    4.5         1218           []   \n",
       "\n",
       "                                                 url  \n",
       "0  https://www.yelp.com/biz/old-ebbitt-grill-wash...  \n",
       "1  https://www.yelp.com/biz/a-baked-joint-washing...  \n",
       "\n",
       "[2 rows x 24 columns]"
      ]
     },
     "execution_count": 12,
     "metadata": {},
     "output_type": "execute_result"
    }
   ],
   "source": [
    "businesses_df.head(2)"
   ]
  },
  {
   "cell_type": "markdown",
   "metadata": {},
   "source": [
    "#### My looping api call technique resulted in many duplicates, as we examine and fix below (id is unique)."
   ]
  },
  {
   "cell_type": "code",
   "execution_count": 13,
   "metadata": {},
   "outputs": [
    {
     "data": {
      "text/plain": [
       "SvjE3q-uYpyjqYKh714IPw    16\n",
       "ynuv5y74SB2gEXFPjMYb_Q    16\n",
       "F6jgtkBLdyjHYhDO79Z1lA    16\n",
       "hrWvnULW3ragGALYVEAybA    16\n",
       "S0WNMOKJ5c3NXuC_-7lE2Q    14\n",
       "Name: id, dtype: int64"
      ]
     },
     "execution_count": 13,
     "metadata": {},
     "output_type": "execute_result"
    }
   ],
   "source": [
    "businesses_df.id.value_counts().head()"
   ]
  },
  {
   "cell_type": "code",
   "execution_count": 14,
   "metadata": {
    "collapsed": true
   },
   "outputs": [],
   "source": [
    "businesses_df.drop_duplicates(subset='id', inplace=True)"
   ]
  },
  {
   "cell_type": "code",
   "execution_count": 15,
   "metadata": {},
   "outputs": [
    {
     "data": {
      "text/plain": [
       "(4222, 24)"
      ]
     },
     "execution_count": 15,
     "metadata": {},
     "output_type": "execute_result"
    }
   ],
   "source": [
    "businesses_df.shape"
   ]
  },
  {
   "cell_type": "markdown",
   "metadata": {},
   "source": [
    "#### Now I will drop columns that I won't need during this project."
   ]
  },
  {
   "cell_type": "code",
   "execution_count": 16,
   "metadata": {
    "collapsed": true
   },
   "outputs": [],
   "source": [
    "businesses_df.drop(['alias',\n",
    "         'id',\n",
    "         'display_phone',\n",
    "         'distance', \n",
    "         'image_url', \n",
    "         'is_closed', \n",
    "         'location.address2', \n",
    "         'location.address3', \n",
    "         'location.display_address',\n",
    "         'phone',\n",
    "         'transactions',\n",
    "         'url'], axis=1, inplace=True)"
   ]
  },
  {
   "cell_type": "markdown",
   "metadata": {},
   "source": [
    "#### Next I'll clean up the column names."
   ]
  },
  {
   "cell_type": "code",
   "execution_count": 17,
   "metadata": {
    "collapsed": true
   },
   "outputs": [],
   "source": [
    "businesses_df.columns = ['categories', 'latitude', \n",
    "                         'longitude', 'address', \n",
    "                         'city', 'country', 'state', \n",
    "                         'zip_code', 'name', 'price', \n",
    "                         'rating', 'review_count']"
   ]
  },
  {
   "cell_type": "code",
   "execution_count": 18,
   "metadata": {
    "collapsed": true
   },
   "outputs": [],
   "source": [
    "# move name column to first position\n",
    "cols = businesses_df.columns.tolist()\n",
    "cols[0] = 'name'\n",
    "cols[8] = 'categories'\n",
    "businesses_df = businesses_df[cols]"
   ]
  },
  {
   "cell_type": "code",
   "execution_count": 19,
   "metadata": {},
   "outputs": [
    {
     "data": {
      "text/html": [
       "<div>\n",
       "<style>\n",
       "    .dataframe thead tr:only-child th {\n",
       "        text-align: right;\n",
       "    }\n",
       "\n",
       "    .dataframe thead th {\n",
       "        text-align: left;\n",
       "    }\n",
       "\n",
       "    .dataframe tbody tr th {\n",
       "        vertical-align: top;\n",
       "    }\n",
       "</style>\n",
       "<table border=\"1\" class=\"dataframe\">\n",
       "  <thead>\n",
       "    <tr style=\"text-align: right;\">\n",
       "      <th></th>\n",
       "      <th>name</th>\n",
       "      <th>latitude</th>\n",
       "      <th>longitude</th>\n",
       "      <th>address</th>\n",
       "      <th>city</th>\n",
       "      <th>country</th>\n",
       "      <th>state</th>\n",
       "      <th>zip_code</th>\n",
       "      <th>categories</th>\n",
       "      <th>price</th>\n",
       "      <th>rating</th>\n",
       "      <th>review_count</th>\n",
       "    </tr>\n",
       "  </thead>\n",
       "  <tbody>\n",
       "    <tr>\n",
       "      <th>0</th>\n",
       "      <td>Old Ebbitt Grill</td>\n",
       "      <td>38.898005</td>\n",
       "      <td>-77.033362</td>\n",
       "      <td>675 15th St NW</td>\n",
       "      <td>Washington, DC</td>\n",
       "      <td>US</td>\n",
       "      <td>DC</td>\n",
       "      <td>20005</td>\n",
       "      <td>[Bars, American (Traditional), Breakfast &amp; Bru...</td>\n",
       "      <td>$$</td>\n",
       "      <td>4.0</td>\n",
       "      <td>6544</td>\n",
       "    </tr>\n",
       "    <tr>\n",
       "      <th>1</th>\n",
       "      <td>A Baked Joint</td>\n",
       "      <td>38.902411</td>\n",
       "      <td>-77.017139</td>\n",
       "      <td>440 K St NW</td>\n",
       "      <td>Washington, DC</td>\n",
       "      <td>US</td>\n",
       "      <td>DC</td>\n",
       "      <td>20001</td>\n",
       "      <td>[Coffee &amp; Tea, Breakfast &amp; Brunch, Sandwiches]</td>\n",
       "      <td>$</td>\n",
       "      <td>4.5</td>\n",
       "      <td>1218</td>\n",
       "    </tr>\n",
       "    <tr>\n",
       "      <th>2</th>\n",
       "      <td>Le Diplomate</td>\n",
       "      <td>38.911359</td>\n",
       "      <td>-77.031575</td>\n",
       "      <td>1601 14th St NW</td>\n",
       "      <td>Washington, DC</td>\n",
       "      <td>US</td>\n",
       "      <td>DC</td>\n",
       "      <td>20009</td>\n",
       "      <td>[Brasseries, French, Cafes]</td>\n",
       "      <td>$$$</td>\n",
       "      <td>4.0</td>\n",
       "      <td>2449</td>\n",
       "    </tr>\n",
       "    <tr>\n",
       "      <th>3</th>\n",
       "      <td>Rasika</td>\n",
       "      <td>38.895008</td>\n",
       "      <td>-77.021286</td>\n",
       "      <td>633 D St NW</td>\n",
       "      <td>Washington, DC</td>\n",
       "      <td>US</td>\n",
       "      <td>DC</td>\n",
       "      <td>20004</td>\n",
       "      <td>[Indian]</td>\n",
       "      <td>$$$</td>\n",
       "      <td>4.5</td>\n",
       "      <td>2633</td>\n",
       "    </tr>\n",
       "    <tr>\n",
       "      <th>4</th>\n",
       "      <td>Matchbox - Chinatown</td>\n",
       "      <td>38.900050</td>\n",
       "      <td>-77.022540</td>\n",
       "      <td>713 H St NW</td>\n",
       "      <td>Washington, DC</td>\n",
       "      <td>US</td>\n",
       "      <td>DC</td>\n",
       "      <td>20001</td>\n",
       "      <td>[Pizza, American (New)]</td>\n",
       "      <td>$$</td>\n",
       "      <td>4.0</td>\n",
       "      <td>2673</td>\n",
       "    </tr>\n",
       "  </tbody>\n",
       "</table>\n",
       "</div>"
      ],
      "text/plain": [
       "                   name   latitude  longitude          address  \\\n",
       "0      Old Ebbitt Grill  38.898005 -77.033362   675 15th St NW   \n",
       "1         A Baked Joint  38.902411 -77.017139      440 K St NW   \n",
       "2          Le Diplomate  38.911359 -77.031575  1601 14th St NW   \n",
       "3                Rasika  38.895008 -77.021286      633 D St NW   \n",
       "4  Matchbox - Chinatown  38.900050 -77.022540      713 H St NW   \n",
       "\n",
       "             city country state zip_code  \\\n",
       "0  Washington, DC      US    DC    20005   \n",
       "1  Washington, DC      US    DC    20001   \n",
       "2  Washington, DC      US    DC    20009   \n",
       "3  Washington, DC      US    DC    20004   \n",
       "4  Washington, DC      US    DC    20001   \n",
       "\n",
       "                                          categories price  rating  \\\n",
       "0  [Bars, American (Traditional), Breakfast & Bru...    $$     4.0   \n",
       "1     [Coffee & Tea, Breakfast & Brunch, Sandwiches]     $     4.5   \n",
       "2                        [Brasseries, French, Cafes]   $$$     4.0   \n",
       "3                                           [Indian]   $$$     4.5   \n",
       "4                            [Pizza, American (New)]    $$     4.0   \n",
       "\n",
       "   review_count  \n",
       "0          6544  \n",
       "1          1218  \n",
       "2          2449  \n",
       "3          2633  \n",
       "4          2673  "
      ]
     },
     "execution_count": 19,
     "metadata": {},
     "output_type": "execute_result"
    }
   ],
   "source": [
    "businesses_df.head()"
   ]
  },
  {
   "cell_type": "markdown",
   "metadata": {},
   "source": [
    "#### For whatever reason the API imported some businesses outside of the queried zip codes, so I removed those quick."
   ]
  },
  {
   "cell_type": "code",
   "execution_count": 20,
   "metadata": {},
   "outputs": [
    {
     "data": {
      "text/plain": [
       "(4222, 12)"
      ]
     },
     "execution_count": 20,
     "metadata": {},
     "output_type": "execute_result"
    }
   ],
   "source": [
    "businesses_df.shape"
   ]
  },
  {
   "cell_type": "code",
   "execution_count": 21,
   "metadata": {
    "collapsed": true
   },
   "outputs": [],
   "source": [
    "businesses_df = businesses_df[businesses_df['zip_code'].isin(zip_codes_flat)]"
   ]
  },
  {
   "cell_type": "code",
   "execution_count": 22,
   "metadata": {},
   "outputs": [
    {
     "data": {
      "text/plain": [
       "(3175, 12)"
      ]
     },
     "execution_count": 22,
     "metadata": {},
     "output_type": "execute_result"
    }
   ],
   "source": [
    "businesses_df.shape"
   ]
  },
  {
   "cell_type": "markdown",
   "metadata": {},
   "source": [
    "#### Check for relevent null values"
   ]
  },
  {
   "cell_type": "code",
   "execution_count": 23,
   "metadata": {
    "scrolled": false
   },
   "outputs": [
    {
     "data": {
      "text/plain": [
       "name              0\n",
       "latitude          1\n",
       "longitude         1\n",
       "address          13\n",
       "city              0\n",
       "country           0\n",
       "state             0\n",
       "zip_code          0\n",
       "categories        0\n",
       "price           498\n",
       "rating            0\n",
       "review_count      0\n",
       "dtype: int64"
      ]
     },
     "execution_count": 23,
     "metadata": {},
     "output_type": "execute_result"
    }
   ],
   "source": [
    "businesses_df.isnull().sum()"
   ]
  },
  {
   "cell_type": "markdown",
   "metadata": {},
   "source": [
    "#### Save businesses_df to csv file for quicker use later."
   ]
  },
  {
   "cell_type": "code",
   "execution_count": 24,
   "metadata": {
    "collapsed": true
   },
   "outputs": [],
   "source": [
    "businesses_df.to_csv('./data/businesses.csv', sep='\\t')"
   ]
  },
  {
   "cell_type": "markdown",
   "metadata": {},
   "source": [
    "<a id=\"import_foursquare\"></a>\n",
    "### Import Foursquare dataset\n",
    "- These datasets are several gigabytes and were not included in the project repository due to size restrictions of github. You can find the dataset [here](https://sites.google.com/site/yangdingqi/home/foursquare-dataset)."
   ]
  },
  {
   "cell_type": "code",
   "execution_count": 59,
   "metadata": {
    "collapsed": true
   },
   "outputs": [],
   "source": [
    "foursquare_checkins_df = pd.read_csv(\"../../../dataset_TIST2015/dataset_TIST2015_Checkins.txt\", header=None, delimiter=\"\\t\")\n",
    "\n",
    "foursquare_checkins_df.drop([3], axis=1, inplace=True)\n",
    "foursquare_checkins_df.columns = ['user_id', 'venue_id', 'utc_time']"
   ]
  },
  {
   "cell_type": "code",
   "execution_count": 60,
   "metadata": {
    "collapsed": true
   },
   "outputs": [],
   "source": [
    "foursquare_poi_df = pd.read_csv(\"../../../dataset_TIST2015/dataset_TIST2015_POIs.txt\", header=None, delimiter=\"\\t\")\n",
    "\n",
    "foursquare_poi_df.columns = ['venue_id', 'latitude', 'longitude', 'venue_category', 'country']\n",
    "foursquare_poi_df = foursquare_poi_df[foursquare_poi_df['country'].isin(['US'])]"
   ]
  },
  {
   "cell_type": "code",
   "execution_count": 61,
   "metadata": {
    "collapsed": true
   },
   "outputs": [],
   "source": [
    "foursquare_merge_df = foursquare_checkins_df.merge(foursquare_poi_df, on=\"venue_id\")"
   ]
  },
  {
   "cell_type": "code",
   "execution_count": 62,
   "metadata": {
    "scrolled": true
   },
   "outputs": [
    {
     "data": {
      "text/html": [
       "<div>\n",
       "<style>\n",
       "    .dataframe thead tr:only-child th {\n",
       "        text-align: right;\n",
       "    }\n",
       "\n",
       "    .dataframe thead th {\n",
       "        text-align: left;\n",
       "    }\n",
       "\n",
       "    .dataframe tbody tr th {\n",
       "        vertical-align: top;\n",
       "    }\n",
       "</style>\n",
       "<table border=\"1\" class=\"dataframe\">\n",
       "  <thead>\n",
       "    <tr style=\"text-align: right;\">\n",
       "      <th></th>\n",
       "      <th>user_id</th>\n",
       "      <th>venue_id</th>\n",
       "      <th>utc_time</th>\n",
       "      <th>latitude</th>\n",
       "      <th>longitude</th>\n",
       "      <th>venue_category</th>\n",
       "      <th>country</th>\n",
       "    </tr>\n",
       "  </thead>\n",
       "  <tbody>\n",
       "    <tr>\n",
       "      <th>0</th>\n",
       "      <td>221021</td>\n",
       "      <td>4a85b1b3f964a520eefe1fe3</td>\n",
       "      <td>Tue Apr 03 18:00:08 +0000 2012</td>\n",
       "      <td>40.748939</td>\n",
       "      <td>-73.99228</td>\n",
       "      <td>Coffee Shop</td>\n",
       "      <td>US</td>\n",
       "    </tr>\n",
       "    <tr>\n",
       "      <th>1</th>\n",
       "      <td>89453</td>\n",
       "      <td>4a85b1b3f964a520eefe1fe3</td>\n",
       "      <td>Tue Apr 24 22:53:57 +0000 2012</td>\n",
       "      <td>40.748939</td>\n",
       "      <td>-73.99228</td>\n",
       "      <td>Coffee Shop</td>\n",
       "      <td>US</td>\n",
       "    </tr>\n",
       "    <tr>\n",
       "      <th>2</th>\n",
       "      <td>206753</td>\n",
       "      <td>4a85b1b3f964a520eefe1fe3</td>\n",
       "      <td>Thu May 03 16:20:48 +0000 2012</td>\n",
       "      <td>40.748939</td>\n",
       "      <td>-73.99228</td>\n",
       "      <td>Coffee Shop</td>\n",
       "      <td>US</td>\n",
       "    </tr>\n",
       "    <tr>\n",
       "      <th>3</th>\n",
       "      <td>114526</td>\n",
       "      <td>4a85b1b3f964a520eefe1fe3</td>\n",
       "      <td>Wed May 09 23:09:45 +0000 2012</td>\n",
       "      <td>40.748939</td>\n",
       "      <td>-73.99228</td>\n",
       "      <td>Coffee Shop</td>\n",
       "      <td>US</td>\n",
       "    </tr>\n",
       "    <tr>\n",
       "      <th>4</th>\n",
       "      <td>86634</td>\n",
       "      <td>4a85b1b3f964a520eefe1fe3</td>\n",
       "      <td>Tue May 22 13:31:13 +0000 2012</td>\n",
       "      <td>40.748939</td>\n",
       "      <td>-73.99228</td>\n",
       "      <td>Coffee Shop</td>\n",
       "      <td>US</td>\n",
       "    </tr>\n",
       "  </tbody>\n",
       "</table>\n",
       "</div>"
      ],
      "text/plain": [
       "   user_id                  venue_id                        utc_time  \\\n",
       "0   221021  4a85b1b3f964a520eefe1fe3  Tue Apr 03 18:00:08 +0000 2012   \n",
       "1    89453  4a85b1b3f964a520eefe1fe3  Tue Apr 24 22:53:57 +0000 2012   \n",
       "2   206753  4a85b1b3f964a520eefe1fe3  Thu May 03 16:20:48 +0000 2012   \n",
       "3   114526  4a85b1b3f964a520eefe1fe3  Wed May 09 23:09:45 +0000 2012   \n",
       "4    86634  4a85b1b3f964a520eefe1fe3  Tue May 22 13:31:13 +0000 2012   \n",
       "\n",
       "    latitude  longitude venue_category country  \n",
       "0  40.748939  -73.99228    Coffee Shop      US  \n",
       "1  40.748939  -73.99228    Coffee Shop      US  \n",
       "2  40.748939  -73.99228    Coffee Shop      US  \n",
       "3  40.748939  -73.99228    Coffee Shop      US  \n",
       "4  40.748939  -73.99228    Coffee Shop      US  "
      ]
     },
     "execution_count": 62,
     "metadata": {},
     "output_type": "execute_result"
    }
   ],
   "source": [
    "foursquare_merge_df.head()"
   ]
  },
  {
   "cell_type": "code",
   "execution_count": 63,
   "metadata": {},
   "outputs": [
    {
     "data": {
      "text/plain": [
       "(3564144, 7)"
      ]
     },
     "execution_count": 63,
     "metadata": {},
     "output_type": "execute_result"
    }
   ],
   "source": [
    "foursquare_merge_df.shape"
   ]
  },
  {
   "cell_type": "markdown",
   "metadata": {},
   "source": [
    "#### Now I want to pull out the the users who visited a coffee shop at least once. I'll create a new column called \"coffee_shop_bin\". If the user visited a coffee shop on the selected day, all rows for that day will be set to 1. Else, 0. Later I'll use this in my models to predict where people are coming from when they go to a coffee shop.\n",
    "- I'll overwrite the same DF to cut down on memory usage..."
   ]
  },
  {
   "cell_type": "code",
   "execution_count": 64,
   "metadata": {
    "collapsed": true
   },
   "outputs": [],
   "source": [
    "# reduce the dataframe to include only users who have visited a coffee shop\n",
    "coffee_drinkers = foursquare_merge_df[foursquare_merge_df.venue_category.isin(['Coffee Shop'])].user_id.unique().tolist()\n",
    "foursquare_merge_df = foursquare_merge_df[foursquare_merge_df.user_id.isin(coffee_drinkers)]"
   ]
  },
  {
   "cell_type": "code",
   "execution_count": 65,
   "metadata": {},
   "outputs": [
    {
     "data": {
      "text/plain": [
       "(2439117, 7)"
      ]
     },
     "execution_count": 65,
     "metadata": {},
     "output_type": "execute_result"
    }
   ],
   "source": [
    "foursquare_merge_df.shape"
   ]
  },
  {
   "cell_type": "code",
   "execution_count": 66,
   "metadata": {},
   "outputs": [
    {
     "data": {
      "text/plain": [
       "user_id                    int64\n",
       "venue_id                  object\n",
       "utc_time          datetime64[ns]\n",
       "latitude                 float64\n",
       "longitude                float64\n",
       "venue_category            object\n",
       "country                   object\n",
       "dtype: object"
      ]
     },
     "execution_count": 66,
     "metadata": {},
     "output_type": "execute_result"
    }
   ],
   "source": [
    "# convert utc_time to datetime object, takes 5-10 minutes\n",
    "foursquare_merge_df['utc_time'] = pd.to_datetime(foursquare_merge_df['utc_time'], infer_datetime_format=True)\n",
    "foursquare_merge_df.dtypes"
   ]
  },
  {
   "cell_type": "code",
   "execution_count": 67,
   "metadata": {},
   "outputs": [
    {
     "name": "stderr",
     "output_type": "stream",
     "text": [
      "C:\\Users\\Steven\\Anaconda3\\lib\\site-packages\\ipykernel_launcher.py:8: SettingWithCopyWarning: \n",
      "A value is trying to be set on a copy of a slice from a DataFrame.\n",
      "Try using .loc[row_indexer,col_indexer] = value instead\n",
      "\n",
      "See the caveats in the documentation: http://pandas.pydata.org/pandas-docs/stable/indexing.html#indexing-view-versus-copy\n",
      "  \n",
      "C:\\Users\\Steven\\Anaconda3\\lib\\site-packages\\ipykernel_launcher.py:11: SettingWithCopyWarning: \n",
      "A value is trying to be set on a copy of a slice from a DataFrame.\n",
      "Try using .loc[row_indexer,col_indexer] = value instead\n",
      "\n",
      "See the caveats in the documentation: http://pandas.pydata.org/pandas-docs/stable/indexing.html#indexing-view-versus-copy\n",
      "  # This is added back by InteractiveShellApp.init_path()\n"
     ]
    }
   ],
   "source": [
    "# this is super inefficient, but shouldn't need to be run again. took approx. 20 minutes.\n",
    "# groups df by user id, month, day, then checks each group for coffee shop visits\n",
    "grouped_foursquare = foursquare_merge_df.groupby([foursquare_merge_df.user_id, \n",
    "                                                   foursquare_merge_df.utc_time.dt.month, \n",
    "                                                   foursquare_merge_df.utc_time.dt.day])\n",
    "# if group contains a coffee shop check-in, set all values of coffee_shop_bin in that group to yes\n",
    "grouped_foursquare_true = grouped_foursquare.filter(lambda x: x['venue_category'].str.contains('Coffee').any())\n",
    "grouped_foursquare_true['coffee_shop_bin'] = 1\n",
    "# if group does not contain a coffee shop check-in, set all values of coffee_shop_bin in that group to yes\n",
    "grouped_foursquare_false = grouped_foursquare.filter(lambda x: ~x['venue_category'].str.contains('Coffee').any())\n",
    "grouped_foursquare_false['coffee_shop_bin'] = 0\n",
    "\n",
    "# re-combine the true and false datasets\n",
    "grouped_foursquare = grouped_foursquare_true.append(grouped_foursquare_false, ignore_index=True)"
   ]
  },
  {
   "cell_type": "code",
   "execution_count": 68,
   "metadata": {
    "scrolled": true
   },
   "outputs": [
    {
     "name": "stdout",
     "output_type": "stream",
     "text": [
      "Full data: (2439117, 7)\n",
      "Checkins from days w/ coffee shop visits: (309677, 8)\n",
      "Checkins from days w/out coffee shop visits: (2129440, 8)\n",
      "Data after concat: (2439117, 8)\n"
     ]
    }
   ],
   "source": [
    "# make sure we didn't lose any data\n",
    "print(\"Full data: \" + str(foursquare_merge_df.shape))\n",
    "print(\"Checkins from days w/ coffee shop visits: \" + str(grouped_foursquare_true.shape))\n",
    "print(\"Checkins from days w/out coffee shop visits: \" + str(grouped_foursquare_false.shape))\n",
    "print(\"Data after concat: \" + str(grouped_foursquare.shape))"
   ]
  },
  {
   "cell_type": "markdown",
   "metadata": {},
   "source": [
    "#### Get address data from longitude and latitude.\n",
    "- I tried using geopy to get the city from the coordinates, which appears to work, but it would take 20 straight days to run all 3.5 million lines. Will explore this later. Most geolocaters also have a query limit which this would far exceed."
   ]
  },
  {
   "cell_type": "code",
   "execution_count": 18,
   "metadata": {},
   "outputs": [
    {
     "name": "stdout",
     "output_type": "stream",
     "text": [
      "10 lines: --- 10.996055603027344 seconds ---\n"
     ]
    }
   ],
   "source": [
    "from geopy.geocoders import Nominatim\n",
    "import time\n",
    "\n",
    "start_time = time.time()\n",
    "\n",
    "i=0\n",
    "for index, row in foursquare_merge_df.iterrows():\n",
    "    if i < 10:\n",
    "        coord = str(row['latitude']) + \",\" + str(row['longitude'])\n",
    "\n",
    "        geolocator = Nominatim()\n",
    "        location = geolocator.reverse(coord)\n",
    "        if \"District of Columbia\" in location.address: \n",
    "            print(location.address)\n",
    "        i+=1\n",
    "    else:\n",
    "        break\n",
    "        \n",
    "print(\"10 lines: --- %s seconds ---\" % (time.time() - start_time))\n",
    "\n",
    "# geolocator = Nominatim()\n",
    "# location = geolocator.reverse(\"38.898005, -77.033362\")\n",
    "# print(location.address)\n"
   ]
  },
  {
   "cell_type": "markdown",
   "metadata": {},
   "source": [
    "- Trying a package I found on github called reverse_geocoder to cut down on query time. This only took a few minutes to run, but unfortunately only returned high level geography (Washington, D.C)."
   ]
  },
  {
   "cell_type": "code",
   "execution_count": 69,
   "metadata": {
    "collapsed": true
   },
   "outputs": [],
   "source": [
    "import reverse_geocoder as rg\n",
    "\n",
    "coordinates = []\n",
    "for index, row in grouped_foursquare.iterrows():\n",
    "    coordinates.append((row.latitude, row.longitude))\n",
    "    \n",
    "results = rg.search(coordinates)"
   ]
  },
  {
   "cell_type": "code",
   "execution_count": 70,
   "metadata": {
    "collapsed": true
   },
   "outputs": [],
   "source": [
    "dc_bools = []\n",
    "\n",
    "for i in results:\n",
    "    result = \"D.C\" in str(i)\n",
    "    dc_bools.append(result)"
   ]
  },
  {
   "cell_type": "code",
   "execution_count": 71,
   "metadata": {},
   "outputs": [
    {
     "data": {
      "text/plain": [
       "[False, False, False, False, False]"
      ]
     },
     "execution_count": 71,
     "metadata": {},
     "output_type": "execute_result"
    }
   ],
   "source": [
    "dc_bools[0:5]"
   ]
  },
  {
   "cell_type": "code",
   "execution_count": 72,
   "metadata": {
    "collapsed": true
   },
   "outputs": [],
   "source": [
    "grouped_foursquare['check_in_dc'] = dc_bools"
   ]
  },
  {
   "cell_type": "code",
   "execution_count": 73,
   "metadata": {
    "scrolled": true
   },
   "outputs": [
    {
     "data": {
      "text/plain": [
       "False    2372042\n",
       "True       67075\n",
       "Name: check_in_dc, dtype: int64"
      ]
     },
     "execution_count": 73,
     "metadata": {},
     "output_type": "execute_result"
    }
   ],
   "source": [
    "grouped_foursquare.check_in_dc.value_counts()"
   ]
  },
  {
   "cell_type": "code",
   "execution_count": 74,
   "metadata": {
    "collapsed": true,
    "scrolled": false
   },
   "outputs": [],
   "source": [
    "grouped_foursquare = grouped_foursquare[grouped_foursquare.check_in_dc == True]\n",
    "grouped_foursquare.drop('check_in_dc', axis=1, inplace=True)"
   ]
  },
  {
   "cell_type": "markdown",
   "metadata": {},
   "source": [
    "#### I want to continue reverse geocoding to get zip codes. I'll pull in Zillow neighborhood shapefiles."
   ]
  },
  {
   "cell_type": "code",
   "execution_count": 75,
   "metadata": {
    "collapsed": true
   },
   "outputs": [],
   "source": [
    "import geopandas as gpd\n",
    "shape = gpd.read_file('data/ZillowNeighborhoods-DC.shp')"
   ]
  },
  {
   "cell_type": "code",
   "execution_count": 76,
   "metadata": {},
   "outputs": [
    {
     "data": {
      "text/html": [
       "<div>\n",
       "<style>\n",
       "    .dataframe thead tr:only-child th {\n",
       "        text-align: right;\n",
       "    }\n",
       "\n",
       "    .dataframe thead th {\n",
       "        text-align: left;\n",
       "    }\n",
       "\n",
       "    .dataframe tbody tr th {\n",
       "        vertical-align: top;\n",
       "    }\n",
       "</style>\n",
       "<table border=\"1\" class=\"dataframe\">\n",
       "  <thead>\n",
       "    <tr style=\"text-align: right;\">\n",
       "      <th></th>\n",
       "      <th>State</th>\n",
       "      <th>County</th>\n",
       "      <th>City</th>\n",
       "      <th>Name</th>\n",
       "      <th>RegionID</th>\n",
       "      <th>geometry</th>\n",
       "    </tr>\n",
       "  </thead>\n",
       "  <tbody>\n",
       "    <tr>\n",
       "      <th>0</th>\n",
       "      <td>DC</td>\n",
       "      <td>District of Columbia</td>\n",
       "      <td>Washington</td>\n",
       "      <td>Barnaby Woods</td>\n",
       "      <td>121672</td>\n",
       "      <td>POLYGON ((-77.04528160099994 38.97573291100008...</td>\n",
       "    </tr>\n",
       "    <tr>\n",
       "      <th>1</th>\n",
       "      <td>DC</td>\n",
       "      <td>District of Columbia</td>\n",
       "      <td>Washington</td>\n",
       "      <td>Bellevue</td>\n",
       "      <td>121674</td>\n",
       "      <td>POLYGON ((-77.01639139799994 38.80931882600004...</td>\n",
       "    </tr>\n",
       "    <tr>\n",
       "      <th>2</th>\n",
       "      <td>DC</td>\n",
       "      <td>District of Columbia</td>\n",
       "      <td>Washington</td>\n",
       "      <td>Benning</td>\n",
       "      <td>121675</td>\n",
       "      <td>POLYGON ((-76.95024865099992 38.88970558200003...</td>\n",
       "    </tr>\n",
       "    <tr>\n",
       "      <th>3</th>\n",
       "      <td>DC</td>\n",
       "      <td>District of Columbia</td>\n",
       "      <td>Washington</td>\n",
       "      <td>Chevy Chase</td>\n",
       "      <td>121689</td>\n",
       "      <td>POLYGON ((-77.05323999999973 38.97290000000029...</td>\n",
       "    </tr>\n",
       "    <tr>\n",
       "      <th>4</th>\n",
       "      <td>DC</td>\n",
       "      <td>District of Columbia</td>\n",
       "      <td>Washington</td>\n",
       "      <td>Dupont Park</td>\n",
       "      <td>121705</td>\n",
       "      <td>POLYGON ((-76.94706749892596 38.88285577097802...</td>\n",
       "    </tr>\n",
       "  </tbody>\n",
       "</table>\n",
       "</div>"
      ],
      "text/plain": [
       "  State                County        City           Name RegionID  \\\n",
       "0    DC  District of Columbia  Washington  Barnaby Woods   121672   \n",
       "1    DC  District of Columbia  Washington       Bellevue   121674   \n",
       "2    DC  District of Columbia  Washington        Benning   121675   \n",
       "3    DC  District of Columbia  Washington    Chevy Chase   121689   \n",
       "4    DC  District of Columbia  Washington    Dupont Park   121705   \n",
       "\n",
       "                                            geometry  \n",
       "0  POLYGON ((-77.04528160099994 38.97573291100008...  \n",
       "1  POLYGON ((-77.01639139799994 38.80931882600004...  \n",
       "2  POLYGON ((-76.95024865099992 38.88970558200003...  \n",
       "3  POLYGON ((-77.05323999999973 38.97290000000029...  \n",
       "4  POLYGON ((-76.94706749892596 38.88285577097802...  "
      ]
     },
     "execution_count": 76,
     "metadata": {},
     "output_type": "execute_result"
    }
   ],
   "source": [
    "shape.head()"
   ]
  },
  {
   "cell_type": "code",
   "execution_count": 77,
   "metadata": {},
   "outputs": [
    {
     "data": {
      "text/plain": [
       "<matplotlib.axes._subplots.AxesSubplot at 0x15752093f28>"
      ]
     },
     "execution_count": 77,
     "metadata": {},
     "output_type": "execute_result"
    },
    {
     "data": {
      "image/png": "[encoded data removed]",
      "text/plain": [
       "<matplotlib.figure.Figure at 0x157f0e639b0>"
      ]
     },
     "metadata": {},
     "output_type": "display_data"
    }
   ],
   "source": [
    "shape.plot()"
   ]
  },
  {
   "cell_type": "code",
   "execution_count": 78,
   "metadata": {
    "collapsed": true
   },
   "outputs": [],
   "source": [
    "# https://stackoverflow.com/questions/7861196/check-if-a-geopoint-with-latitude-and-longitude-is-within-a-shapefile?utm_medium=organic&utm_source=google_rich_qa&utm_campaign=google_rich_qa\n",
    "# credit to Richard\n",
    "\n",
    "import ogr\n",
    "from IPython import embed\n",
    "import sys\n",
    "\n",
    "drv = ogr.GetDriverByName('ESRI Shapefile') #We will load a shape file\n",
    "ds_in = drv.Open(\"data/ZillowNeighborhoods-DC.shp\")    #Get the contents of the shape file\n",
    "lyr_in = ds_in.GetLayer(0)    #Get the shape file's first layer\n",
    "\n",
    "#Put the title of the field you are interested in here\n",
    "idx_reg = lyr_in.GetLayerDefn().GetFieldIndex(\"name\")\n",
    "\n",
    "#If the latitude/longitude we're going to use is not in the projection\n",
    "#of the shapefile, then we will get erroneous results.\n",
    "#The following assumes that the latitude longitude is in WGS84\n",
    "#This is identified by the number \"4326\", as in \"EPSG:4326\"\n",
    "#We will create a transformation between this and the shapefile's\n",
    "#project, whatever it may be\n",
    "geo_ref = lyr_in.GetSpatialRef()\n",
    "point_ref=ogr.osr.SpatialReference()\n",
    "point_ref.ImportFromEPSG(4326)\n",
    "ctran=ogr.osr.CoordinateTransformation(point_ref,geo_ref)\n",
    "\n",
    "def check(lon,lat):\n",
    "    #Create a point\n",
    "    pt = ogr.Geometry(ogr.wkbPoint)\n",
    "    pt.SetPoint_2D(0, lon, lat)\n",
    "\n",
    "    #Set up a spatial filter such that the only features we see when we\n",
    "    #loop through \"lyr_in\" are those which overlap the point defined above\n",
    "    lyr_in.SetSpatialFilter(pt)\n",
    "\n",
    "    #Loop through the overlapped features and display the field of interest\n",
    "    for feat_in in lyr_in:\n",
    "        return feat_in.GetFieldAsString(idx_reg)"
   ]
  },
  {
   "cell_type": "code",
   "execution_count": 79,
   "metadata": {
    "collapsed": true
   },
   "outputs": [],
   "source": [
    "this_is_a_neighborhoods = []\n",
    "for index, row in grouped_foursquare.iterrows():\n",
    "    this_is_a_neighborhoods.append(check(row.longitude, row.latitude))"
   ]
  },
  {
   "cell_type": "code",
   "execution_count": 80,
   "metadata": {},
   "outputs": [
    {
     "data": {
      "text/plain": [
       "['Dupont Circle',\n",
       " 'Shaw',\n",
       " 'Shaw',\n",
       " 'Shaw',\n",
       " 'Shaw',\n",
       " 'Shaw',\n",
       " 'Capitol Hill',\n",
       " 'Downtown',\n",
       " 'Navy Yard',\n",
       " 'Navy Yard']"
      ]
     },
     "execution_count": 80,
     "metadata": {},
     "output_type": "execute_result"
    }
   ],
   "source": [
    "this_is_a_neighborhoods[0:10]"
   ]
  },
  {
   "cell_type": "code",
   "execution_count": 81,
   "metadata": {
    "collapsed": true
   },
   "outputs": [],
   "source": [
    "import csv\n",
    "with open('./data/neighborhoodsToZip.csv', 'r') as f:\n",
    "    reader = csv.reader(f)\n",
    "    conversion = dict(reader)\n",
    "del conversion['Neighborhood']"
   ]
  },
  {
   "cell_type": "code",
   "execution_count": 82,
   "metadata": {},
   "outputs": [
    {
     "data": {
      "text/plain": [
       "{'': '20001',\n",
       " 'Adams Morgan': '20009',\n",
       " 'American University Park': '20016',\n",
       " 'Arboretum': '20002',\n",
       " 'Barnaby Woods': '20015',\n",
       " 'Barry Farm': '20020',\n",
       " 'Bellevue': '20032',\n",
       " 'Benning': '20019',\n",
       " 'Benning Heights': '20019',\n",
       " 'Bloomingdale': '20017',\n",
       " 'Brentwood': '20722',\n",
       " 'Brightwood': '20011',\n",
       " 'Brightwood Park': '20011',\n",
       " 'Brookland': '20017',\n",
       " 'Buena Vista': '20020',\n",
       " 'Burleith': '20007',\n",
       " 'Burrville': '20019',\n",
       " 'Buzzard Point': '20024',\n",
       " 'Capitol Hill': '20003',\n",
       " 'Capitol View': '20020',\n",
       " 'Cardozo': '20001',\n",
       " 'Carver Langston': '20002',\n",
       " 'Cathedral Heights': '20016',\n",
       " 'Chevy Chase': '20015',\n",
       " 'Chinatown': '20001',\n",
       " 'Cleveland Park': '20008',\n",
       " 'Colonial Village': '20012',\n",
       " 'Columbia Heights': '20010',\n",
       " 'Congress Heights': '20032',\n",
       " 'Connecticut Avenue': '20036',\n",
       " 'Crestwood': '20011',\n",
       " 'Deanwood': '20019',\n",
       " 'Douglass': '20020',\n",
       " 'Downtown': '20001',\n",
       " 'Dupont Circle': '20036',\n",
       " 'Dupont Park': '20020',\n",
       " 'Eastland Gardens': '20019',\n",
       " 'Eckington': '20002',\n",
       " 'Edgewood': '20017',\n",
       " 'Fairfax Village': '20020',\n",
       " 'Fairlawn': '20020',\n",
       " 'Fairmont Heights': '20009',\n",
       " 'Foggy Bottom': '20037',\n",
       " 'Forest Hills': '20008',\n",
       " 'Fort Davis Park': '20020',\n",
       " 'Fort Dupont': '20019',\n",
       " 'Fort Lincoln': '20018',\n",
       " 'Fort McNair': '20319',\n",
       " 'Fort Stanton': '20020',\n",
       " 'Fort Totten': '20011',\n",
       " 'Foxhall Crescent': '20007',\n",
       " 'Foxhall Village': '20007',\n",
       " 'Friendship Heights': '20016',\n",
       " 'GWU': '20037',\n",
       " 'Garfield Heights': '20020',\n",
       " 'Gateway': '20018',\n",
       " 'Georgetown': '20007',\n",
       " 'Georgetown Reservoir': '20007',\n",
       " 'Glover Park': '20007',\n",
       " 'Grant Park': '20019',\n",
       " 'Greenway': '20019',\n",
       " 'Hawthorne': '20015',\n",
       " 'Hillandale': '20007',\n",
       " 'Hillbrook': '20016',\n",
       " 'Hillcrest': '20020',\n",
       " 'Historic Anacostia': '20020',\n",
       " 'Howard University': '20001',\n",
       " 'Ivy City': '20002',\n",
       " 'K Street': '20006',\n",
       " 'Kalorama Heights': '20009',\n",
       " 'Kenilworth': '20019',\n",
       " 'Kingman Park': '20002',\n",
       " 'Knox Hill': '20020',\n",
       " 'Lamond Riggs': '20011',\n",
       " 'Langdon': '20018',\n",
       " 'Lanier Heights': '20009',\n",
       " 'Le Droit Park': '20001',\n",
       " 'Lincoln Heights': '20019',\n",
       " 'Lincoln Park': '20002',\n",
       " 'Logan Circle': '20001',\n",
       " 'Mahaning Heights': '20016',\n",
       " 'Manor Park': '20011',\n",
       " 'Marshall Heights': '20019',\n",
       " 'Massachusetts Avenue Heights': '20007',\n",
       " 'Mayfair': '20019',\n",
       " 'McLean Gardens': '20016',\n",
       " 'Michigan Park': '20017',\n",
       " 'Mount Vernon Square': '20001',\n",
       " 'Mt. Pleasant': '20010',\n",
       " 'Navy Yard': '20003',\n",
       " 'Naylor Gardens': '20020',\n",
       " 'Near Southeast': '20003',\n",
       " 'NoMa': '20002',\n",
       " 'North Capitol Street': '20002',\n",
       " 'North Cleveland Park': '20008',\n",
       " 'North Michigan Park': '20017',\n",
       " 'North Portal Estates': '20012',\n",
       " 'Palisades': '20016',\n",
       " 'Park View': '20010',\n",
       " 'Penn Branch': '20019',\n",
       " 'Penn Quarter': '20004',\n",
       " 'Petworth': '20011',\n",
       " 'Pleasant Hill': '20020',\n",
       " 'Pleasant Plains': '20010',\n",
       " 'Queens Chapel': '20011',\n",
       " 'Randle Highlands': '20020',\n",
       " 'River Terrace': '20019',\n",
       " 'Shaw': '20001',\n",
       " 'Shepherd Park': '20012',\n",
       " 'Sheridan': '20011',\n",
       " 'Shipley Terrace': '20020',\n",
       " 'Southwest': '20024',\n",
       " 'Southwest Employment Area': '20024',\n",
       " 'Southwest Waterfront': '20024',\n",
       " 'Spring Valley': '20016',\n",
       " 'Stanton Park': '20002',\n",
       " 'Summit Park': '20009',\n",
       " 'Takoma': '20012',\n",
       " 'Tenleytown': '20016',\n",
       " 'Trinidad': '20002',\n",
       " 'Truxton Circle': '20017',\n",
       " 'Twining': '20020',\n",
       " 'Union Station': '20002',\n",
       " 'University Heights': '20017',\n",
       " 'Van Ness': '20008',\n",
       " 'Washington Highland': '20032',\n",
       " 'Wesley Heights': '20016',\n",
       " 'West End': '20037',\n",
       " 'Woodland': '20008',\n",
       " 'Woodland-Normanstone Terrace': '20008',\n",
       " 'Woodley Park': '20008',\n",
       " 'Woodridge': '20018'}"
      ]
     },
     "execution_count": 82,
     "metadata": {},
     "output_type": "execute_result"
    }
   ],
   "source": [
    "conversion"
   ]
  },
  {
   "cell_type": "code",
   "execution_count": 83,
   "metadata": {
    "collapsed": true
   },
   "outputs": [],
   "source": [
    "conversions = []\n",
    "for i in this_is_a_neighborhoods:\n",
    "    try:\n",
    "        conversions.append(conversion[i])\n",
    "    except KeyError:\n",
    "        conversions.append('99999')"
   ]
  },
  {
   "cell_type": "code",
   "execution_count": 84,
   "metadata": {
    "scrolled": true
   },
   "outputs": [
    {
     "name": "stdout",
     "output_type": "stream",
     "text": [
      "67075\n",
      "(67075, 8)\n"
     ]
    }
   ],
   "source": [
    "print(len(conversions))\n",
    "print(grouped_foursquare.shape)"
   ]
  },
  {
   "cell_type": "code",
   "execution_count": 85,
   "metadata": {
    "collapsed": true
   },
   "outputs": [],
   "source": [
    "grouped_foursquare['zip_code'] = conversions"
   ]
  },
  {
   "cell_type": "code",
   "execution_count": 86,
   "metadata": {
    "scrolled": true
   },
   "outputs": [
    {
     "data": {
      "text/plain": [
       "20001    19509\n",
       "99999    16804\n",
       "20036     6731\n",
       "20003     4237\n",
       "20007     3827\n",
       "20004     3296\n",
       "20002     3058\n",
       "20037     2834\n",
       "20009     2131\n",
       "20010     2120\n",
       "20008     1144\n",
       "20024      876\n",
       "20017      485\n",
       "20722       18\n",
       "20020        3\n",
       "20011        2\n",
       "Name: zip_code, dtype: int64"
      ]
     },
     "execution_count": 86,
     "metadata": {},
     "output_type": "execute_result"
    }
   ],
   "source": [
    "grouped_foursquare.zip_code.value_counts()"
   ]
  },
  {
   "cell_type": "code",
   "execution_count": 87,
   "metadata": {
    "collapsed": true
   },
   "outputs": [],
   "source": [
    "# some neighborhoods did not convert to zip code correctly. Due to time restrictions and \n",
    "# previous issues with geocoding, I'm simply going to drop them for now.\n",
    "grouped_foursquare = grouped_foursquare[grouped_foursquare.zip_code != '99999']"
   ]
  },
  {
   "cell_type": "code",
   "execution_count": 88,
   "metadata": {},
   "outputs": [
    {
     "data": {
      "text/plain": [
       "20001    19509\n",
       "20036     6731\n",
       "20003     4237\n",
       "20007     3827\n",
       "20004     3296\n",
       "20002     3058\n",
       "20037     2834\n",
       "20009     2131\n",
       "20010     2120\n",
       "20008     1144\n",
       "20024      876\n",
       "20017      485\n",
       "20722       18\n",
       "20020        3\n",
       "20011        2\n",
       "Name: zip_code, dtype: int64"
      ]
     },
     "execution_count": 88,
     "metadata": {},
     "output_type": "execute_result"
    }
   ],
   "source": [
    "grouped_foursquare.zip_code.value_counts()"
   ]
  },
  {
   "cell_type": "code",
   "execution_count": 92,
   "metadata": {},
   "outputs": [
    {
     "data": {
      "text/plain": [
       "Coffee Shop            2378\n",
       "Office                 2223\n",
       "Subway                 2043\n",
       "American Restaurant    1844\n",
       "Bar                    1804\n",
       "Name: venue_category, dtype: int64"
      ]
     },
     "execution_count": 92,
     "metadata": {},
     "output_type": "execute_result"
    }
   ],
   "source": [
    "grouped_foursquare.venue_category.value_counts().head()"
   ]
  },
  {
   "cell_type": "markdown",
   "metadata": {},
   "source": [
    "#### Export the altered dataframe into a file for later use"
   ]
  },
  {
   "cell_type": "code",
   "execution_count": 25,
   "metadata": {
    "collapsed": true
   },
   "outputs": [],
   "source": [
    "grouped_foursquare.to_csv('./data/foursquare.csv', sep='\\t')"
   ]
  },
  {
   "cell_type": "markdown",
   "metadata": {},
   "source": [
    "<a id=\"reimport_data\"></a>\n",
    "## Import cleaned datasets\n",
    "#### <font color=Red>Start running here to import cleaned dataframes; reading dataframes into memory and re-converting datatypes</font>"
   ]
  },
  {
   "cell_type": "code",
   "execution_count": 10,
   "metadata": {},
   "outputs": [
    {
     "data": {
      "text/plain": [
       "name             object\n",
       "latitude        float64\n",
       "longitude       float64\n",
       "address          object\n",
       "city             object\n",
       "country          object\n",
       "state            object\n",
       "zip_code          int64\n",
       "categories       object\n",
       "price            object\n",
       "rating          float64\n",
       "review_count      int64\n",
       "dtype: object"
      ]
     },
     "execution_count": 10,
     "metadata": {},
     "output_type": "execute_result"
    }
   ],
   "source": [
    "businesses_df = pd.read_csv('./data/businesses.csv', sep=\"\\t\", index_col=0, encoding='latin-1')\n",
    "businesses_df.dtypes"
   ]
  },
  {
   "cell_type": "code",
   "execution_count": 11,
   "metadata": {
    "collapsed": true
   },
   "outputs": [],
   "source": [
    "businesses_df['zip_code'] = businesses_df['zip_code'].astype(str)"
   ]
  },
  {
   "cell_type": "code",
   "execution_count": 12,
   "metadata": {},
   "outputs": [
    {
     "data": {
      "text/html": [
       "<div>\n",
       "<style scoped>\n",
       "    .dataframe tbody tr th:only-of-type {\n",
       "        vertical-align: middle;\n",
       "    }\n",
       "\n",
       "    .dataframe tbody tr th {\n",
       "        vertical-align: top;\n",
       "    }\n",
       "\n",
       "    .dataframe thead th {\n",
       "        text-align: right;\n",
       "    }\n",
       "</style>\n",
       "<table border=\"1\" class=\"dataframe\">\n",
       "  <thead>\n",
       "    <tr style=\"text-align: right;\">\n",
       "      <th></th>\n",
       "      <th>name</th>\n",
       "      <th>latitude</th>\n",
       "      <th>longitude</th>\n",
       "      <th>address</th>\n",
       "      <th>city</th>\n",
       "      <th>country</th>\n",
       "      <th>state</th>\n",
       "      <th>zip_code</th>\n",
       "      <th>categories</th>\n",
       "      <th>price</th>\n",
       "      <th>rating</th>\n",
       "      <th>review_count</th>\n",
       "    </tr>\n",
       "  </thead>\n",
       "  <tbody>\n",
       "    <tr>\n",
       "      <th>0</th>\n",
       "      <td>Old Ebbitt Grill</td>\n",
       "      <td>38.898005</td>\n",
       "      <td>-77.033362</td>\n",
       "      <td>675 15th St NW</td>\n",
       "      <td>Washington, DC</td>\n",
       "      <td>US</td>\n",
       "      <td>DC</td>\n",
       "      <td>20005</td>\n",
       "      <td>['Bars', 'American (Traditional)', 'Breakfast ...</td>\n",
       "      <td>$$</td>\n",
       "      <td>4.0</td>\n",
       "      <td>6544</td>\n",
       "    </tr>\n",
       "    <tr>\n",
       "      <th>1</th>\n",
       "      <td>A Baked Joint</td>\n",
       "      <td>38.902411</td>\n",
       "      <td>-77.017139</td>\n",
       "      <td>440 K St NW</td>\n",
       "      <td>Washington, DC</td>\n",
       "      <td>US</td>\n",
       "      <td>DC</td>\n",
       "      <td>20001</td>\n",
       "      <td>['Coffee &amp; Tea', 'Breakfast &amp; Brunch', 'Sandwi...</td>\n",
       "      <td>$</td>\n",
       "      <td>4.5</td>\n",
       "      <td>1218</td>\n",
       "    </tr>\n",
       "    <tr>\n",
       "      <th>2</th>\n",
       "      <td>Le Diplomate</td>\n",
       "      <td>38.911359</td>\n",
       "      <td>-77.031575</td>\n",
       "      <td>1601 14th St NW</td>\n",
       "      <td>Washington, DC</td>\n",
       "      <td>US</td>\n",
       "      <td>DC</td>\n",
       "      <td>20009</td>\n",
       "      <td>['Brasseries', 'French', 'Cafes']</td>\n",
       "      <td>$$$</td>\n",
       "      <td>4.0</td>\n",
       "      <td>2449</td>\n",
       "    </tr>\n",
       "    <tr>\n",
       "      <th>3</th>\n",
       "      <td>Rasika</td>\n",
       "      <td>38.895008</td>\n",
       "      <td>-77.021286</td>\n",
       "      <td>633 D St NW</td>\n",
       "      <td>Washington, DC</td>\n",
       "      <td>US</td>\n",
       "      <td>DC</td>\n",
       "      <td>20004</td>\n",
       "      <td>['Indian']</td>\n",
       "      <td>$$$</td>\n",
       "      <td>4.5</td>\n",
       "      <td>2633</td>\n",
       "    </tr>\n",
       "    <tr>\n",
       "      <th>4</th>\n",
       "      <td>Matchbox - Chinatown</td>\n",
       "      <td>38.900050</td>\n",
       "      <td>-77.022540</td>\n",
       "      <td>713 H St NW</td>\n",
       "      <td>Washington, DC</td>\n",
       "      <td>US</td>\n",
       "      <td>DC</td>\n",
       "      <td>20001</td>\n",
       "      <td>['Pizza', 'American (New)']</td>\n",
       "      <td>$$</td>\n",
       "      <td>4.0</td>\n",
       "      <td>2673</td>\n",
       "    </tr>\n",
       "  </tbody>\n",
       "</table>\n",
       "</div>"
      ],
      "text/plain": [
       "                   name   latitude  longitude          address  \\\n",
       "0      Old Ebbitt Grill  38.898005 -77.033362   675 15th St NW   \n",
       "1         A Baked Joint  38.902411 -77.017139      440 K St NW   \n",
       "2          Le Diplomate  38.911359 -77.031575  1601 14th St NW   \n",
       "3                Rasika  38.895008 -77.021286      633 D St NW   \n",
       "4  Matchbox - Chinatown  38.900050 -77.022540      713 H St NW   \n",
       "\n",
       "             city country state zip_code  \\\n",
       "0  Washington, DC      US    DC    20005   \n",
       "1  Washington, DC      US    DC    20001   \n",
       "2  Washington, DC      US    DC    20009   \n",
       "3  Washington, DC      US    DC    20004   \n",
       "4  Washington, DC      US    DC    20001   \n",
       "\n",
       "                                          categories price  rating  \\\n",
       "0  ['Bars', 'American (Traditional)', 'Breakfast ...    $$     4.0   \n",
       "1  ['Coffee & Tea', 'Breakfast & Brunch', 'Sandwi...     $     4.5   \n",
       "2                  ['Brasseries', 'French', 'Cafes']   $$$     4.0   \n",
       "3                                         ['Indian']   $$$     4.5   \n",
       "4                        ['Pizza', 'American (New)']    $$     4.0   \n",
       "\n",
       "   review_count  \n",
       "0          6544  \n",
       "1          1218  \n",
       "2          2449  \n",
       "3          2633  \n",
       "4          2673  "
      ]
     },
     "execution_count": 12,
     "metadata": {},
     "output_type": "execute_result"
    }
   ],
   "source": [
    "businesses_df.head()"
   ]
  },
  {
   "cell_type": "code",
   "execution_count": 13,
   "metadata": {
    "scrolled": true
   },
   "outputs": [
    {
     "data": {
      "text/plain": [
       "user_id                     int64\n",
       "venue_id                   object\n",
       "utc_time           datetime64[ns]\n",
       "latitude                  float64\n",
       "longitude                 float64\n",
       "venue_category             object\n",
       "country                    object\n",
       "coffee_shop_bin             int64\n",
       "zip_code                   object\n",
       "dtype: object"
      ]
     },
     "execution_count": 13,
     "metadata": {},
     "output_type": "execute_result"
    }
   ],
   "source": [
    "foursquare_df = pd.read_csv('./data/foursquare.csv', sep=\"\\t\", index_col=0)\n",
    "foursquare_df['utc_time'] = pd.to_datetime(foursquare_df['utc_time'], infer_datetime_format=True)\n",
    "foursquare_df['zip_code'] = foursquare_df['zip_code'].astype(str)\n",
    "foursquare_df.dtypes\n",
    "# foursquare_df.shape"
   ]
  },
  {
   "cell_type": "markdown",
   "metadata": {},
   "source": [
    "<a id=\"explore_data\"></a>"
   ]
  },
  {
   "cell_type": "markdown",
   "metadata": {},
   "source": [
    "## Explore Data"
   ]
  },
  {
   "cell_type": "markdown",
   "metadata": {},
   "source": [
    "### Hypothesis 1: Find where people who go to coffee shops go on the same day, and then find a location with a lot of this type of establishment.\n",
    "\n",
    "- First, I'll need to pick which categories I'll include, and then transcribe them to individual columns. Each row will be one day for one user, and the values for each category column will be 1 if the person visited this type of category on that day, and 0 if not."
   ]
  },
  {
   "cell_type": "code",
   "execution_count": 14,
   "metadata": {
    "scrolled": false
   },
   "outputs": [
    {
     "data": {
      "text/plain": [
       "<matplotlib.axes._subplots.AxesSubplot at 0x2122edd8d30>"
      ]
     },
     "execution_count": 14,
     "metadata": {},
     "output_type": "execute_result"
    },
    {
     "data": {
      "image/png": "[encoded data removed]",
      "text/plain": [
       "<Figure size 1080x576 with 1 Axes>"
      ]
     },
     "metadata": {},
     "output_type": "display_data"
    }
   ],
   "source": [
    "foursquare_df.venue_category.value_counts().head(7).plot(kind='bar', figsize=(15, 8))"
   ]
  },
  {
   "cell_type": "code",
   "execution_count": 15,
   "metadata": {
    "scrolled": true
   },
   "outputs": [
    {
     "data": {
      "text/plain": [
       "array(['Shoe Store', 'Lounge', 'Bar', 'Sandwich Place', 'Baseball Stadium',\n",
       "       'Zoo', 'Greek Restaurant', 'Bank', 'Train Station', 'Neighborhood',\n",
       "       'American Restaurant', 'Coffee Shop', 'Tech Startup',\n",
       "       'Seafood Restaurant', 'Subway', 'Pizza Place', 'History Museum',\n",
       "       'Mall', 'Hotel', 'Government Building', 'Department Store',\n",
       "       'Gym / Fitness Center', 'Indian Restaurant', 'Light Rail',\n",
       "       'Sports Bar', 'Caf\\x1a\\x1a', 'Cocktail Bar', 'Yoga Studio',\n",
       "       'Clothing Store', 'Military Base', 'Bookstore', 'Gym', 'Park',\n",
       "       'Plaza', 'Whisky Bar', 'Office', 'Community College', 'Museum',\n",
       "       'Mediterranean Restaurant', 'Pub', 'Breakfast Spot', 'High School',\n",
       "       'Nightlife Spot', 'Grocery Store', 'Steakhouse', \"Men's Store\",\n",
       "       'Music Venue', 'Hotel Bar', 'Theater', 'Dive Bar',\n",
       "       'Italian Restaurant', 'Fast Food Restaurant', 'Liquor Store',\n",
       "       'Turkish Restaurant', 'Ice Cream Shop', 'Drugstore / Pharmacy',\n",
       "       'Cafeteria', 'Arts & Crafts Store', 'Moving Target', 'University',\n",
       "       'Performing Arts Venue', 'Speakeasy',\n",
       "       'Residential Building (Apartment / Condo)', 'Basketball Stadium',\n",
       "       'Convenience Store', 'Road', 'Train', 'Building',\n",
       "       'College Classroom', 'Home (private)', 'Bridge', 'Coworking Space',\n",
       "       'Food Truck', 'Library', 'Convention Center', 'Bus Line',\n",
       "       'Capitol Building', 'Auditorium', 'Latin American Restaurant',\n",
       "       'Burger Joint', 'Thai Restaurant', 'Fried Chicken Joint', 'Caf\\x1a',\n",
       "       'Bakery', 'Mexican Restaurant', 'Chinese Restaurant', 'Post Office',\n",
       "       'Miscellaneous Shop', 'City', 'Courthouse',\n",
       "       'General College & University', 'Salon / Barbershop', 'Multiplex',\n",
       "       'New American Restaurant', 'Tapas Restaurant',\n",
       "       'College Academic Building', \"Doctor's Office\", 'Electronics Store',\n",
       "       'Church', 'Sporting Goods Shop', 'Deli / Bodega', 'Brewery',\n",
       "       'Pool Hall', 'Dim Sum Restaurant', 'College Residence Hall',\n",
       "       'Dog Run', 'Diner', 'Farmers Market', 'French Restaurant',\n",
       "       'Salad Place', 'Harbor / Marina', 'Art Museum', 'Hardware Store',\n",
       "       'Beer Garden', 'Cosmetics Shop', 'Wine Shop', 'Police Station',\n",
       "       'Monument / Landmark', 'Cupcake Shop', 'Garden',\n",
       "       'Korean Restaurant', 'Bike Shop', 'Boutique', 'Gastropub',\n",
       "       'Asian Restaurant', 'Other Nightlife', 'Bowling Alley', 'Nightclub',\n",
       "       'Event Space', 'African Restaurant', 'Indie Movie Theater',\n",
       "       'Hookah Bar', 'Field', 'Wine Bar', 'Scenic Lookout',\n",
       "       'Southern / Soul Food Restaurant', 'Bus Station',\n",
       "       'Rental Car Location', 'Veterinarian', 'Laundry Service',\n",
       "       'Sushi Restaurant', 'Art Gallery', \"Women's Store\", 'Hot Dog Joint',\n",
       "       'Taxi', 'Accessories Store', 'Jazz Club', 'Falafel Restaurant',\n",
       "       'BBQ Joint', 'Bagel Shop', 'Student Center', 'German Restaurant',\n",
       "       'Frozen Yogurt', 'Dessert Shop', 'Tea Room', 'Wings Joint',\n",
       "       'College Library', 'Cemetery', 'Donut Shop',\n",
       "       'General Entertainment', 'College Engineering Building',\n",
       "       'Furniture / Home Store', 'Design Studio', 'Rock Club',\n",
       "       'Spa / Massage', 'Vegetarian / Vegan Restaurant', 'Hospital',\n",
       "       'Spiritual Center', 'Brazilian Restaurant', 'Karaoke Bar',\n",
       "       'Restaurant', 'Caribbean Restaurant', 'Other Great Outdoors',\n",
       "       'Nail Salon', 'Food & Drink Shop', 'Gas Station / Garage',\n",
       "       'Tanning Salon', 'General Travel', 'College Quad', 'Flea Market',\n",
       "       'Historic Site', 'Vietnamese Restaurant', 'Conference Room',\n",
       "       'Professional & Other Places', 'Food Court', 'Boat or Ferry',\n",
       "       'Parking', 'Law School', 'Dance Studio', \"Dentist's Office\",\n",
       "       'Juice Bar', 'Thrift / Vintage Store', 'Middle Eastern Restaurant',\n",
       "       'Bike Rental / Bike Share', 'Gift Shop', 'Strip Club',\n",
       "       'Automotive Shop', 'Gourmet Shop', 'Temple', 'Spanish Restaurant',\n",
       "       'Theme Park', 'Record Shop', 'Smoke Shop', 'Elementary School',\n",
       "       'Soup Place', 'Medical Center', 'Trade School',\n",
       "       'Japanese Restaurant', 'Embassy / Consulate', 'College Auditorium',\n",
       "       'Hiking Trail', 'Taco Place', 'Sculpture Garden',\n",
       "       'Paper / Office Supplies Store', 'College Basketball Court',\n",
       "       'Butcher', 'Ramen /  Noodle House', 'Pool', 'Fire Station', 'Fair',\n",
       "       'Snack Place', 'College Cafeteria', 'City Hall', 'School',\n",
       "       'Platform', 'Flower Shop', 'Housing Development',\n",
       "       'Ethiopian Restaurant', 'Optical Shop', 'Comedy Club',\n",
       "       'Eastern European Restaurant', 'College Administrative Building',\n",
       "       'Financial or Legal Service', 'Medical School', 'Climbing Gym',\n",
       "       'College Arts Building', 'Hockey Arena', 'Food', 'Kids Store',\n",
       "       'Winery', 'College Science Building', 'Playground',\n",
       "       'Baseball Field', 'Cajun / Creole Restaurant', 'Fish Market',\n",
       "       'Cuban Restaurant', 'Moroccan Restaurant', 'Swiss Restaurant',\n",
       "       'Concert Hall', 'Opera House', 'Burrito Place', 'Plane',\n",
       "       'Tattoo Parlor', 'Vineyard', 'Campground', 'Arcade',\n",
       "       'South American Restaurant', 'Fraternity House', 'Aquarium',\n",
       "       'Portuguese Restaurant', 'College Lab', 'Tennis Court', 'Stadium',\n",
       "       'Camera Store', 'Travel Lounge', 'Track Stadium', 'Farm',\n",
       "       'Pet Store', 'Track', 'Synagogue', 'Lingerie Store', 'Meeting Room',\n",
       "       'Ski Area', 'Jewelry Store', 'College Communications Building',\n",
       "       'Movie Theater', 'Trails', 'College Bookstore', 'Hobby Shop',\n",
       "       'Gaming Cafe', 'Hostel', 'College Rec Center', 'Cheese Shop',\n",
       "       'Antique Shop', 'Voting Booth', 'College Gym', 'Toy / Game Store',\n",
       "       'Shrine', 'Athletics & Sports', 'Hot Spring', 'Ski Trail',\n",
       "       'Gym Pool', 'Racetrack', 'Casino', 'Ski Chalet', 'Candy Store',\n",
       "       'College & University', 'Bed & Breakfast', 'River',\n",
       "       'Sorority House', 'Non-Profit', 'College Technology Building',\n",
       "       'Skate Park', 'Soccer Field', 'Basketball Court', 'Bridal Shop',\n",
       "       'Science Museum', 'Athletic & Sport', 'Rest Area',\n",
       "       'Arts & Entertainment', 'Factory', 'Garden Center', 'Skating Rink',\n",
       "       'Outdoors & Recreation', 'Public Art', 'Tailor Shop',\n",
       "       'Motorcycle Shop', 'Shop & Service', 'Ski Lodge', 'Photography Lab',\n",
       "       'Molecular Gastronomy Restaurant', 'Animal Shelter', 'Water Park',\n",
       "       'Paella Restaurant', 'College Theater', 'Argentinian Restaurant',\n",
       "       'Mobile Phone Shop', 'Yogurt', 'College Stadium',\n",
       "       'Tourist Information Center', 'Motel', 'Radio Station',\n",
       "       'Fish & Chips Shop', 'Hockey Field', 'Market', 'Assisted Living',\n",
       "       'Pier', 'Video Store', 'Volleyball Court'], dtype=object)"
      ]
     },
     "execution_count": 15,
     "metadata": {},
     "output_type": "execute_result"
    }
   ],
   "source": [
    "# first, list all of the columns\n",
    "foursquare_df.venue_category.unique()"
   ]
  },
  {
   "cell_type": "code",
   "execution_count": 16,
   "metadata": {},
   "outputs": [
    {
     "data": {
      "text/plain": [
       "array(['Coffee Shop', 'Office', 'Subway', 'American Restaurant', 'Bar',\n",
       "       'Government Building', 'Hotel', 'Train Station', 'Gym',\n",
       "       'Grocery Store', 'Home (private)',\n",
       "       'Residential Building (Apartment / Condo)', 'Park',\n",
       "       'Mexican Restaurant', 'Sandwich Place', 'Lounge', 'Building',\n",
       "       'Pizza Place', 'Pub', 'Neighborhood', 'Baseball Stadium', 'Road',\n",
       "       'Italian Restaurant'], dtype=object)"
      ]
     },
     "execution_count": 16,
     "metadata": {},
     "output_type": "execute_result"
    }
   ],
   "source": [
    "# for now, I'll just use the top 23 categories as my features\n",
    "columns=foursquare_df.venue_category.value_counts().head(23).index.values\n",
    "columns"
   ]
  },
  {
   "cell_type": "code",
   "execution_count": 17,
   "metadata": {},
   "outputs": [
    {
     "data": {
      "text/html": [
       "<div>\n",
       "<style>\n",
       "    .dataframe thead tr:only-child th {\n",
       "        text-align: right;\n",
       "    }\n",
       "\n",
       "    .dataframe thead th {\n",
       "        text-align: left;\n",
       "    }\n",
       "\n",
       "    .dataframe tbody tr th {\n",
       "        vertical-align: top;\n",
       "    }\n",
       "</style>\n",
       "<table border=\"1\" class=\"dataframe\">\n",
       "  <thead>\n",
       "    <tr style=\"text-align: right;\">\n",
       "      <th></th>\n",
       "      <th>user_id</th>\n",
       "      <th>utc_time_full</th>\n",
       "    </tr>\n",
       "  </thead>\n",
       "  <tbody>\n",
       "    <tr>\n",
       "      <th>0</th>\n",
       "      <td>6</td>\n",
       "      <td>2013-04-03 16:49:50</td>\n",
       "    </tr>\n",
       "    <tr>\n",
       "      <th>1</th>\n",
       "      <td>6</td>\n",
       "      <td>2012-10-18 16:01:06</td>\n",
       "    </tr>\n",
       "    <tr>\n",
       "      <th>2</th>\n",
       "      <td>6</td>\n",
       "      <td>2013-05-22 20:16:02</td>\n",
       "    </tr>\n",
       "    <tr>\n",
       "      <th>3</th>\n",
       "      <td>6</td>\n",
       "      <td>2013-02-27 18:10:19</td>\n",
       "    </tr>\n",
       "    <tr>\n",
       "      <th>4</th>\n",
       "      <td>6</td>\n",
       "      <td>2012-11-28 15:04:14</td>\n",
       "    </tr>\n",
       "  </tbody>\n",
       "</table>\n",
       "</div>"
      ],
      "text/plain": [
       "   user_id       utc_time_full\n",
       "0        6 2013-04-03 16:49:50\n",
       "1        6 2012-10-18 16:01:06\n",
       "2        6 2013-05-22 20:16:02\n",
       "3        6 2013-02-27 18:10:19\n",
       "4        6 2012-11-28 15:04:14"
      ]
     },
     "execution_count": 17,
     "metadata": {},
     "output_type": "execute_result"
    }
   ],
   "source": [
    "foursquare_days_df = foursquare_df.rename(columns={'utc_time':'utc_time_full'}).groupby([foursquare_df.user_id, foursquare_df.utc_time.dt.day]).nth(0).reset_index(drop=True)\n",
    "foursquare_days_df.drop(['venue_id', 'latitude', 'longitude', 'venue_category', 'country', 'coffee_shop_bin', 'zip_code'], axis=1, inplace=True)\n",
    "foursquare_days_df.head()"
   ]
  },
  {
   "cell_type": "code",
   "execution_count": 18,
   "metadata": {
    "collapsed": true
   },
   "outputs": [],
   "source": [
    "foursquare_df_temp = foursquare_df[foursquare_df.venue_category.isin(columns)]"
   ]
  },
  {
   "cell_type": "code",
   "execution_count": 19,
   "metadata": {
    "collapsed": true
   },
   "outputs": [],
   "source": [
    "foursquare_days_df = pd.read_csv('./data/foursquare_days_df.csv')"
   ]
  },
  {
   "cell_type": "code",
   "execution_count": 606,
   "metadata": {
    "scrolled": true
   },
   "outputs": [
    {
     "data": {
      "text/plain": [
       "964.9314014144293"
      ]
     },
     "execution_count": 606,
     "metadata": {},
     "output_type": "execute_result"
    }
   ],
   "source": [
    "# DON'T RUN THIS! :)\n",
    "# takes 15+ minutes. Running the cell block directly above this will import the same dataset\n",
    "# as this code block produces.\n",
    "\n",
    "# transposes check in data w/ user/date as primary key and 1/0 for whether \n",
    "# or not the user visited said category\n",
    "for column in columns:\n",
    "    foursquare_days_df[column] = foursquare_days_df.apply(lambda row: 1 if foursquare_df_temp[(foursquare_df_temp['user_id'] == row['user_id']) & (foursquare_df_temp.utc_time.dt.day == row['utc_time_full'].day) & (foursquare_df_temp.venue_category == column)].venue_category.count() > 0 else 0, axis=1)\n",
    "    foursquare_df_temp = foursquare_df_temp[foursquare_df_temp['venue_category'] != column]"
   ]
  },
  {
   "cell_type": "code",
   "execution_count": 20,
   "metadata": {},
   "outputs": [
    {
     "data": {
      "text/html": [
       "<div>\n",
       "<style>\n",
       "    .dataframe thead tr:only-child th {\n",
       "        text-align: right;\n",
       "    }\n",
       "\n",
       "    .dataframe thead th {\n",
       "        text-align: left;\n",
       "    }\n",
       "\n",
       "    .dataframe tbody tr th {\n",
       "        vertical-align: top;\n",
       "    }\n",
       "</style>\n",
       "<table border=\"1\" class=\"dataframe\">\n",
       "  <thead>\n",
       "    <tr style=\"text-align: right;\">\n",
       "      <th></th>\n",
       "      <th>Unnamed: 0</th>\n",
       "      <th>user_id</th>\n",
       "      <th>utc_time_full</th>\n",
       "      <th>Coffee Shop</th>\n",
       "      <th>Office</th>\n",
       "      <th>Subway</th>\n",
       "      <th>American Restaurant</th>\n",
       "      <th>Bar</th>\n",
       "      <th>Government Building</th>\n",
       "      <th>Hotel</th>\n",
       "      <th>...</th>\n",
       "      <th>Mexican Restaurant</th>\n",
       "      <th>Sandwich Place</th>\n",
       "      <th>Lounge</th>\n",
       "      <th>Building</th>\n",
       "      <th>Pizza Place</th>\n",
       "      <th>Pub</th>\n",
       "      <th>Neighborhood</th>\n",
       "      <th>Baseball Stadium</th>\n",
       "      <th>Road</th>\n",
       "      <th>Italian Restaurant</th>\n",
       "    </tr>\n",
       "  </thead>\n",
       "  <tbody>\n",
       "    <tr>\n",
       "      <th>0</th>\n",
       "      <td>0</td>\n",
       "      <td>6</td>\n",
       "      <td>2013-04-03 16:49:50</td>\n",
       "      <td>0</td>\n",
       "      <td>0</td>\n",
       "      <td>0</td>\n",
       "      <td>0</td>\n",
       "      <td>0</td>\n",
       "      <td>1</td>\n",
       "      <td>0</td>\n",
       "      <td>...</td>\n",
       "      <td>0</td>\n",
       "      <td>0</td>\n",
       "      <td>0</td>\n",
       "      <td>0</td>\n",
       "      <td>0</td>\n",
       "      <td>0</td>\n",
       "      <td>0</td>\n",
       "      <td>0</td>\n",
       "      <td>0</td>\n",
       "      <td>0</td>\n",
       "    </tr>\n",
       "    <tr>\n",
       "      <th>1</th>\n",
       "      <td>1</td>\n",
       "      <td>6</td>\n",
       "      <td>2012-10-18 16:01:06</td>\n",
       "      <td>0</td>\n",
       "      <td>0</td>\n",
       "      <td>0</td>\n",
       "      <td>0</td>\n",
       "      <td>0</td>\n",
       "      <td>1</td>\n",
       "      <td>0</td>\n",
       "      <td>...</td>\n",
       "      <td>0</td>\n",
       "      <td>0</td>\n",
       "      <td>0</td>\n",
       "      <td>0</td>\n",
       "      <td>0</td>\n",
       "      <td>0</td>\n",
       "      <td>0</td>\n",
       "      <td>0</td>\n",
       "      <td>0</td>\n",
       "      <td>0</td>\n",
       "    </tr>\n",
       "    <tr>\n",
       "      <th>2</th>\n",
       "      <td>2</td>\n",
       "      <td>6</td>\n",
       "      <td>2013-05-22 20:16:02</td>\n",
       "      <td>1</td>\n",
       "      <td>0</td>\n",
       "      <td>0</td>\n",
       "      <td>0</td>\n",
       "      <td>0</td>\n",
       "      <td>0</td>\n",
       "      <td>0</td>\n",
       "      <td>...</td>\n",
       "      <td>0</td>\n",
       "      <td>0</td>\n",
       "      <td>0</td>\n",
       "      <td>0</td>\n",
       "      <td>0</td>\n",
       "      <td>0</td>\n",
       "      <td>0</td>\n",
       "      <td>0</td>\n",
       "      <td>0</td>\n",
       "      <td>0</td>\n",
       "    </tr>\n",
       "    <tr>\n",
       "      <th>3</th>\n",
       "      <td>3</td>\n",
       "      <td>6</td>\n",
       "      <td>2013-02-27 18:10:19</td>\n",
       "      <td>0</td>\n",
       "      <td>0</td>\n",
       "      <td>0</td>\n",
       "      <td>0</td>\n",
       "      <td>1</td>\n",
       "      <td>0</td>\n",
       "      <td>1</td>\n",
       "      <td>...</td>\n",
       "      <td>0</td>\n",
       "      <td>0</td>\n",
       "      <td>0</td>\n",
       "      <td>0</td>\n",
       "      <td>0</td>\n",
       "      <td>0</td>\n",
       "      <td>0</td>\n",
       "      <td>0</td>\n",
       "      <td>0</td>\n",
       "      <td>0</td>\n",
       "    </tr>\n",
       "    <tr>\n",
       "      <th>4</th>\n",
       "      <td>4</td>\n",
       "      <td>6</td>\n",
       "      <td>2012-11-28 15:04:14</td>\n",
       "      <td>0</td>\n",
       "      <td>1</td>\n",
       "      <td>0</td>\n",
       "      <td>0</td>\n",
       "      <td>0</td>\n",
       "      <td>1</td>\n",
       "      <td>0</td>\n",
       "      <td>...</td>\n",
       "      <td>0</td>\n",
       "      <td>0</td>\n",
       "      <td>0</td>\n",
       "      <td>0</td>\n",
       "      <td>0</td>\n",
       "      <td>0</td>\n",
       "      <td>0</td>\n",
       "      <td>0</td>\n",
       "      <td>0</td>\n",
       "      <td>0</td>\n",
       "    </tr>\n",
       "  </tbody>\n",
       "</table>\n",
       "<p>5 rows × 26 columns</p>\n",
       "</div>"
      ],
      "text/plain": [
       "   Unnamed: 0  user_id        utc_time_full  Coffee Shop  Office  Subway  \\\n",
       "0           0        6  2013-04-03 16:49:50            0       0       0   \n",
       "1           1        6  2012-10-18 16:01:06            0       0       0   \n",
       "2           2        6  2013-05-22 20:16:02            1       0       0   \n",
       "3           3        6  2013-02-27 18:10:19            0       0       0   \n",
       "4           4        6  2012-11-28 15:04:14            0       1       0   \n",
       "\n",
       "   American Restaurant  Bar  Government Building  Hotel         ...          \\\n",
       "0                    0    0                    1      0         ...           \n",
       "1                    0    0                    1      0         ...           \n",
       "2                    0    0                    0      0         ...           \n",
       "3                    0    1                    0      1         ...           \n",
       "4                    0    0                    1      0         ...           \n",
       "\n",
       "   Mexican Restaurant  Sandwich Place  Lounge  Building  Pizza Place  Pub  \\\n",
       "0                   0               0       0         0            0    0   \n",
       "1                   0               0       0         0            0    0   \n",
       "2                   0               0       0         0            0    0   \n",
       "3                   0               0       0         0            0    0   \n",
       "4                   0               0       0         0            0    0   \n",
       "\n",
       "   Neighborhood  Baseball Stadium  Road  Italian Restaurant  \n",
       "0             0                 0     0                   0  \n",
       "1             0                 0     0                   0  \n",
       "2             0                 0     0                   0  \n",
       "3             0                 0     0                   0  \n",
       "4             0                 0     0                   0  \n",
       "\n",
       "[5 rows x 26 columns]"
      ]
     },
     "execution_count": 20,
     "metadata": {},
     "output_type": "execute_result"
    }
   ],
   "source": [
    "foursquare_days_df.head()"
   ]
  },
  {
   "cell_type": "code",
   "execution_count": 21,
   "metadata": {},
   "outputs": [
    {
     "data": {
      "text/plain": [
       "0    15507\n",
       "1     1930\n",
       "Name: Coffee Shop, dtype: int64"
      ]
     },
     "execution_count": 21,
     "metadata": {},
     "output_type": "execute_result"
    }
   ],
   "source": [
    "foursquare_days_df['Coffee Shop'].value_counts()"
   ]
  },
  {
   "cell_type": "code",
   "execution_count": 22,
   "metadata": {},
   "outputs": [
    {
     "data": {
      "text/plain": [
       "(17437, 26)"
      ]
     },
     "execution_count": 22,
     "metadata": {},
     "output_type": "execute_result"
    }
   ],
   "source": [
    "foursquare_days_df.shape "
   ]
  },
  {
   "cell_type": "markdown",
   "metadata": {},
   "source": [
    "#### foursquare_days_df is now formatted and ready for a decision tree (Machine Learning section)"
   ]
  },
  {
   "cell_type": "markdown",
   "metadata": {},
   "source": [
    "### Hypothesis 2: compare various factors of each zip code to the check in count to find a linear relationship. If we can find a linear relationship, we can use this to determine the best zip code for maximizing coffee shop check-ins."
   ]
  },
  {
   "cell_type": "code",
   "execution_count": 17,
   "metadata": {},
   "outputs": [
    {
     "data": {
      "text/plain": [
       "<matplotlib.axes._subplots.AxesSubplot at 0x2122f1e1fd0>"
      ]
     },
     "execution_count": 17,
     "metadata": {},
     "output_type": "execute_result"
    },
    {
     "data": {
      "image/png": "[encoded data removed]",
      "text/plain": [
       "<Figure size 432x288 with 1 Axes>"
      ]
     },
     "metadata": {},
     "output_type": "display_data"
    }
   ],
   "source": [
    "foursquare_df.zip_code.value_counts().plot(kind='bar')"
   ]
  },
  {
   "cell_type": "code",
   "execution_count": 18,
   "metadata": {
    "collapsed": true
   },
   "outputs": [],
   "source": [
    "coffee_checkins_perzip = foursquare_df[foursquare_df.venue_category == \"Coffee Shop\"].groupby(['zip_code']).size().reset_index(name='coffeeshop_counts')"
   ]
  },
  {
   "cell_type": "code",
   "execution_count": 19,
   "metadata": {
    "collapsed": true
   },
   "outputs": [],
   "source": [
    "checkins_and_zipdata_df = coffee_checkins_perzip.merge(zipfeatures_df, left_on='zip_code', right_on='zip_code')"
   ]
  },
  {
   "cell_type": "code",
   "execution_count": 20,
   "metadata": {},
   "outputs": [
    {
     "data": {
      "text/plain": [
       "coffeeshop_counts           1.000000\n",
       "estimate_total              0.244147\n",
       "median_age                 -0.362762\n",
       "mean_income                -0.108608\n",
       "percent_public_transport   -0.244719\n",
       "Name: coffeeshop_counts, dtype: float64"
      ]
     },
     "execution_count": 20,
     "metadata": {},
     "output_type": "execute_result"
    }
   ],
   "source": [
    "checkins_and_zipdata_df.corr().coffeeshop_counts"
   ]
  },
  {
   "cell_type": "code",
   "execution_count": 27,
   "metadata": {
    "scrolled": true
   },
   "outputs": [
    {
     "data": {
      "text/plain": [
       "<seaborn.axisgrid.PairGrid at 0x13b6c7ec198>"
      ]
     },
     "execution_count": 27,
     "metadata": {},
     "output_type": "execute_result"
    },
    {
     "data": {
      "image/png": "[encoded data removed]",
      "text/plain": [
       "<matplotlib.figure.Figure at 0x13b6c7e6e48>"
      ]
     },
     "metadata": {},
     "output_type": "display_data"
    }
   ],
   "source": [
    "import seaborn as sns\n",
    "sns.pairplot(checkins_and_zipdata_df.corr(), kind='reg')\n",
    "# sns.regplot(x=\"estimate_total\", y=\"coffeeshop_counts\", data=checkins_and_zipdata_df);\n",
    "# sns.regplot(x=\"mean_income\", y=\"coffeeshop_counts\", data=checkins_and_zipdata_df);\n",
    "# sns.regplot(x=\"median_age\", y=\"coffeeshop_counts\", data=checkins_and_zipdata_df);"
   ]
  },
  {
   "cell_type": "markdown",
   "metadata": {},
   "source": [
    "<a id=\"explore_data_old\"></a>"
   ]
  },
  {
   "cell_type": "markdown",
   "metadata": {},
   "source": [
    "## Explore Data (Old Hypotheses)"
   ]
  },
  {
   "cell_type": "markdown",
   "metadata": {},
   "source": [
    "#### See where people are generally coming from when they go to coffee shops"
   ]
  },
  {
   "cell_type": "code",
   "execution_count": 15,
   "metadata": {
    "scrolled": false
   },
   "outputs": [
    {
     "data": {
      "text/plain": [
       "<matplotlib.axes._subplots.AxesSubplot at 0x2122ee8d9e8>"
      ]
     },
     "execution_count": 15,
     "metadata": {},
     "output_type": "execute_result"
    },
    {
     "data": {
      "image/png": "[encoded data removed]",
      "text/plain": [
       "<Figure size 1080x576 with 1 Axes>"
      ]
     },
     "metadata": {},
     "output_type": "display_data"
    }
   ],
   "source": [
    "# View top 10 categories of checkins on days that also contain a coffee shop checkin\n",
    "foursquare_df[(foursquare_df.coffee_shop_bin==1) & (foursquare_df.venue_category != 'Coffee Shop')].venue_category.value_counts().head(7).plot(kind='bar', figsize=(15, 8))"
   ]
  },
  {
   "cell_type": "markdown",
   "metadata": {
    "collapsed": true
   },
   "source": [
    "#### Next I'd like to view coffee shops plotted on an interactive map."
   ]
  },
  {
   "cell_type": "code",
   "execution_count": 28,
   "metadata": {
    "collapsed": true
   },
   "outputs": [],
   "source": [
    "import folium\n",
    "\n",
    "map_coffee_df = businesses_df[businesses_df.categories.astype(str).str.contains('Coffee')]\n",
    "\n",
    "folium_map = folium.Map(location=[38.9031434, -77.0232301],\n",
    "                        zoom_start=13)\n",
    "\n",
    "for index, row in map_coffee_df.iterrows():\n",
    "    folium.Marker([row[\"latitude\"], row[\"longitude\"]], popup=folium.Popup(row['name'], parse_html=True)).add_to(folium_map)"
   ]
  },
  {
   "cell_type": "code",
   "execution_count": 29,
   "metadata": {
    "scrolled": false
   },
   "outputs": [
    {
     "data": {
      "text/html": [
       "<div style=\"width:100%;\"><div style=\"position:relative;width:100%;height:0;padding-bottom:60%;\"><iframe src=\"data:text/html;charset=utf-8;base64,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\" style=\"position:absolute;width:100%;height:100%;left:0;top:0;border:none !important;\" allowfullscreen webkitallowfullscreen mozallowfullscreen></iframe></div></div>"
      ],
      "text/plain": [
       "<folium.folium.Map at 0x13b6f5991d0>"
      ]
     },
     "execution_count": 29,
     "metadata": {},
     "output_type": "execute_result"
    }
   ],
   "source": [
    "folium_map"
   ]
  },
  {
   "cell_type": "markdown",
   "metadata": {},
   "source": [
    "#### Next I want to find a count of coffee shops by zip code and explore population data viability on determining coffee shop location"
   ]
  },
  {
   "cell_type": "code",
   "execution_count": 31,
   "metadata": {},
   "outputs": [
    {
     "data": {
      "text/plain": [
       "(390, 12)"
      ]
     },
     "execution_count": 31,
     "metadata": {},
     "output_type": "execute_result"
    }
   ],
   "source": [
    "# get all businesses w/ category containing \"Coffee\"\n",
    "coffeeshops_byzip_df = businesses_df[businesses_df.categories.astype(str).str.contains('Coffee')]\n",
    "coffeeshops_byzip_df.shape"
   ]
  },
  {
   "cell_type": "code",
   "execution_count": 33,
   "metadata": {
    "collapsed": true
   },
   "outputs": [],
   "source": [
    "# new df containing each zip code and the count of coffee shops\n",
    "coffeeshop_percap_df = coffeeshops_byzip_df.groupby('zip_code').zip_code.agg(['count']).sort_values('count', ascending=False)\n",
    "\n",
    "# merge previous dataframe with population growth dataframe\n",
    "coffeeshop_percap_df = coffeeshop_percap_df.merge(popul2016_df, left_index=True, right_on=\"zip_code\")\n",
    "coffeeshop_percap_df = coffeeshop_percap_df.set_index('zip_code')\n",
    "\n",
    "# add calculated field for rate of population change\n",
    "coffeeshop_percap_df['pop_change_rate'] = (coffeeshop_percap_df['estimate_total_2016'] - \\\n",
    "                                            coffeeshop_percap_df['estimate_total_2015']) / \\\n",
    "                                            coffeeshop_percap_df['estimate_total_2015']\n",
    "\n",
    "# display some rows from newly constructed df, sorted by population rate of change\n",
    "coffeeshop_percap_df[coffeeshop_percap_df['count'] > 5].sort_values('pop_change_rate')"
   ]
  },
  {
   "cell_type": "markdown",
   "metadata": {
    "collapsed": true
   },
   "source": [
    "<a id=\"machine_learning\"></a>"
   ]
  },
  {
   "cell_type": "markdown",
   "metadata": {},
   "source": [
    "## Part 4: Machine Learning"
   ]
  },
  {
   "cell_type": "markdown",
   "metadata": {},
   "source": [
    "<a id=\"hyp_1\"></a>"
   ]
  },
  {
   "cell_type": "markdown",
   "metadata": {},
   "source": [
    "### Hypothesis 1: Find where people who go to coffee shops go on the same day, and then find a location with a lot of this type of establishment."
   ]
  },
  {
   "cell_type": "markdown",
   "metadata": {},
   "source": [
    "#### Model 1: Decision Tree"
   ]
  },
  {
   "cell_type": "code",
   "execution_count": 30,
   "metadata": {
    "collapsed": true
   },
   "outputs": [],
   "source": [
    "feature_cols = ['Office', 'Subway', 'American Restaurant', 'Bar',\n",
    "       'Government Building', 'Hotel', 'Train Station', 'Gym',\n",
    "       'Grocery Store', 'Home (private)',\n",
    "       'Residential Building (Apartment / Condo)', 'Park',\n",
    "       'Mexican Restaurant', 'Sandwich Place', 'Lounge', 'Building',\n",
    "       'Pizza Place', 'Pub', 'Neighborhood', 'Baseball Stadium', 'Road',\n",
    "       'Italian Restaurant']\n",
    "\n",
    "X = foursquare_days_df[feature_cols]\n",
    "y = foursquare_days_df[\"Coffee Shop\"]"
   ]
  },
  {
   "cell_type": "code",
   "execution_count": 31,
   "metadata": {},
   "outputs": [
    {
     "data": {
      "text/html": [
       "<div>\n",
       "<style>\n",
       "    .dataframe thead tr:only-child th {\n",
       "        text-align: right;\n",
       "    }\n",
       "\n",
       "    .dataframe thead th {\n",
       "        text-align: left;\n",
       "    }\n",
       "\n",
       "    .dataframe tbody tr th {\n",
       "        vertical-align: top;\n",
       "    }\n",
       "</style>\n",
       "<table border=\"1\" class=\"dataframe\">\n",
       "  <thead>\n",
       "    <tr style=\"text-align: right;\">\n",
       "      <th></th>\n",
       "      <th>feature</th>\n",
       "      <th>importance</th>\n",
       "    </tr>\n",
       "  </thead>\n",
       "  <tbody>\n",
       "    <tr>\n",
       "      <th>11</th>\n",
       "      <td>Park</td>\n",
       "      <td>0.290257</td>\n",
       "    </tr>\n",
       "    <tr>\n",
       "      <th>1</th>\n",
       "      <td>Subway</td>\n",
       "      <td>0.238393</td>\n",
       "    </tr>\n",
       "    <tr>\n",
       "      <th>13</th>\n",
       "      <td>Sandwich Place</td>\n",
       "      <td>0.233781</td>\n",
       "    </tr>\n",
       "    <tr>\n",
       "      <th>7</th>\n",
       "      <td>Gym</td>\n",
       "      <td>0.190744</td>\n",
       "    </tr>\n",
       "    <tr>\n",
       "      <th>6</th>\n",
       "      <td>Train Station</td>\n",
       "      <td>0.046825</td>\n",
       "    </tr>\n",
       "    <tr>\n",
       "      <th>20</th>\n",
       "      <td>Road</td>\n",
       "      <td>0.000000</td>\n",
       "    </tr>\n",
       "    <tr>\n",
       "      <th>19</th>\n",
       "      <td>Baseball Stadium</td>\n",
       "      <td>0.000000</td>\n",
       "    </tr>\n",
       "    <tr>\n",
       "      <th>18</th>\n",
       "      <td>Neighborhood</td>\n",
       "      <td>0.000000</td>\n",
       "    </tr>\n",
       "    <tr>\n",
       "      <th>17</th>\n",
       "      <td>Pub</td>\n",
       "      <td>0.000000</td>\n",
       "    </tr>\n",
       "    <tr>\n",
       "      <th>16</th>\n",
       "      <td>Pizza Place</td>\n",
       "      <td>0.000000</td>\n",
       "    </tr>\n",
       "  </tbody>\n",
       "</table>\n",
       "</div>"
      ],
      "text/plain": [
       "             feature  importance\n",
       "11              Park    0.290257\n",
       "1             Subway    0.238393\n",
       "13    Sandwich Place    0.233781\n",
       "7                Gym    0.190744\n",
       "6      Train Station    0.046825\n",
       "20              Road    0.000000\n",
       "19  Baseball Stadium    0.000000\n",
       "18      Neighborhood    0.000000\n",
       "17               Pub    0.000000\n",
       "16       Pizza Place    0.000000"
      ]
     },
     "execution_count": 31,
     "metadata": {},
     "output_type": "execute_result"
    }
   ],
   "source": [
    "from sklearn.tree import DecisionTreeClassifier\n",
    "\n",
    "treeclf = DecisionTreeClassifier(max_depth=3, random_state=1)\n",
    "treeclf.fit(X, y)\n",
    "\n",
    "pd.DataFrame({'feature':feature_cols, 'importance':treeclf.feature_importances_}).sort_values('importance', ascending=False).head(10)"
   ]
  },
  {
   "cell_type": "code",
   "execution_count": 32,
   "metadata": {},
   "outputs": [
    {
     "data": {
      "text/plain": [
       "0    1030\n",
       "1     207\n",
       "Name: Coffee Shop, dtype: int64"
      ]
     },
     "execution_count": 32,
     "metadata": {},
     "output_type": "execute_result"
    }
   ],
   "source": [
    "foursquare_days_df[foursquare_days_df['Subway'] == 1]['Coffee Shop'].value_counts()"
   ]
  },
  {
   "cell_type": "code",
   "execution_count": 36,
   "metadata": {},
   "outputs": [
    {
     "data": {
      "text/plain": [
       "True"
      ]
     },
     "execution_count": 36,
     "metadata": {},
     "output_type": "execute_result"
    }
   ],
   "source": [
    "from sklearn.tree import export_graphviz\n",
    "import pydotplus\n",
    "from io import StringIO\n",
    "\n",
    "import os     \n",
    "os.environ[\"PATH\"] += os.pathsep + 'C:\\\\Users\\\\Steven\\\\Anaconda3\\\\Library\\\\bin\\\\graphviz'\n",
    "\n",
    "dotfile = StringIO()\n",
    "export_graphviz(treeclf, out_file=dotfile, feature_names=feature_cols)\n",
    "graph = pydotplus.graph_from_dot_data(dotfile.getvalue())\n",
    "graph.write_png('./assets/categories_tree.png')"
   ]
  },
  {
   "cell_type": "markdown",
   "metadata": {},
   "source": [
    "![Tree for category data](assets/categories_tree.png)|"
   ]
  },
  {
   "cell_type": "code",
   "execution_count": 37,
   "metadata": {
    "collapsed": true
   },
   "outputs": [],
   "source": [
    "feature_cols = ['Office', 'Subway', 'American Restaurant', 'Bar',\n",
    "       'Government Building', 'Hotel', 'Train Station', 'Gym',\n",
    "       'Grocery Store', 'Home (private)',\n",
    "       'Residential Building (Apartment / Condo)', 'Park',\n",
    "       'Mexican Restaurant', 'Sandwich Place', 'Lounge', 'Building',\n",
    "       'Pizza Place', 'Pub', 'Neighborhood', 'Baseball Stadium', 'Road',\n",
    "       'Italian Restaurant']\n",
    "\n",
    "X = foursquare_days_df[feature_cols]\n",
    "y = foursquare_days_df[\"Coffee Shop\"]"
   ]
  },
  {
   "cell_type": "code",
   "execution_count": 38,
   "metadata": {},
   "outputs": [
    {
     "data": {
      "text/plain": [
       "DecisionTreeClassifier(class_weight=None, criterion='gini', max_depth=3,\n",
       "            max_features=None, max_leaf_nodes=None,\n",
       "            min_impurity_decrease=0.0, min_impurity_split=None,\n",
       "            min_samples_leaf=1, min_samples_split=2,\n",
       "            min_weight_fraction_leaf=0.0, presort=False, random_state=None,\n",
       "            splitter='best')"
      ]
     },
     "execution_count": 38,
     "metadata": {},
     "output_type": "execute_result"
    }
   ],
   "source": [
    "from sklearn.model_selection import train_test_split\n",
    "\n",
    "X_train, X_test, y_train, y_test = train_test_split(X, y)\n",
    "treeclf = DecisionTreeClassifier(max_depth=3)\n",
    "treeclf.fit(X_train, y_train)"
   ]
  },
  {
   "cell_type": "code",
   "execution_count": 41,
   "metadata": {},
   "outputs": [
    {
     "name": "stdout",
     "output_type": "stream",
     "text": [
      "Accuracy:  0.889908256881\n"
     ]
    }
   ],
   "source": [
    "from sklearn.metrics import accuracy_score\n",
    "\n",
    "y_predict = treeclf.predict(X_test)\n",
    "print('Accuracy: ', str(accuracy_score(y_test, y_predict)))"
   ]
  },
  {
   "cell_type": "markdown",
   "metadata": {},
   "source": [
    "#### Model 2: Random Forest Classifier"
   ]
  },
  {
   "cell_type": "code",
   "execution_count": 48,
   "metadata": {
    "collapsed": true
   },
   "outputs": [],
   "source": [
    "feature_cols = ['Office', 'Subway', 'American Restaurant', 'Bar',\n",
    "       'Government Building', 'Hotel', 'Train Station', 'Gym',\n",
    "       'Grocery Store', 'Home (private)',\n",
    "       'Residential Building (Apartment / Condo)', 'Park',\n",
    "       'Mexican Restaurant', 'Sandwich Place', 'Lounge', 'Building',\n",
    "       'Pizza Place', 'Pub', 'Neighborhood', 'Baseball Stadium', 'Road',\n",
    "       'Italian Restaurant']\n",
    "\n",
    "X = foursquare_days_df[feature_cols]\n",
    "y = foursquare_days_df[\"Coffee Shop\"]"
   ]
  },
  {
   "cell_type": "code",
   "execution_count": 49,
   "metadata": {},
   "outputs": [
    {
     "data": {
      "text/html": [
       "<div>\n",
       "<style>\n",
       "    .dataframe thead tr:only-child th {\n",
       "        text-align: right;\n",
       "    }\n",
       "\n",
       "    .dataframe thead th {\n",
       "        text-align: left;\n",
       "    }\n",
       "\n",
       "    .dataframe tbody tr th {\n",
       "        vertical-align: top;\n",
       "    }\n",
       "</style>\n",
       "<table border=\"1\" class=\"dataframe\">\n",
       "  <thead>\n",
       "    <tr style=\"text-align: right;\">\n",
       "      <th></th>\n",
       "      <th>feature</th>\n",
       "      <th>importance</th>\n",
       "    </tr>\n",
       "  </thead>\n",
       "  <tbody>\n",
       "    <tr>\n",
       "      <th>1</th>\n",
       "      <td>Subway</td>\n",
       "      <td>0.072851</td>\n",
       "    </tr>\n",
       "    <tr>\n",
       "      <th>0</th>\n",
       "      <td>Office</td>\n",
       "      <td>0.065243</td>\n",
       "    </tr>\n",
       "    <tr>\n",
       "      <th>2</th>\n",
       "      <td>American Restaurant</td>\n",
       "      <td>0.058225</td>\n",
       "    </tr>\n",
       "    <tr>\n",
       "      <th>8</th>\n",
       "      <td>Grocery Store</td>\n",
       "      <td>0.057380</td>\n",
       "    </tr>\n",
       "    <tr>\n",
       "      <th>9</th>\n",
       "      <td>Home (private)</td>\n",
       "      <td>0.054446</td>\n",
       "    </tr>\n",
       "    <tr>\n",
       "      <th>11</th>\n",
       "      <td>Park</td>\n",
       "      <td>0.053394</td>\n",
       "    </tr>\n",
       "    <tr>\n",
       "      <th>4</th>\n",
       "      <td>Government Building</td>\n",
       "      <td>0.053389</td>\n",
       "    </tr>\n",
       "    <tr>\n",
       "      <th>6</th>\n",
       "      <td>Train Station</td>\n",
       "      <td>0.051777</td>\n",
       "    </tr>\n",
       "    <tr>\n",
       "      <th>12</th>\n",
       "      <td>Mexican Restaurant</td>\n",
       "      <td>0.050790</td>\n",
       "    </tr>\n",
       "    <tr>\n",
       "      <th>10</th>\n",
       "      <td>Residential Building (Apartment / Condo)</td>\n",
       "      <td>0.050631</td>\n",
       "    </tr>\n",
       "    <tr>\n",
       "      <th>13</th>\n",
       "      <td>Sandwich Place</td>\n",
       "      <td>0.048432</td>\n",
       "    </tr>\n",
       "    <tr>\n",
       "      <th>5</th>\n",
       "      <td>Hotel</td>\n",
       "      <td>0.045965</td>\n",
       "    </tr>\n",
       "    <tr>\n",
       "      <th>7</th>\n",
       "      <td>Gym</td>\n",
       "      <td>0.044408</td>\n",
       "    </tr>\n",
       "    <tr>\n",
       "      <th>18</th>\n",
       "      <td>Neighborhood</td>\n",
       "      <td>0.043520</td>\n",
       "    </tr>\n",
       "    <tr>\n",
       "      <th>3</th>\n",
       "      <td>Bar</td>\n",
       "      <td>0.041042</td>\n",
       "    </tr>\n",
       "    <tr>\n",
       "      <th>15</th>\n",
       "      <td>Building</td>\n",
       "      <td>0.039426</td>\n",
       "    </tr>\n",
       "    <tr>\n",
       "      <th>16</th>\n",
       "      <td>Pizza Place</td>\n",
       "      <td>0.036370</td>\n",
       "    </tr>\n",
       "    <tr>\n",
       "      <th>17</th>\n",
       "      <td>Pub</td>\n",
       "      <td>0.035236</td>\n",
       "    </tr>\n",
       "    <tr>\n",
       "      <th>21</th>\n",
       "      <td>Italian Restaurant</td>\n",
       "      <td>0.032134</td>\n",
       "    </tr>\n",
       "    <tr>\n",
       "      <th>14</th>\n",
       "      <td>Lounge</td>\n",
       "      <td>0.030473</td>\n",
       "    </tr>\n",
       "    <tr>\n",
       "      <th>19</th>\n",
       "      <td>Baseball Stadium</td>\n",
       "      <td>0.019924</td>\n",
       "    </tr>\n",
       "    <tr>\n",
       "      <th>20</th>\n",
       "      <td>Road</td>\n",
       "      <td>0.014943</td>\n",
       "    </tr>\n",
       "  </tbody>\n",
       "</table>\n",
       "</div>"
      ],
      "text/plain": [
       "                                     feature  importance\n",
       "1                                     Subway    0.072851\n",
       "0                                     Office    0.065243\n",
       "2                        American Restaurant    0.058225\n",
       "8                              Grocery Store    0.057380\n",
       "9                             Home (private)    0.054446\n",
       "11                                      Park    0.053394\n",
       "4                        Government Building    0.053389\n",
       "6                              Train Station    0.051777\n",
       "12                        Mexican Restaurant    0.050790\n",
       "10  Residential Building (Apartment / Condo)    0.050631\n",
       "13                            Sandwich Place    0.048432\n",
       "5                                      Hotel    0.045965\n",
       "7                                        Gym    0.044408\n",
       "18                              Neighborhood    0.043520\n",
       "3                                        Bar    0.041042\n",
       "15                                  Building    0.039426\n",
       "16                               Pizza Place    0.036370\n",
       "17                                       Pub    0.035236\n",
       "21                        Italian Restaurant    0.032134\n",
       "14                                    Lounge    0.030473\n",
       "19                          Baseball Stadium    0.019924\n",
       "20                                      Road    0.014943"
      ]
     },
     "execution_count": 49,
     "metadata": {},
     "output_type": "execute_result"
    }
   ],
   "source": [
    "from sklearn.ensemble import RandomForestClassifier\n",
    "from sklearn.datasets import make_classification\n",
    "\n",
    "rfclas = RandomForestClassifier(n_estimators=150, max_features=5, oob_score=True)\n",
    "rfclas.fit(X, y)\n",
    "\n",
    "pd.DataFrame({'feature':feature_cols, 'importance':rfclas.feature_importances_}).sort_values('importance', ascending=False)"
   ]
  },
  {
   "cell_type": "code",
   "execution_count": 50,
   "metadata": {},
   "outputs": [
    {
     "name": "stdout",
     "output_type": "stream",
     "text": [
      "accuracy: 0.889220183486\n"
     ]
    },
    {
     "data": {
      "text/html": [
       "<div>\n",
       "<style>\n",
       "    .dataframe thead tr:only-child th {\n",
       "        text-align: right;\n",
       "    }\n",
       "\n",
       "    .dataframe thead th {\n",
       "        text-align: left;\n",
       "    }\n",
       "\n",
       "    .dataframe tbody tr th {\n",
       "        vertical-align: top;\n",
       "    }\n",
       "</style>\n",
       "<table border=\"1\" class=\"dataframe\">\n",
       "  <thead>\n",
       "    <tr style=\"text-align: right;\">\n",
       "      <th></th>\n",
       "      <th>feature</th>\n",
       "      <th>importance</th>\n",
       "    </tr>\n",
       "  </thead>\n",
       "  <tbody>\n",
       "    <tr>\n",
       "      <th>1</th>\n",
       "      <td>Subway</td>\n",
       "      <td>0.072868</td>\n",
       "    </tr>\n",
       "    <tr>\n",
       "      <th>0</th>\n",
       "      <td>Office</td>\n",
       "      <td>0.067950</td>\n",
       "    </tr>\n",
       "    <tr>\n",
       "      <th>2</th>\n",
       "      <td>American Restaurant</td>\n",
       "      <td>0.064002</td>\n",
       "    </tr>\n",
       "    <tr>\n",
       "      <th>9</th>\n",
       "      <td>Home (private)</td>\n",
       "      <td>0.056804</td>\n",
       "    </tr>\n",
       "    <tr>\n",
       "      <th>8</th>\n",
       "      <td>Grocery Store</td>\n",
       "      <td>0.054647</td>\n",
       "    </tr>\n",
       "  </tbody>\n",
       "</table>\n",
       "</div>"
      ],
      "text/plain": [
       "               feature  importance\n",
       "1               Subway    0.072868\n",
       "0               Office    0.067950\n",
       "2  American Restaurant    0.064002\n",
       "9       Home (private)    0.056804\n",
       "8        Grocery Store    0.054647"
      ]
     },
     "execution_count": 50,
     "metadata": {},
     "output_type": "execute_result"
    }
   ],
   "source": [
    "rfclas = RandomForestClassifier(n_estimators=150, max_features=5, oob_score=True)\n",
    "\n",
    "X_train, X_test, y_train, y_test = train_test_split(X, y)\n",
    "rfclas.fit(X_train, y_train)\n",
    "y_predict = rfclas.predict(X_test)\n",
    "print('accuracy: ' + str(accuracy_score(y_test, y_predict)))\n",
    "\n",
    "pd.DataFrame({'feature':feature_cols, 'importance':rfclas.feature_importances_}).sort_values('importance', ascending=False).head()"
   ]
  },
  {
   "cell_type": "markdown",
   "metadata": {},
   "source": [
    "#### Hypothesis 1 conclusion\n",
    "- The first model I used was a decision tree, and then I tried implementing a random forest. What I found was that the decision tree was much easier to interpret due to its ability to pick out the most important features, rather than using all of the features. The accuracy was also almost exactly the same. From this I found that the most common places for a person to visit on the same day as a coffee shop are the park, Subway, a Sandwich Place (other than subway I presume), the Gym, and a Train Station."
   ]
  },
  {
   "cell_type": "markdown",
   "metadata": {},
   "source": [
    "<a id=\"hyp_2\"></a>"
   ]
  },
  {
   "cell_type": "markdown",
   "metadata": {},
   "source": [
    "### Hypothesis 2: compare various factors of each zip code to the check in count to find a linear relationship. If we can find a linear relationship, we can use this to determine the best zip code for maximizing coffee shop check-ins."
   ]
  },
  {
   "cell_type": "code",
   "execution_count": 21,
   "metadata": {},
   "outputs": [
    {
     "data": {
      "text/html": [
       "<div>\n",
       "<style scoped>\n",
       "    .dataframe tbody tr th:only-of-type {\n",
       "        vertical-align: middle;\n",
       "    }\n",
       "\n",
       "    .dataframe tbody tr th {\n",
       "        vertical-align: top;\n",
       "    }\n",
       "\n",
       "    .dataframe thead th {\n",
       "        text-align: right;\n",
       "    }\n",
       "</style>\n",
       "<table border=\"1\" class=\"dataframe\">\n",
       "  <thead>\n",
       "    <tr style=\"text-align: right;\">\n",
       "      <th></th>\n",
       "      <th>zip_code</th>\n",
       "      <th>coffeeshop_counts</th>\n",
       "      <th>estimate_total</th>\n",
       "      <th>median_age</th>\n",
       "      <th>mean_income</th>\n",
       "      <th>percent_public_transport</th>\n",
       "    </tr>\n",
       "  </thead>\n",
       "  <tbody>\n",
       "    <tr>\n",
       "      <th>0</th>\n",
       "      <td>20001</td>\n",
       "      <td>942</td>\n",
       "      <td>44998</td>\n",
       "      <td>30.6</td>\n",
       "      <td>106670.0</td>\n",
       "      <td>0.353349</td>\n",
       "    </tr>\n",
       "    <tr>\n",
       "      <th>1</th>\n",
       "      <td>20002</td>\n",
       "      <td>172</td>\n",
       "      <td>59659</td>\n",
       "      <td>34.0</td>\n",
       "      <td>98792.0</td>\n",
       "      <td>0.361972</td>\n",
       "    </tr>\n",
       "    <tr>\n",
       "      <th>2</th>\n",
       "      <td>20003</td>\n",
       "      <td>225</td>\n",
       "      <td>29071</td>\n",
       "      <td>34.8</td>\n",
       "      <td>140336.0</td>\n",
       "      <td>0.401540</td>\n",
       "    </tr>\n",
       "    <tr>\n",
       "      <th>3</th>\n",
       "      <td>20004</td>\n",
       "      <td>148</td>\n",
       "      <td>1708</td>\n",
       "      <td>41.0</td>\n",
       "      <td>173373.0</td>\n",
       "      <td>0.312452</td>\n",
       "    </tr>\n",
       "    <tr>\n",
       "      <th>4</th>\n",
       "      <td>20007</td>\n",
       "      <td>175</td>\n",
       "      <td>26415</td>\n",
       "      <td>33.2</td>\n",
       "      <td>180698.0</td>\n",
       "      <td>0.233151</td>\n",
       "    </tr>\n",
       "    <tr>\n",
       "      <th>5</th>\n",
       "      <td>20008</td>\n",
       "      <td>14</td>\n",
       "      <td>28261</td>\n",
       "      <td>37.1</td>\n",
       "      <td>164615.0</td>\n",
       "      <td>0.477948</td>\n",
       "    </tr>\n",
       "    <tr>\n",
       "      <th>6</th>\n",
       "      <td>20009</td>\n",
       "      <td>97</td>\n",
       "      <td>51508</td>\n",
       "      <td>32.3</td>\n",
       "      <td>121153.0</td>\n",
       "      <td>0.433303</td>\n",
       "    </tr>\n",
       "    <tr>\n",
       "      <th>7</th>\n",
       "      <td>20010</td>\n",
       "      <td>101</td>\n",
       "      <td>32421</td>\n",
       "      <td>32.0</td>\n",
       "      <td>92937.0</td>\n",
       "      <td>0.504061</td>\n",
       "    </tr>\n",
       "    <tr>\n",
       "      <th>8</th>\n",
       "      <td>20017</td>\n",
       "      <td>41</td>\n",
       "      <td>20371</td>\n",
       "      <td>37.5</td>\n",
       "      <td>81027.0</td>\n",
       "      <td>0.388251</td>\n",
       "    </tr>\n",
       "    <tr>\n",
       "      <th>9</th>\n",
       "      <td>20024</td>\n",
       "      <td>1</td>\n",
       "      <td>12183</td>\n",
       "      <td>38.2</td>\n",
       "      <td>90712.0</td>\n",
       "      <td>0.441809</td>\n",
       "    </tr>\n",
       "    <tr>\n",
       "      <th>10</th>\n",
       "      <td>20036</td>\n",
       "      <td>364</td>\n",
       "      <td>5655</td>\n",
       "      <td>32.7</td>\n",
       "      <td>108420.0</td>\n",
       "      <td>0.363870</td>\n",
       "    </tr>\n",
       "    <tr>\n",
       "      <th>11</th>\n",
       "      <td>20037</td>\n",
       "      <td>98</td>\n",
       "      <td>15285</td>\n",
       "      <td>26.7</td>\n",
       "      <td>137690.0</td>\n",
       "      <td>0.284997</td>\n",
       "    </tr>\n",
       "  </tbody>\n",
       "</table>\n",
       "</div>"
      ],
      "text/plain": [
       "   zip_code  coffeeshop_counts  estimate_total  median_age  mean_income  \\\n",
       "0     20001                942           44998        30.6     106670.0   \n",
       "1     20002                172           59659        34.0      98792.0   \n",
       "2     20003                225           29071        34.8     140336.0   \n",
       "3     20004                148            1708        41.0     173373.0   \n",
       "4     20007                175           26415        33.2     180698.0   \n",
       "5     20008                 14           28261        37.1     164615.0   \n",
       "6     20009                 97           51508        32.3     121153.0   \n",
       "7     20010                101           32421        32.0      92937.0   \n",
       "8     20017                 41           20371        37.5      81027.0   \n",
       "9     20024                  1           12183        38.2      90712.0   \n",
       "10    20036                364            5655        32.7     108420.0   \n",
       "11    20037                 98           15285        26.7     137690.0   \n",
       "\n",
       "    percent_public_transport  \n",
       "0                   0.353349  \n",
       "1                   0.361972  \n",
       "2                   0.401540  \n",
       "3                   0.312452  \n",
       "4                   0.233151  \n",
       "5                   0.477948  \n",
       "6                   0.433303  \n",
       "7                   0.504061  \n",
       "8                   0.388251  \n",
       "9                   0.441809  \n",
       "10                  0.363870  \n",
       "11                  0.284997  "
      ]
     },
     "execution_count": 21,
     "metadata": {},
     "output_type": "execute_result"
    }
   ],
   "source": [
    "checkins_and_zipdata_df"
   ]
  },
  {
   "cell_type": "code",
   "execution_count": 119,
   "metadata": {},
   "outputs": [
    {
     "name": "stdout",
     "output_type": "stream",
     "text": [
      "Baseline RMSE:  243.66125165\n"
     ]
    }
   ],
   "source": [
    "# get mean squared error of baseline\n",
    "import numpy as np\n",
    "\n",
    "actual = checkins_and_zipdata_df.coffeeshop_counts.tolist()\n",
    "checkins_and_zipdata_df['predicted'] = checkins_and_zipdata_df.coffeeshop_counts.mean()\n",
    "predicted = checkins_and_zipdata_df.predicted.tolist()\n",
    "print('Baseline RMSE: ', np.sqrt(metrics.mean_squared_error(actual, predicted)))"
   ]
  },
  {
   "cell_type": "code",
   "execution_count": 120,
   "metadata": {},
   "outputs": [
    {
     "data": {
      "text/plain": [
       "coffeeshop_counts           1.000000\n",
       "estimate_total              0.244147\n",
       "median_age                 -0.362762\n",
       "mean_income                -0.108608\n",
       "percent_public_transport   -0.244719\n",
       "predicted                        NaN\n",
       "Name: coffeeshop_counts, dtype: float64"
      ]
     },
     "execution_count": 120,
     "metadata": {},
     "output_type": "execute_result"
    }
   ],
   "source": [
    "checkins_and_zipdata_df.corr().coffeeshop_counts"
   ]
  },
  {
   "cell_type": "code",
   "execution_count": 121,
   "metadata": {},
   "outputs": [
    {
     "data": {
      "text/plain": [
       "LinearRegression(copy_X=True, fit_intercept=True, n_jobs=1, normalize=False)"
      ]
     },
     "execution_count": 121,
     "metadata": {},
     "output_type": "execute_result"
    }
   ],
   "source": [
    "from sklearn.linear_model import LinearRegression\n",
    "feature_cols = ['median_age', 'percent_public_transport']\n",
    "\n",
    "X = checkins_and_zipdata_df[feature_cols]\n",
    "y = checkins_and_zipdata_df.coffeeshop_counts\n",
    "\n",
    "lr = LinearRegression()\n",
    "lr.fit(X, y)"
   ]
  },
  {
   "cell_type": "code",
   "execution_count": 122,
   "metadata": {
    "scrolled": true
   },
   "outputs": [
    {
     "data": {
      "text/plain": [
       "[('median_age', -21.503951021339549),\n",
       " ('percent_public_transport', -562.59521272186237)]"
      ]
     },
     "execution_count": 122,
     "metadata": {},
     "output_type": "execute_result"
    }
   ],
   "source": [
    "list(zip(feature_cols, lr.coef_))"
   ]
  },
  {
   "cell_type": "code",
   "execution_count": 123,
   "metadata": {},
   "outputs": [
    {
     "name": "stdout",
     "output_type": "stream",
     "text": [
      "[ 211.91765413]\n",
      "[172]\n"
     ]
    }
   ],
   "source": [
    "# compare predicted value of one record to the actual value.\n",
    "print(lr.predict([[34, .361972]]))\n",
    "print(checkins_and_zipdata_df[checkins_and_zipdata_df.zip_code == '20002'].coffeeshop_counts.values)"
   ]
  },
  {
   "cell_type": "code",
   "execution_count": 190,
   "metadata": {},
   "outputs": [
    {
     "name": "stdout",
     "output_type": "stream",
     "text": [
      "RMSE:  117.931658217\n"
     ]
    }
   ],
   "source": [
    "from sklearn.model_selection import train_test_split\n",
    "from sklearn import metrics\n",
    "\n",
    "feature_cols = ['median_age', 'percent_public_transport']\n",
    "\n",
    "X = checkins_and_zipdata_df[feature_cols]\n",
    "y = checkins_and_zipdata_df.coffeeshop_counts\n",
    "\n",
    "X_train, X_test, y_train, y_test = train_test_split(X, y, random_state=1)\n",
    "\n",
    "lr = LinearRegression()\n",
    "lr.fit(X_train, y_train)\n",
    "\n",
    "y_pred = lr.predict(X_test)\n",
    "\n",
    "print('RMSE: ', str(np.sqrt(metrics.mean_squared_error(y_test, y_pred))))"
   ]
  },
  {
   "cell_type": "markdown",
   "metadata": {},
   "source": [
    "#### Hypothesis 2 conclusion\n",
    "- Based on the coefficients and correlations found from the above linear regression model, of the listed features age and public_transport percentage are the most significant factors in coffee shop checkins. The other features do not increase model accuracy. For every additional year on the median age, coffee shop check-ins goes down by 20. Therefor, I should look for the zip code with the lowest median age.\n",
    "- The model is more accurate than the baseline, but it is still very inaccurate due to the very small size of the dataset."
   ]
  },
  {
   "cell_type": "markdown",
   "metadata": {},
   "source": [
    "## Machine Learning Conclusion\n",
    "- Based on the results of the models executed in this section, I am looking for the zip code with the greatest presense of parks and sandwich shops, with the lowest median age."
   ]
  },
  {
   "cell_type": "markdown",
   "metadata": {},
   "source": [
    "<a id=\"conclusion\"></a>"
   ]
  },
  {
   "cell_type": "markdown",
   "metadata": {},
   "source": [
    "## Conclusion\n",
    "- Build new dataframe with zip codes and their relevant characteristics for analysis."
   ]
  },
  {
   "cell_type": "code",
   "execution_count": 23,
   "metadata": {
    "collapsed": true
   },
   "outputs": [],
   "source": [
    "find_best_zip = businesses_df[businesses_df.categories.str.contains('Sandwich')].groupby('zip_code').agg('count').name.reset_index(name=\"sandwich\")\n",
    "find_best_zip = find_best_zip.merge(businesses_df[businesses_df.categories.str.contains('Park')].groupby('zip_code').agg('count').name.reset_index(name=\"park\"))\n",
    "\n",
    "# since the model revealed that these two categories are weighted similarly,\n",
    "# I'll just add them.\n",
    "find_best_zip = find_best_zip.merge(businesses_df[businesses_df.categories.str.contains('Coffee')].groupby('zip_code').agg('count').name.reset_index(name=\"coffee\"))"
   ]
  },
  {
   "cell_type": "code",
   "execution_count": 28,
   "metadata": {},
   "outputs": [
    {
     "data": {
      "text/html": [
       "<div>\n",
       "<style scoped>\n",
       "    .dataframe tbody tr th:only-of-type {\n",
       "        vertical-align: middle;\n",
       "    }\n",
       "\n",
       "    .dataframe tbody tr th {\n",
       "        vertical-align: top;\n",
       "    }\n",
       "\n",
       "    .dataframe thead th {\n",
       "        text-align: right;\n",
       "    }\n",
       "</style>\n",
       "<table border=\"1\" class=\"dataframe\">\n",
       "  <thead>\n",
       "    <tr style=\"text-align: right;\">\n",
       "      <th></th>\n",
       "      <th>zip_code</th>\n",
       "      <th>sandwich</th>\n",
       "      <th>park</th>\n",
       "      <th>coffee</th>\n",
       "    </tr>\n",
       "  </thead>\n",
       "  <tbody>\n",
       "    <tr>\n",
       "      <th>0</th>\n",
       "      <td>20001</td>\n",
       "      <td>54</td>\n",
       "      <td>8</td>\n",
       "      <td>43</td>\n",
       "    </tr>\n",
       "    <tr>\n",
       "      <th>4</th>\n",
       "      <td>20005</td>\n",
       "      <td>36</td>\n",
       "      <td>2</td>\n",
       "      <td>33</td>\n",
       "    </tr>\n",
       "    <tr>\n",
       "      <th>5</th>\n",
       "      <td>20006</td>\n",
       "      <td>34</td>\n",
       "      <td>5</td>\n",
       "      <td>31</td>\n",
       "    </tr>\n",
       "    <tr>\n",
       "      <th>8</th>\n",
       "      <td>20009</td>\n",
       "      <td>30</td>\n",
       "      <td>4</td>\n",
       "      <td>41</td>\n",
       "    </tr>\n",
       "    <tr>\n",
       "      <th>1</th>\n",
       "      <td>20002</td>\n",
       "      <td>28</td>\n",
       "      <td>5</td>\n",
       "      <td>33</td>\n",
       "    </tr>\n",
       "    <tr>\n",
       "      <th>3</th>\n",
       "      <td>20004</td>\n",
       "      <td>23</td>\n",
       "      <td>1</td>\n",
       "      <td>20</td>\n",
       "    </tr>\n",
       "    <tr>\n",
       "      <th>2</th>\n",
       "      <td>20003</td>\n",
       "      <td>22</td>\n",
       "      <td>9</td>\n",
       "      <td>20</td>\n",
       "    </tr>\n",
       "    <tr>\n",
       "      <th>18</th>\n",
       "      <td>20036</td>\n",
       "      <td>21</td>\n",
       "      <td>1</td>\n",
       "      <td>27</td>\n",
       "    </tr>\n",
       "    <tr>\n",
       "      <th>16</th>\n",
       "      <td>20024</td>\n",
       "      <td>21</td>\n",
       "      <td>7</td>\n",
       "      <td>15</td>\n",
       "    </tr>\n",
       "    <tr>\n",
       "      <th>6</th>\n",
       "      <td>20007</td>\n",
       "      <td>18</td>\n",
       "      <td>6</td>\n",
       "      <td>20</td>\n",
       "    </tr>\n",
       "  </tbody>\n",
       "</table>\n",
       "</div>"
      ],
      "text/plain": [
       "   zip_code  sandwich  park  coffee\n",
       "0     20001        54     8      43\n",
       "4     20005        36     2      33\n",
       "5     20006        34     5      31\n",
       "8     20009        30     4      41\n",
       "1     20002        28     5      33\n",
       "3     20004        23     1      20\n",
       "2     20003        22     9      20\n",
       "18    20036        21     1      27\n",
       "16    20024        21     7      15\n",
       "6     20007        18     6      20"
      ]
     },
     "execution_count": 28,
     "metadata": {},
     "output_type": "execute_result"
    }
   ],
   "source": [
    "find_best_zip.sort_values('sandwich', ascending=False).head(10)"
   ]
  },
  {
   "cell_type": "code",
   "execution_count": 29,
   "metadata": {
    "collapsed": true
   },
   "outputs": [],
   "source": [
    "# add the median age\n",
    "find_best_zip = find_best_zip.merge(zipfeatures_df[['zip_code', 'median_age', 'percent_public_transport']])"
   ]
  },
  {
   "cell_type": "code",
   "execution_count": 30,
   "metadata": {},
   "outputs": [
    {
     "data": {
      "text/html": [
       "<div>\n",
       "<style scoped>\n",
       "    .dataframe tbody tr th:only-of-type {\n",
       "        vertical-align: middle;\n",
       "    }\n",
       "\n",
       "    .dataframe tbody tr th {\n",
       "        vertical-align: top;\n",
       "    }\n",
       "\n",
       "    .dataframe thead th {\n",
       "        text-align: right;\n",
       "    }\n",
       "</style>\n",
       "<table border=\"1\" class=\"dataframe\">\n",
       "  <thead>\n",
       "    <tr style=\"text-align: right;\">\n",
       "      <th></th>\n",
       "      <th>zip_code</th>\n",
       "      <th>sandwich</th>\n",
       "      <th>park</th>\n",
       "      <th>coffee</th>\n",
       "      <th>median_age</th>\n",
       "      <th>percent_public_transport</th>\n",
       "    </tr>\n",
       "  </thead>\n",
       "  <tbody>\n",
       "    <tr>\n",
       "      <th>0</th>\n",
       "      <td>20001</td>\n",
       "      <td>54</td>\n",
       "      <td>8</td>\n",
       "      <td>43</td>\n",
       "      <td>30.6</td>\n",
       "      <td>0.353349</td>\n",
       "    </tr>\n",
       "    <tr>\n",
       "      <th>4</th>\n",
       "      <td>20005</td>\n",
       "      <td>36</td>\n",
       "      <td>2</td>\n",
       "      <td>33</td>\n",
       "      <td>33.8</td>\n",
       "      <td>0.264241</td>\n",
       "    </tr>\n",
       "    <tr>\n",
       "      <th>5</th>\n",
       "      <td>20006</td>\n",
       "      <td>34</td>\n",
       "      <td>5</td>\n",
       "      <td>31</td>\n",
       "      <td>20.6</td>\n",
       "      <td>0.287554</td>\n",
       "    </tr>\n",
       "    <tr>\n",
       "      <th>8</th>\n",
       "      <td>20009</td>\n",
       "      <td>30</td>\n",
       "      <td>4</td>\n",
       "      <td>41</td>\n",
       "      <td>32.3</td>\n",
       "      <td>0.433303</td>\n",
       "    </tr>\n",
       "    <tr>\n",
       "      <th>1</th>\n",
       "      <td>20002</td>\n",
       "      <td>28</td>\n",
       "      <td>5</td>\n",
       "      <td>33</td>\n",
       "      <td>34.0</td>\n",
       "      <td>0.361972</td>\n",
       "    </tr>\n",
       "    <tr>\n",
       "      <th>3</th>\n",
       "      <td>20004</td>\n",
       "      <td>23</td>\n",
       "      <td>1</td>\n",
       "      <td>20</td>\n",
       "      <td>41.0</td>\n",
       "      <td>0.312452</td>\n",
       "    </tr>\n",
       "    <tr>\n",
       "      <th>2</th>\n",
       "      <td>20003</td>\n",
       "      <td>22</td>\n",
       "      <td>9</td>\n",
       "      <td>20</td>\n",
       "      <td>34.8</td>\n",
       "      <td>0.401540</td>\n",
       "    </tr>\n",
       "    <tr>\n",
       "      <th>18</th>\n",
       "      <td>20036</td>\n",
       "      <td>21</td>\n",
       "      <td>1</td>\n",
       "      <td>27</td>\n",
       "      <td>32.7</td>\n",
       "      <td>0.363870</td>\n",
       "    </tr>\n",
       "    <tr>\n",
       "      <th>16</th>\n",
       "      <td>20024</td>\n",
       "      <td>21</td>\n",
       "      <td>7</td>\n",
       "      <td>15</td>\n",
       "      <td>38.2</td>\n",
       "      <td>0.441809</td>\n",
       "    </tr>\n",
       "    <tr>\n",
       "      <th>6</th>\n",
       "      <td>20007</td>\n",
       "      <td>18</td>\n",
       "      <td>6</td>\n",
       "      <td>20</td>\n",
       "      <td>33.2</td>\n",
       "      <td>0.233151</td>\n",
       "    </tr>\n",
       "  </tbody>\n",
       "</table>\n",
       "</div>"
      ],
      "text/plain": [
       "   zip_code  sandwich  park  coffee  median_age  percent_public_transport\n",
       "0     20001        54     8      43        30.6                  0.353349\n",
       "4     20005        36     2      33        33.8                  0.264241\n",
       "5     20006        34     5      31        20.6                  0.287554\n",
       "8     20009        30     4      41        32.3                  0.433303\n",
       "1     20002        28     5      33        34.0                  0.361972\n",
       "3     20004        23     1      20        41.0                  0.312452\n",
       "2     20003        22     9      20        34.8                  0.401540\n",
       "18    20036        21     1      27        32.7                  0.363870\n",
       "16    20024        21     7      15        38.2                  0.441809\n",
       "6     20007        18     6      20        33.2                  0.233151"
      ]
     },
     "execution_count": 30,
     "metadata": {},
     "output_type": "execute_result"
    }
   ],
   "source": [
    "find_best_zip.sort_values('sandwich', ascending=False).head(10)"
   ]
  },
  {
   "cell_type": "markdown",
   "metadata": {},
   "source": [
    "It is tempting to go with the 20001 zip code, but we can see that there are already 43 coffee shops in this area, and the median age is significantly higher than the next row down. 20006 has a significant number of parks and sandwich shops, and a relatively low number of coffee shops. It also has the lowest median age on the list. For these reasons, I have selected the 20006 zip code."
   ]
  },
  {
   "cell_type": "code",
   "execution_count": 31,
   "metadata": {
    "collapsed": true
   },
   "outputs": [],
   "source": [
    "businesses_20006zip_df = businesses_df[(businesses_df.categories.str.contains('Coffee')) & \n",
    "              (businesses_df.zip_code.isin(['20006', '20036']))]"
   ]
  },
  {
   "cell_type": "markdown",
   "metadata": {},
   "source": [
    "At this point I ran into an issue that I did not anticipate. There were no suitable properties available in 20006, as far as I could find. That being said, just a few blocks north is 20036. The data above for 20036 is not as ideal, but the median age is still relatively low, and it's close enough to 20006. The percentage of people who use public transportation is also significantly higher. I found several properties in this location, and chose the one denoted with a red mark below."
   ]
  },
  {
   "cell_type": "code",
   "execution_count": 32,
   "metadata": {},
   "outputs": [
    {
     "data": {
      "text/html": [
       "<div style=\"width:100%;\"><div style=\"position:relative;width:100%;height:0;padding-bottom:60%;\"><iframe src=\"data:text/html;charset=utf-8;base64,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\" style=\"position:absolute;width:100%;height:100%;left:0;top:0;border:none !important;\" allowfullscreen webkitallowfullscreen mozallowfullscreen></iframe></div></div>"
      ],
      "text/plain": [
       "<folium.folium.Map at 0x2122f80e748>"
      ]
     },
     "execution_count": 32,
     "metadata": {},
     "output_type": "execute_result"
    }
   ],
   "source": [
    "import folium\n",
    "\n",
    "folium_map = folium.Map(location=[38.904265, -77.041656],\n",
    "                        zoom_start=15)\n",
    "\n",
    "for index, row in businesses_20006zip_df.iterrows():\n",
    "    folium.Marker([row[\"latitude\"], row[\"longitude\"]], popup=folium.Popup(row['name'], parse_html=True)).add_to(folium_map)\n",
    "    \n",
    "folium.Marker([38.9062766, -77.0418966], icon=folium.Icon(color=\"red\"), popup=folium.Popup('Selected Location', parse_html=True)).add_to(folium_map)\n",
    "\n",
    "folium_map"
   ]
  },
  {
   "cell_type": "code",
   "execution_count": 33,
   "metadata": {},
   "outputs": [
    {
     "data": {
      "text/html": [
       "\n",
       "        <iframe\n",
       "            width=\"800\"\n",
       "            height=\"600\"\n",
       "            src=\"./assets/document.pdf\"\n",
       "            frameborder=\"0\"\n",
       "            allowfullscreen\n",
       "        ></iframe>\n",
       "        "
      ],
      "text/plain": [
       "<IPython.lib.display.IFrame at 0x2122f80e470>"
      ]
     },
     "execution_count": 33,
     "metadata": {},
     "output_type": "execute_result"
    }
   ],
   "source": [
    "# here is a flier for the property from the property management company.\n",
    "from IPython.display import IFrame\n",
    "IFrame(\"./assets/document.pdf\", width=800, height=600)"
   ]
  },
  {
   "cell_type": "code",
   "execution_count": null,
   "metadata": {
    "collapsed": true
   },
   "outputs": [],
   "source": []
  }
 ],
 "metadata": {
  "kernelspec": {
   "display_name": "Python 3",
   "language": "python",
   "name": "python3"
  },
  "language_info": {
   "codemirror_mode": {
    "name": "ipython",
    "version": 3
   },
   "file_extension": ".py",
   "mimetype": "text/x-python",
   "name": "python",
   "nbconvert_exporter": "python",
   "pygments_lexer": "ipython3",
   "version": "3.6.4"
  }
 },
 "nbformat": 4,
 "nbformat_minor": 2
}
