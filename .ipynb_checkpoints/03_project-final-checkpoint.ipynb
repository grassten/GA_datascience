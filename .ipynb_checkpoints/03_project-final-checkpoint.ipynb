{
 "cells": [
  {
   "cell_type": "markdown",
   "metadata": {},
   "source": [
    "<h1 align=\"center\">Coffee Shop Location</h1> \n",
    "<h5 align=\"center\">by Steven Asten</h5> \n",
    "\n"
   ]
  },
  {
   "cell_type": "markdown",
   "metadata": {},
   "source": [
    "# Contents:\n",
    "1. <a href=\"#part_1\">Three Capstone Project Ideas</a>\n",
    "2. <a href=\"#part_2\">New Coffee Shop Location Proposal</a>\n",
    "3. <a href=\"#part_3\">Exploratory Data Analysis (EDA)</a>\n",
    "    - <a href=\"#import_and_structure\">Import and structure data sets</a>\n",
    "    - <a href=\"#explore_data\">Explore data</a>\n",
    "    - <a href=\"#explore_data_old\">Explore data (Old Hypotheses)</a>\n",
    "4. <a href=\"#machine_learning\">Machine Learning</a>\n",
    "    - <a href=\"#hyp_1\">Hypothesis #1</a>\n",
    "    - <a href=\"#hyp_2\">Hypothesis #2</a>\n",
    "5. <a href=\"#conclusion\">Conclusion</a>\n",
    "    "
   ]
  },
  {
   "cell_type": "markdown",
   "metadata": {},
   "source": [
    "<a id=\"part_1\"></a>"
   ]
  },
  {
   "cell_type": "markdown",
   "metadata": {},
   "source": [
    "# Part 1 - Three Capstone Project Ideas:"
   ]
  },
  {
   "cell_type": "code",
   "execution_count": 1,
   "metadata": {
    "scrolled": false
   },
   "outputs": [
    {
     "data": {
      "text/html": [
       "\n",
       "        <iframe\n",
       "            width=\"800\"\n",
       "            height=\"500\"\n",
       "            src=\"./00_ThreeIdeas.pdf\"\n",
       "            frameborder=\"0\"\n",
       "            allowfullscreen\n",
       "        ></iframe>\n",
       "        "
      ],
      "text/plain": [
       "<IPython.lib.display.IFrame at 0x2b8668f2400>"
      ]
     },
     "execution_count": 1,
     "metadata": {},
     "output_type": "execute_result"
    }
   ],
   "source": [
    "from IPython.display import IFrame\n",
    "IFrame(\"./00_ThreeIdeas.pdf\", width=800, height=500)"
   ]
  },
  {
   "cell_type": "markdown",
   "metadata": {},
   "source": [
    "<a id=\"part_2\"></a>"
   ]
  },
  {
   "cell_type": "markdown",
   "metadata": {},
   "source": [
    "# Part 2: New coffee shop location\n",
    "#### Problem Statement: What are you trying to solve?\n",
    "Find a rental property in a location which would be suitable for a new coffee shop. Only DC metro area considered.\n",
    "\n",
    "#### Data science Hypothesis(es)/solutions considering: One or multiple angles to consider solving this problem with data science  \n",
    "- Find the location w/ the least amount of competition (other coffee shops), using Yelp dataset\n",
    "- Find an area with features that may increase foot traffic, such as other nearby shops, public transportation stops, etc.\n",
    "\n",
    "#### Data sets to be used: Share the links and files, .csvs, .js, .xlsx, .txt, website URLs\n",
    "- [Yelp Dataset](https://www.yelp.com/dataset)\n",
    "- [2016 ACS 1-year estimates; Age and Sex](Part2_Proposal/DatasetsForProject/sex_and_age/)\n",
    "    - This dataset might change or be expanded to include more data; currently the intention is to use it for population data. The data came from [factfinder.census.gov](https://factfinder.census.gov/faces/nav/jsf/pages/download_center.xhtml).\n",
    "\n",
    "#### Data dictionaries to describe the data types youâ€™re using: write these out in markdown as tables \n",
    "- Yelp Dataset - business.json\n",
    "\n",
    "|Data ID      |Data Type|Data Description                                                           |\n",
    "|-------------|:-------:|---------------------------------------------------------------------------|\n",
    "|business_id  |String   |22 character unique string business id                                     |\n",
    "|name         |String   |the business's name                                                        |\n",
    "|neighborhood |String   |the neighborhood's name                                                    |\n",
    "|address      |String   |the full address of the business                                           |\n",
    "|city         |String   |the city                                                                   |\n",
    "|state        |String   |2 character state code, if applicable                                      |\n",
    "|postal code  |String   |the postal code                                                            |\n",
    "|latitude     |Float    |latitude                                                                   |\n",
    "|longitude    |Float    |longitude                                                                  |\n",
    "|stars        |Float    |star rating, rounded to half-stars                                         |\n",
    "|review_count |Integer  |number of reviews                                                          |\n",
    "|is_open      |Integer  |0 or 1 for closed or open, respectively                                    |\n",
    "|attributes   |Object(?)|business attributes to values. note: some attribute values might be objects|\n",
    "|categories   |Array(?) |an array of strings of business categories                                 |\n",
    "|hours        |Object(?)|key day to value hours, hours are using a 24hr clock                       |\n",
    "\n",
    "\n",
    "- 2016 ACS Age and Sex table (might not use this)\n",
    "\n",
    "|Data ID|Data Type|Data Description|\n",
    "|-----------------|:-----:|-------------------------------------|\n",
    "|GEO.id           |String |ID                                   |\n",
    "|GEO.id2          |String |ID                                   |\n",
    "|GEO.display-label|String |Display label in format County, State|\n",
    "|HC01_EST_VC01    |Integer|Estimated total population           |\n",
    "\n",
    "#### Potential business cases relative to project: how would this help businesses out to make money or save money or improve accuracy or make better products?\n",
    "This project will allow expanding coffee-shop franchises, as well as entrepreneurs breaking into the coffee shop industry, to find a suitable location for a new coffee shop. By using this analysis, coffee shop owners can avoid opening coffee shops in non-suitable areas, resulting in large savings in capital. Opening a coffee shop in a thriving and expanding area with less competition should also result in higher profits.\n",
    "\n",
    "#### Potential stakeholders who would find this interesting: who would be your ideal customer or client for this?\n",
    "Seeing as large franchises like Starbucks already have software which executes this analysis, the ideal customer for this project would be small business owners and prospective entrepreneurs.\n",
    "\n",
    "#### Potential places to share your results post project (client, world, website, blog)\n",
    "At this time, I believe the most beneficial method of sharing these results would be through a blog post that would allow the user to reproduce the analysis for different areas (since this will only cover the DC metro area)."
   ]
  },
  {
   "cell_type": "markdown",
   "metadata": {},
   "source": [
    "<a id=\"part_3\"></a>"
   ]
  },
  {
   "cell_type": "markdown",
   "metadata": {},
   "source": [
    "# Part 3: Exploratory Data Analysis"
   ]
  },
  {
   "cell_type": "markdown",
   "metadata": {},
   "source": [
    "<a id=\"import_and_structure\"></a>"
   ]
  },
  {
   "cell_type": "markdown",
   "metadata": {},
   "source": [
    "# Import data files and save as dataframes."
   ]
  },
  {
   "cell_type": "code",
   "execution_count": 4,
   "metadata": {},
   "outputs": [],
   "source": [
    "import pandas as pd\n",
    "from matplotlib import pyplot as plt\n",
    "\n",
    "%matplotlib inline"
   ]
  },
  {
   "cell_type": "markdown",
   "metadata": {},
   "source": [
    "<a id=\"import_zip\"></a>\n",
    "### Import zip_codes file (which contains all zip codes in dc-metro) into a python list."
   ]
  },
  {
   "cell_type": "code",
   "execution_count": 5,
   "metadata": {},
   "outputs": [],
   "source": [
    "import csv\n",
    "with open('./data/zip_codes.csv', 'r') as f:\n",
    "    reader = csv.reader(f)\n",
    "    zip_codes = list(reader)\n",
    "    \n",
    "# convert list of lists attained from csv.reader to single flat list\n",
    "zip_codes_flat = [item for sublist in zip_codes for item in sublist]"
   ]
  },
  {
   "cell_type": "markdown",
   "metadata": {},
   "source": [
    "<a id=\"import_acs\"></a>\n",
    "### Import ACS Datasets"
   ]
  },
  {
   "cell_type": "code",
   "execution_count": 6,
   "metadata": {},
   "outputs": [
    {
     "data": {
      "text/plain": [
       "zip_code          int64\n",
       "estimate_total    int64\n",
       "dtype: object"
      ]
     },
     "execution_count": 6,
     "metadata": {},
     "output_type": "execute_result"
    }
   ],
   "source": [
    "# create dataframe with 2015 & 2016 data to compare for change in population\n",
    "popul2016_df = pd.read_csv('./data/ACS_16_5YR_B01003_with_ann.csv', names=('zip_code', 'estimate_total'), skiprows=1)\n",
    "popul2016_df = popul2016_df[popul2016_df.zip_code.isin(zip_codes_flat)]\n",
    "popul2016_df.dtypes"
   ]
  },
  {
   "cell_type": "code",
   "execution_count": 7,
   "metadata": {
    "scrolled": true
   },
   "outputs": [],
   "source": [
    "popul2016_df['zip_code'] = popul2016_df['zip_code'].astype(str)"
   ]
  },
  {
   "cell_type": "code",
   "execution_count": 8,
   "metadata": {},
   "outputs": [],
   "source": [
    "zipfeatures_df = pd.read_csv('./data/ACS_15_5YR_B01002_with_ann.csv', names=('zip_code', 'median_age', 'mean_income', 'percent_public_transport'), skiprows=2)\n",
    "zipfeatures_df['zip_code'] = zipfeatures_df['zip_code'].astype(str)"
   ]
  },
  {
   "cell_type": "code",
   "execution_count": 9,
   "metadata": {},
   "outputs": [],
   "source": [
    "zipfeatures_df = popul2016_df.merge(zipfeatures_df, on='zip_code')"
   ]
  },
  {
   "cell_type": "code",
   "execution_count": 10,
   "metadata": {},
   "outputs": [],
   "source": [
    "zipfeatures_df['median_age'] = pd.to_numeric(zipfeatures_df['median_age'], errors='coerce')\n",
    "zipfeatures_df['mean_income'] = pd.to_numeric(zipfeatures_df['mean_income'], errors='coerce')\n",
    "zipfeatures_df['percent_public_transport'] = pd.to_numeric(zipfeatures_df['percent_public_transport'], errors='coerce')"
   ]
  },
  {
   "cell_type": "code",
   "execution_count": 11,
   "metadata": {},
   "outputs": [
    {
     "data": {
      "text/plain": [
       "zip_code                     object\n",
       "estimate_total                int64\n",
       "median_age                  float64\n",
       "mean_income                 float64\n",
       "percent_public_transport    float64\n",
       "dtype: object"
      ]
     },
     "execution_count": 11,
     "metadata": {},
     "output_type": "execute_result"
    }
   ],
   "source": [
    "zipfeatures_df.dtypes"
   ]
  },
  {
   "cell_type": "markdown",
   "metadata": {},
   "source": [
    "<a id=\"yelp_api\"></a>\n",
    "### Import Yelp dataset/call Yelp API.\n",
    "    - After importing the dataset I found it to be missing all data from DC area (maybe corrupted file?), so I chose to use  Yelp API.\n",
    "#### Note: <font color=Red>Don't run this code. Outputted, cleaned dataframe saved to file below and re-imported in the next section. I've marked where to begin running in red below.</font>"
   ]
  },
  {
   "cell_type": "code",
   "execution_count": 7,
   "metadata": {
    "collapsed": true
   },
   "outputs": [],
   "source": [
    "# businesses = pd.read_json('./data/business.json', lines=True)\n",
    "# businesses.shape\n",
    "# businesses.dtypes\n",
    "# businesses.head()\n",
    "# businesses[businesses.city.isin(zip_codes_flat)]"
   ]
  },
  {
   "cell_type": "code",
   "execution_count": 8,
   "metadata": {
    "collapsed": true,
    "scrolled": false
   },
   "outputs": [],
   "source": [
    "# This takes a very long time to run (calls the API 1200ish times; 10 minutes on my PC)\n",
    "# Query the yelp api for each zip code in the DC metro area\n",
    "# Since Yelp limit is 50 for businesses returned, we need to loop through pages of 50 using offsets\n",
    "\n",
    "import requests\n",
    "\n",
    "url = \"https://api.yelp.com/v3/businesses/search\"\n",
    "\n",
    "dict_responses = {}\n",
    "# for each zip code, gather up to 1001 businesses (should be enough for all businesses in each zip)\n",
    "for i in zip_codes_flat:\n",
    "    j = 1\n",
    "    while j <= 1001:\n",
    "        querystring = {'location': i, 'limit':50, 'offset':j}\n",
    "\n",
    "        headers = {\n",
    "            'authorization': #insert api key,\n",
    "            'cache-control': \"no-cache\",\n",
    "            }\n",
    "\n",
    "        response = requests.request(\"GET\", url, headers=headers, params=querystring)\n",
    "\n",
    "        response_todict = response.json()\n",
    "        try:\n",
    "            response_todict[str(int(i)+int(j))] = response_todict.pop('businesses')\n",
    "        except:\n",
    "            j = 1002\n",
    "        else:    \n",
    "            dict_responses.update(response_todict)\n",
    "            j = j + 50"
   ]
  },
  {
   "cell_type": "code",
   "execution_count": 9,
   "metadata": {
    "collapsed": true
   },
   "outputs": [],
   "source": [
    "# Clean up the response from the api\n",
    "\n",
    "list_of_businesses = []\n",
    "\n",
    "for key, item in dict_responses.items():\n",
    "    list_of_businesses.append(item)\n",
    "\n",
    "del(list_of_businesses[0:2])\n",
    "\n",
    "# more cleanup; list is currently list of lists of dictionaries due to how api was called\n",
    "# convert to just list of dictionaries\n",
    "\n",
    "list_of_businesses_formatting = []\n",
    "\n",
    "for i in list_of_businesses:\n",
    "    for j in i:\n",
    "        list_of_businesses_formatting.append(j)"
   ]
  },
  {
   "cell_type": "markdown",
   "metadata": {},
   "source": [
    "#### I need to normalize the json data so that each data point is in its own column."
   ]
  },
  {
   "cell_type": "code",
   "execution_count": 10,
   "metadata": {
    "collapsed": true
   },
   "outputs": [],
   "source": [
    "# Change formatting of categories column to only include \"title\", not \"alias\" (makes normalization easier)\n",
    "for idx, val in enumerate(list_of_businesses_formatting):\n",
    "    list_categories = []\n",
    "    for idx2, val2 in enumerate(val['categories']):\n",
    "        list_categories.append(list_of_businesses_formatting[idx]['categories'][idx2]['title'])\n",
    "    val['categories'] = list_categories"
   ]
  },
  {
   "cell_type": "code",
   "execution_count": 11,
   "metadata": {
    "collapsed": true
   },
   "outputs": [],
   "source": [
    "# This isn't technically normalized all the way since categories still has multiple values.\n",
    "# Good enough for analysis I need\n",
    "from pandas.io.json import json_normalize\n",
    "businesses_df = json_normalize(list_of_businesses_formatting)"
   ]
  },
  {
   "cell_type": "code",
   "execution_count": 12,
   "metadata": {
    "scrolled": false
   },
   "outputs": [
    {
     "data": {
      "text/html": [
       "<div>\n",
       "<style>\n",
       "    .dataframe thead tr:only-child th {\n",
       "        text-align: right;\n",
       "    }\n",
       "\n",
       "    .dataframe thead th {\n",
       "        text-align: left;\n",
       "    }\n",
       "\n",
       "    .dataframe tbody tr th {\n",
       "        vertical-align: top;\n",
       "    }\n",
       "</style>\n",
       "<table border=\"1\" class=\"dataframe\">\n",
       "  <thead>\n",
       "    <tr style=\"text-align: right;\">\n",
       "      <th></th>\n",
       "      <th>alias</th>\n",
       "      <th>categories</th>\n",
       "      <th>coordinates.latitude</th>\n",
       "      <th>coordinates.longitude</th>\n",
       "      <th>display_phone</th>\n",
       "      <th>distance</th>\n",
       "      <th>id</th>\n",
       "      <th>image_url</th>\n",
       "      <th>is_closed</th>\n",
       "      <th>location.address1</th>\n",
       "      <th>...</th>\n",
       "      <th>location.display_address</th>\n",
       "      <th>location.state</th>\n",
       "      <th>location.zip_code</th>\n",
       "      <th>name</th>\n",
       "      <th>phone</th>\n",
       "      <th>price</th>\n",
       "      <th>rating</th>\n",
       "      <th>review_count</th>\n",
       "      <th>transactions</th>\n",
       "      <th>url</th>\n",
       "    </tr>\n",
       "  </thead>\n",
       "  <tbody>\n",
       "    <tr>\n",
       "      <th>0</th>\n",
       "      <td>old-ebbitt-grill-washington</td>\n",
       "      <td>[Bars, American (Traditional), Breakfast &amp; Bru...</td>\n",
       "      <td>38.898005</td>\n",
       "      <td>-77.033362</td>\n",
       "      <td>(202) 347-4800</td>\n",
       "      <td>1428.775801</td>\n",
       "      <td>iyBbcXtQSBfiwFQZwVBNaQ</td>\n",
       "      <td>https://s3-media2.fl.yelpcdn.com/bphoto/KBCezp...</td>\n",
       "      <td>False</td>\n",
       "      <td>675 15th St NW</td>\n",
       "      <td>...</td>\n",
       "      <td>[675 15th St NW, Washington, DC 20005]</td>\n",
       "      <td>DC</td>\n",
       "      <td>20005</td>\n",
       "      <td>Old Ebbitt Grill</td>\n",
       "      <td>+12023474800</td>\n",
       "      <td>$$</td>\n",
       "      <td>4.0</td>\n",
       "      <td>6544</td>\n",
       "      <td>[]</td>\n",
       "      <td>https://www.yelp.com/biz/old-ebbitt-grill-wash...</td>\n",
       "    </tr>\n",
       "    <tr>\n",
       "      <th>1</th>\n",
       "      <td>a-baked-joint-washington-9</td>\n",
       "      <td>[Coffee &amp; Tea, Breakfast &amp; Brunch, Sandwiches]</td>\n",
       "      <td>38.902411</td>\n",
       "      <td>-77.017139</td>\n",
       "      <td>(202) 408-6985</td>\n",
       "      <td>547.273915</td>\n",
       "      <td>SpCeYPhky4gsWa9-IBtw2A</td>\n",
       "      <td>https://s3-media1.fl.yelpcdn.com/bphoto/iTBw1K...</td>\n",
       "      <td>False</td>\n",
       "      <td>440 K St NW</td>\n",
       "      <td>...</td>\n",
       "      <td>[440 K St NW, Washington, DC 20001]</td>\n",
       "      <td>DC</td>\n",
       "      <td>20001</td>\n",
       "      <td>A Baked Joint</td>\n",
       "      <td>+12024086985</td>\n",
       "      <td>$</td>\n",
       "      <td>4.5</td>\n",
       "      <td>1218</td>\n",
       "      <td>[]</td>\n",
       "      <td>https://www.yelp.com/biz/a-baked-joint-washing...</td>\n",
       "    </tr>\n",
       "  </tbody>\n",
       "</table>\n",
       "<p>2 rows × 24 columns</p>\n",
       "</div>"
      ],
      "text/plain": [
       "                         alias  \\\n",
       "0  old-ebbitt-grill-washington   \n",
       "1   a-baked-joint-washington-9   \n",
       "\n",
       "                                          categories  coordinates.latitude  \\\n",
       "0  [Bars, American (Traditional), Breakfast & Bru...             38.898005   \n",
       "1     [Coffee & Tea, Breakfast & Brunch, Sandwiches]             38.902411   \n",
       "\n",
       "   coordinates.longitude   display_phone     distance                      id  \\\n",
       "0             -77.033362  (202) 347-4800  1428.775801  iyBbcXtQSBfiwFQZwVBNaQ   \n",
       "1             -77.017139  (202) 408-6985   547.273915  SpCeYPhky4gsWa9-IBtw2A   \n",
       "\n",
       "                                           image_url  is_closed  \\\n",
       "0  https://s3-media2.fl.yelpcdn.com/bphoto/KBCezp...      False   \n",
       "1  https://s3-media1.fl.yelpcdn.com/bphoto/iTBw1K...      False   \n",
       "\n",
       "  location.address1                        ...                          \\\n",
       "0    675 15th St NW                        ...                           \n",
       "1       440 K St NW                        ...                           \n",
       "\n",
       "                 location.display_address location.state location.zip_code  \\\n",
       "0  [675 15th St NW, Washington, DC 20005]             DC             20005   \n",
       "1     [440 K St NW, Washington, DC 20001]             DC             20001   \n",
       "\n",
       "               name         phone price rating review_count transactions  \\\n",
       "0  Old Ebbitt Grill  +12023474800    $$    4.0         6544           []   \n",
       "1     A Baked Joint  +12024086985     $    4.5         1218           []   \n",
       "\n",
       "                                                 url  \n",
       "0  https://www.yelp.com/biz/old-ebbitt-grill-wash...  \n",
       "1  https://www.yelp.com/biz/a-baked-joint-washing...  \n",
       "\n",
       "[2 rows x 24 columns]"
      ]
     },
     "execution_count": 12,
     "metadata": {},
     "output_type": "execute_result"
    }
   ],
   "source": [
    "businesses_df.head(2)"
   ]
  },
  {
   "cell_type": "markdown",
   "metadata": {},
   "source": [
    "#### My looping api call technique resulted in many duplicates, as we examine and fix below (id is unique)."
   ]
  },
  {
   "cell_type": "code",
   "execution_count": 13,
   "metadata": {},
   "outputs": [
    {
     "data": {
      "text/plain": [
       "SvjE3q-uYpyjqYKh714IPw    16\n",
       "ynuv5y74SB2gEXFPjMYb_Q    16\n",
       "F6jgtkBLdyjHYhDO79Z1lA    16\n",
       "hrWvnULW3ragGALYVEAybA    16\n",
       "S0WNMOKJ5c3NXuC_-7lE2Q    14\n",
       "Name: id, dtype: int64"
      ]
     },
     "execution_count": 13,
     "metadata": {},
     "output_type": "execute_result"
    }
   ],
   "source": [
    "businesses_df.id.value_counts().head()"
   ]
  },
  {
   "cell_type": "code",
   "execution_count": 14,
   "metadata": {
    "collapsed": true
   },
   "outputs": [],
   "source": [
    "businesses_df.drop_duplicates(subset='id', inplace=True)"
   ]
  },
  {
   "cell_type": "code",
   "execution_count": 15,
   "metadata": {},
   "outputs": [
    {
     "data": {
      "text/plain": [
       "(4222, 24)"
      ]
     },
     "execution_count": 15,
     "metadata": {},
     "output_type": "execute_result"
    }
   ],
   "source": [
    "businesses_df.shape"
   ]
  },
  {
   "cell_type": "markdown",
   "metadata": {},
   "source": [
    "#### Now I will drop columns that I won't need during this project."
   ]
  },
  {
   "cell_type": "code",
   "execution_count": 16,
   "metadata": {
    "collapsed": true
   },
   "outputs": [],
   "source": [
    "businesses_df.drop(['alias',\n",
    "         'id',\n",
    "         'display_phone',\n",
    "         'distance', \n",
    "         'image_url', \n",
    "         'is_closed', \n",
    "         'location.address2', \n",
    "         'location.address3', \n",
    "         'location.display_address',\n",
    "         'phone',\n",
    "         'transactions',\n",
    "         'url'], axis=1, inplace=True)"
   ]
  },
  {
   "cell_type": "markdown",
   "metadata": {},
   "source": [
    "#### Next I'll clean up the column names."
   ]
  },
  {
   "cell_type": "code",
   "execution_count": 17,
   "metadata": {
    "collapsed": true
   },
   "outputs": [],
   "source": [
    "businesses_df.columns = ['categories', 'latitude', \n",
    "                         'longitude', 'address', \n",
    "                         'city', 'country', 'state', \n",
    "                         'zip_code', 'name', 'price', \n",
    "                         'rating', 'review_count']"
   ]
  },
  {
   "cell_type": "code",
   "execution_count": 18,
   "metadata": {
    "collapsed": true
   },
   "outputs": [],
   "source": [
    "# move name column to first position\n",
    "cols = businesses_df.columns.tolist()\n",
    "cols[0] = 'name'\n",
    "cols[8] = 'categories'\n",
    "businesses_df = businesses_df[cols]"
   ]
  },
  {
   "cell_type": "code",
   "execution_count": 19,
   "metadata": {},
   "outputs": [
    {
     "data": {
      "text/html": [
       "<div>\n",
       "<style>\n",
       "    .dataframe thead tr:only-child th {\n",
       "        text-align: right;\n",
       "    }\n",
       "\n",
       "    .dataframe thead th {\n",
       "        text-align: left;\n",
       "    }\n",
       "\n",
       "    .dataframe tbody tr th {\n",
       "        vertical-align: top;\n",
       "    }\n",
       "</style>\n",
       "<table border=\"1\" class=\"dataframe\">\n",
       "  <thead>\n",
       "    <tr style=\"text-align: right;\">\n",
       "      <th></th>\n",
       "      <th>name</th>\n",
       "      <th>latitude</th>\n",
       "      <th>longitude</th>\n",
       "      <th>address</th>\n",
       "      <th>city</th>\n",
       "      <th>country</th>\n",
       "      <th>state</th>\n",
       "      <th>zip_code</th>\n",
       "      <th>categories</th>\n",
       "      <th>price</th>\n",
       "      <th>rating</th>\n",
       "      <th>review_count</th>\n",
       "    </tr>\n",
       "  </thead>\n",
       "  <tbody>\n",
       "    <tr>\n",
       "      <th>0</th>\n",
       "      <td>Old Ebbitt Grill</td>\n",
       "      <td>38.898005</td>\n",
       "      <td>-77.033362</td>\n",
       "      <td>675 15th St NW</td>\n",
       "      <td>Washington, DC</td>\n",
       "      <td>US</td>\n",
       "      <td>DC</td>\n",
       "      <td>20005</td>\n",
       "      <td>[Bars, American (Traditional), Breakfast &amp; Bru...</td>\n",
       "      <td>$$</td>\n",
       "      <td>4.0</td>\n",
       "      <td>6544</td>\n",
       "    </tr>\n",
       "    <tr>\n",
       "      <th>1</th>\n",
       "      <td>A Baked Joint</td>\n",
       "      <td>38.902411</td>\n",
       "      <td>-77.017139</td>\n",
       "      <td>440 K St NW</td>\n",
       "      <td>Washington, DC</td>\n",
       "      <td>US</td>\n",
       "      <td>DC</td>\n",
       "      <td>20001</td>\n",
       "      <td>[Coffee &amp; Tea, Breakfast &amp; Brunch, Sandwiches]</td>\n",
       "      <td>$</td>\n",
       "      <td>4.5</td>\n",
       "      <td>1218</td>\n",
       "    </tr>\n",
       "    <tr>\n",
       "      <th>2</th>\n",
       "      <td>Le Diplomate</td>\n",
       "      <td>38.911359</td>\n",
       "      <td>-77.031575</td>\n",
       "      <td>1601 14th St NW</td>\n",
       "      <td>Washington, DC</td>\n",
       "      <td>US</td>\n",
       "      <td>DC</td>\n",
       "      <td>20009</td>\n",
       "      <td>[Brasseries, French, Cafes]</td>\n",
       "      <td>$$$</td>\n",
       "      <td>4.0</td>\n",
       "      <td>2449</td>\n",
       "    </tr>\n",
       "    <tr>\n",
       "      <th>3</th>\n",
       "      <td>Rasika</td>\n",
       "      <td>38.895008</td>\n",
       "      <td>-77.021286</td>\n",
       "      <td>633 D St NW</td>\n",
       "      <td>Washington, DC</td>\n",
       "      <td>US</td>\n",
       "      <td>DC</td>\n",
       "      <td>20004</td>\n",
       "      <td>[Indian]</td>\n",
       "      <td>$$$</td>\n",
       "      <td>4.5</td>\n",
       "      <td>2633</td>\n",
       "    </tr>\n",
       "    <tr>\n",
       "      <th>4</th>\n",
       "      <td>Matchbox - Chinatown</td>\n",
       "      <td>38.900050</td>\n",
       "      <td>-77.022540</td>\n",
       "      <td>713 H St NW</td>\n",
       "      <td>Washington, DC</td>\n",
       "      <td>US</td>\n",
       "      <td>DC</td>\n",
       "      <td>20001</td>\n",
       "      <td>[Pizza, American (New)]</td>\n",
       "      <td>$$</td>\n",
       "      <td>4.0</td>\n",
       "      <td>2673</td>\n",
       "    </tr>\n",
       "  </tbody>\n",
       "</table>\n",
       "</div>"
      ],
      "text/plain": [
       "                   name   latitude  longitude          address  \\\n",
       "0      Old Ebbitt Grill  38.898005 -77.033362   675 15th St NW   \n",
       "1         A Baked Joint  38.902411 -77.017139      440 K St NW   \n",
       "2          Le Diplomate  38.911359 -77.031575  1601 14th St NW   \n",
       "3                Rasika  38.895008 -77.021286      633 D St NW   \n",
       "4  Matchbox - Chinatown  38.900050 -77.022540      713 H St NW   \n",
       "\n",
       "             city country state zip_code  \\\n",
       "0  Washington, DC      US    DC    20005   \n",
       "1  Washington, DC      US    DC    20001   \n",
       "2  Washington, DC      US    DC    20009   \n",
       "3  Washington, DC      US    DC    20004   \n",
       "4  Washington, DC      US    DC    20001   \n",
       "\n",
       "                                          categories price  rating  \\\n",
       "0  [Bars, American (Traditional), Breakfast & Bru...    $$     4.0   \n",
       "1     [Coffee & Tea, Breakfast & Brunch, Sandwiches]     $     4.5   \n",
       "2                        [Brasseries, French, Cafes]   $$$     4.0   \n",
       "3                                           [Indian]   $$$     4.5   \n",
       "4                            [Pizza, American (New)]    $$     4.0   \n",
       "\n",
       "   review_count  \n",
       "0          6544  \n",
       "1          1218  \n",
       "2          2449  \n",
       "3          2633  \n",
       "4          2673  "
      ]
     },
     "execution_count": 19,
     "metadata": {},
     "output_type": "execute_result"
    }
   ],
   "source": [
    "businesses_df.head()"
   ]
  },
  {
   "cell_type": "markdown",
   "metadata": {},
   "source": [
    "#### For whatever reason the API imported some businesses outside of the queried zip codes, so I removed those quick."
   ]
  },
  {
   "cell_type": "code",
   "execution_count": 20,
   "metadata": {},
   "outputs": [
    {
     "data": {
      "text/plain": [
       "(4222, 12)"
      ]
     },
     "execution_count": 20,
     "metadata": {},
     "output_type": "execute_result"
    }
   ],
   "source": [
    "businesses_df.shape"
   ]
  },
  {
   "cell_type": "code",
   "execution_count": 21,
   "metadata": {
    "collapsed": true
   },
   "outputs": [],
   "source": [
    "businesses_df = businesses_df[businesses_df['zip_code'].isin(zip_codes_flat)]"
   ]
  },
  {
   "cell_type": "code",
   "execution_count": 22,
   "metadata": {},
   "outputs": [
    {
     "data": {
      "text/plain": [
       "(3175, 12)"
      ]
     },
     "execution_count": 22,
     "metadata": {},
     "output_type": "execute_result"
    }
   ],
   "source": [
    "businesses_df.shape"
   ]
  },
  {
   "cell_type": "markdown",
   "metadata": {},
   "source": [
    "#### Check for relevent null values"
   ]
  },
  {
   "cell_type": "code",
   "execution_count": 23,
   "metadata": {
    "scrolled": false
   },
   "outputs": [
    {
     "data": {
      "text/plain": [
       "name              0\n",
       "latitude          1\n",
       "longitude         1\n",
       "address          13\n",
       "city              0\n",
       "country           0\n",
       "state             0\n",
       "zip_code          0\n",
       "categories        0\n",
       "price           498\n",
       "rating            0\n",
       "review_count      0\n",
       "dtype: int64"
      ]
     },
     "execution_count": 23,
     "metadata": {},
     "output_type": "execute_result"
    }
   ],
   "source": [
    "businesses_df.isnull().sum()"
   ]
  },
  {
   "cell_type": "markdown",
   "metadata": {},
   "source": [
    "#### Save businesses_df to csv file for quicker use later."
   ]
  },
  {
   "cell_type": "code",
   "execution_count": 24,
   "metadata": {
    "collapsed": true
   },
   "outputs": [],
   "source": [
    "businesses_df.to_csv('./data/businesses.csv', sep='\\t')"
   ]
  },
  {
   "cell_type": "markdown",
   "metadata": {},
   "source": [
    "<a id=\"import_foursquare\"></a>\n",
    "### Import Foursquare dataset\n",
    "- These datasets are several gigabytes and were not included in the project repository due to size restrictions of github. You can find the dataset [here](https://sites.google.com/site/yangdingqi/home/foursquare-dataset)."
   ]
  },
  {
   "cell_type": "code",
   "execution_count": 59,
   "metadata": {
    "collapsed": true
   },
   "outputs": [],
   "source": [
    "foursquare_checkins_df = pd.read_csv(\"../../../dataset_TIST2015/dataset_TIST2015_Checkins.txt\", header=None, delimiter=\"\\t\")\n",
    "\n",
    "foursquare_checkins_df.drop([3], axis=1, inplace=True)\n",
    "foursquare_checkins_df.columns = ['user_id', 'venue_id', 'utc_time']"
   ]
  },
  {
   "cell_type": "code",
   "execution_count": 60,
   "metadata": {
    "collapsed": true
   },
   "outputs": [],
   "source": [
    "foursquare_poi_df = pd.read_csv(\"../../../dataset_TIST2015/dataset_TIST2015_POIs.txt\", header=None, delimiter=\"\\t\")\n",
    "\n",
    "foursquare_poi_df.columns = ['venue_id', 'latitude', 'longitude', 'venue_category', 'country']\n",
    "foursquare_poi_df = foursquare_poi_df[foursquare_poi_df['country'].isin(['US'])]"
   ]
  },
  {
   "cell_type": "code",
   "execution_count": 61,
   "metadata": {
    "collapsed": true
   },
   "outputs": [],
   "source": [
    "foursquare_merge_df = foursquare_checkins_df.merge(foursquare_poi_df, on=\"venue_id\")"
   ]
  },
  {
   "cell_type": "code",
   "execution_count": 62,
   "metadata": {
    "scrolled": true
   },
   "outputs": [
    {
     "data": {
      "text/html": [
       "<div>\n",
       "<style>\n",
       "    .dataframe thead tr:only-child th {\n",
       "        text-align: right;\n",
       "    }\n",
       "\n",
       "    .dataframe thead th {\n",
       "        text-align: left;\n",
       "    }\n",
       "\n",
       "    .dataframe tbody tr th {\n",
       "        vertical-align: top;\n",
       "    }\n",
       "</style>\n",
       "<table border=\"1\" class=\"dataframe\">\n",
       "  <thead>\n",
       "    <tr style=\"text-align: right;\">\n",
       "      <th></th>\n",
       "      <th>user_id</th>\n",
       "      <th>venue_id</th>\n",
       "      <th>utc_time</th>\n",
       "      <th>latitude</th>\n",
       "      <th>longitude</th>\n",
       "      <th>venue_category</th>\n",
       "      <th>country</th>\n",
       "    </tr>\n",
       "  </thead>\n",
       "  <tbody>\n",
       "    <tr>\n",
       "      <th>0</th>\n",
       "      <td>221021</td>\n",
       "      <td>4a85b1b3f964a520eefe1fe3</td>\n",
       "      <td>Tue Apr 03 18:00:08 +0000 2012</td>\n",
       "      <td>40.748939</td>\n",
       "      <td>-73.99228</td>\n",
       "      <td>Coffee Shop</td>\n",
       "      <td>US</td>\n",
       "    </tr>\n",
       "    <tr>\n",
       "      <th>1</th>\n",
       "      <td>89453</td>\n",
       "      <td>4a85b1b3f964a520eefe1fe3</td>\n",
       "      <td>Tue Apr 24 22:53:57 +0000 2012</td>\n",
       "      <td>40.748939</td>\n",
       "      <td>-73.99228</td>\n",
       "      <td>Coffee Shop</td>\n",
       "      <td>US</td>\n",
       "    </tr>\n",
       "    <tr>\n",
       "      <th>2</th>\n",
       "      <td>206753</td>\n",
       "      <td>4a85b1b3f964a520eefe1fe3</td>\n",
       "      <td>Thu May 03 16:20:48 +0000 2012</td>\n",
       "      <td>40.748939</td>\n",
       "      <td>-73.99228</td>\n",
       "      <td>Coffee Shop</td>\n",
       "      <td>US</td>\n",
       "    </tr>\n",
       "    <tr>\n",
       "      <th>3</th>\n",
       "      <td>114526</td>\n",
       "      <td>4a85b1b3f964a520eefe1fe3</td>\n",
       "      <td>Wed May 09 23:09:45 +0000 2012</td>\n",
       "      <td>40.748939</td>\n",
       "      <td>-73.99228</td>\n",
       "      <td>Coffee Shop</td>\n",
       "      <td>US</td>\n",
       "    </tr>\n",
       "    <tr>\n",
       "      <th>4</th>\n",
       "      <td>86634</td>\n",
       "      <td>4a85b1b3f964a520eefe1fe3</td>\n",
       "      <td>Tue May 22 13:31:13 +0000 2012</td>\n",
       "      <td>40.748939</td>\n",
       "      <td>-73.99228</td>\n",
       "      <td>Coffee Shop</td>\n",
       "      <td>US</td>\n",
       "    </tr>\n",
       "  </tbody>\n",
       "</table>\n",
       "</div>"
      ],
      "text/plain": [
       "   user_id                  venue_id                        utc_time  \\\n",
       "0   221021  4a85b1b3f964a520eefe1fe3  Tue Apr 03 18:00:08 +0000 2012   \n",
       "1    89453  4a85b1b3f964a520eefe1fe3  Tue Apr 24 22:53:57 +0000 2012   \n",
       "2   206753  4a85b1b3f964a520eefe1fe3  Thu May 03 16:20:48 +0000 2012   \n",
       "3   114526  4a85b1b3f964a520eefe1fe3  Wed May 09 23:09:45 +0000 2012   \n",
       "4    86634  4a85b1b3f964a520eefe1fe3  Tue May 22 13:31:13 +0000 2012   \n",
       "\n",
       "    latitude  longitude venue_category country  \n",
       "0  40.748939  -73.99228    Coffee Shop      US  \n",
       "1  40.748939  -73.99228    Coffee Shop      US  \n",
       "2  40.748939  -73.99228    Coffee Shop      US  \n",
       "3  40.748939  -73.99228    Coffee Shop      US  \n",
       "4  40.748939  -73.99228    Coffee Shop      US  "
      ]
     },
     "execution_count": 62,
     "metadata": {},
     "output_type": "execute_result"
    }
   ],
   "source": [
    "foursquare_merge_df.head()"
   ]
  },
  {
   "cell_type": "code",
   "execution_count": 63,
   "metadata": {},
   "outputs": [
    {
     "data": {
      "text/plain": [
       "(3564144, 7)"
      ]
     },
     "execution_count": 63,
     "metadata": {},
     "output_type": "execute_result"
    }
   ],
   "source": [
    "foursquare_merge_df.shape"
   ]
  },
  {
   "cell_type": "markdown",
   "metadata": {},
   "source": [
    "#### Now I want to pull out the the users who visited a coffee shop at least once. I'll create a new column called \"coffee_shop_bin\". If the user visited a coffee shop on the selected day, all rows for that day will be set to 1. Else, 0. Later I'll use this in my models to predict where people are coming from when they go to a coffee shop.\n",
    "- I'll overwrite the same DF to cut down on memory usage..."
   ]
  },
  {
   "cell_type": "code",
   "execution_count": 64,
   "metadata": {
    "collapsed": true
   },
   "outputs": [],
   "source": [
    "# reduce the dataframe to include only users who have visited a coffee shop\n",
    "coffee_drinkers = foursquare_merge_df[foursquare_merge_df.venue_category.isin(['Coffee Shop'])].user_id.unique().tolist()\n",
    "foursquare_merge_df = foursquare_merge_df[foursquare_merge_df.user_id.isin(coffee_drinkers)]"
   ]
  },
  {
   "cell_type": "code",
   "execution_count": 65,
   "metadata": {},
   "outputs": [
    {
     "data": {
      "text/plain": [
       "(2439117, 7)"
      ]
     },
     "execution_count": 65,
     "metadata": {},
     "output_type": "execute_result"
    }
   ],
   "source": [
    "foursquare_merge_df.shape"
   ]
  },
  {
   "cell_type": "code",
   "execution_count": 66,
   "metadata": {},
   "outputs": [
    {
     "data": {
      "text/plain": [
       "user_id                    int64\n",
       "venue_id                  object\n",
       "utc_time          datetime64[ns]\n",
       "latitude                 float64\n",
       "longitude                float64\n",
       "venue_category            object\n",
       "country                   object\n",
       "dtype: object"
      ]
     },
     "execution_count": 66,
     "metadata": {},
     "output_type": "execute_result"
    }
   ],
   "source": [
    "# convert utc_time to datetime object, takes 5-10 minutes\n",
    "foursquare_merge_df['utc_time'] = pd.to_datetime(foursquare_merge_df['utc_time'], infer_datetime_format=True)\n",
    "foursquare_merge_df.dtypes"
   ]
  },
  {
   "cell_type": "code",
   "execution_count": 67,
   "metadata": {},
   "outputs": [
    {
     "name": "stderr",
     "output_type": "stream",
     "text": [
      "C:\\Users\\Steven\\Anaconda3\\lib\\site-packages\\ipykernel_launcher.py:8: SettingWithCopyWarning: \n",
      "A value is trying to be set on a copy of a slice from a DataFrame.\n",
      "Try using .loc[row_indexer,col_indexer] = value instead\n",
      "\n",
      "See the caveats in the documentation: http://pandas.pydata.org/pandas-docs/stable/indexing.html#indexing-view-versus-copy\n",
      "  \n",
      "C:\\Users\\Steven\\Anaconda3\\lib\\site-packages\\ipykernel_launcher.py:11: SettingWithCopyWarning: \n",
      "A value is trying to be set on a copy of a slice from a DataFrame.\n",
      "Try using .loc[row_indexer,col_indexer] = value instead\n",
      "\n",
      "See the caveats in the documentation: http://pandas.pydata.org/pandas-docs/stable/indexing.html#indexing-view-versus-copy\n",
      "  # This is added back by InteractiveShellApp.init_path()\n"
     ]
    }
   ],
   "source": [
    "# this is super inefficient, but shouldn't need to be run again. took approx. 20 minutes.\n",
    "# groups df by user id, month, day, then checks each group for coffee shop visits\n",
    "grouped_foursquare = foursquare_merge_df.groupby([foursquare_merge_df.user_id, \n",
    "                                                   foursquare_merge_df.utc_time.dt.month, \n",
    "                                                   foursquare_merge_df.utc_time.dt.day])\n",
    "# if group contains a coffee shop check-in, set all values of coffee_shop_bin in that group to yes\n",
    "grouped_foursquare_true = grouped_foursquare.filter(lambda x: x['venue_category'].str.contains('Coffee').any())\n",
    "grouped_foursquare_true['coffee_shop_bin'] = 1\n",
    "# if group does not contain a coffee shop check-in, set all values of coffee_shop_bin in that group to yes\n",
    "grouped_foursquare_false = grouped_foursquare.filter(lambda x: ~x['venue_category'].str.contains('Coffee').any())\n",
    "grouped_foursquare_false['coffee_shop_bin'] = 0\n",
    "\n",
    "# re-combine the true and false datasets\n",
    "grouped_foursquare = grouped_foursquare_true.append(grouped_foursquare_false, ignore_index=True)"
   ]
  },
  {
   "cell_type": "code",
   "execution_count": 68,
   "metadata": {
    "scrolled": true
   },
   "outputs": [
    {
     "name": "stdout",
     "output_type": "stream",
     "text": [
      "Full data: (2439117, 7)\n",
      "Checkins from days w/ coffee shop visits: (309677, 8)\n",
      "Checkins from days w/out coffee shop visits: (2129440, 8)\n",
      "Data after concat: (2439117, 8)\n"
     ]
    }
   ],
   "source": [
    "# make sure we didn't lose any data\n",
    "print(\"Full data: \" + str(foursquare_merge_df.shape))\n",
    "print(\"Checkins from days w/ coffee shop visits: \" + str(grouped_foursquare_true.shape))\n",
    "print(\"Checkins from days w/out coffee shop visits: \" + str(grouped_foursquare_false.shape))\n",
    "print(\"Data after concat: \" + str(grouped_foursquare.shape))"
   ]
  },
  {
   "cell_type": "markdown",
   "metadata": {},
   "source": [
    "#### Get address data from longitude and latitude.\n",
    "- I tried using geopy to get the city from the coordinates, which appears to work, but it would take 20 straight days to run all 3.5 million lines. Will explore this later. Most geolocaters also have a query limit which this would far exceed."
   ]
  },
  {
   "cell_type": "code",
   "execution_count": 18,
   "metadata": {},
   "outputs": [
    {
     "name": "stdout",
     "output_type": "stream",
     "text": [
      "10 lines: --- 10.996055603027344 seconds ---\n"
     ]
    }
   ],
   "source": [
    "from geopy.geocoders import Nominatim\n",
    "import time\n",
    "\n",
    "start_time = time.time()\n",
    "\n",
    "i=0\n",
    "for index, row in foursquare_merge_df.iterrows():\n",
    "    if i < 10:\n",
    "        coord = str(row['latitude']) + \",\" + str(row['longitude'])\n",
    "\n",
    "        geolocator = Nominatim()\n",
    "        location = geolocator.reverse(coord)\n",
    "        if \"District of Columbia\" in location.address: \n",
    "            print(location.address)\n",
    "        i+=1\n",
    "    else:\n",
    "        break\n",
    "        \n",
    "print(\"10 lines: --- %s seconds ---\" % (time.time() - start_time))\n",
    "\n",
    "# geolocator = Nominatim()\n",
    "# location = geolocator.reverse(\"38.898005, -77.033362\")\n",
    "# print(location.address)\n"
   ]
  },
  {
   "cell_type": "markdown",
   "metadata": {},
   "source": [
    "- Trying a package I found on github called reverse_geocoder to cut down on query time. This only took a few minutes to run, but unfortunately only returned high level geography (Washington, D.C)."
   ]
  },
  {
   "cell_type": "code",
   "execution_count": 69,
   "metadata": {
    "collapsed": true
   },
   "outputs": [],
   "source": [
    "import reverse_geocoder as rg\n",
    "\n",
    "coordinates = []\n",
    "for index, row in grouped_foursquare.iterrows():\n",
    "    coordinates.append((row.latitude, row.longitude))\n",
    "    \n",
    "results = rg.search(coordinates)"
   ]
  },
  {
   "cell_type": "code",
   "execution_count": 70,
   "metadata": {
    "collapsed": true
   },
   "outputs": [],
   "source": [
    "dc_bools = []\n",
    "\n",
    "for i in results:\n",
    "    result = \"D.C\" in str(i)\n",
    "    dc_bools.append(result)"
   ]
  },
  {
   "cell_type": "code",
   "execution_count": 71,
   "metadata": {},
   "outputs": [
    {
     "data": {
      "text/plain": [
       "[False, False, False, False, False]"
      ]
     },
     "execution_count": 71,
     "metadata": {},
     "output_type": "execute_result"
    }
   ],
   "source": [
    "dc_bools[0:5]"
   ]
  },
  {
   "cell_type": "code",
   "execution_count": 72,
   "metadata": {
    "collapsed": true
   },
   "outputs": [],
   "source": [
    "grouped_foursquare['check_in_dc'] = dc_bools"
   ]
  },
  {
   "cell_type": "code",
   "execution_count": 73,
   "metadata": {
    "scrolled": true
   },
   "outputs": [
    {
     "data": {
      "text/plain": [
       "False    2372042\n",
       "True       67075\n",
       "Name: check_in_dc, dtype: int64"
      ]
     },
     "execution_count": 73,
     "metadata": {},
     "output_type": "execute_result"
    }
   ],
   "source": [
    "grouped_foursquare.check_in_dc.value_counts()"
   ]
  },
  {
   "cell_type": "code",
   "execution_count": 74,
   "metadata": {
    "collapsed": true,
    "scrolled": false
   },
   "outputs": [],
   "source": [
    "grouped_foursquare = grouped_foursquare[grouped_foursquare.check_in_dc == True]\n",
    "grouped_foursquare.drop('check_in_dc', axis=1, inplace=True)"
   ]
  },
  {
   "cell_type": "markdown",
   "metadata": {},
   "source": [
    "#### I want to continue reverse geocoding to get zip codes. I'll pull in Zillow neighborhood shapefiles."
   ]
  },
  {
   "cell_type": "code",
   "execution_count": 75,
   "metadata": {
    "collapsed": true
   },
   "outputs": [],
   "source": [
    "import geopandas as gpd\n",
    "shape = gpd.read_file('data/ZillowNeighborhoods-DC.shp')"
   ]
  },
  {
   "cell_type": "code",
   "execution_count": 76,
   "metadata": {},
   "outputs": [
    {
     "data": {
      "text/html": [
       "<div>\n",
       "<style>\n",
       "    .dataframe thead tr:only-child th {\n",
       "        text-align: right;\n",
       "    }\n",
       "\n",
       "    .dataframe thead th {\n",
       "        text-align: left;\n",
       "    }\n",
       "\n",
       "    .dataframe tbody tr th {\n",
       "        vertical-align: top;\n",
       "    }\n",
       "</style>\n",
       "<table border=\"1\" class=\"dataframe\">\n",
       "  <thead>\n",
       "    <tr style=\"text-align: right;\">\n",
       "      <th></th>\n",
       "      <th>State</th>\n",
       "      <th>County</th>\n",
       "      <th>City</th>\n",
       "      <th>Name</th>\n",
       "      <th>RegionID</th>\n",
       "      <th>geometry</th>\n",
       "    </tr>\n",
       "  </thead>\n",
       "  <tbody>\n",
       "    <tr>\n",
       "      <th>0</th>\n",
       "      <td>DC</td>\n",
       "      <td>District of Columbia</td>\n",
       "      <td>Washington</td>\n",
       "      <td>Barnaby Woods</td>\n",
       "      <td>121672</td>\n",
       "      <td>POLYGON ((-77.04528160099994 38.97573291100008...</td>\n",
       "    </tr>\n",
       "    <tr>\n",
       "      <th>1</th>\n",
       "      <td>DC</td>\n",
       "      <td>District of Columbia</td>\n",
       "      <td>Washington</td>\n",
       "      <td>Bellevue</td>\n",
       "      <td>121674</td>\n",
       "      <td>POLYGON ((-77.01639139799994 38.80931882600004...</td>\n",
       "    </tr>\n",
       "    <tr>\n",
       "      <th>2</th>\n",
       "      <td>DC</td>\n",
       "      <td>District of Columbia</td>\n",
       "      <td>Washington</td>\n",
       "      <td>Benning</td>\n",
       "      <td>121675</td>\n",
       "      <td>POLYGON ((-76.95024865099992 38.88970558200003...</td>\n",
       "    </tr>\n",
       "    <tr>\n",
       "      <th>3</th>\n",
       "      <td>DC</td>\n",
       "      <td>District of Columbia</td>\n",
       "      <td>Washington</td>\n",
       "      <td>Chevy Chase</td>\n",
       "      <td>121689</td>\n",
       "      <td>POLYGON ((-77.05323999999973 38.97290000000029...</td>\n",
       "    </tr>\n",
       "    <tr>\n",
       "      <th>4</th>\n",
       "      <td>DC</td>\n",
       "      <td>District of Columbia</td>\n",
       "      <td>Washington</td>\n",
       "      <td>Dupont Park</td>\n",
       "      <td>121705</td>\n",
       "      <td>POLYGON ((-76.94706749892596 38.88285577097802...</td>\n",
       "    </tr>\n",
       "  </tbody>\n",
       "</table>\n",
       "</div>"
      ],
      "text/plain": [
       "  State                County        City           Name RegionID  \\\n",
       "0    DC  District of Columbia  Washington  Barnaby Woods   121672   \n",
       "1    DC  District of Columbia  Washington       Bellevue   121674   \n",
       "2    DC  District of Columbia  Washington        Benning   121675   \n",
       "3    DC  District of Columbia  Washington    Chevy Chase   121689   \n",
       "4    DC  District of Columbia  Washington    Dupont Park   121705   \n",
       "\n",
       "                                            geometry  \n",
       "0  POLYGON ((-77.04528160099994 38.97573291100008...  \n",
       "1  POLYGON ((-77.01639139799994 38.80931882600004...  \n",
       "2  POLYGON ((-76.95024865099992 38.88970558200003...  \n",
       "3  POLYGON ((-77.05323999999973 38.97290000000029...  \n",
       "4  POLYGON ((-76.94706749892596 38.88285577097802...  "
      ]
     },
     "execution_count": 76,
     "metadata": {},
     "output_type": "execute_result"
    }
   ],
   "source": [
    "shape.head()"
   ]
  },
  {
   "cell_type": "code",
   "execution_count": 77,
   "metadata": {},
   "outputs": [
    {
     "data": {
      "text/plain": [
       "<matplotlib.axes._subplots.AxesSubplot at 0x15752093f28>"
      ]
     },
     "execution_count": 77,
     "metadata": {},
     "output_type": "execute_result"
    },
    {
     "data": {
      "image/png": "[encoded data removed]",
      "text/plain": [
       "<matplotlib.figure.Figure at 0x157f0e639b0>"
      ]
     },
     "metadata": {},
     "output_type": "display_data"
    }
   ],
   "source": [
    "shape.plot()"
   ]
  },
  {
   "cell_type": "code",
   "execution_count": 78,
   "metadata": {
    "collapsed": true
   },
   "outputs": [],
   "source": [
    "# https://stackoverflow.com/questions/7861196/check-if-a-geopoint-with-latitude-and-longitude-is-within-a-shapefile?utm_medium=organic&utm_source=google_rich_qa&utm_campaign=google_rich_qa\n",
    "# credit to Richard\n",
    "\n",
    "import ogr\n",
    "from IPython import embed\n",
    "import sys\n",
    "\n",
    "drv = ogr.GetDriverByName('ESRI Shapefile') #We will load a shape file\n",
    "ds_in = drv.Open(\"data/ZillowNeighborhoods-DC.shp\")    #Get the contents of the shape file\n",
    "lyr_in = ds_in.GetLayer(0)    #Get the shape file's first layer\n",
    "\n",
    "#Put the title of the field you are interested in here\n",
    "idx_reg = lyr_in.GetLayerDefn().GetFieldIndex(\"name\")\n",
    "\n",
    "#If the latitude/longitude we're going to use is not in the projection\n",
    "#of the shapefile, then we will get erroneous results.\n",
    "#The following assumes that the latitude longitude is in WGS84\n",
    "#This is identified by the number \"4326\", as in \"EPSG:4326\"\n",
    "#We will create a transformation between this and the shapefile's\n",
    "#project, whatever it may be\n",
    "geo_ref = lyr_in.GetSpatialRef()\n",
    "point_ref=ogr.osr.SpatialReference()\n",
    "point_ref.ImportFromEPSG(4326)\n",
    "ctran=ogr.osr.CoordinateTransformation(point_ref,geo_ref)\n",
    "\n",
    "def check(lon,lat):\n",
    "    #Create a point\n",
    "    pt = ogr.Geometry(ogr.wkbPoint)\n",
    "    pt.SetPoint_2D(0, lon, lat)\n",
    "\n",
    "    #Set up a spatial filter such that the only features we see when we\n",
    "    #loop through \"lyr_in\" are those which overlap the point defined above\n",
    "    lyr_in.SetSpatialFilter(pt)\n",
    "\n",
    "    #Loop through the overlapped features and display the field of interest\n",
    "    for feat_in in lyr_in:\n",
    "        return feat_in.GetFieldAsString(idx_reg)"
   ]
  },
  {
   "cell_type": "code",
   "execution_count": 79,
   "metadata": {
    "collapsed": true
   },
   "outputs": [],
   "source": [
    "this_is_a_neighborhoods = []\n",
    "for index, row in grouped_foursquare.iterrows():\n",
    "    this_is_a_neighborhoods.append(check(row.longitude, row.latitude))"
   ]
  },
  {
   "cell_type": "code",
   "execution_count": 80,
   "metadata": {},
   "outputs": [
    {
     "data": {
      "text/plain": [
       "['Dupont Circle',\n",
       " 'Shaw',\n",
       " 'Shaw',\n",
       " 'Shaw',\n",
       " 'Shaw',\n",
       " 'Shaw',\n",
       " 'Capitol Hill',\n",
       " 'Downtown',\n",
       " 'Navy Yard',\n",
       " 'Navy Yard']"
      ]
     },
     "execution_count": 80,
     "metadata": {},
     "output_type": "execute_result"
    }
   ],
   "source": [
    "this_is_a_neighborhoods[0:10]"
   ]
  },
  {
   "cell_type": "code",
   "execution_count": 81,
   "metadata": {
    "collapsed": true
   },
   "outputs": [],
   "source": [
    "import csv\n",
    "with open('./data/neighborhoodsToZip.csv', 'r') as f:\n",
    "    reader = csv.reader(f)\n",
    "    conversion = dict(reader)\n",
    "del conversion['Neighborhood']"
   ]
  },
  {
   "cell_type": "code",
   "execution_count": 82,
   "metadata": {},
   "outputs": [
    {
     "data": {
      "text/plain": [
       "{'': '20001',\n",
       " 'Adams Morgan': '20009',\n",
       " 'American University Park': '20016',\n",
       " 'Arboretum': '20002',\n",
       " 'Barnaby Woods': '20015',\n",
       " 'Barry Farm': '20020',\n",
       " 'Bellevue': '20032',\n",
       " 'Benning': '20019',\n",
       " 'Benning Heights': '20019',\n",
       " 'Bloomingdale': '20017',\n",
       " 'Brentwood': '20722',\n",
       " 'Brightwood': '20011',\n",
       " 'Brightwood Park': '20011',\n",
       " 'Brookland': '20017',\n",
       " 'Buena Vista': '20020',\n",
       " 'Burleith': '20007',\n",
       " 'Burrville': '20019',\n",
       " 'Buzzard Point': '20024',\n",
       " 'Capitol Hill': '20003',\n",
       " 'Capitol View': '20020',\n",
       " 'Cardozo': '20001',\n",
       " 'Carver Langston': '20002',\n",
       " 'Cathedral Heights': '20016',\n",
       " 'Chevy Chase': '20015',\n",
       " 'Chinatown': '20001',\n",
       " 'Cleveland Park': '20008',\n",
       " 'Colonial Village': '20012',\n",
       " 'Columbia Heights': '20010',\n",
       " 'Congress Heights': '20032',\n",
       " 'Connecticut Avenue': '20036',\n",
       " 'Crestwood': '20011',\n",
       " 'Deanwood': '20019',\n",
       " 'Douglass': '20020',\n",
       " 'Downtown': '20001',\n",
       " 'Dupont Circle': '20036',\n",
       " 'Dupont Park': '20020',\n",
       " 'Eastland Gardens': '20019',\n",
       " 'Eckington': '20002',\n",
       " 'Edgewood': '20017',\n",
       " 'Fairfax Village': '20020',\n",
       " 'Fairlawn': '20020',\n",
       " 'Fairmont Heights': '20009',\n",
       " 'Foggy Bottom': '20037',\n",
       " 'Forest Hills': '20008',\n",
       " 'Fort Davis Park': '20020',\n",
       " 'Fort Dupont': '20019',\n",
       " 'Fort Lincoln': '20018',\n",
       " 'Fort McNair': '20319',\n",
       " 'Fort Stanton': '20020',\n",
       " 'Fort Totten': '20011',\n",
       " 'Foxhall Crescent': '20007',\n",
       " 'Foxhall Village': '20007',\n",
       " 'Friendship Heights': '20016',\n",
       " 'GWU': '20037',\n",
       " 'Garfield Heights': '20020',\n",
       " 'Gateway': '20018',\n",
       " 'Georgetown': '20007',\n",
       " 'Georgetown Reservoir': '20007',\n",
       " 'Glover Park': '20007',\n",
       " 'Grant Park': '20019',\n",
       " 'Greenway': '20019',\n",
       " 'Hawthorne': '20015',\n",
       " 'Hillandale': '20007',\n",
       " 'Hillbrook': '20016',\n",
       " 'Hillcrest': '20020',\n",
       " 'Historic Anacostia': '20020',\n",
       " 'Howard University': '20001',\n",
       " 'Ivy City': '20002',\n",
       " 'K Street': '20006',\n",
       " 'Kalorama Heights': '20009',\n",
       " 'Kenilworth': '20019',\n",
       " 'Kingman Park': '20002',\n",
       " 'Knox Hill': '20020',\n",
       " 'Lamond Riggs': '20011',\n",
       " 'Langdon': '20018',\n",
       " 'Lanier Heights': '20009',\n",
       " 'Le Droit Park': '20001',\n",
       " 'Lincoln Heights': '20019',\n",
       " 'Lincoln Park': '20002',\n",
       " 'Logan Circle': '20001',\n",
       " 'Mahaning Heights': '20016',\n",
       " 'Manor Park': '20011',\n",
       " 'Marshall Heights': '20019',\n",
       " 'Massachusetts Avenue Heights': '20007',\n",
       " 'Mayfair': '20019',\n",
       " 'McLean Gardens': '20016',\n",
       " 'Michigan Park': '20017',\n",
       " 'Mount Vernon Square': '20001',\n",
       " 'Mt. Pleasant': '20010',\n",
       " 'Navy Yard': '20003',\n",
       " 'Naylor Gardens': '20020',\n",
       " 'Near Southeast': '20003',\n",
       " 'NoMa': '20002',\n",
       " 'North Capitol Street': '20002',\n",
       " 'North Cleveland Park': '20008',\n",
       " 'North Michigan Park': '20017',\n",
       " 'North Portal Estates': '20012',\n",
       " 'Palisades': '20016',\n",
       " 'Park View': '20010',\n",
       " 'Penn Branch': '20019',\n",
       " 'Penn Quarter': '20004',\n",
       " 'Petworth': '20011',\n",
       " 'Pleasant Hill': '20020',\n",
       " 'Pleasant Plains': '20010',\n",
       " 'Queens Chapel': '20011',\n",
       " 'Randle Highlands': '20020',\n",
       " 'River Terrace': '20019',\n",
       " 'Shaw': '20001',\n",
       " 'Shepherd Park': '20012',\n",
       " 'Sheridan': '20011',\n",
       " 'Shipley Terrace': '20020',\n",
       " 'Southwest': '20024',\n",
       " 'Southwest Employment Area': '20024',\n",
       " 'Southwest Waterfront': '20024',\n",
       " 'Spring Valley': '20016',\n",
       " 'Stanton Park': '20002',\n",
       " 'Summit Park': '20009',\n",
       " 'Takoma': '20012',\n",
       " 'Tenleytown': '20016',\n",
       " 'Trinidad': '20002',\n",
       " 'Truxton Circle': '20017',\n",
       " 'Twining': '20020',\n",
       " 'Union Station': '20002',\n",
       " 'University Heights': '20017',\n",
       " 'Van Ness': '20008',\n",
       " 'Washington Highland': '20032',\n",
       " 'Wesley Heights': '20016',\n",
       " 'West End': '20037',\n",
       " 'Woodland': '20008',\n",
       " 'Woodland-Normanstone Terrace': '20008',\n",
       " 'Woodley Park': '20008',\n",
       " 'Woodridge': '20018'}"
      ]
     },
     "execution_count": 82,
     "metadata": {},
     "output_type": "execute_result"
    }
   ],
   "source": [
    "conversion"
   ]
  },
  {
   "cell_type": "code",
   "execution_count": 83,
   "metadata": {
    "collapsed": true
   },
   "outputs": [],
   "source": [
    "conversions = []\n",
    "for i in this_is_a_neighborhoods:\n",
    "    try:\n",
    "        conversions.append(conversion[i])\n",
    "    except KeyError:\n",
    "        conversions.append('99999')"
   ]
  },
  {
   "cell_type": "code",
   "execution_count": 84,
   "metadata": {
    "scrolled": true
   },
   "outputs": [
    {
     "name": "stdout",
     "output_type": "stream",
     "text": [
      "67075\n",
      "(67075, 8)\n"
     ]
    }
   ],
   "source": [
    "print(len(conversions))\n",
    "print(grouped_foursquare.shape)"
   ]
  },
  {
   "cell_type": "code",
   "execution_count": 85,
   "metadata": {
    "collapsed": true
   },
   "outputs": [],
   "source": [
    "grouped_foursquare['zip_code'] = conversions"
   ]
  },
  {
   "cell_type": "code",
   "execution_count": 86,
   "metadata": {
    "scrolled": true
   },
   "outputs": [
    {
     "data": {
      "text/plain": [
       "20001    19509\n",
       "99999    16804\n",
       "20036     6731\n",
       "20003     4237\n",
       "20007     3827\n",
       "20004     3296\n",
       "20002     3058\n",
       "20037     2834\n",
       "20009     2131\n",
       "20010     2120\n",
       "20008     1144\n",
       "20024      876\n",
       "20017      485\n",
       "20722       18\n",
       "20020        3\n",
       "20011        2\n",
       "Name: zip_code, dtype: int64"
      ]
     },
     "execution_count": 86,
     "metadata": {},
     "output_type": "execute_result"
    }
   ],
   "source": [
    "grouped_foursquare.zip_code.value_counts()"
   ]
  },
  {
   "cell_type": "code",
   "execution_count": 87,
   "metadata": {
    "collapsed": true
   },
   "outputs": [],
   "source": [
    "# some neighborhoods did not convert to zip code correctly. Due to time restrictions and \n",
    "# previous issues with geocoding, I'm simply going to drop them for now.\n",
    "grouped_foursquare = grouped_foursquare[grouped_foursquare.zip_code != '99999']"
   ]
  },
  {
   "cell_type": "code",
   "execution_count": 88,
   "metadata": {},
   "outputs": [
    {
     "data": {
      "text/plain": [
       "20001    19509\n",
       "20036     6731\n",
       "20003     4237\n",
       "20007     3827\n",
       "20004     3296\n",
       "20002     3058\n",
       "20037     2834\n",
       "20009     2131\n",
       "20010     2120\n",
       "20008     1144\n",
       "20024      876\n",
       "20017      485\n",
       "20722       18\n",
       "20020        3\n",
       "20011        2\n",
       "Name: zip_code, dtype: int64"
      ]
     },
     "execution_count": 88,
     "metadata": {},
     "output_type": "execute_result"
    }
   ],
   "source": [
    "grouped_foursquare.zip_code.value_counts()"
   ]
  },
  {
   "cell_type": "code",
   "execution_count": 92,
   "metadata": {},
   "outputs": [
    {
     "data": {
      "text/plain": [
       "Coffee Shop            2378\n",
       "Office                 2223\n",
       "Subway                 2043\n",
       "American Restaurant    1844\n",
       "Bar                    1804\n",
       "Name: venue_category, dtype: int64"
      ]
     },
     "execution_count": 92,
     "metadata": {},
     "output_type": "execute_result"
    }
   ],
   "source": [
    "grouped_foursquare.venue_category.value_counts().head()"
   ]
  },
  {
   "cell_type": "markdown",
   "metadata": {},
   "source": [
    "#### Export the altered dataframe into a file for later use"
   ]
  },
  {
   "cell_type": "code",
   "execution_count": 25,
   "metadata": {
    "collapsed": true
   },
   "outputs": [],
   "source": [
    "grouped_foursquare.to_csv('./data/foursquare.csv', sep='\\t')"
   ]
  },
  {
   "cell_type": "markdown",
   "metadata": {},
   "source": [
    "<a id=\"reimport_data\"></a>\n",
    "## Import cleaned datasets\n",
    "#### <font color=Red>Start running here to import cleaned dataframes; reading dataframes into memory and re-converting datatypes</font>"
   ]
  },
  {
   "cell_type": "code",
   "execution_count": 12,
   "metadata": {},
   "outputs": [
    {
     "data": {
      "text/plain": [
       "name             object\n",
       "latitude        float64\n",
       "longitude       float64\n",
       "address          object\n",
       "city             object\n",
       "country          object\n",
       "state            object\n",
       "zip_code          int64\n",
       "categories       object\n",
       "price            object\n",
       "rating          float64\n",
       "review_count      int64\n",
       "dtype: object"
      ]
     },
     "execution_count": 12,
     "metadata": {},
     "output_type": "execute_result"
    }
   ],
   "source": [
    "businesses_df = pd.read_csv('./data/businesses.csv', sep=\"\\t\", index_col=0, encoding='latin-1')\n",
    "businesses_df.dtypes"
   ]
  },
  {
   "cell_type": "code",
   "execution_count": 13,
   "metadata": {},
   "outputs": [],
   "source": [
    "businesses_df['zip_code'] = businesses_df['zip_code'].astype(str)"
   ]
  },
  {
   "cell_type": "code",
   "execution_count": 14,
   "metadata": {},
   "outputs": [
    {
     "data": {
      "text/html": [
       "<div>\n",
       "<style scoped>\n",
       "    .dataframe tbody tr th:only-of-type {\n",
       "        vertical-align: middle;\n",
       "    }\n",
       "\n",
       "    .dataframe tbody tr th {\n",
       "        vertical-align: top;\n",
       "    }\n",
       "\n",
       "    .dataframe thead th {\n",
       "        text-align: right;\n",
       "    }\n",
       "</style>\n",
       "<table border=\"1\" class=\"dataframe\">\n",
       "  <thead>\n",
       "    <tr style=\"text-align: right;\">\n",
       "      <th></th>\n",
       "      <th>name</th>\n",
       "      <th>latitude</th>\n",
       "      <th>longitude</th>\n",
       "      <th>address</th>\n",
       "      <th>city</th>\n",
       "      <th>country</th>\n",
       "      <th>state</th>\n",
       "      <th>zip_code</th>\n",
       "      <th>categories</th>\n",
       "      <th>price</th>\n",
       "      <th>rating</th>\n",
       "      <th>review_count</th>\n",
       "    </tr>\n",
       "  </thead>\n",
       "  <tbody>\n",
       "    <tr>\n",
       "      <th>0</th>\n",
       "      <td>Old Ebbitt Grill</td>\n",
       "      <td>38.898005</td>\n",
       "      <td>-77.033362</td>\n",
       "      <td>675 15th St NW</td>\n",
       "      <td>Washington, DC</td>\n",
       "      <td>US</td>\n",
       "      <td>DC</td>\n",
       "      <td>20005</td>\n",
       "      <td>['Bars', 'American (Traditional)', 'Breakfast ...</td>\n",
       "      <td>$$</td>\n",
       "      <td>4.0</td>\n",
       "      <td>6544</td>\n",
       "    </tr>\n",
       "    <tr>\n",
       "      <th>1</th>\n",
       "      <td>A Baked Joint</td>\n",
       "      <td>38.902411</td>\n",
       "      <td>-77.017139</td>\n",
       "      <td>440 K St NW</td>\n",
       "      <td>Washington, DC</td>\n",
       "      <td>US</td>\n",
       "      <td>DC</td>\n",
       "      <td>20001</td>\n",
       "      <td>['Coffee &amp; Tea', 'Breakfast &amp; Brunch', 'Sandwi...</td>\n",
       "      <td>$</td>\n",
       "      <td>4.5</td>\n",
       "      <td>1218</td>\n",
       "    </tr>\n",
       "    <tr>\n",
       "      <th>2</th>\n",
       "      <td>Le Diplomate</td>\n",
       "      <td>38.911359</td>\n",
       "      <td>-77.031575</td>\n",
       "      <td>1601 14th St NW</td>\n",
       "      <td>Washington, DC</td>\n",
       "      <td>US</td>\n",
       "      <td>DC</td>\n",
       "      <td>20009</td>\n",
       "      <td>['Brasseries', 'French', 'Cafes']</td>\n",
       "      <td>$$$</td>\n",
       "      <td>4.0</td>\n",
       "      <td>2449</td>\n",
       "    </tr>\n",
       "    <tr>\n",
       "      <th>3</th>\n",
       "      <td>Rasika</td>\n",
       "      <td>38.895008</td>\n",
       "      <td>-77.021286</td>\n",
       "      <td>633 D St NW</td>\n",
       "      <td>Washington, DC</td>\n",
       "      <td>US</td>\n",
       "      <td>DC</td>\n",
       "      <td>20004</td>\n",
       "      <td>['Indian']</td>\n",
       "      <td>$$$</td>\n",
       "      <td>4.5</td>\n",
       "      <td>2633</td>\n",
       "    </tr>\n",
       "    <tr>\n",
       "      <th>4</th>\n",
       "      <td>Matchbox - Chinatown</td>\n",
       "      <td>38.900050</td>\n",
       "      <td>-77.022540</td>\n",
       "      <td>713 H St NW</td>\n",
       "      <td>Washington, DC</td>\n",
       "      <td>US</td>\n",
       "      <td>DC</td>\n",
       "      <td>20001</td>\n",
       "      <td>['Pizza', 'American (New)']</td>\n",
       "      <td>$$</td>\n",
       "      <td>4.0</td>\n",
       "      <td>2673</td>\n",
       "    </tr>\n",
       "  </tbody>\n",
       "</table>\n",
       "</div>"
      ],
      "text/plain": [
       "                   name   latitude  longitude          address  \\\n",
       "0      Old Ebbitt Grill  38.898005 -77.033362   675 15th St NW   \n",
       "1         A Baked Joint  38.902411 -77.017139      440 K St NW   \n",
       "2          Le Diplomate  38.911359 -77.031575  1601 14th St NW   \n",
       "3                Rasika  38.895008 -77.021286      633 D St NW   \n",
       "4  Matchbox - Chinatown  38.900050 -77.022540      713 H St NW   \n",
       "\n",
       "             city country state zip_code  \\\n",
       "0  Washington, DC      US    DC    20005   \n",
       "1  Washington, DC      US    DC    20001   \n",
       "2  Washington, DC      US    DC    20009   \n",
       "3  Washington, DC      US    DC    20004   \n",
       "4  Washington, DC      US    DC    20001   \n",
       "\n",
       "                                          categories price  rating  \\\n",
       "0  ['Bars', 'American (Traditional)', 'Breakfast ...    $$     4.0   \n",
       "1  ['Coffee & Tea', 'Breakfast & Brunch', 'Sandwi...     $     4.5   \n",
       "2                  ['Brasseries', 'French', 'Cafes']   $$$     4.0   \n",
       "3                                         ['Indian']   $$$     4.5   \n",
       "4                        ['Pizza', 'American (New)']    $$     4.0   \n",
       "\n",
       "   review_count  \n",
       "0          6544  \n",
       "1          1218  \n",
       "2          2449  \n",
       "3          2633  \n",
       "4          2673  "
      ]
     },
     "execution_count": 14,
     "metadata": {},
     "output_type": "execute_result"
    }
   ],
   "source": [
    "businesses_df.head()"
   ]
  },
  {
   "cell_type": "code",
   "execution_count": 15,
   "metadata": {
    "scrolled": true
   },
   "outputs": [
    {
     "data": {
      "text/plain": [
       "user_id                     int64\n",
       "venue_id                   object\n",
       "utc_time           datetime64[ns]\n",
       "latitude                  float64\n",
       "longitude                 float64\n",
       "venue_category             object\n",
       "country                    object\n",
       "coffee_shop_bin             int64\n",
       "zip_code                   object\n",
       "dtype: object"
      ]
     },
     "execution_count": 15,
     "metadata": {},
     "output_type": "execute_result"
    }
   ],
   "source": [
    "foursquare_df = pd.read_csv('./data/foursquare.csv', sep=\"\\t\", index_col=0)\n",
    "foursquare_df['utc_time'] = pd.to_datetime(foursquare_df['utc_time'], infer_datetime_format=True)\n",
    "foursquare_df['zip_code'] = foursquare_df['zip_code'].astype(str)\n",
    "foursquare_df.dtypes\n",
    "# foursquare_df.shape"
   ]
  },
  {
   "cell_type": "markdown",
   "metadata": {},
   "source": [
    "<a id=\"explore_data\"></a>"
   ]
  },
  {
   "cell_type": "markdown",
   "metadata": {},
   "source": [
    "## Explore Data"
   ]
  },
  {
   "cell_type": "markdown",
   "metadata": {},
   "source": [
    "### Hypothesis 1: Find where people who go to coffee shops go on the same day, and then find a location with a lot of this type of establishment.\n",
    "\n",
    "- First, I'll need to pick which categories I'll include, and then transcribe them to individual columns. Each row will be one day for one user, and the values for each category column will be 1 if the person visited this type of category on that day, and 0 if not."
   ]
  },
  {
   "cell_type": "code",
   "execution_count": 16,
   "metadata": {
    "scrolled": false
   },
   "outputs": [
    {
     "data": {
      "text/plain": [
       "<matplotlib.axes._subplots.AxesSubplot at 0x2b86b5a4a58>"
      ]
     },
     "execution_count": 16,
     "metadata": {},
     "output_type": "execute_result"
    },
    {
     "data": {
      "image/png": "[encoded data removed]",
      "text/plain": [
       "<Figure size 1080x576 with 1 Axes>"
      ]
     },
     "metadata": {},
     "output_type": "display_data"
    }
   ],
   "source": [
    "foursquare_df.venue_category.value_counts().head(7).plot(kind='bar', figsize=(15, 8))"
   ]
  },
  {
   "cell_type": "code",
   "execution_count": 17,
   "metadata": {
    "scrolled": true
   },
   "outputs": [
    {
     "data": {
      "text/plain": [
       "array(['Shoe Store', 'Lounge', 'Bar', 'Sandwich Place',\n",
       "       'Baseball Stadium', 'Zoo', 'Greek Restaurant', 'Bank',\n",
       "       'Train Station', 'Neighborhood', 'American Restaurant',\n",
       "       'Coffee Shop', 'Tech Startup', 'Seafood Restaurant', 'Subway',\n",
       "       'Pizza Place', 'History Museum', 'Mall', 'Hotel',\n",
       "       'Government Building', 'Department Store', 'Gym / Fitness Center',\n",
       "       'Indian Restaurant', 'Light Rail', 'Sports Bar', 'Caf\\x1a\\x1a',\n",
       "       'Cocktail Bar', 'Yoga Studio', 'Clothing Store', 'Military Base',\n",
       "       'Bookstore', 'Gym', 'Park', 'Plaza', 'Whisky Bar', 'Office',\n",
       "       'Community College', 'Museum', 'Mediterranean Restaurant', 'Pub',\n",
       "       'Breakfast Spot', 'High School', 'Nightlife Spot', 'Grocery Store',\n",
       "       'Steakhouse', \"Men's Store\", 'Music Venue', 'Hotel Bar', 'Theater',\n",
       "       'Dive Bar', 'Italian Restaurant', 'Fast Food Restaurant',\n",
       "       'Liquor Store', 'Turkish Restaurant', 'Ice Cream Shop',\n",
       "       'Drugstore / Pharmacy', 'Cafeteria', 'Arts & Crafts Store',\n",
       "       'Moving Target', 'University', 'Performing Arts Venue',\n",
       "       'Speakeasy', 'Residential Building (Apartment / Condo)',\n",
       "       'Basketball Stadium', 'Convenience Store', 'Road', 'Train',\n",
       "       'Building', 'College Classroom', 'Home (private)', 'Bridge',\n",
       "       'Coworking Space', 'Food Truck', 'Library', 'Convention Center',\n",
       "       'Bus Line', 'Capitol Building', 'Auditorium',\n",
       "       'Latin American Restaurant', 'Burger Joint', 'Thai Restaurant',\n",
       "       'Fried Chicken Joint', 'Caf\\x1a', 'Bakery', 'Mexican Restaurant',\n",
       "       'Chinese Restaurant', 'Post Office', 'Miscellaneous Shop', 'City',\n",
       "       'Courthouse', 'General College & University', 'Salon / Barbershop',\n",
       "       'Multiplex', 'New American Restaurant', 'Tapas Restaurant',\n",
       "       'College Academic Building', \"Doctor's Office\",\n",
       "       'Electronics Store', 'Church', 'Sporting Goods Shop',\n",
       "       'Deli / Bodega', 'Brewery', 'Pool Hall', 'Dim Sum Restaurant',\n",
       "       'College Residence Hall', 'Dog Run', 'Diner', 'Farmers Market',\n",
       "       'French Restaurant', 'Salad Place', 'Harbor / Marina',\n",
       "       'Art Museum', 'Hardware Store', 'Beer Garden', 'Cosmetics Shop',\n",
       "       'Wine Shop', 'Police Station', 'Monument / Landmark',\n",
       "       'Cupcake Shop', 'Garden', 'Korean Restaurant', 'Bike Shop',\n",
       "       'Boutique', 'Gastropub', 'Asian Restaurant', 'Other Nightlife',\n",
       "       'Bowling Alley', 'Nightclub', 'Event Space', 'African Restaurant',\n",
       "       'Indie Movie Theater', 'Hookah Bar', 'Field', 'Wine Bar',\n",
       "       'Scenic Lookout', 'Southern / Soul Food Restaurant', 'Bus Station',\n",
       "       'Rental Car Location', 'Veterinarian', 'Laundry Service',\n",
       "       'Sushi Restaurant', 'Art Gallery', \"Women's Store\",\n",
       "       'Hot Dog Joint', 'Taxi', 'Accessories Store', 'Jazz Club',\n",
       "       'Falafel Restaurant', 'BBQ Joint', 'Bagel Shop', 'Student Center',\n",
       "       'German Restaurant', 'Frozen Yogurt', 'Dessert Shop', 'Tea Room',\n",
       "       'Wings Joint', 'College Library', 'Cemetery', 'Donut Shop',\n",
       "       'General Entertainment', 'College Engineering Building',\n",
       "       'Furniture / Home Store', 'Design Studio', 'Rock Club',\n",
       "       'Spa / Massage', 'Vegetarian / Vegan Restaurant', 'Hospital',\n",
       "       'Spiritual Center', 'Brazilian Restaurant', 'Karaoke Bar',\n",
       "       'Restaurant', 'Caribbean Restaurant', 'Other Great Outdoors',\n",
       "       'Nail Salon', 'Food & Drink Shop', 'Gas Station / Garage',\n",
       "       'Tanning Salon', 'General Travel', 'College Quad', 'Flea Market',\n",
       "       'Historic Site', 'Vietnamese Restaurant', 'Conference Room',\n",
       "       'Professional & Other Places', 'Food Court', 'Boat or Ferry',\n",
       "       'Parking', 'Law School', 'Dance Studio', \"Dentist's Office\",\n",
       "       'Juice Bar', 'Thrift / Vintage Store', 'Middle Eastern Restaurant',\n",
       "       'Bike Rental / Bike Share', 'Gift Shop', 'Strip Club',\n",
       "       'Automotive Shop', 'Gourmet Shop', 'Temple', 'Spanish Restaurant',\n",
       "       'Theme Park', 'Record Shop', 'Smoke Shop', 'Elementary School',\n",
       "       'Soup Place', 'Medical Center', 'Trade School',\n",
       "       'Japanese Restaurant', 'Embassy / Consulate', 'College Auditorium',\n",
       "       'Hiking Trail', 'Taco Place', 'Sculpture Garden',\n",
       "       'Paper / Office Supplies Store', 'College Basketball Court',\n",
       "       'Butcher', 'Ramen /  Noodle House', 'Pool', 'Fire Station', 'Fair',\n",
       "       'Snack Place', 'College Cafeteria', 'City Hall', 'School',\n",
       "       'Platform', 'Flower Shop', 'Housing Development',\n",
       "       'Ethiopian Restaurant', 'Optical Shop', 'Comedy Club',\n",
       "       'Eastern European Restaurant', 'College Administrative Building',\n",
       "       'Financial or Legal Service', 'Medical School', 'Climbing Gym',\n",
       "       'College Arts Building', 'Hockey Arena', 'Food', 'Kids Store',\n",
       "       'Winery', 'College Science Building', 'Playground',\n",
       "       'Baseball Field', 'Cajun / Creole Restaurant', 'Fish Market',\n",
       "       'Cuban Restaurant', 'Moroccan Restaurant', 'Swiss Restaurant',\n",
       "       'Concert Hall', 'Opera House', 'Burrito Place', 'Plane',\n",
       "       'Tattoo Parlor', 'Vineyard', 'Campground', 'Arcade',\n",
       "       'South American Restaurant', 'Fraternity House', 'Aquarium',\n",
       "       'Portuguese Restaurant', 'College Lab', 'Tennis Court', 'Stadium',\n",
       "       'Camera Store', 'Travel Lounge', 'Track Stadium', 'Farm',\n",
       "       'Pet Store', 'Track', 'Synagogue', 'Lingerie Store',\n",
       "       'Meeting Room', 'Ski Area', 'Jewelry Store',\n",
       "       'College Communications Building', 'Movie Theater', 'Trails',\n",
       "       'College Bookstore', 'Hobby Shop', 'Gaming Cafe', 'Hostel',\n",
       "       'College Rec Center', 'Cheese Shop', 'Antique Shop',\n",
       "       'Voting Booth', 'College Gym', 'Toy / Game Store', 'Shrine',\n",
       "       'Athletics & Sports', 'Hot Spring', 'Ski Trail', 'Gym Pool',\n",
       "       'Racetrack', 'Casino', 'Ski Chalet', 'Candy Store',\n",
       "       'College & University', 'Bed & Breakfast', 'River',\n",
       "       'Sorority House', 'Non-Profit', 'College Technology Building',\n",
       "       'Skate Park', 'Soccer Field', 'Basketball Court', 'Bridal Shop',\n",
       "       'Science Museum', 'Athletic & Sport', 'Rest Area',\n",
       "       'Arts & Entertainment', 'Factory', 'Garden Center', 'Skating Rink',\n",
       "       'Outdoors & Recreation', 'Public Art', 'Tailor Shop',\n",
       "       'Motorcycle Shop', 'Shop & Service', 'Ski Lodge',\n",
       "       'Photography Lab', 'Molecular Gastronomy Restaurant',\n",
       "       'Animal Shelter', 'Water Park', 'Paella Restaurant',\n",
       "       'College Theater', 'Argentinian Restaurant', 'Mobile Phone Shop',\n",
       "       'Yogurt', 'College Stadium', 'Tourist Information Center', 'Motel',\n",
       "       'Radio Station', 'Fish & Chips Shop', 'Hockey Field', 'Market',\n",
       "       'Assisted Living', 'Pier', 'Video Store', 'Volleyball Court'],\n",
       "      dtype=object)"
      ]
     },
     "execution_count": 17,
     "metadata": {},
     "output_type": "execute_result"
    }
   ],
   "source": [
    "# first, list all of the columns\n",
    "foursquare_df.venue_category.unique()"
   ]
  },
  {
   "cell_type": "code",
   "execution_count": 18,
   "metadata": {},
   "outputs": [
    {
     "data": {
      "text/plain": [
       "array(['Coffee Shop', 'Office', 'Subway', 'American Restaurant', 'Bar',\n",
       "       'Government Building', 'Hotel', 'Train Station', 'Gym',\n",
       "       'Grocery Store', 'Home (private)',\n",
       "       'Residential Building (Apartment / Condo)', 'Park',\n",
       "       'Mexican Restaurant', 'Sandwich Place', 'Lounge', 'Building',\n",
       "       'Pizza Place', 'Pub', 'Neighborhood', 'Baseball Stadium', 'Road',\n",
       "       'Italian Restaurant'], dtype=object)"
      ]
     },
     "execution_count": 18,
     "metadata": {},
     "output_type": "execute_result"
    }
   ],
   "source": [
    "# for now, I'll just use the top 23 categories as my features\n",
    "columns=foursquare_df.venue_category.value_counts().head(23).index.values\n",
    "columns"
   ]
  },
  {
   "cell_type": "code",
   "execution_count": 19,
   "metadata": {},
   "outputs": [
    {
     "data": {
      "text/html": [
       "<div>\n",
       "<style scoped>\n",
       "    .dataframe tbody tr th:only-of-type {\n",
       "        vertical-align: middle;\n",
       "    }\n",
       "\n",
       "    .dataframe tbody tr th {\n",
       "        vertical-align: top;\n",
       "    }\n",
       "\n",
       "    .dataframe thead th {\n",
       "        text-align: right;\n",
       "    }\n",
       "</style>\n",
       "<table border=\"1\" class=\"dataframe\">\n",
       "  <thead>\n",
       "    <tr style=\"text-align: right;\">\n",
       "      <th></th>\n",
       "      <th>user_id</th>\n",
       "      <th>utc_time_full</th>\n",
       "    </tr>\n",
       "  </thead>\n",
       "  <tbody>\n",
       "    <tr>\n",
       "      <th>0</th>\n",
       "      <td>6</td>\n",
       "      <td>2013-04-03 16:49:50</td>\n",
       "    </tr>\n",
       "    <tr>\n",
       "      <th>1</th>\n",
       "      <td>6</td>\n",
       "      <td>2012-10-18 16:01:06</td>\n",
       "    </tr>\n",
       "    <tr>\n",
       "      <th>2</th>\n",
       "      <td>6</td>\n",
       "      <td>2013-05-22 20:16:02</td>\n",
       "    </tr>\n",
       "    <tr>\n",
       "      <th>3</th>\n",
       "      <td>6</td>\n",
       "      <td>2013-02-27 18:10:19</td>\n",
       "    </tr>\n",
       "    <tr>\n",
       "      <th>4</th>\n",
       "      <td>6</td>\n",
       "      <td>2012-11-28 15:04:14</td>\n",
       "    </tr>\n",
       "  </tbody>\n",
       "</table>\n",
       "</div>"
      ],
      "text/plain": [
       "   user_id       utc_time_full\n",
       "0        6 2013-04-03 16:49:50\n",
       "1        6 2012-10-18 16:01:06\n",
       "2        6 2013-05-22 20:16:02\n",
       "3        6 2013-02-27 18:10:19\n",
       "4        6 2012-11-28 15:04:14"
      ]
     },
     "execution_count": 19,
     "metadata": {},
     "output_type": "execute_result"
    }
   ],
   "source": [
    "foursquare_days_df = foursquare_df.rename(columns={'utc_time':'utc_time_full'}).groupby([foursquare_df.user_id, foursquare_df.utc_time.dt.day]).nth(0).reset_index(drop=True)\n",
    "foursquare_days_df.drop(['venue_id', 'latitude', 'longitude', 'venue_category', 'country', 'coffee_shop_bin', 'zip_code'], axis=1, inplace=True)\n",
    "foursquare_days_df.head()"
   ]
  },
  {
   "cell_type": "code",
   "execution_count": 20,
   "metadata": {},
   "outputs": [],
   "source": [
    "foursquare_df_temp = foursquare_df[foursquare_df.venue_category.isin(columns)]"
   ]
  },
  {
   "cell_type": "code",
   "execution_count": 21,
   "metadata": {},
   "outputs": [],
   "source": [
    "foursquare_days_df = pd.read_csv('./data/foursquare_days_df.csv')"
   ]
  },
  {
   "cell_type": "code",
   "execution_count": 606,
   "metadata": {
    "scrolled": true
   },
   "outputs": [
    {
     "data": {
      "text/plain": [
       "964.9314014144293"
      ]
     },
     "execution_count": 606,
     "metadata": {},
     "output_type": "execute_result"
    }
   ],
   "source": [
    "# DON'T RUN THIS! :)\n",
    "# takes 15+ minutes. Running the cell block directly above this will import the same dataset\n",
    "# as this code block produces.\n",
    "\n",
    "# transposes check in data w/ user/date as primary key and 1/0 for whether \n",
    "# or not the user visited said category\n",
    "for column in columns:\n",
    "    foursquare_days_df[column] = foursquare_days_df.apply(lambda row: 1 if foursquare_df_temp[(foursquare_df_temp['user_id'] == row['user_id']) & (foursquare_df_temp.utc_time.dt.day == row['utc_time_full'].day) & (foursquare_df_temp.venue_category == column)].venue_category.count() > 0 else 0, axis=1)\n",
    "    foursquare_df_temp = foursquare_df_temp[foursquare_df_temp['venue_category'] != column]"
   ]
  },
  {
   "cell_type": "code",
   "execution_count": 22,
   "metadata": {},
   "outputs": [
    {
     "data": {
      "text/html": [
       "<div>\n",
       "<style scoped>\n",
       "    .dataframe tbody tr th:only-of-type {\n",
       "        vertical-align: middle;\n",
       "    }\n",
       "\n",
       "    .dataframe tbody tr th {\n",
       "        vertical-align: top;\n",
       "    }\n",
       "\n",
       "    .dataframe thead th {\n",
       "        text-align: right;\n",
       "    }\n",
       "</style>\n",
       "<table border=\"1\" class=\"dataframe\">\n",
       "  <thead>\n",
       "    <tr style=\"text-align: right;\">\n",
       "      <th></th>\n",
       "      <th>Unnamed: 0</th>\n",
       "      <th>user_id</th>\n",
       "      <th>utc_time_full</th>\n",
       "      <th>Coffee Shop</th>\n",
       "      <th>Office</th>\n",
       "      <th>Subway</th>\n",
       "      <th>American Restaurant</th>\n",
       "      <th>Bar</th>\n",
       "      <th>Government Building</th>\n",
       "      <th>Hotel</th>\n",
       "      <th>...</th>\n",
       "      <th>Mexican Restaurant</th>\n",
       "      <th>Sandwich Place</th>\n",
       "      <th>Lounge</th>\n",
       "      <th>Building</th>\n",
       "      <th>Pizza Place</th>\n",
       "      <th>Pub</th>\n",
       "      <th>Neighborhood</th>\n",
       "      <th>Baseball Stadium</th>\n",
       "      <th>Road</th>\n",
       "      <th>Italian Restaurant</th>\n",
       "    </tr>\n",
       "  </thead>\n",
       "  <tbody>\n",
       "    <tr>\n",
       "      <th>0</th>\n",
       "      <td>0</td>\n",
       "      <td>6</td>\n",
       "      <td>2013-04-03 16:49:50</td>\n",
       "      <td>0</td>\n",
       "      <td>0</td>\n",
       "      <td>0</td>\n",
       "      <td>0</td>\n",
       "      <td>0</td>\n",
       "      <td>1</td>\n",
       "      <td>0</td>\n",
       "      <td>...</td>\n",
       "      <td>0</td>\n",
       "      <td>0</td>\n",
       "      <td>0</td>\n",
       "      <td>0</td>\n",
       "      <td>0</td>\n",
       "      <td>0</td>\n",
       "      <td>0</td>\n",
       "      <td>0</td>\n",
       "      <td>0</td>\n",
       "      <td>0</td>\n",
       "    </tr>\n",
       "    <tr>\n",
       "      <th>1</th>\n",
       "      <td>1</td>\n",
       "      <td>6</td>\n",
       "      <td>2012-10-18 16:01:06</td>\n",
       "      <td>0</td>\n",
       "      <td>0</td>\n",
       "      <td>0</td>\n",
       "      <td>0</td>\n",
       "      <td>0</td>\n",
       "      <td>1</td>\n",
       "      <td>0</td>\n",
       "      <td>...</td>\n",
       "      <td>0</td>\n",
       "      <td>0</td>\n",
       "      <td>0</td>\n",
       "      <td>0</td>\n",
       "      <td>0</td>\n",
       "      <td>0</td>\n",
       "      <td>0</td>\n",
       "      <td>0</td>\n",
       "      <td>0</td>\n",
       "      <td>0</td>\n",
       "    </tr>\n",
       "    <tr>\n",
       "      <th>2</th>\n",
       "      <td>2</td>\n",
       "      <td>6</td>\n",
       "      <td>2013-05-22 20:16:02</td>\n",
       "      <td>1</td>\n",
       "      <td>0</td>\n",
       "      <td>0</td>\n",
       "      <td>0</td>\n",
       "      <td>0</td>\n",
       "      <td>0</td>\n",
       "      <td>0</td>\n",
       "      <td>...</td>\n",
       "      <td>0</td>\n",
       "      <td>0</td>\n",
       "      <td>0</td>\n",
       "      <td>0</td>\n",
       "      <td>0</td>\n",
       "      <td>0</td>\n",
       "      <td>0</td>\n",
       "      <td>0</td>\n",
       "      <td>0</td>\n",
       "      <td>0</td>\n",
       "    </tr>\n",
       "    <tr>\n",
       "      <th>3</th>\n",
       "      <td>3</td>\n",
       "      <td>6</td>\n",
       "      <td>2013-02-27 18:10:19</td>\n",
       "      <td>0</td>\n",
       "      <td>0</td>\n",
       "      <td>0</td>\n",
       "      <td>0</td>\n",
       "      <td>1</td>\n",
       "      <td>0</td>\n",
       "      <td>1</td>\n",
       "      <td>...</td>\n",
       "      <td>0</td>\n",
       "      <td>0</td>\n",
       "      <td>0</td>\n",
       "      <td>0</td>\n",
       "      <td>0</td>\n",
       "      <td>0</td>\n",
       "      <td>0</td>\n",
       "      <td>0</td>\n",
       "      <td>0</td>\n",
       "      <td>0</td>\n",
       "    </tr>\n",
       "    <tr>\n",
       "      <th>4</th>\n",
       "      <td>4</td>\n",
       "      <td>6</td>\n",
       "      <td>2012-11-28 15:04:14</td>\n",
       "      <td>0</td>\n",
       "      <td>1</td>\n",
       "      <td>0</td>\n",
       "      <td>0</td>\n",
       "      <td>0</td>\n",
       "      <td>1</td>\n",
       "      <td>0</td>\n",
       "      <td>...</td>\n",
       "      <td>0</td>\n",
       "      <td>0</td>\n",
       "      <td>0</td>\n",
       "      <td>0</td>\n",
       "      <td>0</td>\n",
       "      <td>0</td>\n",
       "      <td>0</td>\n",
       "      <td>0</td>\n",
       "      <td>0</td>\n",
       "      <td>0</td>\n",
       "    </tr>\n",
       "  </tbody>\n",
       "</table>\n",
       "<p>5 rows × 26 columns</p>\n",
       "</div>"
      ],
      "text/plain": [
       "   Unnamed: 0  user_id        utc_time_full  Coffee Shop  Office  Subway  \\\n",
       "0           0        6  2013-04-03 16:49:50            0       0       0   \n",
       "1           1        6  2012-10-18 16:01:06            0       0       0   \n",
       "2           2        6  2013-05-22 20:16:02            1       0       0   \n",
       "3           3        6  2013-02-27 18:10:19            0       0       0   \n",
       "4           4        6  2012-11-28 15:04:14            0       1       0   \n",
       "\n",
       "   American Restaurant  Bar  Government Building  Hotel         ...          \\\n",
       "0                    0    0                    1      0         ...           \n",
       "1                    0    0                    1      0         ...           \n",
       "2                    0    0                    0      0         ...           \n",
       "3                    0    1                    0      1         ...           \n",
       "4                    0    0                    1      0         ...           \n",
       "\n",
       "   Mexican Restaurant  Sandwich Place  Lounge  Building  Pizza Place  Pub  \\\n",
       "0                   0               0       0         0            0    0   \n",
       "1                   0               0       0         0            0    0   \n",
       "2                   0               0       0         0            0    0   \n",
       "3                   0               0       0         0            0    0   \n",
       "4                   0               0       0         0            0    0   \n",
       "\n",
       "   Neighborhood  Baseball Stadium  Road  Italian Restaurant  \n",
       "0             0                 0     0                   0  \n",
       "1             0                 0     0                   0  \n",
       "2             0                 0     0                   0  \n",
       "3             0                 0     0                   0  \n",
       "4             0                 0     0                   0  \n",
       "\n",
       "[5 rows x 26 columns]"
      ]
     },
     "execution_count": 22,
     "metadata": {},
     "output_type": "execute_result"
    }
   ],
   "source": [
    "foursquare_days_df.head()"
   ]
  },
  {
   "cell_type": "code",
   "execution_count": 23,
   "metadata": {},
   "outputs": [
    {
     "data": {
      "text/plain": [
       "0    15507\n",
       "1     1930\n",
       "Name: Coffee Shop, dtype: int64"
      ]
     },
     "execution_count": 23,
     "metadata": {},
     "output_type": "execute_result"
    }
   ],
   "source": [
    "foursquare_days_df['Coffee Shop'].value_counts()"
   ]
  },
  {
   "cell_type": "code",
   "execution_count": 24,
   "metadata": {},
   "outputs": [
    {
     "data": {
      "text/plain": [
       "(17437, 26)"
      ]
     },
     "execution_count": 24,
     "metadata": {},
     "output_type": "execute_result"
    }
   ],
   "source": [
    "foursquare_days_df.shape "
   ]
  },
  {
   "cell_type": "markdown",
   "metadata": {},
   "source": [
    "#### foursquare_days_df is now formatted and ready for a decision tree (Machine Learning section)"
   ]
  },
  {
   "cell_type": "markdown",
   "metadata": {},
   "source": [
    "### Hypothesis 2: compare various factors of each zip code to the check in count to find a linear relationship. If we can find a linear relationship, we can use this to determine the best zip code for maximizing coffee shop check-ins."
   ]
  },
  {
   "cell_type": "code",
   "execution_count": 25,
   "metadata": {},
   "outputs": [
    {
     "data": {
      "text/plain": [
       "<matplotlib.axes._subplots.AxesSubplot at 0x2b86b7944e0>"
      ]
     },
     "execution_count": 25,
     "metadata": {},
     "output_type": "execute_result"
    },
    {
     "data": {
      "image/png": "[encoded data removed]",
      "text/plain": [
       "<Figure size 432x288 with 1 Axes>"
      ]
     },
     "metadata": {},
     "output_type": "display_data"
    }
   ],
   "source": [
    "foursquare_df.zip_code.value_counts().plot(kind='bar')"
   ]
  },
  {
   "cell_type": "code",
   "execution_count": 26,
   "metadata": {},
   "outputs": [],
   "source": [
    "coffee_checkins_perzip = foursquare_df[foursquare_df.venue_category == \"Coffee Shop\"].groupby(['zip_code']).size().reset_index(name='coffeeshop_counts')"
   ]
  },
  {
   "cell_type": "code",
   "execution_count": 27,
   "metadata": {},
   "outputs": [],
   "source": [
    "checkins_and_zipdata_df = coffee_checkins_perzip.merge(zipfeatures_df, left_on='zip_code', right_on='zip_code')"
   ]
  },
  {
   "cell_type": "code",
   "execution_count": 28,
   "metadata": {},
   "outputs": [
    {
     "data": {
      "text/plain": [
       "coffeeshop_counts           1.000000\n",
       "estimate_total              0.244147\n",
       "median_age                 -0.362762\n",
       "mean_income                -0.108608\n",
       "percent_public_transport   -0.244719\n",
       "Name: coffeeshop_counts, dtype: float64"
      ]
     },
     "execution_count": 28,
     "metadata": {},
     "output_type": "execute_result"
    }
   ],
   "source": [
    "checkins_and_zipdata_df.corr().coffeeshop_counts"
   ]
  },
  {
   "cell_type": "code",
   "execution_count": 29,
   "metadata": {
    "scrolled": true
   },
   "outputs": [
    {
     "data": {
      "text/plain": [
       "<seaborn.axisgrid.PairGrid at 0x2b86b9b2780>"
      ]
     },
     "execution_count": 29,
     "metadata": {},
     "output_type": "execute_result"
    },
    {
     "data": {
      "image/png": "[encoded data removed]",
      "text/plain": [
       "<Figure size 900x900 with 30 Axes>"
      ]
     },
     "metadata": {},
     "output_type": "display_data"
    }
   ],
   "source": [
    "import seaborn as sns\n",
    "sns.pairplot(checkins_and_zipdata_df.corr(), kind='reg')\n",
    "# sns.regplot(x=\"estimate_total\", y=\"coffeeshop_counts\", data=checkins_and_zipdata_df);\n",
    "# sns.regplot(x=\"mean_income\", y=\"coffeeshop_counts\", data=checkins_and_zipdata_df);\n",
    "# sns.regplot(x=\"median_age\", y=\"coffeeshop_counts\", data=checkins_and_zipdata_df);"
   ]
  },
  {
   "cell_type": "markdown",
   "metadata": {},
   "source": [
    "<a id=\"explore_data_old\"></a>"
   ]
  },
  {
   "cell_type": "markdown",
   "metadata": {},
   "source": [
    "## Explore Data (Old Hypotheses)"
   ]
  },
  {
   "cell_type": "markdown",
   "metadata": {},
   "source": [
    "#### See where people are generally coming from when they go to coffee shops"
   ]
  },
  {
   "cell_type": "code",
   "execution_count": 29,
   "metadata": {
    "scrolled": false
   },
   "outputs": [
    {
     "data": {
      "text/plain": [
       "<matplotlib.axes._subplots.AxesSubplot at 0x28f6b6ee400>"
      ]
     },
     "execution_count": 29,
     "metadata": {},
     "output_type": "execute_result"
    },
    {
     "data": {
      "image/png": "[encoded data removed]",
      "text/plain": [
       "<Figure size 1080x576 with 1 Axes>"
      ]
     },
     "metadata": {},
     "output_type": "display_data"
    }
   ],
   "source": [
    "# View top 10 categories of checkins on days that also contain a coffee shop checkin\n",
    "foursquare_df[(foursquare_df.coffee_shop_bin==1) & (foursquare_df.venue_category != 'Coffee Shop')].venue_category.value_counts().head(7).plot(kind='bar', figsize=(15, 8))"
   ]
  },
  {
   "cell_type": "markdown",
   "metadata": {
    "collapsed": true
   },
   "source": [
    "#### Next I'd like to view coffee shops plotted on an interactive map."
   ]
  },
  {
   "cell_type": "code",
   "execution_count": 31,
   "metadata": {},
   "outputs": [],
   "source": [
    "import folium\n",
    "\n",
    "map_coffee_df = businesses_df[businesses_df.categories.astype(str).str.contains('Coffee')]\n",
    "\n",
    "folium_map = folium.Map(location=[38.9031434, -77.0232301],\n",
    "                        zoom_start=13)\n",
    "\n",
    "for index, row in map_coffee_df.iterrows():\n",
    "    folium.Marker([row[\"latitude\"], row[\"longitude\"]], popup=folium.Popup(row['name'], parse_html=True)).add_to(folium_map)"
   ]
  },
  {
   "cell_type": "code",
   "execution_count": 32,
   "metadata": {
    "scrolled": false
   },
   "outputs": [
    {
     "data": {
      "text/html": [
       "<div style=\"width:100%;\"><div style=\"position:relative;width:100%;height:0;padding-bottom:60%;\"><iframe src=\"data:text/html;charset=utf-8;base64,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\" style=\"position:absolute;width:100%;height:100%;left:0;top:0;border:none !important;\" allowfullscreen webkitallowfullscreen mozallowfullscreen></iframe></div></div>"
      ],
      "text/plain": [
       "<folium.folium.Map at 0x2b86d419b70>"
      ]
     },
     "execution_count": 32,
     "metadata": {},
     "output_type": "execute_result"
    }
   ],
   "source": [
    "folium_map"
   ]
  },
  {
   "cell_type": "markdown",
   "metadata": {},
   "source": [
    "#### Next I want to find a count of coffee shops by zip code and explore population data viability on determining coffee shop location"
   ]
  },
  {
   "cell_type": "code",
   "execution_count": 33,
   "metadata": {},
   "outputs": [
    {
     "data": {
      "text/plain": [
       "(390, 12)"
      ]
     },
     "execution_count": 33,
     "metadata": {},
     "output_type": "execute_result"
    }
   ],
   "source": [
    "# get all businesses w/ category containing \"Coffee\"\n",
    "coffeeshops_byzip_df = businesses_df[businesses_df.categories.astype(str).str.contains('Coffee')]\n",
    "coffeeshops_byzip_df.shape"
   ]
  },
  {
   "cell_type": "code",
   "execution_count": 33,
   "metadata": {
    "collapsed": true
   },
   "outputs": [],
   "source": [
    "# new df containing each zip code and the count of coffee shops\n",
    "coffeeshop_percap_df = coffeeshops_byzip_df.groupby('zip_code').zip_code.agg(['count']).sort_values('count', ascending=False)\n",
    "\n",
    "# merge previous dataframe with population growth dataframe\n",
    "coffeeshop_percap_df = coffeeshop_percap_df.merge(popul2016_df, left_index=True, right_on=\"zip_code\")\n",
    "coffeeshop_percap_df = coffeeshop_percap_df.set_index('zip_code')\n",
    "\n",
    "# add calculated field for rate of population change\n",
    "coffeeshop_percap_df['pop_change_rate'] = (coffeeshop_percap_df['estimate_total_2016'] - \\\n",
    "                                            coffeeshop_percap_df['estimate_total_2015']) / \\\n",
    "                                            coffeeshop_percap_df['estimate_total_2015']\n",
    "\n",
    "# display some rows from newly constructed df, sorted by population rate of change\n",
    "coffeeshop_percap_df[coffeeshop_percap_df['count'] > 5].sort_values('pop_change_rate')"
   ]
  },
  {
   "cell_type": "markdown",
   "metadata": {
    "collapsed": true
   },
   "source": [
    "<a id=\"machine_learning\"></a>"
   ]
  },
  {
   "cell_type": "markdown",
   "metadata": {},
   "source": [
    "## Part 4: Machine Learning"
   ]
  },
  {
   "cell_type": "markdown",
   "metadata": {},
   "source": [
    "<a id=\"hyp_1\"></a>"
   ]
  },
  {
   "cell_type": "markdown",
   "metadata": {},
   "source": [
    "### Hypothesis 1: Find where people who go to coffee shops go on the same day, and then find a location with a lot of this type of establishment."
   ]
  },
  {
   "cell_type": "markdown",
   "metadata": {},
   "source": [
    "#### First get baseline accuracy for classification models"
   ]
  },
  {
   "cell_type": "code",
   "execution_count": 59,
   "metadata": {},
   "outputs": [],
   "source": [
    "foursquare_days_df['baseline'] = 0"
   ]
  },
  {
   "cell_type": "code",
   "execution_count": 61,
   "metadata": {},
   "outputs": [
    {
     "name": "stdout",
     "output_type": "stream",
     "text": [
      "Baseline Accuracy:  0.889315822675919\n"
     ]
    }
   ],
   "source": [
    "print('Baseline Accuracy: ', str(accuracy_score(foursquare_days_df['Coffee Shop'], foursquare_days_df['baseline'])))"
   ]
  },
  {
   "cell_type": "markdown",
   "metadata": {},
   "source": [
    "#### Model 1: Decision Tree"
   ]
  },
  {
   "cell_type": "code",
   "execution_count": 34,
   "metadata": {},
   "outputs": [],
   "source": [
    "feature_cols = ['Office', 'Subway', 'American Restaurant', 'Bar',\n",
    "       'Government Building', 'Hotel', 'Train Station', 'Gym',\n",
    "       'Grocery Store', 'Home (private)',\n",
    "       'Residential Building (Apartment / Condo)', 'Park',\n",
    "       'Mexican Restaurant', 'Sandwich Place', 'Lounge', 'Building',\n",
    "       'Pizza Place', 'Pub', 'Neighborhood', 'Baseball Stadium', 'Road',\n",
    "       'Italian Restaurant']\n",
    "\n",
    "X = foursquare_days_df[feature_cols]\n",
    "y = foursquare_days_df[\"Coffee Shop\"]"
   ]
  },
  {
   "cell_type": "code",
   "execution_count": 35,
   "metadata": {},
   "outputs": [
    {
     "data": {
      "text/html": [
       "<div>\n",
       "<style scoped>\n",
       "    .dataframe tbody tr th:only-of-type {\n",
       "        vertical-align: middle;\n",
       "    }\n",
       "\n",
       "    .dataframe tbody tr th {\n",
       "        vertical-align: top;\n",
       "    }\n",
       "\n",
       "    .dataframe thead th {\n",
       "        text-align: right;\n",
       "    }\n",
       "</style>\n",
       "<table border=\"1\" class=\"dataframe\">\n",
       "  <thead>\n",
       "    <tr style=\"text-align: right;\">\n",
       "      <th></th>\n",
       "      <th>feature</th>\n",
       "      <th>importance</th>\n",
       "    </tr>\n",
       "  </thead>\n",
       "  <tbody>\n",
       "    <tr>\n",
       "      <th>11</th>\n",
       "      <td>Park</td>\n",
       "      <td>0.290257</td>\n",
       "    </tr>\n",
       "    <tr>\n",
       "      <th>1</th>\n",
       "      <td>Subway</td>\n",
       "      <td>0.238393</td>\n",
       "    </tr>\n",
       "    <tr>\n",
       "      <th>13</th>\n",
       "      <td>Sandwich Place</td>\n",
       "      <td>0.233781</td>\n",
       "    </tr>\n",
       "    <tr>\n",
       "      <th>7</th>\n",
       "      <td>Gym</td>\n",
       "      <td>0.190744</td>\n",
       "    </tr>\n",
       "    <tr>\n",
       "      <th>6</th>\n",
       "      <td>Train Station</td>\n",
       "      <td>0.046825</td>\n",
       "    </tr>\n",
       "    <tr>\n",
       "      <th>20</th>\n",
       "      <td>Road</td>\n",
       "      <td>0.000000</td>\n",
       "    </tr>\n",
       "    <tr>\n",
       "      <th>19</th>\n",
       "      <td>Baseball Stadium</td>\n",
       "      <td>0.000000</td>\n",
       "    </tr>\n",
       "    <tr>\n",
       "      <th>18</th>\n",
       "      <td>Neighborhood</td>\n",
       "      <td>0.000000</td>\n",
       "    </tr>\n",
       "    <tr>\n",
       "      <th>17</th>\n",
       "      <td>Pub</td>\n",
       "      <td>0.000000</td>\n",
       "    </tr>\n",
       "    <tr>\n",
       "      <th>16</th>\n",
       "      <td>Pizza Place</td>\n",
       "      <td>0.000000</td>\n",
       "    </tr>\n",
       "  </tbody>\n",
       "</table>\n",
       "</div>"
      ],
      "text/plain": [
       "             feature  importance\n",
       "11              Park    0.290257\n",
       "1             Subway    0.238393\n",
       "13    Sandwich Place    0.233781\n",
       "7                Gym    0.190744\n",
       "6      Train Station    0.046825\n",
       "20              Road    0.000000\n",
       "19  Baseball Stadium    0.000000\n",
       "18      Neighborhood    0.000000\n",
       "17               Pub    0.000000\n",
       "16       Pizza Place    0.000000"
      ]
     },
     "execution_count": 35,
     "metadata": {},
     "output_type": "execute_result"
    }
   ],
   "source": [
    "from sklearn.tree import DecisionTreeClassifier\n",
    "\n",
    "treeclf = DecisionTreeClassifier(max_depth=3, random_state=1)\n",
    "treeclf.fit(X, y)\n",
    "\n",
    "pd.DataFrame({'feature':feature_cols, 'importance':treeclf.feature_importances_}).sort_values('importance', ascending=False).head(10)"
   ]
  },
  {
   "cell_type": "code",
   "execution_count": 36,
   "metadata": {},
   "outputs": [
    {
     "data": {
      "text/plain": [
       "0    1030\n",
       "1     207\n",
       "Name: Coffee Shop, dtype: int64"
      ]
     },
     "execution_count": 36,
     "metadata": {},
     "output_type": "execute_result"
    }
   ],
   "source": [
    "foursquare_days_df[foursquare_days_df['Subway'] == 1]['Coffee Shop'].value_counts()"
   ]
  },
  {
   "cell_type": "code",
   "execution_count": 39,
   "metadata": {},
   "outputs": [
    {
     "data": {
      "text/plain": [
       "True"
      ]
     },
     "execution_count": 39,
     "metadata": {},
     "output_type": "execute_result"
    }
   ],
   "source": [
    "from sklearn.tree import export_graphviz\n",
    "import pydotplus\n",
    "from io import StringIO\n",
    "\n",
    "import os     \n",
    "os.environ[\"PATH\"] += os.pathsep + 'C:\\\\Users\\\\Steven\\\\Anaconda3\\\\Library\\\\bin\\\\graphviz'\n",
    "\n",
    "dotfile = StringIO()\n",
    "export_graphviz(treeclf, out_file=dotfile, feature_names=feature_cols)\n",
    "graph = pydotplus.graph_from_dot_data(dotfile.getvalue())\n",
    "graph.write_png('./assets/categories_tree.png')"
   ]
  },
  {
   "cell_type": "markdown",
   "metadata": {},
   "source": [
    "![Tree for category data](assets/categories_tree.png)|"
   ]
  },
  {
   "cell_type": "code",
   "execution_count": 40,
   "metadata": {},
   "outputs": [],
   "source": [
    "feature_cols = ['Office', 'Subway', 'American Restaurant', 'Bar',\n",
    "       'Government Building', 'Hotel', 'Train Station', 'Gym',\n",
    "       'Grocery Store', 'Home (private)',\n",
    "       'Residential Building (Apartment / Condo)', 'Park',\n",
    "       'Mexican Restaurant', 'Sandwich Place', 'Lounge', 'Building',\n",
    "       'Pizza Place', 'Pub', 'Neighborhood', 'Baseball Stadium', 'Road',\n",
    "       'Italian Restaurant']\n",
    "\n",
    "X = foursquare_days_df[feature_cols]\n",
    "y = foursquare_days_df[\"Coffee Shop\"]"
   ]
  },
  {
   "cell_type": "code",
   "execution_count": 41,
   "metadata": {},
   "outputs": [
    {
     "data": {
      "text/plain": [
       "DecisionTreeClassifier(class_weight=None, criterion='gini', max_depth=3,\n",
       "            max_features=None, max_leaf_nodes=None,\n",
       "            min_impurity_decrease=0.0, min_impurity_split=None,\n",
       "            min_samples_leaf=1, min_samples_split=2,\n",
       "            min_weight_fraction_leaf=0.0, presort=False, random_state=None,\n",
       "            splitter='best')"
      ]
     },
     "execution_count": 41,
     "metadata": {},
     "output_type": "execute_result"
    }
   ],
   "source": [
    "from sklearn.model_selection import train_test_split\n",
    "\n",
    "X_train, X_test, y_train, y_test = train_test_split(X, y)\n",
    "treeclf = DecisionTreeClassifier(max_depth=3)\n",
    "treeclf.fit(X_train, y_train)"
   ]
  },
  {
   "cell_type": "code",
   "execution_count": 42,
   "metadata": {},
   "outputs": [
    {
     "name": "stdout",
     "output_type": "stream",
     "text": [
      "Accuracy:  0.8832568807339449\n"
     ]
    }
   ],
   "source": [
    "from sklearn.metrics import accuracy_score\n",
    "\n",
    "y_predict = treeclf.predict(X_test)\n",
    "print('Accuracy: ', str(accuracy_score(y_test, y_predict)))"
   ]
  },
  {
   "cell_type": "markdown",
   "metadata": {},
   "source": [
    "#### Model 2: Random Forest Classifier"
   ]
  },
  {
   "cell_type": "code",
   "execution_count": 43,
   "metadata": {},
   "outputs": [],
   "source": [
    "feature_cols = ['Office', 'Subway', 'American Restaurant', 'Bar',\n",
    "       'Government Building', 'Hotel', 'Train Station', 'Gym',\n",
    "       'Grocery Store', 'Home (private)',\n",
    "       'Residential Building (Apartment / Condo)', 'Park',\n",
    "       'Mexican Restaurant', 'Sandwich Place', 'Lounge', 'Building',\n",
    "       'Pizza Place', 'Pub', 'Neighborhood', 'Baseball Stadium', 'Road',\n",
    "       'Italian Restaurant']\n",
    "\n",
    "X = foursquare_days_df[feature_cols]\n",
    "y = foursquare_days_df[\"Coffee Shop\"]"
   ]
  },
  {
   "cell_type": "code",
   "execution_count": 44,
   "metadata": {},
   "outputs": [
    {
     "data": {
      "text/html": [
       "<div>\n",
       "<style scoped>\n",
       "    .dataframe tbody tr th:only-of-type {\n",
       "        vertical-align: middle;\n",
       "    }\n",
       "\n",
       "    .dataframe tbody tr th {\n",
       "        vertical-align: top;\n",
       "    }\n",
       "\n",
       "    .dataframe thead th {\n",
       "        text-align: right;\n",
       "    }\n",
       "</style>\n",
       "<table border=\"1\" class=\"dataframe\">\n",
       "  <thead>\n",
       "    <tr style=\"text-align: right;\">\n",
       "      <th></th>\n",
       "      <th>feature</th>\n",
       "      <th>importance</th>\n",
       "    </tr>\n",
       "  </thead>\n",
       "  <tbody>\n",
       "    <tr>\n",
       "      <th>1</th>\n",
       "      <td>Subway</td>\n",
       "      <td>0.071853</td>\n",
       "    </tr>\n",
       "    <tr>\n",
       "      <th>0</th>\n",
       "      <td>Office</td>\n",
       "      <td>0.066635</td>\n",
       "    </tr>\n",
       "    <tr>\n",
       "      <th>2</th>\n",
       "      <td>American Restaurant</td>\n",
       "      <td>0.061696</td>\n",
       "    </tr>\n",
       "    <tr>\n",
       "      <th>9</th>\n",
       "      <td>Home (private)</td>\n",
       "      <td>0.058930</td>\n",
       "    </tr>\n",
       "    <tr>\n",
       "      <th>8</th>\n",
       "      <td>Grocery Store</td>\n",
       "      <td>0.055555</td>\n",
       "    </tr>\n",
       "    <tr>\n",
       "      <th>4</th>\n",
       "      <td>Government Building</td>\n",
       "      <td>0.053220</td>\n",
       "    </tr>\n",
       "    <tr>\n",
       "      <th>11</th>\n",
       "      <td>Park</td>\n",
       "      <td>0.052196</td>\n",
       "    </tr>\n",
       "    <tr>\n",
       "      <th>6</th>\n",
       "      <td>Train Station</td>\n",
       "      <td>0.051449</td>\n",
       "    </tr>\n",
       "    <tr>\n",
       "      <th>10</th>\n",
       "      <td>Residential Building (Apartment / Condo)</td>\n",
       "      <td>0.049291</td>\n",
       "    </tr>\n",
       "    <tr>\n",
       "      <th>12</th>\n",
       "      <td>Mexican Restaurant</td>\n",
       "      <td>0.048944</td>\n",
       "    </tr>\n",
       "    <tr>\n",
       "      <th>5</th>\n",
       "      <td>Hotel</td>\n",
       "      <td>0.048166</td>\n",
       "    </tr>\n",
       "    <tr>\n",
       "      <th>13</th>\n",
       "      <td>Sandwich Place</td>\n",
       "      <td>0.045884</td>\n",
       "    </tr>\n",
       "    <tr>\n",
       "      <th>7</th>\n",
       "      <td>Gym</td>\n",
       "      <td>0.044307</td>\n",
       "    </tr>\n",
       "    <tr>\n",
       "      <th>3</th>\n",
       "      <td>Bar</td>\n",
       "      <td>0.041373</td>\n",
       "    </tr>\n",
       "    <tr>\n",
       "      <th>15</th>\n",
       "      <td>Building</td>\n",
       "      <td>0.041232</td>\n",
       "    </tr>\n",
       "    <tr>\n",
       "      <th>18</th>\n",
       "      <td>Neighborhood</td>\n",
       "      <td>0.041157</td>\n",
       "    </tr>\n",
       "    <tr>\n",
       "      <th>16</th>\n",
       "      <td>Pizza Place</td>\n",
       "      <td>0.037439</td>\n",
       "    </tr>\n",
       "    <tr>\n",
       "      <th>17</th>\n",
       "      <td>Pub</td>\n",
       "      <td>0.034475</td>\n",
       "    </tr>\n",
       "    <tr>\n",
       "      <th>14</th>\n",
       "      <td>Lounge</td>\n",
       "      <td>0.032564</td>\n",
       "    </tr>\n",
       "    <tr>\n",
       "      <th>21</th>\n",
       "      <td>Italian Restaurant</td>\n",
       "      <td>0.029983</td>\n",
       "    </tr>\n",
       "    <tr>\n",
       "      <th>19</th>\n",
       "      <td>Baseball Stadium</td>\n",
       "      <td>0.019548</td>\n",
       "    </tr>\n",
       "    <tr>\n",
       "      <th>20</th>\n",
       "      <td>Road</td>\n",
       "      <td>0.014102</td>\n",
       "    </tr>\n",
       "  </tbody>\n",
       "</table>\n",
       "</div>"
      ],
      "text/plain": [
       "                                     feature  importance\n",
       "1                                     Subway    0.071853\n",
       "0                                     Office    0.066635\n",
       "2                        American Restaurant    0.061696\n",
       "9                             Home (private)    0.058930\n",
       "8                              Grocery Store    0.055555\n",
       "4                        Government Building    0.053220\n",
       "11                                      Park    0.052196\n",
       "6                              Train Station    0.051449\n",
       "10  Residential Building (Apartment / Condo)    0.049291\n",
       "12                        Mexican Restaurant    0.048944\n",
       "5                                      Hotel    0.048166\n",
       "13                            Sandwich Place    0.045884\n",
       "7                                        Gym    0.044307\n",
       "3                                        Bar    0.041373\n",
       "15                                  Building    0.041232\n",
       "18                              Neighborhood    0.041157\n",
       "16                               Pizza Place    0.037439\n",
       "17                                       Pub    0.034475\n",
       "14                                    Lounge    0.032564\n",
       "21                        Italian Restaurant    0.029983\n",
       "19                          Baseball Stadium    0.019548\n",
       "20                                      Road    0.014102"
      ]
     },
     "execution_count": 44,
     "metadata": {},
     "output_type": "execute_result"
    }
   ],
   "source": [
    "from sklearn.ensemble import RandomForestClassifier\n",
    "from sklearn.datasets import make_classification\n",
    "\n",
    "rfclas = RandomForestClassifier(n_estimators=150, max_features=5, oob_score=True)\n",
    "rfclas.fit(X, y)\n",
    "\n",
    "pd.DataFrame({'feature':feature_cols, 'importance':rfclas.feature_importances_}).sort_values('importance', ascending=False)"
   ]
  },
  {
   "cell_type": "code",
   "execution_count": 45,
   "metadata": {},
   "outputs": [
    {
     "name": "stdout",
     "output_type": "stream",
     "text": [
      "accuracy: 0.8869266055045871\n"
     ]
    },
    {
     "data": {
      "text/html": [
       "<div>\n",
       "<style scoped>\n",
       "    .dataframe tbody tr th:only-of-type {\n",
       "        vertical-align: middle;\n",
       "    }\n",
       "\n",
       "    .dataframe tbody tr th {\n",
       "        vertical-align: top;\n",
       "    }\n",
       "\n",
       "    .dataframe thead th {\n",
       "        text-align: right;\n",
       "    }\n",
       "</style>\n",
       "<table border=\"1\" class=\"dataframe\">\n",
       "  <thead>\n",
       "    <tr style=\"text-align: right;\">\n",
       "      <th></th>\n",
       "      <th>feature</th>\n",
       "      <th>importance</th>\n",
       "    </tr>\n",
       "  </thead>\n",
       "  <tbody>\n",
       "    <tr>\n",
       "      <th>0</th>\n",
       "      <td>Office</td>\n",
       "      <td>0.074169</td>\n",
       "    </tr>\n",
       "    <tr>\n",
       "      <th>2</th>\n",
       "      <td>American Restaurant</td>\n",
       "      <td>0.065981</td>\n",
       "    </tr>\n",
       "    <tr>\n",
       "      <th>1</th>\n",
       "      <td>Subway</td>\n",
       "      <td>0.065383</td>\n",
       "    </tr>\n",
       "    <tr>\n",
       "      <th>9</th>\n",
       "      <td>Home (private)</td>\n",
       "      <td>0.056564</td>\n",
       "    </tr>\n",
       "    <tr>\n",
       "      <th>4</th>\n",
       "      <td>Government Building</td>\n",
       "      <td>0.056298</td>\n",
       "    </tr>\n",
       "  </tbody>\n",
       "</table>\n",
       "</div>"
      ],
      "text/plain": [
       "               feature  importance\n",
       "0               Office    0.074169\n",
       "2  American Restaurant    0.065981\n",
       "1               Subway    0.065383\n",
       "9       Home (private)    0.056564\n",
       "4  Government Building    0.056298"
      ]
     },
     "execution_count": 45,
     "metadata": {},
     "output_type": "execute_result"
    }
   ],
   "source": [
    "rfclas = RandomForestClassifier(n_estimators=150, max_features=5, oob_score=True)\n",
    "\n",
    "X_train, X_test, y_train, y_test = train_test_split(X, y)\n",
    "rfclas.fit(X_train, y_train)\n",
    "y_predict = rfclas.predict(X_test)\n",
    "print('accuracy: ' + str(accuracy_score(y_test, y_predict)))\n",
    "\n",
    "pd.DataFrame({'feature':feature_cols, 'importance':rfclas.feature_importances_}).sort_values('importance', ascending=False).head()"
   ]
  },
  {
   "cell_type": "markdown",
   "metadata": {},
   "source": [
    "#### Hypothesis 1 conclusion\n",
    "- The first model I used was a decision tree, and then I tried implementing a random forest. What I found was that the decision tree was much easier to interpret due to its ability to pick out the most important features, rather than using all of the features. The accuracy was also almost exactly the same. From this I found that the most common places for a person to visit on the same day as a coffee shop are the park, Subway, a Sandwich Place (other than subway I presume), the Gym, and a Train Station."
   ]
  },
  {
   "cell_type": "markdown",
   "metadata": {},
   "source": [
    "<a id=\"hyp_2\"></a>"
   ]
  },
  {
   "cell_type": "markdown",
   "metadata": {},
   "source": [
    "### Hypothesis 2: compare various factors of each zip code to the check in count to find a linear relationship. If we can find a linear relationship, we can use this to determine the best zip code for maximizing coffee shop check-ins."
   ]
  },
  {
   "cell_type": "code",
   "execution_count": 21,
   "metadata": {},
   "outputs": [
    {
     "data": {
      "text/html": [
       "<div>\n",
       "<style scoped>\n",
       "    .dataframe tbody tr th:only-of-type {\n",
       "        vertical-align: middle;\n",
       "    }\n",
       "\n",
       "    .dataframe tbody tr th {\n",
       "        vertical-align: top;\n",
       "    }\n",
       "\n",
       "    .dataframe thead th {\n",
       "        text-align: right;\n",
       "    }\n",
       "</style>\n",
       "<table border=\"1\" class=\"dataframe\">\n",
       "  <thead>\n",
       "    <tr style=\"text-align: right;\">\n",
       "      <th></th>\n",
       "      <th>zip_code</th>\n",
       "      <th>coffeeshop_counts</th>\n",
       "      <th>estimate_total</th>\n",
       "      <th>median_age</th>\n",
       "      <th>mean_income</th>\n",
       "      <th>percent_public_transport</th>\n",
       "    </tr>\n",
       "  </thead>\n",
       "  <tbody>\n",
       "    <tr>\n",
       "      <th>0</th>\n",
       "      <td>20001</td>\n",
       "      <td>942</td>\n",
       "      <td>44998</td>\n",
       "      <td>30.6</td>\n",
       "      <td>106670.0</td>\n",
       "      <td>0.353349</td>\n",
       "    </tr>\n",
       "    <tr>\n",
       "      <th>1</th>\n",
       "      <td>20002</td>\n",
       "      <td>172</td>\n",
       "      <td>59659</td>\n",
       "      <td>34.0</td>\n",
       "      <td>98792.0</td>\n",
       "      <td>0.361972</td>\n",
       "    </tr>\n",
       "    <tr>\n",
       "      <th>2</th>\n",
       "      <td>20003</td>\n",
       "      <td>225</td>\n",
       "      <td>29071</td>\n",
       "      <td>34.8</td>\n",
       "      <td>140336.0</td>\n",
       "      <td>0.401540</td>\n",
       "    </tr>\n",
       "    <tr>\n",
       "      <th>3</th>\n",
       "      <td>20004</td>\n",
       "      <td>148</td>\n",
       "      <td>1708</td>\n",
       "      <td>41.0</td>\n",
       "      <td>173373.0</td>\n",
       "      <td>0.312452</td>\n",
       "    </tr>\n",
       "    <tr>\n",
       "      <th>4</th>\n",
       "      <td>20007</td>\n",
       "      <td>175</td>\n",
       "      <td>26415</td>\n",
       "      <td>33.2</td>\n",
       "      <td>180698.0</td>\n",
       "      <td>0.233151</td>\n",
       "    </tr>\n",
       "    <tr>\n",
       "      <th>5</th>\n",
       "      <td>20008</td>\n",
       "      <td>14</td>\n",
       "      <td>28261</td>\n",
       "      <td>37.1</td>\n",
       "      <td>164615.0</td>\n",
       "      <td>0.477948</td>\n",
       "    </tr>\n",
       "    <tr>\n",
       "      <th>6</th>\n",
       "      <td>20009</td>\n",
       "      <td>97</td>\n",
       "      <td>51508</td>\n",
       "      <td>32.3</td>\n",
       "      <td>121153.0</td>\n",
       "      <td>0.433303</td>\n",
       "    </tr>\n",
       "    <tr>\n",
       "      <th>7</th>\n",
       "      <td>20010</td>\n",
       "      <td>101</td>\n",
       "      <td>32421</td>\n",
       "      <td>32.0</td>\n",
       "      <td>92937.0</td>\n",
       "      <td>0.504061</td>\n",
       "    </tr>\n",
       "    <tr>\n",
       "      <th>8</th>\n",
       "      <td>20017</td>\n",
       "      <td>41</td>\n",
       "      <td>20371</td>\n",
       "      <td>37.5</td>\n",
       "      <td>81027.0</td>\n",
       "      <td>0.388251</td>\n",
       "    </tr>\n",
       "    <tr>\n",
       "      <th>9</th>\n",
       "      <td>20024</td>\n",
       "      <td>1</td>\n",
       "      <td>12183</td>\n",
       "      <td>38.2</td>\n",
       "      <td>90712.0</td>\n",
       "      <td>0.441809</td>\n",
       "    </tr>\n",
       "    <tr>\n",
       "      <th>10</th>\n",
       "      <td>20036</td>\n",
       "      <td>364</td>\n",
       "      <td>5655</td>\n",
       "      <td>32.7</td>\n",
       "      <td>108420.0</td>\n",
       "      <td>0.363870</td>\n",
       "    </tr>\n",
       "    <tr>\n",
       "      <th>11</th>\n",
       "      <td>20037</td>\n",
       "      <td>98</td>\n",
       "      <td>15285</td>\n",
       "      <td>26.7</td>\n",
       "      <td>137690.0</td>\n",
       "      <td>0.284997</td>\n",
       "    </tr>\n",
       "  </tbody>\n",
       "</table>\n",
       "</div>"
      ],
      "text/plain": [
       "   zip_code  coffeeshop_counts  estimate_total  median_age  mean_income  \\\n",
       "0     20001                942           44998        30.6     106670.0   \n",
       "1     20002                172           59659        34.0      98792.0   \n",
       "2     20003                225           29071        34.8     140336.0   \n",
       "3     20004                148            1708        41.0     173373.0   \n",
       "4     20007                175           26415        33.2     180698.0   \n",
       "5     20008                 14           28261        37.1     164615.0   \n",
       "6     20009                 97           51508        32.3     121153.0   \n",
       "7     20010                101           32421        32.0      92937.0   \n",
       "8     20017                 41           20371        37.5      81027.0   \n",
       "9     20024                  1           12183        38.2      90712.0   \n",
       "10    20036                364            5655        32.7     108420.0   \n",
       "11    20037                 98           15285        26.7     137690.0   \n",
       "\n",
       "    percent_public_transport  \n",
       "0                   0.353349  \n",
       "1                   0.361972  \n",
       "2                   0.401540  \n",
       "3                   0.312452  \n",
       "4                   0.233151  \n",
       "5                   0.477948  \n",
       "6                   0.433303  \n",
       "7                   0.504061  \n",
       "8                   0.388251  \n",
       "9                   0.441809  \n",
       "10                  0.363870  \n",
       "11                  0.284997  "
      ]
     },
     "execution_count": 21,
     "metadata": {},
     "output_type": "execute_result"
    }
   ],
   "source": [
    "checkins_and_zipdata_df"
   ]
  },
  {
   "cell_type": "code",
   "execution_count": 119,
   "metadata": {},
   "outputs": [
    {
     "name": "stdout",
     "output_type": "stream",
     "text": [
      "Baseline RMSE:  243.66125165\n"
     ]
    }
   ],
   "source": [
    "# get mean squared error of baseline\n",
    "import numpy as np\n",
    "\n",
    "actual = checkins_and_zipdata_df.coffeeshop_counts.tolist()\n",
    "checkins_and_zipdata_df['predicted'] = checkins_and_zipdata_df.coffeeshop_counts.mean()\n",
    "predicted = checkins_and_zipdata_df.predicted.tolist()\n",
    "print('Baseline RMSE: ', np.sqrt(metrics.mean_squared_error(actual, predicted)))"
   ]
  },
  {
   "cell_type": "code",
   "execution_count": 120,
   "metadata": {},
   "outputs": [
    {
     "data": {
      "text/plain": [
       "coffeeshop_counts           1.000000\n",
       "estimate_total              0.244147\n",
       "median_age                 -0.362762\n",
       "mean_income                -0.108608\n",
       "percent_public_transport   -0.244719\n",
       "predicted                        NaN\n",
       "Name: coffeeshop_counts, dtype: float64"
      ]
     },
     "execution_count": 120,
     "metadata": {},
     "output_type": "execute_result"
    }
   ],
   "source": [
    "checkins_and_zipdata_df.corr().coffeeshop_counts"
   ]
  },
  {
   "cell_type": "code",
   "execution_count": 121,
   "metadata": {},
   "outputs": [
    {
     "data": {
      "text/plain": [
       "LinearRegression(copy_X=True, fit_intercept=True, n_jobs=1, normalize=False)"
      ]
     },
     "execution_count": 121,
     "metadata": {},
     "output_type": "execute_result"
    }
   ],
   "source": [
    "from sklearn.linear_model import LinearRegression\n",
    "feature_cols = ['median_age', 'percent_public_transport']\n",
    "\n",
    "X = checkins_and_zipdata_df[feature_cols]\n",
    "y = checkins_and_zipdata_df.coffeeshop_counts\n",
    "\n",
    "lr = LinearRegression()\n",
    "lr.fit(X, y)"
   ]
  },
  {
   "cell_type": "code",
   "execution_count": 122,
   "metadata": {
    "scrolled": true
   },
   "outputs": [
    {
     "data": {
      "text/plain": [
       "[('median_age', -21.503951021339549),\n",
       " ('percent_public_transport', -562.59521272186237)]"
      ]
     },
     "execution_count": 122,
     "metadata": {},
     "output_type": "execute_result"
    }
   ],
   "source": [
    "list(zip(feature_cols, lr.coef_))"
   ]
  },
  {
   "cell_type": "code",
   "execution_count": 123,
   "metadata": {},
   "outputs": [
    {
     "name": "stdout",
     "output_type": "stream",
     "text": [
      "[ 211.91765413]\n",
      "[172]\n"
     ]
    }
   ],
   "source": [
    "# compare predicted value of one record to the actual value.\n",
    "print(lr.predict([[34, .361972]]))\n",
    "print(checkins_and_zipdata_df[checkins_and_zipdata_df.zip_code == '20002'].coffeeshop_counts.values)"
   ]
  },
  {
   "cell_type": "code",
   "execution_count": 190,
   "metadata": {},
   "outputs": [
    {
     "name": "stdout",
     "output_type": "stream",
     "text": [
      "RMSE:  117.931658217\n"
     ]
    }
   ],
   "source": [
    "from sklearn.model_selection import train_test_split\n",
    "from sklearn import metrics\n",
    "\n",
    "feature_cols = ['median_age', 'percent_public_transport']\n",
    "\n",
    "X = checkins_and_zipdata_df[feature_cols]\n",
    "y = checkins_and_zipdata_df.coffeeshop_counts\n",
    "\n",
    "X_train, X_test, y_train, y_test = train_test_split(X, y, random_state=1)\n",
    "\n",
    "lr = LinearRegression()\n",
    "lr.fit(X_train, y_train)\n",
    "\n",
    "y_pred = lr.predict(X_test)\n",
    "\n",
    "print('RMSE: ', str(np.sqrt(metrics.mean_squared_error(y_test, y_pred))))"
   ]
  },
  {
   "cell_type": "markdown",
   "metadata": {},
   "source": [
    "#### Hypothesis 2 conclusion\n",
    "- Based on the coefficients and correlations found from the above linear regression model, of the listed features age and public_transport percentage are the most significant factors in coffee shop checkins. The other features do not increase model accuracy. For every additional year on the median age, coffee shop check-ins goes down by 20. Therefor, I should look for the zip code with the lowest median age.\n",
    "- The model is more accurate than the baseline, but it is still very inaccurate due to the very small size of the dataset."
   ]
  },
  {
   "cell_type": "markdown",
   "metadata": {},
   "source": [
    "## Machine Learning Conclusion\n",
    "- Based on the results of the models executed in this section, I am looking for the zip code with the greatest presense of parks and sandwich shops, with the lowest median age."
   ]
  },
  {
   "cell_type": "markdown",
   "metadata": {},
   "source": [
    "<a id=\"conclusion\"></a>"
   ]
  },
  {
   "cell_type": "markdown",
   "metadata": {},
   "source": [
    "## Conclusion\n",
    "- Build new dataframe with zip codes and their relevant characteristics for analysis."
   ]
  },
  {
   "cell_type": "code",
   "execution_count": 23,
   "metadata": {
    "collapsed": true
   },
   "outputs": [],
   "source": [
    "find_best_zip = businesses_df[businesses_df.categories.str.contains('Sandwich')].groupby('zip_code').agg('count').name.reset_index(name=\"sandwich\")\n",
    "find_best_zip = find_best_zip.merge(businesses_df[businesses_df.categories.str.contains('Park')].groupby('zip_code').agg('count').name.reset_index(name=\"park\"))\n",
    "\n",
    "# since the model revealed that these two categories are weighted similarly,\n",
    "# I'll just add them.\n",
    "find_best_zip = find_best_zip.merge(businesses_df[businesses_df.categories.str.contains('Coffee')].groupby('zip_code').agg('count').name.reset_index(name=\"coffee\"))"
   ]
  },
  {
   "cell_type": "code",
   "execution_count": 28,
   "metadata": {},
   "outputs": [
    {
     "data": {
      "text/html": [
       "<div>\n",
       "<style scoped>\n",
       "    .dataframe tbody tr th:only-of-type {\n",
       "        vertical-align: middle;\n",
       "    }\n",
       "\n",
       "    .dataframe tbody tr th {\n",
       "        vertical-align: top;\n",
       "    }\n",
       "\n",
       "    .dataframe thead th {\n",
       "        text-align: right;\n",
       "    }\n",
       "</style>\n",
       "<table border=\"1\" class=\"dataframe\">\n",
       "  <thead>\n",
       "    <tr style=\"text-align: right;\">\n",
       "      <th></th>\n",
       "      <th>zip_code</th>\n",
       "      <th>sandwich</th>\n",
       "      <th>park</th>\n",
       "      <th>coffee</th>\n",
       "    </tr>\n",
       "  </thead>\n",
       "  <tbody>\n",
       "    <tr>\n",
       "      <th>0</th>\n",
       "      <td>20001</td>\n",
       "      <td>54</td>\n",
       "      <td>8</td>\n",
       "      <td>43</td>\n",
       "    </tr>\n",
       "    <tr>\n",
       "      <th>4</th>\n",
       "      <td>20005</td>\n",
       "      <td>36</td>\n",
       "      <td>2</td>\n",
       "      <td>33</td>\n",
       "    </tr>\n",
       "    <tr>\n",
       "      <th>5</th>\n",
       "      <td>20006</td>\n",
       "      <td>34</td>\n",
       "      <td>5</td>\n",
       "      <td>31</td>\n",
       "    </tr>\n",
       "    <tr>\n",
       "      <th>8</th>\n",
       "      <td>20009</td>\n",
       "      <td>30</td>\n",
       "      <td>4</td>\n",
       "      <td>41</td>\n",
       "    </tr>\n",
       "    <tr>\n",
       "      <th>1</th>\n",
       "      <td>20002</td>\n",
       "      <td>28</td>\n",
       "      <td>5</td>\n",
       "      <td>33</td>\n",
       "    </tr>\n",
       "    <tr>\n",
       "      <th>3</th>\n",
       "      <td>20004</td>\n",
       "      <td>23</td>\n",
       "      <td>1</td>\n",
       "      <td>20</td>\n",
       "    </tr>\n",
       "    <tr>\n",
       "      <th>2</th>\n",
       "      <td>20003</td>\n",
       "      <td>22</td>\n",
       "      <td>9</td>\n",
       "      <td>20</td>\n",
       "    </tr>\n",
       "    <tr>\n",
       "      <th>18</th>\n",
       "      <td>20036</td>\n",
       "      <td>21</td>\n",
       "      <td>1</td>\n",
       "      <td>27</td>\n",
       "    </tr>\n",
       "    <tr>\n",
       "      <th>16</th>\n",
       "      <td>20024</td>\n",
       "      <td>21</td>\n",
       "      <td>7</td>\n",
       "      <td>15</td>\n",
       "    </tr>\n",
       "    <tr>\n",
       "      <th>6</th>\n",
       "      <td>20007</td>\n",
       "      <td>18</td>\n",
       "      <td>6</td>\n",
       "      <td>20</td>\n",
       "    </tr>\n",
       "  </tbody>\n",
       "</table>\n",
       "</div>"
      ],
      "text/plain": [
       "   zip_code  sandwich  park  coffee\n",
       "0     20001        54     8      43\n",
       "4     20005        36     2      33\n",
       "5     20006        34     5      31\n",
       "8     20009        30     4      41\n",
       "1     20002        28     5      33\n",
       "3     20004        23     1      20\n",
       "2     20003        22     9      20\n",
       "18    20036        21     1      27\n",
       "16    20024        21     7      15\n",
       "6     20007        18     6      20"
      ]
     },
     "execution_count": 28,
     "metadata": {},
     "output_type": "execute_result"
    }
   ],
   "source": [
    "find_best_zip.sort_values('sandwich', ascending=False).head(10)"
   ]
  },
  {
   "cell_type": "code",
   "execution_count": 29,
   "metadata": {
    "collapsed": true
   },
   "outputs": [],
   "source": [
    "# add the median age\n",
    "find_best_zip = find_best_zip.merge(zipfeatures_df[['zip_code', 'median_age', 'percent_public_transport']])"
   ]
  },
  {
   "cell_type": "code",
   "execution_count": 30,
   "metadata": {},
   "outputs": [
    {
     "data": {
      "text/html": [
       "<div>\n",
       "<style scoped>\n",
       "    .dataframe tbody tr th:only-of-type {\n",
       "        vertical-align: middle;\n",
       "    }\n",
       "\n",
       "    .dataframe tbody tr th {\n",
       "        vertical-align: top;\n",
       "    }\n",
       "\n",
       "    .dataframe thead th {\n",
       "        text-align: right;\n",
       "    }\n",
       "</style>\n",
       "<table border=\"1\" class=\"dataframe\">\n",
       "  <thead>\n",
       "    <tr style=\"text-align: right;\">\n",
       "      <th></th>\n",
       "      <th>zip_code</th>\n",
       "      <th>sandwich</th>\n",
       "      <th>park</th>\n",
       "      <th>coffee</th>\n",
       "      <th>median_age</th>\n",
       "      <th>percent_public_transport</th>\n",
       "    </tr>\n",
       "  </thead>\n",
       "  <tbody>\n",
       "    <tr>\n",
       "      <th>0</th>\n",
       "      <td>20001</td>\n",
       "      <td>54</td>\n",
       "      <td>8</td>\n",
       "      <td>43</td>\n",
       "      <td>30.6</td>\n",
       "      <td>0.353349</td>\n",
       "    </tr>\n",
       "    <tr>\n",
       "      <th>4</th>\n",
       "      <td>20005</td>\n",
       "      <td>36</td>\n",
       "      <td>2</td>\n",
       "      <td>33</td>\n",
       "      <td>33.8</td>\n",
       "      <td>0.264241</td>\n",
       "    </tr>\n",
       "    <tr>\n",
       "      <th>5</th>\n",
       "      <td>20006</td>\n",
       "      <td>34</td>\n",
       "      <td>5</td>\n",
       "      <td>31</td>\n",
       "      <td>20.6</td>\n",
       "      <td>0.287554</td>\n",
       "    </tr>\n",
       "    <tr>\n",
       "      <th>8</th>\n",
       "      <td>20009</td>\n",
       "      <td>30</td>\n",
       "      <td>4</td>\n",
       "      <td>41</td>\n",
       "      <td>32.3</td>\n",
       "      <td>0.433303</td>\n",
       "    </tr>\n",
       "    <tr>\n",
       "      <th>1</th>\n",
       "      <td>20002</td>\n",
       "      <td>28</td>\n",
       "      <td>5</td>\n",
       "      <td>33</td>\n",
       "      <td>34.0</td>\n",
       "      <td>0.361972</td>\n",
       "    </tr>\n",
       "    <tr>\n",
       "      <th>3</th>\n",
       "      <td>20004</td>\n",
       "      <td>23</td>\n",
       "      <td>1</td>\n",
       "      <td>20</td>\n",
       "      <td>41.0</td>\n",
       "      <td>0.312452</td>\n",
       "    </tr>\n",
       "    <tr>\n",
       "      <th>2</th>\n",
       "      <td>20003</td>\n",
       "      <td>22</td>\n",
       "      <td>9</td>\n",
       "      <td>20</td>\n",
       "      <td>34.8</td>\n",
       "      <td>0.401540</td>\n",
       "    </tr>\n",
       "    <tr>\n",
       "      <th>18</th>\n",
       "      <td>20036</td>\n",
       "      <td>21</td>\n",
       "      <td>1</td>\n",
       "      <td>27</td>\n",
       "      <td>32.7</td>\n",
       "      <td>0.363870</td>\n",
       "    </tr>\n",
       "    <tr>\n",
       "      <th>16</th>\n",
       "      <td>20024</td>\n",
       "      <td>21</td>\n",
       "      <td>7</td>\n",
       "      <td>15</td>\n",
       "      <td>38.2</td>\n",
       "      <td>0.441809</td>\n",
       "    </tr>\n",
       "    <tr>\n",
       "      <th>6</th>\n",
       "      <td>20007</td>\n",
       "      <td>18</td>\n",
       "      <td>6</td>\n",
       "      <td>20</td>\n",
       "      <td>33.2</td>\n",
       "      <td>0.233151</td>\n",
       "    </tr>\n",
       "  </tbody>\n",
       "</table>\n",
       "</div>"
      ],
      "text/plain": [
       "   zip_code  sandwich  park  coffee  median_age  percent_public_transport\n",
       "0     20001        54     8      43        30.6                  0.353349\n",
       "4     20005        36     2      33        33.8                  0.264241\n",
       "5     20006        34     5      31        20.6                  0.287554\n",
       "8     20009        30     4      41        32.3                  0.433303\n",
       "1     20002        28     5      33        34.0                  0.361972\n",
       "3     20004        23     1      20        41.0                  0.312452\n",
       "2     20003        22     9      20        34.8                  0.401540\n",
       "18    20036        21     1      27        32.7                  0.363870\n",
       "16    20024        21     7      15        38.2                  0.441809\n",
       "6     20007        18     6      20        33.2                  0.233151"
      ]
     },
     "execution_count": 30,
     "metadata": {},
     "output_type": "execute_result"
    }
   ],
   "source": [
    "find_best_zip.sort_values('sandwich', ascending=False).head(10)"
   ]
  },
  {
   "cell_type": "markdown",
   "metadata": {},
   "source": [
    "It is tempting to go with the 20001 zip code, but we can see that there are already 43 coffee shops in this area, and the median age is significantly higher than the next row down. 20006 has a significant number of parks and sandwich shops, and a relatively low number of coffee shops. It also has the lowest median age on the list. For these reasons, I have selected the 20006 zip code."
   ]
  },
  {
   "cell_type": "code",
   "execution_count": 31,
   "metadata": {
    "collapsed": true
   },
   "outputs": [],
   "source": [
    "businesses_20006zip_df = businesses_df[(businesses_df.categories.str.contains('Coffee')) & \n",
    "              (businesses_df.zip_code.isin(['20006', '20036']))]"
   ]
  },
  {
   "cell_type": "markdown",
   "metadata": {},
   "source": [
    "At this point I ran into an issue that I did not anticipate. There were no suitable properties available in 20006, as far as I could find. That being said, just a few blocks north is 20036. The data above for 20036 is not as ideal, but the median age is still relatively low, and it's close enough to 20006. The percentage of people who use public transportation is also significantly higher. I found several properties in this location, and chose the one denoted with a red mark below."
   ]
  },
  {
   "cell_type": "code",
   "execution_count": 32,
   "metadata": {},
   "outputs": [
    {
     "data": {
      "text/html": [
       "<div style=\"width:100%;\"><div style=\"position:relative;width:100%;height:0;padding-bottom:60%;\"><iframe src=\"data:text/html;charset=utf-8;base64,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\" style=\"position:absolute;width:100%;height:100%;left:0;top:0;border:none !important;\" allowfullscreen webkitallowfullscreen mozallowfullscreen></iframe></div></div>"
      ],
      "text/plain": [
       "<folium.folium.Map at 0x2122f80e748>"
      ]
     },
     "execution_count": 32,
     "metadata": {},
     "output_type": "execute_result"
    }
   ],
   "source": [
    "import folium\n",
    "\n",
    "folium_map = folium.Map(location=[38.904265, -77.041656],\n",
    "                        zoom_start=15)\n",
    "\n",
    "for index, row in businesses_20006zip_df.iterrows():\n",
    "    folium.Marker([row[\"latitude\"], row[\"longitude\"]], popup=folium.Popup(row['name'], parse_html=True)).add_to(folium_map)\n",
    "    \n",
    "folium.Marker([38.9062766, -77.0418966], icon=folium.Icon(color=\"red\"), popup=folium.Popup('Selected Location', parse_html=True)).add_to(folium_map)\n",
    "\n",
    "folium_map"
   ]
  },
  {
   "cell_type": "code",
   "execution_count": 33,
   "metadata": {},
   "outputs": [
    {
     "data": {
      "text/html": [
       "\n",
       "        <iframe\n",
       "            width=\"800\"\n",
       "            height=\"600\"\n",
       "            src=\"./assets/document.pdf\"\n",
       "            frameborder=\"0\"\n",
       "            allowfullscreen\n",
       "        ></iframe>\n",
       "        "
      ],
      "text/plain": [
       "<IPython.lib.display.IFrame at 0x2122f80e470>"
      ]
     },
     "execution_count": 33,
     "metadata": {},
     "output_type": "execute_result"
    }
   ],
   "source": [
    "# here is a flier for the property from the property management company.\n",
    "from IPython.display import IFrame\n",
    "IFrame(\"./assets/document.pdf\", width=800, height=600)"
   ]
  },
  {
   "cell_type": "code",
   "execution_count": null,
   "metadata": {
    "collapsed": true
   },
   "outputs": [],
   "source": []
  }
 ],
 "metadata": {
  "kernelspec": {
   "display_name": "Python 3",
   "language": "python",
   "name": "python3"
  },
  "language_info": {
   "codemirror_mode": {
    "name": "ipython",
    "version": 3
   },
   "file_extension": ".py",
   "mimetype": "text/x-python",
   "name": "python",
   "nbconvert_exporter": "python",
   "pygments_lexer": "ipython3",
   "version": "3.6.5"
  }
 },
 "nbformat": 4,
 "nbformat_minor": 2
}
